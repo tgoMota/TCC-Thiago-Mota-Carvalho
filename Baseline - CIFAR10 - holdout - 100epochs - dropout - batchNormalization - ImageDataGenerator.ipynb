{
 "cells": [
  {
   "cell_type": "code",
   "execution_count": 82,
   "metadata": {
    "id": "on-xhn6xYqDo"
   },
   "outputs": [],
   "source": [
    "import tensorflow as tf\n",
    "from tensorflow import keras\n",
    "import matplotlib.pyplot as plt\n",
    "import os\n",
    "import time"
   ]
  },
  {
   "cell_type": "code",
   "execution_count": 83,
   "metadata": {
    "id": "Zq5nydmlidrt"
   },
   "outputs": [],
   "source": [
    "import cv2\n",
    "import os\n",
    "from tqdm import tqdm\n",
    "import matplotlib.pyplot as plt\n",
    "import numpy as np\n",
    "import glob\n",
    "from tensorflow.keras.preprocessing.image import ImageDataGenerator\n",
    "from tensorflow.keras.applications import *\n",
    "from tensorflow.keras.layers import *\n",
    "from tensorflow.keras.models import *\n",
    "from tensorflow.keras.optimizers import Adam\n",
    "from tensorflow.keras.utils import to_categorical\n",
    "from sklearn.preprocessing import LabelEncoder\n",
    "from sklearn.metrics import *\n",
    "from tensorflow.keras.callbacks import *\n",
    "from keras.optimizers import SGD"
   ]
  },
  {
   "cell_type": "code",
   "execution_count": 84,
   "metadata": {},
   "outputs": [],
   "source": [
    "#CLASS_NAMES= ['healthy', 'mild', 'moderate', 'severe']\n",
    "IMG_HEIGHT = 32\n",
    "IMG_WIDTH = 32\n",
    "CHANNELS = 3\n",
    "NUM_CLASSES = 10"
   ]
  },
  {
   "cell_type": "markdown",
   "metadata": {
    "id": "yfeZvMIEDOwS"
   },
   "source": [
    "# **ResNET**"
   ]
  },
  {
   "cell_type": "code",
   "execution_count": 85,
   "metadata": {
    "id": "98Cf8ZeSEbCU"
   },
   "outputs": [],
   "source": [
    "from sklearn.model_selection import train_test_split"
   ]
  },
  {
   "cell_type": "code",
   "execution_count": 86,
   "metadata": {},
   "outputs": [],
   "source": [
    "#load data\n",
    "(train_x, train_y), (test_x, test_y) = keras.datasets.cifar10.load_data()"
   ]
  },
  {
   "cell_type": "code",
   "execution_count": 87,
   "metadata": {},
   "outputs": [],
   "source": [
    "train_x = train_x.astype('float32')/255.0\n",
    "test_x = test_x.astype('float32')/255.0"
   ]
  },
  {
   "cell_type": "markdown",
   "metadata": {},
   "source": [
    "# **Splitting data in train - validation - test**"
   ]
  },
  {
   "cell_type": "code",
   "execution_count": 88,
   "metadata": {},
   "outputs": [],
   "source": [
    "#train_x, validation_x, train_y, validation_y = train_test_split(train_x, train_y, test_size=0.10, random_state=42)"
   ]
  },
  {
   "cell_type": "code",
   "execution_count": 89,
   "metadata": {},
   "outputs": [],
   "source": [
    "datagen = ImageDataGenerator(width_shift_range=0.1, height_shift_range=0.1, horizontal_flip=True)\n",
    "it_train = datagen.flow(train_x, train_y, batch_size=64)\n",
    "steps = int(train_x.shape[0] / 64)"
   ]
  },
  {
   "cell_type": "code",
   "execution_count": null,
   "metadata": {},
   "outputs": [],
   "source": []
  },
  {
   "cell_type": "code",
   "execution_count": 90,
   "metadata": {},
   "outputs": [
    {
     "name": "stdout",
     "output_type": "stream",
     "text": [
      "train_size =  (50000, 32, 32, 3)\n",
      "test_size =  (10000, 32, 32, 3)\n"
     ]
    }
   ],
   "source": [
    "print(\"train_size = \", train_x.shape)\n",
    "print(\"test_size = \", test_x.shape)\n",
    "#print(\"validation_size = \", validation_x.shape)"
   ]
  },
  {
   "cell_type": "code",
   "execution_count": 91,
   "metadata": {
    "id": "BiIjdq89J1uJ"
   },
   "outputs": [],
   "source": [
    "from tensorflow import keras\n",
    "from tensorflow.keras.models import Sequential\n",
    "from tensorflow.keras.layers import Dense, Activation, Dropout, Flatten, Conv2D, MaxPooling2D\n",
    "from tensorflow.keras.regularizers import l2\n",
    "from tensorflow.keras.regularizers import l1\n",
    "from tensorflow.keras.callbacks import EarlyStopping"
   ]
  },
  {
   "cell_type": "code",
   "execution_count": 92,
   "metadata": {
    "colab": {
     "base_uri": "https://localhost:8080/"
    },
    "id": "j0vHxhMjLyhJ",
    "outputId": "e5ec2803-8f76-4719-e279-27c52eb8d72d"
   },
   "outputs": [],
   "source": [
    "from tensorflow.keras import layers\n",
    "from tensorflow.keras.layers import Input, Add, Dense, Activation, ZeroPadding2D, BatchNormalization, Flatten, Conv2D, AveragePooling2D, MaxPooling2D, GlobalMaxPooling2D\n",
    "from tensorflow.keras.models import Model, load_model\n",
    "from tensorflow.keras.preprocessing import image\n",
    "from IPython.display import SVG\n",
    "import scipy.misc"
   ]
  },
  {
   "cell_type": "code",
   "execution_count": 93,
   "metadata": {},
   "outputs": [],
   "source": [
    "# from tensorflow.keras.applications import EfficientNetB0\n",
    "# from tensorflow.keras.applications import EfficientNetB1\n",
    "# from tensorflow.keras.applications import EfficientNetB2\n",
    "# from tensorflow.keras.applications import EfficientNetB3\n",
    "# from tensorflow.keras.applications import EfficientNetB4\n",
    "# from tensorflow.keras.applications import EfficientNetB5\n",
    "# from tensorflow.keras.applications import EfficientNetB6\n",
    "# from tensorflow.keras.applications import EfficientNetB7\n",
    "# from tensorflow.keras.applications import *"
   ]
  },
  {
   "cell_type": "code",
   "execution_count": 94,
   "metadata": {},
   "outputs": [],
   "source": [
    "import tensorflow.keras.backend as K\n",
    "# K.set_image_data_format('channels_last')\n",
    "# K.set_learning_phase(1)"
   ]
  },
  {
   "cell_type": "code",
   "execution_count": 95,
   "metadata": {},
   "outputs": [],
   "source": [
    "# model = tf.keras.applications.ResNet50(\n",
    "#     include_top=False,\n",
    "#     weights=\"imagenet\",\n",
    "#     input_tensor=None,\n",
    "#     input_shape=(IMG_HEIGHT,IMG_WIDTH,CHANNELS),\n",
    "#     pooling=None,\n",
    "#     classes=NUM_CLASSES,\n",
    "#    # classifier_activation=\"softmax\",\n",
    "# #    **kwargs\n",
    "# )"
   ]
  },
  {
   "cell_type": "code",
   "execution_count": 96,
   "metadata": {},
   "outputs": [
    {
     "name": "stderr",
     "output_type": "stream",
     "text": [
      "C:\\Users\\tmcle\\.conda\\envs\\tf\\lib\\site-packages\\keras\\optimizers\\optimizer_v2\\gradient_descent.py:111: UserWarning: The `lr` argument is deprecated, use `learning_rate` instead.\n",
      "  super().__init__(name, **kwargs)\n"
     ]
    }
   ],
   "source": [
    "from tensorflow.keras import models\n",
    "from tensorflow.keras import layers\n",
    "\n",
    "model = Sequential()\n",
    "model.add(Conv2D(32, (3, 3), activation='relu', kernel_initializer='he_uniform', padding='same', input_shape=(32, 32, 3)))\n",
    "model.add(BatchNormalization())\n",
    "model.add(Conv2D(32, (3, 3), activation='relu', kernel_initializer='he_uniform', padding='same'))\n",
    "model.add(BatchNormalization())\n",
    "model.add(MaxPooling2D((2, 2)))\n",
    "model.add(Dropout(0.2))\n",
    "model.add(Conv2D(64, (3, 3), activation='relu', kernel_initializer='he_uniform', padding='same'))\n",
    "model.add(BatchNormalization())\n",
    "model.add(Conv2D(64, (3, 3), activation='relu', kernel_initializer='he_uniform', padding='same'))\n",
    "model.add(BatchNormalization())\n",
    "model.add(MaxPooling2D((2, 2)))\n",
    "model.add(Dropout(0.3))\n",
    "model.add(Conv2D(128, (3, 3), activation='relu', kernel_initializer='he_uniform', padding='same'))\n",
    "model.add(BatchNormalization())\n",
    "model.add(Conv2D(128, (3, 3), activation='relu', kernel_initializer='he_uniform', padding='same'))\n",
    "model.add(BatchNormalization())\n",
    "model.add(MaxPooling2D((2, 2)))\n",
    "model.add(Dropout(0.4))\n",
    "model.add(Flatten())\n",
    "model.add(Dense(128, activation='relu', kernel_initializer='he_uniform'))\n",
    "model.add(BatchNormalization())\n",
    "model.add(Dropout(0.5))\n",
    "model.add(Dense(10, activation='softmax'))\n",
    "opt = SGD(lr=0.001, momentum=0.9)\n",
    "model.compile(optimizer=opt, loss='sparse_categorical_crossentropy', metrics=['accuracy'])\n"
   ]
  },
  {
   "cell_type": "code",
   "execution_count": 97,
   "metadata": {},
   "outputs": [
    {
     "name": "stdout",
     "output_type": "stream",
     "text": [
      "Model: \"sequential_4\"\n",
      "_________________________________________________________________\n",
      " Layer (type)                Output Shape              Param #   \n",
      "=================================================================\n",
      " conv2d_19 (Conv2D)          (None, 32, 32, 32)        896       \n",
      "                                                                 \n",
      " batch_normalization_22 (Bat  (None, 32, 32, 32)       128       \n",
      " chNormalization)                                                \n",
      "                                                                 \n",
      " conv2d_20 (Conv2D)          (None, 32, 32, 32)        9248      \n",
      "                                                                 \n",
      " batch_normalization_23 (Bat  (None, 32, 32, 32)       128       \n",
      " chNormalization)                                                \n",
      "                                                                 \n",
      " max_pooling2d_10 (MaxPoolin  (None, 16, 16, 32)       0         \n",
      " g2D)                                                            \n",
      "                                                                 \n",
      " dropout_12 (Dropout)        (None, 16, 16, 32)        0         \n",
      "                                                                 \n",
      " conv2d_21 (Conv2D)          (None, 16, 16, 64)        18496     \n",
      "                                                                 \n",
      " batch_normalization_24 (Bat  (None, 16, 16, 64)       256       \n",
      " chNormalization)                                                \n",
      "                                                                 \n",
      " conv2d_22 (Conv2D)          (None, 16, 16, 64)        36928     \n",
      "                                                                 \n",
      " batch_normalization_25 (Bat  (None, 16, 16, 64)       256       \n",
      " chNormalization)                                                \n",
      "                                                                 \n",
      " max_pooling2d_11 (MaxPoolin  (None, 8, 8, 64)         0         \n",
      " g2D)                                                            \n",
      "                                                                 \n",
      " dropout_13 (Dropout)        (None, 8, 8, 64)          0         \n",
      "                                                                 \n",
      " conv2d_23 (Conv2D)          (None, 8, 8, 128)         73856     \n",
      "                                                                 \n",
      " batch_normalization_26 (Bat  (None, 8, 8, 128)        512       \n",
      " chNormalization)                                                \n",
      "                                                                 \n",
      " conv2d_24 (Conv2D)          (None, 8, 8, 128)         147584    \n",
      "                                                                 \n",
      " batch_normalization_27 (Bat  (None, 8, 8, 128)        512       \n",
      " chNormalization)                                                \n",
      "                                                                 \n",
      " max_pooling2d_12 (MaxPoolin  (None, 4, 4, 128)        0         \n",
      " g2D)                                                            \n",
      "                                                                 \n",
      " dropout_14 (Dropout)        (None, 4, 4, 128)         0         \n",
      "                                                                 \n",
      " flatten_3 (Flatten)         (None, 2048)              0         \n",
      "                                                                 \n",
      " dense_6 (Dense)             (None, 128)               262272    \n",
      "                                                                 \n",
      " batch_normalization_28 (Bat  (None, 128)              512       \n",
      " chNormalization)                                                \n",
      "                                                                 \n",
      " dropout_15 (Dropout)        (None, 128)               0         \n",
      "                                                                 \n",
      " dense_7 (Dense)             (None, 10)                1290      \n",
      "                                                                 \n",
      "=================================================================\n",
      "Total params: 552,874\n",
      "Trainable params: 551,722\n",
      "Non-trainable params: 1,152\n",
      "_________________________________________________________________\n"
     ]
    }
   ],
   "source": [
    "model.summary()"
   ]
  },
  {
   "cell_type": "code",
   "execution_count": 98,
   "metadata": {},
   "outputs": [
    {
     "name": "stdout",
     "output_type": "stream",
     "text": [
      "Epoch 1/100\n",
      "781/781 [==============================] - 24s 29ms/step - loss: 2.1123 - accuracy: 0.0882 - val_loss: 1.5503 - val_accuracy: 0.0456\n",
      "Epoch 2/100\n",
      "781/781 [==============================] - 23s 30ms/step - loss: 1.5992 - accuracy: 0.0865 - val_loss: 1.4847 - val_accuracy: 0.0435\n",
      "Epoch 3/100\n",
      "781/781 [==============================] - 22s 29ms/step - loss: 1.4805 - accuracy: 0.0921 - val_loss: 1.4528 - val_accuracy: 0.0513\n",
      "Epoch 4/100\n",
      "781/781 [==============================] - 23s 30ms/step - loss: 1.4056 - accuracy: 0.0924 - val_loss: 1.5068 - val_accuracy: 0.0364\n",
      "Epoch 5/100\n",
      "781/781 [==============================] - 23s 29ms/step - loss: 1.3434 - accuracy: 0.0952 - val_loss: 1.4668 - val_accuracy: 0.0524\n",
      "Epoch 6/100\n",
      "781/781 [==============================] - 23s 29ms/step - loss: 1.2924 - accuracy: 0.0949 - val_loss: 1.4034 - val_accuracy: 0.0303\n",
      "Epoch 7/100\n",
      "781/781 [==============================] - 23s 29ms/step - loss: 1.2412 - accuracy: 0.0975 - val_loss: 1.2434 - val_accuracy: 0.0453\n",
      "Epoch 8/100\n",
      "781/781 [==============================] - 23s 29ms/step - loss: 1.2018 - accuracy: 0.0975 - val_loss: 1.1851 - val_accuracy: 0.0553\n",
      "Epoch 9/100\n",
      "781/781 [==============================] - 22s 28ms/step - loss: 1.1706 - accuracy: 0.0989 - val_loss: 1.2231 - val_accuracy: 0.0543\n",
      "Epoch 10/100\n",
      "781/781 [==============================] - 22s 28ms/step - loss: 1.1396 - accuracy: 0.0980 - val_loss: 1.3174 - val_accuracy: 0.0294\n",
      "Epoch 11/100\n",
      "781/781 [==============================] - 22s 28ms/step - loss: 1.1067 - accuracy: 0.0981 - val_loss: 1.0275 - val_accuracy: 0.0697\n",
      "Epoch 12/100\n",
      "781/781 [==============================] - 24s 30ms/step - loss: 1.0798 - accuracy: 0.0989 - val_loss: 1.1555 - val_accuracy: 0.0612\n",
      "Epoch 13/100\n",
      "781/781 [==============================] - 23s 30ms/step - loss: 1.0588 - accuracy: 0.0989 - val_loss: 1.2325 - val_accuracy: 0.0581\n",
      "Epoch 14/100\n",
      "781/781 [==============================] - 22s 29ms/step - loss: 1.0290 - accuracy: 0.0995 - val_loss: 1.0459 - val_accuracy: 0.0664\n",
      "Epoch 15/100\n",
      "781/781 [==============================] - 23s 30ms/step - loss: 1.0145 - accuracy: 0.0994 - val_loss: 1.0751 - val_accuracy: 0.0555\n",
      "Epoch 16/100\n",
      "781/781 [==============================] - 23s 29ms/step - loss: 0.9985 - accuracy: 0.1004 - val_loss: 0.9200 - val_accuracy: 0.0784\n",
      "Epoch 17/100\n",
      "781/781 [==============================] - 23s 29ms/step - loss: 0.9837 - accuracy: 0.0990 - val_loss: 0.9634 - val_accuracy: 0.0686\n",
      "Epoch 18/100\n",
      "781/781 [==============================] - 22s 28ms/step - loss: 0.9634 - accuracy: 0.1008 - val_loss: 0.9050 - val_accuracy: 0.0676\n",
      "Epoch 19/100\n",
      "781/781 [==============================] - 22s 29ms/step - loss: 0.9481 - accuracy: 0.1005 - val_loss: 0.9864 - val_accuracy: 0.0407\n",
      "Epoch 20/100\n",
      "781/781 [==============================] - 23s 29ms/step - loss: 0.9296 - accuracy: 0.1009 - val_loss: 0.8936 - val_accuracy: 0.0814\n",
      "Epoch 21/100\n",
      "781/781 [==============================] - 23s 29ms/step - loss: 0.9149 - accuracy: 0.1010 - val_loss: 0.8983 - val_accuracy: 0.0792\n",
      "Epoch 22/100\n",
      "781/781 [==============================] - 23s 29ms/step - loss: 0.9103 - accuracy: 0.1009 - val_loss: 0.9677 - val_accuracy: 0.0664\n",
      "Epoch 23/100\n",
      "781/781 [==============================] - 23s 29ms/step - loss: 0.8959 - accuracy: 0.1009 - val_loss: 0.8316 - val_accuracy: 0.0802\n",
      "Epoch 24/100\n",
      "781/781 [==============================] - 23s 29ms/step - loss: 0.8883 - accuracy: 0.1004 - val_loss: 0.8731 - val_accuracy: 0.0792\n",
      "Epoch 25/100\n",
      "781/781 [==============================] - 23s 30ms/step - loss: 0.8725 - accuracy: 0.1009 - val_loss: 0.8809 - val_accuracy: 0.0822\n",
      "Epoch 26/100\n",
      "781/781 [==============================] - 22s 29ms/step - loss: 0.8661 - accuracy: 0.1009 - val_loss: 0.8260 - val_accuracy: 0.0889\n",
      "Epoch 27/100\n",
      "781/781 [==============================] - 22s 29ms/step - loss: 0.8537 - accuracy: 0.1019 - val_loss: 0.8710 - val_accuracy: 0.0842\n",
      "Epoch 28/100\n",
      "781/781 [==============================] - 23s 29ms/step - loss: 0.8429 - accuracy: 0.1006 - val_loss: 0.8386 - val_accuracy: 0.0706\n",
      "Epoch 29/100\n",
      "781/781 [==============================] - 23s 30ms/step - loss: 0.8431 - accuracy: 0.1020 - val_loss: 0.8589 - val_accuracy: 0.0731\n",
      "Epoch 30/100\n",
      "781/781 [==============================] - 22s 29ms/step - loss: 0.8257 - accuracy: 0.1024 - val_loss: 0.7462 - val_accuracy: 0.0826\n",
      "Epoch 31/100\n",
      "781/781 [==============================] - 22s 29ms/step - loss: 0.8211 - accuracy: 0.1003 - val_loss: 0.8097 - val_accuracy: 0.0889\n",
      "Epoch 32/100\n",
      "781/781 [==============================] - 23s 30ms/step - loss: 0.8071 - accuracy: 0.1013 - val_loss: 0.7408 - val_accuracy: 0.0951\n",
      "Epoch 33/100\n",
      "781/781 [==============================] - 23s 30ms/step - loss: 0.8038 - accuracy: 0.1008 - val_loss: 0.8049 - val_accuracy: 0.0785\n",
      "Epoch 34/100\n",
      "781/781 [==============================] - 24s 30ms/step - loss: 0.7926 - accuracy: 0.1008 - val_loss: 0.8048 - val_accuracy: 0.0861\n",
      "Epoch 35/100\n",
      "781/781 [==============================] - 23s 30ms/step - loss: 0.7876 - accuracy: 0.1009 - val_loss: 0.7075 - val_accuracy: 0.0998\n",
      "Epoch 36/100\n",
      "781/781 [==============================] - 23s 29ms/step - loss: 0.7859 - accuracy: 0.1013 - val_loss: 0.8074 - val_accuracy: 0.0804\n",
      "Epoch 37/100\n",
      "781/781 [==============================] - 23s 30ms/step - loss: 0.7787 - accuracy: 0.1016 - val_loss: 0.7591 - val_accuracy: 0.0978\n",
      "Epoch 38/100\n",
      "781/781 [==============================] - 22s 29ms/step - loss: 0.7696 - accuracy: 0.1017 - val_loss: 0.8558 - val_accuracy: 0.0830\n",
      "Epoch 39/100\n",
      "781/781 [==============================] - 23s 29ms/step - loss: 0.7628 - accuracy: 0.1023 - val_loss: 0.7697 - val_accuracy: 0.0789\n",
      "Epoch 40/100\n",
      "781/781 [==============================] - 23s 30ms/step - loss: 0.7495 - accuracy: 0.1026 - val_loss: 0.6876 - val_accuracy: 0.0849\n",
      "Epoch 41/100\n",
      "781/781 [==============================] - 23s 29ms/step - loss: 0.7528 - accuracy: 0.1010 - val_loss: 0.7472 - val_accuracy: 0.0801\n",
      "Epoch 42/100\n",
      "781/781 [==============================] - 22s 29ms/step - loss: 0.7404 - accuracy: 0.1022 - val_loss: 0.8108 - val_accuracy: 0.0847\n",
      "Epoch 43/100\n",
      "781/781 [==============================] - 22s 29ms/step - loss: 0.7359 - accuracy: 0.1021 - val_loss: 0.7231 - val_accuracy: 0.0912\n",
      "Epoch 44/100\n",
      "781/781 [==============================] - 23s 30ms/step - loss: 0.7306 - accuracy: 0.1020 - val_loss: 0.7847 - val_accuracy: 0.0660\n",
      "Epoch 45/100\n",
      "781/781 [==============================] - 23s 30ms/step - loss: 0.7228 - accuracy: 0.1011 - val_loss: 0.6609 - val_accuracy: 0.0971\n",
      "Epoch 46/100\n",
      "781/781 [==============================] - 22s 29ms/step - loss: 0.7195 - accuracy: 0.1015 - val_loss: 0.6874 - val_accuracy: 0.0895\n",
      "Epoch 47/100\n",
      "781/781 [==============================] - 22s 28ms/step - loss: 0.7145 - accuracy: 0.1022 - val_loss: 0.7116 - val_accuracy: 0.1000\n",
      "Epoch 48/100\n",
      "781/781 [==============================] - 23s 30ms/step - loss: 0.7091 - accuracy: 0.1018 - val_loss: 0.6696 - val_accuracy: 0.0931\n",
      "Epoch 49/100\n",
      "781/781 [==============================] - 23s 30ms/step - loss: 0.7021 - accuracy: 0.1011 - val_loss: 0.6445 - val_accuracy: 0.0906\n",
      "Epoch 50/100\n",
      "781/781 [==============================] - 22s 29ms/step - loss: 0.7005 - accuracy: 0.1018 - val_loss: 0.6556 - val_accuracy: 0.0900\n",
      "Epoch 51/100\n",
      "781/781 [==============================] - 22s 29ms/step - loss: 0.6975 - accuracy: 0.1018 - val_loss: 0.6829 - val_accuracy: 0.0933\n",
      "Epoch 52/100\n",
      "781/781 [==============================] - 23s 30ms/step - loss: 0.6862 - accuracy: 0.1024 - val_loss: 0.6631 - val_accuracy: 0.0894\n",
      "Epoch 53/100\n",
      "781/781 [==============================] - 23s 30ms/step - loss: 0.6799 - accuracy: 0.1013 - val_loss: 0.8286 - val_accuracy: 0.0912\n",
      "Epoch 54/100\n",
      "781/781 [==============================] - 22s 29ms/step - loss: 0.6728 - accuracy: 0.1022 - val_loss: 0.6701 - val_accuracy: 0.0812\n",
      "Epoch 55/100\n",
      "781/781 [==============================] - 22s 29ms/step - loss: 0.6764 - accuracy: 0.1004 - val_loss: 0.6292 - val_accuracy: 0.0936\n",
      "Epoch 56/100\n",
      "781/781 [==============================] - 23s 29ms/step - loss: 0.6633 - accuracy: 0.1008 - val_loss: 0.6479 - val_accuracy: 0.0886\n",
      "Epoch 57/100\n"
     ]
    },
    {
     "name": "stdout",
     "output_type": "stream",
     "text": [
      "781/781 [==============================] - 23s 30ms/step - loss: 0.6650 - accuracy: 0.1015 - val_loss: 0.6134 - val_accuracy: 0.0893\n",
      "Epoch 58/100\n",
      "781/781 [==============================] - 22s 29ms/step - loss: 0.6663 - accuracy: 0.1017 - val_loss: 0.6429 - val_accuracy: 0.0859\n",
      "Epoch 59/100\n",
      "781/781 [==============================] - 22s 29ms/step - loss: 0.6576 - accuracy: 0.1020 - val_loss: 0.6504 - val_accuracy: 0.1028\n",
      "Epoch 60/100\n",
      "781/781 [==============================] - 23s 30ms/step - loss: 0.6548 - accuracy: 0.1016 - val_loss: 0.5834 - val_accuracy: 0.0968\n",
      "Epoch 61/100\n",
      "781/781 [==============================] - 23s 29ms/step - loss: 0.6512 - accuracy: 0.1019 - val_loss: 0.5884 - val_accuracy: 0.0916\n",
      "Epoch 62/100\n",
      "781/781 [==============================] - 22s 29ms/step - loss: 0.6487 - accuracy: 0.1022 - val_loss: 0.6700 - val_accuracy: 0.0878\n",
      "Epoch 63/100\n",
      "781/781 [==============================] - 22s 29ms/step - loss: 0.6428 - accuracy: 0.1017 - val_loss: 0.5854 - val_accuracy: 0.0873\n",
      "Epoch 64/100\n",
      "781/781 [==============================] - 23s 30ms/step - loss: 0.6351 - accuracy: 0.1022 - val_loss: 0.6584 - val_accuracy: 0.0865\n",
      "Epoch 65/100\n",
      "781/781 [==============================] - 23s 30ms/step - loss: 0.6335 - accuracy: 0.1019 - val_loss: 0.6280 - val_accuracy: 0.1004\n",
      "Epoch 66/100\n",
      "781/781 [==============================] - 23s 30ms/step - loss: 0.6199 - accuracy: 0.1017 - val_loss: 0.6017 - val_accuracy: 0.0909\n",
      "Epoch 67/100\n",
      "781/781 [==============================] - 23s 29ms/step - loss: 0.6227 - accuracy: 0.1020 - val_loss: 0.5857 - val_accuracy: 0.0993\n",
      "Epoch 68/100\n",
      "781/781 [==============================] - 23s 30ms/step - loss: 0.6229 - accuracy: 0.1017 - val_loss: 0.5633 - val_accuracy: 0.1014\n",
      "Epoch 69/100\n",
      "781/781 [==============================] - 23s 30ms/step - loss: 0.6166 - accuracy: 0.1011 - val_loss: 0.5451 - val_accuracy: 0.0977\n",
      "Epoch 70/100\n",
      "781/781 [==============================] - 22s 29ms/step - loss: 0.6181 - accuracy: 0.1023 - val_loss: 0.5708 - val_accuracy: 0.0948\n",
      "Epoch 71/100\n",
      "781/781 [==============================] - 23s 29ms/step - loss: 0.6115 - accuracy: 0.1016 - val_loss: 0.6498 - val_accuracy: 0.0862\n",
      "Epoch 72/100\n",
      "781/781 [==============================] - 23s 29ms/step - loss: 0.6054 - accuracy: 0.1017 - val_loss: 0.5986 - val_accuracy: 0.0985\n",
      "Epoch 73/100\n",
      "781/781 [==============================] - 23s 30ms/step - loss: 0.6039 - accuracy: 0.1020 - val_loss: 0.5910 - val_accuracy: 0.0913\n",
      "Epoch 74/100\n",
      "781/781 [==============================] - 22s 29ms/step - loss: 0.5997 - accuracy: 0.1021 - val_loss: 0.5479 - val_accuracy: 0.0920\n",
      "Epoch 75/100\n",
      "781/781 [==============================] - 22s 29ms/step - loss: 0.6004 - accuracy: 0.1009 - val_loss: 0.5953 - val_accuracy: 0.0980\n",
      "Epoch 76/100\n",
      "781/781 [==============================] - 23s 30ms/step - loss: 0.5939 - accuracy: 0.1017 - val_loss: 0.6067 - val_accuracy: 0.0955\n",
      "Epoch 77/100\n",
      "781/781 [==============================] - 23s 30ms/step - loss: 0.5938 - accuracy: 0.1021 - val_loss: 0.6166 - val_accuracy: 0.0938\n",
      "Epoch 78/100\n",
      "781/781 [==============================] - 23s 30ms/step - loss: 0.5914 - accuracy: 0.1019 - val_loss: 0.5395 - val_accuracy: 0.0951\n",
      "Epoch 79/100\n",
      "781/781 [==============================] - 22s 29ms/step - loss: 0.5868 - accuracy: 0.1016 - val_loss: 0.5480 - val_accuracy: 0.0995\n",
      "Epoch 80/100\n",
      "781/781 [==============================] - 23s 30ms/step - loss: 0.5804 - accuracy: 0.1011 - val_loss: 0.5216 - val_accuracy: 0.0949\n",
      "Epoch 81/100\n",
      "781/781 [==============================] - 23s 30ms/step - loss: 0.5792 - accuracy: 0.1016 - val_loss: 0.5519 - val_accuracy: 0.0958\n",
      "Epoch 82/100\n",
      "781/781 [==============================] - 22s 29ms/step - loss: 0.5732 - accuracy: 0.1019 - val_loss: 0.5377 - val_accuracy: 0.1025\n",
      "Epoch 83/100\n",
      "781/781 [==============================] - 22s 29ms/step - loss: 0.5785 - accuracy: 0.1024 - val_loss: 0.5134 - val_accuracy: 0.0935\n",
      "Epoch 84/100\n",
      "781/781 [==============================] - 23s 30ms/step - loss: 0.5676 - accuracy: 0.1017 - val_loss: 0.5505 - val_accuracy: 0.0933\n",
      "Epoch 85/100\n",
      "781/781 [==============================] - 23s 29ms/step - loss: 0.5741 - accuracy: 0.1013 - val_loss: 0.4936 - val_accuracy: 0.0972\n",
      "Epoch 86/100\n",
      "781/781 [==============================] - 22s 29ms/step - loss: 0.5646 - accuracy: 0.1017 - val_loss: 0.5502 - val_accuracy: 0.0911\n",
      "Epoch 87/100\n",
      "781/781 [==============================] - 23s 29ms/step - loss: 0.5664 - accuracy: 0.1008 - val_loss: 0.5488 - val_accuracy: 0.0911\n",
      "Epoch 88/100\n",
      "781/781 [==============================] - 23s 30ms/step - loss: 0.5572 - accuracy: 0.1018 - val_loss: 0.5358 - val_accuracy: 0.0976\n",
      "Epoch 89/100\n",
      "781/781 [==============================] - 23s 30ms/step - loss: 0.5624 - accuracy: 0.1020 - val_loss: 0.5225 - val_accuracy: 0.0940\n",
      "Epoch 90/100\n",
      "781/781 [==============================] - 23s 29ms/step - loss: 0.5550 - accuracy: 0.1020 - val_loss: 0.5648 - val_accuracy: 0.0984\n",
      "Epoch 91/100\n",
      "781/781 [==============================] - 22s 29ms/step - loss: 0.5557 - accuracy: 0.1018 - val_loss: 0.5065 - val_accuracy: 0.0911\n",
      "Epoch 92/100\n",
      "781/781 [==============================] - 23s 29ms/step - loss: 0.5502 - accuracy: 0.1023 - val_loss: 0.5096 - val_accuracy: 0.0950\n",
      "Epoch 93/100\n",
      "781/781 [==============================] - 23s 29ms/step - loss: 0.5484 - accuracy: 0.1016 - val_loss: 0.4959 - val_accuracy: 0.0949\n",
      "Epoch 94/100\n",
      "781/781 [==============================] - 22s 28ms/step - loss: 0.5495 - accuracy: 0.1014 - val_loss: 0.5059 - val_accuracy: 0.1015\n",
      "Epoch 95/100\n",
      "781/781 [==============================] - 23s 29ms/step - loss: 0.5467 - accuracy: 0.1023 - val_loss: 0.5114 - val_accuracy: 0.0941\n",
      "Epoch 96/100\n",
      "781/781 [==============================] - 23s 30ms/step - loss: 0.5412 - accuracy: 0.1018 - val_loss: 0.4752 - val_accuracy: 0.0943\n",
      "Epoch 97/100\n",
      "781/781 [==============================] - 23s 30ms/step - loss: 0.5424 - accuracy: 0.1023 - val_loss: 0.5101 - val_accuracy: 0.0936\n",
      "Epoch 98/100\n",
      "781/781 [==============================] - 22s 29ms/step - loss: 0.5371 - accuracy: 0.1014 - val_loss: 0.5121 - val_accuracy: 0.0937\n",
      "Epoch 99/100\n",
      "781/781 [==============================] - 22s 29ms/step - loss: 0.5424 - accuracy: 0.1027 - val_loss: 0.5218 - val_accuracy: 0.0957\n",
      "Epoch 100/100\n",
      "781/781 [==============================] - 23s 30ms/step - loss: 0.5331 - accuracy: 0.1023 - val_loss: 0.5037 - val_accuracy: 0.0983\n"
     ]
    }
   ],
   "source": [
    "epochs = 100\n",
    "\n",
    "#compila e treina o modelo com os dados carregados\n",
    "#new_model.compile(loss='sparse_categorical_crossentropy', metrics=['acc'], optimizer=adam)\n",
    "model_trained = model.fit(it_train, steps_per_epoch=steps, epochs=epochs, validation_data=(test_x, test_y), verbose=1)\n",
    "#model_trained = new_model.fit(train_x, train_y,epochs=epochs,verbose=1,validation_data=(validation_x, validation_y),shuffle=False)"
   ]
  },
  {
   "cell_type": "code",
   "execution_count": 99,
   "metadata": {},
   "outputs": [
    {
     "name": "stdout",
     "output_type": "stream",
     "text": [
      "Model: \"sequential_4\"\n",
      "_________________________________________________________________\n",
      " Layer (type)                Output Shape              Param #   \n",
      "=================================================================\n",
      " conv2d_19 (Conv2D)          (None, 32, 32, 32)        896       \n",
      "                                                                 \n",
      " batch_normalization_22 (Bat  (None, 32, 32, 32)       128       \n",
      " chNormalization)                                                \n",
      "                                                                 \n",
      " conv2d_20 (Conv2D)          (None, 32, 32, 32)        9248      \n",
      "                                                                 \n",
      " batch_normalization_23 (Bat  (None, 32, 32, 32)       128       \n",
      " chNormalization)                                                \n",
      "                                                                 \n",
      " max_pooling2d_10 (MaxPoolin  (None, 16, 16, 32)       0         \n",
      " g2D)                                                            \n",
      "                                                                 \n",
      " dropout_12 (Dropout)        (None, 16, 16, 32)        0         \n",
      "                                                                 \n",
      " conv2d_21 (Conv2D)          (None, 16, 16, 64)        18496     \n",
      "                                                                 \n",
      " batch_normalization_24 (Bat  (None, 16, 16, 64)       256       \n",
      " chNormalization)                                                \n",
      "                                                                 \n",
      " conv2d_22 (Conv2D)          (None, 16, 16, 64)        36928     \n",
      "                                                                 \n",
      " batch_normalization_25 (Bat  (None, 16, 16, 64)       256       \n",
      " chNormalization)                                                \n",
      "                                                                 \n",
      " max_pooling2d_11 (MaxPoolin  (None, 8, 8, 64)         0         \n",
      " g2D)                                                            \n",
      "                                                                 \n",
      " dropout_13 (Dropout)        (None, 8, 8, 64)          0         \n",
      "                                                                 \n",
      " conv2d_23 (Conv2D)          (None, 8, 8, 128)         73856     \n",
      "                                                                 \n",
      " batch_normalization_26 (Bat  (None, 8, 8, 128)        512       \n",
      " chNormalization)                                                \n",
      "                                                                 \n",
      " conv2d_24 (Conv2D)          (None, 8, 8, 128)         147584    \n",
      "                                                                 \n",
      " batch_normalization_27 (Bat  (None, 8, 8, 128)        512       \n",
      " chNormalization)                                                \n",
      "                                                                 \n",
      " max_pooling2d_12 (MaxPoolin  (None, 4, 4, 128)        0         \n",
      " g2D)                                                            \n",
      "                                                                 \n",
      " dropout_14 (Dropout)        (None, 4, 4, 128)         0         \n",
      "                                                                 \n",
      " flatten_3 (Flatten)         (None, 2048)              0         \n",
      "                                                                 \n",
      " dense_6 (Dense)             (None, 128)               262272    \n",
      "                                                                 \n",
      " batch_normalization_28 (Bat  (None, 128)              512       \n",
      " chNormalization)                                                \n",
      "                                                                 \n",
      " dropout_15 (Dropout)        (None, 128)               0         \n",
      "                                                                 \n",
      " dense_7 (Dense)             (None, 10)                1290      \n",
      "                                                                 \n",
      "=================================================================\n",
      "Total params: 552,874\n",
      "Trainable params: 551,722\n",
      "Non-trainable params: 1,152\n",
      "_________________________________________________________________\n"
     ]
    }
   ],
   "source": [
    "model.summary()"
   ]
  },
  {
   "cell_type": "code",
   "execution_count": 100,
   "metadata": {},
   "outputs": [],
   "source": [
    "def getLayerIndexByName(model, layername):\n",
    "    for idx, layer in enumerate(model.layers):\n",
    "        if layer.name == layername:\n",
    "            return idx"
   ]
  },
  {
   "cell_type": "code",
   "execution_count": 101,
   "metadata": {},
   "outputs": [
    {
     "name": "stdout",
     "output_type": "stream",
     "text": [
      "None\n"
     ]
    }
   ],
   "source": [
    "print(getLayerIndexByName(model, 'flatten_1')) #just used to get the index of flatten layer"
   ]
  },
  {
   "cell_type": "code",
   "execution_count": 102,
   "metadata": {},
   "outputs": [
    {
     "name": "stderr",
     "output_type": "stream",
     "text": [
      "WARNING:absl:Found untraced functions such as _jit_compiled_convolution_op, _jit_compiled_convolution_op, _jit_compiled_convolution_op, _jit_compiled_convolution_op, _jit_compiled_convolution_op while saving (showing 5 of 6). These functions will not be directly callable after loading.\n"
     ]
    },
    {
     "name": "stdout",
     "output_type": "stream",
     "text": [
      "INFO:tensorflow:Assets written to: cifat10-resnet50-baseline-holdout-100epochs_normalized.npy\\assets\n"
     ]
    },
    {
     "name": "stderr",
     "output_type": "stream",
     "text": [
      "INFO:tensorflow:Assets written to: cifat10-resnet50-baseline-holdout-100epochs_normalized.npy\\assets\n"
     ]
    }
   ],
   "source": [
    "model_name = f'cifat10-resnet50-baseline-holdout-{epochs}epochs_normalized.npy'\n",
    "model.save(model_name)"
   ]
  },
  {
   "cell_type": "markdown",
   "metadata": {},
   "source": [
    "# **Random Forest - flatting**"
   ]
  },
  {
   "cell_type": "code",
   "execution_count": 103,
   "metadata": {},
   "outputs": [
    {
     "name": "stdout",
     "output_type": "stream",
     "text": [
      "1563/1563 [==============================] - 5s 3ms/step\n"
     ]
    }
   ],
   "source": [
    "new_model_rf = keras.Model(inputs=model.input, outputs=model.get_layer(index=18).output)\n",
    "featureVector = new_model_rf.predict(train_x)"
   ]
  },
  {
   "cell_type": "code",
   "execution_count": 104,
   "metadata": {},
   "outputs": [
    {
     "name": "stdout",
     "output_type": "stream",
     "text": [
      "313/313 [==============================] - 1s 3ms/step\n"
     ]
    }
   ],
   "source": [
    "featureVector2 = new_model_rf.predict(test_x)"
   ]
  },
  {
   "cell_type": "code",
   "execution_count": 105,
   "metadata": {},
   "outputs": [
    {
     "name": "stdout",
     "output_type": "stream",
     "text": [
      "(50000, 2048)\n"
     ]
    }
   ],
   "source": [
    "print(featureVector.shape)"
   ]
  },
  {
   "cell_type": "code",
   "execution_count": 106,
   "metadata": {},
   "outputs": [],
   "source": [
    "from sklearn.ensemble import RandomForestClassifier"
   ]
  },
  {
   "cell_type": "code",
   "execution_count": 107,
   "metadata": {},
   "outputs": [
    {
     "name": "stderr",
     "output_type": "stream",
     "text": [
      "C:\\Users\\tmcle\\.conda\\envs\\tf\\lib\\site-packages\\sklearn\\base.py:1151: DataConversionWarning: A column-vector y was passed when a 1d array was expected. Please change the shape of y to (n_samples,), for example using ravel().\n",
      "  return fit_method(estimator, *args, **kwargs)\n"
     ]
    },
    {
     "data": {
      "text/html": [
       "<style>#sk-container-id-2 {color: black;}#sk-container-id-2 pre{padding: 0;}#sk-container-id-2 div.sk-toggleable {background-color: white;}#sk-container-id-2 label.sk-toggleable__label {cursor: pointer;display: block;width: 100%;margin-bottom: 0;padding: 0.3em;box-sizing: border-box;text-align: center;}#sk-container-id-2 label.sk-toggleable__label-arrow:before {content: \"▸\";float: left;margin-right: 0.25em;color: #696969;}#sk-container-id-2 label.sk-toggleable__label-arrow:hover:before {color: black;}#sk-container-id-2 div.sk-estimator:hover label.sk-toggleable__label-arrow:before {color: black;}#sk-container-id-2 div.sk-toggleable__content {max-height: 0;max-width: 0;overflow: hidden;text-align: left;background-color: #f0f8ff;}#sk-container-id-2 div.sk-toggleable__content pre {margin: 0.2em;color: black;border-radius: 0.25em;background-color: #f0f8ff;}#sk-container-id-2 input.sk-toggleable__control:checked~div.sk-toggleable__content {max-height: 200px;max-width: 100%;overflow: auto;}#sk-container-id-2 input.sk-toggleable__control:checked~label.sk-toggleable__label-arrow:before {content: \"▾\";}#sk-container-id-2 div.sk-estimator input.sk-toggleable__control:checked~label.sk-toggleable__label {background-color: #d4ebff;}#sk-container-id-2 div.sk-label input.sk-toggleable__control:checked~label.sk-toggleable__label {background-color: #d4ebff;}#sk-container-id-2 input.sk-hidden--visually {border: 0;clip: rect(1px 1px 1px 1px);clip: rect(1px, 1px, 1px, 1px);height: 1px;margin: -1px;overflow: hidden;padding: 0;position: absolute;width: 1px;}#sk-container-id-2 div.sk-estimator {font-family: monospace;background-color: #f0f8ff;border: 1px dotted black;border-radius: 0.25em;box-sizing: border-box;margin-bottom: 0.5em;}#sk-container-id-2 div.sk-estimator:hover {background-color: #d4ebff;}#sk-container-id-2 div.sk-parallel-item::after {content: \"\";width: 100%;border-bottom: 1px solid gray;flex-grow: 1;}#sk-container-id-2 div.sk-label:hover label.sk-toggleable__label {background-color: #d4ebff;}#sk-container-id-2 div.sk-serial::before {content: \"\";position: absolute;border-left: 1px solid gray;box-sizing: border-box;top: 0;bottom: 0;left: 50%;z-index: 0;}#sk-container-id-2 div.sk-serial {display: flex;flex-direction: column;align-items: center;background-color: white;padding-right: 0.2em;padding-left: 0.2em;position: relative;}#sk-container-id-2 div.sk-item {position: relative;z-index: 1;}#sk-container-id-2 div.sk-parallel {display: flex;align-items: stretch;justify-content: center;background-color: white;position: relative;}#sk-container-id-2 div.sk-item::before, #sk-container-id-2 div.sk-parallel-item::before {content: \"\";position: absolute;border-left: 1px solid gray;box-sizing: border-box;top: 0;bottom: 0;left: 50%;z-index: -1;}#sk-container-id-2 div.sk-parallel-item {display: flex;flex-direction: column;z-index: 1;position: relative;background-color: white;}#sk-container-id-2 div.sk-parallel-item:first-child::after {align-self: flex-end;width: 50%;}#sk-container-id-2 div.sk-parallel-item:last-child::after {align-self: flex-start;width: 50%;}#sk-container-id-2 div.sk-parallel-item:only-child::after {width: 0;}#sk-container-id-2 div.sk-dashed-wrapped {border: 1px dashed gray;margin: 0 0.4em 0.5em 0.4em;box-sizing: border-box;padding-bottom: 0.4em;background-color: white;}#sk-container-id-2 div.sk-label label {font-family: monospace;font-weight: bold;display: inline-block;line-height: 1.2em;}#sk-container-id-2 div.sk-label-container {text-align: center;}#sk-container-id-2 div.sk-container {/* jupyter's `normalize.less` sets `[hidden] { display: none; }` but bootstrap.min.css set `[hidden] { display: none !important; }` so we also need the `!important` here to be able to override the default hidden behavior on the sphinx rendered scikit-learn.org. See: https://github.com/scikit-learn/scikit-learn/issues/21755 */display: inline-block !important;position: relative;}#sk-container-id-2 div.sk-text-repr-fallback {display: none;}</style><div id=\"sk-container-id-2\" class=\"sk-top-container\"><div class=\"sk-text-repr-fallback\"><pre>RandomForestClassifier()</pre><b>In a Jupyter environment, please rerun this cell to show the HTML representation or trust the notebook. <br />On GitHub, the HTML representation is unable to render, please try loading this page with nbviewer.org.</b></div><div class=\"sk-container\" hidden><div class=\"sk-item\"><div class=\"sk-estimator sk-toggleable\"><input class=\"sk-toggleable__control sk-hidden--visually\" id=\"sk-estimator-id-2\" type=\"checkbox\" checked><label for=\"sk-estimator-id-2\" class=\"sk-toggleable__label sk-toggleable__label-arrow\">RandomForestClassifier</label><div class=\"sk-toggleable__content\"><pre>RandomForestClassifier()</pre></div></div></div></div></div>"
      ],
      "text/plain": [
       "RandomForestClassifier()"
      ]
     },
     "execution_count": 107,
     "metadata": {},
     "output_type": "execute_result"
    }
   ],
   "source": [
    "clf=RandomForestClassifier(n_estimators=100)\n",
    "\n",
    "clf.fit(featureVector,train_y)\n",
    "\n"
   ]
  },
  {
   "cell_type": "code",
   "execution_count": 108,
   "metadata": {},
   "outputs": [
    {
     "data": {
      "text/plain": [
       "(10000, 32, 32, 3)"
      ]
     },
     "execution_count": 108,
     "metadata": {},
     "output_type": "execute_result"
    }
   ],
   "source": [
    "test_x.shape"
   ]
  },
  {
   "cell_type": "code",
   "execution_count": 109,
   "metadata": {},
   "outputs": [],
   "source": [
    "y_pred=clf.predict(featureVector2)"
   ]
  },
  {
   "cell_type": "code",
   "execution_count": 110,
   "metadata": {},
   "outputs": [
    {
     "data": {
      "text/plain": [
       "(50000, 2048)"
      ]
     },
     "execution_count": 110,
     "metadata": {},
     "output_type": "execute_result"
    }
   ],
   "source": [
    "featureVector.shape"
   ]
  },
  {
   "cell_type": "code",
   "execution_count": 111,
   "metadata": {},
   "outputs": [
    {
     "name": "stdout",
     "output_type": "stream",
     "text": [
      "Accuracy: 0.8157\n"
     ]
    }
   ],
   "source": [
    "from sklearn import metrics\n",
    "print(\"Accuracy:\",metrics.accuracy_score(test_y, y_pred))"
   ]
  },
  {
   "cell_type": "code",
   "execution_count": 112,
   "metadata": {},
   "outputs": [],
   "source": [
    "from sklearn.tree import DecisionTreeClassifier"
   ]
  },
  {
   "cell_type": "code",
   "execution_count": 113,
   "metadata": {},
   "outputs": [],
   "source": [
    "clf = DecisionTreeClassifier(random_state=0)"
   ]
  },
  {
   "cell_type": "markdown",
   "metadata": {
    "id": "v2tUu9UW4S_S"
   },
   "source": [
    "# **Testes**"
   ]
  },
  {
   "cell_type": "code",
   "execution_count": 114,
   "metadata": {
    "id": "-02BWWgF4V9h"
   },
   "outputs": [
    {
     "data": {
      "image/png": "[encoded data removed]",
      "text/plain": [
       "<Figure size 640x480 with 1 Axes>"
      ]
     },
     "metadata": {},
     "output_type": "display_data"
    },
    {
     "data": {
      "image/png": "[encoded data removed]",
      "text/plain": [
       "<Figure size 640x480 with 1 Axes>"
      ]
     },
     "metadata": {},
     "output_type": "display_data"
    }
   ],
   "source": [
    "import matplotlib.pyplot as plt\n",
    "\n",
    "accuracy = model_trained.history['accuracy']\n",
    "val_accuracy = model_trained.history['val_accuracy']\n",
    "loss = model_trained.history['loss']\n",
    "val_loss = model_trained.history['val_loss']\n",
    "epochs = range(len(accuracy))\n",
    "plt.plot(epochs, accuracy, 'b', label='Acurácia de treino')\n",
    "plt.plot(epochs, val_accuracy, 'g', label='Acurácia de validação')\n",
    "plt.title('Acurácia de treino e validação')\n",
    "plt.legend()\n",
    "plt.figure()\n",
    "plt.plot(epochs, loss, 'b', label='Perda no treino')\n",
    "plt.plot(epochs, val_loss, 'g', label='Perda na validação')\n",
    "plt.title('Perda na validação e treino')\n",
    "plt.legend()\n",
    "plt.show()"
   ]
  },
  {
   "cell_type": "code",
   "execution_count": 115,
   "metadata": {
    "id": "On7_hNmrOysp"
   },
   "outputs": [
    {
     "name": "stdout",
     "output_type": "stream",
     "text": [
      "313/313 [==============================] - 2s 5ms/step - loss: 0.5037 - accuracy: 0.0983\n",
      "Test loss: 0.5036939382553101\n",
      "Test accuracy: 0.09830000251531601\n"
     ]
    }
   ],
   "source": [
    "#avalia a fase de teste\n",
    "\n",
    "model_loss, model_accuracy = model.evaluate(test_x, test_y, verbose=1)\n",
    "\n",
    "#mostra o resultado\n",
    "print('Test loss:', model_loss)\n",
    "print('Test accuracy:', model_accuracy)"
   ]
  },
  {
   "cell_type": "code",
   "execution_count": 116,
   "metadata": {
    "id": "uGYRlhnq8wsF"
   },
   "outputs": [],
   "source": [
    "#faz a predição das imagens\n",
    "\n",
    "from tensorflow.keras.utils import to_categorical\n",
    "\n",
    "pred = model.predict(test_x, verbose=0)\n",
    "\n",
    "pred_probs = np.argmax(pred,axis=1)"
   ]
  },
  {
   "cell_type": "code",
   "execution_count": 117,
   "metadata": {
    "id": "Vt4jZ2jB8ygE"
   },
   "outputs": [],
   "source": [
    "from sklearn.metrics import confusion_matrix\n",
    "from sklearn.metrics import classification_report\n",
    "from sklearn.metrics import accuracy_score\n",
    "from sklearn.metrics import f1_score"
   ]
  },
  {
   "cell_type": "code",
   "execution_count": 118,
   "metadata": {
    "id": "9gx5yvuU84UC"
   },
   "outputs": [],
   "source": [
    "cm = confusion_matrix(test_y, pred_probs)"
   ]
  },
  {
   "cell_type": "code",
   "execution_count": 119,
   "metadata": {
    "id": "NUrE8yfU86OL"
   },
   "outputs": [
    {
     "name": "stdout",
     "output_type": "stream",
     "text": [
      "F1 Score: 0.8271414182019562\n",
      "Sensitivity: [0.843 0.949 0.687 0.631 0.835 0.677 0.963 0.881 0.92  0.907]\n",
      "Specificity: [0.98444444 0.987      0.98722222 0.97833333 0.97655556 0.98644444\n",
      " 0.94711111 0.98655556 0.988      0.98866667]\n",
      "Precision:   [0.85757884 0.8902439  0.85660848 0.76392252 0.79827916 0.84730914\n",
      " 0.66921473 0.87924152 0.89494163 0.89890981]\n",
      "Accuracy:    [0.9703 0.9832 0.9572 0.9436 0.9624 0.9555 0.9487 0.976  0.9812 0.9805]\n"
     ]
    }
   ],
   "source": [
    "#gera os valores de falso positivo, falso negativo, verdadeiro positivo e verdadeiro negativo\n",
    "fp = cm.sum(axis=0) - np.diag(cm)  \n",
    "fn = cm.sum(axis=1) - np.diag(cm)\n",
    "tp = np.diag(cm)\n",
    "tn = cm.sum() - (fp + fn + tp)\n",
    "\n",
    "f1score = f1_score(test_y, pred_probs, average='weighted')\n",
    "sensitivity = tp / (tp + fn)\n",
    "specificity = tn / (tn + fp)\n",
    "accuracy    = (tp + tn) / (tp + tn + fp + fn)\n",
    "precision   = tp / (tp + fp)\n",
    "\n",
    "\n",
    "print(\"F1 Score:\", f1score)\n",
    "print(\"Sensitivity:\", sensitivity)\n",
    "print(\"Specificity:\", specificity)\n",
    "print(\"Precision:  \", precision)\n",
    "print(\"Accuracy:   \", accuracy)"
   ]
  },
  {
   "cell_type": "code",
   "execution_count": null,
   "metadata": {},
   "outputs": [],
   "source": []
  },
  {
   "cell_type": "code",
   "execution_count": null,
   "metadata": {},
   "outputs": [],
   "source": []
  }
 ],
 "metadata": {
  "colab": {
   "collapsed_sections": [],
   "name": "covid_alex_holdout_cropping_tgo.ipynb",
   "provenance": []
  },
  "kernelspec": {
   "display_name": "Python 3 (ipykernel)",
   "language": "python",
   "name": "python3"
  },
  "language_info": {
   "codemirror_mode": {
    "name": "ipython",
    "version": 3
   },
   "file_extension": ".py",
   "mimetype": "text/x-python",
   "name": "python",
   "nbconvert_exporter": "python",
   "pygments_lexer": "ipython3",
   "version": "3.9.17"
  }
 },
 "nbformat": 4,
 "nbformat_minor": 1
}
