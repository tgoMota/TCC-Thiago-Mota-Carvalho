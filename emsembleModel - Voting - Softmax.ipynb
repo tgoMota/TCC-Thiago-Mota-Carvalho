{
 "cells": [
  {
   "cell_type": "code",
   "execution_count": 75,
   "id": "69900df3",
   "metadata": {},
   "outputs": [],
   "source": [
    "import tensorflow as tf\n",
    "from tensorflow import keras\n",
    "import matplotlib.pyplot as plt\n",
    "import os\n",
    "import time\n",
    "from sklearn import datasets\n",
    "from sklearn.ensemble import VotingClassifier\n",
    "from sklearn.model_selection import cross_val_score\n",
    "from keras.datasets import cifar10\n",
    "from keras.utils import to_categorical\n",
    "import numpy as np"
   ]
  },
  {
   "cell_type": "code",
   "execution_count": 76,
   "id": "7f1d7bd2",
   "metadata": {},
   "outputs": [],
   "source": [
    "# load train and test dataset\n",
    "def load_dataset():\n",
    "\t# load dataset\n",
    "\t(trainX, trainY), (testX, testY) = cifar10.load_data()\n",
    "\t# one hot encode target values\n",
    "\t#trainY = to_categorical(trainY)\n",
    "\t#testY = to_categorical(testY)\n",
    "\treturn trainX, trainY, testX, testY"
   ]
  },
  {
   "cell_type": "code",
   "execution_count": 77,
   "id": "05b5ce4f",
   "metadata": {},
   "outputs": [],
   "source": [
    "# scale pixels\n",
    "def prep_pixels(train, test):\n",
    "\t# convert from integers to floats\n",
    "\ttrain_norm = train.astype('float32')\n",
    "\ttest_norm = test.astype('float32')\n",
    "\t# normalize to range 0-1\n",
    "\ttrain_norm = train_norm / 255.0\n",
    "\ttest_norm = test_norm / 255.0\n",
    "\t# return normalized images\n",
    "\treturn train_norm, test_norm"
   ]
  },
  {
   "cell_type": "code",
   "execution_count": 78,
   "id": "94db3098",
   "metadata": {},
   "outputs": [],
   "source": [
    "trainX, trainY, testX, testY = load_dataset()\n",
    "trainX, testX = prep_pixels(trainX, testX)"
   ]
  },
  {
   "cell_type": "code",
   "execution_count": 79,
   "id": "b8b4b6e7",
   "metadata": {},
   "outputs": [],
   "source": [
    "clf1 = tf.keras.models.load_model(\"cifar-vgg-baseline-holdout-100epochs_all_transfer.npy\")"
   ]
  },
  {
   "cell_type": "code",
   "execution_count": 80,
   "id": "d8214f1f",
   "metadata": {},
   "outputs": [
    {
     "name": "stdout",
     "output_type": "stream",
     "text": [
      "<class 'keras.engine.sequential.Sequential'>\n"
     ]
    }
   ],
   "source": [
    "print(type(clf1))"
   ]
  },
  {
   "cell_type": "code",
   "execution_count": 81,
   "id": "bd2e7738",
   "metadata": {},
   "outputs": [],
   "source": [
    "clf2 = tf.keras.models.load_model(\"cifar-mobileNet-baseline-holdout-100epochs_all_transfer.npy\")"
   ]
  },
  {
   "cell_type": "code",
   "execution_count": 82,
   "id": "09dd30b0",
   "metadata": {},
   "outputs": [],
   "source": [
    "clf3 = tf.keras.models.load_model(\"cifar-resnet50-baseline-holdout-100epochs_all_transfer.npy\")"
   ]
  },
  {
   "cell_type": "code",
   "execution_count": 83,
   "id": "6b1b16be",
   "metadata": {},
   "outputs": [],
   "source": [
    "class emsembleModel:\n",
    "    def __init__(self, classifiers, numClasses):\n",
    "        self.classifiers = classifiers\n",
    "        self.numClasses = numClasses\n",
    "        \n",
    "    def predict_by_voting(self, dataX):\n",
    "        preds = []\n",
    "        for clf in self.classifiers:\n",
    "            preds.append(clf.predict(dataX))\n",
    "        \n",
    "        resultPred = []\n",
    "        M = len(self.classifiers)\n",
    "        for i in range(len(dataX)):\n",
    "            counting = [0 for _ in range(self.numClasses)]\n",
    "            current_best_pred = preds[0][i]\n",
    "            for j in range(M):\n",
    "                pred = preds[j][i]\n",
    "                predictedClass = np.argmax(pred)\n",
    "                counting[predictedClass]+=1\n",
    "                if counting[predictedClass] == max(counting):\n",
    "                    current_best_pred = pred\n",
    "            resultPred.append(current_best_pred)\n",
    "        \n",
    "        return resultPred\n",
    "    \n",
    "    def evaluate_by_voting(self, dataX, dataY):\n",
    "        pred = self.predict_by_voting(dataX)\n",
    "        ok = 0\n",
    "        for i in range(len(pred)):\n",
    "            expectedClass = dataY[i]\n",
    "            predictedClass = np.argmax(pred[i])\n",
    "            if predictedClass == expectedClass:\n",
    "                ok += 1\n",
    "        return ok/len(dataY)\n",
    "\n",
    "    def predict_by_softmax(self, dataX):\n",
    "        preds = []\n",
    "        for clf in self.classifiers:\n",
    "            preds.append(clf.predict(dataX))\n",
    "        \n",
    "        resultsPred = []\n",
    "        M = len(self.classifiers)\n",
    "        for i in range(len(dataX)):\n",
    "            probs = []\n",
    "            for j in range(M):\n",
    "                pred = preds[j][i]\n",
    "                probs.append(pred)\n",
    "            compressed_probs = np.array(probs).sum(axis=0)\n",
    "            compressed_probs = compressed_probs/M\n",
    "            resultsPred.append(compressed_probs)\n",
    "        \n",
    "        return resultsPred\n",
    "    \n",
    "    def evaluate_by_softmax(self, dataX, dataY):\n",
    "        pred = self.predict_by_softmax(dataX)\n",
    "        ok = 0\n",
    "        for i in range(len(pred)):\n",
    "            expectedClass = dataY[i]\n",
    "            predictedClass = np.argmax(pred[i])\n",
    "            if predictedClass == expectedClass:\n",
    "                ok += 1\n",
    "        return ok/len(dataY)\n",
    "    "
   ]
  },
  {
   "cell_type": "code",
   "execution_count": 84,
   "id": "f864e530",
   "metadata": {},
   "outputs": [],
   "source": [
    "classifiers = [clf1, clf2, clf3]"
   ]
  },
  {
   "cell_type": "code",
   "execution_count": 90,
   "id": "28375413",
   "metadata": {},
   "outputs": [],
   "source": [
    "emsemble = emsembleModel(classifiers, 10)"
   ]
  },
  {
   "cell_type": "code",
   "execution_count": 86,
   "id": "99a4517b",
   "metadata": {},
   "outputs": [
    {
     "name": "stdout",
     "output_type": "stream",
     "text": [
      "313/313 [==============================] - 1s 4ms/step\n",
      "313/313 [==============================] - 3s 8ms/step\n",
      "313/313 [==============================] - 8s 21ms/step\n"
     ]
    }
   ],
   "source": [
    "acc = emsemble.evaluate_by_softmax(testX, testY)"
   ]
  },
  {
   "cell_type": "code",
   "execution_count": 87,
   "id": "b7e2a8ba",
   "metadata": {
    "scrolled": true
   },
   "outputs": [
    {
     "name": "stdout",
     "output_type": "stream",
     "text": [
      "Accuracy Emsemble using Softmax: 88.740\n"
     ]
    }
   ],
   "source": [
    "print('Accuracy Emsemble using Softmax: %.3f' % (acc * 100.0))"
   ]
  },
  {
   "cell_type": "code",
   "execution_count": 91,
   "id": "48ae2aca",
   "metadata": {},
   "outputs": [
    {
     "name": "stdout",
     "output_type": "stream",
     "text": [
      "313/313 [==============================] - 1s 4ms/step\n",
      "313/313 [==============================] - 3s 8ms/step\n",
      "313/313 [==============================] - 7s 21ms/step\n"
     ]
    }
   ],
   "source": [
    "acc = emsemble.evaluate_by_voting(testX, testY)"
   ]
  },
  {
   "cell_type": "code",
   "execution_count": 92,
   "id": "1dd345bf",
   "metadata": {},
   "outputs": [
    {
     "name": "stdout",
     "output_type": "stream",
     "text": [
      "Accuracy Emsemble using Voting: 87.760\n"
     ]
    }
   ],
   "source": [
    "print('Accuracy Emsemble using Voting: %.3f' % (acc * 100.0))"
   ]
  },
  {
   "cell_type": "code",
   "execution_count": null,
   "id": "3327f4c9",
   "metadata": {},
   "outputs": [],
   "source": []
  }
 ],
 "metadata": {
  "kernelspec": {
   "display_name": "Python 3 (ipykernel)",
   "language": "python",
   "name": "python3"
  },
  "language_info": {
   "codemirror_mode": {
    "name": "ipython",
    "version": 3
   },
   "file_extension": ".py",
   "mimetype": "text/x-python",
   "name": "python",
   "nbconvert_exporter": "python",
   "pygments_lexer": "ipython3",
   "version": "3.9.17"
  }
 },
 "nbformat": 4,
 "nbformat_minor": 5
}
