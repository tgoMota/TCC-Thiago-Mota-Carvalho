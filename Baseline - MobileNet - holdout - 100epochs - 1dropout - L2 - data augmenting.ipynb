{
 "cells": [
  {
   "cell_type": "code",
   "execution_count": 1,
   "metadata": {
    "id": "on-xhn6xYqDo"
   },
   "outputs": [],
   "source": [
    "import tensorflow as tf\n",
    "from tensorflow import keras\n",
    "import matplotlib.pyplot as plt\n",
    "import os\n",
    "import time"
   ]
  },
  {
   "cell_type": "code",
   "execution_count": 2,
   "metadata": {
    "id": "Zq5nydmlidrt"
   },
   "outputs": [],
   "source": [
    "import cv2\n",
    "import os\n",
    "from tqdm import tqdm\n",
    "import matplotlib.pyplot as plt\n",
    "import numpy as np\n",
    "import glob\n",
    "from tensorflow.keras.preprocessing.image import ImageDataGenerator\n",
    "from tensorflow.keras.applications import *\n",
    "from tensorflow.keras.layers import *\n",
    "from tensorflow.keras.models import *\n",
    "from tensorflow.keras.optimizers import Adam\n",
    "from tensorflow.keras.utils import to_categorical\n",
    "from sklearn.preprocessing import LabelEncoder\n",
    "from sklearn.metrics import *\n",
    "from tensorflow.keras.callbacks import *"
   ]
  },
  {
   "cell_type": "code",
   "execution_count": 3,
   "metadata": {},
   "outputs": [],
   "source": [
    "CLASS_NAMES= ['healthy', 'mild', 'moderate', 'severe']\n",
    "IMG_HEIGHT = 128\n",
    "IMG_WIDTH = 128\n",
    "CHANNELS = 3\n",
    "NUM_CLASSES = len(CLASS_NAMES)"
   ]
  },
  {
   "cell_type": "markdown",
   "metadata": {
    "id": "yfeZvMIEDOwS"
   },
   "source": [
    "# **ResNET**"
   ]
  },
  {
   "cell_type": "code",
   "execution_count": 4,
   "metadata": {
    "id": "98Cf8ZeSEbCU"
   },
   "outputs": [],
   "source": [
    "from sklearn.model_selection import train_test_split"
   ]
  },
  {
   "cell_type": "code",
   "execution_count": 5,
   "metadata": {},
   "outputs": [
    {
     "name": "stdout",
     "output_type": "stream",
     "text": [
      "TOTAL_IMAGES =  2368\n"
     ]
    }
   ],
   "source": [
    "#load data\n",
    "data_x = np.load('data_x_aumentated_normalized.npy') #images\n",
    "data_y = np.load('data_y_aumentated_normalized.npy') #labels\n",
    "TOTAL_IMAGES = len(data_y)\n",
    "print(\"TOTAL_IMAGES = \", TOTAL_IMAGES)"
   ]
  },
  {
   "cell_type": "markdown",
   "metadata": {},
   "source": [
    "# **Splitting data in train - validation - test**"
   ]
  },
  {
   "cell_type": "code",
   "execution_count": 6,
   "metadata": {},
   "outputs": [],
   "source": [
    "#percentage of the dataset which will be on TRAIN - TEST - VALIDATION\n",
    "TRAIN_PERCENTAGE = 0.8\n",
    "TEST_PERCENTAGE = 0.1\n",
    "VALIDATION_PERCENTAGE = 0.1"
   ]
  },
  {
   "cell_type": "code",
   "execution_count": 7,
   "metadata": {},
   "outputs": [],
   "source": [
    "train_size = int(TRAIN_PERCENTAGE * TOTAL_IMAGES)\n",
    "test_size = int(TEST_PERCENTAGE * TOTAL_IMAGES)\n",
    "validation_size = int(VALIDATION_PERCENTAGE * TOTAL_IMAGES)"
   ]
  },
  {
   "cell_type": "code",
   "execution_count": 8,
   "metadata": {},
   "outputs": [],
   "source": [
    "train_x = data_x[:train_size]\n",
    "train_y = data_y[:train_size]\n",
    "data_x = data_x[train_size:]\n",
    "data_y = data_y[train_size:]\n",
    "\n",
    "test_x = data_x[:test_size]\n",
    "test_y = data_y[:test_size]\n",
    "data_x = data_x[test_size:]\n",
    "data_y = data_y[test_size:]\n",
    "\n",
    "validation_x = data_x #all the remainder we can let on validation\n",
    "validation_y = data_y\n",
    "del data_x\n",
    "del data_y"
   ]
  },
  {
   "cell_type": "code",
   "execution_count": 9,
   "metadata": {},
   "outputs": [
    {
     "name": "stdout",
     "output_type": "stream",
     "text": [
      "train_size =  1894\n",
      "test_size =  236\n",
      "validation_size =  238\n"
     ]
    }
   ],
   "source": [
    "print(\"train_size = \", len(train_y))\n",
    "print(\"test_size = \", len(test_y))\n",
    "print(\"validation_size = \", len(validation_y))"
   ]
  },
  {
   "cell_type": "code",
   "execution_count": 10,
   "metadata": {
    "id": "BiIjdq89J1uJ"
   },
   "outputs": [],
   "source": [
    "from tensorflow import keras\n",
    "from tensorflow.keras.models import Sequential\n",
    "from tensorflow.keras.layers import Dense, Activation, Dropout, Flatten, Conv2D, MaxPooling2D\n",
    "from tensorflow.keras.regularizers import l2\n",
    "from tensorflow.keras.regularizers import l1\n",
    "from tensorflow.keras.callbacks import EarlyStopping"
   ]
  },
  {
   "cell_type": "code",
   "execution_count": 11,
   "metadata": {
    "colab": {
     "base_uri": "https://localhost:8080/"
    },
    "id": "j0vHxhMjLyhJ",
    "outputId": "e5ec2803-8f76-4719-e279-27c52eb8d72d"
   },
   "outputs": [],
   "source": [
    "from tensorflow.keras import layers\n",
    "from tensorflow.keras.layers import Input, Add, Dense, Activation, ZeroPadding2D, BatchNormalization, Flatten, Conv2D, AveragePooling2D, MaxPooling2D, GlobalMaxPooling2D\n",
    "from tensorflow.keras.models import Model, load_model\n",
    "from tensorflow.keras.preprocessing import image\n",
    "from IPython.display import SVG\n",
    "import scipy.misc"
   ]
  },
  {
   "cell_type": "code",
   "execution_count": 12,
   "metadata": {},
   "outputs": [],
   "source": [
    "# from tensorflow.keras.applications import EfficientNetB0\n",
    "# from tensorflow.keras.applications import EfficientNetB1\n",
    "# from tensorflow.keras.applications import EfficientNetB2\n",
    "# from tensorflow.keras.applications import EfficientNetB3\n",
    "# from tensorflow.keras.applications import EfficientNetB4\n",
    "# from tensorflow.keras.applications import EfficientNetB5\n",
    "# from tensorflow.keras.applications import EfficientNetB6\n",
    "# from tensorflow.keras.applications import EfficientNetB7\n",
    "# from tensorflow.keras.applications import *"
   ]
  },
  {
   "cell_type": "code",
   "execution_count": 13,
   "metadata": {},
   "outputs": [
    {
     "name": "stderr",
     "output_type": "stream",
     "text": [
      "C:\\Users\\tmcle\\.conda\\envs\\tf\\lib\\site-packages\\keras\\backend.py:451: UserWarning: `tf.keras.backend.set_learning_phase` is deprecated and will be removed after 2020-10-11. To update it, simply pass a True/False value to the `training` argument of the `__call__` method of your layer or model.\n",
      "  warnings.warn(\n"
     ]
    }
   ],
   "source": [
    "import tensorflow.keras.backend as K\n",
    "K.set_image_data_format('channels_last')\n",
    "K.set_learning_phase(1)"
   ]
  },
  {
   "cell_type": "code",
   "execution_count": 14,
   "metadata": {},
   "outputs": [],
   "source": [
    "model = tf.keras.applications.MobileNet(\n",
    "    include_top=False,\n",
    "    weights=\"imagenet\",\n",
    "    input_tensor=None,\n",
    "    input_shape=(IMG_HEIGHT,IMG_WIDTH, CHANNELS),\n",
    "    pooling=None,\n",
    "    classes=NUM_CLASSES,\n",
    "   # classifier_activation=\"softmax\",\n",
    "#    **kwargs\n",
    ")"
   ]
  },
  {
   "cell_type": "code",
   "execution_count": 15,
   "metadata": {},
   "outputs": [
    {
     "name": "stderr",
     "output_type": "stream",
     "text": [
      "C:\\Users\\tmcle\\.conda\\envs\\tf\\lib\\site-packages\\keras\\optimizers\\optimizer_v2\\adam.py:114: UserWarning: The `lr` argument is deprecated, use `learning_rate` instead.\n",
      "  super().__init__(name, **kwargs)\n"
     ]
    }
   ],
   "source": [
    "from tensorflow.keras import models\n",
    "from tensorflow.keras import layers\n",
    "\n",
    "new_model = models.Sequential()\n",
    "new_model.add(model)\n",
    "#3rd conv layer\n",
    "new_model.add(tf.keras.layers.Conv2D(32, 3, padding=\"same\"))\n",
    "new_model.add(tf.keras.layers.BatchNormalization())\n",
    "new_model.add(tf.keras.layers.Activation(\"relu\"))\n",
    "new_model.add(tf.keras.layers.MaxPooling2D(2))\n",
    "#4th conv layer\n",
    "new_model.add(tf.keras.layers.Conv2D(64, 3, padding=\"same\"))\n",
    "new_model.add(tf.keras.layers.BatchNormalization())\n",
    "new_model.add(tf.keras.layers.Activation(\"relu\"))\n",
    "new_model.add(tf.keras.layers.MaxPooling2D(2))\n",
    "#Flatten Layer\n",
    "new_model.add(tf.keras.layers.Flatten())\n",
    "\n",
    "new_model.add(tf.keras.layers.Dense(128, kernel_regularizer =tf.keras.regularizers.l2( l=0.01)))\n",
    "new_model.add(tf.keras.layers.BatchNormalization())\n",
    "new_model.add(tf.keras.layers.Activation(\"relu\"))\n",
    "new_model.add(tf.keras.layers.Dropout(0.2))\n",
    "#output Dense Layer\n",
    "new_model.add(tf.keras.layers.Dense(NUM_CLASSES))\n",
    "new_model.add(tf.keras.layers.Activation('softmax'))\n",
    "adam = tf.keras.optimizers.Adam(lr=0.001)\n"
   ]
  },
  {
   "cell_type": "code",
   "execution_count": 16,
   "metadata": {},
   "outputs": [
    {
     "name": "stdout",
     "output_type": "stream",
     "text": [
      "Model: \"sequential\"\n",
      "_________________________________________________________________\n",
      " Layer (type)                Output Shape              Param #   \n",
      "=================================================================\n",
      " mobilenet_1.00_128 (Functio  (None, 4, 4, 1024)       3228864   \n",
      " nal)                                                            \n",
      "                                                                 \n",
      " conv2d (Conv2D)             (None, 4, 4, 32)          294944    \n",
      "                                                                 \n",
      " batch_normalization (BatchN  (None, 4, 4, 32)         128       \n",
      " ormalization)                                                   \n",
      "                                                                 \n",
      " activation (Activation)     (None, 4, 4, 32)          0         \n",
      "                                                                 \n",
      " max_pooling2d (MaxPooling2D  (None, 2, 2, 32)         0         \n",
      " )                                                               \n",
      "                                                                 \n",
      " conv2d_1 (Conv2D)           (None, 2, 2, 64)          18496     \n",
      "                                                                 \n",
      " batch_normalization_1 (Batc  (None, 2, 2, 64)         256       \n",
      " hNormalization)                                                 \n",
      "                                                                 \n",
      " activation_1 (Activation)   (None, 2, 2, 64)          0         \n",
      "                                                                 \n",
      " max_pooling2d_1 (MaxPooling  (None, 1, 1, 64)         0         \n",
      " 2D)                                                             \n",
      "                                                                 \n",
      " flatten (Flatten)           (None, 64)                0         \n",
      "                                                                 \n",
      " dense (Dense)               (None, 128)               8320      \n",
      "                                                                 \n",
      " batch_normalization_2 (Batc  (None, 128)              512       \n",
      " hNormalization)                                                 \n",
      "                                                                 \n",
      " activation_2 (Activation)   (None, 128)               0         \n",
      "                                                                 \n",
      " dropout (Dropout)           (None, 128)               0         \n",
      "                                                                 \n",
      " dense_1 (Dense)             (None, 4)                 516       \n",
      "                                                                 \n",
      " activation_3 (Activation)   (None, 4)                 0         \n",
      "                                                                 \n",
      "=================================================================\n",
      "Total params: 3,552,036\n",
      "Trainable params: 3,529,700\n",
      "Non-trainable params: 22,336\n",
      "_________________________________________________________________\n"
     ]
    }
   ],
   "source": [
    "new_model.summary()"
   ]
  },
  {
   "cell_type": "code",
   "execution_count": 17,
   "metadata": {},
   "outputs": [
    {
     "name": "stdout",
     "output_type": "stream",
     "text": [
      "Epoch 1/100\n",
      "60/60 - 14s - loss: 1.5986 - acc: 0.6668 - val_loss: 2.7289 - val_acc: 0.4286 - 14s/epoch - 235ms/step\n",
      "Epoch 2/100\n",
      "60/60 - 7s - loss: 0.9219 - acc: 0.8997 - val_loss: 4.2184 - val_acc: 0.3613 - 7s/epoch - 122ms/step\n",
      "Epoch 3/100\n",
      "60/60 - 7s - loss: 0.6594 - acc: 0.9419 - val_loss: 4.4326 - val_acc: 0.3824 - 7s/epoch - 122ms/step\n",
      "Epoch 4/100\n",
      "60/60 - 7s - loss: 0.4953 - acc: 0.9530 - val_loss: 4.0794 - val_acc: 0.4664 - 7s/epoch - 122ms/step\n",
      "Epoch 5/100\n",
      "60/60 - 7s - loss: 0.3766 - acc: 0.9636 - val_loss: 3.1209 - val_acc: 0.4706 - 7s/epoch - 122ms/step\n",
      "Epoch 6/100\n",
      "60/60 - 7s - loss: 0.3105 - acc: 0.9636 - val_loss: 2.7768 - val_acc: 0.5042 - 7s/epoch - 122ms/step\n",
      "Epoch 7/100\n",
      "60/60 - 7s - loss: 0.2654 - acc: 0.9609 - val_loss: 2.1500 - val_acc: 0.6345 - 7s/epoch - 122ms/step\n",
      "Epoch 8/100\n",
      "60/60 - 7s - loss: 0.2094 - acc: 0.9715 - val_loss: 2.8320 - val_acc: 0.5168 - 7s/epoch - 121ms/step\n",
      "Epoch 9/100\n",
      "60/60 - 7s - loss: 0.1547 - acc: 0.9847 - val_loss: 2.0033 - val_acc: 0.5546 - 7s/epoch - 121ms/step\n",
      "Epoch 10/100\n",
      "60/60 - 7s - loss: 0.1674 - acc: 0.9688 - val_loss: 0.6935 - val_acc: 0.8529 - 7s/epoch - 121ms/step\n",
      "Epoch 11/100\n",
      "60/60 - 7s - loss: 0.1026 - acc: 0.9884 - val_loss: 1.4350 - val_acc: 0.5924 - 7s/epoch - 121ms/step\n",
      "Epoch 12/100\n",
      "60/60 - 7s - loss: 0.0735 - acc: 0.9921 - val_loss: 0.3466 - val_acc: 0.9034 - 7s/epoch - 122ms/step\n",
      "Epoch 13/100\n",
      "60/60 - 7s - loss: 0.0869 - acc: 0.9831 - val_loss: 1.5471 - val_acc: 0.6134 - 7s/epoch - 121ms/step\n",
      "Epoch 14/100\n",
      "60/60 - 7s - loss: 0.0603 - acc: 0.9910 - val_loss: 1.1049 - val_acc: 0.7395 - 7s/epoch - 121ms/step\n",
      "Epoch 15/100\n",
      "60/60 - 7s - loss: 0.1009 - acc: 0.9741 - val_loss: 0.8488 - val_acc: 0.8361 - 7s/epoch - 121ms/step\n",
      "Epoch 16/100\n",
      "60/60 - 7s - loss: 0.1812 - acc: 0.9493 - val_loss: 1.2540 - val_acc: 0.7773 - 7s/epoch - 121ms/step\n",
      "Epoch 17/100\n",
      "60/60 - 7s - loss: 0.0842 - acc: 0.9826 - val_loss: 1.0191 - val_acc: 0.7689 - 7s/epoch - 121ms/step\n",
      "Epoch 18/100\n",
      "60/60 - 7s - loss: 0.1020 - acc: 0.9741 - val_loss: 2.6663 - val_acc: 0.7185 - 7s/epoch - 121ms/step\n",
      "Epoch 19/100\n",
      "60/60 - 7s - loss: 0.0609 - acc: 0.9905 - val_loss: 0.4974 - val_acc: 0.8908 - 7s/epoch - 121ms/step\n",
      "Epoch 20/100\n",
      "60/60 - 7s - loss: 0.0381 - acc: 0.9921 - val_loss: 0.6702 - val_acc: 0.8445 - 7s/epoch - 121ms/step\n",
      "Epoch 21/100\n",
      "60/60 - 7s - loss: 0.0205 - acc: 0.9979 - val_loss: 0.1424 - val_acc: 0.9538 - 7s/epoch - 121ms/step\n",
      "Epoch 22/100\n",
      "60/60 - 7s - loss: 0.0200 - acc: 0.9974 - val_loss: 0.4552 - val_acc: 0.8908 - 7s/epoch - 121ms/step\n",
      "Epoch 23/100\n",
      "60/60 - 7s - loss: 0.0147 - acc: 0.9984 - val_loss: 0.2040 - val_acc: 0.9202 - 7s/epoch - 121ms/step\n",
      "Epoch 24/100\n",
      "60/60 - 7s - loss: 0.0118 - acc: 0.9984 - val_loss: 0.2176 - val_acc: 0.9412 - 7s/epoch - 121ms/step\n",
      "Epoch 25/100\n",
      "60/60 - 7s - loss: 0.0088 - acc: 1.0000 - val_loss: 0.2553 - val_acc: 0.9202 - 7s/epoch - 121ms/step\n",
      "Epoch 26/100\n",
      "60/60 - 7s - loss: 0.0067 - acc: 1.0000 - val_loss: 0.1537 - val_acc: 0.9538 - 7s/epoch - 120ms/step\n",
      "Epoch 27/100\n",
      "60/60 - 7s - loss: 0.0041 - acc: 1.0000 - val_loss: 0.1545 - val_acc: 0.9538 - 7s/epoch - 121ms/step\n",
      "Epoch 28/100\n",
      "60/60 - 7s - loss: 0.0030 - acc: 1.0000 - val_loss: 0.1485 - val_acc: 0.9538 - 7s/epoch - 121ms/step\n",
      "Epoch 29/100\n",
      "60/60 - 7s - loss: 0.0023 - acc: 1.0000 - val_loss: 0.1484 - val_acc: 0.9538 - 7s/epoch - 120ms/step\n",
      "Epoch 30/100\n",
      "60/60 - 7s - loss: 0.0018 - acc: 1.0000 - val_loss: 0.1468 - val_acc: 0.9580 - 7s/epoch - 121ms/step\n",
      "Epoch 31/100\n",
      "60/60 - 7s - loss: 0.0015 - acc: 1.0000 - val_loss: 0.1446 - val_acc: 0.9580 - 7s/epoch - 121ms/step\n",
      "Epoch 32/100\n",
      "60/60 - 7s - loss: 0.0014 - acc: 1.0000 - val_loss: 0.1442 - val_acc: 0.9580 - 7s/epoch - 121ms/step\n",
      "Epoch 33/100\n",
      "60/60 - 7s - loss: 0.0012 - acc: 1.0000 - val_loss: 0.1547 - val_acc: 0.9580 - 7s/epoch - 121ms/step\n",
      "Epoch 34/100\n",
      "60/60 - 7s - loss: 0.0010 - acc: 1.0000 - val_loss: 0.1605 - val_acc: 0.9580 - 7s/epoch - 121ms/step\n",
      "Epoch 35/100\n",
      "60/60 - 7s - loss: 9.1242e-04 - acc: 1.0000 - val_loss: 0.1573 - val_acc: 0.9580 - 7s/epoch - 121ms/step\n",
      "Epoch 36/100\n",
      "60/60 - 7s - loss: 8.6516e-04 - acc: 1.0000 - val_loss: 0.1544 - val_acc: 0.9538 - 7s/epoch - 121ms/step\n",
      "Epoch 37/100\n",
      "60/60 - 7s - loss: 7.8730e-04 - acc: 1.0000 - val_loss: 0.1597 - val_acc: 0.9538 - 7s/epoch - 121ms/step\n",
      "Epoch 38/100\n",
      "60/60 - 7s - loss: 7.5536e-04 - acc: 1.0000 - val_loss: 0.1511 - val_acc: 0.9496 - 7s/epoch - 121ms/step\n",
      "Epoch 39/100\n",
      "60/60 - 7s - loss: 8.6176e-04 - acc: 1.0000 - val_loss: 0.1535 - val_acc: 0.9496 - 7s/epoch - 121ms/step\n",
      "Epoch 40/100\n",
      "60/60 - 7s - loss: 7.4607e-04 - acc: 1.0000 - val_loss: 0.1652 - val_acc: 0.9538 - 7s/epoch - 121ms/step\n",
      "Epoch 41/100\n",
      "60/60 - 7s - loss: 7.0583e-04 - acc: 1.0000 - val_loss: 0.1662 - val_acc: 0.9580 - 7s/epoch - 121ms/step\n",
      "Epoch 42/100\n",
      "60/60 - 7s - loss: 6.5899e-04 - acc: 1.0000 - val_loss: 0.1623 - val_acc: 0.9538 - 7s/epoch - 120ms/step\n",
      "Epoch 43/100\n",
      "60/60 - 7s - loss: 6.2484e-04 - acc: 1.0000 - val_loss: 0.1666 - val_acc: 0.9538 - 7s/epoch - 121ms/step\n",
      "Epoch 44/100\n",
      "60/60 - 7s - loss: 6.1397e-04 - acc: 1.0000 - val_loss: 0.1554 - val_acc: 0.9580 - 7s/epoch - 121ms/step\n",
      "Epoch 45/100\n",
      "60/60 - 7s - loss: 5.8483e-04 - acc: 1.0000 - val_loss: 0.1692 - val_acc: 0.9538 - 7s/epoch - 121ms/step\n",
      "Epoch 46/100\n",
      "60/60 - 7s - loss: 5.4670e-04 - acc: 1.0000 - val_loss: 0.1619 - val_acc: 0.9538 - 7s/epoch - 121ms/step\n",
      "Epoch 47/100\n",
      "60/60 - 7s - loss: 6.6383e-04 - acc: 1.0000 - val_loss: 0.1591 - val_acc: 0.9454 - 7s/epoch - 121ms/step\n",
      "Epoch 48/100\n",
      "60/60 - 7s - loss: 8.4068e-04 - acc: 1.0000 - val_loss: 0.1688 - val_acc: 0.9580 - 7s/epoch - 121ms/step\n",
      "Epoch 49/100\n",
      "60/60 - 7s - loss: 6.4573e-04 - acc: 1.0000 - val_loss: 0.1592 - val_acc: 0.9580 - 7s/epoch - 120ms/step\n",
      "Epoch 50/100\n",
      "60/60 - 7s - loss: 5.5384e-04 - acc: 1.0000 - val_loss: 0.1548 - val_acc: 0.9580 - 7s/epoch - 121ms/step\n",
      "Epoch 51/100\n",
      "60/60 - 7s - loss: 5.0424e-04 - acc: 1.0000 - val_loss: 0.1515 - val_acc: 0.9580 - 7s/epoch - 121ms/step\n",
      "Epoch 52/100\n",
      "60/60 - 7s - loss: 4.9683e-04 - acc: 1.0000 - val_loss: 0.1587 - val_acc: 0.9580 - 7s/epoch - 120ms/step\n",
      "Epoch 53/100\n",
      "60/60 - 7s - loss: 4.6278e-04 - acc: 1.0000 - val_loss: 0.1575 - val_acc: 0.9580 - 7s/epoch - 120ms/step\n",
      "Epoch 54/100\n",
      "60/60 - 7s - loss: 4.7712e-04 - acc: 1.0000 - val_loss: 0.1578 - val_acc: 0.9538 - 7s/epoch - 121ms/step\n",
      "Epoch 55/100\n",
      "60/60 - 7s - loss: 4.3389e-04 - acc: 1.0000 - val_loss: 0.1678 - val_acc: 0.9538 - 7s/epoch - 121ms/step\n",
      "Epoch 56/100\n",
      "60/60 - 7s - loss: 4.3157e-04 - acc: 1.0000 - val_loss: 0.1619 - val_acc: 0.9538 - 7s/epoch - 121ms/step\n",
      "Epoch 57/100\n",
      "60/60 - 7s - loss: 4.3093e-04 - acc: 1.0000 - val_loss: 0.1534 - val_acc: 0.9496 - 7s/epoch - 121ms/step\n",
      "Epoch 58/100\n",
      "60/60 - 7s - loss: 4.2006e-04 - acc: 1.0000 - val_loss: 0.1588 - val_acc: 0.9454 - 7s/epoch - 120ms/step\n",
      "Epoch 59/100\n",
      "60/60 - 7s - loss: 4.7772e-04 - acc: 1.0000 - val_loss: 0.1629 - val_acc: 0.9454 - 7s/epoch - 122ms/step\n",
      "Epoch 60/100\n",
      "60/60 - 7s - loss: 4.6518e-04 - acc: 1.0000 - val_loss: 0.1701 - val_acc: 0.9580 - 7s/epoch - 121ms/step\n",
      "Epoch 61/100\n",
      "60/60 - 7s - loss: 4.5574e-04 - acc: 1.0000 - val_loss: 0.1581 - val_acc: 0.9580 - 7s/epoch - 120ms/step\n",
      "Epoch 62/100\n",
      "60/60 - 7s - loss: 3.9876e-04 - acc: 1.0000 - val_loss: 0.1507 - val_acc: 0.9496 - 7s/epoch - 121ms/step\n",
      "Epoch 63/100\n",
      "60/60 - 7s - loss: 0.0012 - acc: 1.0000 - val_loss: 0.1523 - val_acc: 0.9538 - 7s/epoch - 120ms/step\n",
      "Epoch 64/100\n",
      "60/60 - 7s - loss: 6.5611e-04 - acc: 1.0000 - val_loss: 0.1794 - val_acc: 0.9580 - 7s/epoch - 121ms/step\n",
      "Epoch 65/100\n",
      "60/60 - 7s - loss: 4.2819e-04 - acc: 1.0000 - val_loss: 0.1782 - val_acc: 0.9538 - 7s/epoch - 120ms/step\n",
      "Epoch 66/100\n",
      "60/60 - 7s - loss: 3.6218e-04 - acc: 1.0000 - val_loss: 0.1805 - val_acc: 0.9538 - 7s/epoch - 121ms/step\n",
      "Epoch 67/100\n",
      "60/60 - 7s - loss: 3.7026e-04 - acc: 1.0000 - val_loss: 0.1631 - val_acc: 0.9538 - 7s/epoch - 121ms/step\n",
      "Epoch 68/100\n",
      "60/60 - 7s - loss: 3.3408e-04 - acc: 1.0000 - val_loss: 0.1631 - val_acc: 0.9538 - 7s/epoch - 120ms/step\n",
      "Epoch 69/100\n",
      "60/60 - 7s - loss: 3.1528e-04 - acc: 1.0000 - val_loss: 0.1712 - val_acc: 0.9538 - 7s/epoch - 120ms/step\n",
      "Epoch 70/100\n",
      "60/60 - 7s - loss: 4.5122e-04 - acc: 1.0000 - val_loss: 0.1695 - val_acc: 0.9538 - 7s/epoch - 122ms/step\n",
      "Epoch 71/100\n",
      "60/60 - 7s - loss: 3.3444e-04 - acc: 1.0000 - val_loss: 0.1431 - val_acc: 0.9538 - 7s/epoch - 120ms/step\n"
     ]
    },
    {
     "name": "stdout",
     "output_type": "stream",
     "text": [
      "Epoch 72/100\n",
      "60/60 - 7s - loss: 3.4092e-04 - acc: 1.0000 - val_loss: 0.1488 - val_acc: 0.9496 - 7s/epoch - 121ms/step\n",
      "Epoch 73/100\n",
      "60/60 - 7s - loss: 3.0534e-04 - acc: 1.0000 - val_loss: 0.1672 - val_acc: 0.9580 - 7s/epoch - 121ms/step\n",
      "Epoch 74/100\n",
      "60/60 - 7s - loss: 2.7203e-04 - acc: 1.0000 - val_loss: 0.1630 - val_acc: 0.9496 - 7s/epoch - 120ms/step\n",
      "Epoch 75/100\n",
      "60/60 - 7s - loss: 2.7729e-04 - acc: 1.0000 - val_loss: 0.1595 - val_acc: 0.9496 - 7s/epoch - 121ms/step\n",
      "Epoch 76/100\n",
      "60/60 - 7s - loss: 2.8883e-04 - acc: 1.0000 - val_loss: 0.1733 - val_acc: 0.9580 - 7s/epoch - 120ms/step\n",
      "Epoch 77/100\n",
      "60/60 - 7s - loss: 2.6922e-04 - acc: 1.0000 - val_loss: 0.1701 - val_acc: 0.9580 - 7s/epoch - 120ms/step\n",
      "Epoch 78/100\n",
      "60/60 - 7s - loss: 2.5093e-04 - acc: 1.0000 - val_loss: 0.1619 - val_acc: 0.9538 - 7s/epoch - 120ms/step\n",
      "Epoch 79/100\n",
      "60/60 - 7s - loss: 2.3936e-04 - acc: 1.0000 - val_loss: 0.1650 - val_acc: 0.9538 - 7s/epoch - 120ms/step\n",
      "Epoch 80/100\n",
      "60/60 - 7s - loss: 2.3836e-04 - acc: 1.0000 - val_loss: 0.1628 - val_acc: 0.9580 - 7s/epoch - 121ms/step\n",
      "Epoch 81/100\n",
      "60/60 - 7s - loss: 2.4102e-04 - acc: 1.0000 - val_loss: 0.1562 - val_acc: 0.9496 - 7s/epoch - 121ms/step\n",
      "Epoch 82/100\n",
      "60/60 - 7s - loss: 2.3044e-04 - acc: 1.0000 - val_loss: 0.1632 - val_acc: 0.9496 - 7s/epoch - 120ms/step\n",
      "Epoch 83/100\n",
      "60/60 - 7s - loss: 2.3438e-04 - acc: 1.0000 - val_loss: 0.1694 - val_acc: 0.9496 - 7s/epoch - 120ms/step\n",
      "Epoch 84/100\n",
      "60/60 - 7s - loss: 2.3495e-04 - acc: 1.0000 - val_loss: 0.1710 - val_acc: 0.9580 - 7s/epoch - 120ms/step\n",
      "Epoch 85/100\n",
      "60/60 - 7s - loss: 2.4174e-04 - acc: 1.0000 - val_loss: 0.1693 - val_acc: 0.9580 - 7s/epoch - 120ms/step\n",
      "Epoch 86/100\n",
      "60/60 - 7s - loss: 2.0959e-04 - acc: 1.0000 - val_loss: 0.1527 - val_acc: 0.9538 - 7s/epoch - 120ms/step\n",
      "Epoch 87/100\n",
      "60/60 - 7s - loss: 2.2259e-04 - acc: 1.0000 - val_loss: 0.1638 - val_acc: 0.9496 - 7s/epoch - 121ms/step\n",
      "Epoch 88/100\n",
      "60/60 - 7s - loss: 2.2685e-04 - acc: 1.0000 - val_loss: 0.1703 - val_acc: 0.9496 - 7s/epoch - 120ms/step\n",
      "Epoch 89/100\n",
      "60/60 - 7s - loss: 2.0508e-04 - acc: 1.0000 - val_loss: 0.1748 - val_acc: 0.9580 - 7s/epoch - 120ms/step\n",
      "Epoch 90/100\n",
      "60/60 - 7s - loss: 1.9987e-04 - acc: 1.0000 - val_loss: 0.1683 - val_acc: 0.9580 - 7s/epoch - 121ms/step\n",
      "Epoch 91/100\n",
      "60/60 - 7s - loss: 2.1409e-04 - acc: 1.0000 - val_loss: 0.1518 - val_acc: 0.9538 - 7s/epoch - 121ms/step\n",
      "Epoch 92/100\n",
      "60/60 - 7s - loss: 2.1908e-04 - acc: 1.0000 - val_loss: 0.1710 - val_acc: 0.9580 - 7s/epoch - 121ms/step\n",
      "Epoch 93/100\n",
      "60/60 - 7s - loss: 2.0903e-04 - acc: 1.0000 - val_loss: 0.1658 - val_acc: 0.9538 - 7s/epoch - 121ms/step\n",
      "Epoch 94/100\n",
      "60/60 - 7s - loss: 2.1297e-04 - acc: 1.0000 - val_loss: 0.1673 - val_acc: 0.9496 - 7s/epoch - 120ms/step\n",
      "Epoch 95/100\n",
      "60/60 - 7s - loss: 5.7805e-04 - acc: 1.0000 - val_loss: 0.1822 - val_acc: 0.9580 - 7s/epoch - 121ms/step\n",
      "Epoch 96/100\n",
      "60/60 - 7s - loss: 0.0030 - acc: 1.0000 - val_loss: 0.1622 - val_acc: 0.9496 - 7s/epoch - 121ms/step\n",
      "Epoch 97/100\n",
      "60/60 - 7s - loss: 0.2279 - acc: 0.9324 - val_loss: 63.6446 - val_acc: 0.2143 - 7s/epoch - 121ms/step\n",
      "Epoch 98/100\n",
      "60/60 - 7s - loss: 0.7487 - acc: 0.7450 - val_loss: 2.7861 - val_acc: 0.6891 - 7s/epoch - 120ms/step\n",
      "Epoch 99/100\n",
      "60/60 - 7s - loss: 0.4114 - acc: 0.8770 - val_loss: 2.2174 - val_acc: 0.6849 - 7s/epoch - 120ms/step\n",
      "Epoch 100/100\n",
      "60/60 - 7s - loss: 0.2938 - acc: 0.9097 - val_loss: 0.8694 - val_acc: 0.7983 - 7s/epoch - 120ms/step\n"
     ]
    }
   ],
   "source": [
    "epochs = 100\n",
    "\n",
    "#compila e treina o modelo com os dados carregados\n",
    "new_model.compile(loss='sparse_categorical_crossentropy', metrics=['acc'], optimizer=adam)\n",
    "model_trained = new_model.fit(train_x, train_y,epochs=epochs,verbose=2,validation_data=(validation_x, validation_y),shuffle=False)"
   ]
  },
  {
   "cell_type": "code",
   "execution_count": 18,
   "metadata": {},
   "outputs": [],
   "source": [
    "def getLayerIndexByName(model, layername):\n",
    "    for idx, layer in enumerate(model.layers):\n",
    "        if layer.name == layername:\n",
    "            return idx"
   ]
  },
  {
   "cell_type": "code",
   "execution_count": 19,
   "metadata": {},
   "outputs": [],
   "source": [
    "#print(getLayerIndexByName(new_model, 'flatten_1')) #just used to get the index of flatten layer"
   ]
  },
  {
   "cell_type": "code",
   "execution_count": 20,
   "metadata": {},
   "outputs": [
    {
     "name": "stderr",
     "output_type": "stream",
     "text": [
      "WARNING:absl:Function `_wrapped_model` contains input name(s) mobilenet_1.00_128_input with unsupported characters which will be renamed to mobilenet_1_00_128_input in the SavedModel.\n",
      "WARNING:absl:Found untraced functions such as _jit_compiled_convolution_op, _jit_compiled_convolution_op, _jit_compiled_convolution_op, _jit_compiled_convolution_op, _jit_compiled_convolution_op while saving (showing 5 of 29). These functions will not be directly callable after loading.\n"
     ]
    },
    {
     "name": "stdout",
     "output_type": "stream",
     "text": [
      "INFO:tensorflow:Assets written to: displasys_mobilenet-baseline-holdout-100epochs_dataAugmenting_l2_dropout.npy\\assets\n"
     ]
    },
    {
     "name": "stderr",
     "output_type": "stream",
     "text": [
      "INFO:tensorflow:Assets written to: displasys_mobilenet-baseline-holdout-100epochs_dataAugmenting_l2_dropout.npy\\assets\n"
     ]
    }
   ],
   "source": [
    "model_name = f'displasys_mobilenet-baseline-holdout-{epochs}epochs_dataAugmenting_l2_dropout.npy'\n",
    "new_model.save(model_name)"
   ]
  },
  {
   "cell_type": "markdown",
   "metadata": {},
   "source": [
    "# **Random Forest - flatting**"
   ]
  },
  {
   "cell_type": "code",
   "execution_count": 21,
   "metadata": {},
   "outputs": [
    {
     "name": "stdout",
     "output_type": "stream",
     "text": [
      "60/60 [==============================] - 2s 34ms/step\n"
     ]
    }
   ],
   "source": [
    "new_model_rf = keras.Model(inputs=new_model.input, outputs=new_model.get_layer(index=9).output)\n",
    "featureVector = new_model_rf.predict(train_x)"
   ]
  },
  {
   "cell_type": "code",
   "execution_count": 22,
   "metadata": {},
   "outputs": [
    {
     "name": "stdout",
     "output_type": "stream",
     "text": [
      "8/8 [==============================] - 1s 72ms/step\n"
     ]
    }
   ],
   "source": [
    "featureVector2 = new_model_rf.predict(test_x)"
   ]
  },
  {
   "cell_type": "code",
   "execution_count": 23,
   "metadata": {},
   "outputs": [
    {
     "name": "stdout",
     "output_type": "stream",
     "text": [
      "(1894, 64)\n"
     ]
    }
   ],
   "source": [
    "print(featureVector.shape)"
   ]
  },
  {
   "cell_type": "code",
   "execution_count": 24,
   "metadata": {},
   "outputs": [],
   "source": [
    "from sklearn.ensemble import RandomForestClassifier"
   ]
  },
  {
   "cell_type": "code",
   "execution_count": 25,
   "metadata": {},
   "outputs": [
    {
     "data": {
      "text/html": [
       "<style>#sk-container-id-1 {color: black;}#sk-container-id-1 pre{padding: 0;}#sk-container-id-1 div.sk-toggleable {background-color: white;}#sk-container-id-1 label.sk-toggleable__label {cursor: pointer;display: block;width: 100%;margin-bottom: 0;padding: 0.3em;box-sizing: border-box;text-align: center;}#sk-container-id-1 label.sk-toggleable__label-arrow:before {content: \"▸\";float: left;margin-right: 0.25em;color: #696969;}#sk-container-id-1 label.sk-toggleable__label-arrow:hover:before {color: black;}#sk-container-id-1 div.sk-estimator:hover label.sk-toggleable__label-arrow:before {color: black;}#sk-container-id-1 div.sk-toggleable__content {max-height: 0;max-width: 0;overflow: hidden;text-align: left;background-color: #f0f8ff;}#sk-container-id-1 div.sk-toggleable__content pre {margin: 0.2em;color: black;border-radius: 0.25em;background-color: #f0f8ff;}#sk-container-id-1 input.sk-toggleable__control:checked~div.sk-toggleable__content {max-height: 200px;max-width: 100%;overflow: auto;}#sk-container-id-1 input.sk-toggleable__control:checked~label.sk-toggleable__label-arrow:before {content: \"▾\";}#sk-container-id-1 div.sk-estimator input.sk-toggleable__control:checked~label.sk-toggleable__label {background-color: #d4ebff;}#sk-container-id-1 div.sk-label input.sk-toggleable__control:checked~label.sk-toggleable__label {background-color: #d4ebff;}#sk-container-id-1 input.sk-hidden--visually {border: 0;clip: rect(1px 1px 1px 1px);clip: rect(1px, 1px, 1px, 1px);height: 1px;margin: -1px;overflow: hidden;padding: 0;position: absolute;width: 1px;}#sk-container-id-1 div.sk-estimator {font-family: monospace;background-color: #f0f8ff;border: 1px dotted black;border-radius: 0.25em;box-sizing: border-box;margin-bottom: 0.5em;}#sk-container-id-1 div.sk-estimator:hover {background-color: #d4ebff;}#sk-container-id-1 div.sk-parallel-item::after {content: \"\";width: 100%;border-bottom: 1px solid gray;flex-grow: 1;}#sk-container-id-1 div.sk-label:hover label.sk-toggleable__label {background-color: #d4ebff;}#sk-container-id-1 div.sk-serial::before {content: \"\";position: absolute;border-left: 1px solid gray;box-sizing: border-box;top: 0;bottom: 0;left: 50%;z-index: 0;}#sk-container-id-1 div.sk-serial {display: flex;flex-direction: column;align-items: center;background-color: white;padding-right: 0.2em;padding-left: 0.2em;position: relative;}#sk-container-id-1 div.sk-item {position: relative;z-index: 1;}#sk-container-id-1 div.sk-parallel {display: flex;align-items: stretch;justify-content: center;background-color: white;position: relative;}#sk-container-id-1 div.sk-item::before, #sk-container-id-1 div.sk-parallel-item::before {content: \"\";position: absolute;border-left: 1px solid gray;box-sizing: border-box;top: 0;bottom: 0;left: 50%;z-index: -1;}#sk-container-id-1 div.sk-parallel-item {display: flex;flex-direction: column;z-index: 1;position: relative;background-color: white;}#sk-container-id-1 div.sk-parallel-item:first-child::after {align-self: flex-end;width: 50%;}#sk-container-id-1 div.sk-parallel-item:last-child::after {align-self: flex-start;width: 50%;}#sk-container-id-1 div.sk-parallel-item:only-child::after {width: 0;}#sk-container-id-1 div.sk-dashed-wrapped {border: 1px dashed gray;margin: 0 0.4em 0.5em 0.4em;box-sizing: border-box;padding-bottom: 0.4em;background-color: white;}#sk-container-id-1 div.sk-label label {font-family: monospace;font-weight: bold;display: inline-block;line-height: 1.2em;}#sk-container-id-1 div.sk-label-container {text-align: center;}#sk-container-id-1 div.sk-container {/* jupyter's `normalize.less` sets `[hidden] { display: none; }` but bootstrap.min.css set `[hidden] { display: none !important; }` so we also need the `!important` here to be able to override the default hidden behavior on the sphinx rendered scikit-learn.org. See: https://github.com/scikit-learn/scikit-learn/issues/21755 */display: inline-block !important;position: relative;}#sk-container-id-1 div.sk-text-repr-fallback {display: none;}</style><div id=\"sk-container-id-1\" class=\"sk-top-container\"><div class=\"sk-text-repr-fallback\"><pre>RandomForestClassifier()</pre><b>In a Jupyter environment, please rerun this cell to show the HTML representation or trust the notebook. <br />On GitHub, the HTML representation is unable to render, please try loading this page with nbviewer.org.</b></div><div class=\"sk-container\" hidden><div class=\"sk-item\"><div class=\"sk-estimator sk-toggleable\"><input class=\"sk-toggleable__control sk-hidden--visually\" id=\"sk-estimator-id-1\" type=\"checkbox\" checked><label for=\"sk-estimator-id-1\" class=\"sk-toggleable__label sk-toggleable__label-arrow\">RandomForestClassifier</label><div class=\"sk-toggleable__content\"><pre>RandomForestClassifier()</pre></div></div></div></div></div>"
      ],
      "text/plain": [
       "RandomForestClassifier()"
      ]
     },
     "execution_count": 25,
     "metadata": {},
     "output_type": "execute_result"
    }
   ],
   "source": [
    "clf=RandomForestClassifier(n_estimators=100)\n",
    "\n",
    "clf.fit(featureVector,train_y)\n",
    "\n"
   ]
  },
  {
   "cell_type": "code",
   "execution_count": 26,
   "metadata": {},
   "outputs": [
    {
     "data": {
      "text/plain": [
       "(236, 128, 128, 3)"
      ]
     },
     "execution_count": 26,
     "metadata": {},
     "output_type": "execute_result"
    }
   ],
   "source": [
    "test_x.shape"
   ]
  },
  {
   "cell_type": "code",
   "execution_count": 27,
   "metadata": {},
   "outputs": [],
   "source": [
    "y_pred=clf.predict(featureVector2)"
   ]
  },
  {
   "cell_type": "code",
   "execution_count": 28,
   "metadata": {},
   "outputs": [
    {
     "data": {
      "text/plain": [
       "(1894, 64)"
      ]
     },
     "execution_count": 28,
     "metadata": {},
     "output_type": "execute_result"
    }
   ],
   "source": [
    "featureVector.shape"
   ]
  },
  {
   "cell_type": "code",
   "execution_count": 29,
   "metadata": {},
   "outputs": [
    {
     "name": "stdout",
     "output_type": "stream",
     "text": [
      "Accuracy: 0.8940677966101694\n"
     ]
    }
   ],
   "source": [
    "from sklearn import metrics\n",
    "print(\"Accuracy:\",metrics.accuracy_score(test_y, y_pred))"
   ]
  },
  {
   "cell_type": "markdown",
   "metadata": {
    "id": "v2tUu9UW4S_S"
   },
   "source": [
    "# **Testes**"
   ]
  },
  {
   "cell_type": "code",
   "execution_count": 30,
   "metadata": {
    "id": "-02BWWgF4V9h"
   },
   "outputs": [
    {
     "data": {
      "image/png": "[encoded data removed]",
      "text/plain": [
       "<Figure size 640x480 with 1 Axes>"
      ]
     },
     "metadata": {},
     "output_type": "display_data"
    },
    {
     "data": {
      "image/png": "[encoded data removed]",
      "text/plain": [
       "<Figure size 640x480 with 1 Axes>"
      ]
     },
     "metadata": {},
     "output_type": "display_data"
    }
   ],
   "source": [
    "import matplotlib.pyplot as plt\n",
    "\n",
    "accuracy = model_trained.history['acc']\n",
    "val_accuracy = model_trained.history['val_acc']\n",
    "loss = model_trained.history['loss']\n",
    "val_loss = model_trained.history['val_loss']\n",
    "epochs = range(len(accuracy))\n",
    "plt.plot(epochs, accuracy, 'b', label='Acurácia de treino')\n",
    "plt.plot(epochs, val_accuracy, 'g', label='Acurácia de validação')\n",
    "plt.title('Acurácia de treino e validação')\n",
    "plt.legend()\n",
    "plt.figure()\n",
    "plt.plot(epochs, loss, 'b', label='Perda no treino')\n",
    "plt.plot(epochs, val_loss, 'g', label='Perda na validação')\n",
    "plt.title('Perda na validação e treino')\n",
    "plt.legend()\n",
    "plt.show()"
   ]
  },
  {
   "cell_type": "code",
   "execution_count": 31,
   "metadata": {
    "id": "On7_hNmrOysp"
   },
   "outputs": [
    {
     "name": "stdout",
     "output_type": "stream",
     "text": [
      "8/8 [==============================] - 0s 39ms/step - loss: 1.0582 - acc: 0.7797\n",
      "Test loss: 1.0581927299499512\n",
      "Test accuracy: 0.7796609997749329\n"
     ]
    }
   ],
   "source": [
    "#avalia a fase de teste\n",
    "\n",
    "model_loss, model_accuracy = new_model.evaluate(test_x, test_y, verbose=1)\n",
    "\n",
    "#mostra o resultado\n",
    "print('Test loss:', model_loss)\n",
    "print('Test accuracy:', model_accuracy)"
   ]
  },
  {
   "cell_type": "code",
   "execution_count": 32,
   "metadata": {
    "id": "uGYRlhnq8wsF"
   },
   "outputs": [],
   "source": [
    "#faz a predição das imagens\n",
    "\n",
    "from tensorflow.keras.utils import to_categorical\n",
    "\n",
    "pred = new_model.predict(test_x, verbose=0)\n",
    "\n",
    "pred_probs = np.argmax(pred,axis=1)"
   ]
  },
  {
   "cell_type": "code",
   "execution_count": 33,
   "metadata": {
    "id": "Vt4jZ2jB8ygE"
   },
   "outputs": [],
   "source": [
    "from sklearn.metrics import confusion_matrix\n",
    "from sklearn.metrics import classification_report\n",
    "from sklearn.metrics import accuracy_score\n",
    "from sklearn.metrics import f1_score"
   ]
  },
  {
   "cell_type": "code",
   "execution_count": 34,
   "metadata": {
    "id": "9gx5yvuU84UC"
   },
   "outputs": [],
   "source": [
    "cm = confusion_matrix(test_y, pred_probs)"
   ]
  },
  {
   "cell_type": "code",
   "execution_count": 35,
   "metadata": {
    "id": "NUrE8yfU86OL"
   },
   "outputs": [
    {
     "name": "stdout",
     "output_type": "stream",
     "text": [
      "F1 Score: 0.7817094009043325\n",
      "Sensitivity: [0.75675676 0.98039216 0.50943396 0.87931034]\n",
      "Specificity: [0.99382716 0.78378378 0.98360656 0.95505618]\n",
      "Precision:   [0.98245614 0.55555556 0.9        0.86440678]\n",
      "Accuracy:    [0.91949153 0.82627119 0.87711864 0.93644068]\n"
     ]
    }
   ],
   "source": [
    "#gera os valores de falso positivo, falso negativo, verdadeiro positivo e verdadeiro negativo\n",
    "fp = cm.sum(axis=0) - np.diag(cm)  \n",
    "fn = cm.sum(axis=1) - np.diag(cm)\n",
    "tp = np.diag(cm)\n",
    "tn = cm.sum() - (fp + fn + tp)\n",
    "\n",
    "f1score = f1_score(test_y, pred_probs, average='weighted')\n",
    "sensitivity = tp / (tp + fn)\n",
    "specificity = tn / (tn + fp)\n",
    "accuracy    = (tp + tn) / (tp + tn + fp + fn)\n",
    "precision   = tp / (tp + fp)\n",
    "\n",
    "\n",
    "print(\"F1 Score:\", f1score)\n",
    "print(\"Sensitivity:\", sensitivity)\n",
    "print(\"Specificity:\", specificity)\n",
    "print(\"Precision:  \", precision)\n",
    "print(\"Accuracy:   \", accuracy)"
   ]
  },
  {
   "cell_type": "code",
   "execution_count": null,
   "metadata": {},
   "outputs": [],
   "source": []
  },
  {
   "cell_type": "code",
   "execution_count": null,
   "metadata": {},
   "outputs": [],
   "source": []
  }
 ],
 "metadata": {
  "colab": {
   "collapsed_sections": [],
   "name": "covid_alex_holdout_cropping_tgo.ipynb",
   "provenance": []
  },
  "kernelspec": {
   "display_name": "Python 3 (ipykernel)",
   "language": "python",
   "name": "python3"
  },
  "language_info": {
   "codemirror_mode": {
    "name": "ipython",
    "version": 3
   },
   "file_extension": ".py",
   "mimetype": "text/x-python",
   "name": "python",
   "nbconvert_exporter": "python",
   "pygments_lexer": "ipython3",
   "version": "3.9.17"
  }
 },
 "nbformat": 4,
 "nbformat_minor": 1
}
