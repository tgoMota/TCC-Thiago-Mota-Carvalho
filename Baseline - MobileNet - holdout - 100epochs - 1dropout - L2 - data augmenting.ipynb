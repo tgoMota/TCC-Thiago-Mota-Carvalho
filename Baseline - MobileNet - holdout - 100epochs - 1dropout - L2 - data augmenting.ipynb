{
 "cells": [
  {
   "cell_type": "code",
   "execution_count": 1,
   "metadata": {
    "id": "on-xhn6xYqDo"
   },
   "outputs": [],
   "source": [
    "import tensorflow as tf\n",
    "from tensorflow import keras\n",
    "import matplotlib.pyplot as plt\n",
    "import os\n",
    "import time"
   ]
  },
  {
   "cell_type": "code",
   "execution_count": 2,
   "metadata": {
    "id": "Zq5nydmlidrt"
   },
   "outputs": [],
   "source": [
    "import cv2\n",
    "import os\n",
    "from tqdm import tqdm\n",
    "import matplotlib.pyplot as plt\n",
    "import numpy as np\n",
    "import glob\n",
    "from tensorflow.keras.preprocessing.image import ImageDataGenerator\n",
    "from tensorflow.keras.applications import *\n",
    "from tensorflow.keras.layers import *\n",
    "from tensorflow.keras.models import *\n",
    "from tensorflow.keras.optimizers import Adam\n",
    "from tensorflow.keras.utils import to_categorical\n",
    "from sklearn.preprocessing import LabelEncoder\n",
    "from sklearn.metrics import *\n",
    "from tensorflow.keras.callbacks import *"
   ]
  },
  {
   "cell_type": "code",
   "execution_count": 3,
   "metadata": {},
   "outputs": [],
   "source": [
    "CLASS_NAMES= ['healthy', 'mild', 'moderate', 'severe']\n",
    "IMG_HEIGHT = 128\n",
    "IMG_WIDTH = 128\n",
    "CHANNELS = 3\n",
    "NUM_CLASSES = len(CLASS_NAMES)"
   ]
  },
  {
   "cell_type": "markdown",
   "metadata": {
    "id": "yfeZvMIEDOwS"
   },
   "source": [
    "# **ResNET**"
   ]
  },
  {
   "cell_type": "code",
   "execution_count": 4,
   "metadata": {
    "id": "98Cf8ZeSEbCU"
   },
   "outputs": [],
   "source": [
    "from sklearn.model_selection import train_test_split"
   ]
  },
  {
   "cell_type": "code",
   "execution_count": 5,
   "metadata": {},
   "outputs": [
    {
     "name": "stdout",
     "output_type": "stream",
     "text": [
      "TOTAL_IMAGES =  2368\n"
     ]
    }
   ],
   "source": [
    "#load data\n",
    "data_x = np.load('data_x_aumentated_normalized.npy') #images\n",
    "data_y = np.load('data_y_aumentated_normalized.npy') #labels\n",
    "TOTAL_IMAGES = len(data_y)\n",
    "print(\"TOTAL_IMAGES = \", TOTAL_IMAGES)"
   ]
  },
  {
   "cell_type": "markdown",
   "metadata": {},
   "source": [
    "# **Splitting data in train - validation - test**"
   ]
  },
  {
   "cell_type": "code",
   "execution_count": 6,
   "metadata": {},
   "outputs": [],
   "source": [
    "#percentage of the dataset which will be on TRAIN - TEST - VALIDATION\n",
    "TRAIN_PERCENTAGE = 0.8\n",
    "TEST_PERCENTAGE = 0.1\n",
    "VALIDATION_PERCENTAGE = 0.1"
   ]
  },
  {
   "cell_type": "code",
   "execution_count": 7,
   "metadata": {},
   "outputs": [],
   "source": [
    "train_size = int(TRAIN_PERCENTAGE * TOTAL_IMAGES)\n",
    "test_size = int(TEST_PERCENTAGE * TOTAL_IMAGES)\n",
    "validation_size = int(VALIDATION_PERCENTAGE * TOTAL_IMAGES)"
   ]
  },
  {
   "cell_type": "code",
   "execution_count": 8,
   "metadata": {},
   "outputs": [],
   "source": [
    "train_x = data_x[:train_size]\n",
    "train_y = data_y[:train_size]\n",
    "data_x = data_x[train_size:]\n",
    "data_y = data_y[train_size:]\n",
    "\n",
    "test_x = data_x[:test_size]\n",
    "test_y = data_y[:test_size]\n",
    "data_x = data_x[test_size:]\n",
    "data_y = data_y[test_size:]\n",
    "\n",
    "validation_x = data_x #all the remainder we can let on validation\n",
    "validation_y = data_y\n",
    "del data_x\n",
    "del data_y"
   ]
  },
  {
   "cell_type": "code",
   "execution_count": 9,
   "metadata": {},
   "outputs": [
    {
     "name": "stdout",
     "output_type": "stream",
     "text": [
      "train_size =  1894\n",
      "test_size =  236\n",
      "validation_size =  238\n"
     ]
    }
   ],
   "source": [
    "print(\"train_size = \", len(train_y))\n",
    "print(\"test_size = \", len(test_y))\n",
    "print(\"validation_size = \", len(validation_y))"
   ]
  },
  {
   "cell_type": "code",
   "execution_count": 10,
   "metadata": {
    "id": "BiIjdq89J1uJ"
   },
   "outputs": [],
   "source": [
    "from tensorflow import keras\n",
    "from tensorflow.keras.models import Sequential\n",
    "from tensorflow.keras.layers import Dense, Activation, Dropout, Flatten, Conv2D, MaxPooling2D\n",
    "from tensorflow.keras.regularizers import l2\n",
    "from tensorflow.keras.regularizers import l1\n",
    "from tensorflow.keras.callbacks import EarlyStopping"
   ]
  },
  {
   "cell_type": "code",
   "execution_count": 11,
   "metadata": {
    "colab": {
     "base_uri": "https://localhost:8080/"
    },
    "id": "j0vHxhMjLyhJ",
    "outputId": "e5ec2803-8f76-4719-e279-27c52eb8d72d"
   },
   "outputs": [],
   "source": [
    "from tensorflow.keras import layers\n",
    "from tensorflow.keras.layers import Input, Add, Dense, Activation, ZeroPadding2D, BatchNormalization, Flatten, Conv2D, AveragePooling2D, MaxPooling2D, GlobalMaxPooling2D\n",
    "from tensorflow.keras.models import Model, load_model\n",
    "from tensorflow.keras.preprocessing import image\n",
    "from IPython.display import SVG\n",
    "import scipy.misc"
   ]
  },
  {
   "cell_type": "code",
   "execution_count": 12,
   "metadata": {},
   "outputs": [],
   "source": [
    "# from tensorflow.keras.applications import EfficientNetB0\n",
    "# from tensorflow.keras.applications import EfficientNetB1\n",
    "# from tensorflow.keras.applications import EfficientNetB2\n",
    "# from tensorflow.keras.applications import EfficientNetB3\n",
    "# from tensorflow.keras.applications import EfficientNetB4\n",
    "# from tensorflow.keras.applications import EfficientNetB5\n",
    "# from tensorflow.keras.applications import EfficientNetB6\n",
    "# from tensorflow.keras.applications import EfficientNetB7\n",
    "# from tensorflow.keras.applications import *"
   ]
  },
  {
   "cell_type": "code",
   "execution_count": 13,
   "metadata": {},
   "outputs": [
    {
     "name": "stderr",
     "output_type": "stream",
     "text": [
      "C:\\Users\\tmcle\\.conda\\envs\\tf\\lib\\site-packages\\keras\\backend.py:451: UserWarning: `tf.keras.backend.set_learning_phase` is deprecated and will be removed after 2020-10-11. To update it, simply pass a True/False value to the `training` argument of the `__call__` method of your layer or model.\n",
      "  warnings.warn(\n"
     ]
    }
   ],
   "source": [
    "import tensorflow.keras.backend as K\n",
    "K.set_image_data_format('channels_last')\n",
    "K.set_learning_phase(1)"
   ]
  },
  {
   "cell_type": "code",
   "execution_count": 14,
   "metadata": {},
   "outputs": [],
   "source": [
    "model = tf.keras.applications.MobileNet(\n",
    "    include_top=False,\n",
    "    weights=\"imagenet\",\n",
    "    input_tensor=None,\n",
    "    input_shape=(IMG_HEIGHT,IMG_WIDTH, CHANNELS),\n",
    "    pooling=None,\n",
    "    classes=NUM_CLASSES,\n",
    "   # classifier_activation=\"softmax\",\n",
    "#    **kwargs\n",
    ")"
   ]
  },
  {
   "cell_type": "code",
   "execution_count": 15,
   "metadata": {},
   "outputs": [
    {
     "name": "stderr",
     "output_type": "stream",
     "text": [
      "C:\\Users\\tmcle\\.conda\\envs\\tf\\lib\\site-packages\\keras\\optimizers\\optimizer_v2\\adam.py:114: UserWarning: The `lr` argument is deprecated, use `learning_rate` instead.\n",
      "  super().__init__(name, **kwargs)\n"
     ]
    }
   ],
   "source": [
    "from tensorflow.keras import models\n",
    "from tensorflow.keras import layers\n",
    "\n",
    "new_model = models.Sequential()\n",
    "new_model.add(model)\n",
    "#3rd conv layer\n",
    "new_model.add(tf.keras.layers.Conv2D(32, 3, padding=\"same\"))\n",
    "new_model.add(tf.keras.layers.BatchNormalization())\n",
    "new_model.add(tf.keras.layers.Activation(\"relu\"))\n",
    "new_model.add(tf.keras.layers.MaxPooling2D(2))\n",
    "#4th conv layer\n",
    "new_model.add(tf.keras.layers.Conv2D(64, 3, padding=\"same\"))\n",
    "new_model.add(tf.keras.layers.BatchNormalization())\n",
    "new_model.add(tf.keras.layers.Activation(\"relu\"))\n",
    "new_model.add(tf.keras.layers.MaxPooling2D(2))\n",
    "#Flatten Layer\n",
    "new_model.add(tf.keras.layers.Flatten())\n",
    "\n",
    "new_model.add(tf.keras.layers.Dense(128, kernel_regularizer =tf.keras.regularizers.l2( l=0.01)))\n",
    "new_model.add(tf.keras.layers.BatchNormalization())\n",
    "new_model.add(tf.keras.layers.Activation(\"relu\"))\n",
    "new_model.add(tf.keras.layers.Dropout(0.2))\n",
    "#output Dense Layer\n",
    "new_model.add(tf.keras.layers.Dense(NUM_CLASSES))\n",
    "new_model.add(tf.keras.layers.Activation('softmax'))\n",
    "adam = tf.keras.optimizers.Adam(lr=0.001)\n"
   ]
  },
  {
   "cell_type": "code",
   "execution_count": 16,
   "metadata": {},
   "outputs": [
    {
     "name": "stdout",
     "output_type": "stream",
     "text": [
      "Model: \"sequential\"\n",
      "_________________________________________________________________\n",
      " Layer (type)                Output Shape              Param #   \n",
      "=================================================================\n",
      " mobilenet_1.00_128 (Functio  (None, 4, 4, 1024)       3228864   \n",
      " nal)                                                            \n",
      "                                                                 \n",
      " conv2d (Conv2D)             (None, 4, 4, 32)          294944    \n",
      "                                                                 \n",
      " batch_normalization (BatchN  (None, 4, 4, 32)         128       \n",
      " ormalization)                                                   \n",
      "                                                                 \n",
      " activation (Activation)     (None, 4, 4, 32)          0         \n",
      "                                                                 \n",
      " max_pooling2d (MaxPooling2D  (None, 2, 2, 32)         0         \n",
      " )                                                               \n",
      "                                                                 \n",
      " conv2d_1 (Conv2D)           (None, 2, 2, 64)          18496     \n",
      "                                                                 \n",
      " batch_normalization_1 (Batc  (None, 2, 2, 64)         256       \n",
      " hNormalization)                                                 \n",
      "                                                                 \n",
      " activation_1 (Activation)   (None, 2, 2, 64)          0         \n",
      "                                                                 \n",
      " max_pooling2d_1 (MaxPooling  (None, 1, 1, 64)         0         \n",
      " 2D)                                                             \n",
      "                                                                 \n",
      " flatten (Flatten)           (None, 64)                0         \n",
      "                                                                 \n",
      " dense (Dense)               (None, 128)               8320      \n",
      "                                                                 \n",
      " batch_normalization_2 (Batc  (None, 128)              512       \n",
      " hNormalization)                                                 \n",
      "                                                                 \n",
      " activation_2 (Activation)   (None, 128)               0         \n",
      "                                                                 \n",
      " dropout (Dropout)           (None, 128)               0         \n",
      "                                                                 \n",
      " dense_1 (Dense)             (None, 4)                 516       \n",
      "                                                                 \n",
      " activation_3 (Activation)   (None, 4)                 0         \n",
      "                                                                 \n",
      "=================================================================\n",
      "Total params: 3,552,036\n",
      "Trainable params: 3,529,700\n",
      "Non-trainable params: 22,336\n",
      "_________________________________________________________________\n"
     ]
    }
   ],
   "source": [
    "new_model.summary()"
   ]
  },
  {
   "cell_type": "code",
   "execution_count": 17,
   "metadata": {},
   "outputs": [
    {
     "name": "stdout",
     "output_type": "stream",
     "text": [
      "Epoch 1/100\n",
      "60/60 - 13s - loss: 1.5993 - acc: 0.6763 - val_loss: 4.1461 - val_acc: 0.2647 - 13s/epoch - 225ms/step\n",
      "Epoch 2/100\n",
      "60/60 - 7s - loss: 0.9470 - acc: 0.8849 - val_loss: 3.4632 - val_acc: 0.3613 - 7s/epoch - 125ms/step\n",
      "Epoch 3/100\n",
      "60/60 - 7s - loss: 0.6358 - acc: 0.9530 - val_loss: 3.5719 - val_acc: 0.4664 - 7s/epoch - 123ms/step\n",
      "Epoch 4/100\n",
      "60/60 - 7s - loss: 0.5322 - acc: 0.9472 - val_loss: 2.9983 - val_acc: 0.5924 - 7s/epoch - 124ms/step\n",
      "Epoch 5/100\n",
      "60/60 - 7s - loss: 0.4372 - acc: 0.9520 - val_loss: 2.7387 - val_acc: 0.4538 - 7s/epoch - 123ms/step\n",
      "Epoch 6/100\n",
      "60/60 - 7s - loss: 0.3186 - acc: 0.9652 - val_loss: 1.0214 - val_acc: 0.7941 - 7s/epoch - 122ms/step\n",
      "Epoch 7/100\n",
      "60/60 - 7s - loss: 0.2438 - acc: 0.9731 - val_loss: 1.2496 - val_acc: 0.7227 - 7s/epoch - 122ms/step\n",
      "Epoch 8/100\n",
      "60/60 - 7s - loss: 0.2337 - acc: 0.9683 - val_loss: 1.7258 - val_acc: 0.6387 - 7s/epoch - 122ms/step\n",
      "Epoch 9/100\n",
      "60/60 - 7s - loss: 0.1814 - acc: 0.9752 - val_loss: 0.6511 - val_acc: 0.8193 - 7s/epoch - 121ms/step\n",
      "Epoch 10/100\n",
      "60/60 - 7s - loss: 0.1223 - acc: 0.9879 - val_loss: 0.6390 - val_acc: 0.8487 - 7s/epoch - 122ms/step\n",
      "Epoch 11/100\n",
      "60/60 - 7s - loss: 0.0944 - acc: 0.9905 - val_loss: 0.6854 - val_acc: 0.8277 - 7s/epoch - 121ms/step\n",
      "Epoch 12/100\n",
      "60/60 - 7s - loss: 0.0732 - acc: 0.9937 - val_loss: 0.6385 - val_acc: 0.8445 - 7s/epoch - 121ms/step\n",
      "Epoch 13/100\n",
      "60/60 - 7s - loss: 0.0535 - acc: 0.9952 - val_loss: 0.5885 - val_acc: 0.8571 - 7s/epoch - 121ms/step\n",
      "Epoch 14/100\n",
      "60/60 - 7s - loss: 0.0972 - acc: 0.9805 - val_loss: 0.5129 - val_acc: 0.8571 - 7s/epoch - 121ms/step\n",
      "Epoch 15/100\n",
      "60/60 - 7s - loss: 0.0616 - acc: 0.9884 - val_loss: 0.5846 - val_acc: 0.8739 - 7s/epoch - 121ms/step\n",
      "Epoch 16/100\n",
      "60/60 - 7s - loss: 0.1020 - acc: 0.9736 - val_loss: 0.8708 - val_acc: 0.8613 - 7s/epoch - 121ms/step\n",
      "Epoch 17/100\n",
      "60/60 - 7s - loss: 0.1278 - acc: 0.9630 - val_loss: 4.4516 - val_acc: 0.4958 - 7s/epoch - 121ms/step\n",
      "Epoch 18/100\n",
      "60/60 - 7s - loss: 0.0858 - acc: 0.9815 - val_loss: 1.2218 - val_acc: 0.7563 - 7s/epoch - 121ms/step\n",
      "Epoch 19/100\n",
      "60/60 - 7s - loss: 0.0559 - acc: 0.9900 - val_loss: 0.2325 - val_acc: 0.9328 - 7s/epoch - 121ms/step\n",
      "Epoch 20/100\n",
      "60/60 - 7s - loss: 0.0414 - acc: 0.9926 - val_loss: 0.4560 - val_acc: 0.8908 - 7s/epoch - 121ms/step\n",
      "Epoch 21/100\n",
      "60/60 - 7s - loss: 0.0535 - acc: 0.9852 - val_loss: 0.3714 - val_acc: 0.8950 - 7s/epoch - 121ms/step\n",
      "Epoch 22/100\n",
      "60/60 - 7s - loss: 0.0581 - acc: 0.9857 - val_loss: 0.6123 - val_acc: 0.8529 - 7s/epoch - 121ms/step\n",
      "Epoch 23/100\n",
      "60/60 - 7s - loss: 0.0545 - acc: 0.9847 - val_loss: 2.0330 - val_acc: 0.6092 - 7s/epoch - 121ms/step\n",
      "Epoch 24/100\n",
      "60/60 - 7s - loss: 0.0351 - acc: 0.9921 - val_loss: 0.6250 - val_acc: 0.8655 - 7s/epoch - 121ms/step\n",
      "Epoch 25/100\n",
      "60/60 - 7s - loss: 0.0112 - acc: 0.9995 - val_loss: 0.3317 - val_acc: 0.9076 - 7s/epoch - 121ms/step\n",
      "Epoch 26/100\n",
      "60/60 - 7s - loss: 0.0059 - acc: 1.0000 - val_loss: 0.1755 - val_acc: 0.9538 - 7s/epoch - 121ms/step\n",
      "Epoch 27/100\n",
      "60/60 - 7s - loss: 0.0041 - acc: 1.0000 - val_loss: 0.1766 - val_acc: 0.9412 - 7s/epoch - 121ms/step\n",
      "Epoch 28/100\n",
      "60/60 - 7s - loss: 0.0030 - acc: 1.0000 - val_loss: 0.1891 - val_acc: 0.9412 - 7s/epoch - 123ms/step\n",
      "Epoch 29/100\n",
      "60/60 - 7s - loss: 0.0023 - acc: 1.0000 - val_loss: 0.1993 - val_acc: 0.9328 - 7s/epoch - 122ms/step\n",
      "Epoch 30/100\n",
      "60/60 - 7s - loss: 0.0018 - acc: 1.0000 - val_loss: 0.1971 - val_acc: 0.9370 - 7s/epoch - 125ms/step\n",
      "Epoch 31/100\n",
      "60/60 - 7s - loss: 0.0015 - acc: 1.0000 - val_loss: 0.1860 - val_acc: 0.9454 - 7s/epoch - 124ms/step\n",
      "Epoch 32/100\n",
      "60/60 - 7s - loss: 0.0013 - acc: 1.0000 - val_loss: 0.1665 - val_acc: 0.9496 - 7s/epoch - 121ms/step\n",
      "Epoch 33/100\n",
      "60/60 - 7s - loss: 0.0012 - acc: 1.0000 - val_loss: 0.1564 - val_acc: 0.9580 - 7s/epoch - 121ms/step\n",
      "Epoch 34/100\n",
      "60/60 - 7s - loss: 0.0011 - acc: 1.0000 - val_loss: 0.1719 - val_acc: 0.9580 - 7s/epoch - 121ms/step\n",
      "Epoch 35/100\n",
      "60/60 - 7s - loss: 9.4075e-04 - acc: 1.0000 - val_loss: 0.1736 - val_acc: 0.9580 - 7s/epoch - 121ms/step\n",
      "Epoch 36/100\n",
      "60/60 - 7s - loss: 8.7589e-04 - acc: 1.0000 - val_loss: 0.1739 - val_acc: 0.9580 - 7s/epoch - 121ms/step\n",
      "Epoch 37/100\n",
      "60/60 - 7s - loss: 8.1914e-04 - acc: 1.0000 - val_loss: 0.1696 - val_acc: 0.9580 - 7s/epoch - 121ms/step\n",
      "Epoch 38/100\n",
      "60/60 - 7s - loss: 7.7092e-04 - acc: 1.0000 - val_loss: 0.1717 - val_acc: 0.9580 - 7s/epoch - 121ms/step\n",
      "Epoch 39/100\n",
      "60/60 - 7s - loss: 7.4155e-04 - acc: 1.0000 - val_loss: 0.1669 - val_acc: 0.9580 - 7s/epoch - 121ms/step\n",
      "Epoch 40/100\n",
      "60/60 - 7s - loss: 6.8217e-04 - acc: 1.0000 - val_loss: 0.1615 - val_acc: 0.9622 - 7s/epoch - 121ms/step\n",
      "Epoch 41/100\n",
      "60/60 - 7s - loss: 6.6527e-04 - acc: 1.0000 - val_loss: 0.1609 - val_acc: 0.9580 - 7s/epoch - 121ms/step\n",
      "Epoch 42/100\n",
      "60/60 - 7s - loss: 6.5149e-04 - acc: 1.0000 - val_loss: 0.1563 - val_acc: 0.9622 - 7s/epoch - 121ms/step\n",
      "Epoch 43/100\n",
      "60/60 - 7s - loss: 9.1849e-04 - acc: 1.0000 - val_loss: 0.1549 - val_acc: 0.9664 - 7s/epoch - 121ms/step\n",
      "Epoch 44/100\n",
      "60/60 - 7s - loss: 7.2907e-04 - acc: 1.0000 - val_loss: 0.1779 - val_acc: 0.9580 - 7s/epoch - 121ms/step\n",
      "Epoch 45/100\n",
      "60/60 - 7s - loss: 7.0171e-04 - acc: 1.0000 - val_loss: 0.1768 - val_acc: 0.9580 - 7s/epoch - 121ms/step\n",
      "Epoch 46/100\n",
      "60/60 - 7s - loss: 6.3778e-04 - acc: 1.0000 - val_loss: 0.1671 - val_acc: 0.9580 - 7s/epoch - 121ms/step\n",
      "Epoch 47/100\n",
      "60/60 - 7s - loss: 5.7440e-04 - acc: 1.0000 - val_loss: 0.1705 - val_acc: 0.9580 - 7s/epoch - 122ms/step\n",
      "Epoch 48/100\n",
      "60/60 - 7s - loss: 5.2116e-04 - acc: 1.0000 - val_loss: 0.1677 - val_acc: 0.9580 - 7s/epoch - 122ms/step\n",
      "Epoch 49/100\n",
      "60/60 - 7s - loss: 5.1206e-04 - acc: 1.0000 - val_loss: 0.1692 - val_acc: 0.9538 - 7s/epoch - 121ms/step\n",
      "Epoch 50/100\n",
      "60/60 - 7s - loss: 4.8878e-04 - acc: 1.0000 - val_loss: 0.1631 - val_acc: 0.9580 - 7s/epoch - 121ms/step\n",
      "Epoch 51/100\n",
      "60/60 - 7s - loss: 5.0122e-04 - acc: 1.0000 - val_loss: 0.1625 - val_acc: 0.9538 - 7s/epoch - 122ms/step\n",
      "Epoch 52/100\n",
      "60/60 - 8s - loss: 4.8390e-04 - acc: 1.0000 - val_loss: 0.1687 - val_acc: 0.9580 - 8s/epoch - 125ms/step\n",
      "Epoch 53/100\n",
      "60/60 - 7s - loss: 5.7277e-04 - acc: 1.0000 - val_loss: 0.1654 - val_acc: 0.9538 - 7s/epoch - 122ms/step\n",
      "Epoch 54/100\n",
      "60/60 - 7s - loss: 4.7897e-04 - acc: 1.0000 - val_loss: 0.1508 - val_acc: 0.9580 - 7s/epoch - 121ms/step\n",
      "Epoch 55/100\n",
      "60/60 - 7s - loss: 4.5260e-04 - acc: 1.0000 - val_loss: 0.1528 - val_acc: 0.9580 - 7s/epoch - 123ms/step\n",
      "Epoch 56/100\n",
      "60/60 - 7s - loss: 4.4226e-04 - acc: 1.0000 - val_loss: 0.1635 - val_acc: 0.9538 - 7s/epoch - 122ms/step\n",
      "Epoch 57/100\n",
      "60/60 - 7s - loss: 4.3364e-04 - acc: 1.0000 - val_loss: 0.1588 - val_acc: 0.9538 - 7s/epoch - 122ms/step\n",
      "Epoch 58/100\n",
      "60/60 - 7s - loss: 4.0749e-04 - acc: 1.0000 - val_loss: 0.1582 - val_acc: 0.9580 - 7s/epoch - 122ms/step\n",
      "Epoch 59/100\n",
      "60/60 - 7s - loss: 4.1024e-04 - acc: 1.0000 - val_loss: 0.1615 - val_acc: 0.9538 - 7s/epoch - 122ms/step\n",
      "Epoch 60/100\n",
      "60/60 - 7s - loss: 4.3375e-04 - acc: 1.0000 - val_loss: 0.1598 - val_acc: 0.9538 - 7s/epoch - 122ms/step\n",
      "Epoch 61/100\n",
      "60/60 - 8s - loss: 3.8159e-04 - acc: 1.0000 - val_loss: 0.1580 - val_acc: 0.9580 - 8s/epoch - 126ms/step\n",
      "Epoch 62/100\n",
      "60/60 - 7s - loss: 3.7549e-04 - acc: 1.0000 - val_loss: 0.1633 - val_acc: 0.9580 - 7s/epoch - 121ms/step\n",
      "Epoch 63/100\n",
      "60/60 - 7s - loss: 3.5553e-04 - acc: 1.0000 - val_loss: 0.1604 - val_acc: 0.9580 - 7s/epoch - 121ms/step\n",
      "Epoch 64/100\n",
      "60/60 - 7s - loss: 3.4505e-04 - acc: 1.0000 - val_loss: 0.1577 - val_acc: 0.9538 - 7s/epoch - 120ms/step\n",
      "Epoch 65/100\n",
      "60/60 - 7s - loss: 3.4506e-04 - acc: 1.0000 - val_loss: 0.1564 - val_acc: 0.9580 - 7s/epoch - 120ms/step\n",
      "Epoch 66/100\n",
      "60/60 - 7s - loss: 3.4539e-04 - acc: 1.0000 - val_loss: 0.1573 - val_acc: 0.9622 - 7s/epoch - 122ms/step\n",
      "Epoch 67/100\n",
      "60/60 - 7s - loss: 3.2589e-04 - acc: 1.0000 - val_loss: 0.1585 - val_acc: 0.9580 - 7s/epoch - 121ms/step\n",
      "Epoch 68/100\n",
      "60/60 - 7s - loss: 3.0916e-04 - acc: 1.0000 - val_loss: 0.1577 - val_acc: 0.9622 - 7s/epoch - 121ms/step\n",
      "Epoch 69/100\n",
      "60/60 - 7s - loss: 3.0622e-04 - acc: 1.0000 - val_loss: 0.1572 - val_acc: 0.9580 - 7s/epoch - 121ms/step\n",
      "Epoch 70/100\n",
      "60/60 - 7s - loss: 3.0472e-04 - acc: 1.0000 - val_loss: 0.1596 - val_acc: 0.9622 - 7s/epoch - 121ms/step\n",
      "Epoch 71/100\n",
      "60/60 - 7s - loss: 3.3927e-04 - acc: 1.0000 - val_loss: 0.1587 - val_acc: 0.9580 - 7s/epoch - 125ms/step\n"
     ]
    },
    {
     "name": "stdout",
     "output_type": "stream",
     "text": [
      "Epoch 72/100\n",
      "60/60 - 7s - loss: 2.9518e-04 - acc: 1.0000 - val_loss: 0.1639 - val_acc: 0.9622 - 7s/epoch - 121ms/step\n",
      "Epoch 73/100\n",
      "60/60 - 7s - loss: 3.1332e-04 - acc: 1.0000 - val_loss: 0.1635 - val_acc: 0.9622 - 7s/epoch - 121ms/step\n",
      "Epoch 74/100\n",
      "60/60 - 7s - loss: 2.8213e-04 - acc: 1.0000 - val_loss: 0.1625 - val_acc: 0.9622 - 7s/epoch - 122ms/step\n",
      "Epoch 75/100\n",
      "60/60 - 7s - loss: 2.7723e-04 - acc: 1.0000 - val_loss: 0.1593 - val_acc: 0.9664 - 7s/epoch - 124ms/step\n",
      "Epoch 76/100\n",
      "60/60 - 7s - loss: 2.6501e-04 - acc: 1.0000 - val_loss: 0.1631 - val_acc: 0.9622 - 7s/epoch - 123ms/step\n",
      "Epoch 77/100\n",
      "60/60 - 8s - loss: 2.7830e-04 - acc: 1.0000 - val_loss: 0.1594 - val_acc: 0.9622 - 8s/epoch - 126ms/step\n",
      "Epoch 78/100\n",
      "60/60 - 7s - loss: 2.5999e-04 - acc: 1.0000 - val_loss: 0.1561 - val_acc: 0.9580 - 7s/epoch - 122ms/step\n",
      "Epoch 79/100\n",
      "60/60 - 7s - loss: 2.5606e-04 - acc: 1.0000 - val_loss: 0.1640 - val_acc: 0.9622 - 7s/epoch - 124ms/step\n",
      "Epoch 80/100\n",
      "60/60 - 7s - loss: 2.4662e-04 - acc: 1.0000 - val_loss: 0.1590 - val_acc: 0.9580 - 7s/epoch - 122ms/step\n",
      "Epoch 81/100\n",
      "60/60 - 7s - loss: 2.4617e-04 - acc: 1.0000 - val_loss: 0.1597 - val_acc: 0.9580 - 7s/epoch - 121ms/step\n",
      "Epoch 82/100\n",
      "60/60 - 7s - loss: 2.4223e-04 - acc: 1.0000 - val_loss: 0.1581 - val_acc: 0.9622 - 7s/epoch - 124ms/step\n",
      "Epoch 83/100\n",
      "60/60 - 7s - loss: 2.2598e-04 - acc: 1.0000 - val_loss: 0.1631 - val_acc: 0.9538 - 7s/epoch - 121ms/step\n",
      "Epoch 84/100\n",
      "60/60 - 7s - loss: 2.3422e-04 - acc: 1.0000 - val_loss: 0.1650 - val_acc: 0.9622 - 7s/epoch - 121ms/step\n",
      "Epoch 85/100\n",
      "60/60 - 7s - loss: 2.1735e-04 - acc: 1.0000 - val_loss: 0.1639 - val_acc: 0.9622 - 7s/epoch - 121ms/step\n",
      "Epoch 86/100\n",
      "60/60 - 7s - loss: 2.2725e-04 - acc: 1.0000 - val_loss: 0.1612 - val_acc: 0.9622 - 7s/epoch - 121ms/step\n",
      "Epoch 87/100\n",
      "60/60 - 7s - loss: 2.3044e-04 - acc: 1.0000 - val_loss: 0.1713 - val_acc: 0.9622 - 7s/epoch - 121ms/step\n",
      "Epoch 88/100\n",
      "60/60 - 7s - loss: 2.3922e-04 - acc: 1.0000 - val_loss: 0.1643 - val_acc: 0.9580 - 7s/epoch - 121ms/step\n",
      "Epoch 89/100\n",
      "60/60 - 7s - loss: 2.0284e-04 - acc: 1.0000 - val_loss: 0.1695 - val_acc: 0.9580 - 7s/epoch - 121ms/step\n",
      "Epoch 90/100\n",
      "60/60 - 7s - loss: 2.8967e-04 - acc: 1.0000 - val_loss: 0.1579 - val_acc: 0.9664 - 7s/epoch - 121ms/step\n",
      "Epoch 91/100\n",
      "60/60 - 7s - loss: 1.9831e-04 - acc: 1.0000 - val_loss: 0.1517 - val_acc: 0.9580 - 7s/epoch - 121ms/step\n",
      "Epoch 92/100\n",
      "60/60 - 7s - loss: 1.8313e-04 - acc: 1.0000 - val_loss: 0.1632 - val_acc: 0.9622 - 7s/epoch - 121ms/step\n",
      "Epoch 93/100\n",
      "60/60 - 7s - loss: 1.9902e-04 - acc: 1.0000 - val_loss: 0.1606 - val_acc: 0.9580 - 7s/epoch - 121ms/step\n",
      "Epoch 94/100\n",
      "60/60 - 7s - loss: 2.1222e-04 - acc: 1.0000 - val_loss: 0.1797 - val_acc: 0.9580 - 7s/epoch - 121ms/step\n",
      "Epoch 95/100\n",
      "60/60 - 7s - loss: 2.4901e-04 - acc: 1.0000 - val_loss: 0.1514 - val_acc: 0.9580 - 7s/epoch - 121ms/step\n",
      "Epoch 96/100\n",
      "60/60 - 7s - loss: 1.9212e-04 - acc: 1.0000 - val_loss: 0.1642 - val_acc: 0.9622 - 7s/epoch - 121ms/step\n",
      "Epoch 97/100\n",
      "60/60 - 7s - loss: 1.8606e-04 - acc: 1.0000 - val_loss: 0.1566 - val_acc: 0.9706 - 7s/epoch - 121ms/step\n",
      "Epoch 98/100\n",
      "60/60 - 7s - loss: 1.6137e-04 - acc: 1.0000 - val_loss: 0.1652 - val_acc: 0.9580 - 7s/epoch - 121ms/step\n",
      "Epoch 99/100\n",
      "60/60 - 7s - loss: 1.7753e-04 - acc: 1.0000 - val_loss: 0.1585 - val_acc: 0.9706 - 7s/epoch - 121ms/step\n",
      "Epoch 100/100\n",
      "60/60 - 7s - loss: 3.0306e-04 - acc: 1.0000 - val_loss: 0.1826 - val_acc: 0.9622 - 7s/epoch - 121ms/step\n"
     ]
    }
   ],
   "source": [
    "epochs = 100\n",
    "\n",
    "#compila e treina o modelo com os dados carregados\n",
    "new_model.compile(loss='sparse_categorical_crossentropy', metrics=['acc'], optimizer=adam)\n",
    "model_trained = new_model.fit(train_x, train_y,epochs=epochs,verbose=2,validation_data=(validation_x, validation_y),shuffle=False)"
   ]
  },
  {
   "cell_type": "code",
   "execution_count": 18,
   "metadata": {},
   "outputs": [
    {
     "name": "stdout",
     "output_type": "stream",
     "text": [
      "Model: \"mobilenet_1.00_128\"\n",
      "_________________________________________________________________\n",
      " Layer (type)                Output Shape              Param #   \n",
      "=================================================================\n",
      " input_1 (InputLayer)        [(None, 128, 128, 3)]     0         \n",
      "                                                                 \n",
      " conv1 (Conv2D)              (None, 64, 64, 32)        864       \n",
      "                                                                 \n",
      " conv1_bn (BatchNormalizatio  (None, 64, 64, 32)       128       \n",
      " n)                                                              \n",
      "                                                                 \n",
      " conv1_relu (ReLU)           (None, 64, 64, 32)        0         \n",
      "                                                                 \n",
      " conv_dw_1 (DepthwiseConv2D)  (None, 64, 64, 32)       288       \n",
      "                                                                 \n",
      " conv_dw_1_bn (BatchNormaliz  (None, 64, 64, 32)       128       \n",
      " ation)                                                          \n",
      "                                                                 \n",
      " conv_dw_1_relu (ReLU)       (None, 64, 64, 32)        0         \n",
      "                                                                 \n",
      " conv_pw_1 (Conv2D)          (None, 64, 64, 64)        2048      \n",
      "                                                                 \n",
      " conv_pw_1_bn (BatchNormaliz  (None, 64, 64, 64)       256       \n",
      " ation)                                                          \n",
      "                                                                 \n",
      " conv_pw_1_relu (ReLU)       (None, 64, 64, 64)        0         \n",
      "                                                                 \n",
      " conv_pad_2 (ZeroPadding2D)  (None, 65, 65, 64)        0         \n",
      "                                                                 \n",
      " conv_dw_2 (DepthwiseConv2D)  (None, 32, 32, 64)       576       \n",
      "                                                                 \n",
      " conv_dw_2_bn (BatchNormaliz  (None, 32, 32, 64)       256       \n",
      " ation)                                                          \n",
      "                                                                 \n",
      " conv_dw_2_relu (ReLU)       (None, 32, 32, 64)        0         \n",
      "                                                                 \n",
      " conv_pw_2 (Conv2D)          (None, 32, 32, 128)       8192      \n",
      "                                                                 \n",
      " conv_pw_2_bn (BatchNormaliz  (None, 32, 32, 128)      512       \n",
      " ation)                                                          \n",
      "                                                                 \n",
      " conv_pw_2_relu (ReLU)       (None, 32, 32, 128)       0         \n",
      "                                                                 \n",
      " conv_dw_3 (DepthwiseConv2D)  (None, 32, 32, 128)      1152      \n",
      "                                                                 \n",
      " conv_dw_3_bn (BatchNormaliz  (None, 32, 32, 128)      512       \n",
      " ation)                                                          \n",
      "                                                                 \n",
      " conv_dw_3_relu (ReLU)       (None, 32, 32, 128)       0         \n",
      "                                                                 \n",
      " conv_pw_3 (Conv2D)          (None, 32, 32, 128)       16384     \n",
      "                                                                 \n",
      " conv_pw_3_bn (BatchNormaliz  (None, 32, 32, 128)      512       \n",
      " ation)                                                          \n",
      "                                                                 \n",
      " conv_pw_3_relu (ReLU)       (None, 32, 32, 128)       0         \n",
      "                                                                 \n",
      " conv_pad_4 (ZeroPadding2D)  (None, 33, 33, 128)       0         \n",
      "                                                                 \n",
      " conv_dw_4 (DepthwiseConv2D)  (None, 16, 16, 128)      1152      \n",
      "                                                                 \n",
      " conv_dw_4_bn (BatchNormaliz  (None, 16, 16, 128)      512       \n",
      " ation)                                                          \n",
      "                                                                 \n",
      " conv_dw_4_relu (ReLU)       (None, 16, 16, 128)       0         \n",
      "                                                                 \n",
      " conv_pw_4 (Conv2D)          (None, 16, 16, 256)       32768     \n",
      "                                                                 \n",
      " conv_pw_4_bn (BatchNormaliz  (None, 16, 16, 256)      1024      \n",
      " ation)                                                          \n",
      "                                                                 \n",
      " conv_pw_4_relu (ReLU)       (None, 16, 16, 256)       0         \n",
      "                                                                 \n",
      " conv_dw_5 (DepthwiseConv2D)  (None, 16, 16, 256)      2304      \n",
      "                                                                 \n",
      " conv_dw_5_bn (BatchNormaliz  (None, 16, 16, 256)      1024      \n",
      " ation)                                                          \n",
      "                                                                 \n",
      " conv_dw_5_relu (ReLU)       (None, 16, 16, 256)       0         \n",
      "                                                                 \n",
      " conv_pw_5 (Conv2D)          (None, 16, 16, 256)       65536     \n",
      "                                                                 \n",
      " conv_pw_5_bn (BatchNormaliz  (None, 16, 16, 256)      1024      \n",
      " ation)                                                          \n",
      "                                                                 \n",
      " conv_pw_5_relu (ReLU)       (None, 16, 16, 256)       0         \n",
      "                                                                 \n",
      " conv_pad_6 (ZeroPadding2D)  (None, 17, 17, 256)       0         \n",
      "                                                                 \n",
      " conv_dw_6 (DepthwiseConv2D)  (None, 8, 8, 256)        2304      \n",
      "                                                                 \n",
      " conv_dw_6_bn (BatchNormaliz  (None, 8, 8, 256)        1024      \n",
      " ation)                                                          \n",
      "                                                                 \n",
      " conv_dw_6_relu (ReLU)       (None, 8, 8, 256)         0         \n",
      "                                                                 \n",
      " conv_pw_6 (Conv2D)          (None, 8, 8, 512)         131072    \n",
      "                                                                 \n",
      " conv_pw_6_bn (BatchNormaliz  (None, 8, 8, 512)        2048      \n",
      " ation)                                                          \n",
      "                                                                 \n",
      " conv_pw_6_relu (ReLU)       (None, 8, 8, 512)         0         \n",
      "                                                                 \n",
      " conv_dw_7 (DepthwiseConv2D)  (None, 8, 8, 512)        4608      \n",
      "                                                                 \n",
      " conv_dw_7_bn (BatchNormaliz  (None, 8, 8, 512)        2048      \n",
      " ation)                                                          \n",
      "                                                                 \n",
      " conv_dw_7_relu (ReLU)       (None, 8, 8, 512)         0         \n",
      "                                                                 \n",
      " conv_pw_7 (Conv2D)          (None, 8, 8, 512)         262144    \n",
      "                                                                 \n",
      " conv_pw_7_bn (BatchNormaliz  (None, 8, 8, 512)        2048      \n",
      " ation)                                                          \n",
      "                                                                 \n",
      " conv_pw_7_relu (ReLU)       (None, 8, 8, 512)         0         \n",
      "                                                                 \n",
      " conv_dw_8 (DepthwiseConv2D)  (None, 8, 8, 512)        4608      \n",
      "                                                                 \n",
      " conv_dw_8_bn (BatchNormaliz  (None, 8, 8, 512)        2048      \n",
      " ation)                                                          \n",
      "                                                                 \n",
      " conv_dw_8_relu (ReLU)       (None, 8, 8, 512)         0         \n",
      "                                                                 \n",
      " conv_pw_8 (Conv2D)          (None, 8, 8, 512)         262144    \n"
     ]
    },
    {
     "name": "stdout",
     "output_type": "stream",
     "text": [
      "                                                                 \n",
      " conv_pw_8_bn (BatchNormaliz  (None, 8, 8, 512)        2048      \n",
      " ation)                                                          \n",
      "                                                                 \n",
      " conv_pw_8_relu (ReLU)       (None, 8, 8, 512)         0         \n",
      "                                                                 \n",
      " conv_dw_9 (DepthwiseConv2D)  (None, 8, 8, 512)        4608      \n",
      "                                                                 \n",
      " conv_dw_9_bn (BatchNormaliz  (None, 8, 8, 512)        2048      \n",
      " ation)                                                          \n",
      "                                                                 \n",
      " conv_dw_9_relu (ReLU)       (None, 8, 8, 512)         0         \n",
      "                                                                 \n",
      " conv_pw_9 (Conv2D)          (None, 8, 8, 512)         262144    \n",
      "                                                                 \n",
      " conv_pw_9_bn (BatchNormaliz  (None, 8, 8, 512)        2048      \n",
      " ation)                                                          \n",
      "                                                                 \n",
      " conv_pw_9_relu (ReLU)       (None, 8, 8, 512)         0         \n",
      "                                                                 \n",
      " conv_dw_10 (DepthwiseConv2D  (None, 8, 8, 512)        4608      \n",
      " )                                                               \n",
      "                                                                 \n",
      " conv_dw_10_bn (BatchNormali  (None, 8, 8, 512)        2048      \n",
      " zation)                                                         \n",
      "                                                                 \n",
      " conv_dw_10_relu (ReLU)      (None, 8, 8, 512)         0         \n",
      "                                                                 \n",
      " conv_pw_10 (Conv2D)         (None, 8, 8, 512)         262144    \n",
      "                                                                 \n",
      " conv_pw_10_bn (BatchNormali  (None, 8, 8, 512)        2048      \n",
      " zation)                                                         \n",
      "                                                                 \n",
      " conv_pw_10_relu (ReLU)      (None, 8, 8, 512)         0         \n",
      "                                                                 \n",
      " conv_dw_11 (DepthwiseConv2D  (None, 8, 8, 512)        4608      \n",
      " )                                                               \n",
      "                                                                 \n",
      " conv_dw_11_bn (BatchNormali  (None, 8, 8, 512)        2048      \n",
      " zation)                                                         \n",
      "                                                                 \n",
      " conv_dw_11_relu (ReLU)      (None, 8, 8, 512)         0         \n",
      "                                                                 \n",
      " conv_pw_11 (Conv2D)         (None, 8, 8, 512)         262144    \n",
      "                                                                 \n",
      " conv_pw_11_bn (BatchNormali  (None, 8, 8, 512)        2048      \n",
      " zation)                                                         \n",
      "                                                                 \n",
      " conv_pw_11_relu (ReLU)      (None, 8, 8, 512)         0         \n",
      "                                                                 \n",
      " conv_pad_12 (ZeroPadding2D)  (None, 9, 9, 512)        0         \n",
      "                                                                 \n",
      " conv_dw_12 (DepthwiseConv2D  (None, 4, 4, 512)        4608      \n",
      " )                                                               \n",
      "                                                                 \n",
      " conv_dw_12_bn (BatchNormali  (None, 4, 4, 512)        2048      \n",
      " zation)                                                         \n",
      "                                                                 \n",
      " conv_dw_12_relu (ReLU)      (None, 4, 4, 512)         0         \n",
      "                                                                 \n",
      " conv_pw_12 (Conv2D)         (None, 4, 4, 1024)        524288    \n",
      "                                                                 \n",
      " conv_pw_12_bn (BatchNormali  (None, 4, 4, 1024)       4096      \n",
      " zation)                                                         \n",
      "                                                                 \n",
      " conv_pw_12_relu (ReLU)      (None, 4, 4, 1024)        0         \n",
      "                                                                 \n",
      " conv_dw_13 (DepthwiseConv2D  (None, 4, 4, 1024)       9216      \n",
      " )                                                               \n",
      "                                                                 \n",
      " conv_dw_13_bn (BatchNormali  (None, 4, 4, 1024)       4096      \n",
      " zation)                                                         \n",
      "                                                                 \n",
      " conv_dw_13_relu (ReLU)      (None, 4, 4, 1024)        0         \n",
      "                                                                 \n",
      " conv_pw_13 (Conv2D)         (None, 4, 4, 1024)        1048576   \n",
      "                                                                 \n",
      " conv_pw_13_bn (BatchNormali  (None, 4, 4, 1024)       4096      \n",
      " zation)                                                         \n",
      "                                                                 \n",
      " conv_pw_13_relu (ReLU)      (None, 4, 4, 1024)        0         \n",
      "                                                                 \n",
      "=================================================================\n",
      "Total params: 3,228,864\n",
      "Trainable params: 3,206,976\n",
      "Non-trainable params: 21,888\n",
      "_________________________________________________________________\n"
     ]
    }
   ],
   "source": [
    "model.summary()"
   ]
  },
  {
   "cell_type": "code",
   "execution_count": 19,
   "metadata": {},
   "outputs": [],
   "source": [
    "def getLayerIndexByName(model, layername):\n",
    "    for idx, layer in enumerate(model.layers):\n",
    "        if layer.name == layername:\n",
    "            return idx"
   ]
  },
  {
   "cell_type": "code",
   "execution_count": 20,
   "metadata": {},
   "outputs": [],
   "source": [
    "#print(getLayerIndexByName(new_model, 'flatten_1')) #just used to get the index of flatten layer"
   ]
  },
  {
   "cell_type": "code",
   "execution_count": 21,
   "metadata": {},
   "outputs": [
    {
     "name": "stdout",
     "output_type": "stream",
     "text": [
      "WARNING:tensorflow:Compiled the loaded model, but the compiled metrics have yet to be built. `model.compile_metrics` will be empty until you train or evaluate the model.\n"
     ]
    },
    {
     "name": "stderr",
     "output_type": "stream",
     "text": [
      "WARNING:absl:Found untraced functions such as _jit_compiled_convolution_op, _jit_compiled_convolution_op, _jit_compiled_convolution_op, _jit_compiled_convolution_op, _jit_compiled_convolution_op while saving (showing 5 of 27). These functions will not be directly callable after loading.\n"
     ]
    },
    {
     "name": "stdout",
     "output_type": "stream",
     "text": [
      "INFO:tensorflow:Assets written to: displasys_mobilenet-baseline-holdout-100epochs_dataAugmenting_l2_dropout.npy\\assets\n"
     ]
    },
    {
     "name": "stderr",
     "output_type": "stream",
     "text": [
      "INFO:tensorflow:Assets written to: displasys_mobilenet-baseline-holdout-100epochs_dataAugmenting_l2_dropout.npy\\assets\n"
     ]
    }
   ],
   "source": [
    "model_name = f'displasys_mobilenet-baseline-holdout-{epochs}epochs_dataAugmenting_l2_dropout.npy'\n",
    "model.save(model_name)"
   ]
  },
  {
   "cell_type": "markdown",
   "metadata": {},
   "source": [
    "# **Random Forest - flatting**"
   ]
  },
  {
   "cell_type": "code",
   "execution_count": 22,
   "metadata": {},
   "outputs": [
    {
     "name": "stdout",
     "output_type": "stream",
     "text": [
      "60/60 [==============================] - 2s 34ms/step\n"
     ]
    }
   ],
   "source": [
    "new_model_rf = keras.Model(inputs=new_model.input, outputs=new_model.get_layer(index=9).output)\n",
    "featureVector = new_model_rf.predict(train_x)"
   ]
  },
  {
   "cell_type": "code",
   "execution_count": 23,
   "metadata": {},
   "outputs": [
    {
     "name": "stdout",
     "output_type": "stream",
     "text": [
      "8/8 [==============================] - 1s 72ms/step\n"
     ]
    }
   ],
   "source": [
    "featureVector2 = new_model_rf.predict(test_x)"
   ]
  },
  {
   "cell_type": "code",
   "execution_count": 24,
   "metadata": {},
   "outputs": [
    {
     "name": "stdout",
     "output_type": "stream",
     "text": [
      "(1894, 64)\n"
     ]
    }
   ],
   "source": [
    "print(featureVector.shape)"
   ]
  },
  {
   "cell_type": "code",
   "execution_count": 25,
   "metadata": {},
   "outputs": [],
   "source": [
    "from sklearn.ensemble import RandomForestClassifier"
   ]
  },
  {
   "cell_type": "code",
   "execution_count": 26,
   "metadata": {},
   "outputs": [
    {
     "data": {
      "text/html": [
       "<style>#sk-container-id-1 {color: black;}#sk-container-id-1 pre{padding: 0;}#sk-container-id-1 div.sk-toggleable {background-color: white;}#sk-container-id-1 label.sk-toggleable__label {cursor: pointer;display: block;width: 100%;margin-bottom: 0;padding: 0.3em;box-sizing: border-box;text-align: center;}#sk-container-id-1 label.sk-toggleable__label-arrow:before {content: \"▸\";float: left;margin-right: 0.25em;color: #696969;}#sk-container-id-1 label.sk-toggleable__label-arrow:hover:before {color: black;}#sk-container-id-1 div.sk-estimator:hover label.sk-toggleable__label-arrow:before {color: black;}#sk-container-id-1 div.sk-toggleable__content {max-height: 0;max-width: 0;overflow: hidden;text-align: left;background-color: #f0f8ff;}#sk-container-id-1 div.sk-toggleable__content pre {margin: 0.2em;color: black;border-radius: 0.25em;background-color: #f0f8ff;}#sk-container-id-1 input.sk-toggleable__control:checked~div.sk-toggleable__content {max-height: 200px;max-width: 100%;overflow: auto;}#sk-container-id-1 input.sk-toggleable__control:checked~label.sk-toggleable__label-arrow:before {content: \"▾\";}#sk-container-id-1 div.sk-estimator input.sk-toggleable__control:checked~label.sk-toggleable__label {background-color: #d4ebff;}#sk-container-id-1 div.sk-label input.sk-toggleable__control:checked~label.sk-toggleable__label {background-color: #d4ebff;}#sk-container-id-1 input.sk-hidden--visually {border: 0;clip: rect(1px 1px 1px 1px);clip: rect(1px, 1px, 1px, 1px);height: 1px;margin: -1px;overflow: hidden;padding: 0;position: absolute;width: 1px;}#sk-container-id-1 div.sk-estimator {font-family: monospace;background-color: #f0f8ff;border: 1px dotted black;border-radius: 0.25em;box-sizing: border-box;margin-bottom: 0.5em;}#sk-container-id-1 div.sk-estimator:hover {background-color: #d4ebff;}#sk-container-id-1 div.sk-parallel-item::after {content: \"\";width: 100%;border-bottom: 1px solid gray;flex-grow: 1;}#sk-container-id-1 div.sk-label:hover label.sk-toggleable__label {background-color: #d4ebff;}#sk-container-id-1 div.sk-serial::before {content: \"\";position: absolute;border-left: 1px solid gray;box-sizing: border-box;top: 0;bottom: 0;left: 50%;z-index: 0;}#sk-container-id-1 div.sk-serial {display: flex;flex-direction: column;align-items: center;background-color: white;padding-right: 0.2em;padding-left: 0.2em;position: relative;}#sk-container-id-1 div.sk-item {position: relative;z-index: 1;}#sk-container-id-1 div.sk-parallel {display: flex;align-items: stretch;justify-content: center;background-color: white;position: relative;}#sk-container-id-1 div.sk-item::before, #sk-container-id-1 div.sk-parallel-item::before {content: \"\";position: absolute;border-left: 1px solid gray;box-sizing: border-box;top: 0;bottom: 0;left: 50%;z-index: -1;}#sk-container-id-1 div.sk-parallel-item {display: flex;flex-direction: column;z-index: 1;position: relative;background-color: white;}#sk-container-id-1 div.sk-parallel-item:first-child::after {align-self: flex-end;width: 50%;}#sk-container-id-1 div.sk-parallel-item:last-child::after {align-self: flex-start;width: 50%;}#sk-container-id-1 div.sk-parallel-item:only-child::after {width: 0;}#sk-container-id-1 div.sk-dashed-wrapped {border: 1px dashed gray;margin: 0 0.4em 0.5em 0.4em;box-sizing: border-box;padding-bottom: 0.4em;background-color: white;}#sk-container-id-1 div.sk-label label {font-family: monospace;font-weight: bold;display: inline-block;line-height: 1.2em;}#sk-container-id-1 div.sk-label-container {text-align: center;}#sk-container-id-1 div.sk-container {/* jupyter's `normalize.less` sets `[hidden] { display: none; }` but bootstrap.min.css set `[hidden] { display: none !important; }` so we also need the `!important` here to be able to override the default hidden behavior on the sphinx rendered scikit-learn.org. See: https://github.com/scikit-learn/scikit-learn/issues/21755 */display: inline-block !important;position: relative;}#sk-container-id-1 div.sk-text-repr-fallback {display: none;}</style><div id=\"sk-container-id-1\" class=\"sk-top-container\"><div class=\"sk-text-repr-fallback\"><pre>RandomForestClassifier()</pre><b>In a Jupyter environment, please rerun this cell to show the HTML representation or trust the notebook. <br />On GitHub, the HTML representation is unable to render, please try loading this page with nbviewer.org.</b></div><div class=\"sk-container\" hidden><div class=\"sk-item\"><div class=\"sk-estimator sk-toggleable\"><input class=\"sk-toggleable__control sk-hidden--visually\" id=\"sk-estimator-id-1\" type=\"checkbox\" checked><label for=\"sk-estimator-id-1\" class=\"sk-toggleable__label sk-toggleable__label-arrow\">RandomForestClassifier</label><div class=\"sk-toggleable__content\"><pre>RandomForestClassifier()</pre></div></div></div></div></div>"
      ],
      "text/plain": [
       "RandomForestClassifier()"
      ]
     },
     "execution_count": 26,
     "metadata": {},
     "output_type": "execute_result"
    }
   ],
   "source": [
    "clf=RandomForestClassifier(n_estimators=100)\n",
    "\n",
    "clf.fit(featureVector,train_y)\n",
    "\n"
   ]
  },
  {
   "cell_type": "code",
   "execution_count": 27,
   "metadata": {},
   "outputs": [
    {
     "data": {
      "text/plain": [
       "(236, 128, 128, 3)"
      ]
     },
     "execution_count": 27,
     "metadata": {},
     "output_type": "execute_result"
    }
   ],
   "source": [
    "test_x.shape"
   ]
  },
  {
   "cell_type": "code",
   "execution_count": 28,
   "metadata": {},
   "outputs": [],
   "source": [
    "y_pred=clf.predict(featureVector2)"
   ]
  },
  {
   "cell_type": "code",
   "execution_count": 29,
   "metadata": {},
   "outputs": [
    {
     "data": {
      "text/plain": [
       "(1894, 64)"
      ]
     },
     "execution_count": 29,
     "metadata": {},
     "output_type": "execute_result"
    }
   ],
   "source": [
    "featureVector.shape"
   ]
  },
  {
   "cell_type": "code",
   "execution_count": 30,
   "metadata": {},
   "outputs": [
    {
     "name": "stdout",
     "output_type": "stream",
     "text": [
      "Accuracy: 0.9576271186440678\n"
     ]
    }
   ],
   "source": [
    "from sklearn import metrics\n",
    "print(\"Accuracy:\",metrics.accuracy_score(test_y, y_pred))"
   ]
  },
  {
   "cell_type": "code",
   "execution_count": 31,
   "metadata": {},
   "outputs": [],
   "source": [
    "from sklearn.tree import DecisionTreeClassifier"
   ]
  },
  {
   "cell_type": "code",
   "execution_count": 32,
   "metadata": {},
   "outputs": [],
   "source": [
    "clf = DecisionTreeClassifier(random_state=0)"
   ]
  },
  {
   "cell_type": "markdown",
   "metadata": {
    "id": "v2tUu9UW4S_S"
   },
   "source": [
    "# **Testes**"
   ]
  },
  {
   "cell_type": "code",
   "execution_count": 33,
   "metadata": {
    "id": "-02BWWgF4V9h"
   },
   "outputs": [
    {
     "data": {
      "image/png": "[encoded data removed]",
      "text/plain": [
       "<Figure size 640x480 with 1 Axes>"
      ]
     },
     "metadata": {},
     "output_type": "display_data"
    },
    {
     "data": {
      "image/png": "[encoded data removed]",
      "text/plain": [
       "<Figure size 640x480 with 1 Axes>"
      ]
     },
     "metadata": {},
     "output_type": "display_data"
    }
   ],
   "source": [
    "import matplotlib.pyplot as plt\n",
    "\n",
    "accuracy = model_trained.history['acc']\n",
    "val_accuracy = model_trained.history['val_acc']\n",
    "loss = model_trained.history['loss']\n",
    "val_loss = model_trained.history['val_loss']\n",
    "epochs = range(len(accuracy))\n",
    "plt.plot(epochs, accuracy, 'b', label='Acurácia de treino')\n",
    "plt.plot(epochs, val_accuracy, 'g', label='Acurácia de validação')\n",
    "plt.title('Acurácia de treino e validação')\n",
    "plt.legend()\n",
    "plt.figure()\n",
    "plt.plot(epochs, loss, 'b', label='Perda no treino')\n",
    "plt.plot(epochs, val_loss, 'g', label='Perda na validação')\n",
    "plt.title('Perda na validação e treino')\n",
    "plt.legend()\n",
    "plt.show()"
   ]
  },
  {
   "cell_type": "code",
   "execution_count": 34,
   "metadata": {
    "id": "On7_hNmrOysp"
   },
   "outputs": [
    {
     "name": "stdout",
     "output_type": "stream",
     "text": [
      "8/8 [==============================] - 0s 37ms/step - loss: 0.2383 - acc: 0.9661\n",
      "Test loss: 0.23827806115150452\n",
      "Test accuracy: 0.9661017060279846\n"
     ]
    }
   ],
   "source": [
    "#avalia a fase de teste\n",
    "\n",
    "model_loss, model_accuracy = new_model.evaluate(test_x, test_y, verbose=1)\n",
    "\n",
    "#mostra o resultado\n",
    "print('Test loss:', model_loss)\n",
    "print('Test accuracy:', model_accuracy)"
   ]
  },
  {
   "cell_type": "code",
   "execution_count": 35,
   "metadata": {
    "id": "uGYRlhnq8wsF"
   },
   "outputs": [],
   "source": [
    "#faz a predição das imagens\n",
    "\n",
    "from tensorflow.keras.utils import to_categorical\n",
    "\n",
    "pred = new_model.predict(test_x, verbose=0)\n",
    "\n",
    "pred_probs = np.argmax(pred,axis=1)"
   ]
  },
  {
   "cell_type": "code",
   "execution_count": 36,
   "metadata": {
    "id": "Vt4jZ2jB8ygE"
   },
   "outputs": [],
   "source": [
    "from sklearn.metrics import confusion_matrix\n",
    "from sklearn.metrics import classification_report\n",
    "from sklearn.metrics import accuracy_score\n",
    "from sklearn.metrics import f1_score"
   ]
  },
  {
   "cell_type": "code",
   "execution_count": 37,
   "metadata": {
    "id": "9gx5yvuU84UC"
   },
   "outputs": [],
   "source": [
    "cm = confusion_matrix(test_y, pred_probs)"
   ]
  },
  {
   "cell_type": "code",
   "execution_count": 38,
   "metadata": {
    "id": "NUrE8yfU86OL"
   },
   "outputs": [
    {
     "name": "stdout",
     "output_type": "stream",
     "text": [
      "F1 Score: 0.9659134681978078\n",
      "Sensitivity: [1.         1.         0.9245283  0.93103448]\n",
      "Specificity: [0.99382716 0.99459459 0.97814208 0.98876404]\n",
      "Precision:   [0.98666667 0.98076923 0.9245283  0.96428571]\n",
      "Accuracy:    [0.99576271 0.99576271 0.96610169 0.97457627]\n"
     ]
    }
   ],
   "source": [
    "#gera os valores de falso positivo, falso negativo, verdadeiro positivo e verdadeiro negativo\n",
    "fp = cm.sum(axis=0) - np.diag(cm)  \n",
    "fn = cm.sum(axis=1) - np.diag(cm)\n",
    "tp = np.diag(cm)\n",
    "tn = cm.sum() - (fp + fn + tp)\n",
    "\n",
    "f1score = f1_score(test_y, pred_probs, average='weighted')\n",
    "sensitivity = tp / (tp + fn)\n",
    "specificity = tn / (tn + fp)\n",
    "accuracy    = (tp + tn) / (tp + tn + fp + fn)\n",
    "precision   = tp / (tp + fp)\n",
    "\n",
    "\n",
    "print(\"F1 Score:\", f1score)\n",
    "print(\"Sensitivity:\", sensitivity)\n",
    "print(\"Specificity:\", specificity)\n",
    "print(\"Precision:  \", precision)\n",
    "print(\"Accuracy:   \", accuracy)"
   ]
  },
  {
   "cell_type": "code",
   "execution_count": null,
   "metadata": {},
   "outputs": [],
   "source": []
  },
  {
   "cell_type": "code",
   "execution_count": null,
   "metadata": {},
   "outputs": [],
   "source": []
  }
 ],
 "metadata": {
  "colab": {
   "collapsed_sections": [],
   "name": "covid_alex_holdout_cropping_tgo.ipynb",
   "provenance": []
  },
  "kernelspec": {
   "display_name": "Python 3 (ipykernel)",
   "language": "python",
   "name": "python3"
  },
  "language_info": {
   "codemirror_mode": {
    "name": "ipython",
    "version": 3
   },
   "file_extension": ".py",
   "mimetype": "text/x-python",
   "name": "python",
   "nbconvert_exporter": "python",
   "pygments_lexer": "ipython3",
   "version": "3.9.17"
  }
 },
 "nbformat": 4,
 "nbformat_minor": 1
}
