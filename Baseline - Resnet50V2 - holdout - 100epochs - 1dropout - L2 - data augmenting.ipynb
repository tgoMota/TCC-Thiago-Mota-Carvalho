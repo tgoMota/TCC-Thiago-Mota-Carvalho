{
 "cells": [
  {
   "cell_type": "code",
   "execution_count": 66,
   "metadata": {
    "id": "on-xhn6xYqDo"
   },
   "outputs": [],
   "source": [
    "import tensorflow as tf\n",
    "from tensorflow import keras\n",
    "import matplotlib.pyplot as plt\n",
    "import os\n",
    "import time"
   ]
  },
  {
   "cell_type": "code",
   "execution_count": 67,
   "metadata": {
    "id": "Zq5nydmlidrt"
   },
   "outputs": [],
   "source": [
    "import cv2\n",
    "import os\n",
    "from tqdm import tqdm\n",
    "import matplotlib.pyplot as plt\n",
    "import numpy as np\n",
    "import glob\n",
    "from tensorflow.keras.preprocessing.image import ImageDataGenerator\n",
    "from tensorflow.keras.applications import *\n",
    "from tensorflow.keras.layers import *\n",
    "from tensorflow.keras.models import *\n",
    "from tensorflow.keras.optimizers import Adam\n",
    "from tensorflow.keras.utils import to_categorical\n",
    "from sklearn.preprocessing import LabelEncoder\n",
    "from sklearn.metrics import *\n",
    "from tensorflow.keras.callbacks import *"
   ]
  },
  {
   "cell_type": "code",
   "execution_count": 68,
   "metadata": {},
   "outputs": [],
   "source": [
    "CLASS_NAMES= ['healthy', 'mild', 'moderate', 'severe']\n",
    "IMG_HEIGHT = 128\n",
    "IMG_WIDTH = 128\n",
    "CHANNELS = 3\n",
    "NUM_CLASSES = len(CLASS_NAMES)"
   ]
  },
  {
   "cell_type": "markdown",
   "metadata": {
    "id": "yfeZvMIEDOwS"
   },
   "source": [
    "# **ResNET**"
   ]
  },
  {
   "cell_type": "code",
   "execution_count": 69,
   "metadata": {
    "id": "98Cf8ZeSEbCU"
   },
   "outputs": [],
   "source": [
    "from sklearn.model_selection import train_test_split"
   ]
  },
  {
   "cell_type": "code",
   "execution_count": 70,
   "metadata": {},
   "outputs": [
    {
     "name": "stdout",
     "output_type": "stream",
     "text": [
      "TOTAL_IMAGES =  2368\n"
     ]
    }
   ],
   "source": [
    "#load data\n",
    "data_x = np.load('data_x_aumentated_normalized.npy') #images\n",
    "data_y = np.load('data_y_aumentated_normalized.npy') #labels\n",
    "TOTAL_IMAGES = len(data_y)\n",
    "print(\"TOTAL_IMAGES = \", TOTAL_IMAGES)"
   ]
  },
  {
   "cell_type": "markdown",
   "metadata": {},
   "source": [
    "# **Splitting data in train - validation - test**"
   ]
  },
  {
   "cell_type": "code",
   "execution_count": 71,
   "metadata": {},
   "outputs": [],
   "source": [
    "#percentage of the dataset which will be on TRAIN - TEST - VALIDATION\n",
    "TRAIN_PERCENTAGE = 0.8\n",
    "TEST_PERCENTAGE = 0.1\n",
    "VALIDATION_PERCENTAGE = 0.1"
   ]
  },
  {
   "cell_type": "code",
   "execution_count": 72,
   "metadata": {},
   "outputs": [],
   "source": [
    "train_size = int(TRAIN_PERCENTAGE * TOTAL_IMAGES)\n",
    "test_size = int(TEST_PERCENTAGE * TOTAL_IMAGES)\n",
    "validation_size = int(VALIDATION_PERCENTAGE * TOTAL_IMAGES)"
   ]
  },
  {
   "cell_type": "code",
   "execution_count": 73,
   "metadata": {},
   "outputs": [],
   "source": [
    "train_x = data_x[:train_size]\n",
    "train_y = data_y[:train_size]\n",
    "data_x = data_x[train_size:]\n",
    "data_y = data_y[train_size:]\n",
    "\n",
    "test_x = data_x[:test_size]\n",
    "test_y = data_y[:test_size]\n",
    "data_x = data_x[test_size:]\n",
    "data_y = data_y[test_size:]\n",
    "\n",
    "validation_x = data_x #all the remainder we can let on validation\n",
    "validation_y = data_y\n",
    "del data_x\n",
    "del data_y"
   ]
  },
  {
   "cell_type": "code",
   "execution_count": 74,
   "metadata": {},
   "outputs": [
    {
     "name": "stdout",
     "output_type": "stream",
     "text": [
      "train_size =  1894\n",
      "test_size =  236\n",
      "validation_size =  238\n"
     ]
    }
   ],
   "source": [
    "print(\"train_size = \", len(train_y))\n",
    "print(\"test_size = \", len(test_y))\n",
    "print(\"validation_size = \", len(validation_y))"
   ]
  },
  {
   "cell_type": "code",
   "execution_count": 75,
   "metadata": {
    "id": "BiIjdq89J1uJ"
   },
   "outputs": [],
   "source": [
    "from tensorflow import keras\n",
    "from tensorflow.keras.models import Sequential\n",
    "from tensorflow.keras.layers import Dense, Activation, Dropout, Flatten, Conv2D, MaxPooling2D\n",
    "from tensorflow.keras.regularizers import l2\n",
    "from tensorflow.keras.regularizers import l1\n",
    "from tensorflow.keras.callbacks import EarlyStopping"
   ]
  },
  {
   "cell_type": "code",
   "execution_count": 76,
   "metadata": {
    "colab": {
     "base_uri": "https://localhost:8080/"
    },
    "id": "j0vHxhMjLyhJ",
    "outputId": "e5ec2803-8f76-4719-e279-27c52eb8d72d"
   },
   "outputs": [],
   "source": [
    "from tensorflow.keras import layers\n",
    "from tensorflow.keras.layers import Input, Add, Dense, Activation, ZeroPadding2D, BatchNormalization, Flatten, Conv2D, AveragePooling2D, MaxPooling2D, GlobalMaxPooling2D\n",
    "from tensorflow.keras.models import Model, load_model\n",
    "from tensorflow.keras.preprocessing import image\n",
    "from IPython.display import SVG\n",
    "import scipy.misc"
   ]
  },
  {
   "cell_type": "code",
   "execution_count": 77,
   "metadata": {},
   "outputs": [],
   "source": [
    "# from tensorflow.keras.applications import EfficientNetB0\n",
    "# from tensorflow.keras.applications import EfficientNetB1\n",
    "# from tensorflow.keras.applications import EfficientNetB2\n",
    "# from tensorflow.keras.applications import EfficientNetB3\n",
    "# from tensorflow.keras.applications import EfficientNetB4\n",
    "# from tensorflow.keras.applications import EfficientNetB5\n",
    "# from tensorflow.keras.applications import EfficientNetB6\n",
    "# from tensorflow.keras.applications import EfficientNetB7\n",
    "# from tensorflow.keras.applications import *"
   ]
  },
  {
   "cell_type": "code",
   "execution_count": 78,
   "metadata": {},
   "outputs": [],
   "source": [
    "import tensorflow.keras.backend as K\n",
    "K.set_image_data_format('channels_last')\n",
    "K.set_learning_phase(1)"
   ]
  },
  {
   "cell_type": "code",
   "execution_count": 79,
   "metadata": {},
   "outputs": [],
   "source": [
    "model = tf.keras.applications.ResNet50V2(\n",
    "    include_top=False,\n",
    "    weights=\"imagenet\",\n",
    "    input_tensor=None,\n",
    "    input_shape=(IMG_HEIGHT,IMG_WIDTH, CHANNELS),\n",
    "    pooling=None,\n",
    "    classes=NUM_CLASSES,\n",
    "   # classifier_activation=\"softmax\",\n",
    "#    **kwargs\n",
    ")"
   ]
  },
  {
   "cell_type": "code",
   "execution_count": 80,
   "metadata": {},
   "outputs": [],
   "source": [
    "from tensorflow.keras import models\n",
    "from tensorflow.keras import layers\n",
    "\n",
    "new_model = models.Sequential()\n",
    "new_model.add(model)\n",
    "#3rd conv layer\n",
    "new_model.add(tf.keras.layers.Conv2D(32, 3, padding=\"same\"))\n",
    "new_model.add(tf.keras.layers.BatchNormalization())\n",
    "new_model.add(tf.keras.layers.Activation(\"relu\"))\n",
    "new_model.add(tf.keras.layers.MaxPooling2D(2))\n",
    "#4th conv layer\n",
    "new_model.add(tf.keras.layers.Conv2D(64, 3, padding=\"same\"))\n",
    "new_model.add(tf.keras.layers.BatchNormalization())\n",
    "new_model.add(tf.keras.layers.Activation(\"relu\"))\n",
    "new_model.add(tf.keras.layers.MaxPooling2D(2))\n",
    "#Flatten Layer\n",
    "new_model.add(tf.keras.layers.Flatten())\n",
    "\n",
    "new_model.add(tf.keras.layers.Dense(128, kernel_regularizer =tf.keras.regularizers.l2( l=0.01)))\n",
    "new_model.add(tf.keras.layers.BatchNormalization())\n",
    "new_model.add(tf.keras.layers.Activation(\"relu\"))\n",
    "new_model.add(tf.keras.layers.Dropout(0.2))\n",
    "#output Dense Layer\n",
    "new_model.add(tf.keras.layers.Dense(NUM_CLASSES))\n",
    "new_model.add(tf.keras.layers.Activation('softmax'))\n",
    "adam = tf.keras.optimizers.Adam(lr=0.001)\n"
   ]
  },
  {
   "cell_type": "code",
   "execution_count": 81,
   "metadata": {},
   "outputs": [
    {
     "name": "stdout",
     "output_type": "stream",
     "text": [
      "Model: \"sequential_3\"\n",
      "_________________________________________________________________\n",
      " Layer (type)                Output Shape              Param #   \n",
      "=================================================================\n",
      " resnet50v2 (Functional)     (None, 4, 4, 2048)        23564800  \n",
      "                                                                 \n",
      " conv2d_6 (Conv2D)           (None, 4, 4, 32)          589856    \n",
      "                                                                 \n",
      " batch_normalization_9 (Batc  (None, 4, 4, 32)         128       \n",
      " hNormalization)                                                 \n",
      "                                                                 \n",
      " activation_12 (Activation)  (None, 4, 4, 32)          0         \n",
      "                                                                 \n",
      " max_pooling2d_9 (MaxPooling  (None, 2, 2, 32)         0         \n",
      " 2D)                                                             \n",
      "                                                                 \n",
      " conv2d_7 (Conv2D)           (None, 2, 2, 64)          18496     \n",
      "                                                                 \n",
      " batch_normalization_10 (Bat  (None, 2, 2, 64)         256       \n",
      " chNormalization)                                                \n",
      "                                                                 \n",
      " activation_13 (Activation)  (None, 2, 2, 64)          0         \n",
      "                                                                 \n",
      " max_pooling2d_10 (MaxPoolin  (None, 1, 1, 64)         0         \n",
      " g2D)                                                            \n",
      "                                                                 \n",
      " flatten_3 (Flatten)         (None, 64)                0         \n",
      "                                                                 \n",
      " dense_6 (Dense)             (None, 128)               8320      \n",
      "                                                                 \n",
      " batch_normalization_11 (Bat  (None, 128)              512       \n",
      " chNormalization)                                                \n",
      "                                                                 \n",
      " activation_14 (Activation)  (None, 128)               0         \n",
      "                                                                 \n",
      " dropout_3 (Dropout)         (None, 128)               0         \n",
      "                                                                 \n",
      " dense_7 (Dense)             (None, 4)                 516       \n",
      "                                                                 \n",
      " activation_15 (Activation)  (None, 4)                 0         \n",
      "                                                                 \n",
      "=================================================================\n",
      "Total params: 24,182,884\n",
      "Trainable params: 24,136,996\n",
      "Non-trainable params: 45,888\n",
      "_________________________________________________________________\n"
     ]
    }
   ],
   "source": [
    "new_model.summary()"
   ]
  },
  {
   "cell_type": "code",
   "execution_count": 82,
   "metadata": {},
   "outputs": [
    {
     "name": "stdout",
     "output_type": "stream",
     "text": [
      "Epoch 1/100\n",
      "60/60 - 29s - loss: 1.8491 - acc: 0.5533 - val_loss: 3.5572 - val_acc: 0.2521 - 29s/epoch - 482ms/step\n",
      "Epoch 2/100\n",
      "60/60 - 18s - loss: 1.2078 - acc: 0.7994 - val_loss: 14.6960 - val_acc: 0.2521 - 18s/epoch - 295ms/step\n",
      "Epoch 3/100\n",
      "60/60 - 18s - loss: 0.8229 - acc: 0.8886 - val_loss: 8.2663 - val_acc: 0.3361 - 18s/epoch - 296ms/step\n",
      "Epoch 4/100\n",
      "60/60 - 18s - loss: 0.6546 - acc: 0.9087 - val_loss: 10.9501 - val_acc: 0.2521 - 18s/epoch - 295ms/step\n",
      "Epoch 5/100\n",
      "60/60 - 18s - loss: 0.5092 - acc: 0.9356 - val_loss: 6.7457 - val_acc: 0.2689 - 18s/epoch - 295ms/step\n",
      "Epoch 6/100\n",
      "60/60 - 18s - loss: 0.4282 - acc: 0.9424 - val_loss: 1.0643 - val_acc: 0.6429 - 18s/epoch - 295ms/step\n",
      "Epoch 7/100\n",
      "60/60 - 18s - loss: 0.3401 - acc: 0.9504 - val_loss: 0.7062 - val_acc: 0.8277 - 18s/epoch - 295ms/step\n",
      "Epoch 8/100\n",
      "60/60 - 18s - loss: 0.2775 - acc: 0.9572 - val_loss: 3.9771 - val_acc: 0.4034 - 18s/epoch - 295ms/step\n",
      "Epoch 9/100\n",
      "60/60 - 18s - loss: 0.2554 - acc: 0.9546 - val_loss: 4.2204 - val_acc: 0.3025 - 18s/epoch - 295ms/step\n",
      "Epoch 10/100\n",
      "60/60 - 18s - loss: 0.1914 - acc: 0.9646 - val_loss: 11.8600 - val_acc: 0.2563 - 18s/epoch - 295ms/step\n",
      "Epoch 11/100\n",
      "60/60 - 18s - loss: 0.1396 - acc: 0.9826 - val_loss: 1.8427 - val_acc: 0.6176 - 18s/epoch - 295ms/step\n",
      "Epoch 12/100\n",
      "60/60 - 18s - loss: 0.1048 - acc: 0.9847 - val_loss: 2.0174 - val_acc: 0.5420 - 18s/epoch - 295ms/step\n",
      "Epoch 13/100\n",
      "60/60 - 18s - loss: 0.1832 - acc: 0.9556 - val_loss: 5.1085 - val_acc: 0.4160 - 18s/epoch - 294ms/step\n",
      "Epoch 14/100\n",
      "60/60 - 18s - loss: 0.1187 - acc: 0.9794 - val_loss: 0.4672 - val_acc: 0.8697 - 18s/epoch - 295ms/step\n",
      "Epoch 15/100\n",
      "60/60 - 18s - loss: 0.0731 - acc: 0.9857 - val_loss: 14.4640 - val_acc: 0.2521 - 18s/epoch - 295ms/step\n",
      "Epoch 16/100\n",
      "60/60 - 18s - loss: 0.1206 - acc: 0.9688 - val_loss: 4.4680 - val_acc: 0.4874 - 18s/epoch - 295ms/step\n",
      "Epoch 17/100\n",
      "60/60 - 18s - loss: 0.0995 - acc: 0.9752 - val_loss: 1.3019 - val_acc: 0.7101 - 18s/epoch - 295ms/step\n",
      "Epoch 18/100\n",
      "60/60 - 18s - loss: 0.0959 - acc: 0.9773 - val_loss: 3.6284 - val_acc: 0.4958 - 18s/epoch - 295ms/step\n",
      "Epoch 19/100\n",
      "60/60 - 18s - loss: 0.1306 - acc: 0.9625 - val_loss: 1.5905 - val_acc: 0.6345 - 18s/epoch - 295ms/step\n",
      "Epoch 20/100\n",
      "60/60 - 18s - loss: 0.0886 - acc: 0.9789 - val_loss: 1.6280 - val_acc: 0.7479 - 18s/epoch - 295ms/step\n",
      "Epoch 21/100\n",
      "60/60 - 18s - loss: 0.0537 - acc: 0.9879 - val_loss: 1.3932 - val_acc: 0.7269 - 18s/epoch - 295ms/step\n",
      "Epoch 22/100\n",
      "60/60 - 18s - loss: 0.0445 - acc: 0.9910 - val_loss: 0.7402 - val_acc: 0.7941 - 18s/epoch - 295ms/step\n",
      "Epoch 23/100\n",
      "60/60 - 18s - loss: 0.0482 - acc: 0.9894 - val_loss: 2.2296 - val_acc: 0.5420 - 18s/epoch - 295ms/step\n",
      "Epoch 24/100\n",
      "60/60 - 18s - loss: 0.1057 - acc: 0.9731 - val_loss: 3.9766 - val_acc: 0.4748 - 18s/epoch - 295ms/step\n",
      "Epoch 25/100\n",
      "60/60 - 18s - loss: 0.0258 - acc: 0.9952 - val_loss: 0.4573 - val_acc: 0.8739 - 18s/epoch - 295ms/step\n",
      "Epoch 26/100\n",
      "60/60 - 18s - loss: 0.0134 - acc: 0.9984 - val_loss: 0.8143 - val_acc: 0.8277 - 18s/epoch - 295ms/step\n",
      "Epoch 27/100\n",
      "60/60 - 18s - loss: 0.0322 - acc: 0.9926 - val_loss: 2.8673 - val_acc: 0.5252 - 18s/epoch - 295ms/step\n",
      "Epoch 28/100\n",
      "60/60 - 18s - loss: 0.0174 - acc: 0.9984 - val_loss: 9.2375 - val_acc: 0.2689 - 18s/epoch - 295ms/step\n",
      "Epoch 29/100\n",
      "60/60 - 18s - loss: 0.0522 - acc: 0.9852 - val_loss: 11.4021 - val_acc: 0.2773 - 18s/epoch - 295ms/step\n",
      "Epoch 30/100\n",
      "60/60 - 18s - loss: 0.0397 - acc: 0.9900 - val_loss: 1.3961 - val_acc: 0.6639 - 18s/epoch - 295ms/step\n",
      "Epoch 31/100\n",
      "60/60 - 18s - loss: 0.0633 - acc: 0.9826 - val_loss: 4.2388 - val_acc: 0.4580 - 18s/epoch - 295ms/step\n",
      "Epoch 32/100\n",
      "60/60 - 18s - loss: 0.0562 - acc: 0.9863 - val_loss: 2.8698 - val_acc: 0.5798 - 18s/epoch - 295ms/step\n",
      "Epoch 33/100\n",
      "60/60 - 18s - loss: 0.0464 - acc: 0.9905 - val_loss: 1.8417 - val_acc: 0.5588 - 18s/epoch - 295ms/step\n",
      "Epoch 34/100\n",
      "60/60 - 18s - loss: 0.0256 - acc: 0.9942 - val_loss: 2.5812 - val_acc: 0.5630 - 18s/epoch - 295ms/step\n",
      "Epoch 35/100\n",
      "60/60 - 18s - loss: 0.0155 - acc: 0.9984 - val_loss: 0.2452 - val_acc: 0.9202 - 18s/epoch - 295ms/step\n",
      "Epoch 36/100\n",
      "60/60 - 18s - loss: 0.0128 - acc: 0.9989 - val_loss: 0.4131 - val_acc: 0.8697 - 18s/epoch - 295ms/step\n",
      "Epoch 37/100\n",
      "60/60 - 18s - loss: 0.0051 - acc: 1.0000 - val_loss: 0.6464 - val_acc: 0.8025 - 18s/epoch - 295ms/step\n",
      "Epoch 38/100\n",
      "60/60 - 18s - loss: 0.0032 - acc: 1.0000 - val_loss: 0.2801 - val_acc: 0.9076 - 18s/epoch - 295ms/step\n",
      "Epoch 39/100\n",
      "60/60 - 18s - loss: 0.0022 - acc: 1.0000 - val_loss: 0.2360 - val_acc: 0.9328 - 18s/epoch - 295ms/step\n",
      "Epoch 40/100\n",
      "60/60 - 18s - loss: 0.0016 - acc: 1.0000 - val_loss: 0.2094 - val_acc: 0.9412 - 18s/epoch - 295ms/step\n",
      "Epoch 41/100\n",
      "60/60 - 18s - loss: 0.0012 - acc: 1.0000 - val_loss: 0.2064 - val_acc: 0.9412 - 18s/epoch - 295ms/step\n",
      "Epoch 42/100\n",
      "60/60 - 18s - loss: 0.0010 - acc: 1.0000 - val_loss: 0.1946 - val_acc: 0.9412 - 18s/epoch - 295ms/step\n",
      "Epoch 43/100\n",
      "60/60 - 18s - loss: 8.5834e-04 - acc: 1.0000 - val_loss: 0.1955 - val_acc: 0.9412 - 18s/epoch - 295ms/step\n",
      "Epoch 44/100\n",
      "60/60 - 18s - loss: 7.8398e-04 - acc: 1.0000 - val_loss: 0.1991 - val_acc: 0.9454 - 18s/epoch - 295ms/step\n",
      "Epoch 45/100\n",
      "60/60 - 18s - loss: 7.2748e-04 - acc: 1.0000 - val_loss: 0.1998 - val_acc: 0.9538 - 18s/epoch - 295ms/step\n",
      "Epoch 46/100\n",
      "60/60 - 18s - loss: 6.7435e-04 - acc: 1.0000 - val_loss: 0.1990 - val_acc: 0.9538 - 18s/epoch - 295ms/step\n",
      "Epoch 47/100\n",
      "60/60 - 18s - loss: 6.3277e-04 - acc: 1.0000 - val_loss: 0.2034 - val_acc: 0.9538 - 18s/epoch - 295ms/step\n",
      "Epoch 48/100\n",
      "60/60 - 18s - loss: 6.4142e-04 - acc: 1.0000 - val_loss: 0.1965 - val_acc: 0.9664 - 18s/epoch - 295ms/step\n",
      "Epoch 49/100\n",
      "60/60 - 18s - loss: 5.8678e-04 - acc: 1.0000 - val_loss: 0.2081 - val_acc: 0.9580 - 18s/epoch - 295ms/step\n",
      "Epoch 50/100\n",
      "60/60 - 18s - loss: 5.8013e-04 - acc: 1.0000 - val_loss: 0.2105 - val_acc: 0.9538 - 18s/epoch - 295ms/step\n",
      "Epoch 51/100\n",
      "60/60 - 18s - loss: 5.5241e-04 - acc: 1.0000 - val_loss: 0.2135 - val_acc: 0.9580 - 18s/epoch - 295ms/step\n",
      "Epoch 52/100\n",
      "60/60 - 18s - loss: 5.8512e-04 - acc: 1.0000 - val_loss: 0.2063 - val_acc: 0.9622 - 18s/epoch - 295ms/step\n",
      "Epoch 53/100\n",
      "60/60 - 18s - loss: 5.1413e-04 - acc: 1.0000 - val_loss: 0.2001 - val_acc: 0.9664 - 18s/epoch - 295ms/step\n",
      "Epoch 54/100\n",
      "60/60 - 18s - loss: 5.1546e-04 - acc: 1.0000 - val_loss: 0.2056 - val_acc: 0.9622 - 18s/epoch - 295ms/step\n",
      "Epoch 55/100\n",
      "60/60 - 18s - loss: 5.2272e-04 - acc: 1.0000 - val_loss: 0.2089 - val_acc: 0.9622 - 18s/epoch - 295ms/step\n",
      "Epoch 56/100\n",
      "60/60 - 18s - loss: 4.6958e-04 - acc: 1.0000 - val_loss: 0.2063 - val_acc: 0.9664 - 18s/epoch - 295ms/step\n",
      "Epoch 57/100\n",
      "60/60 - 18s - loss: 4.8590e-04 - acc: 1.0000 - val_loss: 0.2001 - val_acc: 0.9664 - 18s/epoch - 295ms/step\n",
      "Epoch 58/100\n",
      "60/60 - 18s - loss: 4.8732e-04 - acc: 1.0000 - val_loss: 0.2299 - val_acc: 0.9538 - 18s/epoch - 295ms/step\n",
      "Epoch 59/100\n",
      "60/60 - 18s - loss: 4.2804e-04 - acc: 1.0000 - val_loss: 0.2189 - val_acc: 0.9538 - 18s/epoch - 294ms/step\n",
      "Epoch 60/100\n",
      "60/60 - 18s - loss: 4.3474e-04 - acc: 1.0000 - val_loss: 0.2116 - val_acc: 0.9622 - 18s/epoch - 295ms/step\n",
      "Epoch 61/100\n",
      "60/60 - 18s - loss: 4.1124e-04 - acc: 1.0000 - val_loss: 0.2053 - val_acc: 0.9664 - 18s/epoch - 295ms/step\n",
      "Epoch 62/100\n",
      "60/60 - 18s - loss: 4.1182e-04 - acc: 1.0000 - val_loss: 0.2113 - val_acc: 0.9664 - 18s/epoch - 295ms/step\n",
      "Epoch 63/100\n",
      "60/60 - 18s - loss: 4.3074e-04 - acc: 1.0000 - val_loss: 0.2076 - val_acc: 0.9622 - 18s/epoch - 295ms/step\n",
      "Epoch 64/100\n",
      "60/60 - 18s - loss: 3.8882e-04 - acc: 1.0000 - val_loss: 0.2084 - val_acc: 0.9622 - 18s/epoch - 295ms/step\n",
      "Epoch 65/100\n",
      "60/60 - 18s - loss: 3.7107e-04 - acc: 1.0000 - val_loss: 0.2064 - val_acc: 0.9622 - 18s/epoch - 295ms/step\n",
      "Epoch 66/100\n",
      "60/60 - 18s - loss: 3.6588e-04 - acc: 1.0000 - val_loss: 0.2080 - val_acc: 0.9622 - 18s/epoch - 294ms/step\n",
      "Epoch 67/100\n",
      "60/60 - 18s - loss: 3.6330e-04 - acc: 1.0000 - val_loss: 0.2095 - val_acc: 0.9622 - 18s/epoch - 295ms/step\n",
      "Epoch 68/100\n",
      "60/60 - 18s - loss: 3.3037e-04 - acc: 1.0000 - val_loss: 0.2188 - val_acc: 0.9580 - 18s/epoch - 295ms/step\n",
      "Epoch 69/100\n",
      "60/60 - 18s - loss: 3.4682e-04 - acc: 1.0000 - val_loss: 0.2178 - val_acc: 0.9622 - 18s/epoch - 295ms/step\n",
      "Epoch 70/100\n",
      "60/60 - 18s - loss: 3.2610e-04 - acc: 1.0000 - val_loss: 0.2139 - val_acc: 0.9622 - 18s/epoch - 295ms/step\n"
     ]
    },
    {
     "name": "stdout",
     "output_type": "stream",
     "text": [
      "Epoch 71/100\n",
      "60/60 - 18s - loss: 3.1854e-04 - acc: 1.0000 - val_loss: 0.2182 - val_acc: 0.9622 - 18s/epoch - 295ms/step\n",
      "Epoch 72/100\n",
      "60/60 - 18s - loss: 3.2792e-04 - acc: 1.0000 - val_loss: 0.2200 - val_acc: 0.9622 - 18s/epoch - 295ms/step\n",
      "Epoch 73/100\n",
      "60/60 - 18s - loss: 3.2657e-04 - acc: 1.0000 - val_loss: 0.2196 - val_acc: 0.9622 - 18s/epoch - 295ms/step\n",
      "Epoch 74/100\n",
      "60/60 - 18s - loss: 3.1065e-04 - acc: 1.0000 - val_loss: 0.2160 - val_acc: 0.9622 - 18s/epoch - 295ms/step\n",
      "Epoch 75/100\n",
      "60/60 - 18s - loss: 3.0563e-04 - acc: 1.0000 - val_loss: 0.2263 - val_acc: 0.9622 - 18s/epoch - 295ms/step\n",
      "Epoch 76/100\n",
      "60/60 - 18s - loss: 2.9818e-04 - acc: 1.0000 - val_loss: 0.2312 - val_acc: 0.9622 - 18s/epoch - 295ms/step\n",
      "Epoch 77/100\n",
      "60/60 - 18s - loss: 2.9485e-04 - acc: 1.0000 - val_loss: 0.2210 - val_acc: 0.9622 - 18s/epoch - 295ms/step\n",
      "Epoch 78/100\n",
      "60/60 - 18s - loss: 2.7689e-04 - acc: 1.0000 - val_loss: 0.2203 - val_acc: 0.9622 - 18s/epoch - 295ms/step\n",
      "Epoch 79/100\n",
      "60/60 - 18s - loss: 2.6912e-04 - acc: 1.0000 - val_loss: 0.2244 - val_acc: 0.9622 - 18s/epoch - 295ms/step\n",
      "Epoch 80/100\n",
      "60/60 - 18s - loss: 2.8592e-04 - acc: 1.0000 - val_loss: 0.2257 - val_acc: 0.9622 - 18s/epoch - 295ms/step\n",
      "Epoch 81/100\n",
      "60/60 - 18s - loss: 2.7285e-04 - acc: 1.0000 - val_loss: 0.2407 - val_acc: 0.9580 - 18s/epoch - 295ms/step\n",
      "Epoch 82/100\n",
      "60/60 - 18s - loss: 2.6260e-04 - acc: 1.0000 - val_loss: 0.2344 - val_acc: 0.9622 - 18s/epoch - 294ms/step\n",
      "Epoch 83/100\n",
      "60/60 - 18s - loss: 2.6206e-04 - acc: 1.0000 - val_loss: 0.2289 - val_acc: 0.9622 - 18s/epoch - 295ms/step\n",
      "Epoch 84/100\n",
      "60/60 - 18s - loss: 2.4580e-04 - acc: 1.0000 - val_loss: 0.2231 - val_acc: 0.9622 - 18s/epoch - 295ms/step\n",
      "Epoch 85/100\n",
      "60/60 - 18s - loss: 2.5214e-04 - acc: 1.0000 - val_loss: 0.2296 - val_acc: 0.9622 - 18s/epoch - 295ms/step\n",
      "Epoch 86/100\n",
      "60/60 - 18s - loss: 2.3405e-04 - acc: 1.0000 - val_loss: 0.2345 - val_acc: 0.9580 - 18s/epoch - 295ms/step\n",
      "Epoch 87/100\n",
      "60/60 - 18s - loss: 2.3235e-04 - acc: 1.0000 - val_loss: 0.2345 - val_acc: 0.9580 - 18s/epoch - 295ms/step\n",
      "Epoch 88/100\n",
      "60/60 - 18s - loss: 2.3054e-04 - acc: 1.0000 - val_loss: 0.2349 - val_acc: 0.9622 - 18s/epoch - 295ms/step\n",
      "Epoch 89/100\n",
      "60/60 - 18s - loss: 2.3026e-04 - acc: 1.0000 - val_loss: 0.2200 - val_acc: 0.9622 - 18s/epoch - 295ms/step\n",
      "Epoch 90/100\n",
      "60/60 - 18s - loss: 2.0994e-04 - acc: 1.0000 - val_loss: 0.2276 - val_acc: 0.9622 - 18s/epoch - 295ms/step\n",
      "Epoch 91/100\n",
      "60/60 - 18s - loss: 2.3933e-04 - acc: 1.0000 - val_loss: 0.2232 - val_acc: 0.9622 - 18s/epoch - 295ms/step\n",
      "Epoch 92/100\n",
      "60/60 - 18s - loss: 1.9557e-04 - acc: 1.0000 - val_loss: 0.2277 - val_acc: 0.9622 - 18s/epoch - 295ms/step\n",
      "Epoch 93/100\n",
      "60/60 - 18s - loss: 2.1973e-04 - acc: 1.0000 - val_loss: 0.2425 - val_acc: 0.9580 - 18s/epoch - 295ms/step\n",
      "Epoch 94/100\n",
      "60/60 - 18s - loss: 2.2679e-04 - acc: 1.0000 - val_loss: 0.2364 - val_acc: 0.9622 - 18s/epoch - 295ms/step\n",
      "Epoch 95/100\n",
      "60/60 - 18s - loss: 2.0823e-04 - acc: 1.0000 - val_loss: 0.2375 - val_acc: 0.9580 - 18s/epoch - 295ms/step\n",
      "Epoch 96/100\n",
      "60/60 - 18s - loss: 2.1061e-04 - acc: 1.0000 - val_loss: 0.2619 - val_acc: 0.9622 - 18s/epoch - 295ms/step\n",
      "Epoch 97/100\n",
      "60/60 - 18s - loss: 2.3551e-04 - acc: 1.0000 - val_loss: 0.2765 - val_acc: 0.9580 - 18s/epoch - 295ms/step\n",
      "Epoch 98/100\n",
      "60/60 - 18s - loss: 2.0698e-04 - acc: 1.0000 - val_loss: 0.2185 - val_acc: 0.9622 - 18s/epoch - 295ms/step\n",
      "Epoch 99/100\n",
      "60/60 - 18s - loss: 1.8156e-04 - acc: 1.0000 - val_loss: 0.2402 - val_acc: 0.9622 - 18s/epoch - 295ms/step\n",
      "Epoch 100/100\n",
      "60/60 - 18s - loss: 2.0095e-04 - acc: 1.0000 - val_loss: 0.2540 - val_acc: 0.9622 - 18s/epoch - 295ms/step\n"
     ]
    }
   ],
   "source": [
    "epochs = 100\n",
    "\n",
    "#compila e treina o modelo com os dados carregados\n",
    "new_model.compile(loss='sparse_categorical_crossentropy', metrics=['acc'], optimizer=adam)\n",
    "model_trained = new_model.fit(train_x, train_y,epochs=epochs,verbose=2,validation_data=(validation_x, validation_y),shuffle=False)"
   ]
  },
  {
   "cell_type": "code",
   "execution_count": 83,
   "metadata": {},
   "outputs": [
    {
     "name": "stdout",
     "output_type": "stream",
     "text": [
      "Model: \"resnet50v2\"\n",
      "__________________________________________________________________________________________________\n",
      " Layer (type)                   Output Shape         Param #     Connected to                     \n",
      "==================================================================================================\n",
      " input_4 (InputLayer)           [(None, 128, 128, 3  0           []                               \n",
      "                                )]                                                                \n",
      "                                                                                                  \n",
      " conv1_pad (ZeroPadding2D)      (None, 134, 134, 3)  0           ['input_4[0][0]']                \n",
      "                                                                                                  \n",
      " conv1_conv (Conv2D)            (None, 64, 64, 64)   9472        ['conv1_pad[0][0]']              \n",
      "                                                                                                  \n",
      " pool1_pad (ZeroPadding2D)      (None, 66, 66, 64)   0           ['conv1_conv[0][0]']             \n",
      "                                                                                                  \n",
      " pool1_pool (MaxPooling2D)      (None, 32, 32, 64)   0           ['pool1_pad[0][0]']              \n",
      "                                                                                                  \n",
      " conv2_block1_preact_bn (BatchN  (None, 32, 32, 64)  256         ['pool1_pool[0][0]']             \n",
      " ormalization)                                                                                    \n",
      "                                                                                                  \n",
      " conv2_block1_preact_relu (Acti  (None, 32, 32, 64)  0           ['conv2_block1_preact_bn[0][0]'] \n",
      " vation)                                                                                          \n",
      "                                                                                                  \n",
      " conv2_block1_1_conv (Conv2D)   (None, 32, 32, 64)   4096        ['conv2_block1_preact_relu[0][0]'\n",
      "                                                                 ]                                \n",
      "                                                                                                  \n",
      " conv2_block1_1_bn (BatchNormal  (None, 32, 32, 64)  256         ['conv2_block1_1_conv[0][0]']    \n",
      " ization)                                                                                         \n",
      "                                                                                                  \n",
      " conv2_block1_1_relu (Activatio  (None, 32, 32, 64)  0           ['conv2_block1_1_bn[0][0]']      \n",
      " n)                                                                                               \n",
      "                                                                                                  \n",
      " conv2_block1_2_pad (ZeroPaddin  (None, 34, 34, 64)  0           ['conv2_block1_1_relu[0][0]']    \n",
      " g2D)                                                                                             \n",
      "                                                                                                  \n",
      " conv2_block1_2_conv (Conv2D)   (None, 32, 32, 64)   36864       ['conv2_block1_2_pad[0][0]']     \n",
      "                                                                                                  \n",
      " conv2_block1_2_bn (BatchNormal  (None, 32, 32, 64)  256         ['conv2_block1_2_conv[0][0]']    \n",
      " ization)                                                                                         \n",
      "                                                                                                  \n",
      " conv2_block1_2_relu (Activatio  (None, 32, 32, 64)  0           ['conv2_block1_2_bn[0][0]']      \n",
      " n)                                                                                               \n",
      "                                                                                                  \n",
      " conv2_block1_0_conv (Conv2D)   (None, 32, 32, 256)  16640       ['conv2_block1_preact_relu[0][0]'\n",
      "                                                                 ]                                \n",
      "                                                                                                  \n",
      " conv2_block1_3_conv (Conv2D)   (None, 32, 32, 256)  16640       ['conv2_block1_2_relu[0][0]']    \n",
      "                                                                                                  \n",
      " conv2_block1_out (Add)         (None, 32, 32, 256)  0           ['conv2_block1_0_conv[0][0]',    \n",
      "                                                                  'conv2_block1_3_conv[0][0]']    \n",
      "                                                                                                  \n",
      " conv2_block2_preact_bn (BatchN  (None, 32, 32, 256)  1024       ['conv2_block1_out[0][0]']       \n",
      " ormalization)                                                                                    \n",
      "                                                                                                  \n",
      " conv2_block2_preact_relu (Acti  (None, 32, 32, 256)  0          ['conv2_block2_preact_bn[0][0]'] \n",
      " vation)                                                                                          \n",
      "                                                                                                  \n",
      " conv2_block2_1_conv (Conv2D)   (None, 32, 32, 64)   16384       ['conv2_block2_preact_relu[0][0]'\n",
      "                                                                 ]                                \n",
      "                                                                                                  \n",
      " conv2_block2_1_bn (BatchNormal  (None, 32, 32, 64)  256         ['conv2_block2_1_conv[0][0]']    \n",
      " ization)                                                                                         \n",
      "                                                                                                  \n",
      " conv2_block2_1_relu (Activatio  (None, 32, 32, 64)  0           ['conv2_block2_1_bn[0][0]']      \n",
      " n)                                                                                               \n",
      "                                                                                                  \n",
      " conv2_block2_2_pad (ZeroPaddin  (None, 34, 34, 64)  0           ['conv2_block2_1_relu[0][0]']    \n",
      " g2D)                                                                                             \n",
      "                                                                                                  \n",
      " conv2_block2_2_conv (Conv2D)   (None, 32, 32, 64)   36864       ['conv2_block2_2_pad[0][0]']     \n",
      "                                                                                                  \n",
      " conv2_block2_2_bn (BatchNormal  (None, 32, 32, 64)  256         ['conv2_block2_2_conv[0][0]']    \n",
      " ization)                                                                                         \n",
      "                                                                                                  \n",
      " conv2_block2_2_relu (Activatio  (None, 32, 32, 64)  0           ['conv2_block2_2_bn[0][0]']      \n",
      " n)                                                                                               \n",
      "                                                                                                  \n",
      " conv2_block2_3_conv (Conv2D)   (None, 32, 32, 256)  16640       ['conv2_block2_2_relu[0][0]']    \n",
      "                                                                                                  \n",
      " conv2_block2_out (Add)         (None, 32, 32, 256)  0           ['conv2_block1_out[0][0]',       \n",
      "                                                                  'conv2_block2_3_conv[0][0]']    \n",
      "                                                                                                  \n",
      " conv2_block3_preact_bn (BatchN  (None, 32, 32, 256)  1024       ['conv2_block2_out[0][0]']       \n",
      " ormalization)                                                                                    \n",
      "                                                                                                  \n",
      " conv2_block3_preact_relu (Acti  (None, 32, 32, 256)  0          ['conv2_block3_preact_bn[0][0]'] \n"
     ]
    },
    {
     "name": "stdout",
     "output_type": "stream",
     "text": [
      " vation)                                                                                          \n",
      "                                                                                                  \n",
      " conv2_block3_1_conv (Conv2D)   (None, 32, 32, 64)   16384       ['conv2_block3_preact_relu[0][0]'\n",
      "                                                                 ]                                \n",
      "                                                                                                  \n",
      " conv2_block3_1_bn (BatchNormal  (None, 32, 32, 64)  256         ['conv2_block3_1_conv[0][0]']    \n",
      " ization)                                                                                         \n",
      "                                                                                                  \n",
      " conv2_block3_1_relu (Activatio  (None, 32, 32, 64)  0           ['conv2_block3_1_bn[0][0]']      \n",
      " n)                                                                                               \n",
      "                                                                                                  \n",
      " conv2_block3_2_pad (ZeroPaddin  (None, 34, 34, 64)  0           ['conv2_block3_1_relu[0][0]']    \n",
      " g2D)                                                                                             \n",
      "                                                                                                  \n",
      " conv2_block3_2_conv (Conv2D)   (None, 16, 16, 64)   36864       ['conv2_block3_2_pad[0][0]']     \n",
      "                                                                                                  \n",
      " conv2_block3_2_bn (BatchNormal  (None, 16, 16, 64)  256         ['conv2_block3_2_conv[0][0]']    \n",
      " ization)                                                                                         \n",
      "                                                                                                  \n",
      " conv2_block3_2_relu (Activatio  (None, 16, 16, 64)  0           ['conv2_block3_2_bn[0][0]']      \n",
      " n)                                                                                               \n",
      "                                                                                                  \n",
      " max_pooling2d_6 (MaxPooling2D)  (None, 16, 16, 256)  0          ['conv2_block2_out[0][0]']       \n",
      "                                                                                                  \n",
      " conv2_block3_3_conv (Conv2D)   (None, 16, 16, 256)  16640       ['conv2_block3_2_relu[0][0]']    \n",
      "                                                                                                  \n",
      " conv2_block3_out (Add)         (None, 16, 16, 256)  0           ['max_pooling2d_6[0][0]',        \n",
      "                                                                  'conv2_block3_3_conv[0][0]']    \n",
      "                                                                                                  \n",
      " conv3_block1_preact_bn (BatchN  (None, 16, 16, 256)  1024       ['conv2_block3_out[0][0]']       \n",
      " ormalization)                                                                                    \n",
      "                                                                                                  \n",
      " conv3_block1_preact_relu (Acti  (None, 16, 16, 256)  0          ['conv3_block1_preact_bn[0][0]'] \n",
      " vation)                                                                                          \n",
      "                                                                                                  \n",
      " conv3_block1_1_conv (Conv2D)   (None, 16, 16, 128)  32768       ['conv3_block1_preact_relu[0][0]'\n",
      "                                                                 ]                                \n",
      "                                                                                                  \n",
      " conv3_block1_1_bn (BatchNormal  (None, 16, 16, 128)  512        ['conv3_block1_1_conv[0][0]']    \n",
      " ization)                                                                                         \n",
      "                                                                                                  \n",
      " conv3_block1_1_relu (Activatio  (None, 16, 16, 128)  0          ['conv3_block1_1_bn[0][0]']      \n",
      " n)                                                                                               \n",
      "                                                                                                  \n",
      " conv3_block1_2_pad (ZeroPaddin  (None, 18, 18, 128)  0          ['conv3_block1_1_relu[0][0]']    \n",
      " g2D)                                                                                             \n",
      "                                                                                                  \n",
      " conv3_block1_2_conv (Conv2D)   (None, 16, 16, 128)  147456      ['conv3_block1_2_pad[0][0]']     \n",
      "                                                                                                  \n",
      " conv3_block1_2_bn (BatchNormal  (None, 16, 16, 128)  512        ['conv3_block1_2_conv[0][0]']    \n",
      " ization)                                                                                         \n",
      "                                                                                                  \n",
      " conv3_block1_2_relu (Activatio  (None, 16, 16, 128)  0          ['conv3_block1_2_bn[0][0]']      \n",
      " n)                                                                                               \n",
      "                                                                                                  \n",
      " conv3_block1_0_conv (Conv2D)   (None, 16, 16, 512)  131584      ['conv3_block1_preact_relu[0][0]'\n",
      "                                                                 ]                                \n",
      "                                                                                                  \n",
      " conv3_block1_3_conv (Conv2D)   (None, 16, 16, 512)  66048       ['conv3_block1_2_relu[0][0]']    \n",
      "                                                                                                  \n",
      " conv3_block1_out (Add)         (None, 16, 16, 512)  0           ['conv3_block1_0_conv[0][0]',    \n",
      "                                                                  'conv3_block1_3_conv[0][0]']    \n",
      "                                                                                                  \n",
      " conv3_block2_preact_bn (BatchN  (None, 16, 16, 512)  2048       ['conv3_block1_out[0][0]']       \n",
      " ormalization)                                                                                    \n",
      "                                                                                                  \n",
      " conv3_block2_preact_relu (Acti  (None, 16, 16, 512)  0          ['conv3_block2_preact_bn[0][0]'] \n",
      " vation)                                                                                          \n",
      "                                                                                                  \n",
      " conv3_block2_1_conv (Conv2D)   (None, 16, 16, 128)  65536       ['conv3_block2_preact_relu[0][0]'\n",
      "                                                                 ]                                \n",
      "                                                                                                  \n",
      " conv3_block2_1_bn (BatchNormal  (None, 16, 16, 128)  512        ['conv3_block2_1_conv[0][0]']    \n",
      " ization)                                                                                         \n",
      "                                                                                                  \n",
      " conv3_block2_1_relu (Activatio  (None, 16, 16, 128)  0          ['conv3_block2_1_bn[0][0]']      \n",
      " n)                                                                                               \n",
      "                                                                                                  \n",
      " conv3_block2_2_pad (ZeroPaddin  (None, 18, 18, 128)  0          ['conv3_block2_1_relu[0][0]']    \n",
      " g2D)                                                                                             \n",
      "                                                                                                  \n",
      " conv3_block2_2_conv (Conv2D)   (None, 16, 16, 128)  147456      ['conv3_block2_2_pad[0][0]']     \n",
      "                                                                                                  \n"
     ]
    },
    {
     "name": "stdout",
     "output_type": "stream",
     "text": [
      " conv3_block2_2_bn (BatchNormal  (None, 16, 16, 128)  512        ['conv3_block2_2_conv[0][0]']    \n",
      " ization)                                                                                         \n",
      "                                                                                                  \n",
      " conv3_block2_2_relu (Activatio  (None, 16, 16, 128)  0          ['conv3_block2_2_bn[0][0]']      \n",
      " n)                                                                                               \n",
      "                                                                                                  \n",
      " conv3_block2_3_conv (Conv2D)   (None, 16, 16, 512)  66048       ['conv3_block2_2_relu[0][0]']    \n",
      "                                                                                                  \n",
      " conv3_block2_out (Add)         (None, 16, 16, 512)  0           ['conv3_block1_out[0][0]',       \n",
      "                                                                  'conv3_block2_3_conv[0][0]']    \n",
      "                                                                                                  \n",
      " conv3_block3_preact_bn (BatchN  (None, 16, 16, 512)  2048       ['conv3_block2_out[0][0]']       \n",
      " ormalization)                                                                                    \n",
      "                                                                                                  \n",
      " conv3_block3_preact_relu (Acti  (None, 16, 16, 512)  0          ['conv3_block3_preact_bn[0][0]'] \n",
      " vation)                                                                                          \n",
      "                                                                                                  \n",
      " conv3_block3_1_conv (Conv2D)   (None, 16, 16, 128)  65536       ['conv3_block3_preact_relu[0][0]'\n",
      "                                                                 ]                                \n",
      "                                                                                                  \n",
      " conv3_block3_1_bn (BatchNormal  (None, 16, 16, 128)  512        ['conv3_block3_1_conv[0][0]']    \n",
      " ization)                                                                                         \n",
      "                                                                                                  \n",
      " conv3_block3_1_relu (Activatio  (None, 16, 16, 128)  0          ['conv3_block3_1_bn[0][0]']      \n",
      " n)                                                                                               \n",
      "                                                                                                  \n",
      " conv3_block3_2_pad (ZeroPaddin  (None, 18, 18, 128)  0          ['conv3_block3_1_relu[0][0]']    \n",
      " g2D)                                                                                             \n",
      "                                                                                                  \n",
      " conv3_block3_2_conv (Conv2D)   (None, 16, 16, 128)  147456      ['conv3_block3_2_pad[0][0]']     \n",
      "                                                                                                  \n",
      " conv3_block3_2_bn (BatchNormal  (None, 16, 16, 128)  512        ['conv3_block3_2_conv[0][0]']    \n",
      " ization)                                                                                         \n",
      "                                                                                                  \n",
      " conv3_block3_2_relu (Activatio  (None, 16, 16, 128)  0          ['conv3_block3_2_bn[0][0]']      \n",
      " n)                                                                                               \n",
      "                                                                                                  \n",
      " conv3_block3_3_conv (Conv2D)   (None, 16, 16, 512)  66048       ['conv3_block3_2_relu[0][0]']    \n",
      "                                                                                                  \n",
      " conv3_block3_out (Add)         (None, 16, 16, 512)  0           ['conv3_block2_out[0][0]',       \n",
      "                                                                  'conv3_block3_3_conv[0][0]']    \n",
      "                                                                                                  \n",
      " conv3_block4_preact_bn (BatchN  (None, 16, 16, 512)  2048       ['conv3_block3_out[0][0]']       \n",
      " ormalization)                                                                                    \n",
      "                                                                                                  \n",
      " conv3_block4_preact_relu (Acti  (None, 16, 16, 512)  0          ['conv3_block4_preact_bn[0][0]'] \n",
      " vation)                                                                                          \n",
      "                                                                                                  \n",
      " conv3_block4_1_conv (Conv2D)   (None, 16, 16, 128)  65536       ['conv3_block4_preact_relu[0][0]'\n",
      "                                                                 ]                                \n",
      "                                                                                                  \n",
      " conv3_block4_1_bn (BatchNormal  (None, 16, 16, 128)  512        ['conv3_block4_1_conv[0][0]']    \n",
      " ization)                                                                                         \n",
      "                                                                                                  \n",
      " conv3_block4_1_relu (Activatio  (None, 16, 16, 128)  0          ['conv3_block4_1_bn[0][0]']      \n",
      " n)                                                                                               \n",
      "                                                                                                  \n",
      " conv3_block4_2_pad (ZeroPaddin  (None, 18, 18, 128)  0          ['conv3_block4_1_relu[0][0]']    \n",
      " g2D)                                                                                             \n",
      "                                                                                                  \n",
      " conv3_block4_2_conv (Conv2D)   (None, 8, 8, 128)    147456      ['conv3_block4_2_pad[0][0]']     \n",
      "                                                                                                  \n",
      " conv3_block4_2_bn (BatchNormal  (None, 8, 8, 128)   512         ['conv3_block4_2_conv[0][0]']    \n",
      " ization)                                                                                         \n",
      "                                                                                                  \n",
      " conv3_block4_2_relu (Activatio  (None, 8, 8, 128)   0           ['conv3_block4_2_bn[0][0]']      \n",
      " n)                                                                                               \n",
      "                                                                                                  \n",
      " max_pooling2d_7 (MaxPooling2D)  (None, 8, 8, 512)   0           ['conv3_block3_out[0][0]']       \n",
      "                                                                                                  \n",
      " conv3_block4_3_conv (Conv2D)   (None, 8, 8, 512)    66048       ['conv3_block4_2_relu[0][0]']    \n",
      "                                                                                                  \n",
      " conv3_block4_out (Add)         (None, 8, 8, 512)    0           ['max_pooling2d_7[0][0]',        \n",
      "                                                                  'conv3_block4_3_conv[0][0]']    \n",
      "                                                                                                  \n",
      " conv4_block1_preact_bn (BatchN  (None, 8, 8, 512)   2048        ['conv3_block4_out[0][0]']       \n",
      " ormalization)                                                                                    \n",
      "                                                                                                  \n",
      " conv4_block1_preact_relu (Acti  (None, 8, 8, 512)   0           ['conv4_block1_preact_bn[0][0]'] \n",
      " vation)                                                                                          \n",
      "                                                                                                  \n",
      " conv4_block1_1_conv (Conv2D)   (None, 8, 8, 256)    131072      ['conv4_block1_preact_relu[0][0]'\n",
      "                                                                 ]                                \n"
     ]
    },
    {
     "name": "stdout",
     "output_type": "stream",
     "text": [
      "                                                                                                  \n",
      " conv4_block1_1_bn (BatchNormal  (None, 8, 8, 256)   1024        ['conv4_block1_1_conv[0][0]']    \n",
      " ization)                                                                                         \n",
      "                                                                                                  \n",
      " conv4_block1_1_relu (Activatio  (None, 8, 8, 256)   0           ['conv4_block1_1_bn[0][0]']      \n",
      " n)                                                                                               \n",
      "                                                                                                  \n",
      " conv4_block1_2_pad (ZeroPaddin  (None, 10, 10, 256)  0          ['conv4_block1_1_relu[0][0]']    \n",
      " g2D)                                                                                             \n",
      "                                                                                                  \n",
      " conv4_block1_2_conv (Conv2D)   (None, 8, 8, 256)    589824      ['conv4_block1_2_pad[0][0]']     \n",
      "                                                                                                  \n",
      " conv4_block1_2_bn (BatchNormal  (None, 8, 8, 256)   1024        ['conv4_block1_2_conv[0][0]']    \n",
      " ization)                                                                                         \n",
      "                                                                                                  \n",
      " conv4_block1_2_relu (Activatio  (None, 8, 8, 256)   0           ['conv4_block1_2_bn[0][0]']      \n",
      " n)                                                                                               \n",
      "                                                                                                  \n",
      " conv4_block1_0_conv (Conv2D)   (None, 8, 8, 1024)   525312      ['conv4_block1_preact_relu[0][0]'\n",
      "                                                                 ]                                \n",
      "                                                                                                  \n",
      " conv4_block1_3_conv (Conv2D)   (None, 8, 8, 1024)   263168      ['conv4_block1_2_relu[0][0]']    \n",
      "                                                                                                  \n",
      " conv4_block1_out (Add)         (None, 8, 8, 1024)   0           ['conv4_block1_0_conv[0][0]',    \n",
      "                                                                  'conv4_block1_3_conv[0][0]']    \n",
      "                                                                                                  \n",
      " conv4_block2_preact_bn (BatchN  (None, 8, 8, 1024)  4096        ['conv4_block1_out[0][0]']       \n",
      " ormalization)                                                                                    \n",
      "                                                                                                  \n",
      " conv4_block2_preact_relu (Acti  (None, 8, 8, 1024)  0           ['conv4_block2_preact_bn[0][0]'] \n",
      " vation)                                                                                          \n",
      "                                                                                                  \n",
      " conv4_block2_1_conv (Conv2D)   (None, 8, 8, 256)    262144      ['conv4_block2_preact_relu[0][0]'\n",
      "                                                                 ]                                \n",
      "                                                                                                  \n",
      " conv4_block2_1_bn (BatchNormal  (None, 8, 8, 256)   1024        ['conv4_block2_1_conv[0][0]']    \n",
      " ization)                                                                                         \n",
      "                                                                                                  \n",
      " conv4_block2_1_relu (Activatio  (None, 8, 8, 256)   0           ['conv4_block2_1_bn[0][0]']      \n",
      " n)                                                                                               \n",
      "                                                                                                  \n",
      " conv4_block2_2_pad (ZeroPaddin  (None, 10, 10, 256)  0          ['conv4_block2_1_relu[0][0]']    \n",
      " g2D)                                                                                             \n",
      "                                                                                                  \n",
      " conv4_block2_2_conv (Conv2D)   (None, 8, 8, 256)    589824      ['conv4_block2_2_pad[0][0]']     \n",
      "                                                                                                  \n",
      " conv4_block2_2_bn (BatchNormal  (None, 8, 8, 256)   1024        ['conv4_block2_2_conv[0][0]']    \n",
      " ization)                                                                                         \n",
      "                                                                                                  \n",
      " conv4_block2_2_relu (Activatio  (None, 8, 8, 256)   0           ['conv4_block2_2_bn[0][0]']      \n",
      " n)                                                                                               \n",
      "                                                                                                  \n",
      " conv4_block2_3_conv (Conv2D)   (None, 8, 8, 1024)   263168      ['conv4_block2_2_relu[0][0]']    \n",
      "                                                                                                  \n",
      " conv4_block2_out (Add)         (None, 8, 8, 1024)   0           ['conv4_block1_out[0][0]',       \n",
      "                                                                  'conv4_block2_3_conv[0][0]']    \n",
      "                                                                                                  \n",
      " conv4_block3_preact_bn (BatchN  (None, 8, 8, 1024)  4096        ['conv4_block2_out[0][0]']       \n",
      " ormalization)                                                                                    \n",
      "                                                                                                  \n",
      " conv4_block3_preact_relu (Acti  (None, 8, 8, 1024)  0           ['conv4_block3_preact_bn[0][0]'] \n",
      " vation)                                                                                          \n",
      "                                                                                                  \n",
      " conv4_block3_1_conv (Conv2D)   (None, 8, 8, 256)    262144      ['conv4_block3_preact_relu[0][0]'\n",
      "                                                                 ]                                \n",
      "                                                                                                  \n",
      " conv4_block3_1_bn (BatchNormal  (None, 8, 8, 256)   1024        ['conv4_block3_1_conv[0][0]']    \n",
      " ization)                                                                                         \n",
      "                                                                                                  \n",
      " conv4_block3_1_relu (Activatio  (None, 8, 8, 256)   0           ['conv4_block3_1_bn[0][0]']      \n",
      " n)                                                                                               \n",
      "                                                                                                  \n",
      " conv4_block3_2_pad (ZeroPaddin  (None, 10, 10, 256)  0          ['conv4_block3_1_relu[0][0]']    \n",
      " g2D)                                                                                             \n",
      "                                                                                                  \n",
      " conv4_block3_2_conv (Conv2D)   (None, 8, 8, 256)    589824      ['conv4_block3_2_pad[0][0]']     \n",
      "                                                                                                  \n",
      " conv4_block3_2_bn (BatchNormal  (None, 8, 8, 256)   1024        ['conv4_block3_2_conv[0][0]']    \n",
      " ization)                                                                                         \n",
      "                                                                                                  \n",
      " conv4_block3_2_relu (Activatio  (None, 8, 8, 256)   0           ['conv4_block3_2_bn[0][0]']      \n",
      " n)                                                                                               \n",
      "                                                                                                  \n"
     ]
    },
    {
     "name": "stdout",
     "output_type": "stream",
     "text": [
      " conv4_block3_3_conv (Conv2D)   (None, 8, 8, 1024)   263168      ['conv4_block3_2_relu[0][0]']    \n",
      "                                                                                                  \n",
      " conv4_block3_out (Add)         (None, 8, 8, 1024)   0           ['conv4_block2_out[0][0]',       \n",
      "                                                                  'conv4_block3_3_conv[0][0]']    \n",
      "                                                                                                  \n",
      " conv4_block4_preact_bn (BatchN  (None, 8, 8, 1024)  4096        ['conv4_block3_out[0][0]']       \n",
      " ormalization)                                                                                    \n",
      "                                                                                                  \n",
      " conv4_block4_preact_relu (Acti  (None, 8, 8, 1024)  0           ['conv4_block4_preact_bn[0][0]'] \n",
      " vation)                                                                                          \n",
      "                                                                                                  \n",
      " conv4_block4_1_conv (Conv2D)   (None, 8, 8, 256)    262144      ['conv4_block4_preact_relu[0][0]'\n",
      "                                                                 ]                                \n",
      "                                                                                                  \n",
      " conv4_block4_1_bn (BatchNormal  (None, 8, 8, 256)   1024        ['conv4_block4_1_conv[0][0]']    \n",
      " ization)                                                                                         \n",
      "                                                                                                  \n",
      " conv4_block4_1_relu (Activatio  (None, 8, 8, 256)   0           ['conv4_block4_1_bn[0][0]']      \n",
      " n)                                                                                               \n",
      "                                                                                                  \n",
      " conv4_block4_2_pad (ZeroPaddin  (None, 10, 10, 256)  0          ['conv4_block4_1_relu[0][0]']    \n",
      " g2D)                                                                                             \n",
      "                                                                                                  \n",
      " conv4_block4_2_conv (Conv2D)   (None, 8, 8, 256)    589824      ['conv4_block4_2_pad[0][0]']     \n",
      "                                                                                                  \n",
      " conv4_block4_2_bn (BatchNormal  (None, 8, 8, 256)   1024        ['conv4_block4_2_conv[0][0]']    \n",
      " ization)                                                                                         \n",
      "                                                                                                  \n",
      " conv4_block4_2_relu (Activatio  (None, 8, 8, 256)   0           ['conv4_block4_2_bn[0][0]']      \n",
      " n)                                                                                               \n",
      "                                                                                                  \n",
      " conv4_block4_3_conv (Conv2D)   (None, 8, 8, 1024)   263168      ['conv4_block4_2_relu[0][0]']    \n",
      "                                                                                                  \n",
      " conv4_block4_out (Add)         (None, 8, 8, 1024)   0           ['conv4_block3_out[0][0]',       \n",
      "                                                                  'conv4_block4_3_conv[0][0]']    \n",
      "                                                                                                  \n",
      " conv4_block5_preact_bn (BatchN  (None, 8, 8, 1024)  4096        ['conv4_block4_out[0][0]']       \n",
      " ormalization)                                                                                    \n",
      "                                                                                                  \n",
      " conv4_block5_preact_relu (Acti  (None, 8, 8, 1024)  0           ['conv4_block5_preact_bn[0][0]'] \n",
      " vation)                                                                                          \n",
      "                                                                                                  \n",
      " conv4_block5_1_conv (Conv2D)   (None, 8, 8, 256)    262144      ['conv4_block5_preact_relu[0][0]'\n",
      "                                                                 ]                                \n",
      "                                                                                                  \n",
      " conv4_block5_1_bn (BatchNormal  (None, 8, 8, 256)   1024        ['conv4_block5_1_conv[0][0]']    \n",
      " ization)                                                                                         \n",
      "                                                                                                  \n",
      " conv4_block5_1_relu (Activatio  (None, 8, 8, 256)   0           ['conv4_block5_1_bn[0][0]']      \n",
      " n)                                                                                               \n",
      "                                                                                                  \n",
      " conv4_block5_2_pad (ZeroPaddin  (None, 10, 10, 256)  0          ['conv4_block5_1_relu[0][0]']    \n",
      " g2D)                                                                                             \n",
      "                                                                                                  \n",
      " conv4_block5_2_conv (Conv2D)   (None, 8, 8, 256)    589824      ['conv4_block5_2_pad[0][0]']     \n",
      "                                                                                                  \n",
      " conv4_block5_2_bn (BatchNormal  (None, 8, 8, 256)   1024        ['conv4_block5_2_conv[0][0]']    \n",
      " ization)                                                                                         \n",
      "                                                                                                  \n",
      " conv4_block5_2_relu (Activatio  (None, 8, 8, 256)   0           ['conv4_block5_2_bn[0][0]']      \n",
      " n)                                                                                               \n",
      "                                                                                                  \n",
      " conv4_block5_3_conv (Conv2D)   (None, 8, 8, 1024)   263168      ['conv4_block5_2_relu[0][0]']    \n",
      "                                                                                                  \n",
      " conv4_block5_out (Add)         (None, 8, 8, 1024)   0           ['conv4_block4_out[0][0]',       \n",
      "                                                                  'conv4_block5_3_conv[0][0]']    \n",
      "                                                                                                  \n",
      " conv4_block6_preact_bn (BatchN  (None, 8, 8, 1024)  4096        ['conv4_block5_out[0][0]']       \n",
      " ormalization)                                                                                    \n",
      "                                                                                                  \n",
      " conv4_block6_preact_relu (Acti  (None, 8, 8, 1024)  0           ['conv4_block6_preact_bn[0][0]'] \n",
      " vation)                                                                                          \n",
      "                                                                                                  \n",
      " conv4_block6_1_conv (Conv2D)   (None, 8, 8, 256)    262144      ['conv4_block6_preact_relu[0][0]'\n",
      "                                                                 ]                                \n",
      "                                                                                                  \n",
      " conv4_block6_1_bn (BatchNormal  (None, 8, 8, 256)   1024        ['conv4_block6_1_conv[0][0]']    \n",
      " ization)                                                                                         \n",
      "                                                                                                  \n",
      " conv4_block6_1_relu (Activatio  (None, 8, 8, 256)   0           ['conv4_block6_1_bn[0][0]']      \n",
      " n)                                                                                               \n",
      "                                                                                                  \n",
      " conv4_block6_2_pad (ZeroPaddin  (None, 10, 10, 256)  0          ['conv4_block6_1_relu[0][0]']    \n"
     ]
    },
    {
     "name": "stdout",
     "output_type": "stream",
     "text": [
      " g2D)                                                                                             \n",
      "                                                                                                  \n",
      " conv4_block6_2_conv (Conv2D)   (None, 4, 4, 256)    589824      ['conv4_block6_2_pad[0][0]']     \n",
      "                                                                                                  \n",
      " conv4_block6_2_bn (BatchNormal  (None, 4, 4, 256)   1024        ['conv4_block6_2_conv[0][0]']    \n",
      " ization)                                                                                         \n",
      "                                                                                                  \n",
      " conv4_block6_2_relu (Activatio  (None, 4, 4, 256)   0           ['conv4_block6_2_bn[0][0]']      \n",
      " n)                                                                                               \n",
      "                                                                                                  \n",
      " max_pooling2d_8 (MaxPooling2D)  (None, 4, 4, 1024)  0           ['conv4_block5_out[0][0]']       \n",
      "                                                                                                  \n",
      " conv4_block6_3_conv (Conv2D)   (None, 4, 4, 1024)   263168      ['conv4_block6_2_relu[0][0]']    \n",
      "                                                                                                  \n",
      " conv4_block6_out (Add)         (None, 4, 4, 1024)   0           ['max_pooling2d_8[0][0]',        \n",
      "                                                                  'conv4_block6_3_conv[0][0]']    \n",
      "                                                                                                  \n",
      " conv5_block1_preact_bn (BatchN  (None, 4, 4, 1024)  4096        ['conv4_block6_out[0][0]']       \n",
      " ormalization)                                                                                    \n",
      "                                                                                                  \n",
      " conv5_block1_preact_relu (Acti  (None, 4, 4, 1024)  0           ['conv5_block1_preact_bn[0][0]'] \n",
      " vation)                                                                                          \n",
      "                                                                                                  \n",
      " conv5_block1_1_conv (Conv2D)   (None, 4, 4, 512)    524288      ['conv5_block1_preact_relu[0][0]'\n",
      "                                                                 ]                                \n",
      "                                                                                                  \n",
      " conv5_block1_1_bn (BatchNormal  (None, 4, 4, 512)   2048        ['conv5_block1_1_conv[0][0]']    \n",
      " ization)                                                                                         \n",
      "                                                                                                  \n",
      " conv5_block1_1_relu (Activatio  (None, 4, 4, 512)   0           ['conv5_block1_1_bn[0][0]']      \n",
      " n)                                                                                               \n",
      "                                                                                                  \n",
      " conv5_block1_2_pad (ZeroPaddin  (None, 6, 6, 512)   0           ['conv5_block1_1_relu[0][0]']    \n",
      " g2D)                                                                                             \n",
      "                                                                                                  \n",
      " conv5_block1_2_conv (Conv2D)   (None, 4, 4, 512)    2359296     ['conv5_block1_2_pad[0][0]']     \n",
      "                                                                                                  \n",
      " conv5_block1_2_bn (BatchNormal  (None, 4, 4, 512)   2048        ['conv5_block1_2_conv[0][0]']    \n",
      " ization)                                                                                         \n",
      "                                                                                                  \n",
      " conv5_block1_2_relu (Activatio  (None, 4, 4, 512)   0           ['conv5_block1_2_bn[0][0]']      \n",
      " n)                                                                                               \n",
      "                                                                                                  \n",
      " conv5_block1_0_conv (Conv2D)   (None, 4, 4, 2048)   2099200     ['conv5_block1_preact_relu[0][0]'\n",
      "                                                                 ]                                \n",
      "                                                                                                  \n",
      " conv5_block1_3_conv (Conv2D)   (None, 4, 4, 2048)   1050624     ['conv5_block1_2_relu[0][0]']    \n",
      "                                                                                                  \n",
      " conv5_block1_out (Add)         (None, 4, 4, 2048)   0           ['conv5_block1_0_conv[0][0]',    \n",
      "                                                                  'conv5_block1_3_conv[0][0]']    \n",
      "                                                                                                  \n",
      " conv5_block2_preact_bn (BatchN  (None, 4, 4, 2048)  8192        ['conv5_block1_out[0][0]']       \n",
      " ormalization)                                                                                    \n",
      "                                                                                                  \n",
      " conv5_block2_preact_relu (Acti  (None, 4, 4, 2048)  0           ['conv5_block2_preact_bn[0][0]'] \n",
      " vation)                                                                                          \n",
      "                                                                                                  \n",
      " conv5_block2_1_conv (Conv2D)   (None, 4, 4, 512)    1048576     ['conv5_block2_preact_relu[0][0]'\n",
      "                                                                 ]                                \n",
      "                                                                                                  \n",
      " conv5_block2_1_bn (BatchNormal  (None, 4, 4, 512)   2048        ['conv5_block2_1_conv[0][0]']    \n",
      " ization)                                                                                         \n",
      "                                                                                                  \n",
      " conv5_block2_1_relu (Activatio  (None, 4, 4, 512)   0           ['conv5_block2_1_bn[0][0]']      \n",
      " n)                                                                                               \n",
      "                                                                                                  \n",
      " conv5_block2_2_pad (ZeroPaddin  (None, 6, 6, 512)   0           ['conv5_block2_1_relu[0][0]']    \n",
      " g2D)                                                                                             \n",
      "                                                                                                  \n",
      " conv5_block2_2_conv (Conv2D)   (None, 4, 4, 512)    2359296     ['conv5_block2_2_pad[0][0]']     \n",
      "                                                                                                  \n",
      " conv5_block2_2_bn (BatchNormal  (None, 4, 4, 512)   2048        ['conv5_block2_2_conv[0][0]']    \n",
      " ization)                                                                                         \n",
      "                                                                                                  \n",
      " conv5_block2_2_relu (Activatio  (None, 4, 4, 512)   0           ['conv5_block2_2_bn[0][0]']      \n",
      " n)                                                                                               \n",
      "                                                                                                  \n",
      " conv5_block2_3_conv (Conv2D)   (None, 4, 4, 2048)   1050624     ['conv5_block2_2_relu[0][0]']    \n",
      "                                                                                                  \n",
      " conv5_block2_out (Add)         (None, 4, 4, 2048)   0           ['conv5_block1_out[0][0]',       \n",
      "                                                                  'conv5_block2_3_conv[0][0]']    \n",
      "                                                                                                  \n",
      " conv5_block3_preact_bn (BatchN  (None, 4, 4, 2048)  8192        ['conv5_block2_out[0][0]']       \n"
     ]
    },
    {
     "name": "stdout",
     "output_type": "stream",
     "text": [
      " ormalization)                                                                                    \n",
      "                                                                                                  \n",
      " conv5_block3_preact_relu (Acti  (None, 4, 4, 2048)  0           ['conv5_block3_preact_bn[0][0]'] \n",
      " vation)                                                                                          \n",
      "                                                                                                  \n",
      " conv5_block3_1_conv (Conv2D)   (None, 4, 4, 512)    1048576     ['conv5_block3_preact_relu[0][0]'\n",
      "                                                                 ]                                \n",
      "                                                                                                  \n",
      " conv5_block3_1_bn (BatchNormal  (None, 4, 4, 512)   2048        ['conv5_block3_1_conv[0][0]']    \n",
      " ization)                                                                                         \n",
      "                                                                                                  \n",
      " conv5_block3_1_relu (Activatio  (None, 4, 4, 512)   0           ['conv5_block3_1_bn[0][0]']      \n",
      " n)                                                                                               \n",
      "                                                                                                  \n",
      " conv5_block3_2_pad (ZeroPaddin  (None, 6, 6, 512)   0           ['conv5_block3_1_relu[0][0]']    \n",
      " g2D)                                                                                             \n",
      "                                                                                                  \n",
      " conv5_block3_2_conv (Conv2D)   (None, 4, 4, 512)    2359296     ['conv5_block3_2_pad[0][0]']     \n",
      "                                                                                                  \n",
      " conv5_block3_2_bn (BatchNormal  (None, 4, 4, 512)   2048        ['conv5_block3_2_conv[0][0]']    \n",
      " ization)                                                                                         \n",
      "                                                                                                  \n",
      " conv5_block3_2_relu (Activatio  (None, 4, 4, 512)   0           ['conv5_block3_2_bn[0][0]']      \n",
      " n)                                                                                               \n",
      "                                                                                                  \n",
      " conv5_block3_3_conv (Conv2D)   (None, 4, 4, 2048)   1050624     ['conv5_block3_2_relu[0][0]']    \n",
      "                                                                                                  \n",
      " conv5_block3_out (Add)         (None, 4, 4, 2048)   0           ['conv5_block2_out[0][0]',       \n",
      "                                                                  'conv5_block3_3_conv[0][0]']    \n",
      "                                                                                                  \n",
      " post_bn (BatchNormalization)   (None, 4, 4, 2048)   8192        ['conv5_block3_out[0][0]']       \n",
      "                                                                                                  \n",
      " post_relu (Activation)         (None, 4, 4, 2048)   0           ['post_bn[0][0]']                \n",
      "                                                                                                  \n",
      "==================================================================================================\n",
      "Total params: 23,564,800\n",
      "Trainable params: 23,519,360\n",
      "Non-trainable params: 45,440\n",
      "__________________________________________________________________________________________________\n"
     ]
    }
   ],
   "source": [
    "model.summary()"
   ]
  },
  {
   "cell_type": "code",
   "execution_count": 84,
   "metadata": {},
   "outputs": [],
   "source": [
    "def getLayerIndexByName(model, layername):\n",
    "    for idx, layer in enumerate(model.layers):\n",
    "        if layer.name == layername:\n",
    "            return idx"
   ]
  },
  {
   "cell_type": "code",
   "execution_count": 85,
   "metadata": {},
   "outputs": [],
   "source": [
    "#print(getLayerIndexByName(new_model, 'flatten_1')) #just used to get the index of flatten layer"
   ]
  },
  {
   "cell_type": "code",
   "execution_count": 86,
   "metadata": {},
   "outputs": [
    {
     "name": "stdout",
     "output_type": "stream",
     "text": [
      "WARNING:tensorflow:Compiled the loaded model, but the compiled metrics have yet to be built. `model.compile_metrics` will be empty until you train or evaluate the model.\n"
     ]
    },
    {
     "name": "stderr",
     "output_type": "stream",
     "text": [
      "WARNING:absl:Found untraced functions such as _jit_compiled_convolution_op, _jit_compiled_convolution_op, _jit_compiled_convolution_op, _jit_compiled_convolution_op, _jit_compiled_convolution_op while saving (showing 5 of 53). These functions will not be directly callable after loading.\n"
     ]
    },
    {
     "name": "stdout",
     "output_type": "stream",
     "text": [
      "INFO:tensorflow:Assets written to: displasys_resnet50v2-baseline-holdout-100epochs_dataAugmenting_l2_dropout.npy\\assets\n"
     ]
    },
    {
     "name": "stderr",
     "output_type": "stream",
     "text": [
      "INFO:tensorflow:Assets written to: displasys_resnet50v2-baseline-holdout-100epochs_dataAugmenting_l2_dropout.npy\\assets\n"
     ]
    }
   ],
   "source": [
    "model_name = f'displasys_resnet50v2-baseline-holdout-{epochs}epochs_dataAugmenting_l2_dropout.npy'\n",
    "model.save(model_name)"
   ]
  },
  {
   "cell_type": "markdown",
   "metadata": {},
   "source": [
    "# **Random Forest - flatting**"
   ]
  },
  {
   "cell_type": "code",
   "execution_count": 87,
   "metadata": {},
   "outputs": [
    {
     "name": "stdout",
     "output_type": "stream",
     "text": [
      "60/60 [==============================] - 6s 86ms/step\n"
     ]
    }
   ],
   "source": [
    "new_model_rf = keras.Model(inputs=new_model.input, outputs=new_model.get_layer(index=9).output)\n",
    "featureVector = new_model_rf.predict(train_x)"
   ]
  },
  {
   "cell_type": "code",
   "execution_count": 88,
   "metadata": {},
   "outputs": [
    {
     "name": "stdout",
     "output_type": "stream",
     "text": [
      "8/8 [==============================] - 1s 178ms/step\n"
     ]
    }
   ],
   "source": [
    "featureVector2 = new_model_rf.predict(test_x)"
   ]
  },
  {
   "cell_type": "code",
   "execution_count": 89,
   "metadata": {},
   "outputs": [
    {
     "name": "stdout",
     "output_type": "stream",
     "text": [
      "(1894, 64)\n"
     ]
    }
   ],
   "source": [
    "print(featureVector.shape)"
   ]
  },
  {
   "cell_type": "code",
   "execution_count": 90,
   "metadata": {},
   "outputs": [],
   "source": [
    "from sklearn.ensemble import RandomForestClassifier"
   ]
  },
  {
   "cell_type": "code",
   "execution_count": 91,
   "metadata": {},
   "outputs": [
    {
     "data": {
      "text/html": [
       "<style>#sk-container-id-1 {color: black;}#sk-container-id-1 pre{padding: 0;}#sk-container-id-1 div.sk-toggleable {background-color: white;}#sk-container-id-1 label.sk-toggleable__label {cursor: pointer;display: block;width: 100%;margin-bottom: 0;padding: 0.3em;box-sizing: border-box;text-align: center;}#sk-container-id-1 label.sk-toggleable__label-arrow:before {content: \"▸\";float: left;margin-right: 0.25em;color: #696969;}#sk-container-id-1 label.sk-toggleable__label-arrow:hover:before {color: black;}#sk-container-id-1 div.sk-estimator:hover label.sk-toggleable__label-arrow:before {color: black;}#sk-container-id-1 div.sk-toggleable__content {max-height: 0;max-width: 0;overflow: hidden;text-align: left;background-color: #f0f8ff;}#sk-container-id-1 div.sk-toggleable__content pre {margin: 0.2em;color: black;border-radius: 0.25em;background-color: #f0f8ff;}#sk-container-id-1 input.sk-toggleable__control:checked~div.sk-toggleable__content {max-height: 200px;max-width: 100%;overflow: auto;}#sk-container-id-1 input.sk-toggleable__control:checked~label.sk-toggleable__label-arrow:before {content: \"▾\";}#sk-container-id-1 div.sk-estimator input.sk-toggleable__control:checked~label.sk-toggleable__label {background-color: #d4ebff;}#sk-container-id-1 div.sk-label input.sk-toggleable__control:checked~label.sk-toggleable__label {background-color: #d4ebff;}#sk-container-id-1 input.sk-hidden--visually {border: 0;clip: rect(1px 1px 1px 1px);clip: rect(1px, 1px, 1px, 1px);height: 1px;margin: -1px;overflow: hidden;padding: 0;position: absolute;width: 1px;}#sk-container-id-1 div.sk-estimator {font-family: monospace;background-color: #f0f8ff;border: 1px dotted black;border-radius: 0.25em;box-sizing: border-box;margin-bottom: 0.5em;}#sk-container-id-1 div.sk-estimator:hover {background-color: #d4ebff;}#sk-container-id-1 div.sk-parallel-item::after {content: \"\";width: 100%;border-bottom: 1px solid gray;flex-grow: 1;}#sk-container-id-1 div.sk-label:hover label.sk-toggleable__label {background-color: #d4ebff;}#sk-container-id-1 div.sk-serial::before {content: \"\";position: absolute;border-left: 1px solid gray;box-sizing: border-box;top: 0;bottom: 0;left: 50%;z-index: 0;}#sk-container-id-1 div.sk-serial {display: flex;flex-direction: column;align-items: center;background-color: white;padding-right: 0.2em;padding-left: 0.2em;position: relative;}#sk-container-id-1 div.sk-item {position: relative;z-index: 1;}#sk-container-id-1 div.sk-parallel {display: flex;align-items: stretch;justify-content: center;background-color: white;position: relative;}#sk-container-id-1 div.sk-item::before, #sk-container-id-1 div.sk-parallel-item::before {content: \"\";position: absolute;border-left: 1px solid gray;box-sizing: border-box;top: 0;bottom: 0;left: 50%;z-index: -1;}#sk-container-id-1 div.sk-parallel-item {display: flex;flex-direction: column;z-index: 1;position: relative;background-color: white;}#sk-container-id-1 div.sk-parallel-item:first-child::after {align-self: flex-end;width: 50%;}#sk-container-id-1 div.sk-parallel-item:last-child::after {align-self: flex-start;width: 50%;}#sk-container-id-1 div.sk-parallel-item:only-child::after {width: 0;}#sk-container-id-1 div.sk-dashed-wrapped {border: 1px dashed gray;margin: 0 0.4em 0.5em 0.4em;box-sizing: border-box;padding-bottom: 0.4em;background-color: white;}#sk-container-id-1 div.sk-label label {font-family: monospace;font-weight: bold;display: inline-block;line-height: 1.2em;}#sk-container-id-1 div.sk-label-container {text-align: center;}#sk-container-id-1 div.sk-container {/* jupyter's `normalize.less` sets `[hidden] { display: none; }` but bootstrap.min.css set `[hidden] { display: none !important; }` so we also need the `!important` here to be able to override the default hidden behavior on the sphinx rendered scikit-learn.org. See: https://github.com/scikit-learn/scikit-learn/issues/21755 */display: inline-block !important;position: relative;}#sk-container-id-1 div.sk-text-repr-fallback {display: none;}</style><div id=\"sk-container-id-1\" class=\"sk-top-container\"><div class=\"sk-text-repr-fallback\"><pre>RandomForestClassifier()</pre><b>In a Jupyter environment, please rerun this cell to show the HTML representation or trust the notebook. <br />On GitHub, the HTML representation is unable to render, please try loading this page with nbviewer.org.</b></div><div class=\"sk-container\" hidden><div class=\"sk-item\"><div class=\"sk-estimator sk-toggleable\"><input class=\"sk-toggleable__control sk-hidden--visually\" id=\"sk-estimator-id-1\" type=\"checkbox\" checked><label for=\"sk-estimator-id-1\" class=\"sk-toggleable__label sk-toggleable__label-arrow\">RandomForestClassifier</label><div class=\"sk-toggleable__content\"><pre>RandomForestClassifier()</pre></div></div></div></div></div>"
      ],
      "text/plain": [
       "RandomForestClassifier()"
      ]
     },
     "execution_count": 91,
     "metadata": {},
     "output_type": "execute_result"
    }
   ],
   "source": [
    "clf=RandomForestClassifier(n_estimators=100)\n",
    "\n",
    "clf.fit(featureVector,train_y)\n",
    "\n"
   ]
  },
  {
   "cell_type": "code",
   "execution_count": 92,
   "metadata": {},
   "outputs": [
    {
     "data": {
      "text/plain": [
       "(236, 128, 128, 3)"
      ]
     },
     "execution_count": 92,
     "metadata": {},
     "output_type": "execute_result"
    }
   ],
   "source": [
    "test_x.shape"
   ]
  },
  {
   "cell_type": "code",
   "execution_count": 93,
   "metadata": {},
   "outputs": [],
   "source": [
    "y_pred=clf.predict(featureVector2)"
   ]
  },
  {
   "cell_type": "code",
   "execution_count": 94,
   "metadata": {},
   "outputs": [
    {
     "data": {
      "text/plain": [
       "(1894, 64)"
      ]
     },
     "execution_count": 94,
     "metadata": {},
     "output_type": "execute_result"
    }
   ],
   "source": [
    "featureVector.shape"
   ]
  },
  {
   "cell_type": "code",
   "execution_count": 95,
   "metadata": {},
   "outputs": [
    {
     "name": "stdout",
     "output_type": "stream",
     "text": [
      "Accuracy: 0.9533898305084746\n"
     ]
    }
   ],
   "source": [
    "from sklearn import metrics\n",
    "print(\"Accuracy:\",metrics.accuracy_score(test_y, y_pred))"
   ]
  },
  {
   "cell_type": "code",
   "execution_count": 96,
   "metadata": {},
   "outputs": [],
   "source": [
    "from sklearn.tree import DecisionTreeClassifier"
   ]
  },
  {
   "cell_type": "code",
   "execution_count": 97,
   "metadata": {},
   "outputs": [],
   "source": [
    "clf = DecisionTreeClassifier(random_state=0)"
   ]
  },
  {
   "cell_type": "markdown",
   "metadata": {
    "id": "v2tUu9UW4S_S"
   },
   "source": [
    "# **Testes**"
   ]
  },
  {
   "cell_type": "code",
   "execution_count": 98,
   "metadata": {
    "id": "-02BWWgF4V9h"
   },
   "outputs": [
    {
     "data": {
      "image/png": "[encoded data removed]",
      "text/plain": [
       "<Figure size 640x480 with 1 Axes>"
      ]
     },
     "metadata": {},
     "output_type": "display_data"
    },
    {
     "data": {
      "image/png": "[encoded data removed]",
      "text/plain": [
       "<Figure size 640x480 with 1 Axes>"
      ]
     },
     "metadata": {},
     "output_type": "display_data"
    }
   ],
   "source": [
    "import matplotlib.pyplot as plt\n",
    "\n",
    "accuracy = model_trained.history['acc']\n",
    "val_accuracy = model_trained.history['val_acc']\n",
    "loss = model_trained.history['loss']\n",
    "val_loss = model_trained.history['val_loss']\n",
    "epochs = range(len(accuracy))\n",
    "plt.plot(epochs, accuracy, 'b', label='Acurácia de treino')\n",
    "plt.plot(epochs, val_accuracy, 'g', label='Acurácia de validação')\n",
    "plt.title('Acurácia de treino e validação')\n",
    "plt.legend()\n",
    "plt.figure()\n",
    "plt.plot(epochs, loss, 'b', label='Perda no treino')\n",
    "plt.plot(epochs, val_loss, 'g', label='Perda na validação')\n",
    "plt.title('Perda na validação e treino')\n",
    "plt.legend()\n",
    "plt.show()"
   ]
  },
  {
   "cell_type": "code",
   "execution_count": 99,
   "metadata": {
    "id": "On7_hNmrOysp"
   },
   "outputs": [
    {
     "name": "stdout",
     "output_type": "stream",
     "text": [
      "8/8 [==============================] - 1s 87ms/step - loss: 0.2783 - acc: 0.9576\n",
      "Test loss: 0.27834054827690125\n",
      "Test accuracy: 0.9576271176338196\n"
     ]
    }
   ],
   "source": [
    "#avalia a fase de teste\n",
    "\n",
    "model_loss, model_accuracy = new_model.evaluate(test_x, test_y, verbose=1)\n",
    "\n",
    "#mostra o resultado\n",
    "print('Test loss:', model_loss)\n",
    "print('Test accuracy:', model_accuracy)"
   ]
  },
  {
   "cell_type": "code",
   "execution_count": 100,
   "metadata": {
    "id": "uGYRlhnq8wsF"
   },
   "outputs": [],
   "source": [
    "#faz a predição das imagens\n",
    "\n",
    "from tensorflow.keras.utils import to_categorical\n",
    "\n",
    "pred = new_model.predict(test_x, verbose=0)\n",
    "\n",
    "pred_probs = np.argmax(pred,axis=1)"
   ]
  },
  {
   "cell_type": "code",
   "execution_count": 101,
   "metadata": {
    "id": "Vt4jZ2jB8ygE"
   },
   "outputs": [],
   "source": [
    "from sklearn.metrics import confusion_matrix\n",
    "from sklearn.metrics import classification_report\n",
    "from sklearn.metrics import accuracy_score\n",
    "from sklearn.metrics import f1_score"
   ]
  },
  {
   "cell_type": "code",
   "execution_count": 102,
   "metadata": {
    "id": "9gx5yvuU84UC"
   },
   "outputs": [],
   "source": [
    "cm = confusion_matrix(test_y, pred_probs)"
   ]
  },
  {
   "cell_type": "code",
   "execution_count": 103,
   "metadata": {
    "id": "NUrE8yfU86OL"
   },
   "outputs": [
    {
     "name": "stdout",
     "output_type": "stream",
     "text": [
      "F1 Score: 0.9575908247265317\n",
      "Sensitivity: [0.98648649 0.94117647 0.9245283  0.96551724]\n",
      "Specificity: [0.98765432 0.99459459 0.97814208 0.98314607]\n",
      "Precision:   [0.97333333 0.97959184 0.9245283  0.94915254]\n",
      "Accuracy:    [0.98728814 0.98305085 0.96610169 0.97881356]\n"
     ]
    }
   ],
   "source": [
    "#gera os valores de falso positivo, falso negativo, verdadeiro positivo e verdadeiro negativo\n",
    "fp = cm.sum(axis=0) - np.diag(cm)  \n",
    "fn = cm.sum(axis=1) - np.diag(cm)\n",
    "tp = np.diag(cm)\n",
    "tn = cm.sum() - (fp + fn + tp)\n",
    "\n",
    "f1score = f1_score(test_y, pred_probs, average='weighted')\n",
    "sensitivity = tp / (tp + fn)\n",
    "specificity = tn / (tn + fp)\n",
    "accuracy    = (tp + tn) / (tp + tn + fp + fn)\n",
    "precision   = tp / (tp + fp)\n",
    "\n",
    "\n",
    "print(\"F1 Score:\", f1score)\n",
    "print(\"Sensitivity:\", sensitivity)\n",
    "print(\"Specificity:\", specificity)\n",
    "print(\"Precision:  \", precision)\n",
    "print(\"Accuracy:   \", accuracy)"
   ]
  },
  {
   "cell_type": "code",
   "execution_count": null,
   "metadata": {},
   "outputs": [],
   "source": []
  },
  {
   "cell_type": "code",
   "execution_count": null,
   "metadata": {},
   "outputs": [],
   "source": []
  }
 ],
 "metadata": {
  "colab": {
   "collapsed_sections": [],
   "name": "covid_alex_holdout_cropping_tgo.ipynb",
   "provenance": []
  },
  "kernelspec": {
   "display_name": "Python 3 (ipykernel)",
   "language": "python",
   "name": "python3"
  },
  "language_info": {
   "codemirror_mode": {
    "name": "ipython",
    "version": 3
   },
   "file_extension": ".py",
   "mimetype": "text/x-python",
   "name": "python",
   "nbconvert_exporter": "python",
   "pygments_lexer": "ipython3",
   "version": "3.9.17"
  }
 },
 "nbformat": 4,
 "nbformat_minor": 1
}
