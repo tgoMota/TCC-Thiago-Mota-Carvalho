{
 "cells": [
  {
   "cell_type": "code",
   "execution_count": 66,
   "id": "69900df3",
   "metadata": {},
   "outputs": [],
   "source": [
    "import tensorflow as tf\n",
    "from tensorflow import keras\n",
    "import matplotlib.pyplot as plt\n",
    "import os\n",
    "import time\n",
    "from sklearn import datasets\n",
    "from sklearn.ensemble import VotingClassifier\n",
    "from sklearn.model_selection import cross_val_score\n",
    "from keras.datasets import cifar10\n",
    "from keras.utils import to_categorical\n",
    "import numpy as np"
   ]
  },
  {
   "cell_type": "code",
   "execution_count": 67,
   "id": "7f1d7bd2",
   "metadata": {},
   "outputs": [],
   "source": [
    "# load train and test dataset\n",
    "def load_dataset():\n",
    "    # load dataset\n",
    "    data_x = np.load('data_x_original.npy')\n",
    "    data_y = np.load('data_y_original.npy')\n",
    "    #percentage of the dataset which will be on TRAIN - TEST - VALIDATION\n",
    "    TOTAL_IMAGES = len(data_y)\n",
    "    print(\"TOTAL_IMAGES = \", TOTAL_IMAGES)\n",
    "    \n",
    "    TRAIN_PERCENTAGE = 0.8\n",
    "    TEST_PERCENTAGE = 0.1\n",
    "    VALIDATION_PERCENTAGE = 0.1\n",
    "\n",
    "    train_size = int(TRAIN_PERCENTAGE * TOTAL_IMAGES)\n",
    "    test_size = int(TEST_PERCENTAGE * TOTAL_IMAGES)\n",
    "    validation_size = int(VALIDATION_PERCENTAGE * TOTAL_IMAGES)\n",
    "\n",
    "    train_x = data_x[:train_size] #taking train images from original data\n",
    "    train_y = data_y[:train_size]\n",
    "    data_x = data_x[train_size:] #removing train images from original data\n",
    "    data_y = data_y[train_size:]\n",
    "\n",
    "    test_x = data_x[:test_size] #taking test images from original data\n",
    "    test_y = data_y[:test_size]\n",
    "    data_x = data_x[test_size:] #removing test images from original data\n",
    "    data_y = data_y[test_size:]\n",
    "\n",
    "    validation_x = data_x #all the remainder images we can put on validation\n",
    "    validation_y = data_y\n",
    "\n",
    "    del data_x #free some unused memory\n",
    "    del data_y\n",
    "\n",
    "    print(\"train_size = \", len(train_y))\n",
    "    print(\"test_size = \", len(test_y))\n",
    "    print(\"validation_size = \", len(validation_y))\n",
    " # one hot encode target values\n",
    "    train_y = to_categorical(train_y)\n",
    "    test_y = to_categorical(test_y)\n",
    "    validation_y = to_categorical(validation_y)\n",
    "    return train_x, train_y, test_x, test_y, validation_x, validation_y"
   ]
  },
  {
   "cell_type": "code",
   "execution_count": 68,
   "id": "05b5ce4f",
   "metadata": {},
   "outputs": [],
   "source": [
    "# scale pixels\n",
    "def prep_pixels(train, test, validation):\n",
    "    # convert from integers to floats\n",
    "    train_norm = train.astype('float32')\n",
    "    test_norm = test.astype('float32')\n",
    "    validation_norm = validation.astype('float32')\n",
    "    # normalize to range 0-1\n",
    "    train_norm = train_norm / 255.0\n",
    "    test_norm = test_norm / 255.0\n",
    "    validation_norm = validation_norm / 255.0\n",
    "    # return normalized images\n",
    "    return train_norm, test_norm, validation_norm"
   ]
  },
  {
   "cell_type": "code",
   "execution_count": 69,
   "id": "94db3098",
   "metadata": {},
   "outputs": [
    {
     "name": "stdout",
     "output_type": "stream",
     "text": [
      "TOTAL_IMAGES =  592\n",
      "train_size =  473\n",
      "test_size =  59\n",
      "validation_size =  60\n"
     ]
    }
   ],
   "source": [
    "trainX, trainY, testX, testY, validationX, validationY = load_dataset()\n",
    "trainX, testX, validationX = prep_pixels(trainX, testX, validationX)"
   ]
  },
  {
   "cell_type": "code",
   "execution_count": 70,
   "id": "ff320318",
   "metadata": {},
   "outputs": [
    {
     "data": {
      "text/plain": [
       "array([[[0.50980395, 0.47058824, 0.6039216 ],\n",
       "        [0.5921569 , 0.5882353 , 0.6509804 ],\n",
       "        [0.7294118 , 0.70980394, 0.7490196 ],\n",
       "        ...,\n",
       "        [0.6862745 , 0.6313726 , 0.7254902 ],\n",
       "        [0.56078434, 0.49803922, 0.6509804 ],\n",
       "        [0.48235294, 0.42352942, 0.59607846]],\n",
       "\n",
       "       [[0.65882355, 0.6431373 , 0.70980394],\n",
       "        [0.73333335, 0.7490196 , 0.7529412 ],\n",
       "        [0.8235294 , 0.827451  , 0.81960785],\n",
       "        ...,\n",
       "        [0.57254905, 0.5294118 , 0.6392157 ],\n",
       "        [0.48235294, 0.42745098, 0.57254905],\n",
       "        [0.45490196, 0.38039216, 0.5647059 ]],\n",
       "\n",
       "       [[0.8352941 , 0.8       , 0.8235294 ],\n",
       "        [0.8627451 , 0.85882354, 0.84705883],\n",
       "        [0.87058824, 0.8627451 , 0.8509804 ],\n",
       "        ...,\n",
       "        [0.5058824 , 0.45490196, 0.60784316],\n",
       "        [0.49411765, 0.41960785, 0.6       ],\n",
       "        [0.48235294, 0.40392157, 0.6       ]],\n",
       "\n",
       "       ...,\n",
       "\n",
       "       [[0.7058824 , 0.67058825, 0.73333335],\n",
       "        [0.79607844, 0.7647059 , 0.78039217],\n",
       "        [0.83137256, 0.8156863 , 0.80784315],\n",
       "        ...,\n",
       "        [0.8039216 , 0.7764706 , 0.7882353 ],\n",
       "        [0.8156863 , 0.78431374, 0.80784315],\n",
       "        [0.77254903, 0.74509805, 0.7607843 ]],\n",
       "\n",
       "       [[0.72156864, 0.6666667 , 0.7294118 ],\n",
       "        [0.8039216 , 0.77254903, 0.80784315],\n",
       "        [0.85490197, 0.8235294 , 0.83137256],\n",
       "        ...,\n",
       "        [0.8352941 , 0.7882353 , 0.81960785],\n",
       "        [0.827451  , 0.7921569 , 0.8156863 ],\n",
       "        [0.7607843 , 0.72156864, 0.7607843 ]],\n",
       "\n",
       "       [[0.69411767, 0.6431373 , 0.70980394],\n",
       "        [0.8039216 , 0.76862746, 0.8       ],\n",
       "        [0.8392157 , 0.8117647 , 0.8352941 ],\n",
       "        ...,\n",
       "        [0.7882353 , 0.7607843 , 0.8       ],\n",
       "        [0.7882353 , 0.7411765 , 0.79607844],\n",
       "        [0.6862745 , 0.63529414, 0.7137255 ]]], dtype=float32)"
      ]
     },
     "execution_count": 70,
     "metadata": {},
     "output_type": "execute_result"
    }
   ],
   "source": [
    "trainX[0]"
   ]
  },
  {
   "cell_type": "code",
   "execution_count": 71,
   "id": "b8b4b6e7",
   "metadata": {},
   "outputs": [
    {
     "name": "stdout",
     "output_type": "stream",
     "text": [
      "WARNING:tensorflow:No training configuration found in save file, so the model was *not* compiled. Compile it manually.\n"
     ]
    }
   ],
   "source": [
    "clf1 = tf.keras.models.load_model(\"displasys_mobilenet-baseline-holdout-100epochs_dataAugmenting_l2_dropout.npy\")"
   ]
  },
  {
   "cell_type": "code",
   "execution_count": 72,
   "id": "d8214f1f",
   "metadata": {},
   "outputs": [
    {
     "name": "stdout",
     "output_type": "stream",
     "text": [
      "<class 'keras.engine.functional.Functional'>\n"
     ]
    }
   ],
   "source": [
    "print(type(clf1))"
   ]
  },
  {
   "cell_type": "code",
   "execution_count": 73,
   "id": "bd2e7738",
   "metadata": {},
   "outputs": [
    {
     "name": "stdout",
     "output_type": "stream",
     "text": [
      "WARNING:tensorflow:No training configuration found in save file, so the model was *not* compiled. Compile it manually.\n"
     ]
    }
   ],
   "source": [
    "clf2 = tf.keras.models.load_model(\"displasys_resnet50v2-baseline-holdout-100epochs_dataAugmenting_l2_dropout.npy\")"
   ]
  },
  {
   "cell_type": "code",
   "execution_count": 74,
   "id": "09dd30b0",
   "metadata": {},
   "outputs": [],
   "source": [
    "#clf3 = tf.keras.models.load_model(\"resnet50-baseline-holdout-100epochs_normalized.npy\")"
   ]
  },
  {
   "cell_type": "code",
   "execution_count": 75,
   "id": "6b1b16be",
   "metadata": {},
   "outputs": [],
   "source": [
    "class emsembleModel:\n",
    "    def __init__(self, classifiers, numClasses):\n",
    "        self.classifiers = classifiers\n",
    "        self.numClasses = numClasses\n",
    "        \n",
    "    def predict_by_voting(self, dataX):\n",
    "        preds = []\n",
    "        for clf in self.classifiers:\n",
    "            preds.append(clf.predict(dataX))\n",
    "        \n",
    "        resultPred = []\n",
    "        M = len(self.classifiers)\n",
    "        for i in range(len(dataX)):\n",
    "            counting = [0 for _ in range(self.numClasses)]\n",
    "            current_best_pred = preds[0][i]\n",
    "            for j in range(M):\n",
    "                pred = preds[j][i]\n",
    "                predictedClass = np.argmax(pred)\n",
    "                counting[predictedClass]+=1\n",
    "                if counting[predictedClass] == max(counting):\n",
    "                    current_best_pred = pred\n",
    "            resultPred.append(current_best_pred)\n",
    "        \n",
    "        return resultPred\n",
    "    \n",
    "    def evaluate_by_voting(self, dataX, dataY):\n",
    "        pred = self.predict_by_voting(dataX)\n",
    "        ok = 0\n",
    "        for i in range(len(pred)):\n",
    "            expectedClass = np.argmax(dataY[i])\n",
    "            predictedClass = np.argmax(pred[i])\n",
    "            if predictedClass == expectedClass:\n",
    "                ok += 1\n",
    "        return ok/len(dataY)\n",
    "\n",
    "    def predict_by_softmax(self, dataX):\n",
    "        preds = []\n",
    "        for clf in self.classifiers:\n",
    "            preds.append(clf.predict(dataX))\n",
    "        print(preds[0].shape, preds[1].shape)\n",
    "        resultsPred = []\n",
    "        M = len(self.classifiers)\n",
    "        for i in range(len(dataX)):\n",
    "            probs = []\n",
    "            for j in range(M):\n",
    "                pred = preds[j][i]\n",
    "                probs.append(pred)\n",
    "            compressed_probs = np.array(probs).sum(axis=0)\n",
    "            compressed_probs = compressed_probs/M\n",
    "            resultsPred.append(compressed_probs)\n",
    "        \n",
    "        return resultsPred\n",
    "    \n",
    "    def evaluate_by_softmax(self, dataX, dataY):\n",
    "        pred = self.predict_by_softmax(dataX)\n",
    "        ok = 0\n",
    "        for i in range(len(pred)):\n",
    "            expectedClass =  np.argmax(dataY[i])\n",
    "            predictedClass = np.argmax(pred[i])\n",
    "            #print(\"predictedClass = \", predictedClass)\n",
    "            #print(\"expectedClass = \", expectedClass)\n",
    "            if predictedClass == expectedClass:\n",
    "                ok += 1\n",
    "        return ok/len(dataY)\n",
    "    "
   ]
  },
  {
   "cell_type": "code",
   "execution_count": 76,
   "id": "f864e530",
   "metadata": {},
   "outputs": [],
   "source": [
    "# classifiers = [clf1, clf2, clf3]\n",
    "# classifiers = [clf1, clf2]\n",
    "classifiers = [clf2, clf3]"
   ]
  },
  {
   "cell_type": "code",
   "execution_count": 77,
   "id": "28375413",
   "metadata": {},
   "outputs": [],
   "source": [
    "emsemble = emsembleModel(classifiers, 4)"
   ]
  },
  {
   "cell_type": "code",
   "execution_count": 78,
   "id": "99a4517b",
   "metadata": {},
   "outputs": [
    {
     "name": "stdout",
     "output_type": "stream",
     "text": [
      "2/2 [==============================] - 2s 83ms/step\n",
      "2/2 [==============================] - 0s 87ms/step\n",
      "(59, 4, 4, 2048) (59, 4, 4, 2048)\n"
     ]
    }
   ],
   "source": [
    "acc = emsemble.evaluate_by_softmax(testX, testY)"
   ]
  },
  {
   "cell_type": "code",
   "execution_count": 79,
   "id": "b7e2a8ba",
   "metadata": {
    "scrolled": true
   },
   "outputs": [
    {
     "name": "stdout",
     "output_type": "stream",
     "text": [
      "Accuracy Emsemble using Softmax: 0.000\n"
     ]
    }
   ],
   "source": [
    "print('Accuracy Emsemble using Softmax: %.3f' % (acc * 100.0))"
   ]
  },
  {
   "cell_type": "code",
   "execution_count": 80,
   "id": "48ae2aca",
   "metadata": {},
   "outputs": [
    {
     "name": "stdout",
     "output_type": "stream",
     "text": [
      "2/2 [==============================] - 0s 83ms/step\n",
      "2/2 [==============================] - 0s 85ms/step\n"
     ]
    },
    {
     "ename": "IndexError",
     "evalue": "list index out of range",
     "output_type": "error",
     "traceback": [
      "\u001b[1;31m---------------------------------------------------------------------------\u001b[0m",
      "\u001b[1;31mIndexError\u001b[0m                                Traceback (most recent call last)",
      "Cell \u001b[1;32mIn[80], line 1\u001b[0m\n\u001b[1;32m----> 1\u001b[0m acc \u001b[38;5;241m=\u001b[39m \u001b[43memsemble\u001b[49m\u001b[38;5;241;43m.\u001b[39;49m\u001b[43mevaluate_by_voting\u001b[49m\u001b[43m(\u001b[49m\u001b[43mtestX\u001b[49m\u001b[43m,\u001b[49m\u001b[43m \u001b[49m\u001b[43mtestY\u001b[49m\u001b[43m)\u001b[49m\n",
      "Cell \u001b[1;32mIn[75], line 27\u001b[0m, in \u001b[0;36memsembleModel.evaluate_by_voting\u001b[1;34m(self, dataX, dataY)\u001b[0m\n\u001b[0;32m     26\u001b[0m \u001b[38;5;28;01mdef\u001b[39;00m \u001b[38;5;21mevaluate_by_voting\u001b[39m(\u001b[38;5;28mself\u001b[39m, dataX, dataY):\n\u001b[1;32m---> 27\u001b[0m     pred \u001b[38;5;241m=\u001b[39m \u001b[38;5;28;43mself\u001b[39;49m\u001b[38;5;241;43m.\u001b[39;49m\u001b[43mpredict_by_voting\u001b[49m\u001b[43m(\u001b[49m\u001b[43mdataX\u001b[49m\u001b[43m)\u001b[49m\n\u001b[0;32m     28\u001b[0m     ok \u001b[38;5;241m=\u001b[39m \u001b[38;5;241m0\u001b[39m\n\u001b[0;32m     29\u001b[0m     \u001b[38;5;28;01mfor\u001b[39;00m i \u001b[38;5;129;01min\u001b[39;00m \u001b[38;5;28mrange\u001b[39m(\u001b[38;5;28mlen\u001b[39m(pred)):\n",
      "Cell \u001b[1;32mIn[75], line 19\u001b[0m, in \u001b[0;36memsembleModel.predict_by_voting\u001b[1;34m(self, dataX)\u001b[0m\n\u001b[0;32m     17\u001b[0m pred \u001b[38;5;241m=\u001b[39m preds[j][i]\n\u001b[0;32m     18\u001b[0m predictedClass \u001b[38;5;241m=\u001b[39m np\u001b[38;5;241m.\u001b[39margmax(pred)\n\u001b[1;32m---> 19\u001b[0m counting[predictedClass]\u001b[38;5;241m+\u001b[39m\u001b[38;5;241m=\u001b[39m\u001b[38;5;241m1\u001b[39m\n\u001b[0;32m     20\u001b[0m \u001b[38;5;28;01mif\u001b[39;00m counting[predictedClass] \u001b[38;5;241m==\u001b[39m \u001b[38;5;28mmax\u001b[39m(counting):\n\u001b[0;32m     21\u001b[0m     current_best_pred \u001b[38;5;241m=\u001b[39m pred\n",
      "\u001b[1;31mIndexError\u001b[0m: list index out of range"
     ]
    }
   ],
   "source": [
    "acc = emsemble.evaluate_by_voting(testX, testY)"
   ]
  },
  {
   "cell_type": "code",
   "execution_count": null,
   "id": "1dd345bf",
   "metadata": {},
   "outputs": [],
   "source": [
    "print('Accuracy Emsemble using Voting: %.3f' % (acc * 100.0))"
   ]
  },
  {
   "cell_type": "code",
   "execution_count": null,
   "id": "3327f4c9",
   "metadata": {},
   "outputs": [],
   "source": []
  }
 ],
 "metadata": {
  "kernelspec": {
   "display_name": "Python 3 (ipykernel)",
   "language": "python",
   "name": "python3"
  },
  "language_info": {
   "codemirror_mode": {
    "name": "ipython",
    "version": 3
   },
   "file_extension": ".py",
   "mimetype": "text/x-python",
   "name": "python",
   "nbconvert_exporter": "python",
   "pygments_lexer": "ipython3",
   "version": "3.9.17"
  }
 },
 "nbformat": 4,
 "nbformat_minor": 5
}
