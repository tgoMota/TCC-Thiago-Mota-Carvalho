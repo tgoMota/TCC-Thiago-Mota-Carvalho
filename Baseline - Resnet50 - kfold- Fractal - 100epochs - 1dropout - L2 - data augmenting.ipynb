{
 "cells": [
  {
   "cell_type": "code",
   "execution_count": 1,
   "metadata": {
    "id": "on-xhn6xYqDo"
   },
   "outputs": [],
   "source": [
    "import tensorflow as tf\n",
    "from tensorflow import keras\n",
    "import matplotlib.pyplot as plt\n",
    "import os\n",
    "import time"
   ]
  },
  {
   "cell_type": "code",
   "execution_count": 2,
   "metadata": {
    "id": "Zq5nydmlidrt"
   },
   "outputs": [],
   "source": [
    "import cv2\n",
    "import os\n",
    "from tqdm import tqdm\n",
    "import matplotlib.pyplot as plt\n",
    "import numpy as np\n",
    "import glob\n",
    "from tensorflow.keras.preprocessing.image import ImageDataGenerator\n",
    "from tensorflow.keras.applications import *\n",
    "from tensorflow.keras.layers import *\n",
    "from tensorflow.keras.models import *\n",
    "from tensorflow.keras.optimizers import Adam\n",
    "from tensorflow.keras.utils import to_categorical\n",
    "from sklearn.preprocessing import LabelEncoder\n",
    "from sklearn.metrics import *\n",
    "from tensorflow.keras.callbacks import *\n",
    "import matplotlib.pyplot as plt\n",
    "from tensorflow.keras import models\n",
    "from tensorflow.keras import layers\n",
    "from sklearn.model_selection import StratifiedKFold\n",
    "from sklearn.model_selection import KFold"
   ]
  },
  {
   "cell_type": "code",
   "execution_count": 3,
   "metadata": {},
   "outputs": [],
   "source": [
    "CLASS_NAMES= ['healthy', 'mild', 'moderate', 'severe']\n",
    "IMG_HEIGHT = 128\n",
    "IMG_WIDTH = 128\n",
    "CHANNELS = 3\n",
    "NUM_CLASSES = len(CLASS_NAMES)"
   ]
  },
  {
   "cell_type": "markdown",
   "metadata": {
    "id": "yfeZvMIEDOwS"
   },
   "source": [
    "# **ResNET**"
   ]
  },
  {
   "cell_type": "code",
   "execution_count": 4,
   "metadata": {
    "id": "98Cf8ZeSEbCU"
   },
   "outputs": [],
   "source": [
    "from sklearn.model_selection import train_test_split"
   ]
  },
  {
   "cell_type": "code",
   "execution_count": 5,
   "metadata": {},
   "outputs": [
    {
     "name": "stdout",
     "output_type": "stream",
     "text": [
      "TOTAL_IMAGES =  1184\n"
     ]
    }
   ],
   "source": [
    "#load data\n",
    "data_x = np.load('fractal_reshapeRecPlot_data_x_aumentated_normalized.npy') #images\n",
    "data_y = np.load('fractal_reshapeRecPlot_data_y_aumentated_normalized.npy') #labels\n",
    "TOTAL_IMAGES = len(data_y)\n",
    "print(\"TOTAL_IMAGES = \", TOTAL_IMAGES)"
   ]
  },
  {
   "cell_type": "code",
   "execution_count": 6,
   "metadata": {},
   "outputs": [],
   "source": [
    "VALIDATION_PERCENTAGE = 0.1"
   ]
  },
  {
   "cell_type": "code",
   "execution_count": 7,
   "metadata": {},
   "outputs": [],
   "source": [
    "validation_size = int(VALIDATION_PERCENTAGE * TOTAL_IMAGES)\n",
    "\n",
    "validation_x = data_x[:validation_size] #taking validation images from original data\n",
    "validation_y = data_y[:validation_size]\n",
    "data_x = data_x[validation_size:] #removing validation images from original data\n",
    "data_y = data_y[validation_size:]"
   ]
  },
  {
   "cell_type": "markdown",
   "metadata": {},
   "source": [
    "# **Splitting data in train - validation - test**"
   ]
  },
  {
   "cell_type": "code",
   "execution_count": 8,
   "metadata": {
    "id": "BiIjdq89J1uJ"
   },
   "outputs": [],
   "source": [
    "from tensorflow import keras\n",
    "from tensorflow.keras.models import Sequential\n",
    "from tensorflow.keras.layers import Dense, Activation, Dropout, Flatten, Conv2D, MaxPooling2D\n",
    "from tensorflow.keras.regularizers import l2\n",
    "from tensorflow.keras.regularizers import l1\n",
    "from tensorflow.keras.callbacks import EarlyStopping"
   ]
  },
  {
   "cell_type": "code",
   "execution_count": 9,
   "metadata": {
    "colab": {
     "base_uri": "https://localhost:8080/"
    },
    "id": "j0vHxhMjLyhJ",
    "outputId": "e5ec2803-8f76-4719-e279-27c52eb8d72d"
   },
   "outputs": [],
   "source": [
    "from tensorflow.keras import layers\n",
    "from tensorflow.keras.layers import Input, Add, Dense, Activation, ZeroPadding2D, BatchNormalization, Flatten, Conv2D, AveragePooling2D, MaxPooling2D, GlobalMaxPooling2D\n",
    "from tensorflow.keras.models import Model, load_model\n",
    "from tensorflow.keras.preprocessing import image\n",
    "from IPython.display import SVG\n",
    "import scipy.misc"
   ]
  },
  {
   "cell_type": "code",
   "execution_count": 10,
   "metadata": {},
   "outputs": [],
   "source": [
    "import tensorflow.keras.backend as K\n",
    "from tensorflow.keras import models\n",
    "from tensorflow.keras import layers"
   ]
  },
  {
   "cell_type": "code",
   "execution_count": 11,
   "metadata": {},
   "outputs": [],
   "source": [
    "# from tensorflow.keras.applications import EfficientNetB0\n",
    "# from tensorflow.keras.applications import EfficientNetB1\n",
    "# from tensorflow.keras.applications import EfficientNetB2\n",
    "# from tensorflow.keras.applications import EfficientNetB3\n",
    "# from tensorflow.keras.applications import EfficientNetB4\n",
    "# from tensorflow.keras.applications import EfficientNetB5\n",
    "# from tensorflow.keras.applications import EfficientNetB6\n",
    "# from tensorflow.keras.applications import EfficientNetB7\n",
    "# from tensorflow.keras.applications import *"
   ]
  },
  {
   "cell_type": "code",
   "execution_count": 12,
   "metadata": {},
   "outputs": [
    {
     "name": "stderr",
     "output_type": "stream",
     "text": [
      "C:\\Users\\tmcle\\.conda\\envs\\tf\\lib\\site-packages\\keras\\optimizers\\optimizer_v2\\adam.py:114: UserWarning: The `lr` argument is deprecated, use `learning_rate` instead.\n",
      "  super().__init__(name, **kwargs)\n"
     ]
    }
   ],
   "source": [
    "adam = tf.keras.optimizers.Adam(lr=0.001)"
   ]
  },
  {
   "cell_type": "code",
   "execution_count": 13,
   "metadata": {},
   "outputs": [],
   "source": [
    "def define_model():\n",
    "    K.set_image_data_format('channels_last')\n",
    "    K.set_learning_phase(1)\n",
    "    model = tf.keras.applications.ResNet50(\n",
    "        include_top=False,\n",
    "        weights=\"imagenet\",\n",
    "        input_tensor=None,\n",
    "        input_shape=(IMG_HEIGHT,IMG_WIDTH, CHANNELS),\n",
    "        pooling=None,\n",
    "        classes=NUM_CLASSES,\n",
    "        # classifier_activation=\"softmax\",\n",
    "        # **kwargs\n",
    "    )\n",
    "    new_model = models.Sequential()\n",
    "    new_model.add(model)\n",
    "    #3rd conv layer\n",
    "    new_model.add(tf.keras.layers.Conv2D(32, 3, padding=\"same\"))\n",
    "    new_model.add(tf.keras.layers.BatchNormalization())\n",
    "    new_model.add(tf.keras.layers.Activation(\"relu\"))\n",
    "    new_model.add(tf.keras.layers.MaxPooling2D(2))\n",
    "    #4th conv layer\n",
    "    new_model.add(tf.keras.layers.Conv2D(64, 3, padding=\"same\"))\n",
    "    new_model.add(tf.keras.layers.BatchNormalization())\n",
    "    new_model.add(tf.keras.layers.Activation(\"relu\"))\n",
    "    new_model.add(tf.keras.layers.MaxPooling2D(2))\n",
    "    #Flatten Layer\n",
    "    new_model.add(tf.keras.layers.Flatten())\n",
    "\n",
    "    new_model.add(tf.keras.layers.Dense(128, kernel_regularizer =tf.keras.regularizers.l2( l=0.01)))\n",
    "    new_model.add(tf.keras.layers.BatchNormalization())\n",
    "    new_model.add(tf.keras.layers.Activation(\"relu\"))\n",
    "    new_model.add(tf.keras.layers.Dropout(0.2))\n",
    "    #new_model.add(tf.keras.layers.l2( l=0.01))\n",
    "    #new_model.add(layers.GlobalAveragePooling2D())\n",
    "    #output Dense Layer\n",
    "    new_model.add(tf.keras.layers.Dense(NUM_CLASSES))\n",
    "    new_model.add(tf.keras.layers.Activation('softmax'))\n",
    "    return new_model"
   ]
  },
  {
   "cell_type": "code",
   "execution_count": 14,
   "metadata": {},
   "outputs": [],
   "source": [
    "kfold = KFold(n_splits=5, shuffle=True, random_state=7)\n",
    "cvscores = []\n",
    "epochs = 100\n",
    "num_classes = 2\n",
    "num_kfold=1\n",
    "all_models = []"
   ]
  },
  {
   "cell_type": "code",
   "execution_count": 15,
   "metadata": {},
   "outputs": [
    {
     "name": "stderr",
     "output_type": "stream",
     "text": [
      "C:\\Users\\tmcle\\.conda\\envs\\tf\\lib\\site-packages\\keras\\backend.py:451: UserWarning: `tf.keras.backend.set_learning_phase` is deprecated and will be removed after 2020-10-11. To update it, simply pass a True/False value to the `training` argument of the `__call__` method of your layer or model.\n",
      "  warnings.warn(\n"
     ]
    },
    {
     "name": "stdout",
     "output_type": "stream",
     "text": [
      "Epoch 1/100\n",
      "23/23 - 19s - loss: 1.9757 - accuracy: 0.5197 - val_loss: 14.6130 - val_accuracy: 0.2444 - 19s/epoch - 845ms/step\n",
      "Epoch 2/100\n",
      "23/23 - 8s - loss: 1.4475 - accuracy: 0.7324 - val_loss: 13.6133 - val_accuracy: 0.2444 - 8s/epoch - 350ms/step\n",
      "Epoch 3/100\n",
      "23/23 - 8s - loss: 1.2699 - accuracy: 0.8028 - val_loss: 25.3151 - val_accuracy: 0.2444 - 8s/epoch - 350ms/step\n",
      "Epoch 4/100\n",
      "23/23 - 8s - loss: 1.0255 - accuracy: 0.8690 - val_loss: 9.2208 - val_accuracy: 0.2444 - 8s/epoch - 350ms/step\n",
      "Epoch 5/100\n",
      "23/23 - 8s - loss: 0.9439 - accuracy: 0.8817 - val_loss: 5.9768 - val_accuracy: 0.2444 - 8s/epoch - 349ms/step\n",
      "Epoch 6/100\n",
      "23/23 - 8s - loss: 0.7995 - accuracy: 0.9225 - val_loss: 4.7911 - val_accuracy: 0.2444 - 8s/epoch - 349ms/step\n",
      "Epoch 7/100\n",
      "23/23 - 8s - loss: 0.7859 - accuracy: 0.8958 - val_loss: 5.8071 - val_accuracy: 0.2444 - 8s/epoch - 349ms/step\n",
      "Epoch 8/100\n",
      "23/23 - 8s - loss: 0.7201 - accuracy: 0.9183 - val_loss: 2.7471 - val_accuracy: 0.2444 - 8s/epoch - 350ms/step\n",
      "Epoch 9/100\n",
      "23/23 - 8s - loss: 0.6577 - accuracy: 0.9099 - val_loss: 21.2888 - val_accuracy: 0.2444 - 8s/epoch - 349ms/step\n",
      "Epoch 10/100\n",
      "23/23 - 8s - loss: 0.6081 - accuracy: 0.9268 - val_loss: 14.7245 - val_accuracy: 0.2444 - 8s/epoch - 348ms/step\n",
      "Epoch 11/100\n",
      "23/23 - 8s - loss: 0.5584 - accuracy: 0.9296 - val_loss: 6.9399 - val_accuracy: 0.2444 - 8s/epoch - 349ms/step\n",
      "Epoch 12/100\n",
      "23/23 - 8s - loss: 0.4539 - accuracy: 0.9563 - val_loss: 3.0372 - val_accuracy: 0.2444 - 8s/epoch - 349ms/step\n",
      "Epoch 13/100\n",
      "23/23 - 8s - loss: 0.3790 - accuracy: 0.9718 - val_loss: 2.5904 - val_accuracy: 0.2444 - 8s/epoch - 348ms/step\n",
      "Epoch 14/100\n",
      "23/23 - 8s - loss: 0.4816 - accuracy: 0.9408 - val_loss: 3.3584 - val_accuracy: 0.2444 - 8s/epoch - 348ms/step\n",
      "Epoch 15/100\n",
      "23/23 - 8s - loss: 0.4229 - accuracy: 0.9254 - val_loss: 3.5066 - val_accuracy: 0.2444 - 8s/epoch - 348ms/step\n",
      "Epoch 16/100\n",
      "23/23 - 8s - loss: 0.3537 - accuracy: 0.9549 - val_loss: 2.0139 - val_accuracy: 0.2444 - 8s/epoch - 347ms/step\n",
      "Epoch 17/100\n",
      "23/23 - 8s - loss: 0.3449 - accuracy: 0.9563 - val_loss: 4.5450 - val_accuracy: 0.2444 - 8s/epoch - 348ms/step\n",
      "Epoch 18/100\n",
      "23/23 - 8s - loss: 0.3826 - accuracy: 0.9310 - val_loss: 11.6033 - val_accuracy: 0.2444 - 8s/epoch - 348ms/step\n",
      "Epoch 19/100\n",
      "23/23 - 8s - loss: 0.2992 - accuracy: 0.9465 - val_loss: 2.3222 - val_accuracy: 0.2893 - 8s/epoch - 348ms/step\n",
      "Epoch 20/100\n",
      "23/23 - 8s - loss: 0.2249 - accuracy: 0.9746 - val_loss: 1.9558 - val_accuracy: 0.2416 - 8s/epoch - 347ms/step\n",
      "Epoch 21/100\n",
      "23/23 - 8s - loss: 0.2087 - accuracy: 0.9746 - val_loss: 6.7435 - val_accuracy: 0.2444 - 8s/epoch - 351ms/step\n",
      "Epoch 22/100\n",
      "23/23 - 8s - loss: 0.1637 - accuracy: 0.9859 - val_loss: 2.2530 - val_accuracy: 0.2444 - 8s/epoch - 347ms/step\n",
      "Epoch 23/100\n",
      "23/23 - 8s - loss: 0.1942 - accuracy: 0.9746 - val_loss: 3.1484 - val_accuracy: 0.2978 - 8s/epoch - 348ms/step\n",
      "Epoch 24/100\n",
      "23/23 - 8s - loss: 0.1649 - accuracy: 0.9775 - val_loss: 3.0892 - val_accuracy: 0.2444 - 8s/epoch - 347ms/step\n",
      "Epoch 25/100\n",
      "23/23 - 8s - loss: 0.2742 - accuracy: 0.9352 - val_loss: 9.9072 - val_accuracy: 0.2444 - 8s/epoch - 347ms/step\n",
      "Epoch 26/100\n",
      "23/23 - 8s - loss: 0.2456 - accuracy: 0.9394 - val_loss: 7.0443 - val_accuracy: 0.2444 - 8s/epoch - 348ms/step\n",
      "Epoch 27/100\n",
      "23/23 - 8s - loss: 0.2119 - accuracy: 0.9507 - val_loss: 7.0478 - val_accuracy: 0.2444 - 8s/epoch - 347ms/step\n",
      "Epoch 28/100\n",
      "23/23 - 8s - loss: 0.1932 - accuracy: 0.9592 - val_loss: 22.0905 - val_accuracy: 0.2444 - 8s/epoch - 348ms/step\n",
      "Epoch 29/100\n",
      "23/23 - 8s - loss: 0.1204 - accuracy: 0.9775 - val_loss: 7.7614 - val_accuracy: 0.2444 - 8s/epoch - 347ms/step\n",
      "Epoch 30/100\n",
      "23/23 - 8s - loss: 0.0914 - accuracy: 0.9873 - val_loss: 6.0583 - val_accuracy: 0.2528 - 8s/epoch - 347ms/step\n",
      "Epoch 31/100\n",
      "23/23 - 8s - loss: 0.1122 - accuracy: 0.9746 - val_loss: 7.5004 - val_accuracy: 0.2444 - 8s/epoch - 347ms/step\n",
      "Epoch 32/100\n",
      "23/23 - 8s - loss: 0.1321 - accuracy: 0.9704 - val_loss: 8.1281 - val_accuracy: 0.2444 - 8s/epoch - 347ms/step\n",
      "Epoch 33/100\n",
      "23/23 - 8s - loss: 0.1079 - accuracy: 0.9775 - val_loss: 11.4410 - val_accuracy: 0.2444 - 8s/epoch - 347ms/step\n",
      "Epoch 34/100\n",
      "23/23 - 8s - loss: 0.0527 - accuracy: 0.9958 - val_loss: 8.9706 - val_accuracy: 0.2444 - 8s/epoch - 347ms/step\n",
      "Epoch 35/100\n",
      "23/23 - 8s - loss: 0.0573 - accuracy: 0.9944 - val_loss: 7.2629 - val_accuracy: 0.2444 - 8s/epoch - 347ms/step\n",
      "Epoch 36/100\n",
      "23/23 - 8s - loss: 0.0523 - accuracy: 0.9915 - val_loss: 7.9229 - val_accuracy: 0.2444 - 8s/epoch - 347ms/step\n",
      "Epoch 37/100\n",
      "23/23 - 8s - loss: 0.1194 - accuracy: 0.9775 - val_loss: 8.1894 - val_accuracy: 0.2444 - 8s/epoch - 347ms/step\n",
      "Epoch 38/100\n",
      "23/23 - 8s - loss: 0.1141 - accuracy: 0.9746 - val_loss: 11.9477 - val_accuracy: 0.2444 - 8s/epoch - 347ms/step\n",
      "Epoch 39/100\n",
      "23/23 - 8s - loss: 0.0634 - accuracy: 0.9901 - val_loss: 12.3158 - val_accuracy: 0.2444 - 8s/epoch - 347ms/step\n",
      "Epoch 40/100\n",
      "23/23 - 8s - loss: 0.0708 - accuracy: 0.9873 - val_loss: 6.1915 - val_accuracy: 0.3034 - 8s/epoch - 347ms/step\n",
      "Epoch 41/100\n",
      "23/23 - 8s - loss: 0.1276 - accuracy: 0.9761 - val_loss: 5.1906 - val_accuracy: 0.4073 - 8s/epoch - 348ms/step\n",
      "Epoch 42/100\n",
      "23/23 - 8s - loss: 0.0540 - accuracy: 0.9901 - val_loss: 3.7493 - val_accuracy: 0.4382 - 8s/epoch - 347ms/step\n",
      "Epoch 43/100\n",
      "23/23 - 8s - loss: 0.0295 - accuracy: 1.0000 - val_loss: 3.3385 - val_accuracy: 0.4438 - 8s/epoch - 347ms/step\n",
      "Epoch 44/100\n",
      "23/23 - 8s - loss: 0.0229 - accuracy: 1.0000 - val_loss: 3.5545 - val_accuracy: 0.4129 - 8s/epoch - 347ms/step\n",
      "Epoch 45/100\n",
      "23/23 - 8s - loss: 0.0195 - accuracy: 1.0000 - val_loss: 3.2975 - val_accuracy: 0.4073 - 8s/epoch - 348ms/step\n",
      "Epoch 46/100\n",
      "23/23 - 8s - loss: 0.0171 - accuracy: 1.0000 - val_loss: 3.1163 - val_accuracy: 0.4045 - 8s/epoch - 347ms/step\n",
      "Epoch 47/100\n",
      "23/23 - 8s - loss: 0.0152 - accuracy: 1.0000 - val_loss: 2.8819 - val_accuracy: 0.4129 - 8s/epoch - 347ms/step\n",
      "Epoch 48/100\n",
      "23/23 - 8s - loss: 0.0135 - accuracy: 1.0000 - val_loss: 2.5376 - val_accuracy: 0.4382 - 8s/epoch - 347ms/step\n",
      "Epoch 49/100\n",
      "23/23 - 8s - loss: 0.0121 - accuracy: 1.0000 - val_loss: 2.0967 - val_accuracy: 0.5056 - 8s/epoch - 348ms/step\n",
      "Epoch 50/100\n",
      "23/23 - 8s - loss: 0.0106 - accuracy: 1.0000 - val_loss: 1.6391 - val_accuracy: 0.5899 - 8s/epoch - 347ms/step\n",
      "Epoch 51/100\n",
      "23/23 - 8s - loss: 0.0095 - accuracy: 1.0000 - val_loss: 1.1849 - val_accuracy: 0.7051 - 8s/epoch - 347ms/step\n",
      "Epoch 52/100\n",
      "23/23 - 8s - loss: 0.0085 - accuracy: 1.0000 - val_loss: 0.8537 - val_accuracy: 0.8062 - 8s/epoch - 348ms/step\n",
      "Epoch 53/100\n",
      "23/23 - 8s - loss: 0.0076 - accuracy: 1.0000 - val_loss: 0.6221 - val_accuracy: 0.8455 - 8s/epoch - 347ms/step\n",
      "Epoch 54/100\n",
      "23/23 - 8s - loss: 0.0069 - accuracy: 1.0000 - val_loss: 0.4517 - val_accuracy: 0.8764 - 8s/epoch - 347ms/step\n",
      "Epoch 55/100\n",
      "23/23 - 8s - loss: 0.0061 - accuracy: 1.0000 - val_loss: 0.3252 - val_accuracy: 0.9129 - 8s/epoch - 347ms/step\n",
      "Epoch 56/100\n",
      "23/23 - 8s - loss: 0.0056 - accuracy: 1.0000 - val_loss: 0.2442 - val_accuracy: 0.9270 - 8s/epoch - 347ms/step\n",
      "Epoch 57/100\n",
      "23/23 - 8s - loss: 0.0051 - accuracy: 1.0000 - val_loss: 0.1869 - val_accuracy: 0.9494 - 8s/epoch - 347ms/step\n",
      "Epoch 58/100\n",
      "23/23 - 8s - loss: 0.0045 - accuracy: 1.0000 - val_loss: 0.1508 - val_accuracy: 0.9579 - 8s/epoch - 347ms/step\n",
      "Epoch 59/100\n",
      "23/23 - 8s - loss: 0.0042 - accuracy: 1.0000 - val_loss: 0.1262 - val_accuracy: 0.9663 - 8s/epoch - 347ms/step\n",
      "Epoch 60/100\n",
      "23/23 - 8s - loss: 0.0038 - accuracy: 1.0000 - val_loss: 0.1096 - val_accuracy: 0.9691 - 8s/epoch - 347ms/step\n",
      "Epoch 61/100\n",
      "23/23 - 8s - loss: 0.0033 - accuracy: 1.0000 - val_loss: 0.0987 - val_accuracy: 0.9719 - 8s/epoch - 347ms/step\n",
      "Epoch 62/100\n",
      "23/23 - 8s - loss: 0.0030 - accuracy: 1.0000 - val_loss: 0.0946 - val_accuracy: 0.9719 - 8s/epoch - 348ms/step\n",
      "Epoch 63/100\n",
      "23/23 - 8s - loss: 0.0028 - accuracy: 1.0000 - val_loss: 0.0875 - val_accuracy: 0.9747 - 8s/epoch - 348ms/step\n",
      "Epoch 64/100\n",
      "23/23 - 8s - loss: 0.0026 - accuracy: 1.0000 - val_loss: 0.0817 - val_accuracy: 0.9775 - 8s/epoch - 348ms/step\n",
      "Epoch 65/100\n",
      "23/23 - 8s - loss: 0.0024 - accuracy: 1.0000 - val_loss: 0.0762 - val_accuracy: 0.9775 - 8s/epoch - 347ms/step\n",
      "Epoch 66/100\n",
      "23/23 - 8s - loss: 0.0024 - accuracy: 1.0000 - val_loss: 0.0710 - val_accuracy: 0.9775 - 8s/epoch - 347ms/step\n",
      "Epoch 67/100\n"
     ]
    },
    {
     "name": "stdout",
     "output_type": "stream",
     "text": [
      "23/23 - 8s - loss: 0.0020 - accuracy: 1.0000 - val_loss: 0.0695 - val_accuracy: 0.9831 - 8s/epoch - 347ms/step\n",
      "Epoch 68/100\n",
      "23/23 - 8s - loss: 0.0019 - accuracy: 1.0000 - val_loss: 0.0683 - val_accuracy: 0.9831 - 8s/epoch - 348ms/step\n",
      "Epoch 69/100\n",
      "23/23 - 8s - loss: 0.0018 - accuracy: 1.0000 - val_loss: 0.0668 - val_accuracy: 0.9831 - 8s/epoch - 348ms/step\n",
      "Epoch 70/100\n",
      "23/23 - 8s - loss: 0.0017 - accuracy: 1.0000 - val_loss: 0.0614 - val_accuracy: 0.9860 - 8s/epoch - 347ms/step\n",
      "Epoch 71/100\n",
      "23/23 - 8s - loss: 0.0017 - accuracy: 1.0000 - val_loss: 0.0592 - val_accuracy: 0.9860 - 8s/epoch - 348ms/step\n",
      "Epoch 72/100\n",
      "23/23 - 8s - loss: 0.0015 - accuracy: 1.0000 - val_loss: 0.0572 - val_accuracy: 0.9860 - 8s/epoch - 348ms/step\n",
      "Epoch 73/100\n",
      "23/23 - 8s - loss: 0.0015 - accuracy: 1.0000 - val_loss: 0.0546 - val_accuracy: 0.9860 - 8s/epoch - 348ms/step\n",
      "Epoch 74/100\n",
      "23/23 - 8s - loss: 0.0014 - accuracy: 1.0000 - val_loss: 0.0525 - val_accuracy: 0.9860 - 8s/epoch - 348ms/step\n",
      "Epoch 75/100\n",
      "23/23 - 8s - loss: 0.0013 - accuracy: 1.0000 - val_loss: 0.0507 - val_accuracy: 0.9860 - 8s/epoch - 347ms/step\n",
      "Epoch 76/100\n",
      "23/23 - 8s - loss: 0.0012 - accuracy: 1.0000 - val_loss: 0.0503 - val_accuracy: 0.9860 - 8s/epoch - 347ms/step\n",
      "Epoch 77/100\n",
      "23/23 - 8s - loss: 0.0013 - accuracy: 1.0000 - val_loss: 0.0483 - val_accuracy: 0.9860 - 8s/epoch - 349ms/step\n",
      "Epoch 78/100\n",
      "23/23 - 8s - loss: 0.0012 - accuracy: 1.0000 - val_loss: 0.0455 - val_accuracy: 0.9860 - 8s/epoch - 347ms/step\n",
      "Epoch 79/100\n",
      "23/23 - 8s - loss: 0.0011 - accuracy: 1.0000 - val_loss: 0.0460 - val_accuracy: 0.9860 - 8s/epoch - 347ms/step\n",
      "Epoch 80/100\n",
      "23/23 - 8s - loss: 0.0011 - accuracy: 1.0000 - val_loss: 0.0448 - val_accuracy: 0.9860 - 8s/epoch - 357ms/step\n",
      "Epoch 81/100\n",
      "23/23 - 8s - loss: 0.0011 - accuracy: 1.0000 - val_loss: 0.0445 - val_accuracy: 0.9860 - 8s/epoch - 349ms/step\n",
      "Epoch 82/100\n",
      "23/23 - 8s - loss: 0.0010 - accuracy: 1.0000 - val_loss: 0.0426 - val_accuracy: 0.9860 - 8s/epoch - 347ms/step\n",
      "Epoch 83/100\n",
      "23/23 - 8s - loss: 9.7407e-04 - accuracy: 1.0000 - val_loss: 0.0413 - val_accuracy: 0.9860 - 8s/epoch - 348ms/step\n",
      "Epoch 84/100\n",
      "23/23 - 8s - loss: 9.2082e-04 - accuracy: 1.0000 - val_loss: 0.0403 - val_accuracy: 0.9860 - 8s/epoch - 348ms/step\n",
      "Epoch 85/100\n",
      "23/23 - 8s - loss: 9.0149e-04 - accuracy: 1.0000 - val_loss: 0.0406 - val_accuracy: 0.9860 - 8s/epoch - 347ms/step\n",
      "Epoch 86/100\n",
      "23/23 - 8s - loss: 8.9014e-04 - accuracy: 1.0000 - val_loss: 0.0399 - val_accuracy: 0.9860 - 8s/epoch - 347ms/step\n",
      "Epoch 87/100\n",
      "23/23 - 8s - loss: 8.6286e-04 - accuracy: 1.0000 - val_loss: 0.0404 - val_accuracy: 0.9860 - 8s/epoch - 347ms/step\n",
      "Epoch 88/100\n",
      "23/23 - 8s - loss: 9.1719e-04 - accuracy: 1.0000 - val_loss: 0.0387 - val_accuracy: 0.9888 - 8s/epoch - 347ms/step\n",
      "Epoch 89/100\n",
      "23/23 - 8s - loss: 8.8749e-04 - accuracy: 1.0000 - val_loss: 0.0396 - val_accuracy: 0.9860 - 8s/epoch - 347ms/step\n",
      "Epoch 90/100\n",
      "23/23 - 8s - loss: 8.0048e-04 - accuracy: 1.0000 - val_loss: 0.0402 - val_accuracy: 0.9888 - 8s/epoch - 348ms/step\n",
      "Epoch 91/100\n",
      "23/23 - 8s - loss: 8.4875e-04 - accuracy: 1.0000 - val_loss: 0.0403 - val_accuracy: 0.9888 - 8s/epoch - 348ms/step\n",
      "Epoch 92/100\n",
      "23/23 - 8s - loss: 8.2216e-04 - accuracy: 1.0000 - val_loss: 0.0386 - val_accuracy: 0.9888 - 8s/epoch - 348ms/step\n",
      "Epoch 93/100\n",
      "23/23 - 8s - loss: 8.2131e-04 - accuracy: 1.0000 - val_loss: 0.0395 - val_accuracy: 0.9888 - 8s/epoch - 347ms/step\n",
      "Epoch 94/100\n",
      "23/23 - 8s - loss: 7.7857e-04 - accuracy: 1.0000 - val_loss: 0.0405 - val_accuracy: 0.9888 - 8s/epoch - 348ms/step\n",
      "Epoch 95/100\n",
      "23/23 - 8s - loss: 7.5050e-04 - accuracy: 1.0000 - val_loss: 0.0424 - val_accuracy: 0.9888 - 8s/epoch - 348ms/step\n",
      "Epoch 96/100\n",
      "23/23 - 8s - loss: 7.0599e-04 - accuracy: 1.0000 - val_loss: 0.0410 - val_accuracy: 0.9888 - 8s/epoch - 347ms/step\n",
      "Epoch 97/100\n",
      "23/23 - 8s - loss: 7.4366e-04 - accuracy: 1.0000 - val_loss: 0.0419 - val_accuracy: 0.9888 - 8s/epoch - 348ms/step\n",
      "Epoch 98/100\n",
      "23/23 - 8s - loss: 6.7563e-04 - accuracy: 1.0000 - val_loss: 0.0417 - val_accuracy: 0.9888 - 8s/epoch - 348ms/step\n",
      "Epoch 99/100\n",
      "23/23 - 8s - loss: 7.4166e-04 - accuracy: 1.0000 - val_loss: 0.0394 - val_accuracy: 0.9888 - 8s/epoch - 348ms/step\n",
      "Epoch 100/100\n",
      "23/23 - 8s - loss: 7.1707e-04 - accuracy: 1.0000 - val_loss: 0.0399 - val_accuracy: 0.9888 - 8s/epoch - 347ms/step\n",
      "Accuracy Score =  0.9887640476226807\n",
      "accuracy: 98.31%\n"
     ]
    },
    {
     "name": "stderr",
     "output_type": "stream",
     "text": [
      "WARNING:absl:Found untraced functions such as _jit_compiled_convolution_op, _jit_compiled_convolution_op, _jit_compiled_convolution_op, _jit_compiled_convolution_op, _jit_compiled_convolution_op while saving (showing 5 of 55). These functions will not be directly callable after loading.\n"
     ]
    },
    {
     "name": "stdout",
     "output_type": "stream",
     "text": [
      "INFO:tensorflow:Assets written to: resnet50_100epochs_fractal_augmented_kfold_1.npy\\assets\n"
     ]
    },
    {
     "name": "stderr",
     "output_type": "stream",
     "text": [
      "INFO:tensorflow:Assets written to: resnet50_100epochs_fractal_augmented_kfold_1.npy\\assets\n",
      "C:\\Users\\tmcle\\.conda\\envs\\tf\\lib\\site-packages\\keras\\backend.py:451: UserWarning: `tf.keras.backend.set_learning_phase` is deprecated and will be removed after 2020-10-11. To update it, simply pass a True/False value to the `training` argument of the `__call__` method of your layer or model.\n",
      "  warnings.warn(\n"
     ]
    },
    {
     "name": "stdout",
     "output_type": "stream",
     "text": [
      "Epoch 1/100\n",
      "23/23 - 16s - loss: 2.2014 - accuracy: 0.3108 - val_loss: 2519783702528.0000 - val_accuracy: 0.2310 - 16s/epoch - 702ms/step\n",
      "Epoch 2/100\n",
      "23/23 - 8s - loss: 1.7485 - accuracy: 0.3558 - val_loss: 249766464.0000 - val_accuracy: 0.2310 - 8s/epoch - 348ms/step\n",
      "Epoch 3/100\n",
      "23/23 - 8s - loss: 1.4059 - accuracy: 0.4487 - val_loss: 2144453.7500 - val_accuracy: 0.2310 - 8s/epoch - 348ms/step\n",
      "Epoch 4/100\n",
      "23/23 - 8s - loss: 1.0668 - accuracy: 0.5963 - val_loss: 8822.7129 - val_accuracy: 0.2310 - 8s/epoch - 347ms/step\n",
      "Epoch 5/100\n",
      "23/23 - 8s - loss: 0.8445 - accuracy: 0.6892 - val_loss: 25.2590 - val_accuracy: 0.2310 - 8s/epoch - 348ms/step\n",
      "Epoch 6/100\n",
      "23/23 - 8s - loss: 0.7722 - accuracy: 0.7103 - val_loss: 1.9509 - val_accuracy: 0.2423 - 8s/epoch - 348ms/step\n",
      "Epoch 7/100\n",
      "23/23 - 8s - loss: 0.6194 - accuracy: 0.7764 - val_loss: 2.1596 - val_accuracy: 0.2761 - 8s/epoch - 347ms/step\n",
      "Epoch 8/100\n",
      "23/23 - 8s - loss: 0.5680 - accuracy: 0.7820 - val_loss: 2.3150 - val_accuracy: 0.2761 - 8s/epoch - 348ms/step\n",
      "Epoch 9/100\n",
      "23/23 - 8s - loss: 0.6060 - accuracy: 0.7764 - val_loss: 2.5510 - val_accuracy: 0.2761 - 8s/epoch - 348ms/step\n",
      "Epoch 10/100\n",
      "23/23 - 8s - loss: 0.5072 - accuracy: 0.8115 - val_loss: 2.7472 - val_accuracy: 0.2761 - 8s/epoch - 349ms/step\n",
      "Epoch 11/100\n",
      "23/23 - 8s - loss: 0.4463 - accuracy: 0.8368 - val_loss: 2.9447 - val_accuracy: 0.2761 - 8s/epoch - 348ms/step\n",
      "Epoch 12/100\n",
      "23/23 - 8s - loss: 0.4048 - accuracy: 0.8425 - val_loss: 3.1020 - val_accuracy: 0.2761 - 8s/epoch - 348ms/step\n",
      "Epoch 13/100\n",
      "23/23 - 8s - loss: 0.3603 - accuracy: 0.8734 - val_loss: 3.2468 - val_accuracy: 0.2761 - 8s/epoch - 348ms/step\n",
      "Epoch 14/100\n",
      "23/23 - 8s - loss: 0.3123 - accuracy: 0.9030 - val_loss: 3.4894 - val_accuracy: 0.2761 - 8s/epoch - 348ms/step\n",
      "Epoch 15/100\n",
      "23/23 - 8s - loss: 0.5342 - accuracy: 0.7975 - val_loss: 3.3550 - val_accuracy: 0.2761 - 8s/epoch - 348ms/step\n",
      "Epoch 16/100\n",
      "23/23 - 8s - loss: 0.4666 - accuracy: 0.8284 - val_loss: 3.5474 - val_accuracy: 0.2761 - 8s/epoch - 348ms/step\n",
      "Epoch 17/100\n",
      "23/23 - 8s - loss: 0.3079 - accuracy: 0.8973 - val_loss: 3.9571 - val_accuracy: 0.2761 - 8s/epoch - 348ms/step\n",
      "Epoch 18/100\n",
      "23/23 - 8s - loss: 0.2451 - accuracy: 0.9241 - val_loss: 4.1977 - val_accuracy: 0.2761 - 8s/epoch - 347ms/step\n",
      "Epoch 19/100\n",
      "23/23 - 8s - loss: 0.1840 - accuracy: 0.9423 - val_loss: 4.2811 - val_accuracy: 0.2761 - 8s/epoch - 348ms/step\n",
      "Epoch 20/100\n",
      "23/23 - 8s - loss: 0.2083 - accuracy: 0.9367 - val_loss: 4.3307 - val_accuracy: 0.2761 - 8s/epoch - 348ms/step\n",
      "Epoch 21/100\n",
      "23/23 - 8s - loss: 0.1854 - accuracy: 0.9409 - val_loss: 5.1637 - val_accuracy: 0.2761 - 8s/epoch - 348ms/step\n",
      "Epoch 22/100\n",
      "23/23 - 8s - loss: 0.2924 - accuracy: 0.9072 - val_loss: 4.9975 - val_accuracy: 0.2761 - 8s/epoch - 348ms/step\n",
      "Epoch 23/100\n",
      "23/23 - 8s - loss: 0.2818 - accuracy: 0.8945 - val_loss: 5.2176 - val_accuracy: 0.2761 - 8s/epoch - 348ms/step\n",
      "Epoch 24/100\n",
      "23/23 - 8s - loss: 0.1616 - accuracy: 0.9522 - val_loss: 5.1453 - val_accuracy: 0.2761 - 8s/epoch - 349ms/step\n",
      "Epoch 25/100\n",
      "23/23 - 8s - loss: 0.1224 - accuracy: 0.9620 - val_loss: 5.2869 - val_accuracy: 0.2761 - 8s/epoch - 348ms/step\n",
      "Epoch 26/100\n",
      "23/23 - 8s - loss: 0.1255 - accuracy: 0.9662 - val_loss: 5.4019 - val_accuracy: 0.2761 - 8s/epoch - 349ms/step\n",
      "Epoch 27/100\n",
      "23/23 - 8s - loss: 0.1467 - accuracy: 0.9466 - val_loss: 5.6339 - val_accuracy: 0.2761 - 8s/epoch - 348ms/step\n",
      "Epoch 28/100\n",
      "23/23 - 8s - loss: 0.1342 - accuracy: 0.9606 - val_loss: 5.4171 - val_accuracy: 0.2761 - 8s/epoch - 348ms/step\n",
      "Epoch 29/100\n",
      "23/23 - 8s - loss: 0.1021 - accuracy: 0.9662 - val_loss: 5.1903 - val_accuracy: 0.2761 - 8s/epoch - 349ms/step\n",
      "Epoch 30/100\n",
      "23/23 - 8s - loss: 0.0861 - accuracy: 0.9761 - val_loss: 5.3632 - val_accuracy: 0.2761 - 8s/epoch - 348ms/step\n",
      "Epoch 31/100\n",
      "23/23 - 8s - loss: 0.0805 - accuracy: 0.9817 - val_loss: 5.8703 - val_accuracy: 0.2761 - 8s/epoch - 349ms/step\n",
      "Epoch 32/100\n",
      "23/23 - 8s - loss: 0.0861 - accuracy: 0.9845 - val_loss: 5.7270 - val_accuracy: 0.2761 - 8s/epoch - 348ms/step\n",
      "Epoch 33/100\n",
      "23/23 - 8s - loss: 0.1691 - accuracy: 0.9494 - val_loss: 5.2403 - val_accuracy: 0.2761 - 8s/epoch - 348ms/step\n",
      "Epoch 34/100\n",
      "23/23 - 8s - loss: 0.1012 - accuracy: 0.9747 - val_loss: 5.6137 - val_accuracy: 0.2761 - 8s/epoch - 348ms/step\n",
      "Epoch 35/100\n",
      "23/23 - 8s - loss: 0.0780 - accuracy: 0.9775 - val_loss: 5.9485 - val_accuracy: 0.2761 - 8s/epoch - 348ms/step\n",
      "Epoch 36/100\n",
      "23/23 - 8s - loss: 0.0597 - accuracy: 0.9887 - val_loss: 5.6862 - val_accuracy: 0.2761 - 8s/epoch - 348ms/step\n",
      "Epoch 37/100\n",
      "23/23 - 8s - loss: 0.0574 - accuracy: 0.9845 - val_loss: 5.9041 - val_accuracy: 0.2761 - 8s/epoch - 348ms/step\n",
      "Epoch 38/100\n",
      "23/23 - 8s - loss: 0.0386 - accuracy: 0.9916 - val_loss: 5.9982 - val_accuracy: 0.2761 - 8s/epoch - 348ms/step\n",
      "Epoch 39/100\n",
      "23/23 - 8s - loss: 0.0487 - accuracy: 0.9887 - val_loss: 5.7719 - val_accuracy: 0.2761 - 8s/epoch - 349ms/step\n",
      "Epoch 40/100\n",
      "23/23 - 8s - loss: 0.0786 - accuracy: 0.9803 - val_loss: 6.2006 - val_accuracy: 0.2761 - 8s/epoch - 348ms/step\n",
      "Epoch 41/100\n",
      "23/23 - 8s - loss: 0.0633 - accuracy: 0.9859 - val_loss: 6.5696 - val_accuracy: 0.2761 - 8s/epoch - 349ms/step\n",
      "Epoch 42/100\n",
      "23/23 - 8s - loss: 0.0499 - accuracy: 0.9873 - val_loss: 6.7208 - val_accuracy: 0.2761 - 8s/epoch - 348ms/step\n",
      "Epoch 43/100\n",
      "23/23 - 8s - loss: 0.0362 - accuracy: 0.9930 - val_loss: 6.3830 - val_accuracy: 0.2845 - 8s/epoch - 349ms/step\n",
      "Epoch 44/100\n",
      "23/23 - 8s - loss: 0.0804 - accuracy: 0.9747 - val_loss: 6.4149 - val_accuracy: 0.2761 - 8s/epoch - 349ms/step\n",
      "Epoch 45/100\n",
      "23/23 - 8s - loss: 0.0987 - accuracy: 0.9761 - val_loss: 2.7752 - val_accuracy: 0.4423 - 8s/epoch - 348ms/step\n",
      "Epoch 46/100\n",
      "23/23 - 8s - loss: 0.0681 - accuracy: 0.9845 - val_loss: 4.7336 - val_accuracy: 0.3042 - 8s/epoch - 348ms/step\n",
      "Epoch 47/100\n",
      "23/23 - 8s - loss: 0.0361 - accuracy: 0.9930 - val_loss: 4.6464 - val_accuracy: 0.2958 - 8s/epoch - 347ms/step\n",
      "Epoch 48/100\n",
      "23/23 - 8s - loss: 0.0271 - accuracy: 0.9972 - val_loss: 3.9676 - val_accuracy: 0.3577 - 8s/epoch - 348ms/step\n",
      "Epoch 49/100\n",
      "23/23 - 8s - loss: 0.0333 - accuracy: 0.9916 - val_loss: 3.3311 - val_accuracy: 0.3887 - 8s/epoch - 349ms/step\n",
      "Epoch 50/100\n",
      "23/23 - 8s - loss: 0.0155 - accuracy: 0.9986 - val_loss: 2.9504 - val_accuracy: 0.4113 - 8s/epoch - 348ms/step\n",
      "Epoch 51/100\n",
      "23/23 - 8s - loss: 0.0115 - accuracy: 0.9986 - val_loss: 2.2244 - val_accuracy: 0.5239 - 8s/epoch - 348ms/step\n",
      "Epoch 52/100\n",
      "23/23 - 8s - loss: 0.0409 - accuracy: 0.9873 - val_loss: 0.2189 - val_accuracy: 0.9380 - 8s/epoch - 347ms/step\n",
      "Epoch 53/100\n",
      "23/23 - 8s - loss: 0.0307 - accuracy: 0.9916 - val_loss: 0.1917 - val_accuracy: 0.9521 - 8s/epoch - 348ms/step\n",
      "Epoch 54/100\n",
      "23/23 - 8s - loss: 0.0114 - accuracy: 1.0000 - val_loss: 0.7973 - val_accuracy: 0.7493 - 8s/epoch - 348ms/step\n",
      "Epoch 55/100\n",
      "23/23 - 8s - loss: 0.0091 - accuracy: 1.0000 - val_loss: 1.4659 - val_accuracy: 0.5887 - 8s/epoch - 348ms/step\n",
      "Epoch 56/100\n",
      "23/23 - 8s - loss: 0.0580 - accuracy: 0.9845 - val_loss: 0.1910 - val_accuracy: 0.9352 - 8s/epoch - 348ms/step\n",
      "Epoch 57/100\n",
      "23/23 - 8s - loss: 0.0263 - accuracy: 0.9972 - val_loss: 0.3509 - val_accuracy: 0.9183 - 8s/epoch - 348ms/step\n",
      "Epoch 58/100\n",
      "23/23 - 8s - loss: 0.0282 - accuracy: 0.9944 - val_loss: 0.8440 - val_accuracy: 0.7831 - 8s/epoch - 348ms/step\n",
      "Epoch 59/100\n",
      "23/23 - 8s - loss: 0.0688 - accuracy: 0.9803 - val_loss: 0.4095 - val_accuracy: 0.8704 - 8s/epoch - 348ms/step\n",
      "Epoch 60/100\n",
      "23/23 - 8s - loss: 0.0555 - accuracy: 0.9887 - val_loss: 0.4504 - val_accuracy: 0.8592 - 8s/epoch - 347ms/step\n",
      "Epoch 61/100\n",
      "23/23 - 8s - loss: 0.0349 - accuracy: 0.9944 - val_loss: 0.1049 - val_accuracy: 0.9662 - 8s/epoch - 348ms/step\n",
      "Epoch 62/100\n",
      "23/23 - 8s - loss: 0.0288 - accuracy: 0.9887 - val_loss: 1.0684 - val_accuracy: 0.7352 - 8s/epoch - 348ms/step\n",
      "Epoch 63/100\n",
      "23/23 - 8s - loss: 0.0553 - accuracy: 0.9817 - val_loss: 0.2845 - val_accuracy: 0.9211 - 8s/epoch - 349ms/step\n",
      "Epoch 64/100\n",
      "23/23 - 8s - loss: 0.4559 - accuracy: 0.8622 - val_loss: 220.3454 - val_accuracy: 0.2423 - 8s/epoch - 348ms/step\n",
      "Epoch 65/100\n",
      "23/23 - 8s - loss: 0.1370 - accuracy: 0.9677 - val_loss: 15.4083 - val_accuracy: 0.3183 - 8s/epoch - 348ms/step\n",
      "Epoch 66/100\n",
      "23/23 - 8s - loss: 0.0471 - accuracy: 0.9944 - val_loss: 5.6880 - val_accuracy: 0.4704 - 8s/epoch - 349ms/step\n"
     ]
    },
    {
     "name": "stdout",
     "output_type": "stream",
     "text": [
      "Epoch 67/100\n",
      "23/23 - 8s - loss: 0.0371 - accuracy: 0.9986 - val_loss: 3.9081 - val_accuracy: 0.4676 - 8s/epoch - 347ms/step\n",
      "Epoch 68/100\n",
      "23/23 - 8s - loss: 0.0265 - accuracy: 0.9986 - val_loss: 0.3266 - val_accuracy: 0.9155 - 8s/epoch - 348ms/step\n",
      "Epoch 69/100\n",
      "23/23 - 8s - loss: 0.0508 - accuracy: 0.9902 - val_loss: 0.7044 - val_accuracy: 0.8141 - 8s/epoch - 348ms/step\n",
      "Epoch 70/100\n",
      "23/23 - 8s - loss: 0.0471 - accuracy: 0.9873 - val_loss: 2.2365 - val_accuracy: 0.6254 - 8s/epoch - 348ms/step\n",
      "Epoch 71/100\n",
      "23/23 - 8s - loss: 0.0903 - accuracy: 0.9761 - val_loss: 3.3507 - val_accuracy: 0.5183 - 8s/epoch - 348ms/step\n",
      "Epoch 72/100\n",
      "23/23 - 8s - loss: 0.0848 - accuracy: 0.9803 - val_loss: 1.1045 - val_accuracy: 0.7014 - 8s/epoch - 349ms/step\n",
      "Epoch 73/100\n",
      "23/23 - 8s - loss: 0.1078 - accuracy: 0.9677 - val_loss: 2.1542 - val_accuracy: 0.5634 - 8s/epoch - 351ms/step\n",
      "Epoch 74/100\n",
      "23/23 - 8s - loss: 0.1023 - accuracy: 0.9733 - val_loss: 0.2421 - val_accuracy: 0.9324 - 8s/epoch - 352ms/step\n",
      "Epoch 75/100\n",
      "23/23 - 8s - loss: 0.0357 - accuracy: 0.9944 - val_loss: 0.3401 - val_accuracy: 0.8986 - 8s/epoch - 350ms/step\n",
      "Epoch 76/100\n",
      "23/23 - 8s - loss: 0.0297 - accuracy: 0.9972 - val_loss: 0.2337 - val_accuracy: 0.9296 - 8s/epoch - 348ms/step\n",
      "Epoch 77/100\n",
      "23/23 - 8s - loss: 0.0560 - accuracy: 0.9859 - val_loss: 0.0555 - val_accuracy: 0.9859 - 8s/epoch - 348ms/step\n",
      "Epoch 78/100\n",
      "23/23 - 8s - loss: 0.0213 - accuracy: 0.9972 - val_loss: 0.0320 - val_accuracy: 0.9887 - 8s/epoch - 349ms/step\n",
      "Epoch 79/100\n",
      "23/23 - 8s - loss: 0.0133 - accuracy: 1.0000 - val_loss: 0.0160 - val_accuracy: 0.9972 - 8s/epoch - 348ms/step\n",
      "Epoch 80/100\n",
      "23/23 - 8s - loss: 0.0094 - accuracy: 1.0000 - val_loss: 0.0154 - val_accuracy: 0.9972 - 8s/epoch - 350ms/step\n",
      "Epoch 81/100\n",
      "23/23 - 8s - loss: 0.0079 - accuracy: 1.0000 - val_loss: 0.0176 - val_accuracy: 0.9972 - 8s/epoch - 355ms/step\n",
      "Epoch 82/100\n",
      "23/23 - 8s - loss: 0.0068 - accuracy: 1.0000 - val_loss: 0.0202 - val_accuracy: 0.9972 - 8s/epoch - 353ms/step\n",
      "Epoch 83/100\n",
      "23/23 - 8s - loss: 0.0059 - accuracy: 1.0000 - val_loss: 0.0241 - val_accuracy: 0.9972 - 8s/epoch - 349ms/step\n",
      "Epoch 84/100\n",
      "23/23 - 8s - loss: 0.0053 - accuracy: 1.0000 - val_loss: 0.0285 - val_accuracy: 0.9944 - 8s/epoch - 348ms/step\n",
      "Epoch 85/100\n",
      "23/23 - 8s - loss: 0.0047 - accuracy: 1.0000 - val_loss: 0.0329 - val_accuracy: 0.9944 - 8s/epoch - 348ms/step\n",
      "Epoch 86/100\n",
      "23/23 - 8s - loss: 0.0042 - accuracy: 1.0000 - val_loss: 0.0349 - val_accuracy: 0.9944 - 8s/epoch - 348ms/step\n",
      "Epoch 87/100\n",
      "23/23 - 8s - loss: 0.0038 - accuracy: 1.0000 - val_loss: 0.0360 - val_accuracy: 0.9944 - 8s/epoch - 348ms/step\n",
      "Epoch 88/100\n",
      "23/23 - 8s - loss: 0.0033 - accuracy: 1.0000 - val_loss: 0.0361 - val_accuracy: 0.9915 - 8s/epoch - 348ms/step\n",
      "Epoch 89/100\n",
      "23/23 - 8s - loss: 0.0029 - accuracy: 1.0000 - val_loss: 0.0343 - val_accuracy: 0.9915 - 8s/epoch - 349ms/step\n",
      "Epoch 90/100\n",
      "23/23 - 8s - loss: 0.0027 - accuracy: 1.0000 - val_loss: 0.0321 - val_accuracy: 0.9944 - 8s/epoch - 348ms/step\n",
      "Epoch 91/100\n",
      "23/23 - 8s - loss: 0.0025 - accuracy: 1.0000 - val_loss: 0.0300 - val_accuracy: 0.9972 - 8s/epoch - 348ms/step\n",
      "Epoch 92/100\n",
      "23/23 - 8s - loss: 0.0023 - accuracy: 1.0000 - val_loss: 0.0274 - val_accuracy: 0.9972 - 8s/epoch - 348ms/step\n",
      "Epoch 93/100\n",
      "23/23 - 8s - loss: 0.0021 - accuracy: 1.0000 - val_loss: 0.0249 - val_accuracy: 0.9972 - 8s/epoch - 348ms/step\n",
      "Epoch 94/100\n",
      "23/23 - 8s - loss: 0.0019 - accuracy: 1.0000 - val_loss: 0.0228 - val_accuracy: 0.9972 - 8s/epoch - 349ms/step\n",
      "Epoch 95/100\n",
      "23/23 - 8s - loss: 0.0018 - accuracy: 1.0000 - val_loss: 0.0213 - val_accuracy: 0.9972 - 8s/epoch - 348ms/step\n",
      "Epoch 96/100\n",
      "23/23 - 8s - loss: 0.0016 - accuracy: 1.0000 - val_loss: 0.0173 - val_accuracy: 0.9972 - 8s/epoch - 349ms/step\n",
      "Epoch 97/100\n",
      "23/23 - 8s - loss: 0.0015 - accuracy: 1.0000 - val_loss: 0.0135 - val_accuracy: 0.9972 - 8s/epoch - 348ms/step\n",
      "Epoch 98/100\n",
      "23/23 - 8s - loss: 0.0014 - accuracy: 1.0000 - val_loss: 0.0124 - val_accuracy: 0.9972 - 8s/epoch - 348ms/step\n",
      "Epoch 99/100\n",
      "23/23 - 8s - loss: 0.0012 - accuracy: 1.0000 - val_loss: 0.0124 - val_accuracy: 0.9972 - 8s/epoch - 349ms/step\n",
      "Epoch 100/100\n",
      "23/23 - 8s - loss: 0.0012 - accuracy: 1.0000 - val_loss: 0.0112 - val_accuracy: 0.9972 - 8s/epoch - 348ms/step\n",
      "Accuracy Score =  0.997183084487915\n",
      "accuracy: 99.15%\n"
     ]
    },
    {
     "name": "stderr",
     "output_type": "stream",
     "text": [
      "WARNING:absl:Found untraced functions such as _jit_compiled_convolution_op, _jit_compiled_convolution_op, _jit_compiled_convolution_op, _jit_compiled_convolution_op, _jit_compiled_convolution_op while saving (showing 5 of 55). These functions will not be directly callable after loading.\n"
     ]
    },
    {
     "name": "stdout",
     "output_type": "stream",
     "text": [
      "INFO:tensorflow:Assets written to: resnet50_100epochs_fractal_augmented_kfold_2.npy\\assets\n"
     ]
    },
    {
     "name": "stderr",
     "output_type": "stream",
     "text": [
      "INFO:tensorflow:Assets written to: resnet50_100epochs_fractal_augmented_kfold_2.npy\\assets\n",
      "C:\\Users\\tmcle\\.conda\\envs\\tf\\lib\\site-packages\\keras\\backend.py:451: UserWarning: `tf.keras.backend.set_learning_phase` is deprecated and will be removed after 2020-10-11. To update it, simply pass a True/False value to the `training` argument of the `__call__` method of your layer or model.\n",
      "  warnings.warn(\n"
     ]
    },
    {
     "name": "stdout",
     "output_type": "stream",
     "text": [
      "Epoch 1/100\n",
      "23/23 - 16s - loss: 2.0928 - accuracy: 0.3826 - val_loss: 95872368640.0000 - val_accuracy: 0.2620 - 16s/epoch - 684ms/step\n",
      "Epoch 2/100\n",
      "23/23 - 8s - loss: 1.4416 - accuracy: 0.5935 - val_loss: 14255317.0000 - val_accuracy: 0.2620 - 8s/epoch - 349ms/step\n",
      "Epoch 3/100\n",
      "23/23 - 8s - loss: 1.0387 - accuracy: 0.6835 - val_loss: 207149.8438 - val_accuracy: 0.2620 - 8s/epoch - 349ms/step\n",
      "Epoch 4/100\n",
      "23/23 - 8s - loss: 0.8888 - accuracy: 0.7089 - val_loss: 3381.8486 - val_accuracy: 0.2620 - 8s/epoch - 351ms/step\n",
      "Epoch 5/100\n",
      "23/23 - 8s - loss: 0.7231 - accuracy: 0.7595 - val_loss: 426.5178 - val_accuracy: 0.2620 - 8s/epoch - 349ms/step\n",
      "Epoch 6/100\n",
      "23/23 - 8s - loss: 0.5944 - accuracy: 0.8158 - val_loss: 1.6625 - val_accuracy: 0.2620 - 8s/epoch - 350ms/step\n",
      "Epoch 7/100\n",
      "23/23 - 8s - loss: 0.5050 - accuracy: 0.8495 - val_loss: 4.1866 - val_accuracy: 0.2620 - 8s/epoch - 349ms/step\n",
      "Epoch 8/100\n",
      "23/23 - 8s - loss: 0.4039 - accuracy: 0.8805 - val_loss: 2.2587 - val_accuracy: 0.2169 - 8s/epoch - 349ms/step\n",
      "Epoch 9/100\n",
      "23/23 - 8s - loss: 0.3356 - accuracy: 0.8917 - val_loss: 3.3518 - val_accuracy: 0.2282 - 8s/epoch - 349ms/step\n",
      "Epoch 10/100\n",
      "23/23 - 8s - loss: 0.3174 - accuracy: 0.9015 - val_loss: 3.7538 - val_accuracy: 0.2282 - 8s/epoch - 349ms/step\n",
      "Epoch 11/100\n",
      "23/23 - 8s - loss: 0.3341 - accuracy: 0.8973 - val_loss: 3.8921 - val_accuracy: 0.2282 - 8s/epoch - 349ms/step\n",
      "Epoch 12/100\n",
      "23/23 - 8s - loss: 0.2661 - accuracy: 0.9030 - val_loss: 4.4036 - val_accuracy: 0.2282 - 8s/epoch - 349ms/step\n",
      "Epoch 13/100\n",
      "23/23 - 8s - loss: 0.1803 - accuracy: 0.9550 - val_loss: 4.6497 - val_accuracy: 0.2282 - 8s/epoch - 349ms/step\n",
      "Epoch 14/100\n",
      "23/23 - 8s - loss: 0.1692 - accuracy: 0.9536 - val_loss: 4.8897 - val_accuracy: 0.2282 - 8s/epoch - 349ms/step\n",
      "Epoch 15/100\n",
      "23/23 - 8s - loss: 0.1290 - accuracy: 0.9634 - val_loss: 4.9137 - val_accuracy: 0.2282 - 8s/epoch - 348ms/step\n",
      "Epoch 16/100\n",
      "23/23 - 8s - loss: 0.1236 - accuracy: 0.9719 - val_loss: 5.3385 - val_accuracy: 0.2282 - 8s/epoch - 349ms/step\n",
      "Epoch 17/100\n",
      "23/23 - 8s - loss: 0.2092 - accuracy: 0.9466 - val_loss: 5.6866 - val_accuracy: 0.2282 - 8s/epoch - 349ms/step\n",
      "Epoch 18/100\n",
      "23/23 - 8s - loss: 0.1230 - accuracy: 0.9691 - val_loss: 6.1527 - val_accuracy: 0.2282 - 8s/epoch - 349ms/step\n",
      "Epoch 19/100\n",
      "23/23 - 8s - loss: 0.1468 - accuracy: 0.9564 - val_loss: 6.0963 - val_accuracy: 0.2282 - 8s/epoch - 349ms/step\n",
      "Epoch 20/100\n",
      "23/23 - 8s - loss: 0.1250 - accuracy: 0.9648 - val_loss: 7.0812 - val_accuracy: 0.2282 - 8s/epoch - 351ms/step\n",
      "Epoch 21/100\n",
      "23/23 - 8s - loss: 0.2417 - accuracy: 0.9241 - val_loss: 6.3177 - val_accuracy: 0.2282 - 8s/epoch - 363ms/step\n",
      "Epoch 22/100\n",
      "23/23 - 8s - loss: 0.2802 - accuracy: 0.9044 - val_loss: 5.3359 - val_accuracy: 0.2620 - 8s/epoch - 357ms/step\n",
      "Epoch 23/100\n",
      "23/23 - 8s - loss: 0.2324 - accuracy: 0.9212 - val_loss: 11.7251 - val_accuracy: 0.2620 - 8s/epoch - 349ms/step\n",
      "Epoch 24/100\n",
      "23/23 - 8s - loss: 0.1697 - accuracy: 0.9536 - val_loss: 6.3215 - val_accuracy: 0.2620 - 8s/epoch - 349ms/step\n",
      "Epoch 25/100\n",
      "23/23 - 8s - loss: 0.1362 - accuracy: 0.9508 - val_loss: 18.7127 - val_accuracy: 0.2620 - 8s/epoch - 349ms/step\n",
      "Epoch 26/100\n",
      "23/23 - 8s - loss: 0.0955 - accuracy: 0.9761 - val_loss: 4.4332 - val_accuracy: 0.2282 - 8s/epoch - 349ms/step\n",
      "Epoch 27/100\n",
      "23/23 - 8s - loss: 0.0610 - accuracy: 0.9902 - val_loss: 6.3673 - val_accuracy: 0.2732 - 8s/epoch - 349ms/step\n",
      "Epoch 28/100\n",
      "23/23 - 8s - loss: 0.0688 - accuracy: 0.9845 - val_loss: 16.0651 - val_accuracy: 0.2620 - 8s/epoch - 349ms/step\n",
      "Epoch 29/100\n",
      "23/23 - 8s - loss: 0.0418 - accuracy: 0.9958 - val_loss: 5.4726 - val_accuracy: 0.2282 - 8s/epoch - 349ms/step\n",
      "Epoch 30/100\n",
      "23/23 - 8s - loss: 0.0928 - accuracy: 0.9733 - val_loss: 5.7340 - val_accuracy: 0.2282 - 8s/epoch - 349ms/step\n",
      "Epoch 31/100\n",
      "23/23 - 8s - loss: 0.0668 - accuracy: 0.9845 - val_loss: 6.8727 - val_accuracy: 0.2282 - 8s/epoch - 349ms/step\n",
      "Epoch 32/100\n",
      "23/23 - 8s - loss: 0.0288 - accuracy: 0.9958 - val_loss: 8.9610 - val_accuracy: 0.2282 - 8s/epoch - 348ms/step\n",
      "Epoch 33/100\n",
      "23/23 - 8s - loss: 0.0170 - accuracy: 1.0000 - val_loss: 9.2431 - val_accuracy: 0.2282 - 8s/epoch - 348ms/step\n",
      "Epoch 34/100\n",
      "23/23 - 8s - loss: 0.0132 - accuracy: 1.0000 - val_loss: 9.0656 - val_accuracy: 0.2282 - 8s/epoch - 349ms/step\n",
      "Epoch 35/100\n",
      "23/23 - 8s - loss: 0.0103 - accuracy: 1.0000 - val_loss: 8.8977 - val_accuracy: 0.2282 - 8s/epoch - 349ms/step\n",
      "Epoch 36/100\n",
      "23/23 - 8s - loss: 0.0087 - accuracy: 1.0000 - val_loss: 8.7325 - val_accuracy: 0.2282 - 8s/epoch - 349ms/step\n",
      "Epoch 37/100\n",
      "23/23 - 8s - loss: 0.0076 - accuracy: 1.0000 - val_loss: 8.5028 - val_accuracy: 0.2282 - 8s/epoch - 348ms/step\n",
      "Epoch 38/100\n",
      "23/23 - 8s - loss: 0.0065 - accuracy: 1.0000 - val_loss: 8.2632 - val_accuracy: 0.2282 - 8s/epoch - 349ms/step\n",
      "Epoch 39/100\n",
      "23/23 - 8s - loss: 0.0057 - accuracy: 1.0000 - val_loss: 7.9734 - val_accuracy: 0.2282 - 8s/epoch - 349ms/step\n",
      "Epoch 40/100\n",
      "23/23 - 8s - loss: 0.0048 - accuracy: 1.0000 - val_loss: 7.5618 - val_accuracy: 0.2282 - 8s/epoch - 349ms/step\n",
      "Epoch 41/100\n",
      "23/23 - 8s - loss: 0.0044 - accuracy: 1.0000 - val_loss: 6.9566 - val_accuracy: 0.2310 - 8s/epoch - 349ms/step\n",
      "Epoch 42/100\n",
      "23/23 - 8s - loss: 0.0040 - accuracy: 1.0000 - val_loss: 6.1398 - val_accuracy: 0.2394 - 8s/epoch - 348ms/step\n",
      "Epoch 43/100\n",
      "23/23 - 8s - loss: 0.0035 - accuracy: 1.0000 - val_loss: 5.3335 - val_accuracy: 0.2394 - 8s/epoch - 349ms/step\n",
      "Epoch 44/100\n",
      "23/23 - 8s - loss: 0.0032 - accuracy: 1.0000 - val_loss: 4.7626 - val_accuracy: 0.2535 - 8s/epoch - 349ms/step\n",
      "Epoch 45/100\n",
      "23/23 - 8s - loss: 0.0028 - accuracy: 1.0000 - val_loss: 4.2527 - val_accuracy: 0.3183 - 8s/epoch - 349ms/step\n",
      "Epoch 46/100\n",
      "23/23 - 8s - loss: 0.0026 - accuracy: 1.0000 - val_loss: 3.6884 - val_accuracy: 0.3690 - 8s/epoch - 349ms/step\n",
      "Epoch 47/100\n",
      "23/23 - 8s - loss: 0.0024 - accuracy: 1.0000 - val_loss: 3.0332 - val_accuracy: 0.4254 - 8s/epoch - 349ms/step\n",
      "Epoch 48/100\n",
      "23/23 - 8s - loss: 0.0022 - accuracy: 1.0000 - val_loss: 2.2299 - val_accuracy: 0.4676 - 8s/epoch - 348ms/step\n",
      "Epoch 49/100\n",
      "23/23 - 8s - loss: 0.0021 - accuracy: 1.0000 - val_loss: 1.5355 - val_accuracy: 0.5577 - 8s/epoch - 349ms/step\n",
      "Epoch 50/100\n",
      "23/23 - 8s - loss: 0.0020 - accuracy: 1.0000 - val_loss: 0.9364 - val_accuracy: 0.6845 - 8s/epoch - 349ms/step\n",
      "Epoch 51/100\n",
      "23/23 - 8s - loss: 0.0019 - accuracy: 1.0000 - val_loss: 0.5073 - val_accuracy: 0.8197 - 8s/epoch - 349ms/step\n",
      "Epoch 52/100\n",
      "23/23 - 8s - loss: 0.0017 - accuracy: 1.0000 - val_loss: 0.3121 - val_accuracy: 0.8873 - 8s/epoch - 349ms/step\n",
      "Epoch 53/100\n",
      "23/23 - 8s - loss: 0.0016 - accuracy: 1.0000 - val_loss: 0.1743 - val_accuracy: 0.9324 - 8s/epoch - 349ms/step\n",
      "Epoch 54/100\n",
      "23/23 - 8s - loss: 0.0015 - accuracy: 1.0000 - val_loss: 0.1005 - val_accuracy: 0.9577 - 8s/epoch - 349ms/step\n",
      "Epoch 55/100\n",
      "23/23 - 8s - loss: 0.0015 - accuracy: 1.0000 - val_loss: 0.0693 - val_accuracy: 0.9746 - 8s/epoch - 349ms/step\n",
      "Epoch 56/100\n",
      "23/23 - 8s - loss: 0.0014 - accuracy: 1.0000 - val_loss: 0.0550 - val_accuracy: 0.9803 - 8s/epoch - 348ms/step\n",
      "Epoch 57/100\n",
      "23/23 - 8s - loss: 0.0013 - accuracy: 1.0000 - val_loss: 0.0470 - val_accuracy: 0.9859 - 8s/epoch - 349ms/step\n",
      "Epoch 58/100\n",
      "23/23 - 8s - loss: 0.0013 - accuracy: 1.0000 - val_loss: 0.0444 - val_accuracy: 0.9887 - 8s/epoch - 349ms/step\n",
      "Epoch 59/100\n",
      "23/23 - 8s - loss: 0.0012 - accuracy: 1.0000 - val_loss: 0.0435 - val_accuracy: 0.9887 - 8s/epoch - 349ms/step\n",
      "Epoch 60/100\n",
      "23/23 - 8s - loss: 0.0012 - accuracy: 1.0000 - val_loss: 0.0449 - val_accuracy: 0.9887 - 8s/epoch - 348ms/step\n",
      "Epoch 61/100\n",
      "23/23 - 8s - loss: 0.0012 - accuracy: 1.0000 - val_loss: 0.0464 - val_accuracy: 0.9887 - 8s/epoch - 349ms/step\n",
      "Epoch 62/100\n",
      "23/23 - 8s - loss: 0.0011 - accuracy: 1.0000 - val_loss: 0.0469 - val_accuracy: 0.9887 - 8s/epoch - 348ms/step\n",
      "Epoch 63/100\n",
      "23/23 - 8s - loss: 0.0011 - accuracy: 1.0000 - val_loss: 0.0479 - val_accuracy: 0.9887 - 8s/epoch - 348ms/step\n",
      "Epoch 64/100\n",
      "23/23 - 8s - loss: 0.0011 - accuracy: 1.0000 - val_loss: 0.0482 - val_accuracy: 0.9887 - 8s/epoch - 349ms/step\n",
      "Epoch 65/100\n",
      "23/23 - 8s - loss: 0.0011 - accuracy: 1.0000 - val_loss: 0.0500 - val_accuracy: 0.9887 - 8s/epoch - 349ms/step\n",
      "Epoch 66/100\n",
      "23/23 - 8s - loss: 0.0011 - accuracy: 1.0000 - val_loss: 0.0512 - val_accuracy: 0.9887 - 8s/epoch - 349ms/step\n"
     ]
    },
    {
     "name": "stdout",
     "output_type": "stream",
     "text": [
      "Epoch 67/100\n",
      "23/23 - 8s - loss: 0.0011 - accuracy: 1.0000 - val_loss: 0.0536 - val_accuracy: 0.9887 - 8s/epoch - 348ms/step\n",
      "Epoch 68/100\n",
      "23/23 - 8s - loss: 0.0011 - accuracy: 1.0000 - val_loss: 0.0538 - val_accuracy: 0.9887 - 8s/epoch - 348ms/step\n",
      "Epoch 69/100\n",
      "23/23 - 8s - loss: 9.4921e-04 - accuracy: 1.0000 - val_loss: 0.0549 - val_accuracy: 0.9887 - 8s/epoch - 349ms/step\n",
      "Epoch 70/100\n",
      "23/23 - 8s - loss: 9.4027e-04 - accuracy: 1.0000 - val_loss: 0.0559 - val_accuracy: 0.9887 - 8s/epoch - 349ms/step\n",
      "Epoch 71/100\n",
      "23/23 - 8s - loss: 9.3615e-04 - accuracy: 1.0000 - val_loss: 0.0555 - val_accuracy: 0.9887 - 8s/epoch - 349ms/step\n",
      "Epoch 72/100\n",
      "23/23 - 8s - loss: 9.1873e-04 - accuracy: 1.0000 - val_loss: 0.0547 - val_accuracy: 0.9887 - 8s/epoch - 349ms/step\n",
      "Epoch 73/100\n",
      "23/23 - 8s - loss: 9.0263e-04 - accuracy: 1.0000 - val_loss: 0.0553 - val_accuracy: 0.9887 - 8s/epoch - 349ms/step\n",
      "Epoch 74/100\n",
      "23/23 - 8s - loss: 8.5291e-04 - accuracy: 1.0000 - val_loss: 0.0546 - val_accuracy: 0.9887 - 8s/epoch - 349ms/step\n",
      "Epoch 75/100\n",
      "23/23 - 8s - loss: 8.6164e-04 - accuracy: 1.0000 - val_loss: 0.0548 - val_accuracy: 0.9887 - 8s/epoch - 349ms/step\n",
      "Epoch 76/100\n",
      "23/23 - 8s - loss: 8.1986e-04 - accuracy: 1.0000 - val_loss: 0.0575 - val_accuracy: 0.9887 - 8s/epoch - 349ms/step\n",
      "Epoch 77/100\n",
      "23/23 - 8s - loss: 8.2748e-04 - accuracy: 1.0000 - val_loss: 0.0586 - val_accuracy: 0.9887 - 8s/epoch - 348ms/step\n",
      "Epoch 78/100\n",
      "23/23 - 8s - loss: 8.3018e-04 - accuracy: 1.0000 - val_loss: 0.0583 - val_accuracy: 0.9887 - 8s/epoch - 349ms/step\n",
      "Epoch 79/100\n",
      "23/23 - 8s - loss: 7.9735e-04 - accuracy: 1.0000 - val_loss: 0.0605 - val_accuracy: 0.9887 - 8s/epoch - 349ms/step\n",
      "Epoch 80/100\n",
      "23/23 - 8s - loss: 7.9297e-04 - accuracy: 1.0000 - val_loss: 0.0593 - val_accuracy: 0.9887 - 8s/epoch - 349ms/step\n",
      "Epoch 81/100\n",
      "23/23 - 8s - loss: 7.7209e-04 - accuracy: 1.0000 - val_loss: 0.0583 - val_accuracy: 0.9887 - 8s/epoch - 349ms/step\n",
      "Epoch 82/100\n",
      "23/23 - 8s - loss: 7.7664e-04 - accuracy: 1.0000 - val_loss: 0.0610 - val_accuracy: 0.9887 - 8s/epoch - 349ms/step\n",
      "Epoch 83/100\n",
      "23/23 - 8s - loss: 7.2234e-04 - accuracy: 1.0000 - val_loss: 0.0597 - val_accuracy: 0.9887 - 8s/epoch - 349ms/step\n",
      "Epoch 84/100\n",
      "23/23 - 8s - loss: 7.4522e-04 - accuracy: 1.0000 - val_loss: 0.0596 - val_accuracy: 0.9887 - 8s/epoch - 349ms/step\n",
      "Epoch 85/100\n",
      "23/23 - 8s - loss: 7.3859e-04 - accuracy: 1.0000 - val_loss: 0.0607 - val_accuracy: 0.9887 - 8s/epoch - 349ms/step\n",
      "Epoch 86/100\n",
      "23/23 - 8s - loss: 7.7632e-04 - accuracy: 1.0000 - val_loss: 0.0619 - val_accuracy: 0.9887 - 8s/epoch - 348ms/step\n",
      "Epoch 87/100\n",
      "23/23 - 8s - loss: 7.0771e-04 - accuracy: 1.0000 - val_loss: 0.0624 - val_accuracy: 0.9887 - 8s/epoch - 348ms/step\n",
      "Epoch 88/100\n",
      "23/23 - 8s - loss: 6.9804e-04 - accuracy: 1.0000 - val_loss: 0.0619 - val_accuracy: 0.9887 - 8s/epoch - 349ms/step\n",
      "Epoch 89/100\n",
      "23/23 - 8s - loss: 7.3285e-04 - accuracy: 1.0000 - val_loss: 0.0636 - val_accuracy: 0.9887 - 8s/epoch - 349ms/step\n",
      "Epoch 90/100\n",
      "23/23 - 8s - loss: 6.5679e-04 - accuracy: 1.0000 - val_loss: 0.0638 - val_accuracy: 0.9887 - 8s/epoch - 348ms/step\n",
      "Epoch 91/100\n",
      "23/23 - 8s - loss: 6.9214e-04 - accuracy: 1.0000 - val_loss: 0.0654 - val_accuracy: 0.9887 - 8s/epoch - 348ms/step\n",
      "Epoch 92/100\n",
      "23/23 - 8s - loss: 6.8416e-04 - accuracy: 1.0000 - val_loss: 0.0642 - val_accuracy: 0.9887 - 8s/epoch - 348ms/step\n",
      "Epoch 93/100\n",
      "23/23 - 8s - loss: 7.2676e-04 - accuracy: 1.0000 - val_loss: 0.0645 - val_accuracy: 0.9887 - 8s/epoch - 349ms/step\n",
      "Epoch 94/100\n",
      "23/23 - 8s - loss: 6.8516e-04 - accuracy: 1.0000 - val_loss: 0.0658 - val_accuracy: 0.9887 - 8s/epoch - 348ms/step\n",
      "Epoch 95/100\n",
      "23/23 - 8s - loss: 6.7116e-04 - accuracy: 1.0000 - val_loss: 0.0635 - val_accuracy: 0.9887 - 8s/epoch - 349ms/step\n",
      "Epoch 96/100\n",
      "23/23 - 8s - loss: 6.3765e-04 - accuracy: 1.0000 - val_loss: 0.0630 - val_accuracy: 0.9887 - 8s/epoch - 349ms/step\n",
      "Epoch 97/100\n",
      "23/23 - 8s - loss: 6.4897e-04 - accuracy: 1.0000 - val_loss: 0.0647 - val_accuracy: 0.9887 - 8s/epoch - 349ms/step\n",
      "Epoch 98/100\n",
      "23/23 - 8s - loss: 6.0868e-04 - accuracy: 1.0000 - val_loss: 0.0638 - val_accuracy: 0.9887 - 8s/epoch - 349ms/step\n",
      "Epoch 99/100\n",
      "23/23 - 8s - loss: 6.2213e-04 - accuracy: 1.0000 - val_loss: 0.0645 - val_accuracy: 0.9887 - 8s/epoch - 349ms/step\n",
      "Epoch 100/100\n",
      "23/23 - 8s - loss: 6.0321e-04 - accuracy: 1.0000 - val_loss: 0.0631 - val_accuracy: 0.9887 - 8s/epoch - 349ms/step\n",
      "Accuracy Score =  0.9887323975563049\n",
      "accuracy: 99.15%\n"
     ]
    },
    {
     "name": "stderr",
     "output_type": "stream",
     "text": [
      "WARNING:absl:Found untraced functions such as _jit_compiled_convolution_op, _jit_compiled_convolution_op, _jit_compiled_convolution_op, _jit_compiled_convolution_op, _jit_compiled_convolution_op while saving (showing 5 of 55). These functions will not be directly callable after loading.\n"
     ]
    },
    {
     "name": "stdout",
     "output_type": "stream",
     "text": [
      "INFO:tensorflow:Assets written to: resnet50_100epochs_fractal_augmented_kfold_3.npy\\assets\n"
     ]
    },
    {
     "name": "stderr",
     "output_type": "stream",
     "text": [
      "INFO:tensorflow:Assets written to: resnet50_100epochs_fractal_augmented_kfold_3.npy\\assets\n"
     ]
    },
    {
     "data": {
      "image/png": "[encoded data removed]",
      "text/plain": [
       "<Figure size 1000x1000 with 2 Axes>"
      ]
     },
     "metadata": {},
     "output_type": "display_data"
    },
    {
     "data": {
      "image/png": "[encoded data removed]",
      "text/plain": [
       "<Figure size 1000x1000 with 2 Axes>"
      ]
     },
     "metadata": {},
     "output_type": "display_data"
    },
    {
     "data": {
      "image/png": "[encoded data removed]",
      "text/plain": [
       "<Figure size 1000x1000 with 2 Axes>"
      ]
     },
     "metadata": {},
     "output_type": "display_data"
    }
   ],
   "source": [
    "for train, test in kfold.split (data_x, data_y):\n",
    "    new_model = define_model()\n",
    "\n",
    "    new_model.compile(loss='sparse_categorical_crossentropy', metrics=['accuracy'], optimizer=adam)\n",
    "    history = new_model.fit(data_x[train], data_y[train],\n",
    "                                epochs=epochs,verbose=2,validation_data=(data_x[test], data_y[test]), shuffle=False)\n",
    "\n",
    "    new_model.history.history.keys()\n",
    "    f,ax=plt.subplots(2,1,figsize=(10,10)) \n",
    "\n",
    "    #Assigning the first subplot to graph training loss and validation loss\n",
    "    ax[0].plot(new_model.history.history['loss'],color='b',label='Training Loss')\n",
    "    ax[0].plot(new_model.history.history['val_loss'],color='r',label='Validation Loss')\n",
    "\n",
    "    #Plotting the training accuracy and validation accuracy\n",
    "    ax[1].plot(new_model.history.history['accuracy'],color='b',label='Training  Accuracy')\n",
    "    ax[1].plot(new_model.history.history['val_accuracy'],color='r',label='Validation Accuracy')\n",
    "\n",
    "    plt.legend()\n",
    "    print('Accuracy Score = ',np.max(history.history['val_accuracy']))\n",
    "\n",
    "    scores = new_model.evaluate(validation_x,validation_y,verbose=0)\n",
    "    print(\"%s: %.2f%%\" %(new_model.metrics_names[1],scores[1]*100))\n",
    "    cvscores.append(scores[1]*100)\n",
    "    \n",
    "    new_model.save(f'resnet50_100epochs_fractal_augmented_kfold_{str(num_kfold)}.npy')\n",
    "    all_models.append(new_model)\n",
    "    num_kfold = num_kfold + 1"
   ]
  },
  {
   "cell_type": "code",
   "execution_count": 16,
   "metadata": {},
   "outputs": [
    {
     "name": "stdout",
     "output_type": "stream",
     "text": [
      "98.87% (+/- 0.40%)\n"
     ]
    }
   ],
   "source": [
    "print(\"%.2f%% (+/- %.2f%%)\" %(np.mean(cvscores),np.std(cvscores)))"
   ]
  },
  {
   "cell_type": "markdown",
   "metadata": {},
   "source": [
    "**Random forest - flatting**"
   ]
  },
  {
   "cell_type": "code",
   "execution_count": 17,
   "metadata": {},
   "outputs": [
    {
     "name": "stdout",
     "output_type": "stream",
     "text": [
      "34/34 [==============================] - 4s 99ms/step\n",
      "4/4 [==============================] - 0s 89ms/step\n",
      "Accuracy: 0.9915254237288136\n",
      "34/34 [==============================] - 4s 86ms/step\n",
      "4/4 [==============================] - 0s 89ms/step\n",
      "Accuracy: 0.9915254237288136\n",
      "34/34 [==============================] - 4s 86ms/step\n",
      "4/4 [==============================] - 0s 90ms/step\n",
      "Accuracy: 0.9830508474576272\n"
     ]
    }
   ],
   "source": [
    "from sklearn.ensemble import RandomForestClassifier\n",
    "from sklearn import metrics\n",
    "cvscores_rf = []\n",
    "for new_model in all_models:\n",
    "    new_model_rf = keras.Model(inputs=new_model.input, outputs=new_model.get_layer(index=9).output)\n",
    "    featureVector = new_model_rf.predict(data_x)\n",
    "    featureVector2 = new_model_rf.predict(validation_x)\n",
    "    clf=RandomForestClassifier(n_estimators=100)\n",
    "    clf.fit(featureVector,data_y)\n",
    "    y_pred=clf.predict(featureVector2)\n",
    "    score = metrics.accuracy_score(validation_y, y_pred)\n",
    "    cvscores_rf.append(score)\n",
    "    print(\"Accuracy:\",score)"
   ]
  },
  {
   "cell_type": "code",
   "execution_count": 18,
   "metadata": {},
   "outputs": [
    {
     "name": "stdout",
     "output_type": "stream",
     "text": [
      "0.99% (+/- 0.00%)\n"
     ]
    }
   ],
   "source": [
    "print(\"%.2f%% (+/- %.2f%%)\" %(np.mean(cvscores_rf),np.std(cvscores_rf)))"
   ]
  },
  {
   "cell_type": "markdown",
   "metadata": {
    "id": "v2tUu9UW4S_S"
   },
   "source": [
    "# **Testes**"
   ]
  },
  {
   "cell_type": "code",
   "execution_count": 19,
   "metadata": {
    "id": "-02BWWgF4V9h"
   },
   "outputs": [
    {
     "ename": "NameError",
     "evalue": "name 'model_trained' is not defined",
     "output_type": "error",
     "traceback": [
      "\u001b[1;31m---------------------------------------------------------------------------\u001b[0m",
      "\u001b[1;31mNameError\u001b[0m                                 Traceback (most recent call last)",
      "Cell \u001b[1;32mIn[19], line 3\u001b[0m\n\u001b[0;32m      1\u001b[0m \u001b[38;5;28;01mimport\u001b[39;00m \u001b[38;5;21;01mmatplotlib\u001b[39;00m\u001b[38;5;21;01m.\u001b[39;00m\u001b[38;5;21;01mpyplot\u001b[39;00m \u001b[38;5;28;01mas\u001b[39;00m \u001b[38;5;21;01mplt\u001b[39;00m\n\u001b[1;32m----> 3\u001b[0m accuracy \u001b[38;5;241m=\u001b[39m \u001b[43mmodel_trained\u001b[49m\u001b[38;5;241m.\u001b[39mhistory[\u001b[38;5;124m'\u001b[39m\u001b[38;5;124macc\u001b[39m\u001b[38;5;124m'\u001b[39m]\n\u001b[0;32m      4\u001b[0m val_accuracy \u001b[38;5;241m=\u001b[39m model_trained\u001b[38;5;241m.\u001b[39mhistory[\u001b[38;5;124m'\u001b[39m\u001b[38;5;124mval_acc\u001b[39m\u001b[38;5;124m'\u001b[39m]\n\u001b[0;32m      5\u001b[0m loss \u001b[38;5;241m=\u001b[39m model_trained\u001b[38;5;241m.\u001b[39mhistory[\u001b[38;5;124m'\u001b[39m\u001b[38;5;124mloss\u001b[39m\u001b[38;5;124m'\u001b[39m]\n",
      "\u001b[1;31mNameError\u001b[0m: name 'model_trained' is not defined"
     ]
    }
   ],
   "source": [
    "import matplotlib.pyplot as plt\n",
    "\n",
    "accuracy = model_trained.history['acc']\n",
    "val_accuracy = model_trained.history['val_acc']\n",
    "loss = model_trained.history['loss']\n",
    "val_loss = model_trained.history['val_loss']\n",
    "epochs = range(len(accuracy))\n",
    "plt.plot(epochs, accuracy, 'b', label='Acurácia de treino')\n",
    "plt.plot(epochs, val_accuracy, 'g', label='Acurácia de validação')\n",
    "plt.title('Acurácia de treino e validação')\n",
    "plt.legend()\n",
    "plt.figure()\n",
    "plt.plot(epochs, loss, 'b', label='Perda no treino')\n",
    "plt.plot(epochs, val_loss, 'g', label='Perda na validação')\n",
    "plt.title('Perda na validação e treino')\n",
    "plt.legend()\n",
    "plt.show()"
   ]
  },
  {
   "cell_type": "code",
   "execution_count": null,
   "metadata": {
    "id": "On7_hNmrOysp"
   },
   "outputs": [],
   "source": [
    "#avalia a fase de teste\n",
    "\n",
    "model_loss, model_accuracy = new_model.evaluate(test_x, test_y, verbose=1)\n",
    "\n",
    "#mostra o resultado\n",
    "print('Test loss:', model_loss)\n",
    "print('Test accuracy:', model_accuracy)"
   ]
  },
  {
   "cell_type": "code",
   "execution_count": null,
   "metadata": {
    "id": "uGYRlhnq8wsF"
   },
   "outputs": [],
   "source": [
    "#faz a predição das imagens\n",
    "\n",
    "from tensorflow.keras.utils import to_categorical\n",
    "\n",
    "pred = new_model.predict(test_x, verbose=0)\n",
    "\n",
    "pred_probs = np.argmax(pred,axis=1)"
   ]
  },
  {
   "cell_type": "code",
   "execution_count": null,
   "metadata": {
    "id": "Vt4jZ2jB8ygE"
   },
   "outputs": [],
   "source": [
    "from sklearn.metrics import confusion_matrix\n",
    "from sklearn.metrics import classification_report\n",
    "from sklearn.metrics import accuracy_score\n",
    "from sklearn.metrics import f1_score"
   ]
  },
  {
   "cell_type": "code",
   "execution_count": null,
   "metadata": {
    "id": "9gx5yvuU84UC"
   },
   "outputs": [],
   "source": [
    "cm = confusion_matrix(test_y, pred_probs)"
   ]
  },
  {
   "cell_type": "code",
   "execution_count": null,
   "metadata": {
    "id": "NUrE8yfU86OL"
   },
   "outputs": [],
   "source": [
    "#gera os valores de falso positivo, falso negativo, verdadeiro positivo e verdadeiro negativo\n",
    "fp = cm.sum(axis=0) - np.diag(cm)  \n",
    "fn = cm.sum(axis=1) - np.diag(cm)\n",
    "tp = np.diag(cm)\n",
    "tn = cm.sum() - (fp + fn + tp)\n",
    "\n",
    "f1score = f1_score(test_y, pred_probs, average='weighted')\n",
    "sensitivity = tp / (tp + fn)\n",
    "specificity = tn / (tn + fp)\n",
    "accuracy    = (tp + tn) / (tp + tn + fp + fn)\n",
    "precision   = tp / (tp + fp)\n",
    "\n",
    "\n",
    "print(\"F1 Score:\", f1score)\n",
    "print(\"Sensitivity:\", sensitivity)\n",
    "print(\"Specificity:\", specificity)\n",
    "print(\"Precision:  \", precision)\n",
    "print(\"Accuracy:   \", accuracy)"
   ]
  },
  {
   "cell_type": "code",
   "execution_count": null,
   "metadata": {},
   "outputs": [],
   "source": []
  },
  {
   "cell_type": "code",
   "execution_count": null,
   "metadata": {},
   "outputs": [],
   "source": []
  }
 ],
 "metadata": {
  "colab": {
   "collapsed_sections": [],
   "name": "covid_alex_holdout_cropping_tgo.ipynb",
   "provenance": []
  },
  "kernelspec": {
   "display_name": "Python 3 (ipykernel)",
   "language": "python",
   "name": "python3"
  },
  "language_info": {
   "codemirror_mode": {
    "name": "ipython",
    "version": 3
   },
   "file_extension": ".py",
   "mimetype": "text/x-python",
   "name": "python",
   "nbconvert_exporter": "python",
   "pygments_lexer": "ipython3",
   "version": "3.9.17"
  }
 },
 "nbformat": 4,
 "nbformat_minor": 1
}
