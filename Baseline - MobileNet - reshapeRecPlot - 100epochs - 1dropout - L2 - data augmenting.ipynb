{
 "cells": [
  {
   "cell_type": "code",
   "execution_count": 1,
   "metadata": {
    "id": "on-xhn6xYqDo"
   },
   "outputs": [],
   "source": [
    "import tensorflow as tf\n",
    "from tensorflow import keras\n",
    "import matplotlib.pyplot as plt\n",
    "import os\n",
    "import time"
   ]
  },
  {
   "cell_type": "code",
   "execution_count": null,
   "metadata": {},
   "outputs": [],
   "source": []
  },
  {
   "cell_type": "code",
   "execution_count": 2,
   "metadata": {
    "id": "Zq5nydmlidrt"
   },
   "outputs": [],
   "source": [
    "import cv2\n",
    "import os\n",
    "from tqdm import tqdm\n",
    "import matplotlib.pyplot as plt\n",
    "import numpy as np\n",
    "import glob\n",
    "from tensorflow.keras.preprocessing.image import ImageDataGenerator\n",
    "from tensorflow.keras.applications import *\n",
    "from tensorflow.keras.layers import *\n",
    "from tensorflow.keras.models import *\n",
    "from tensorflow.keras.optimizers import Adam\n",
    "from tensorflow.keras.utils import to_categorical\n",
    "from sklearn.preprocessing import LabelEncoder\n",
    "from sklearn.metrics import *\n",
    "from tensorflow.keras.callbacks import *"
   ]
  },
  {
   "cell_type": "code",
   "execution_count": 3,
   "metadata": {},
   "outputs": [],
   "source": [
    "CLASS_NAMES= ['healthy', 'mild', 'moderate', 'severe']\n",
    "IMG_HEIGHT = 128\n",
    "IMG_WIDTH = 128\n",
    "CHANNELS = 3\n",
    "NUM_CLASSES = len(CLASS_NAMES)"
   ]
  },
  {
   "cell_type": "markdown",
   "metadata": {
    "id": "yfeZvMIEDOwS"
   },
   "source": [
    "# **ResNET**"
   ]
  },
  {
   "cell_type": "code",
   "execution_count": 4,
   "metadata": {
    "id": "98Cf8ZeSEbCU"
   },
   "outputs": [],
   "source": [
    "from sklearn.model_selection import train_test_split"
   ]
  },
  {
   "cell_type": "code",
   "execution_count": 5,
   "metadata": {},
   "outputs": [
    {
     "name": "stdout",
     "output_type": "stream",
     "text": [
      "TOTAL_IMAGES =  1184\n"
     ]
    }
   ],
   "source": [
    "#load data\n",
    "data_x = np.load('fractal_reshapeRecPlot_data_x_aumentated_normalized.npy') #images\n",
    "data_y = np.load('fractal_reshapeRecPlot_data_y_aumentated_normalized.npy') #labels\n",
    "TOTAL_IMAGES = len(data_y)\n",
    "print(\"TOTAL_IMAGES = \", TOTAL_IMAGES)"
   ]
  },
  {
   "cell_type": "code",
   "execution_count": 6,
   "metadata": {},
   "outputs": [],
   "source": [
    "# scale pixels\n",
    "def prep_pixels(train, test, validation):\n",
    "    # convert from integers to floats\n",
    "    train_norm = train.astype('float32')\n",
    "    test_norm = test.astype('float32')\n",
    "    validation_norm = validation.astype('float32')\n",
    "    # normalize to range 0-1\n",
    "    train_norm = train_norm / 255.0\n",
    "    test_norm = test_norm / 255.0\n",
    "    validation_norm = validation_norm / 255.0\n",
    "    # return normalized images\n",
    "    return train_norm, test_norm, validation_norm"
   ]
  },
  {
   "cell_type": "markdown",
   "metadata": {},
   "source": [
    "# **Splitting data in train - validation - test**"
   ]
  },
  {
   "cell_type": "code",
   "execution_count": 7,
   "metadata": {},
   "outputs": [],
   "source": [
    "#percentage of the dataset which will be on TRAIN - TEST - VALIDATION\n",
    "TRAIN_PERCENTAGE = 0.8\n",
    "TEST_PERCENTAGE = 0.1\n",
    "VALIDATION_PERCENTAGE = 0.1"
   ]
  },
  {
   "cell_type": "code",
   "execution_count": 8,
   "metadata": {},
   "outputs": [],
   "source": [
    "train_size = int(TRAIN_PERCENTAGE * TOTAL_IMAGES)\n",
    "test_size = int(TEST_PERCENTAGE * TOTAL_IMAGES)\n",
    "validation_size = int(VALIDATION_PERCENTAGE * TOTAL_IMAGES)"
   ]
  },
  {
   "cell_type": "code",
   "execution_count": 9,
   "metadata": {},
   "outputs": [],
   "source": [
    "train_x = data_x[:train_size]\n",
    "train_y = data_y[:train_size]\n",
    "data_x = data_x[train_size:]\n",
    "data_y = data_y[train_size:]\n",
    "\n",
    "test_x = data_x[:test_size]\n",
    "test_y = data_y[:test_size]\n",
    "data_x = data_x[test_size:]\n",
    "data_y = data_y[test_size:]\n",
    "\n",
    "validation_x = data_x #all the remainder we can let on validation\n",
    "validation_y = data_y\n",
    "del data_x\n",
    "del data_y"
   ]
  },
  {
   "cell_type": "code",
   "execution_count": 10,
   "metadata": {},
   "outputs": [
    {
     "name": "stdout",
     "output_type": "stream",
     "text": [
      "train_size =  947\n",
      "test_size =  118\n",
      "validation_size =  119\n"
     ]
    }
   ],
   "source": [
    "print(\"train_size = \", len(train_y))\n",
    "print(\"test_size = \", len(test_y))\n",
    "print(\"validation_size = \", len(validation_y))"
   ]
  },
  {
   "cell_type": "code",
   "execution_count": 11,
   "metadata": {},
   "outputs": [],
   "source": [
    "train_x, test_x, validation_x = prep_pixels(train_x, test_x, validation_x)"
   ]
  },
  {
   "cell_type": "code",
   "execution_count": 12,
   "metadata": {
    "id": "BiIjdq89J1uJ"
   },
   "outputs": [],
   "source": [
    "from tensorflow import keras\n",
    "from tensorflow.keras.models import Sequential\n",
    "from tensorflow.keras.layers import Dense, Activation, Dropout, Flatten, Conv2D, MaxPooling2D\n",
    "from tensorflow.keras.regularizers import l2\n",
    "from tensorflow.keras.regularizers import l1\n",
    "from tensorflow.keras.callbacks import EarlyStopping"
   ]
  },
  {
   "cell_type": "code",
   "execution_count": 13,
   "metadata": {
    "colab": {
     "base_uri": "https://localhost:8080/"
    },
    "id": "j0vHxhMjLyhJ",
    "outputId": "e5ec2803-8f76-4719-e279-27c52eb8d72d"
   },
   "outputs": [],
   "source": [
    "from tensorflow.keras import layers\n",
    "from tensorflow.keras.layers import Input, Add, Dense, Activation, ZeroPadding2D, BatchNormalization, Flatten, Conv2D, AveragePooling2D, MaxPooling2D, GlobalMaxPooling2D\n",
    "from tensorflow.keras.models import Model, load_model\n",
    "from tensorflow.keras.preprocessing import image\n",
    "from IPython.display import SVG\n",
    "import scipy.misc"
   ]
  },
  {
   "cell_type": "code",
   "execution_count": 14,
   "metadata": {},
   "outputs": [],
   "source": [
    "# from tensorflow.keras.applications import EfficientNetB0\n",
    "# from tensorflow.keras.applications import EfficientNetB1\n",
    "# from tensorflow.keras.applications import EfficientNetB2\n",
    "# from tensorflow.keras.applications import EfficientNetB3\n",
    "# from tensorflow.keras.applications import EfficientNetB4\n",
    "# from tensorflow.keras.applications import EfficientNetB5\n",
    "# from tensorflow.keras.applications import EfficientNetB6\n",
    "# from tensorflow.keras.applications import EfficientNetB7\n",
    "# from tensorflow.keras.applications import *"
   ]
  },
  {
   "cell_type": "code",
   "execution_count": 15,
   "metadata": {},
   "outputs": [
    {
     "name": "stderr",
     "output_type": "stream",
     "text": [
      "C:\\Users\\tmcle\\.conda\\envs\\tf\\lib\\site-packages\\keras\\backend.py:451: UserWarning: `tf.keras.backend.set_learning_phase` is deprecated and will be removed after 2020-10-11. To update it, simply pass a True/False value to the `training` argument of the `__call__` method of your layer or model.\n",
      "  warnings.warn(\n"
     ]
    }
   ],
   "source": [
    "import tensorflow.keras.backend as K\n",
    "K.set_image_data_format('channels_last')\n",
    "K.set_learning_phase(1)"
   ]
  },
  {
   "cell_type": "code",
   "execution_count": 16,
   "metadata": {},
   "outputs": [],
   "source": [
    "model = tf.keras.applications.MobileNet(\n",
    "    include_top=False,\n",
    "    weights=\"imagenet\",\n",
    "    input_tensor=None,\n",
    "    input_shape=(IMG_HEIGHT,IMG_WIDTH, CHANNELS),\n",
    "    pooling=None,\n",
    "    classes=NUM_CLASSES,\n",
    "   # classifier_activation=\"softmax\",\n",
    "#    **kwargs\n",
    ")"
   ]
  },
  {
   "cell_type": "code",
   "execution_count": 17,
   "metadata": {},
   "outputs": [
    {
     "name": "stderr",
     "output_type": "stream",
     "text": [
      "C:\\Users\\tmcle\\.conda\\envs\\tf\\lib\\site-packages\\keras\\optimizers\\optimizer_v2\\adam.py:114: UserWarning: The `lr` argument is deprecated, use `learning_rate` instead.\n",
      "  super().__init__(name, **kwargs)\n"
     ]
    }
   ],
   "source": [
    "from tensorflow.keras import models\n",
    "from tensorflow.keras import layers\n",
    "\n",
    "new_model = models.Sequential()\n",
    "new_model.add(model)\n",
    "#3rd conv layer\n",
    "new_model.add(tf.keras.layers.Conv2D(32, 3, padding=\"same\"))\n",
    "new_model.add(tf.keras.layers.BatchNormalization())\n",
    "new_model.add(tf.keras.layers.Activation(\"relu\"))\n",
    "new_model.add(tf.keras.layers.MaxPooling2D(2))\n",
    "#4th conv layer\n",
    "new_model.add(tf.keras.layers.Conv2D(64, 3, padding=\"same\"))\n",
    "new_model.add(tf.keras.layers.BatchNormalization())\n",
    "new_model.add(tf.keras.layers.Activation(\"relu\"))\n",
    "new_model.add(tf.keras.layers.MaxPooling2D(2))\n",
    "#Flatten Layer\n",
    "new_model.add(tf.keras.layers.Flatten())\n",
    "\n",
    "new_model.add(tf.keras.layers.Dense(128, kernel_regularizer =tf.keras.regularizers.l2( l=0.01)))\n",
    "new_model.add(tf.keras.layers.BatchNormalization())\n",
    "new_model.add(tf.keras.layers.Activation(\"relu\"))\n",
    "new_model.add(tf.keras.layers.Dropout(0.2))\n",
    "#new_model.add(tf.keras.layers.l2( l=0.01))\n",
    "#new_model.add(layers.GlobalAveragePooling2D())\n",
    "#output Dense Layer\n",
    "new_model.add(tf.keras.layers.Dense(NUM_CLASSES))\n",
    "new_model.add(tf.keras.layers.Activation('softmax'))\n",
    "adam = tf.keras.optimizers.Adam(lr=0.001)\n"
   ]
  },
  {
   "cell_type": "code",
   "execution_count": 18,
   "metadata": {},
   "outputs": [
    {
     "name": "stdout",
     "output_type": "stream",
     "text": [
      "Model: \"sequential\"\n",
      "_________________________________________________________________\n",
      " Layer (type)                Output Shape              Param #   \n",
      "=================================================================\n",
      " mobilenet_1.00_128 (Functio  (None, 4, 4, 1024)       3228864   \n",
      " nal)                                                            \n",
      "                                                                 \n",
      " conv2d (Conv2D)             (None, 4, 4, 32)          294944    \n",
      "                                                                 \n",
      " batch_normalization (BatchN  (None, 4, 4, 32)         128       \n",
      " ormalization)                                                   \n",
      "                                                                 \n",
      " activation (Activation)     (None, 4, 4, 32)          0         \n",
      "                                                                 \n",
      " max_pooling2d (MaxPooling2D  (None, 2, 2, 32)         0         \n",
      " )                                                               \n",
      "                                                                 \n",
      " conv2d_1 (Conv2D)           (None, 2, 2, 64)          18496     \n",
      "                                                                 \n",
      " batch_normalization_1 (Batc  (None, 2, 2, 64)         256       \n",
      " hNormalization)                                                 \n",
      "                                                                 \n",
      " activation_1 (Activation)   (None, 2, 2, 64)          0         \n",
      "                                                                 \n",
      " max_pooling2d_1 (MaxPooling  (None, 1, 1, 64)         0         \n",
      " 2D)                                                             \n",
      "                                                                 \n",
      " flatten (Flatten)           (None, 64)                0         \n",
      "                                                                 \n",
      " dense (Dense)               (None, 128)               8320      \n",
      "                                                                 \n",
      " batch_normalization_2 (Batc  (None, 128)              512       \n",
      " hNormalization)                                                 \n",
      "                                                                 \n",
      " activation_2 (Activation)   (None, 128)               0         \n",
      "                                                                 \n",
      " dropout (Dropout)           (None, 128)               0         \n",
      "                                                                 \n",
      " dense_1 (Dense)             (None, 4)                 516       \n",
      "                                                                 \n",
      " activation_3 (Activation)   (None, 4)                 0         \n",
      "                                                                 \n",
      "=================================================================\n",
      "Total params: 3,552,036\n",
      "Trainable params: 3,529,700\n",
      "Non-trainable params: 22,336\n",
      "_________________________________________________________________\n"
     ]
    }
   ],
   "source": [
    "new_model.summary()"
   ]
  },
  {
   "cell_type": "code",
   "execution_count": 19,
   "metadata": {},
   "outputs": [
    {
     "name": "stdout",
     "output_type": "stream",
     "text": [
      "Epoch 1/100\n",
      "30/30 - 11s - loss: 1.6934 - acc: 0.6230 - val_loss: 2.4918 - val_acc: 0.1849 - 11s/epoch - 357ms/step\n",
      "Epoch 2/100\n",
      "30/30 - 4s - loss: 1.0962 - acc: 0.8680 - val_loss: 2.1088 - val_acc: 0.2437 - 4s/epoch - 124ms/step\n",
      "Epoch 3/100\n",
      "30/30 - 4s - loss: 0.9181 - acc: 0.9018 - val_loss: 2.2591 - val_acc: 0.2437 - 4s/epoch - 125ms/step\n",
      "Epoch 4/100\n",
      "30/30 - 4s - loss: 0.7725 - acc: 0.9366 - val_loss: 2.6930 - val_acc: 0.2437 - 4s/epoch - 123ms/step\n",
      "Epoch 5/100\n",
      "30/30 - 4s - loss: 0.6398 - acc: 0.9504 - val_loss: 3.1432 - val_acc: 0.2437 - 4s/epoch - 123ms/step\n",
      "Epoch 6/100\n",
      "30/30 - 4s - loss: 0.5765 - acc: 0.9525 - val_loss: 2.7385 - val_acc: 0.2437 - 4s/epoch - 123ms/step\n",
      "Epoch 7/100\n",
      "30/30 - 4s - loss: 0.5039 - acc: 0.9556 - val_loss: 2.8018 - val_acc: 0.2437 - 4s/epoch - 124ms/step\n",
      "Epoch 8/100\n",
      "30/30 - 4s - loss: 0.4001 - acc: 0.9715 - val_loss: 2.5992 - val_acc: 0.2437 - 4s/epoch - 124ms/step\n",
      "Epoch 9/100\n",
      "30/30 - 4s - loss: 0.3499 - acc: 0.9725 - val_loss: 2.7709 - val_acc: 0.2437 - 4s/epoch - 124ms/step\n",
      "Epoch 10/100\n",
      "30/30 - 4s - loss: 0.2835 - acc: 0.9831 - val_loss: 3.3768 - val_acc: 0.2437 - 4s/epoch - 124ms/step\n",
      "Epoch 11/100\n",
      "30/30 - 4s - loss: 0.2437 - acc: 0.9852 - val_loss: 3.7297 - val_acc: 0.2437 - 4s/epoch - 123ms/step\n",
      "Epoch 12/100\n",
      "30/30 - 4s - loss: 0.2547 - acc: 0.9799 - val_loss: 3.1220 - val_acc: 0.2437 - 4s/epoch - 124ms/step\n",
      "Epoch 13/100\n",
      "30/30 - 4s - loss: 0.2569 - acc: 0.9704 - val_loss: 2.4501 - val_acc: 0.2521 - 4s/epoch - 125ms/step\n",
      "Epoch 14/100\n",
      "30/30 - 4s - loss: 0.1771 - acc: 0.9820 - val_loss: 3.8949 - val_acc: 0.2437 - 4s/epoch - 123ms/step\n",
      "Epoch 15/100\n",
      "30/30 - 4s - loss: 0.2353 - acc: 0.9567 - val_loss: 5.1724 - val_acc: 0.2437 - 4s/epoch - 123ms/step\n",
      "Epoch 16/100\n",
      "30/30 - 4s - loss: 0.1949 - acc: 0.9683 - val_loss: 2.5834 - val_acc: 0.3025 - 4s/epoch - 124ms/step\n",
      "Epoch 17/100\n",
      "30/30 - 4s - loss: 0.1994 - acc: 0.9662 - val_loss: 5.5461 - val_acc: 0.2437 - 4s/epoch - 123ms/step\n",
      "Epoch 18/100\n",
      "30/30 - 4s - loss: 0.1377 - acc: 0.9757 - val_loss: 5.4510 - val_acc: 0.3025 - 4s/epoch - 123ms/step\n",
      "Epoch 19/100\n",
      "30/30 - 4s - loss: 0.1586 - acc: 0.9630 - val_loss: 3.1701 - val_acc: 0.3361 - 4s/epoch - 123ms/step\n",
      "Epoch 20/100\n",
      "30/30 - 4s - loss: 0.1403 - acc: 0.9704 - val_loss: 7.1955 - val_acc: 0.3025 - 4s/epoch - 123ms/step\n",
      "Epoch 21/100\n",
      "30/30 - 4s - loss: 0.1663 - acc: 0.9652 - val_loss: 2.5178 - val_acc: 0.4622 - 4s/epoch - 123ms/step\n",
      "Epoch 22/100\n",
      "30/30 - 4s - loss: 0.1180 - acc: 0.9747 - val_loss: 5.0050 - val_acc: 0.2353 - 4s/epoch - 123ms/step\n",
      "Epoch 23/100\n",
      "30/30 - 4s - loss: 0.0750 - acc: 0.9894 - val_loss: 2.9747 - val_acc: 0.4286 - 4s/epoch - 123ms/step\n",
      "Epoch 24/100\n",
      "30/30 - 4s - loss: 0.0847 - acc: 0.9894 - val_loss: 3.9644 - val_acc: 0.4286 - 4s/epoch - 123ms/step\n",
      "Epoch 25/100\n",
      "30/30 - 4s - loss: 0.0667 - acc: 0.9884 - val_loss: 3.8553 - val_acc: 0.4958 - 4s/epoch - 125ms/step\n",
      "Epoch 26/100\n",
      "30/30 - 4s - loss: 0.0707 - acc: 0.9873 - val_loss: 3.3792 - val_acc: 0.4622 - 4s/epoch - 124ms/step\n",
      "Epoch 27/100\n",
      "30/30 - 4s - loss: 0.0536 - acc: 0.9937 - val_loss: 3.3890 - val_acc: 0.5294 - 4s/epoch - 123ms/step\n",
      "Epoch 28/100\n",
      "30/30 - 4s - loss: 0.0374 - acc: 0.9958 - val_loss: 2.0481 - val_acc: 0.5966 - 4s/epoch - 123ms/step\n",
      "Epoch 29/100\n",
      "30/30 - 4s - loss: 0.0337 - acc: 0.9947 - val_loss: 0.1947 - val_acc: 0.9412 - 4s/epoch - 123ms/step\n",
      "Epoch 30/100\n",
      "30/30 - 4s - loss: 0.0351 - acc: 0.9937 - val_loss: 0.8032 - val_acc: 0.7227 - 4s/epoch - 125ms/step\n",
      "Epoch 31/100\n",
      "30/30 - 4s - loss: 0.0186 - acc: 0.9989 - val_loss: 0.3859 - val_acc: 0.8655 - 4s/epoch - 124ms/step\n",
      "Epoch 32/100\n",
      "30/30 - 4s - loss: 0.0123 - acc: 1.0000 - val_loss: 0.1531 - val_acc: 0.9748 - 4s/epoch - 124ms/step\n",
      "Epoch 33/100\n",
      "30/30 - 4s - loss: 0.0102 - acc: 1.0000 - val_loss: 0.0890 - val_acc: 0.9832 - 4s/epoch - 125ms/step\n",
      "Epoch 34/100\n",
      "30/30 - 4s - loss: 0.0086 - acc: 1.0000 - val_loss: 0.0576 - val_acc: 0.9832 - 4s/epoch - 124ms/step\n",
      "Epoch 35/100\n",
      "30/30 - 4s - loss: 0.0071 - acc: 1.0000 - val_loss: 0.0422 - val_acc: 0.9916 - 4s/epoch - 122ms/step\n",
      "Epoch 36/100\n",
      "30/30 - 4s - loss: 0.0060 - acc: 1.0000 - val_loss: 0.0316 - val_acc: 0.9916 - 4s/epoch - 123ms/step\n",
      "Epoch 37/100\n",
      "30/30 - 4s - loss: 0.0051 - acc: 1.0000 - val_loss: 0.0254 - val_acc: 1.0000 - 4s/epoch - 123ms/step\n",
      "Epoch 38/100\n",
      "30/30 - 4s - loss: 0.0043 - acc: 1.0000 - val_loss: 0.0213 - val_acc: 1.0000 - 4s/epoch - 123ms/step\n",
      "Epoch 39/100\n",
      "30/30 - 4s - loss: 0.0037 - acc: 1.0000 - val_loss: 0.0174 - val_acc: 1.0000 - 4s/epoch - 123ms/step\n",
      "Epoch 40/100\n",
      "30/30 - 4s - loss: 0.0032 - acc: 1.0000 - val_loss: 0.0141 - val_acc: 1.0000 - 4s/epoch - 123ms/step\n",
      "Epoch 41/100\n",
      "30/30 - 4s - loss: 0.0028 - acc: 1.0000 - val_loss: 0.0121 - val_acc: 1.0000 - 4s/epoch - 123ms/step\n",
      "Epoch 42/100\n",
      "30/30 - 4s - loss: 0.0024 - acc: 1.0000 - val_loss: 0.0099 - val_acc: 1.0000 - 4s/epoch - 122ms/step\n",
      "Epoch 43/100\n",
      "30/30 - 4s - loss: 0.0022 - acc: 1.0000 - val_loss: 0.0080 - val_acc: 1.0000 - 4s/epoch - 123ms/step\n",
      "Epoch 44/100\n",
      "30/30 - 4s - loss: 0.0020 - acc: 1.0000 - val_loss: 0.0069 - val_acc: 1.0000 - 4s/epoch - 123ms/step\n",
      "Epoch 45/100\n",
      "30/30 - 4s - loss: 0.0017 - acc: 1.0000 - val_loss: 0.0063 - val_acc: 1.0000 - 4s/epoch - 122ms/step\n",
      "Epoch 46/100\n",
      "30/30 - 4s - loss: 0.0016 - acc: 1.0000 - val_loss: 0.0058 - val_acc: 1.0000 - 4s/epoch - 123ms/step\n",
      "Epoch 47/100\n",
      "30/30 - 4s - loss: 0.0015 - acc: 1.0000 - val_loss: 0.0051 - val_acc: 1.0000 - 4s/epoch - 122ms/step\n",
      "Epoch 48/100\n",
      "30/30 - 4s - loss: 0.0014 - acc: 1.0000 - val_loss: 0.0050 - val_acc: 1.0000 - 4s/epoch - 123ms/step\n",
      "Epoch 49/100\n",
      "30/30 - 4s - loss: 0.0012 - acc: 1.0000 - val_loss: 0.0054 - val_acc: 1.0000 - 4s/epoch - 122ms/step\n",
      "Epoch 50/100\n",
      "30/30 - 4s - loss: 0.0011 - acc: 1.0000 - val_loss: 0.0052 - val_acc: 1.0000 - 4s/epoch - 122ms/step\n",
      "Epoch 51/100\n",
      "30/30 - 4s - loss: 0.0011 - acc: 1.0000 - val_loss: 0.0049 - val_acc: 1.0000 - 4s/epoch - 122ms/step\n",
      "Epoch 52/100\n",
      "30/30 - 4s - loss: 0.0011 - acc: 1.0000 - val_loss: 0.0049 - val_acc: 1.0000 - 4s/epoch - 122ms/step\n",
      "Epoch 53/100\n",
      "30/30 - 4s - loss: 9.9333e-04 - acc: 1.0000 - val_loss: 0.0052 - val_acc: 1.0000 - 4s/epoch - 122ms/step\n",
      "Epoch 54/100\n",
      "30/30 - 4s - loss: 9.7131e-04 - acc: 1.0000 - val_loss: 0.0053 - val_acc: 1.0000 - 4s/epoch - 123ms/step\n",
      "Epoch 55/100\n",
      "30/30 - 4s - loss: 9.5216e-04 - acc: 1.0000 - val_loss: 0.0049 - val_acc: 1.0000 - 4s/epoch - 127ms/step\n",
      "Epoch 56/100\n",
      "30/30 - 4s - loss: 9.2442e-04 - acc: 1.0000 - val_loss: 0.0056 - val_acc: 1.0000 - 4s/epoch - 124ms/step\n",
      "Epoch 57/100\n",
      "30/30 - 4s - loss: 8.8196e-04 - acc: 1.0000 - val_loss: 0.0054 - val_acc: 1.0000 - 4s/epoch - 123ms/step\n",
      "Epoch 58/100\n",
      "30/30 - 4s - loss: 8.5368e-04 - acc: 1.0000 - val_loss: 0.0053 - val_acc: 1.0000 - 4s/epoch - 122ms/step\n",
      "Epoch 59/100\n",
      "30/30 - 4s - loss: 7.8914e-04 - acc: 1.0000 - val_loss: 0.0050 - val_acc: 1.0000 - 4s/epoch - 123ms/step\n",
      "Epoch 60/100\n",
      "30/30 - 4s - loss: 7.9475e-04 - acc: 1.0000 - val_loss: 0.0051 - val_acc: 1.0000 - 4s/epoch - 122ms/step\n",
      "Epoch 61/100\n",
      "30/30 - 4s - loss: 7.5991e-04 - acc: 1.0000 - val_loss: 0.0053 - val_acc: 1.0000 - 4s/epoch - 128ms/step\n",
      "Epoch 62/100\n",
      "30/30 - 4s - loss: 7.7831e-04 - acc: 1.0000 - val_loss: 0.0057 - val_acc: 1.0000 - 4s/epoch - 124ms/step\n",
      "Epoch 63/100\n",
      "30/30 - 4s - loss: 7.2775e-04 - acc: 1.0000 - val_loss: 0.0052 - val_acc: 1.0000 - 4s/epoch - 124ms/step\n",
      "Epoch 64/100\n",
      "30/30 - 4s - loss: 7.2167e-04 - acc: 1.0000 - val_loss: 0.0056 - val_acc: 1.0000 - 4s/epoch - 124ms/step\n",
      "Epoch 65/100\n",
      "30/30 - 4s - loss: 6.9596e-04 - acc: 1.0000 - val_loss: 0.0054 - val_acc: 1.0000 - 4s/epoch - 124ms/step\n",
      "Epoch 66/100\n",
      "30/30 - 4s - loss: 7.2463e-04 - acc: 1.0000 - val_loss: 0.0056 - val_acc: 1.0000 - 4s/epoch - 124ms/step\n",
      "Epoch 67/100\n",
      "30/30 - 4s - loss: 6.4854e-04 - acc: 1.0000 - val_loss: 0.0062 - val_acc: 1.0000 - 4s/epoch - 124ms/step\n",
      "Epoch 68/100\n",
      "30/30 - 4s - loss: 6.9022e-04 - acc: 1.0000 - val_loss: 0.0058 - val_acc: 1.0000 - 4s/epoch - 124ms/step\n",
      "Epoch 69/100\n",
      "30/30 - 4s - loss: 6.6993e-04 - acc: 1.0000 - val_loss: 0.0060 - val_acc: 1.0000 - 4s/epoch - 124ms/step\n",
      "Epoch 70/100\n",
      "30/30 - 4s - loss: 6.6041e-04 - acc: 1.0000 - val_loss: 0.0062 - val_acc: 1.0000 - 4s/epoch - 124ms/step\n",
      "Epoch 71/100\n",
      "30/30 - 4s - loss: 6.5164e-04 - acc: 1.0000 - val_loss: 0.0055 - val_acc: 1.0000 - 4s/epoch - 124ms/step\n",
      "Epoch 72/100\n",
      "30/30 - 4s - loss: 6.3239e-04 - acc: 1.0000 - val_loss: 0.0051 - val_acc: 1.0000 - 4s/epoch - 124ms/step\n"
     ]
    },
    {
     "name": "stdout",
     "output_type": "stream",
     "text": [
      "Epoch 73/100\n",
      "30/30 - 4s - loss: 6.1036e-04 - acc: 1.0000 - val_loss: 0.0052 - val_acc: 1.0000 - 4s/epoch - 124ms/step\n",
      "Epoch 74/100\n",
      "30/30 - 4s - loss: 5.8118e-04 - acc: 1.0000 - val_loss: 0.0057 - val_acc: 1.0000 - 4s/epoch - 124ms/step\n",
      "Epoch 75/100\n",
      "30/30 - 4s - loss: 6.0471e-04 - acc: 1.0000 - val_loss: 0.0060 - val_acc: 1.0000 - 4s/epoch - 124ms/step\n",
      "Epoch 76/100\n",
      "30/30 - 4s - loss: 5.7402e-04 - acc: 1.0000 - val_loss: 0.0055 - val_acc: 1.0000 - 4s/epoch - 124ms/step\n",
      "Epoch 77/100\n",
      "30/30 - 4s - loss: 5.6110e-04 - acc: 1.0000 - val_loss: 0.0062 - val_acc: 1.0000 - 4s/epoch - 124ms/step\n",
      "Epoch 78/100\n",
      "30/30 - 4s - loss: 6.0329e-04 - acc: 1.0000 - val_loss: 0.0073 - val_acc: 1.0000 - 4s/epoch - 124ms/step\n",
      "Epoch 79/100\n",
      "30/30 - 4s - loss: 5.5179e-04 - acc: 1.0000 - val_loss: 0.0061 - val_acc: 1.0000 - 4s/epoch - 124ms/step\n",
      "Epoch 80/100\n",
      "30/30 - 4s - loss: 5.5899e-04 - acc: 1.0000 - val_loss: 0.0065 - val_acc: 1.0000 - 4s/epoch - 124ms/step\n",
      "Epoch 81/100\n",
      "30/30 - 4s - loss: 5.2858e-04 - acc: 1.0000 - val_loss: 0.0059 - val_acc: 1.0000 - 4s/epoch - 124ms/step\n",
      "Epoch 82/100\n",
      "30/30 - 4s - loss: 5.6267e-04 - acc: 1.0000 - val_loss: 0.0062 - val_acc: 1.0000 - 4s/epoch - 124ms/step\n",
      "Epoch 83/100\n",
      "30/30 - 4s - loss: 5.3367e-04 - acc: 1.0000 - val_loss: 0.0058 - val_acc: 1.0000 - 4s/epoch - 123ms/step\n",
      "Epoch 84/100\n",
      "30/30 - 4s - loss: 5.3490e-04 - acc: 1.0000 - val_loss: 0.0065 - val_acc: 1.0000 - 4s/epoch - 124ms/step\n",
      "Epoch 85/100\n",
      "30/30 - 4s - loss: 5.1533e-04 - acc: 1.0000 - val_loss: 0.0058 - val_acc: 1.0000 - 4s/epoch - 124ms/step\n",
      "Epoch 86/100\n",
      "30/30 - 4s - loss: 4.9934e-04 - acc: 1.0000 - val_loss: 0.0056 - val_acc: 1.0000 - 4s/epoch - 124ms/step\n",
      "Epoch 87/100\n",
      "30/30 - 4s - loss: 4.9006e-04 - acc: 1.0000 - val_loss: 0.0060 - val_acc: 1.0000 - 4s/epoch - 124ms/step\n",
      "Epoch 88/100\n",
      "30/30 - 4s - loss: 4.9831e-04 - acc: 1.0000 - val_loss: 0.0058 - val_acc: 1.0000 - 4s/epoch - 124ms/step\n",
      "Epoch 89/100\n",
      "30/30 - 4s - loss: 4.8494e-04 - acc: 1.0000 - val_loss: 0.0064 - val_acc: 1.0000 - 4s/epoch - 124ms/step\n",
      "Epoch 90/100\n",
      "30/30 - 4s - loss: 4.9324e-04 - acc: 1.0000 - val_loss: 0.0065 - val_acc: 1.0000 - 4s/epoch - 124ms/step\n",
      "Epoch 91/100\n",
      "30/30 - 4s - loss: 4.5911e-04 - acc: 1.0000 - val_loss: 0.0057 - val_acc: 1.0000 - 4s/epoch - 124ms/step\n",
      "Epoch 92/100\n",
      "30/30 - 4s - loss: 4.5011e-04 - acc: 1.0000 - val_loss: 0.0064 - val_acc: 1.0000 - 4s/epoch - 124ms/step\n",
      "Epoch 93/100\n",
      "30/30 - 4s - loss: 4.7308e-04 - acc: 1.0000 - val_loss: 0.0053 - val_acc: 1.0000 - 4s/epoch - 124ms/step\n",
      "Epoch 94/100\n",
      "30/30 - 4s - loss: 4.5539e-04 - acc: 1.0000 - val_loss: 0.0050 - val_acc: 1.0000 - 4s/epoch - 124ms/step\n",
      "Epoch 95/100\n",
      "30/30 - 4s - loss: 4.2070e-04 - acc: 1.0000 - val_loss: 0.0058 - val_acc: 1.0000 - 4s/epoch - 124ms/step\n",
      "Epoch 96/100\n",
      "30/30 - 4s - loss: 4.4051e-04 - acc: 1.0000 - val_loss: 0.0063 - val_acc: 1.0000 - 4s/epoch - 123ms/step\n",
      "Epoch 97/100\n",
      "30/30 - 4s - loss: 4.2955e-04 - acc: 1.0000 - val_loss: 0.0066 - val_acc: 1.0000 - 4s/epoch - 125ms/step\n",
      "Epoch 98/100\n",
      "30/30 - 4s - loss: 4.4615e-04 - acc: 1.0000 - val_loss: 0.0054 - val_acc: 1.0000 - 4s/epoch - 124ms/step\n",
      "Epoch 99/100\n",
      "30/30 - 4s - loss: 4.1709e-04 - acc: 1.0000 - val_loss: 0.0062 - val_acc: 1.0000 - 4s/epoch - 124ms/step\n",
      "Epoch 100/100\n",
      "30/30 - 4s - loss: 4.3201e-04 - acc: 1.0000 - val_loss: 0.0066 - val_acc: 1.0000 - 4s/epoch - 123ms/step\n"
     ]
    }
   ],
   "source": [
    "epochs = 100\n",
    "\n",
    "#compila e treina o modelo com os dados carregados\n",
    "new_model.compile(loss='sparse_categorical_crossentropy', metrics=['acc'], optimizer=adam)\n",
    "model_trained = new_model.fit(train_x, train_y,epochs=epochs,verbose=2,validation_data=(validation_x, validation_y),shuffle=False)"
   ]
  },
  {
   "cell_type": "code",
   "execution_count": 20,
   "metadata": {},
   "outputs": [
    {
     "name": "stdout",
     "output_type": "stream",
     "text": [
      "Model: \"mobilenet_1.00_128\"\n",
      "_________________________________________________________________\n",
      " Layer (type)                Output Shape              Param #   \n",
      "=================================================================\n",
      " input_1 (InputLayer)        [(None, 128, 128, 3)]     0         \n",
      "                                                                 \n",
      " conv1 (Conv2D)              (None, 64, 64, 32)        864       \n",
      "                                                                 \n",
      " conv1_bn (BatchNormalizatio  (None, 64, 64, 32)       128       \n",
      " n)                                                              \n",
      "                                                                 \n",
      " conv1_relu (ReLU)           (None, 64, 64, 32)        0         \n",
      "                                                                 \n",
      " conv_dw_1 (DepthwiseConv2D)  (None, 64, 64, 32)       288       \n",
      "                                                                 \n",
      " conv_dw_1_bn (BatchNormaliz  (None, 64, 64, 32)       128       \n",
      " ation)                                                          \n",
      "                                                                 \n",
      " conv_dw_1_relu (ReLU)       (None, 64, 64, 32)        0         \n",
      "                                                                 \n",
      " conv_pw_1 (Conv2D)          (None, 64, 64, 64)        2048      \n",
      "                                                                 \n",
      " conv_pw_1_bn (BatchNormaliz  (None, 64, 64, 64)       256       \n",
      " ation)                                                          \n",
      "                                                                 \n",
      " conv_pw_1_relu (ReLU)       (None, 64, 64, 64)        0         \n",
      "                                                                 \n",
      " conv_pad_2 (ZeroPadding2D)  (None, 65, 65, 64)        0         \n",
      "                                                                 \n",
      " conv_dw_2 (DepthwiseConv2D)  (None, 32, 32, 64)       576       \n",
      "                                                                 \n",
      " conv_dw_2_bn (BatchNormaliz  (None, 32, 32, 64)       256       \n",
      " ation)                                                          \n",
      "                                                                 \n",
      " conv_dw_2_relu (ReLU)       (None, 32, 32, 64)        0         \n",
      "                                                                 \n",
      " conv_pw_2 (Conv2D)          (None, 32, 32, 128)       8192      \n",
      "                                                                 \n",
      " conv_pw_2_bn (BatchNormaliz  (None, 32, 32, 128)      512       \n",
      " ation)                                                          \n",
      "                                                                 \n",
      " conv_pw_2_relu (ReLU)       (None, 32, 32, 128)       0         \n",
      "                                                                 \n",
      " conv_dw_3 (DepthwiseConv2D)  (None, 32, 32, 128)      1152      \n",
      "                                                                 \n",
      " conv_dw_3_bn (BatchNormaliz  (None, 32, 32, 128)      512       \n",
      " ation)                                                          \n",
      "                                                                 \n",
      " conv_dw_3_relu (ReLU)       (None, 32, 32, 128)       0         \n",
      "                                                                 \n",
      " conv_pw_3 (Conv2D)          (None, 32, 32, 128)       16384     \n",
      "                                                                 \n",
      " conv_pw_3_bn (BatchNormaliz  (None, 32, 32, 128)      512       \n",
      " ation)                                                          \n",
      "                                                                 \n",
      " conv_pw_3_relu (ReLU)       (None, 32, 32, 128)       0         \n",
      "                                                                 \n",
      " conv_pad_4 (ZeroPadding2D)  (None, 33, 33, 128)       0         \n",
      "                                                                 \n",
      " conv_dw_4 (DepthwiseConv2D)  (None, 16, 16, 128)      1152      \n",
      "                                                                 \n",
      " conv_dw_4_bn (BatchNormaliz  (None, 16, 16, 128)      512       \n",
      " ation)                                                          \n",
      "                                                                 \n",
      " conv_dw_4_relu (ReLU)       (None, 16, 16, 128)       0         \n",
      "                                                                 \n",
      " conv_pw_4 (Conv2D)          (None, 16, 16, 256)       32768     \n",
      "                                                                 \n",
      " conv_pw_4_bn (BatchNormaliz  (None, 16, 16, 256)      1024      \n",
      " ation)                                                          \n",
      "                                                                 \n",
      " conv_pw_4_relu (ReLU)       (None, 16, 16, 256)       0         \n",
      "                                                                 \n",
      " conv_dw_5 (DepthwiseConv2D)  (None, 16, 16, 256)      2304      \n",
      "                                                                 \n",
      " conv_dw_5_bn (BatchNormaliz  (None, 16, 16, 256)      1024      \n",
      " ation)                                                          \n",
      "                                                                 \n",
      " conv_dw_5_relu (ReLU)       (None, 16, 16, 256)       0         \n",
      "                                                                 \n",
      " conv_pw_5 (Conv2D)          (None, 16, 16, 256)       65536     \n",
      "                                                                 \n",
      " conv_pw_5_bn (BatchNormaliz  (None, 16, 16, 256)      1024      \n",
      " ation)                                                          \n",
      "                                                                 \n",
      " conv_pw_5_relu (ReLU)       (None, 16, 16, 256)       0         \n",
      "                                                                 \n",
      " conv_pad_6 (ZeroPadding2D)  (None, 17, 17, 256)       0         \n",
      "                                                                 \n",
      " conv_dw_6 (DepthwiseConv2D)  (None, 8, 8, 256)        2304      \n",
      "                                                                 \n",
      " conv_dw_6_bn (BatchNormaliz  (None, 8, 8, 256)        1024      \n",
      " ation)                                                          \n",
      "                                                                 \n",
      " conv_dw_6_relu (ReLU)       (None, 8, 8, 256)         0         \n",
      "                                                                 \n",
      " conv_pw_6 (Conv2D)          (None, 8, 8, 512)         131072    \n",
      "                                                                 \n",
      " conv_pw_6_bn (BatchNormaliz  (None, 8, 8, 512)        2048      \n",
      " ation)                                                          \n",
      "                                                                 \n",
      " conv_pw_6_relu (ReLU)       (None, 8, 8, 512)         0         \n",
      "                                                                 \n",
      " conv_dw_7 (DepthwiseConv2D)  (None, 8, 8, 512)        4608      \n",
      "                                                                 \n",
      " conv_dw_7_bn (BatchNormaliz  (None, 8, 8, 512)        2048      \n",
      " ation)                                                          \n",
      "                                                                 \n",
      " conv_dw_7_relu (ReLU)       (None, 8, 8, 512)         0         \n",
      "                                                                 \n",
      " conv_pw_7 (Conv2D)          (None, 8, 8, 512)         262144    \n",
      "                                                                 \n",
      " conv_pw_7_bn (BatchNormaliz  (None, 8, 8, 512)        2048      \n",
      " ation)                                                          \n",
      "                                                                 \n",
      " conv_pw_7_relu (ReLU)       (None, 8, 8, 512)         0         \n",
      "                                                                 \n",
      " conv_dw_8 (DepthwiseConv2D)  (None, 8, 8, 512)        4608      \n",
      "                                                                 \n",
      " conv_dw_8_bn (BatchNormaliz  (None, 8, 8, 512)        2048      \n",
      " ation)                                                          \n",
      "                                                                 \n",
      " conv_dw_8_relu (ReLU)       (None, 8, 8, 512)         0         \n",
      "                                                                 \n",
      " conv_pw_8 (Conv2D)          (None, 8, 8, 512)         262144    \n"
     ]
    },
    {
     "name": "stdout",
     "output_type": "stream",
     "text": [
      "                                                                 \n",
      " conv_pw_8_bn (BatchNormaliz  (None, 8, 8, 512)        2048      \n",
      " ation)                                                          \n",
      "                                                                 \n",
      " conv_pw_8_relu (ReLU)       (None, 8, 8, 512)         0         \n",
      "                                                                 \n",
      " conv_dw_9 (DepthwiseConv2D)  (None, 8, 8, 512)        4608      \n",
      "                                                                 \n",
      " conv_dw_9_bn (BatchNormaliz  (None, 8, 8, 512)        2048      \n",
      " ation)                                                          \n",
      "                                                                 \n",
      " conv_dw_9_relu (ReLU)       (None, 8, 8, 512)         0         \n",
      "                                                                 \n",
      " conv_pw_9 (Conv2D)          (None, 8, 8, 512)         262144    \n",
      "                                                                 \n",
      " conv_pw_9_bn (BatchNormaliz  (None, 8, 8, 512)        2048      \n",
      " ation)                                                          \n",
      "                                                                 \n",
      " conv_pw_9_relu (ReLU)       (None, 8, 8, 512)         0         \n",
      "                                                                 \n",
      " conv_dw_10 (DepthwiseConv2D  (None, 8, 8, 512)        4608      \n",
      " )                                                               \n",
      "                                                                 \n",
      " conv_dw_10_bn (BatchNormali  (None, 8, 8, 512)        2048      \n",
      " zation)                                                         \n",
      "                                                                 \n",
      " conv_dw_10_relu (ReLU)      (None, 8, 8, 512)         0         \n",
      "                                                                 \n",
      " conv_pw_10 (Conv2D)         (None, 8, 8, 512)         262144    \n",
      "                                                                 \n",
      " conv_pw_10_bn (BatchNormali  (None, 8, 8, 512)        2048      \n",
      " zation)                                                         \n",
      "                                                                 \n",
      " conv_pw_10_relu (ReLU)      (None, 8, 8, 512)         0         \n",
      "                                                                 \n",
      " conv_dw_11 (DepthwiseConv2D  (None, 8, 8, 512)        4608      \n",
      " )                                                               \n",
      "                                                                 \n",
      " conv_dw_11_bn (BatchNormali  (None, 8, 8, 512)        2048      \n",
      " zation)                                                         \n",
      "                                                                 \n",
      " conv_dw_11_relu (ReLU)      (None, 8, 8, 512)         0         \n",
      "                                                                 \n",
      " conv_pw_11 (Conv2D)         (None, 8, 8, 512)         262144    \n",
      "                                                                 \n",
      " conv_pw_11_bn (BatchNormali  (None, 8, 8, 512)        2048      \n",
      " zation)                                                         \n",
      "                                                                 \n",
      " conv_pw_11_relu (ReLU)      (None, 8, 8, 512)         0         \n",
      "                                                                 \n",
      " conv_pad_12 (ZeroPadding2D)  (None, 9, 9, 512)        0         \n",
      "                                                                 \n",
      " conv_dw_12 (DepthwiseConv2D  (None, 4, 4, 512)        4608      \n",
      " )                                                               \n",
      "                                                                 \n",
      " conv_dw_12_bn (BatchNormali  (None, 4, 4, 512)        2048      \n",
      " zation)                                                         \n",
      "                                                                 \n",
      " conv_dw_12_relu (ReLU)      (None, 4, 4, 512)         0         \n",
      "                                                                 \n",
      " conv_pw_12 (Conv2D)         (None, 4, 4, 1024)        524288    \n",
      "                                                                 \n",
      " conv_pw_12_bn (BatchNormali  (None, 4, 4, 1024)       4096      \n",
      " zation)                                                         \n",
      "                                                                 \n",
      " conv_pw_12_relu (ReLU)      (None, 4, 4, 1024)        0         \n",
      "                                                                 \n",
      " conv_dw_13 (DepthwiseConv2D  (None, 4, 4, 1024)       9216      \n",
      " )                                                               \n",
      "                                                                 \n",
      " conv_dw_13_bn (BatchNormali  (None, 4, 4, 1024)       4096      \n",
      " zation)                                                         \n",
      "                                                                 \n",
      " conv_dw_13_relu (ReLU)      (None, 4, 4, 1024)        0         \n",
      "                                                                 \n",
      " conv_pw_13 (Conv2D)         (None, 4, 4, 1024)        1048576   \n",
      "                                                                 \n",
      " conv_pw_13_bn (BatchNormali  (None, 4, 4, 1024)       4096      \n",
      " zation)                                                         \n",
      "                                                                 \n",
      " conv_pw_13_relu (ReLU)      (None, 4, 4, 1024)        0         \n",
      "                                                                 \n",
      "=================================================================\n",
      "Total params: 3,228,864\n",
      "Trainable params: 3,206,976\n",
      "Non-trainable params: 21,888\n",
      "_________________________________________________________________\n"
     ]
    }
   ],
   "source": [
    "model.summary()"
   ]
  },
  {
   "cell_type": "code",
   "execution_count": 21,
   "metadata": {},
   "outputs": [],
   "source": [
    "def getLayerIndexByName(model, layername):\n",
    "    for idx, layer in enumerate(model.layers):\n",
    "        if layer.name == layername:\n",
    "            return idx"
   ]
  },
  {
   "cell_type": "code",
   "execution_count": 22,
   "metadata": {},
   "outputs": [],
   "source": [
    "#print(getLayerIndexByName(new_model, 'flatten_1')) #just used to get the index of flatten layer"
   ]
  },
  {
   "cell_type": "code",
   "execution_count": 23,
   "metadata": {},
   "outputs": [
    {
     "name": "stderr",
     "output_type": "stream",
     "text": [
      "WARNING:absl:Function `_wrapped_model` contains input name(s) mobilenet_1.00_128_input with unsupported characters which will be renamed to mobilenet_1_00_128_input in the SavedModel.\n",
      "WARNING:absl:Found untraced functions such as _jit_compiled_convolution_op, _jit_compiled_convolution_op, _jit_compiled_convolution_op, _jit_compiled_convolution_op, _jit_compiled_convolution_op while saving (showing 5 of 29). These functions will not be directly callable after loading.\n"
     ]
    },
    {
     "name": "stdout",
     "output_type": "stream",
     "text": [
      "INFO:tensorflow:Assets written to: mobilenet_reshapeRecPlot_baseline-holdout-100epochs_normalized_augmentated.npy\\assets\n"
     ]
    },
    {
     "name": "stderr",
     "output_type": "stream",
     "text": [
      "INFO:tensorflow:Assets written to: mobilenet_reshapeRecPlot_baseline-holdout-100epochs_normalized_augmentated.npy\\assets\n"
     ]
    }
   ],
   "source": [
    "model_name = f'mobilenet_reshapeRecPlot_baseline-holdout-{epochs}epochs_normalized_augmentated.npy'\n",
    "new_model.save(model_name)"
   ]
  },
  {
   "cell_type": "markdown",
   "metadata": {},
   "source": [
    "# **Random Forest - flatting**"
   ]
  },
  {
   "cell_type": "code",
   "execution_count": 24,
   "metadata": {},
   "outputs": [
    {
     "name": "stdout",
     "output_type": "stream",
     "text": [
      "30/30 [==============================] - 1s 33ms/step\n"
     ]
    }
   ],
   "source": [
    "new_model_rf = keras.Model(inputs=new_model.input, outputs=new_model.get_layer(index=9).output)\n",
    "featureVector = new_model_rf.predict(train_x)"
   ]
  },
  {
   "cell_type": "code",
   "execution_count": 25,
   "metadata": {},
   "outputs": [
    {
     "name": "stdout",
     "output_type": "stream",
     "text": [
      "4/4 [==============================] - 1s 160ms/step\n"
     ]
    }
   ],
   "source": [
    "featureVector2 = new_model_rf.predict(test_x)"
   ]
  },
  {
   "cell_type": "code",
   "execution_count": 26,
   "metadata": {},
   "outputs": [
    {
     "name": "stdout",
     "output_type": "stream",
     "text": [
      "(947, 64)\n"
     ]
    }
   ],
   "source": [
    "print(featureVector.shape)"
   ]
  },
  {
   "cell_type": "code",
   "execution_count": 27,
   "metadata": {},
   "outputs": [],
   "source": [
    "from sklearn.ensemble import RandomForestClassifier"
   ]
  },
  {
   "cell_type": "code",
   "execution_count": 28,
   "metadata": {},
   "outputs": [
    {
     "data": {
      "text/html": [
       "<style>#sk-container-id-1 {color: black;}#sk-container-id-1 pre{padding: 0;}#sk-container-id-1 div.sk-toggleable {background-color: white;}#sk-container-id-1 label.sk-toggleable__label {cursor: pointer;display: block;width: 100%;margin-bottom: 0;padding: 0.3em;box-sizing: border-box;text-align: center;}#sk-container-id-1 label.sk-toggleable__label-arrow:before {content: \"▸\";float: left;margin-right: 0.25em;color: #696969;}#sk-container-id-1 label.sk-toggleable__label-arrow:hover:before {color: black;}#sk-container-id-1 div.sk-estimator:hover label.sk-toggleable__label-arrow:before {color: black;}#sk-container-id-1 div.sk-toggleable__content {max-height: 0;max-width: 0;overflow: hidden;text-align: left;background-color: #f0f8ff;}#sk-container-id-1 div.sk-toggleable__content pre {margin: 0.2em;color: black;border-radius: 0.25em;background-color: #f0f8ff;}#sk-container-id-1 input.sk-toggleable__control:checked~div.sk-toggleable__content {max-height: 200px;max-width: 100%;overflow: auto;}#sk-container-id-1 input.sk-toggleable__control:checked~label.sk-toggleable__label-arrow:before {content: \"▾\";}#sk-container-id-1 div.sk-estimator input.sk-toggleable__control:checked~label.sk-toggleable__label {background-color: #d4ebff;}#sk-container-id-1 div.sk-label input.sk-toggleable__control:checked~label.sk-toggleable__label {background-color: #d4ebff;}#sk-container-id-1 input.sk-hidden--visually {border: 0;clip: rect(1px 1px 1px 1px);clip: rect(1px, 1px, 1px, 1px);height: 1px;margin: -1px;overflow: hidden;padding: 0;position: absolute;width: 1px;}#sk-container-id-1 div.sk-estimator {font-family: monospace;background-color: #f0f8ff;border: 1px dotted black;border-radius: 0.25em;box-sizing: border-box;margin-bottom: 0.5em;}#sk-container-id-1 div.sk-estimator:hover {background-color: #d4ebff;}#sk-container-id-1 div.sk-parallel-item::after {content: \"\";width: 100%;border-bottom: 1px solid gray;flex-grow: 1;}#sk-container-id-1 div.sk-label:hover label.sk-toggleable__label {background-color: #d4ebff;}#sk-container-id-1 div.sk-serial::before {content: \"\";position: absolute;border-left: 1px solid gray;box-sizing: border-box;top: 0;bottom: 0;left: 50%;z-index: 0;}#sk-container-id-1 div.sk-serial {display: flex;flex-direction: column;align-items: center;background-color: white;padding-right: 0.2em;padding-left: 0.2em;position: relative;}#sk-container-id-1 div.sk-item {position: relative;z-index: 1;}#sk-container-id-1 div.sk-parallel {display: flex;align-items: stretch;justify-content: center;background-color: white;position: relative;}#sk-container-id-1 div.sk-item::before, #sk-container-id-1 div.sk-parallel-item::before {content: \"\";position: absolute;border-left: 1px solid gray;box-sizing: border-box;top: 0;bottom: 0;left: 50%;z-index: -1;}#sk-container-id-1 div.sk-parallel-item {display: flex;flex-direction: column;z-index: 1;position: relative;background-color: white;}#sk-container-id-1 div.sk-parallel-item:first-child::after {align-self: flex-end;width: 50%;}#sk-container-id-1 div.sk-parallel-item:last-child::after {align-self: flex-start;width: 50%;}#sk-container-id-1 div.sk-parallel-item:only-child::after {width: 0;}#sk-container-id-1 div.sk-dashed-wrapped {border: 1px dashed gray;margin: 0 0.4em 0.5em 0.4em;box-sizing: border-box;padding-bottom: 0.4em;background-color: white;}#sk-container-id-1 div.sk-label label {font-family: monospace;font-weight: bold;display: inline-block;line-height: 1.2em;}#sk-container-id-1 div.sk-label-container {text-align: center;}#sk-container-id-1 div.sk-container {/* jupyter's `normalize.less` sets `[hidden] { display: none; }` but bootstrap.min.css set `[hidden] { display: none !important; }` so we also need the `!important` here to be able to override the default hidden behavior on the sphinx rendered scikit-learn.org. See: https://github.com/scikit-learn/scikit-learn/issues/21755 */display: inline-block !important;position: relative;}#sk-container-id-1 div.sk-text-repr-fallback {display: none;}</style><div id=\"sk-container-id-1\" class=\"sk-top-container\"><div class=\"sk-text-repr-fallback\"><pre>RandomForestClassifier()</pre><b>In a Jupyter environment, please rerun this cell to show the HTML representation or trust the notebook. <br />On GitHub, the HTML representation is unable to render, please try loading this page with nbviewer.org.</b></div><div class=\"sk-container\" hidden><div class=\"sk-item\"><div class=\"sk-estimator sk-toggleable\"><input class=\"sk-toggleable__control sk-hidden--visually\" id=\"sk-estimator-id-1\" type=\"checkbox\" checked><label for=\"sk-estimator-id-1\" class=\"sk-toggleable__label sk-toggleable__label-arrow\">RandomForestClassifier</label><div class=\"sk-toggleable__content\"><pre>RandomForestClassifier()</pre></div></div></div></div></div>"
      ],
      "text/plain": [
       "RandomForestClassifier()"
      ]
     },
     "execution_count": 28,
     "metadata": {},
     "output_type": "execute_result"
    }
   ],
   "source": [
    "clf=RandomForestClassifier(n_estimators=100)\n",
    "\n",
    "clf.fit(featureVector,train_y)\n",
    "\n"
   ]
  },
  {
   "cell_type": "code",
   "execution_count": 29,
   "metadata": {},
   "outputs": [
    {
     "data": {
      "text/plain": [
       "(118, 128, 128, 3)"
      ]
     },
     "execution_count": 29,
     "metadata": {},
     "output_type": "execute_result"
    }
   ],
   "source": [
    "test_x.shape"
   ]
  },
  {
   "cell_type": "code",
   "execution_count": 30,
   "metadata": {},
   "outputs": [],
   "source": [
    "y_pred=clf.predict(featureVector2)"
   ]
  },
  {
   "cell_type": "code",
   "execution_count": 31,
   "metadata": {},
   "outputs": [
    {
     "data": {
      "text/plain": [
       "(947, 64)"
      ]
     },
     "execution_count": 31,
     "metadata": {},
     "output_type": "execute_result"
    }
   ],
   "source": [
    "featureVector.shape"
   ]
  },
  {
   "cell_type": "code",
   "execution_count": 32,
   "metadata": {},
   "outputs": [
    {
     "name": "stdout",
     "output_type": "stream",
     "text": [
      "Accuracy: 1.0\n"
     ]
    }
   ],
   "source": [
    "from sklearn import metrics\n",
    "print(\"Accuracy:\",metrics.accuracy_score(test_y, y_pred))"
   ]
  },
  {
   "cell_type": "code",
   "execution_count": 33,
   "metadata": {},
   "outputs": [],
   "source": [
    "from sklearn.tree import DecisionTreeClassifier"
   ]
  },
  {
   "cell_type": "code",
   "execution_count": 34,
   "metadata": {},
   "outputs": [],
   "source": [
    "clf = DecisionTreeClassifier(random_state=0)"
   ]
  },
  {
   "cell_type": "markdown",
   "metadata": {
    "id": "v2tUu9UW4S_S"
   },
   "source": [
    "# **Testes**"
   ]
  },
  {
   "cell_type": "code",
   "execution_count": 35,
   "metadata": {
    "id": "-02BWWgF4V9h"
   },
   "outputs": [
    {
     "data": {
      "image/png": "[encoded data removed]",
      "text/plain": [
       "<Figure size 640x480 with 1 Axes>"
      ]
     },
     "metadata": {},
     "output_type": "display_data"
    },
    {
     "data": {
      "image/png": "[encoded data removed]",
      "text/plain": [
       "<Figure size 640x480 with 1 Axes>"
      ]
     },
     "metadata": {},
     "output_type": "display_data"
    }
   ],
   "source": [
    "import matplotlib.pyplot as plt\n",
    "\n",
    "accuracy = model_trained.history['acc']\n",
    "val_accuracy = model_trained.history['val_acc']\n",
    "loss = model_trained.history['loss']\n",
    "val_loss = model_trained.history['val_loss']\n",
    "epochs = range(len(accuracy))\n",
    "plt.plot(epochs, accuracy, 'b', label='Acurácia de treino')\n",
    "plt.plot(epochs, val_accuracy, 'g', label='Acurácia de validação')\n",
    "plt.title('Acurácia de treino e validação')\n",
    "plt.legend()\n",
    "plt.figure()\n",
    "plt.plot(epochs, loss, 'b', label='Perda no treino')\n",
    "plt.plot(epochs, val_loss, 'g', label='Perda na validação')\n",
    "plt.title('Perda na validação e treino')\n",
    "plt.legend()\n",
    "plt.show()"
   ]
  },
  {
   "cell_type": "code",
   "execution_count": 36,
   "metadata": {
    "id": "On7_hNmrOysp"
   },
   "outputs": [
    {
     "name": "stdout",
     "output_type": "stream",
     "text": [
      "4/4 [==============================] - 0s 41ms/step - loss: 5.7754e-04 - acc: 1.0000\n",
      "Test loss: 0.000577541533857584\n",
      "Test accuracy: 1.0\n"
     ]
    }
   ],
   "source": [
    "#avalia a fase de teste\n",
    "\n",
    "model_loss, model_accuracy = new_model.evaluate(test_x, test_y, verbose=1)\n",
    "\n",
    "#mostra o resultado\n",
    "print('Test loss:', model_loss)\n",
    "print('Test accuracy:', model_accuracy)"
   ]
  },
  {
   "cell_type": "code",
   "execution_count": 37,
   "metadata": {},
   "outputs": [
    {
     "name": "stdout",
     "output_type": "stream",
     "text": [
      "30/30 [==============================] - 1s 39ms/step - loss: 2.3634e-04 - acc: 1.0000\n"
     ]
    }
   ],
   "source": [
    "model_loss, model_accuracy = new_model.evaluate(train_x, train_y, verbose=1)"
   ]
  },
  {
   "cell_type": "code",
   "execution_count": 38,
   "metadata": {},
   "outputs": [
    {
     "name": "stdout",
     "output_type": "stream",
     "text": [
      "Test loss: 0.00023634170065633953\n",
      "Test accuracy: 1.0\n"
     ]
    }
   ],
   "source": [
    "print('Test loss:', model_loss)\n",
    "print('Test accuracy:', model_accuracy)"
   ]
  },
  {
   "cell_type": "code",
   "execution_count": 39,
   "metadata": {},
   "outputs": [
    {
     "name": "stdout",
     "output_type": "stream",
     "text": [
      "4/4 [==============================] - 0s 39ms/step - loss: 0.0066 - acc: 1.0000\n"
     ]
    }
   ],
   "source": [
    "model_loss, model_accuracy = new_model.evaluate(validation_x, validation_y, verbose=1)"
   ]
  },
  {
   "cell_type": "code",
   "execution_count": 40,
   "metadata": {},
   "outputs": [
    {
     "name": "stdout",
     "output_type": "stream",
     "text": [
      "118.0004\n"
     ]
    }
   ],
   "source": [
    "print(0.9916*len(validation_y))"
   ]
  },
  {
   "cell_type": "code",
   "execution_count": 41,
   "metadata": {},
   "outputs": [
    {
     "name": "stdout",
     "output_type": "stream",
     "text": [
      "4\n"
     ]
    }
   ],
   "source": [
    "print(len(set(test_y)))"
   ]
  },
  {
   "cell_type": "code",
   "execution_count": 42,
   "metadata": {},
   "outputs": [
    {
     "name": "stdout",
     "output_type": "stream",
     "text": [
      "Test loss: 0.006609433796256781\n",
      "Test accuracy: 1.0\n"
     ]
    }
   ],
   "source": [
    "print('Test loss:', model_loss)\n",
    "print('Test accuracy:', model_accuracy)"
   ]
  },
  {
   "cell_type": "code",
   "execution_count": 43,
   "metadata": {
    "id": "uGYRlhnq8wsF"
   },
   "outputs": [],
   "source": [
    "#faz a predição das imagens\n",
    "\n",
    "from tensorflow.keras.utils import to_categorical\n",
    "\n",
    "pred = new_model.predict(test_x, verbose=0)\n",
    "\n",
    "pred_probs = np.argmax(pred,axis=1)"
   ]
  },
  {
   "cell_type": "code",
   "execution_count": 44,
   "metadata": {
    "id": "Vt4jZ2jB8ygE"
   },
   "outputs": [],
   "source": [
    "from sklearn.metrics import confusion_matrix\n",
    "from sklearn.metrics import classification_report\n",
    "from sklearn.metrics import accuracy_score\n",
    "from sklearn.metrics import f1_score"
   ]
  },
  {
   "cell_type": "code",
   "execution_count": 45,
   "metadata": {
    "id": "9gx5yvuU84UC"
   },
   "outputs": [],
   "source": [
    "cm = confusion_matrix(test_y, pred_probs)"
   ]
  },
  {
   "cell_type": "code",
   "execution_count": 46,
   "metadata": {
    "id": "NUrE8yfU86OL"
   },
   "outputs": [
    {
     "name": "stdout",
     "output_type": "stream",
     "text": [
      "F1 Score: 1.0\n",
      "Sensitivity: [1. 1. 1. 1.]\n",
      "Specificity: [1. 1. 1. 1.]\n",
      "Precision:   [1. 1. 1. 1.]\n",
      "Accuracy:    [1. 1. 1. 1.]\n"
     ]
    }
   ],
   "source": [
    "#gera os valores de falso positivo, falso negativo, verdadeiro positivo e verdadeiro negativo\n",
    "fp = cm.sum(axis=0) - np.diag(cm)  \n",
    "fn = cm.sum(axis=1) - np.diag(cm)\n",
    "tp = np.diag(cm)\n",
    "tn = cm.sum() - (fp + fn + tp)\n",
    "\n",
    "f1score = f1_score(test_y, pred_probs, average='weighted')\n",
    "sensitivity = tp / (tp + fn)\n",
    "specificity = tn / (tn + fp)\n",
    "accuracy    = (tp + tn) / (tp + tn + fp + fn)\n",
    "precision   = tp / (tp + fp)\n",
    "\n",
    "\n",
    "print(\"F1 Score:\", f1score)\n",
    "print(\"Sensitivity:\", sensitivity)\n",
    "print(\"Specificity:\", specificity)\n",
    "print(\"Precision:  \", precision)\n",
    "print(\"Accuracy:   \", accuracy)"
   ]
  },
  {
   "cell_type": "code",
   "execution_count": null,
   "metadata": {},
   "outputs": [],
   "source": []
  },
  {
   "cell_type": "code",
   "execution_count": null,
   "metadata": {},
   "outputs": [],
   "source": []
  },
  {
   "cell_type": "code",
   "execution_count": null,
   "metadata": {},
   "outputs": [],
   "source": []
  }
 ],
 "metadata": {
  "colab": {
   "collapsed_sections": [],
   "name": "covid_alex_holdout_cropping_tgo.ipynb",
   "provenance": []
  },
  "kernelspec": {
   "display_name": "Python 3 (ipykernel)",
   "language": "python",
   "name": "python3"
  },
  "language_info": {
   "codemirror_mode": {
    "name": "ipython",
    "version": 3
   },
   "file_extension": ".py",
   "mimetype": "text/x-python",
   "name": "python",
   "nbconvert_exporter": "python",
   "pygments_lexer": "ipython3",
   "version": "3.9.17"
  }
 },
 "nbformat": 4,
 "nbformat_minor": 1
}
