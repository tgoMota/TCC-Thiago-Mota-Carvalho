{
 "cells": [
  {
   "cell_type": "code",
   "execution_count": 5,
   "metadata": {
    "id": "on-xhn6xYqDo"
   },
   "outputs": [],
   "source": [
    "import tensorflow as tf\n",
    "from tensorflow import keras\n",
    "import matplotlib.pyplot as plt\n",
    "import os\n",
    "import time"
   ]
  },
  {
   "cell_type": "code",
   "execution_count": 6,
   "metadata": {
    "id": "Zq5nydmlidrt"
   },
   "outputs": [],
   "source": [
    "import cv2\n",
    "import os\n",
    "from tqdm import tqdm\n",
    "import matplotlib.pyplot as plt\n",
    "import numpy as np\n",
    "import glob\n",
    "from tensorflow.keras.preprocessing.image import ImageDataGenerator\n",
    "from tensorflow.keras.applications import *\n",
    "from tensorflow.keras.layers import *\n",
    "from tensorflow.keras.models import *\n",
    "from tensorflow.keras.optimizers import Adam\n",
    "from tensorflow.keras.utils import to_categorical\n",
    "from sklearn.preprocessing import LabelEncoder\n",
    "from sklearn.metrics import *\n",
    "from tensorflow.keras.callbacks import *"
   ]
  },
  {
   "cell_type": "code",
   "execution_count": 7,
   "metadata": {},
   "outputs": [],
   "source": [
    "CLASS_NAMES= ['healthy', 'mild', 'moderate', 'severe']\n",
    "IMG_HEIGHT = 128\n",
    "IMG_WIDTH = 128\n",
    "CHANNELS = 3\n",
    "NUM_CLASSES = len(CLASS_NAMES)"
   ]
  },
  {
   "cell_type": "markdown",
   "metadata": {
    "id": "yfeZvMIEDOwS"
   },
   "source": [
    "# **ResNET**"
   ]
  },
  {
   "cell_type": "code",
   "execution_count": 8,
   "metadata": {
    "id": "98Cf8ZeSEbCU"
   },
   "outputs": [],
   "source": [
    "from sklearn.model_selection import train_test_split"
   ]
  },
  {
   "cell_type": "code",
   "execution_count": 9,
   "metadata": {},
   "outputs": [
    {
     "name": "stdout",
     "output_type": "stream",
     "text": [
      "TOTAL_IMAGES =  2368\n"
     ]
    }
   ],
   "source": [
    "#load data\n",
    "data_x = np.load('data_x_aumentated.npy') #images\n",
    "data_y = np.load('data_y_aumentated.npy') #labels\n",
    "TOTAL_IMAGES = len(data_y)\n",
    "print(\"TOTAL_IMAGES = \", TOTAL_IMAGES)"
   ]
  },
  {
   "cell_type": "markdown",
   "metadata": {},
   "source": [
    "# **Splitting data in train - validation - test**"
   ]
  },
  {
   "cell_type": "code",
   "execution_count": 10,
   "metadata": {},
   "outputs": [],
   "source": [
    "#percentage of the dataset which will be on TRAIN - TEST - VALIDATION\n",
    "TRAIN_PERCENTAGE = 0.8\n",
    "TEST_PERCENTAGE = 0.1\n",
    "VALIDATION_PERCENTAGE = 0.1"
   ]
  },
  {
   "cell_type": "code",
   "execution_count": 11,
   "metadata": {},
   "outputs": [],
   "source": [
    "train_size = int(TRAIN_PERCENTAGE * TOTAL_IMAGES)\n",
    "test_size = int(TEST_PERCENTAGE * TOTAL_IMAGES)\n",
    "validation_size = int(VALIDATION_PERCENTAGE * TOTAL_IMAGES)"
   ]
  },
  {
   "cell_type": "code",
   "execution_count": 12,
   "metadata": {},
   "outputs": [],
   "source": [
    "train_x = data_x[:train_size]\n",
    "train_y = data_y[:train_size]\n",
    "data_x = data_x[train_size:]\n",
    "data_y = data_y[train_size:]\n",
    "\n",
    "test_x = data_x[:test_size]\n",
    "test_y = data_y[:test_size]\n",
    "data_x = data_x[test_size:]\n",
    "data_y = data_y[test_size:]\n",
    "\n",
    "validation_x = data_x #all the remainder we can let on validation\n",
    "validation_y = data_y\n",
    "del data_x\n",
    "del data_y"
   ]
  },
  {
   "cell_type": "code",
   "execution_count": 13,
   "metadata": {},
   "outputs": [
    {
     "name": "stdout",
     "output_type": "stream",
     "text": [
      "train_size =  1894\n",
      "test_size =  236\n",
      "validation_size =  238\n"
     ]
    }
   ],
   "source": [
    "print(\"train_size = \", len(train_y))\n",
    "print(\"test_size = \", len(test_y))\n",
    "print(\"validation_size = \", len(validation_y))"
   ]
  },
  {
   "cell_type": "code",
   "execution_count": 14,
   "metadata": {
    "id": "BiIjdq89J1uJ"
   },
   "outputs": [],
   "source": [
    "from tensorflow import keras\n",
    "from tensorflow.keras.models import Sequential\n",
    "from tensorflow.keras.layers import Dense, Activation, Dropout, Flatten, Conv2D, MaxPooling2D\n",
    "from tensorflow.keras.regularizers import l2\n",
    "from tensorflow.keras.regularizers import l1\n",
    "from tensorflow.keras.callbacks import EarlyStopping"
   ]
  },
  {
   "cell_type": "code",
   "execution_count": 15,
   "metadata": {
    "colab": {
     "base_uri": "https://localhost:8080/"
    },
    "id": "j0vHxhMjLyhJ",
    "outputId": "e5ec2803-8f76-4719-e279-27c52eb8d72d"
   },
   "outputs": [],
   "source": [
    "from tensorflow.keras import layers\n",
    "from tensorflow.keras.layers import Input, Add, Dense, Activation, ZeroPadding2D, BatchNormalization, Flatten, Conv2D, AveragePooling2D, MaxPooling2D, GlobalMaxPooling2D\n",
    "from tensorflow.keras.models import Model, load_model\n",
    "from tensorflow.keras.preprocessing import image\n",
    "from IPython.display import SVG\n",
    "import scipy.misc"
   ]
  },
  {
   "cell_type": "code",
   "execution_count": 16,
   "metadata": {},
   "outputs": [],
   "source": [
    "# from tensorflow.keras.applications import EfficientNetB0\n",
    "# from tensorflow.keras.applications import EfficientNetB1\n",
    "# from tensorflow.keras.applications import EfficientNetB2\n",
    "# from tensorflow.keras.applications import EfficientNetB3\n",
    "# from tensorflow.keras.applications import EfficientNetB4\n",
    "# from tensorflow.keras.applications import EfficientNetB5\n",
    "# from tensorflow.keras.applications import EfficientNetB6\n",
    "# from tensorflow.keras.applications import EfficientNetB7\n",
    "# from tensorflow.keras.applications import *"
   ]
  },
  {
   "cell_type": "code",
   "execution_count": 17,
   "metadata": {},
   "outputs": [
    {
     "name": "stderr",
     "output_type": "stream",
     "text": [
      "C:\\Users\\tmcle\\miniconda3\\envs\\tf\\lib\\site-packages\\keras\\backend.py:451: UserWarning: `tf.keras.backend.set_learning_phase` is deprecated and will be removed after 2020-10-11. To update it, simply pass a True/False value to the `training` argument of the `__call__` method of your layer or model.\n",
      "  warnings.warn(\n"
     ]
    }
   ],
   "source": [
    "import tensorflow.keras.backend as K\n",
    "K.set_image_data_format('channels_last')\n",
    "K.set_learning_phase(1)"
   ]
  },
  {
   "cell_type": "code",
   "execution_count": 18,
   "metadata": {},
   "outputs": [],
   "source": [
    "model = tf.keras.applications.ResNet50(\n",
    "    include_top=False,\n",
    "    weights=\"imagenet\",\n",
    "    input_tensor=None,\n",
    "    input_shape=(IMG_HEIGHT,IMG_WIDTH,CHANNELS),\n",
    "    pooling=None,\n",
    "    classes=NUM_CLASSES,\n",
    "   # classifier_activation=\"softmax\",\n",
    "#    **kwargs\n",
    ")"
   ]
  },
  {
   "cell_type": "code",
   "execution_count": 19,
   "metadata": {},
   "outputs": [
    {
     "name": "stderr",
     "output_type": "stream",
     "text": [
      "C:\\Users\\tmcle\\miniconda3\\envs\\tf\\lib\\site-packages\\keras\\optimizers\\optimizer_v2\\adam.py:114: UserWarning: The `lr` argument is deprecated, use `learning_rate` instead.\n",
      "  super().__init__(name, **kwargs)\n"
     ]
    }
   ],
   "source": [
    "from tensorflow.keras import models\n",
    "from tensorflow.keras import layers\n",
    "\n",
    "new_model = models.Sequential()\n",
    "new_model.add(model)\n",
    "#3rd conv layer\n",
    "new_model.add(tf.keras.layers.Conv2D(32, 3, padding=\"same\"))\n",
    "new_model.add(tf.keras.layers.BatchNormalization())\n",
    "new_model.add(tf.keras.layers.Activation(\"relu\"))\n",
    "new_model.add(tf.keras.layers.MaxPooling2D(2))\n",
    "#4th conv layer\n",
    "new_model.add(tf.keras.layers.Conv2D(64, 3, padding=\"same\"))\n",
    "new_model.add(tf.keras.layers.BatchNormalization())\n",
    "new_model.add(tf.keras.layers.Activation(\"relu\"))\n",
    "new_model.add(tf.keras.layers.MaxPooling2D(2))\n",
    "#Flatten Layer\n",
    "new_model.add(tf.keras.layers.Flatten())\n",
    "\n",
    "new_model.add(tf.keras.layers.Dense(128, kernel_regularizer =tf.keras.regularizers.l2( l=0.01)))\n",
    "new_model.add(tf.keras.layers.BatchNormalization())\n",
    "new_model.add(tf.keras.layers.Activation(\"relu\"))\n",
    "new_model.add(tf.keras.layers.Dropout(0.2))\n",
    "#new_model.add(tf.keras.layers.l2( l=0.01))\n",
    "#new_model.add(layers.GlobalAveragePooling2D())\n",
    "#output Dense Layer\n",
    "new_model.add(tf.keras.layers.Dense(NUM_CLASSES))\n",
    "new_model.add(tf.keras.layers.Activation('softmax'))\n",
    "adam = tf.keras.optimizers.Adam(lr=0.001)\n"
   ]
  },
  {
   "cell_type": "code",
   "execution_count": 20,
   "metadata": {},
   "outputs": [
    {
     "name": "stdout",
     "output_type": "stream",
     "text": [
      "Model: \"sequential\"\n",
      "_________________________________________________________________\n",
      " Layer (type)                Output Shape              Param #   \n",
      "=================================================================\n",
      " resnet50 (Functional)       (None, 4, 4, 2048)        23587712  \n",
      "                                                                 \n",
      " conv2d (Conv2D)             (None, 4, 4, 32)          589856    \n",
      "                                                                 \n",
      " batch_normalization (BatchN  (None, 4, 4, 32)         128       \n",
      " ormalization)                                                   \n",
      "                                                                 \n",
      " activation (Activation)     (None, 4, 4, 32)          0         \n",
      "                                                                 \n",
      " max_pooling2d (MaxPooling2D  (None, 2, 2, 32)         0         \n",
      " )                                                               \n",
      "                                                                 \n",
      " conv2d_1 (Conv2D)           (None, 2, 2, 64)          18496     \n",
      "                                                                 \n",
      " batch_normalization_1 (Batc  (None, 2, 2, 64)         256       \n",
      " hNormalization)                                                 \n",
      "                                                                 \n",
      " activation_1 (Activation)   (None, 2, 2, 64)          0         \n",
      "                                                                 \n",
      " max_pooling2d_1 (MaxPooling  (None, 1, 1, 64)         0         \n",
      " 2D)                                                             \n",
      "                                                                 \n",
      " flatten (Flatten)           (None, 64)                0         \n",
      "                                                                 \n",
      " dense (Dense)               (None, 128)               8320      \n",
      "                                                                 \n",
      " batch_normalization_2 (Batc  (None, 128)              512       \n",
      " hNormalization)                                                 \n",
      "                                                                 \n",
      " activation_2 (Activation)   (None, 128)               0         \n",
      "                                                                 \n",
      " dropout (Dropout)           (None, 128)               0         \n",
      "                                                                 \n",
      " dense_1 (Dense)             (None, 4)                 516       \n",
      "                                                                 \n",
      " activation_3 (Activation)   (None, 4)                 0         \n",
      "                                                                 \n",
      "=================================================================\n",
      "Total params: 24,205,796\n",
      "Trainable params: 24,152,228\n",
      "Non-trainable params: 53,568\n",
      "_________________________________________________________________\n"
     ]
    }
   ],
   "source": [
    "new_model.summary()"
   ]
  },
  {
   "cell_type": "code",
   "execution_count": 22,
   "metadata": {},
   "outputs": [
    {
     "name": "stdout",
     "output_type": "stream",
     "text": [
      "Epoch 1/100\n",
      "60/60 [==============================] - 38s 402ms/step - loss: 1.6866 - acc: 0.6373 - val_loss: 7.7394 - val_acc: 0.2563\n",
      "Epoch 2/100\n",
      "60/60 [==============================] - 21s 347ms/step - loss: 1.0890 - acc: 0.8300 - val_loss: 7.5309 - val_acc: 0.2605\n",
      "Epoch 3/100\n",
      "60/60 [==============================] - 21s 345ms/step - loss: 0.7840 - acc: 0.8918 - val_loss: 11.0928 - val_acc: 0.2563\n",
      "Epoch 4/100\n",
      "60/60 [==============================] - 20s 341ms/step - loss: 0.6433 - acc: 0.9023 - val_loss: 9.0169 - val_acc: 0.1261\n",
      "Epoch 5/100\n",
      "60/60 [==============================] - 20s 339ms/step - loss: 0.4778 - acc: 0.9250 - val_loss: 7.4982 - val_acc: 0.2563\n",
      "Epoch 6/100\n",
      "60/60 [==============================] - 21s 344ms/step - loss: 0.3266 - acc: 0.9641 - val_loss: 6.2638 - val_acc: 0.2563\n",
      "Epoch 7/100\n",
      "60/60 [==============================] - 20s 335ms/step - loss: 0.2674 - acc: 0.9657 - val_loss: 1.8083 - val_acc: 0.6345\n",
      "Epoch 8/100\n",
      "60/60 [==============================] - 20s 335ms/step - loss: 0.1943 - acc: 0.9731 - val_loss: 1.9887 - val_acc: 0.6555\n",
      "Epoch 9/100\n",
      "60/60 [==============================] - 20s 332ms/step - loss: 0.2267 - acc: 0.9583 - val_loss: 3.0721 - val_acc: 0.4160\n",
      "Epoch 10/100\n",
      "60/60 [==============================] - 20s 332ms/step - loss: 0.1966 - acc: 0.9541 - val_loss: 1.4172 - val_acc: 0.7185\n",
      "Epoch 11/100\n",
      "60/60 [==============================] - 20s 332ms/step - loss: 0.1423 - acc: 0.9736 - val_loss: 4.2680 - val_acc: 0.3235\n",
      "Epoch 12/100\n",
      "60/60 [==============================] - 20s 332ms/step - loss: 0.1410 - acc: 0.9699 - val_loss: 41.2253 - val_acc: 0.2563\n",
      "Epoch 13/100\n",
      "60/60 [==============================] - 20s 332ms/step - loss: 0.1623 - acc: 0.9551 - val_loss: 5.5857 - val_acc: 0.5000\n",
      "Epoch 14/100\n",
      "60/60 [==============================] - 20s 332ms/step - loss: 0.0843 - acc: 0.9826 - val_loss: 0.5568 - val_acc: 0.8529\n",
      "Epoch 15/100\n",
      "60/60 [==============================] - 20s 333ms/step - loss: 0.1150 - acc: 0.9741 - val_loss: 22.2215 - val_acc: 0.2563\n",
      "Epoch 16/100\n",
      "60/60 [==============================] - 20s 332ms/step - loss: 0.0851 - acc: 0.9789 - val_loss: 17.7917 - val_acc: 0.2563\n",
      "Epoch 17/100\n",
      "60/60 [==============================] - 20s 334ms/step - loss: 0.0893 - acc: 0.9778 - val_loss: 5.7581 - val_acc: 0.3445\n",
      "Epoch 18/100\n",
      "60/60 [==============================] - 20s 334ms/step - loss: 0.0576 - acc: 0.9879 - val_loss: 2.0669 - val_acc: 0.5000\n",
      "Epoch 19/100\n",
      "60/60 [==============================] - 20s 333ms/step - loss: 0.0385 - acc: 0.9937 - val_loss: 6.0723 - val_acc: 0.4496\n",
      "Epoch 20/100\n",
      "60/60 [==============================] - 20s 333ms/step - loss: 0.0364 - acc: 0.9905 - val_loss: 1.5644 - val_acc: 0.6387\n",
      "Epoch 21/100\n",
      "60/60 [==============================] - 20s 333ms/step - loss: 0.0536 - acc: 0.9873 - val_loss: 0.9847 - val_acc: 0.8067\n",
      "Epoch 22/100\n",
      "60/60 [==============================] - 20s 333ms/step - loss: 0.0363 - acc: 0.9921 - val_loss: 1.0472 - val_acc: 0.7605\n",
      "Epoch 23/100\n",
      "60/60 [==============================] - 20s 333ms/step - loss: 0.0656 - acc: 0.9857 - val_loss: 0.8284 - val_acc: 0.7689\n",
      "Epoch 24/100\n",
      "60/60 [==============================] - 20s 333ms/step - loss: 0.0997 - acc: 0.9741 - val_loss: 20.4609 - val_acc: 0.2689\n",
      "Epoch 25/100\n",
      "60/60 [==============================] - 20s 334ms/step - loss: 0.0799 - acc: 0.9778 - val_loss: 1.1826 - val_acc: 0.7521\n",
      "Epoch 26/100\n",
      "60/60 [==============================] - 20s 334ms/step - loss: 0.0326 - acc: 0.9937 - val_loss: 13.4607 - val_acc: 0.2605\n",
      "Epoch 27/100\n",
      "60/60 [==============================] - 20s 342ms/step - loss: 0.0303 - acc: 0.9910 - val_loss: 6.0808 - val_acc: 0.3193\n",
      "Epoch 28/100\n",
      "60/60 [==============================] - 20s 335ms/step - loss: 0.0175 - acc: 0.9984 - val_loss: 2.0932 - val_acc: 0.6849\n",
      "Epoch 29/100\n",
      "60/60 [==============================] - 20s 338ms/step - loss: 0.1018 - acc: 0.9688 - val_loss: 3.0448 - val_acc: 0.5672\n",
      "Epoch 30/100\n",
      "60/60 [==============================] - 20s 336ms/step - loss: 0.0574 - acc: 0.9842 - val_loss: 25.7797 - val_acc: 0.2563\n",
      "Epoch 31/100\n",
      "60/60 [==============================] - 21s 347ms/step - loss: 0.0807 - acc: 0.9805 - val_loss: 5.4355 - val_acc: 0.4622\n",
      "Epoch 32/100\n",
      "60/60 [==============================] - 22s 372ms/step - loss: 0.0691 - acc: 0.9863 - val_loss: 11.4357 - val_acc: 0.3193\n",
      "Epoch 33/100\n",
      "60/60 [==============================] - 21s 343ms/step - loss: 0.0207 - acc: 0.9974 - val_loss: 0.5776 - val_acc: 0.8235\n",
      "Epoch 34/100\n",
      "60/60 [==============================] - 22s 374ms/step - loss: 0.0083 - acc: 1.0000 - val_loss: 0.3526 - val_acc: 0.8950\n",
      "Epoch 35/100\n",
      "60/60 [==============================] - 21s 343ms/step - loss: 0.0050 - acc: 1.0000 - val_loss: 0.1636 - val_acc: 0.9412\n",
      "Epoch 36/100\n",
      "60/60 [==============================] - 20s 340ms/step - loss: 0.0034 - acc: 1.0000 - val_loss: 0.1466 - val_acc: 0.9580\n",
      "Epoch 37/100\n",
      "60/60 [==============================] - 21s 344ms/step - loss: 0.0024 - acc: 1.0000 - val_loss: 0.1471 - val_acc: 0.9622\n",
      "Epoch 38/100\n",
      "60/60 [==============================] - 20s 332ms/step - loss: 0.0018 - acc: 1.0000 - val_loss: 0.1439 - val_acc: 0.9622\n",
      "Epoch 39/100\n",
      "60/60 [==============================] - 21s 343ms/step - loss: 0.0013 - acc: 1.0000 - val_loss: 0.1473 - val_acc: 0.9580\n",
      "Epoch 40/100\n",
      "60/60 [==============================] - 20s 337ms/step - loss: 0.0011 - acc: 1.0000 - val_loss: 0.1509 - val_acc: 0.9454\n",
      "Epoch 41/100\n",
      "60/60 [==============================] - 20s 341ms/step - loss: 9.2747e-04 - acc: 1.0000 - val_loss: 0.1508 - val_acc: 0.9454\n",
      "Epoch 42/100\n",
      "60/60 [==============================] - 21s 347ms/step - loss: 8.1148e-04 - acc: 1.0000 - val_loss: 0.1595 - val_acc: 0.9454\n",
      "Epoch 43/100\n",
      "60/60 [==============================] - 20s 333ms/step - loss: 7.5037e-04 - acc: 1.0000 - val_loss: 0.1621 - val_acc: 0.9496\n",
      "Epoch 44/100\n",
      "60/60 [==============================] - 21s 357ms/step - loss: 7.3380e-04 - acc: 1.0000 - val_loss: 0.1675 - val_acc: 0.9496\n",
      "Epoch 45/100\n",
      "60/60 [==============================] - 21s 354ms/step - loss: 6.7763e-04 - acc: 1.0000 - val_loss: 0.1737 - val_acc: 0.9454\n",
      "Epoch 46/100\n",
      "60/60 [==============================] - 20s 342ms/step - loss: 6.5125e-04 - acc: 1.0000 - val_loss: 0.1797 - val_acc: 0.9496\n",
      "Epoch 47/100\n",
      "60/60 [==============================] - 20s 336ms/step - loss: 6.1677e-04 - acc: 1.0000 - val_loss: 0.1857 - val_acc: 0.9496\n",
      "Epoch 48/100\n",
      "60/60 [==============================] - 20s 341ms/step - loss: 5.8801e-04 - acc: 1.0000 - val_loss: 0.1857 - val_acc: 0.9496\n",
      "Epoch 49/100\n",
      "60/60 [==============================] - 20s 339ms/step - loss: 5.7183e-04 - acc: 1.0000 - val_loss: 0.1766 - val_acc: 0.9454\n",
      "Epoch 50/100\n",
      "60/60 [==============================] - 21s 354ms/step - loss: 5.4025e-04 - acc: 1.0000 - val_loss: 0.1837 - val_acc: 0.9454\n",
      "Epoch 51/100\n",
      "60/60 [==============================] - 20s 340ms/step - loss: 5.3780e-04 - acc: 1.0000 - val_loss: 0.1931 - val_acc: 0.9496\n",
      "Epoch 52/100\n",
      "60/60 [==============================] - 20s 337ms/step - loss: 5.2660e-04 - acc: 1.0000 - val_loss: 0.1909 - val_acc: 0.9454\n",
      "Epoch 53/100\n",
      "60/60 [==============================] - 20s 341ms/step - loss: 5.2472e-04 - acc: 1.0000 - val_loss: 0.1901 - val_acc: 0.9496\n",
      "Epoch 54/100\n",
      "60/60 [==============================] - 21s 344ms/step - loss: 5.1096e-04 - acc: 1.0000 - val_loss: 0.1931 - val_acc: 0.9496\n",
      "Epoch 55/100\n",
      "60/60 [==============================] - 20s 335ms/step - loss: 4.6309e-04 - acc: 1.0000 - val_loss: 0.1871 - val_acc: 0.9496\n",
      "Epoch 56/100\n",
      "60/60 [==============================] - 21s 355ms/step - loss: 4.7914e-04 - acc: 1.0000 - val_loss: 0.1902 - val_acc: 0.9454\n",
      "Epoch 57/100\n",
      "60/60 [==============================] - 21s 348ms/step - loss: 4.6263e-04 - acc: 1.0000 - val_loss: 0.1962 - val_acc: 0.9496\n",
      "Epoch 58/100\n",
      "60/60 [==============================] - 20s 341ms/step - loss: 4.4649e-04 - acc: 1.0000 - val_loss: 0.1984 - val_acc: 0.9496\n",
      "Epoch 59/100\n",
      "60/60 [==============================] - 21s 349ms/step - loss: 4.4672e-04 - acc: 1.0000 - val_loss: 0.1935 - val_acc: 0.9496\n",
      "Epoch 60/100\n",
      "60/60 [==============================] - 20s 337ms/step - loss: 4.2862e-04 - acc: 1.0000 - val_loss: 0.2030 - val_acc: 0.9454\n",
      "Epoch 61/100\n"
     ]
    },
    {
     "name": "stdout",
     "output_type": "stream",
     "text": [
      "60/60 [==============================] - 21s 347ms/step - loss: 4.0590e-04 - acc: 1.0000 - val_loss: 0.1977 - val_acc: 0.9496\n",
      "Epoch 62/100\n",
      "60/60 [==============================] - 21s 351ms/step - loss: 3.9408e-04 - acc: 1.0000 - val_loss: 0.1996 - val_acc: 0.9412\n",
      "Epoch 63/100\n",
      "60/60 [==============================] - 21s 354ms/step - loss: 3.7554e-04 - acc: 1.0000 - val_loss: 0.1963 - val_acc: 0.9454\n",
      "Epoch 64/100\n",
      "60/60 [==============================] - 20s 339ms/step - loss: 3.9420e-04 - acc: 1.0000 - val_loss: 0.1941 - val_acc: 0.9412\n",
      "Epoch 65/100\n",
      "60/60 [==============================] - 20s 337ms/step - loss: 3.6495e-04 - acc: 1.0000 - val_loss: 0.1955 - val_acc: 0.9454\n",
      "Epoch 66/100\n",
      "60/60 [==============================] - 20s 332ms/step - loss: 3.7790e-04 - acc: 1.0000 - val_loss: 0.2016 - val_acc: 0.9454\n",
      "Epoch 67/100\n",
      "60/60 [==============================] - 20s 332ms/step - loss: 3.6658e-04 - acc: 1.0000 - val_loss: 0.2061 - val_acc: 0.9412\n",
      "Epoch 68/100\n",
      "60/60 [==============================] - 20s 332ms/step - loss: 3.5280e-04 - acc: 1.0000 - val_loss: 0.2043 - val_acc: 0.9496\n",
      "Epoch 69/100\n",
      "60/60 [==============================] - 20s 332ms/step - loss: 3.2684e-04 - acc: 1.0000 - val_loss: 0.2094 - val_acc: 0.9496\n",
      "Epoch 70/100\n",
      "60/60 [==============================] - 20s 330ms/step - loss: 3.3332e-04 - acc: 1.0000 - val_loss: 0.2101 - val_acc: 0.9496\n",
      "Epoch 71/100\n",
      "60/60 [==============================] - 20s 332ms/step - loss: 3.2252e-04 - acc: 1.0000 - val_loss: 0.2038 - val_acc: 0.9454\n",
      "Epoch 72/100\n",
      "60/60 [==============================] - 20s 333ms/step - loss: 3.2048e-04 - acc: 1.0000 - val_loss: 0.2149 - val_acc: 0.9496\n",
      "Epoch 73/100\n",
      "60/60 [==============================] - 20s 333ms/step - loss: 3.0865e-04 - acc: 1.0000 - val_loss: 0.2098 - val_acc: 0.9454\n",
      "Epoch 74/100\n",
      "60/60 [==============================] - 20s 333ms/step - loss: 3.0254e-04 - acc: 1.0000 - val_loss: 0.2035 - val_acc: 0.9412\n",
      "Epoch 75/100\n",
      "60/60 [==============================] - 20s 331ms/step - loss: 2.9840e-04 - acc: 1.0000 - val_loss: 0.2085 - val_acc: 0.9412\n",
      "Epoch 76/100\n",
      "60/60 [==============================] - 20s 332ms/step - loss: 2.7916e-04 - acc: 1.0000 - val_loss: 0.2035 - val_acc: 0.9454\n",
      "Epoch 77/100\n",
      "60/60 [==============================] - 20s 332ms/step - loss: 2.8434e-04 - acc: 1.0000 - val_loss: 0.2065 - val_acc: 0.9412\n",
      "Epoch 78/100\n",
      "60/60 [==============================] - 20s 334ms/step - loss: 2.6975e-04 - acc: 1.0000 - val_loss: 0.2057 - val_acc: 0.9454\n",
      "Epoch 79/100\n",
      "60/60 [==============================] - 20s 332ms/step - loss: 2.7493e-04 - acc: 1.0000 - val_loss: 0.2100 - val_acc: 0.9496\n",
      "Epoch 80/100\n",
      "60/60 [==============================] - 20s 332ms/step - loss: 2.6650e-04 - acc: 1.0000 - val_loss: 0.2110 - val_acc: 0.9454\n",
      "Epoch 81/100\n",
      "60/60 [==============================] - 20s 332ms/step - loss: 2.5439e-04 - acc: 1.0000 - val_loss: 0.2080 - val_acc: 0.9454\n",
      "Epoch 82/100\n",
      "60/60 [==============================] - 20s 332ms/step - loss: 2.5123e-04 - acc: 1.0000 - val_loss: 0.2220 - val_acc: 0.9454\n",
      "Epoch 83/100\n",
      "60/60 [==============================] - 20s 333ms/step - loss: 2.5283e-04 - acc: 1.0000 - val_loss: 0.2303 - val_acc: 0.9496\n",
      "Epoch 84/100\n",
      "60/60 [==============================] - 20s 334ms/step - loss: 2.3738e-04 - acc: 1.0000 - val_loss: 0.2237 - val_acc: 0.9412\n",
      "Epoch 85/100\n",
      "60/60 [==============================] - 20s 333ms/step - loss: 2.4335e-04 - acc: 1.0000 - val_loss: 0.2220 - val_acc: 0.9412\n",
      "Epoch 86/100\n",
      "60/60 [==============================] - 20s 332ms/step - loss: 2.3485e-04 - acc: 1.0000 - val_loss: 0.2197 - val_acc: 0.9412\n",
      "Epoch 87/100\n",
      "60/60 [==============================] - 20s 333ms/step - loss: 2.3091e-04 - acc: 1.0000 - val_loss: 0.2221 - val_acc: 0.9412\n",
      "Epoch 88/100\n",
      "60/60 [==============================] - 20s 332ms/step - loss: 2.1684e-04 - acc: 1.0000 - val_loss: 0.2242 - val_acc: 0.9454\n",
      "Epoch 89/100\n",
      "60/60 [==============================] - 20s 332ms/step - loss: 2.2692e-04 - acc: 1.0000 - val_loss: 0.2217 - val_acc: 0.9454\n",
      "Epoch 90/100\n",
      "60/60 [==============================] - 20s 332ms/step - loss: 2.0916e-04 - acc: 1.0000 - val_loss: 0.2272 - val_acc: 0.9454\n",
      "Epoch 91/100\n",
      "60/60 [==============================] - 20s 332ms/step - loss: 2.2382e-04 - acc: 1.0000 - val_loss: 0.2194 - val_acc: 0.9454\n",
      "Epoch 92/100\n",
      "60/60 [==============================] - 20s 332ms/step - loss: 2.0429e-04 - acc: 1.0000 - val_loss: 0.2186 - val_acc: 0.9454\n",
      "Epoch 93/100\n",
      "60/60 [==============================] - 20s 332ms/step - loss: 1.9945e-04 - acc: 1.0000 - val_loss: 0.2225 - val_acc: 0.9496\n",
      "Epoch 94/100\n",
      "60/60 [==============================] - 20s 333ms/step - loss: 2.1159e-04 - acc: 1.0000 - val_loss: 0.2142 - val_acc: 0.9538\n",
      "Epoch 95/100\n",
      "60/60 [==============================] - 20s 333ms/step - loss: 2.0001e-04 - acc: 1.0000 - val_loss: 0.2063 - val_acc: 0.9454\n",
      "Epoch 96/100\n",
      "60/60 [==============================] - 20s 332ms/step - loss: 1.8902e-04 - acc: 1.0000 - val_loss: 0.2244 - val_acc: 0.9454\n",
      "Epoch 97/100\n",
      "60/60 [==============================] - 20s 332ms/step - loss: 1.9488e-04 - acc: 1.0000 - val_loss: 0.2205 - val_acc: 0.9454\n",
      "Epoch 98/100\n",
      "60/60 [==============================] - 20s 332ms/step - loss: 1.8365e-04 - acc: 1.0000 - val_loss: 0.2293 - val_acc: 0.9454\n",
      "Epoch 99/100\n",
      "60/60 [==============================] - 20s 332ms/step - loss: 1.8052e-04 - acc: 1.0000 - val_loss: 0.2175 - val_acc: 0.9454\n",
      "Epoch 100/100\n",
      "60/60 [==============================] - 20s 333ms/step - loss: 1.6714e-04 - acc: 1.0000 - val_loss: 0.2270 - val_acc: 0.9454\n"
     ]
    }
   ],
   "source": [
    "epochs = 100\n",
    "\n",
    "#compila e treina o modelo com os dados carregados\n",
    "new_model.compile(loss='sparse_categorical_crossentropy', metrics=['acc'], optimizer=adam)\n",
    "model_trained = new_model.fit(train_x, train_y,epochs=epochs,verbose=1,validation_data=(validation_x, validation_y),shuffle=False)"
   ]
  },
  {
   "cell_type": "code",
   "execution_count": 23,
   "metadata": {},
   "outputs": [
    {
     "name": "stdout",
     "output_type": "stream",
     "text": [
      "Model: \"resnet50\"\n",
      "__________________________________________________________________________________________________\n",
      " Layer (type)                   Output Shape         Param #     Connected to                     \n",
      "==================================================================================================\n",
      " input_1 (InputLayer)           [(None, 128, 128, 3  0           []                               \n",
      "                                )]                                                                \n",
      "                                                                                                  \n",
      " conv1_pad (ZeroPadding2D)      (None, 134, 134, 3)  0           ['input_1[0][0]']                \n",
      "                                                                                                  \n",
      " conv1_conv (Conv2D)            (None, 64, 64, 64)   9472        ['conv1_pad[0][0]']              \n",
      "                                                                                                  \n",
      " conv1_bn (BatchNormalization)  (None, 64, 64, 64)   256         ['conv1_conv[0][0]']             \n",
      "                                                                                                  \n",
      " conv1_relu (Activation)        (None, 64, 64, 64)   0           ['conv1_bn[0][0]']               \n",
      "                                                                                                  \n",
      " pool1_pad (ZeroPadding2D)      (None, 66, 66, 64)   0           ['conv1_relu[0][0]']             \n",
      "                                                                                                  \n",
      " pool1_pool (MaxPooling2D)      (None, 32, 32, 64)   0           ['pool1_pad[0][0]']              \n",
      "                                                                                                  \n",
      " conv2_block1_1_conv (Conv2D)   (None, 32, 32, 64)   4160        ['pool1_pool[0][0]']             \n",
      "                                                                                                  \n",
      " conv2_block1_1_bn (BatchNormal  (None, 32, 32, 64)  256         ['conv2_block1_1_conv[0][0]']    \n",
      " ization)                                                                                         \n",
      "                                                                                                  \n",
      " conv2_block1_1_relu (Activatio  (None, 32, 32, 64)  0           ['conv2_block1_1_bn[0][0]']      \n",
      " n)                                                                                               \n",
      "                                                                                                  \n",
      " conv2_block1_2_conv (Conv2D)   (None, 32, 32, 64)   36928       ['conv2_block1_1_relu[0][0]']    \n",
      "                                                                                                  \n",
      " conv2_block1_2_bn (BatchNormal  (None, 32, 32, 64)  256         ['conv2_block1_2_conv[0][0]']    \n",
      " ization)                                                                                         \n",
      "                                                                                                  \n",
      " conv2_block1_2_relu (Activatio  (None, 32, 32, 64)  0           ['conv2_block1_2_bn[0][0]']      \n",
      " n)                                                                                               \n",
      "                                                                                                  \n",
      " conv2_block1_0_conv (Conv2D)   (None, 32, 32, 256)  16640       ['pool1_pool[0][0]']             \n",
      "                                                                                                  \n",
      " conv2_block1_3_conv (Conv2D)   (None, 32, 32, 256)  16640       ['conv2_block1_2_relu[0][0]']    \n",
      "                                                                                                  \n",
      " conv2_block1_0_bn (BatchNormal  (None, 32, 32, 256)  1024       ['conv2_block1_0_conv[0][0]']    \n",
      " ization)                                                                                         \n",
      "                                                                                                  \n",
      " conv2_block1_3_bn (BatchNormal  (None, 32, 32, 256)  1024       ['conv2_block1_3_conv[0][0]']    \n",
      " ization)                                                                                         \n",
      "                                                                                                  \n",
      " conv2_block1_add (Add)         (None, 32, 32, 256)  0           ['conv2_block1_0_bn[0][0]',      \n",
      "                                                                  'conv2_block1_3_bn[0][0]']      \n",
      "                                                                                                  \n",
      " conv2_block1_out (Activation)  (None, 32, 32, 256)  0           ['conv2_block1_add[0][0]']       \n",
      "                                                                                                  \n",
      " conv2_block2_1_conv (Conv2D)   (None, 32, 32, 64)   16448       ['conv2_block1_out[0][0]']       \n",
      "                                                                                                  \n",
      " conv2_block2_1_bn (BatchNormal  (None, 32, 32, 64)  256         ['conv2_block2_1_conv[0][0]']    \n",
      " ization)                                                                                         \n",
      "                                                                                                  \n",
      " conv2_block2_1_relu (Activatio  (None, 32, 32, 64)  0           ['conv2_block2_1_bn[0][0]']      \n",
      " n)                                                                                               \n",
      "                                                                                                  \n",
      " conv2_block2_2_conv (Conv2D)   (None, 32, 32, 64)   36928       ['conv2_block2_1_relu[0][0]']    \n",
      "                                                                                                  \n",
      " conv2_block2_2_bn (BatchNormal  (None, 32, 32, 64)  256         ['conv2_block2_2_conv[0][0]']    \n",
      " ization)                                                                                         \n",
      "                                                                                                  \n",
      " conv2_block2_2_relu (Activatio  (None, 32, 32, 64)  0           ['conv2_block2_2_bn[0][0]']      \n",
      " n)                                                                                               \n",
      "                                                                                                  \n",
      " conv2_block2_3_conv (Conv2D)   (None, 32, 32, 256)  16640       ['conv2_block2_2_relu[0][0]']    \n",
      "                                                                                                  \n",
      " conv2_block2_3_bn (BatchNormal  (None, 32, 32, 256)  1024       ['conv2_block2_3_conv[0][0]']    \n",
      " ization)                                                                                         \n",
      "                                                                                                  \n",
      " conv2_block2_add (Add)         (None, 32, 32, 256)  0           ['conv2_block1_out[0][0]',       \n",
      "                                                                  'conv2_block2_3_bn[0][0]']      \n",
      "                                                                                                  \n",
      " conv2_block2_out (Activation)  (None, 32, 32, 256)  0           ['conv2_block2_add[0][0]']       \n",
      "                                                                                                  \n",
      " conv2_block3_1_conv (Conv2D)   (None, 32, 32, 64)   16448       ['conv2_block2_out[0][0]']       \n",
      "                                                                                                  \n",
      " conv2_block3_1_bn (BatchNormal  (None, 32, 32, 64)  256         ['conv2_block3_1_conv[0][0]']    \n",
      " ization)                                                                                         \n",
      "                                                                                                  \n",
      " conv2_block3_1_relu (Activatio  (None, 32, 32, 64)  0           ['conv2_block3_1_bn[0][0]']      \n",
      " n)                                                                                               \n",
      "                                                                                                  \n"
     ]
    },
    {
     "name": "stdout",
     "output_type": "stream",
     "text": [
      " conv2_block3_2_conv (Conv2D)   (None, 32, 32, 64)   36928       ['conv2_block3_1_relu[0][0]']    \n",
      "                                                                                                  \n",
      " conv2_block3_2_bn (BatchNormal  (None, 32, 32, 64)  256         ['conv2_block3_2_conv[0][0]']    \n",
      " ization)                                                                                         \n",
      "                                                                                                  \n",
      " conv2_block3_2_relu (Activatio  (None, 32, 32, 64)  0           ['conv2_block3_2_bn[0][0]']      \n",
      " n)                                                                                               \n",
      "                                                                                                  \n",
      " conv2_block3_3_conv (Conv2D)   (None, 32, 32, 256)  16640       ['conv2_block3_2_relu[0][0]']    \n",
      "                                                                                                  \n",
      " conv2_block3_3_bn (BatchNormal  (None, 32, 32, 256)  1024       ['conv2_block3_3_conv[0][0]']    \n",
      " ization)                                                                                         \n",
      "                                                                                                  \n",
      " conv2_block3_add (Add)         (None, 32, 32, 256)  0           ['conv2_block2_out[0][0]',       \n",
      "                                                                  'conv2_block3_3_bn[0][0]']      \n",
      "                                                                                                  \n",
      " conv2_block3_out (Activation)  (None, 32, 32, 256)  0           ['conv2_block3_add[0][0]']       \n",
      "                                                                                                  \n",
      " conv3_block1_1_conv (Conv2D)   (None, 16, 16, 128)  32896       ['conv2_block3_out[0][0]']       \n",
      "                                                                                                  \n",
      " conv3_block1_1_bn (BatchNormal  (None, 16, 16, 128)  512        ['conv3_block1_1_conv[0][0]']    \n",
      " ization)                                                                                         \n",
      "                                                                                                  \n",
      " conv3_block1_1_relu (Activatio  (None, 16, 16, 128)  0          ['conv3_block1_1_bn[0][0]']      \n",
      " n)                                                                                               \n",
      "                                                                                                  \n",
      " conv3_block1_2_conv (Conv2D)   (None, 16, 16, 128)  147584      ['conv3_block1_1_relu[0][0]']    \n",
      "                                                                                                  \n",
      " conv3_block1_2_bn (BatchNormal  (None, 16, 16, 128)  512        ['conv3_block1_2_conv[0][0]']    \n",
      " ization)                                                                                         \n",
      "                                                                                                  \n",
      " conv3_block1_2_relu (Activatio  (None, 16, 16, 128)  0          ['conv3_block1_2_bn[0][0]']      \n",
      " n)                                                                                               \n",
      "                                                                                                  \n",
      " conv3_block1_0_conv (Conv2D)   (None, 16, 16, 512)  131584      ['conv2_block3_out[0][0]']       \n",
      "                                                                                                  \n",
      " conv3_block1_3_conv (Conv2D)   (None, 16, 16, 512)  66048       ['conv3_block1_2_relu[0][0]']    \n",
      "                                                                                                  \n",
      " conv3_block1_0_bn (BatchNormal  (None, 16, 16, 512)  2048       ['conv3_block1_0_conv[0][0]']    \n",
      " ization)                                                                                         \n",
      "                                                                                                  \n",
      " conv3_block1_3_bn (BatchNormal  (None, 16, 16, 512)  2048       ['conv3_block1_3_conv[0][0]']    \n",
      " ization)                                                                                         \n",
      "                                                                                                  \n",
      " conv3_block1_add (Add)         (None, 16, 16, 512)  0           ['conv3_block1_0_bn[0][0]',      \n",
      "                                                                  'conv3_block1_3_bn[0][0]']      \n",
      "                                                                                                  \n",
      " conv3_block1_out (Activation)  (None, 16, 16, 512)  0           ['conv3_block1_add[0][0]']       \n",
      "                                                                                                  \n",
      " conv3_block2_1_conv (Conv2D)   (None, 16, 16, 128)  65664       ['conv3_block1_out[0][0]']       \n",
      "                                                                                                  \n",
      " conv3_block2_1_bn (BatchNormal  (None, 16, 16, 128)  512        ['conv3_block2_1_conv[0][0]']    \n",
      " ization)                                                                                         \n",
      "                                                                                                  \n",
      " conv3_block2_1_relu (Activatio  (None, 16, 16, 128)  0          ['conv3_block2_1_bn[0][0]']      \n",
      " n)                                                                                               \n",
      "                                                                                                  \n",
      " conv3_block2_2_conv (Conv2D)   (None, 16, 16, 128)  147584      ['conv3_block2_1_relu[0][0]']    \n",
      "                                                                                                  \n",
      " conv3_block2_2_bn (BatchNormal  (None, 16, 16, 128)  512        ['conv3_block2_2_conv[0][0]']    \n",
      " ization)                                                                                         \n",
      "                                                                                                  \n",
      " conv3_block2_2_relu (Activatio  (None, 16, 16, 128)  0          ['conv3_block2_2_bn[0][0]']      \n",
      " n)                                                                                               \n",
      "                                                                                                  \n",
      " conv3_block2_3_conv (Conv2D)   (None, 16, 16, 512)  66048       ['conv3_block2_2_relu[0][0]']    \n",
      "                                                                                                  \n",
      " conv3_block2_3_bn (BatchNormal  (None, 16, 16, 512)  2048       ['conv3_block2_3_conv[0][0]']    \n",
      " ization)                                                                                         \n",
      "                                                                                                  \n",
      " conv3_block2_add (Add)         (None, 16, 16, 512)  0           ['conv3_block1_out[0][0]',       \n",
      "                                                                  'conv3_block2_3_bn[0][0]']      \n",
      "                                                                                                  \n",
      " conv3_block2_out (Activation)  (None, 16, 16, 512)  0           ['conv3_block2_add[0][0]']       \n",
      "                                                                                                  \n",
      " conv3_block3_1_conv (Conv2D)   (None, 16, 16, 128)  65664       ['conv3_block2_out[0][0]']       \n",
      "                                                                                                  \n",
      " conv3_block3_1_bn (BatchNormal  (None, 16, 16, 128)  512        ['conv3_block3_1_conv[0][0]']    \n",
      " ization)                                                                                         \n",
      "                                                                                                  \n",
      " conv3_block3_1_relu (Activatio  (None, 16, 16, 128)  0          ['conv3_block3_1_bn[0][0]']      \n",
      " n)                                                                                               \n",
      "                                                                                                  \n"
     ]
    },
    {
     "name": "stdout",
     "output_type": "stream",
     "text": [
      " conv3_block3_2_conv (Conv2D)   (None, 16, 16, 128)  147584      ['conv3_block3_1_relu[0][0]']    \n",
      "                                                                                                  \n",
      " conv3_block3_2_bn (BatchNormal  (None, 16, 16, 128)  512        ['conv3_block3_2_conv[0][0]']    \n",
      " ization)                                                                                         \n",
      "                                                                                                  \n",
      " conv3_block3_2_relu (Activatio  (None, 16, 16, 128)  0          ['conv3_block3_2_bn[0][0]']      \n",
      " n)                                                                                               \n",
      "                                                                                                  \n",
      " conv3_block3_3_conv (Conv2D)   (None, 16, 16, 512)  66048       ['conv3_block3_2_relu[0][0]']    \n",
      "                                                                                                  \n",
      " conv3_block3_3_bn (BatchNormal  (None, 16, 16, 512)  2048       ['conv3_block3_3_conv[0][0]']    \n",
      " ization)                                                                                         \n",
      "                                                                                                  \n",
      " conv3_block3_add (Add)         (None, 16, 16, 512)  0           ['conv3_block2_out[0][0]',       \n",
      "                                                                  'conv3_block3_3_bn[0][0]']      \n",
      "                                                                                                  \n",
      " conv3_block3_out (Activation)  (None, 16, 16, 512)  0           ['conv3_block3_add[0][0]']       \n",
      "                                                                                                  \n",
      " conv3_block4_1_conv (Conv2D)   (None, 16, 16, 128)  65664       ['conv3_block3_out[0][0]']       \n",
      "                                                                                                  \n",
      " conv3_block4_1_bn (BatchNormal  (None, 16, 16, 128)  512        ['conv3_block4_1_conv[0][0]']    \n",
      " ization)                                                                                         \n",
      "                                                                                                  \n",
      " conv3_block4_1_relu (Activatio  (None, 16, 16, 128)  0          ['conv3_block4_1_bn[0][0]']      \n",
      " n)                                                                                               \n",
      "                                                                                                  \n",
      " conv3_block4_2_conv (Conv2D)   (None, 16, 16, 128)  147584      ['conv3_block4_1_relu[0][0]']    \n",
      "                                                                                                  \n",
      " conv3_block4_2_bn (BatchNormal  (None, 16, 16, 128)  512        ['conv3_block4_2_conv[0][0]']    \n",
      " ization)                                                                                         \n",
      "                                                                                                  \n",
      " conv3_block4_2_relu (Activatio  (None, 16, 16, 128)  0          ['conv3_block4_2_bn[0][0]']      \n",
      " n)                                                                                               \n",
      "                                                                                                  \n",
      " conv3_block4_3_conv (Conv2D)   (None, 16, 16, 512)  66048       ['conv3_block4_2_relu[0][0]']    \n",
      "                                                                                                  \n",
      " conv3_block4_3_bn (BatchNormal  (None, 16, 16, 512)  2048       ['conv3_block4_3_conv[0][0]']    \n",
      " ization)                                                                                         \n",
      "                                                                                                  \n",
      " conv3_block4_add (Add)         (None, 16, 16, 512)  0           ['conv3_block3_out[0][0]',       \n",
      "                                                                  'conv3_block4_3_bn[0][0]']      \n",
      "                                                                                                  \n",
      " conv3_block4_out (Activation)  (None, 16, 16, 512)  0           ['conv3_block4_add[0][0]']       \n",
      "                                                                                                  \n",
      " conv4_block1_1_conv (Conv2D)   (None, 8, 8, 256)    131328      ['conv3_block4_out[0][0]']       \n",
      "                                                                                                  \n",
      " conv4_block1_1_bn (BatchNormal  (None, 8, 8, 256)   1024        ['conv4_block1_1_conv[0][0]']    \n",
      " ization)                                                                                         \n",
      "                                                                                                  \n",
      " conv4_block1_1_relu (Activatio  (None, 8, 8, 256)   0           ['conv4_block1_1_bn[0][0]']      \n",
      " n)                                                                                               \n",
      "                                                                                                  \n",
      " conv4_block1_2_conv (Conv2D)   (None, 8, 8, 256)    590080      ['conv4_block1_1_relu[0][0]']    \n",
      "                                                                                                  \n",
      " conv4_block1_2_bn (BatchNormal  (None, 8, 8, 256)   1024        ['conv4_block1_2_conv[0][0]']    \n",
      " ization)                                                                                         \n",
      "                                                                                                  \n",
      " conv4_block1_2_relu (Activatio  (None, 8, 8, 256)   0           ['conv4_block1_2_bn[0][0]']      \n",
      " n)                                                                                               \n",
      "                                                                                                  \n",
      " conv4_block1_0_conv (Conv2D)   (None, 8, 8, 1024)   525312      ['conv3_block4_out[0][0]']       \n",
      "                                                                                                  \n",
      " conv4_block1_3_conv (Conv2D)   (None, 8, 8, 1024)   263168      ['conv4_block1_2_relu[0][0]']    \n",
      "                                                                                                  \n",
      " conv4_block1_0_bn (BatchNormal  (None, 8, 8, 1024)  4096        ['conv4_block1_0_conv[0][0]']    \n",
      " ization)                                                                                         \n",
      "                                                                                                  \n",
      " conv4_block1_3_bn (BatchNormal  (None, 8, 8, 1024)  4096        ['conv4_block1_3_conv[0][0]']    \n",
      " ization)                                                                                         \n",
      "                                                                                                  \n",
      " conv4_block1_add (Add)         (None, 8, 8, 1024)   0           ['conv4_block1_0_bn[0][0]',      \n",
      "                                                                  'conv4_block1_3_bn[0][0]']      \n",
      "                                                                                                  \n",
      " conv4_block1_out (Activation)  (None, 8, 8, 1024)   0           ['conv4_block1_add[0][0]']       \n",
      "                                                                                                  \n",
      " conv4_block2_1_conv (Conv2D)   (None, 8, 8, 256)    262400      ['conv4_block1_out[0][0]']       \n",
      "                                                                                                  \n",
      " conv4_block2_1_bn (BatchNormal  (None, 8, 8, 256)   1024        ['conv4_block2_1_conv[0][0]']    \n",
      " ization)                                                                                         \n",
      "                                                                                                  \n",
      " conv4_block2_1_relu (Activatio  (None, 8, 8, 256)   0           ['conv4_block2_1_bn[0][0]']      \n",
      " n)                                                                                               \n",
      "                                                                                                  \n"
     ]
    },
    {
     "name": "stdout",
     "output_type": "stream",
     "text": [
      " conv4_block2_2_conv (Conv2D)   (None, 8, 8, 256)    590080      ['conv4_block2_1_relu[0][0]']    \n",
      "                                                                                                  \n",
      " conv4_block2_2_bn (BatchNormal  (None, 8, 8, 256)   1024        ['conv4_block2_2_conv[0][0]']    \n",
      " ization)                                                                                         \n",
      "                                                                                                  \n",
      " conv4_block2_2_relu (Activatio  (None, 8, 8, 256)   0           ['conv4_block2_2_bn[0][0]']      \n",
      " n)                                                                                               \n",
      "                                                                                                  \n",
      " conv4_block2_3_conv (Conv2D)   (None, 8, 8, 1024)   263168      ['conv4_block2_2_relu[0][0]']    \n",
      "                                                                                                  \n",
      " conv4_block2_3_bn (BatchNormal  (None, 8, 8, 1024)  4096        ['conv4_block2_3_conv[0][0]']    \n",
      " ization)                                                                                         \n",
      "                                                                                                  \n",
      " conv4_block2_add (Add)         (None, 8, 8, 1024)   0           ['conv4_block1_out[0][0]',       \n",
      "                                                                  'conv4_block2_3_bn[0][0]']      \n",
      "                                                                                                  \n",
      " conv4_block2_out (Activation)  (None, 8, 8, 1024)   0           ['conv4_block2_add[0][0]']       \n",
      "                                                                                                  \n",
      " conv4_block3_1_conv (Conv2D)   (None, 8, 8, 256)    262400      ['conv4_block2_out[0][0]']       \n",
      "                                                                                                  \n",
      " conv4_block3_1_bn (BatchNormal  (None, 8, 8, 256)   1024        ['conv4_block3_1_conv[0][0]']    \n",
      " ization)                                                                                         \n",
      "                                                                                                  \n",
      " conv4_block3_1_relu (Activatio  (None, 8, 8, 256)   0           ['conv4_block3_1_bn[0][0]']      \n",
      " n)                                                                                               \n",
      "                                                                                                  \n",
      " conv4_block3_2_conv (Conv2D)   (None, 8, 8, 256)    590080      ['conv4_block3_1_relu[0][0]']    \n",
      "                                                                                                  \n",
      " conv4_block3_2_bn (BatchNormal  (None, 8, 8, 256)   1024        ['conv4_block3_2_conv[0][0]']    \n",
      " ization)                                                                                         \n",
      "                                                                                                  \n",
      " conv4_block3_2_relu (Activatio  (None, 8, 8, 256)   0           ['conv4_block3_2_bn[0][0]']      \n",
      " n)                                                                                               \n",
      "                                                                                                  \n",
      " conv4_block3_3_conv (Conv2D)   (None, 8, 8, 1024)   263168      ['conv4_block3_2_relu[0][0]']    \n",
      "                                                                                                  \n",
      " conv4_block3_3_bn (BatchNormal  (None, 8, 8, 1024)  4096        ['conv4_block3_3_conv[0][0]']    \n",
      " ization)                                                                                         \n",
      "                                                                                                  \n",
      " conv4_block3_add (Add)         (None, 8, 8, 1024)   0           ['conv4_block2_out[0][0]',       \n",
      "                                                                  'conv4_block3_3_bn[0][0]']      \n",
      "                                                                                                  \n",
      " conv4_block3_out (Activation)  (None, 8, 8, 1024)   0           ['conv4_block3_add[0][0]']       \n",
      "                                                                                                  \n",
      " conv4_block4_1_conv (Conv2D)   (None, 8, 8, 256)    262400      ['conv4_block3_out[0][0]']       \n",
      "                                                                                                  \n",
      " conv4_block4_1_bn (BatchNormal  (None, 8, 8, 256)   1024        ['conv4_block4_1_conv[0][0]']    \n",
      " ization)                                                                                         \n",
      "                                                                                                  \n",
      " conv4_block4_1_relu (Activatio  (None, 8, 8, 256)   0           ['conv4_block4_1_bn[0][0]']      \n",
      " n)                                                                                               \n",
      "                                                                                                  \n",
      " conv4_block4_2_conv (Conv2D)   (None, 8, 8, 256)    590080      ['conv4_block4_1_relu[0][0]']    \n",
      "                                                                                                  \n",
      " conv4_block4_2_bn (BatchNormal  (None, 8, 8, 256)   1024        ['conv4_block4_2_conv[0][0]']    \n",
      " ization)                                                                                         \n",
      "                                                                                                  \n",
      " conv4_block4_2_relu (Activatio  (None, 8, 8, 256)   0           ['conv4_block4_2_bn[0][0]']      \n",
      " n)                                                                                               \n",
      "                                                                                                  \n",
      " conv4_block4_3_conv (Conv2D)   (None, 8, 8, 1024)   263168      ['conv4_block4_2_relu[0][0]']    \n",
      "                                                                                                  \n",
      " conv4_block4_3_bn (BatchNormal  (None, 8, 8, 1024)  4096        ['conv4_block4_3_conv[0][0]']    \n",
      " ization)                                                                                         \n",
      "                                                                                                  \n",
      " conv4_block4_add (Add)         (None, 8, 8, 1024)   0           ['conv4_block3_out[0][0]',       \n",
      "                                                                  'conv4_block4_3_bn[0][0]']      \n",
      "                                                                                                  \n",
      " conv4_block4_out (Activation)  (None, 8, 8, 1024)   0           ['conv4_block4_add[0][0]']       \n",
      "                                                                                                  \n",
      " conv4_block5_1_conv (Conv2D)   (None, 8, 8, 256)    262400      ['conv4_block4_out[0][0]']       \n",
      "                                                                                                  \n",
      " conv4_block5_1_bn (BatchNormal  (None, 8, 8, 256)   1024        ['conv4_block5_1_conv[0][0]']    \n",
      " ization)                                                                                         \n",
      "                                                                                                  \n",
      " conv4_block5_1_relu (Activatio  (None, 8, 8, 256)   0           ['conv4_block5_1_bn[0][0]']      \n",
      " n)                                                                                               \n",
      "                                                                                                  \n",
      " conv4_block5_2_conv (Conv2D)   (None, 8, 8, 256)    590080      ['conv4_block5_1_relu[0][0]']    \n",
      "                                                                                                  \n",
      " conv4_block5_2_bn (BatchNormal  (None, 8, 8, 256)   1024        ['conv4_block5_2_conv[0][0]']    \n",
      " ization)                                                                                         \n",
      "                                                                                                  \n"
     ]
    },
    {
     "name": "stdout",
     "output_type": "stream",
     "text": [
      " conv4_block5_2_relu (Activatio  (None, 8, 8, 256)   0           ['conv4_block5_2_bn[0][0]']      \n",
      " n)                                                                                               \n",
      "                                                                                                  \n",
      " conv4_block5_3_conv (Conv2D)   (None, 8, 8, 1024)   263168      ['conv4_block5_2_relu[0][0]']    \n",
      "                                                                                                  \n",
      " conv4_block5_3_bn (BatchNormal  (None, 8, 8, 1024)  4096        ['conv4_block5_3_conv[0][0]']    \n",
      " ization)                                                                                         \n",
      "                                                                                                  \n",
      " conv4_block5_add (Add)         (None, 8, 8, 1024)   0           ['conv4_block4_out[0][0]',       \n",
      "                                                                  'conv4_block5_3_bn[0][0]']      \n",
      "                                                                                                  \n",
      " conv4_block5_out (Activation)  (None, 8, 8, 1024)   0           ['conv4_block5_add[0][0]']       \n",
      "                                                                                                  \n",
      " conv4_block6_1_conv (Conv2D)   (None, 8, 8, 256)    262400      ['conv4_block5_out[0][0]']       \n",
      "                                                                                                  \n",
      " conv4_block6_1_bn (BatchNormal  (None, 8, 8, 256)   1024        ['conv4_block6_1_conv[0][0]']    \n",
      " ization)                                                                                         \n",
      "                                                                                                  \n",
      " conv4_block6_1_relu (Activatio  (None, 8, 8, 256)   0           ['conv4_block6_1_bn[0][0]']      \n",
      " n)                                                                                               \n",
      "                                                                                                  \n",
      " conv4_block6_2_conv (Conv2D)   (None, 8, 8, 256)    590080      ['conv4_block6_1_relu[0][0]']    \n",
      "                                                                                                  \n",
      " conv4_block6_2_bn (BatchNormal  (None, 8, 8, 256)   1024        ['conv4_block6_2_conv[0][0]']    \n",
      " ization)                                                                                         \n",
      "                                                                                                  \n",
      " conv4_block6_2_relu (Activatio  (None, 8, 8, 256)   0           ['conv4_block6_2_bn[0][0]']      \n",
      " n)                                                                                               \n",
      "                                                                                                  \n",
      " conv4_block6_3_conv (Conv2D)   (None, 8, 8, 1024)   263168      ['conv4_block6_2_relu[0][0]']    \n",
      "                                                                                                  \n",
      " conv4_block6_3_bn (BatchNormal  (None, 8, 8, 1024)  4096        ['conv4_block6_3_conv[0][0]']    \n",
      " ization)                                                                                         \n",
      "                                                                                                  \n",
      " conv4_block6_add (Add)         (None, 8, 8, 1024)   0           ['conv4_block5_out[0][0]',       \n",
      "                                                                  'conv4_block6_3_bn[0][0]']      \n",
      "                                                                                                  \n",
      " conv4_block6_out (Activation)  (None, 8, 8, 1024)   0           ['conv4_block6_add[0][0]']       \n",
      "                                                                                                  \n",
      " conv5_block1_1_conv (Conv2D)   (None, 4, 4, 512)    524800      ['conv4_block6_out[0][0]']       \n",
      "                                                                                                  \n",
      " conv5_block1_1_bn (BatchNormal  (None, 4, 4, 512)   2048        ['conv5_block1_1_conv[0][0]']    \n",
      " ization)                                                                                         \n",
      "                                                                                                  \n",
      " conv5_block1_1_relu (Activatio  (None, 4, 4, 512)   0           ['conv5_block1_1_bn[0][0]']      \n",
      " n)                                                                                               \n",
      "                                                                                                  \n",
      " conv5_block1_2_conv (Conv2D)   (None, 4, 4, 512)    2359808     ['conv5_block1_1_relu[0][0]']    \n",
      "                                                                                                  \n",
      " conv5_block1_2_bn (BatchNormal  (None, 4, 4, 512)   2048        ['conv5_block1_2_conv[0][0]']    \n",
      " ization)                                                                                         \n",
      "                                                                                                  \n",
      " conv5_block1_2_relu (Activatio  (None, 4, 4, 512)   0           ['conv5_block1_2_bn[0][0]']      \n",
      " n)                                                                                               \n",
      "                                                                                                  \n",
      " conv5_block1_0_conv (Conv2D)   (None, 4, 4, 2048)   2099200     ['conv4_block6_out[0][0]']       \n",
      "                                                                                                  \n",
      " conv5_block1_3_conv (Conv2D)   (None, 4, 4, 2048)   1050624     ['conv5_block1_2_relu[0][0]']    \n",
      "                                                                                                  \n",
      " conv5_block1_0_bn (BatchNormal  (None, 4, 4, 2048)  8192        ['conv5_block1_0_conv[0][0]']    \n",
      " ization)                                                                                         \n",
      "                                                                                                  \n",
      " conv5_block1_3_bn (BatchNormal  (None, 4, 4, 2048)  8192        ['conv5_block1_3_conv[0][0]']    \n",
      " ization)                                                                                         \n",
      "                                                                                                  \n",
      " conv5_block1_add (Add)         (None, 4, 4, 2048)   0           ['conv5_block1_0_bn[0][0]',      \n",
      "                                                                  'conv5_block1_3_bn[0][0]']      \n",
      "                                                                                                  \n",
      " conv5_block1_out (Activation)  (None, 4, 4, 2048)   0           ['conv5_block1_add[0][0]']       \n",
      "                                                                                                  \n",
      " conv5_block2_1_conv (Conv2D)   (None, 4, 4, 512)    1049088     ['conv5_block1_out[0][0]']       \n",
      "                                                                                                  \n",
      " conv5_block2_1_bn (BatchNormal  (None, 4, 4, 512)   2048        ['conv5_block2_1_conv[0][0]']    \n",
      " ization)                                                                                         \n",
      "                                                                                                  \n",
      " conv5_block2_1_relu (Activatio  (None, 4, 4, 512)   0           ['conv5_block2_1_bn[0][0]']      \n",
      " n)                                                                                               \n",
      "                                                                                                  \n",
      " conv5_block2_2_conv (Conv2D)   (None, 4, 4, 512)    2359808     ['conv5_block2_1_relu[0][0]']    \n",
      "                                                                                                  \n",
      " conv5_block2_2_bn (BatchNormal  (None, 4, 4, 512)   2048        ['conv5_block2_2_conv[0][0]']    \n",
      " ization)                                                                                         \n",
      "                                                                                                  \n"
     ]
    },
    {
     "name": "stdout",
     "output_type": "stream",
     "text": [
      " conv5_block2_2_relu (Activatio  (None, 4, 4, 512)   0           ['conv5_block2_2_bn[0][0]']      \n",
      " n)                                                                                               \n",
      "                                                                                                  \n",
      " conv5_block2_3_conv (Conv2D)   (None, 4, 4, 2048)   1050624     ['conv5_block2_2_relu[0][0]']    \n",
      "                                                                                                  \n",
      " conv5_block2_3_bn (BatchNormal  (None, 4, 4, 2048)  8192        ['conv5_block2_3_conv[0][0]']    \n",
      " ization)                                                                                         \n",
      "                                                                                                  \n",
      " conv5_block2_add (Add)         (None, 4, 4, 2048)   0           ['conv5_block1_out[0][0]',       \n",
      "                                                                  'conv5_block2_3_bn[0][0]']      \n",
      "                                                                                                  \n",
      " conv5_block2_out (Activation)  (None, 4, 4, 2048)   0           ['conv5_block2_add[0][0]']       \n",
      "                                                                                                  \n",
      " conv5_block3_1_conv (Conv2D)   (None, 4, 4, 512)    1049088     ['conv5_block2_out[0][0]']       \n",
      "                                                                                                  \n",
      " conv5_block3_1_bn (BatchNormal  (None, 4, 4, 512)   2048        ['conv5_block3_1_conv[0][0]']    \n",
      " ization)                                                                                         \n",
      "                                                                                                  \n",
      " conv5_block3_1_relu (Activatio  (None, 4, 4, 512)   0           ['conv5_block3_1_bn[0][0]']      \n",
      " n)                                                                                               \n",
      "                                                                                                  \n",
      " conv5_block3_2_conv (Conv2D)   (None, 4, 4, 512)    2359808     ['conv5_block3_1_relu[0][0]']    \n",
      "                                                                                                  \n",
      " conv5_block3_2_bn (BatchNormal  (None, 4, 4, 512)   2048        ['conv5_block3_2_conv[0][0]']    \n",
      " ization)                                                                                         \n",
      "                                                                                                  \n",
      " conv5_block3_2_relu (Activatio  (None, 4, 4, 512)   0           ['conv5_block3_2_bn[0][0]']      \n",
      " n)                                                                                               \n",
      "                                                                                                  \n",
      " conv5_block3_3_conv (Conv2D)   (None, 4, 4, 2048)   1050624     ['conv5_block3_2_relu[0][0]']    \n",
      "                                                                                                  \n",
      " conv5_block3_3_bn (BatchNormal  (None, 4, 4, 2048)  8192        ['conv5_block3_3_conv[0][0]']    \n",
      " ization)                                                                                         \n",
      "                                                                                                  \n",
      " conv5_block3_add (Add)         (None, 4, 4, 2048)   0           ['conv5_block2_out[0][0]',       \n",
      "                                                                  'conv5_block3_3_bn[0][0]']      \n",
      "                                                                                                  \n",
      " conv5_block3_out (Activation)  (None, 4, 4, 2048)   0           ['conv5_block3_add[0][0]']       \n",
      "                                                                                                  \n",
      "==================================================================================================\n",
      "Total params: 23,587,712\n",
      "Trainable params: 23,534,592\n",
      "Non-trainable params: 53,120\n",
      "__________________________________________________________________________________________________\n"
     ]
    }
   ],
   "source": [
    "model.summary()"
   ]
  },
  {
   "cell_type": "code",
   "execution_count": 24,
   "metadata": {},
   "outputs": [],
   "source": [
    "def getLayerIndexByName(model, layername):\n",
    "    for idx, layer in enumerate(model.layers):\n",
    "        if layer.name == layername:\n",
    "            return idx"
   ]
  },
  {
   "cell_type": "code",
   "execution_count": 25,
   "metadata": {},
   "outputs": [],
   "source": [
    "#print(getLayerIndexByName(new_model, 'flatten_1')) #just used to get the index of flatten layer"
   ]
  },
  {
   "cell_type": "code",
   "execution_count": 26,
   "metadata": {},
   "outputs": [
    {
     "name": "stdout",
     "output_type": "stream",
     "text": [
      "WARNING:tensorflow:Compiled the loaded model, but the compiled metrics have yet to be built. `model.compile_metrics` will be empty until you train or evaluate the model.\n"
     ]
    },
    {
     "name": "stderr",
     "output_type": "stream",
     "text": [
      "WARNING:absl:Found untraced functions such as _jit_compiled_convolution_op, _jit_compiled_convolution_op, _jit_compiled_convolution_op, _jit_compiled_convolution_op, _jit_compiled_convolution_op while saving (showing 5 of 53). These functions will not be directly callable after loading.\n"
     ]
    },
    {
     "name": "stdout",
     "output_type": "stream",
     "text": [
      "INFO:tensorflow:Assets written to: resnet50-baseline-holdout-100epochs.npy\\assets\n"
     ]
    },
    {
     "name": "stderr",
     "output_type": "stream",
     "text": [
      "INFO:tensorflow:Assets written to: resnet50-baseline-holdout-100epochs.npy\\assets\n"
     ]
    }
   ],
   "source": [
    "model_name = f'resnet50-baseline-holdout-{epochs}epochs.npy'\n",
    "model.save(model_name)"
   ]
  },
  {
   "cell_type": "markdown",
   "metadata": {},
   "source": [
    "**Random Forest**"
   ]
  },
  {
   "cell_type": "code",
   "execution_count": 27,
   "metadata": {},
   "outputs": [
    {
     "name": "stdout",
     "output_type": "stream",
     "text": [
      "60/60 [==============================] - 8s 77ms/step\n"
     ]
    }
   ],
   "source": [
    "new_model_rf = keras.Model(inputs=new_model.input, outputs=new_model.get_layer(index=9).output)\n",
    "featureVector = new_model_rf.predict(train_x)"
   ]
  },
  {
   "cell_type": "code",
   "execution_count": 28,
   "metadata": {},
   "outputs": [
    {
     "name": "stdout",
     "output_type": "stream",
     "text": [
      "8/8 [==============================] - 3s 142ms/step\n"
     ]
    }
   ],
   "source": [
    "featureVector2 = new_model_rf.predict(test_x)"
   ]
  },
  {
   "cell_type": "code",
   "execution_count": 29,
   "metadata": {},
   "outputs": [
    {
     "name": "stdout",
     "output_type": "stream",
     "text": [
      "(1894, 64)\n"
     ]
    }
   ],
   "source": [
    "print(featureVector.shape)"
   ]
  },
  {
   "cell_type": "code",
   "execution_count": 30,
   "metadata": {},
   "outputs": [],
   "source": [
    "from sklearn.ensemble import RandomForestClassifier"
   ]
  },
  {
   "cell_type": "code",
   "execution_count": 31,
   "metadata": {},
   "outputs": [
    {
     "data": {
      "text/html": [
       "<style>#sk-container-id-1 {color: black;background-color: white;}#sk-container-id-1 pre{padding: 0;}#sk-container-id-1 div.sk-toggleable {background-color: white;}#sk-container-id-1 label.sk-toggleable__label {cursor: pointer;display: block;width: 100%;margin-bottom: 0;padding: 0.3em;box-sizing: border-box;text-align: center;}#sk-container-id-1 label.sk-toggleable__label-arrow:before {content: \"▸\";float: left;margin-right: 0.25em;color: #696969;}#sk-container-id-1 label.sk-toggleable__label-arrow:hover:before {color: black;}#sk-container-id-1 div.sk-estimator:hover label.sk-toggleable__label-arrow:before {color: black;}#sk-container-id-1 div.sk-toggleable__content {max-height: 0;max-width: 0;overflow: hidden;text-align: left;background-color: #f0f8ff;}#sk-container-id-1 div.sk-toggleable__content pre {margin: 0.2em;color: black;border-radius: 0.25em;background-color: #f0f8ff;}#sk-container-id-1 input.sk-toggleable__control:checked~div.sk-toggleable__content {max-height: 200px;max-width: 100%;overflow: auto;}#sk-container-id-1 input.sk-toggleable__control:checked~label.sk-toggleable__label-arrow:before {content: \"▾\";}#sk-container-id-1 div.sk-estimator input.sk-toggleable__control:checked~label.sk-toggleable__label {background-color: #d4ebff;}#sk-container-id-1 div.sk-label input.sk-toggleable__control:checked~label.sk-toggleable__label {background-color: #d4ebff;}#sk-container-id-1 input.sk-hidden--visually {border: 0;clip: rect(1px 1px 1px 1px);clip: rect(1px, 1px, 1px, 1px);height: 1px;margin: -1px;overflow: hidden;padding: 0;position: absolute;width: 1px;}#sk-container-id-1 div.sk-estimator {font-family: monospace;background-color: #f0f8ff;border: 1px dotted black;border-radius: 0.25em;box-sizing: border-box;margin-bottom: 0.5em;}#sk-container-id-1 div.sk-estimator:hover {background-color: #d4ebff;}#sk-container-id-1 div.sk-parallel-item::after {content: \"\";width: 100%;border-bottom: 1px solid gray;flex-grow: 1;}#sk-container-id-1 div.sk-label:hover label.sk-toggleable__label {background-color: #d4ebff;}#sk-container-id-1 div.sk-serial::before {content: \"\";position: absolute;border-left: 1px solid gray;box-sizing: border-box;top: 0;bottom: 0;left: 50%;z-index: 0;}#sk-container-id-1 div.sk-serial {display: flex;flex-direction: column;align-items: center;background-color: white;padding-right: 0.2em;padding-left: 0.2em;position: relative;}#sk-container-id-1 div.sk-item {position: relative;z-index: 1;}#sk-container-id-1 div.sk-parallel {display: flex;align-items: stretch;justify-content: center;background-color: white;position: relative;}#sk-container-id-1 div.sk-item::before, #sk-container-id-1 div.sk-parallel-item::before {content: \"\";position: absolute;border-left: 1px solid gray;box-sizing: border-box;top: 0;bottom: 0;left: 50%;z-index: -1;}#sk-container-id-1 div.sk-parallel-item {display: flex;flex-direction: column;z-index: 1;position: relative;background-color: white;}#sk-container-id-1 div.sk-parallel-item:first-child::after {align-self: flex-end;width: 50%;}#sk-container-id-1 div.sk-parallel-item:last-child::after {align-self: flex-start;width: 50%;}#sk-container-id-1 div.sk-parallel-item:only-child::after {width: 0;}#sk-container-id-1 div.sk-dashed-wrapped {border: 1px dashed gray;margin: 0 0.4em 0.5em 0.4em;box-sizing: border-box;padding-bottom: 0.4em;background-color: white;}#sk-container-id-1 div.sk-label label {font-family: monospace;font-weight: bold;display: inline-block;line-height: 1.2em;}#sk-container-id-1 div.sk-label-container {text-align: center;}#sk-container-id-1 div.sk-container {/* jupyter's `normalize.less` sets `[hidden] { display: none; }` but bootstrap.min.css set `[hidden] { display: none !important; }` so we also need the `!important` here to be able to override the default hidden behavior on the sphinx rendered scikit-learn.org. See: https://github.com/scikit-learn/scikit-learn/issues/21755 */display: inline-block !important;position: relative;}#sk-container-id-1 div.sk-text-repr-fallback {display: none;}</style><div id=\"sk-container-id-1\" class=\"sk-top-container\"><div class=\"sk-text-repr-fallback\"><pre>RandomForestClassifier()</pre><b>In a Jupyter environment, please rerun this cell to show the HTML representation or trust the notebook. <br />On GitHub, the HTML representation is unable to render, please try loading this page with nbviewer.org.</b></div><div class=\"sk-container\" hidden><div class=\"sk-item\"><div class=\"sk-estimator sk-toggleable\"><input class=\"sk-toggleable__control sk-hidden--visually\" id=\"sk-estimator-id-1\" type=\"checkbox\" checked><label for=\"sk-estimator-id-1\" class=\"sk-toggleable__label sk-toggleable__label-arrow\">RandomForestClassifier</label><div class=\"sk-toggleable__content\"><pre>RandomForestClassifier()</pre></div></div></div></div></div>"
      ],
      "text/plain": [
       "RandomForestClassifier()"
      ]
     },
     "execution_count": 31,
     "metadata": {},
     "output_type": "execute_result"
    }
   ],
   "source": [
    "clf=RandomForestClassifier(n_estimators=100)\n",
    "\n",
    "clf.fit(featureVector,train_y)\n",
    "\n"
   ]
  },
  {
   "cell_type": "code",
   "execution_count": 32,
   "metadata": {},
   "outputs": [
    {
     "data": {
      "text/plain": [
       "(236, 128, 128, 3)"
      ]
     },
     "execution_count": 32,
     "metadata": {},
     "output_type": "execute_result"
    }
   ],
   "source": [
    "test_x.shape"
   ]
  },
  {
   "cell_type": "code",
   "execution_count": 33,
   "metadata": {},
   "outputs": [],
   "source": [
    "y_pred=clf.predict(featureVector2)"
   ]
  },
  {
   "cell_type": "code",
   "execution_count": 34,
   "metadata": {},
   "outputs": [
    {
     "data": {
      "text/plain": [
       "(1894, 64)"
      ]
     },
     "execution_count": 34,
     "metadata": {},
     "output_type": "execute_result"
    }
   ],
   "source": [
    "featureVector.shape"
   ]
  },
  {
   "cell_type": "code",
   "execution_count": 35,
   "metadata": {},
   "outputs": [
    {
     "name": "stdout",
     "output_type": "stream",
     "text": [
      "Accuracy: 0.9661016949152542\n"
     ]
    }
   ],
   "source": [
    "from sklearn import metrics\n",
    "print(\"Accuracy:\",metrics.accuracy_score(test_y, y_pred))"
   ]
  },
  {
   "cell_type": "code",
   "execution_count": 36,
   "metadata": {},
   "outputs": [],
   "source": [
    "from sklearn.tree import DecisionTreeClassifier"
   ]
  },
  {
   "cell_type": "code",
   "execution_count": 37,
   "metadata": {},
   "outputs": [],
   "source": [
    "clf = DecisionTreeClassifier(random_state=0)"
   ]
  },
  {
   "cell_type": "markdown",
   "metadata": {
    "id": "v2tUu9UW4S_S"
   },
   "source": [
    "# **Testes**"
   ]
  },
  {
   "cell_type": "code",
   "execution_count": 38,
   "metadata": {
    "id": "-02BWWgF4V9h"
   },
   "outputs": [
    {
     "data": {
      "image/png": "[encoded data removed]",
      "text/plain": [
       "<Figure size 640x480 with 1 Axes>"
      ]
     },
     "metadata": {},
     "output_type": "display_data"
    },
    {
     "data": {
      "image/png": "[encoded data removed]",
      "text/plain": [
       "<Figure size 640x480 with 1 Axes>"
      ]
     },
     "metadata": {},
     "output_type": "display_data"
    }
   ],
   "source": [
    "import matplotlib.pyplot as plt\n",
    "\n",
    "accuracy = model_trained.history['acc']\n",
    "val_accuracy = model_trained.history['val_acc']\n",
    "loss = model_trained.history['loss']\n",
    "val_loss = model_trained.history['val_loss']\n",
    "epochs = range(len(accuracy))\n",
    "plt.plot(epochs, accuracy, 'b', label='Acurácia de treino')\n",
    "plt.plot(epochs, val_accuracy, 'g', label='Acurácia de validação')\n",
    "plt.title('Acurácia de treino e validação')\n",
    "plt.legend()\n",
    "plt.figure()\n",
    "plt.plot(epochs, loss, 'b', label='Perda no treino')\n",
    "plt.plot(epochs, val_loss, 'g', label='Perda na validação')\n",
    "plt.title('Perda na validação e treino')\n",
    "plt.legend()\n",
    "plt.show()"
   ]
  },
  {
   "cell_type": "code",
   "execution_count": 39,
   "metadata": {
    "id": "On7_hNmrOysp"
   },
   "outputs": [
    {
     "name": "stdout",
     "output_type": "stream",
     "text": [
      "8/8 [==============================] - 3s 80ms/step - loss: 0.1419 - acc: 0.9703\n",
      "Test loss: 0.14187610149383545\n",
      "Test accuracy: 0.9703390002250671\n"
     ]
    }
   ],
   "source": [
    "#avalia a fase de teste\n",
    "\n",
    "model_loss, model_accuracy = new_model.evaluate(test_x, test_y, verbose=1)\n",
    "\n",
    "#mostra o resultado\n",
    "print('Test loss:', model_loss)\n",
    "print('Test accuracy:', model_accuracy)"
   ]
  },
  {
   "cell_type": "code",
   "execution_count": 40,
   "metadata": {
    "id": "uGYRlhnq8wsF"
   },
   "outputs": [],
   "source": [
    "#faz a predição das imagens\n",
    "\n",
    "from tensorflow.keras.utils import to_categorical\n",
    "\n",
    "pred = new_model.predict(test_x, verbose=0)\n",
    "\n",
    "pred_probs = np.argmax(pred,axis=1)"
   ]
  },
  {
   "cell_type": "code",
   "execution_count": 41,
   "metadata": {
    "id": "Vt4jZ2jB8ygE"
   },
   "outputs": [],
   "source": [
    "from sklearn.metrics import confusion_matrix\n",
    "from sklearn.metrics import classification_report\n",
    "from sklearn.metrics import accuracy_score\n",
    "from sklearn.metrics import f1_score"
   ]
  },
  {
   "cell_type": "code",
   "execution_count": 42,
   "metadata": {
    "id": "9gx5yvuU84UC"
   },
   "outputs": [],
   "source": [
    "cm = confusion_matrix(test_y, pred_probs)"
   ]
  },
  {
   "cell_type": "code",
   "execution_count": 43,
   "metadata": {
    "id": "NUrE8yfU86OL"
   },
   "outputs": [
    {
     "name": "stdout",
     "output_type": "stream",
     "text": [
      "F1 Score: 0.970300113469925\n",
      "Sensitivity: [0.98275862 0.98412698 0.93220339 0.98214286]\n",
      "Specificity: [1.         0.98843931 0.98870056 0.98333333]\n",
      "Precision:   [1.         0.96875    0.96491228 0.94827586]\n",
      "Accuracy:    [0.99576271 0.98728814 0.97457627 0.98305085]\n"
     ]
    }
   ],
   "source": [
    "#gera os valores de falso positivo, falso negativo, verdadeiro positivo e verdadeiro negativo\n",
    "fp = cm.sum(axis=0) - np.diag(cm)  \n",
    "fn = cm.sum(axis=1) - np.diag(cm)\n",
    "tp = np.diag(cm)\n",
    "tn = cm.sum() - (fp + fn + tp)\n",
    "\n",
    "f1score = f1_score(test_y, pred_probs, average='weighted')\n",
    "sensitivity = tp / (tp + fn)\n",
    "specificity = tn / (tn + fp)\n",
    "accuracy    = (tp + tn) / (tp + tn + fp + fn)\n",
    "precision   = tp / (tp + fp)\n",
    "\n",
    "\n",
    "print(\"F1 Score:\", f1score)\n",
    "print(\"Sensitivity:\", sensitivity)\n",
    "print(\"Specificity:\", specificity)\n",
    "print(\"Precision:  \", precision)\n",
    "print(\"Accuracy:   \", accuracy)"
   ]
  },
  {
   "cell_type": "code",
   "execution_count": 45,
   "metadata": {},
   "outputs": [
    {
     "data": {
      "text/plain": [
       "array([[[[0.65098039, 0.58431373, 0.68627451],\n",
       "         [0.69803922, 0.63137255, 0.72156863],\n",
       "         [0.69803922, 0.64705882, 0.7372549 ],\n",
       "         ...,\n",
       "         [0.58039216, 0.49411765, 0.65490196],\n",
       "         [0.57254902, 0.49411765, 0.64705882],\n",
       "         [0.5372549 , 0.47058824, 0.62352941]],\n",
       "\n",
       "        [[0.68627451, 0.61176471, 0.72156863],\n",
       "         [0.70196078, 0.62745098, 0.73333333],\n",
       "         [0.70588235, 0.62352941, 0.7254902 ],\n",
       "         ...,\n",
       "         [0.60392157, 0.49803922, 0.65882353],\n",
       "         [0.6       , 0.49803922, 0.66666667],\n",
       "         [0.58431373, 0.49411765, 0.65882353]],\n",
       "\n",
       "        [[0.6745098 , 0.60784314, 0.71764706],\n",
       "         [0.69411765, 0.62352941, 0.70980392],\n",
       "         [0.69803922, 0.63137255, 0.71764706],\n",
       "         ...,\n",
       "         [0.61568627, 0.51372549, 0.67058824],\n",
       "         [0.61176471, 0.52156863, 0.6745098 ],\n",
       "         [0.58823529, 0.50980392, 0.65490196]],\n",
       "\n",
       "        ...,\n",
       "\n",
       "        [[0.64313725, 0.55294118, 0.69803922],\n",
       "         [0.60784314, 0.51764706, 0.65490196],\n",
       "         [0.63921569, 0.56470588, 0.68235294],\n",
       "         ...,\n",
       "         [0.61960784, 0.54509804, 0.67843137],\n",
       "         [0.59607843, 0.5254902 , 0.6627451 ],\n",
       "         [0.6       , 0.54509804, 0.67058824]],\n",
       "\n",
       "        [[0.65098039, 0.56078431, 0.70980392],\n",
       "         [0.62352941, 0.5372549 , 0.6627451 ],\n",
       "         [0.63137255, 0.55294118, 0.67058824],\n",
       "         ...,\n",
       "         [0.60392157, 0.51764706, 0.66666667],\n",
       "         [0.60392157, 0.51372549, 0.66666667],\n",
       "         [0.61176471, 0.54117647, 0.67843137]],\n",
       "\n",
       "        [[0.60392157, 0.53333333, 0.6745098 ],\n",
       "         [0.58431373, 0.52156863, 0.65490196],\n",
       "         [0.59607843, 0.52941176, 0.65882353],\n",
       "         ...,\n",
       "         [0.60392157, 0.51764706, 0.67058824],\n",
       "         [0.59607843, 0.51764706, 0.67843137],\n",
       "         [0.57254902, 0.52156863, 0.66666667]]],\n",
       "\n",
       "\n",
       "       [[[0.47843137, 0.41568627, 0.57647059],\n",
       "         [0.5372549 , 0.44705882, 0.61568627],\n",
       "         [0.59215686, 0.5254902 , 0.67058824],\n",
       "         ...,\n",
       "         [0.50980392, 0.40784314, 0.60784314],\n",
       "         [0.51372549, 0.42745098, 0.60784314],\n",
       "         [0.51372549, 0.43529412, 0.61176471]],\n",
       "\n",
       "        [[0.48235294, 0.39215686, 0.59607843],\n",
       "         [0.53333333, 0.43137255, 0.61568627],\n",
       "         [0.58823529, 0.50196078, 0.66666667],\n",
       "         ...,\n",
       "         [0.52156863, 0.40784314, 0.6       ],\n",
       "         [0.5254902 , 0.42352941, 0.61176471],\n",
       "         [0.54509804, 0.44705882, 0.63137255]],\n",
       "\n",
       "        [[0.46666667, 0.39215686, 0.59215686],\n",
       "         [0.49803922, 0.40784314, 0.60392157],\n",
       "         [0.5372549 , 0.44313725, 0.63921569],\n",
       "         ...,\n",
       "         [0.5372549 , 0.43137255, 0.61568627],\n",
       "         [0.55294118, 0.44705882, 0.62352941],\n",
       "         [0.54509804, 0.45882353, 0.62352941]],\n",
       "\n",
       "        ...,\n",
       "\n",
       "        [[0.70980392, 0.65098039, 0.71372549],\n",
       "         [0.76078431, 0.7254902 , 0.72941176],\n",
       "         [0.80392157, 0.78431373, 0.78431373],\n",
       "         ...,\n",
       "         [0.7254902 , 0.68235294, 0.74117647],\n",
       "         [0.75686275, 0.70196078, 0.77254902],\n",
       "         [0.71764706, 0.6745098 , 0.75686275]],\n",
       "\n",
       "        [[0.71764706, 0.67843137, 0.74509804],\n",
       "         [0.78823529, 0.77254902, 0.76470588],\n",
       "         [0.83137255, 0.81176471, 0.80784314],\n",
       "         ...,\n",
       "         [0.63529412, 0.58431373, 0.68235294],\n",
       "         [0.65490196, 0.6       , 0.69803922],\n",
       "         [0.65490196, 0.61568627, 0.70588235]],\n",
       "\n",
       "        [[0.73333333, 0.69411765, 0.74901961],\n",
       "         [0.80784314, 0.78823529, 0.80392157],\n",
       "         [0.82352941, 0.80784314, 0.81960784],\n",
       "         ...,\n",
       "         [0.58823529, 0.52941176, 0.6627451 ],\n",
       "         [0.58039216, 0.52156863, 0.6745098 ],\n",
       "         [0.56470588, 0.52941176, 0.65490196]]],\n",
       "\n",
       "\n",
       "       [[[0.37254902, 0.31764706, 0.52156863],\n",
       "         [0.33333333, 0.2745098 , 0.51372549],\n",
       "         [0.31764706, 0.25490196, 0.50196078],\n",
       "         ...,\n",
       "         [0.62745098, 0.56078431, 0.67843137],\n",
       "         [0.61960784, 0.53333333, 0.66666667],\n",
       "         [0.5254902 , 0.45098039, 0.60784314]],\n",
       "\n",
       "        [[0.32156863, 0.28235294, 0.50588235],\n",
       "         [0.28235294, 0.25098039, 0.48627451],\n",
       "         [0.28627451, 0.24313725, 0.49803922],\n",
       "         ...,\n",
       "         [0.71372549, 0.64313725, 0.73333333],\n",
       "         [0.70196078, 0.60784314, 0.72156863],\n",
       "         [0.56862745, 0.48235294, 0.64313725]],\n",
       "\n",
       "        [[0.28627451, 0.2627451 , 0.48627451],\n",
       "         [0.27058824, 0.23529412, 0.49411765],\n",
       "         [0.27058824, 0.23921569, 0.49411765],\n",
       "         ...,\n",
       "         [0.75686275, 0.6745098 , 0.77254902],\n",
       "         [0.72941176, 0.62745098, 0.7372549 ],\n",
       "         [0.56862745, 0.49019608, 0.63921569]],\n",
       "\n",
       "        ...,\n",
       "\n",
       "        [[0.43529412, 0.36470588, 0.58431373],\n",
       "         [0.36470588, 0.30588235, 0.54509804],\n",
       "         [0.29019608, 0.25098039, 0.50196078],\n",
       "         ...,\n",
       "         [0.57647059, 0.47058824, 0.64705882],\n",
       "         [0.58823529, 0.49411765, 0.6627451 ],\n",
       "         [0.58039216, 0.50588235, 0.6627451 ]],\n",
       "\n",
       "        [[0.44313725, 0.38431373, 0.57647059],\n",
       "         [0.36862745, 0.29019608, 0.52156863],\n",
       "         [0.2627451 , 0.22352941, 0.45882353],\n",
       "         ...,\n",
       "         [0.54117647, 0.43921569, 0.61176471],\n",
       "         [0.57647059, 0.48235294, 0.64705882],\n",
       "         [0.59215686, 0.49803922, 0.65490196]],\n",
       "\n",
       "        [[0.4627451 , 0.39607843, 0.59215686],\n",
       "         [0.38823529, 0.31764706, 0.55294118],\n",
       "         [0.31764706, 0.27058824, 0.50196078],\n",
       "         ...,\n",
       "         [0.51372549, 0.43137255, 0.61176471],\n",
       "         [0.54901961, 0.45490196, 0.63529412],\n",
       "         [0.56078431, 0.48235294, 0.62745098]]],\n",
       "\n",
       "\n",
       "       ...,\n",
       "\n",
       "\n",
       "       [[[0.57647059, 0.52941176, 0.67058824],\n",
       "         [0.63137255, 0.56078431, 0.69019608],\n",
       "         [0.65098039, 0.59215686, 0.70588235],\n",
       "         ...,\n",
       "         [0.80392157, 0.77647059, 0.78823529],\n",
       "         [0.8       , 0.76078431, 0.79607843],\n",
       "         [0.73333333, 0.68235294, 0.75686275]],\n",
       "\n",
       "        [[0.61568627, 0.5372549 , 0.69019608],\n",
       "         [0.63921569, 0.54509804, 0.68235294],\n",
       "         [0.66666667, 0.57647059, 0.70588235],\n",
       "         ...,\n",
       "         [0.81568627, 0.78823529, 0.81176471],\n",
       "         [0.82352941, 0.79607843, 0.81568627],\n",
       "         [0.80784314, 0.76078431, 0.81568627]],\n",
       "\n",
       "        [[0.63921569, 0.55686275, 0.69803922],\n",
       "         [0.61960784, 0.53333333, 0.6745098 ],\n",
       "         [0.63921569, 0.55294118, 0.69411765],\n",
       "         ...,\n",
       "         [0.80784314, 0.79215686, 0.78431373],\n",
       "         [0.81568627, 0.77254902, 0.80392157],\n",
       "         [0.78431373, 0.76862745, 0.79607843]],\n",
       "\n",
       "        ...,\n",
       "\n",
       "        [[0.57647059, 0.50196078, 0.67058824],\n",
       "         [0.58431373, 0.48235294, 0.65882353],\n",
       "         [0.58039216, 0.4745098 , 0.63529412],\n",
       "         ...,\n",
       "         [0.6745098 , 0.64313725, 0.70980392],\n",
       "         [0.76862745, 0.70588235, 0.75686275],\n",
       "         [0.78039216, 0.74509804, 0.79607843]],\n",
       "\n",
       "        [[0.57647059, 0.49803922, 0.65882353],\n",
       "         [0.56470588, 0.45490196, 0.63137255],\n",
       "         [0.52941176, 0.44313725, 0.61176471],\n",
       "         ...,\n",
       "         [0.73333333, 0.67058824, 0.74117647],\n",
       "         [0.74901961, 0.70196078, 0.76862745],\n",
       "         [0.76078431, 0.71372549, 0.76470588]],\n",
       "\n",
       "        [[0.56470588, 0.47843137, 0.64705882],\n",
       "         [0.55686275, 0.4627451 , 0.65490196],\n",
       "         [0.55686275, 0.45882353, 0.64705882],\n",
       "         ...,\n",
       "         [0.73333333, 0.6745098 , 0.76470588],\n",
       "         [0.73333333, 0.6627451 , 0.75686275],\n",
       "         [0.69803922, 0.62745098, 0.71764706]]],\n",
       "\n",
       "\n",
       "       [[[0.79215686, 0.74509804, 0.78039216],\n",
       "         [0.8627451 , 0.84313725, 0.84705882],\n",
       "         [0.87843137, 0.85490196, 0.8627451 ],\n",
       "         ...,\n",
       "         [0.35686275, 0.29803922, 0.5372549 ],\n",
       "         [0.31764706, 0.25882353, 0.49803922],\n",
       "         [0.34117647, 0.29019608, 0.50196078]],\n",
       "\n",
       "        [[0.8627451 , 0.82745098, 0.83921569],\n",
       "         [0.88627451, 0.87843137, 0.86666667],\n",
       "         [0.89019608, 0.88235294, 0.85882353],\n",
       "         ...,\n",
       "         [0.38823529, 0.3254902 , 0.54509804],\n",
       "         [0.3254902 , 0.25490196, 0.50196078],\n",
       "         [0.32941176, 0.25882353, 0.50196078]],\n",
       "\n",
       "        [[0.85098039, 0.83921569, 0.83529412],\n",
       "         [0.89019608, 0.88235294, 0.85490196],\n",
       "         [0.88235294, 0.88627451, 0.85098039],\n",
       "         ...,\n",
       "         [0.44705882, 0.36078431, 0.58823529],\n",
       "         [0.36862745, 0.30588235, 0.52941176],\n",
       "         [0.36078431, 0.29019608, 0.49803922]],\n",
       "\n",
       "        ...,\n",
       "\n",
       "        [[0.83529412, 0.78823529, 0.81176471],\n",
       "         [0.85098039, 0.82745098, 0.80392157],\n",
       "         [0.87058824, 0.85490196, 0.83137255],\n",
       "         ...,\n",
       "         [0.19215686, 0.16470588, 0.38823529],\n",
       "         [0.18823529, 0.15686275, 0.37254902],\n",
       "         [0.30980392, 0.26666667, 0.48627451]],\n",
       "\n",
       "        [[0.83137255, 0.80784314, 0.82352941],\n",
       "         [0.87843137, 0.87058824, 0.83529412],\n",
       "         [0.87843137, 0.8745098 , 0.84705882],\n",
       "         ...,\n",
       "         [0.30196078, 0.23529412, 0.4745098 ],\n",
       "         [0.25882353, 0.22352941, 0.44313725],\n",
       "         [0.34117647, 0.28235294, 0.50196078]],\n",
       "\n",
       "        [[0.78823529, 0.76470588, 0.78823529],\n",
       "         [0.85882353, 0.85098039, 0.83921569],\n",
       "         [0.8627451 , 0.85098039, 0.84705882],\n",
       "         ...,\n",
       "         [0.43137255, 0.36078431, 0.56078431],\n",
       "         [0.41176471, 0.34509804, 0.54901961],\n",
       "         [0.41960784, 0.36078431, 0.55294118]]],\n",
       "\n",
       "\n",
       "       [[[0.37647059, 0.32941176, 0.51372549],\n",
       "         [0.3254902 , 0.27843137, 0.50196078],\n",
       "         [0.35294118, 0.31372549, 0.51764706],\n",
       "         ...,\n",
       "         [0.38431373, 0.33333333, 0.54901961],\n",
       "         [0.36078431, 0.31764706, 0.50980392],\n",
       "         [0.38431373, 0.32941176, 0.5372549 ]],\n",
       "\n",
       "        [[0.34901961, 0.29411765, 0.52156863],\n",
       "         [0.29411765, 0.2627451 , 0.48627451],\n",
       "         [0.34509804, 0.29411765, 0.5254902 ],\n",
       "         ...,\n",
       "         [0.39607843, 0.32941176, 0.55294118],\n",
       "         [0.36470588, 0.30196078, 0.51764706],\n",
       "         [0.34117647, 0.29019608, 0.50980392]],\n",
       "\n",
       "        [[0.35686275, 0.29411765, 0.52156863],\n",
       "         [0.32941176, 0.27843137, 0.51372549],\n",
       "         [0.36078431, 0.31372549, 0.54117647],\n",
       "         ...,\n",
       "         [0.41176471, 0.34901961, 0.56470588],\n",
       "         [0.4       , 0.33333333, 0.55294118],\n",
       "         [0.36470588, 0.30588235, 0.51764706]],\n",
       "\n",
       "        ...,\n",
       "\n",
       "        [[0.36078431, 0.30196078, 0.50196078],\n",
       "         [0.35686275, 0.30980392, 0.51764706],\n",
       "         [0.39215686, 0.31764706, 0.54117647],\n",
       "         ...,\n",
       "         [0.45490196, 0.38823529, 0.58431373],\n",
       "         [0.50196078, 0.42352941, 0.60784314],\n",
       "         [0.52156863, 0.45098039, 0.62352941]],\n",
       "\n",
       "        [[0.4       , 0.3254902 , 0.54509804],\n",
       "         [0.4       , 0.32941176, 0.54117647],\n",
       "         [0.40392157, 0.35294118, 0.55686275],\n",
       "         ...,\n",
       "         [0.45098039, 0.38039216, 0.57647059],\n",
       "         [0.49803922, 0.42352941, 0.6       ],\n",
       "         [0.49803922, 0.41568627, 0.60392157]],\n",
       "\n",
       "        [[0.42352941, 0.36470588, 0.55294118],\n",
       "         [0.42745098, 0.34901961, 0.55686275],\n",
       "         [0.44313725, 0.36078431, 0.57254902],\n",
       "         ...,\n",
       "         [0.44313725, 0.38039216, 0.57647059],\n",
       "         [0.47843137, 0.41176471, 0.58431373],\n",
       "         [0.47843137, 0.41568627, 0.56862745]]]])"
      ]
     },
     "execution_count": 45,
     "metadata": {},
     "output_type": "execute_result"
    }
   ],
   "source": []
  },
  {
   "cell_type": "code",
   "execution_count": null,
   "metadata": {},
   "outputs": [],
   "source": []
  }
 ],
 "metadata": {
  "colab": {
   "collapsed_sections": [],
   "name": "covid_alex_holdout_cropping_tgo.ipynb",
   "provenance": []
  },
  "kernelspec": {
   "display_name": "Python 3 (ipykernel)",
   "language": "python",
   "name": "python3"
  },
  "language_info": {
   "codemirror_mode": {
    "name": "ipython",
    "version": 3
   },
   "file_extension": ".py",
   "mimetype": "text/x-python",
   "name": "python",
   "nbconvert_exporter": "python",
   "pygments_lexer": "ipython3",
   "version": "3.9.16"
  }
 },
 "nbformat": 4,
 "nbformat_minor": 1
}
