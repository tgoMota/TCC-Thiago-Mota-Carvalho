{
 "cells": [
  {
   "cell_type": "code",
   "execution_count": 1,
   "metadata": {
    "id": "on-xhn6xYqDo"
   },
   "outputs": [],
   "source": [
    "import tensorflow as tf\n",
    "from tensorflow import keras\n",
    "import matplotlib.pyplot as plt\n",
    "import os\n",
    "import time"
   ]
  },
  {
   "cell_type": "code",
   "execution_count": 2,
   "metadata": {
    "id": "Zq5nydmlidrt"
   },
   "outputs": [],
   "source": [
    "import cv2\n",
    "import os\n",
    "from tqdm import tqdm\n",
    "import matplotlib.pyplot as plt\n",
    "import numpy as np\n",
    "import glob\n",
    "from tensorflow.keras.preprocessing.image import ImageDataGenerator\n",
    "from tensorflow.keras.applications import *\n",
    "from tensorflow.keras.layers import *\n",
    "from tensorflow.keras.models import *\n",
    "from tensorflow.keras.optimizers import Adam\n",
    "from tensorflow.keras.utils import to_categorical\n",
    "from sklearn.preprocessing import LabelEncoder\n",
    "from sklearn.metrics import *\n",
    "from tensorflow.keras.callbacks import *"
   ]
  },
  {
   "cell_type": "code",
   "execution_count": 3,
   "metadata": {},
   "outputs": [],
   "source": [
    "CLASS_NAMES= ['healthy', 'mild', 'moderate', 'severe']\n",
    "IMG_HEIGHT = 128\n",
    "IMG_WIDTH = 128\n",
    "CHANNELS = 3\n",
    "NUM_CLASSES = len(CLASS_NAMES)"
   ]
  },
  {
   "cell_type": "markdown",
   "metadata": {
    "id": "yfeZvMIEDOwS"
   },
   "source": [
    "# **ResNET**"
   ]
  },
  {
   "cell_type": "code",
   "execution_count": 4,
   "metadata": {
    "id": "98Cf8ZeSEbCU"
   },
   "outputs": [],
   "source": [
    "from sklearn.model_selection import train_test_split"
   ]
  },
  {
   "cell_type": "code",
   "execution_count": 5,
   "metadata": {},
   "outputs": [
    {
     "name": "stdout",
     "output_type": "stream",
     "text": [
      "TOTAL_IMAGES =  592\n"
     ]
    }
   ],
   "source": [
    "#load data\n",
    "data_x = np.load('data_x_original.npy') #images\n",
    "data_y = np.load('data_y_original.npy') #labels\n",
    "TOTAL_IMAGES = len(data_y)\n",
    "print(\"TOTAL_IMAGES = \", TOTAL_IMAGES)"
   ]
  },
  {
   "cell_type": "markdown",
   "metadata": {},
   "source": [
    "# **Splitting data in train - validation - test**"
   ]
  },
  {
   "cell_type": "code",
   "execution_count": 6,
   "metadata": {},
   "outputs": [],
   "source": [
    "#percentage of the dataset which will be on TRAIN - TEST - VALIDATION\n",
    "TRAIN_PERCENTAGE = 0.8\n",
    "TEST_PERCENTAGE = 0.1\n",
    "VALIDATION_PERCENTAGE = 0.1"
   ]
  },
  {
   "cell_type": "code",
   "execution_count": 7,
   "metadata": {},
   "outputs": [],
   "source": [
    "train_size = int(TRAIN_PERCENTAGE * TOTAL_IMAGES)\n",
    "test_size = int(TEST_PERCENTAGE * TOTAL_IMAGES)\n",
    "validation_size = int(VALIDATION_PERCENTAGE * TOTAL_IMAGES)"
   ]
  },
  {
   "cell_type": "code",
   "execution_count": 8,
   "metadata": {},
   "outputs": [],
   "source": [
    "train_x = data_x[:train_size] #taking train images from original data\n",
    "train_y = data_y[:train_size]\n",
    "data_x = data_x[train_size:] #removing train images from original data\n",
    "data_y = data_y[train_size:]\n",
    "\n",
    "test_x = data_x[:test_size] #taking test images from original data\n",
    "test_y = data_y[:test_size]\n",
    "data_x = data_x[test_size:] #removing test images from original data\n",
    "data_y = data_y[test_size:]\n",
    "\n",
    "validation_x = data_x #all the remainder images we can put on validation\n",
    "validation_y = data_y\n",
    "\n",
    "del data_x #free some unused memory\n",
    "del data_y"
   ]
  },
  {
   "cell_type": "code",
   "execution_count": 9,
   "metadata": {},
   "outputs": [
    {
     "name": "stdout",
     "output_type": "stream",
     "text": [
      "train_size =  473\n",
      "test_size =  59\n",
      "validation_size =  60\n"
     ]
    }
   ],
   "source": [
    "print(\"train_size = \", len(train_y))\n",
    "print(\"test_size = \", len(test_y))\n",
    "print(\"validation_size = \", len(validation_y))"
   ]
  },
  {
   "cell_type": "code",
   "execution_count": 10,
   "metadata": {
    "id": "BiIjdq89J1uJ"
   },
   "outputs": [],
   "source": [
    "from tensorflow import keras\n",
    "from tensorflow.keras.models import Sequential\n",
    "from tensorflow.keras.layers import Dense, Activation, Dropout, Flatten, Conv2D, MaxPooling2D\n",
    "from tensorflow.keras.regularizers import l2\n",
    "from tensorflow.keras.regularizers import l1\n",
    "from tensorflow.keras.callbacks import EarlyStopping"
   ]
  },
  {
   "cell_type": "code",
   "execution_count": 11,
   "metadata": {
    "colab": {
     "base_uri": "https://localhost:8080/"
    },
    "id": "j0vHxhMjLyhJ",
    "outputId": "e5ec2803-8f76-4719-e279-27c52eb8d72d"
   },
   "outputs": [],
   "source": [
    "from tensorflow.keras import layers\n",
    "from tensorflow.keras.layers import Input, Add, Dense, Activation, ZeroPadding2D, BatchNormalization, Flatten, Conv2D, AveragePooling2D, MaxPooling2D, GlobalMaxPooling2D\n",
    "from tensorflow.keras.models import Model, load_model\n",
    "from tensorflow.keras.preprocessing import image\n",
    "from IPython.display import SVG\n",
    "import scipy.misc"
   ]
  },
  {
   "cell_type": "code",
   "execution_count": 12,
   "metadata": {},
   "outputs": [],
   "source": [
    "# from tensorflow.keras.applications import EfficientNetB0\n",
    "# from tensorflow.keras.applications import EfficientNetB1\n",
    "# from tensorflow.keras.applications import EfficientNetB2\n",
    "# from tensorflow.keras.applications import EfficientNetB3\n",
    "# from tensorflow.keras.applications import EfficientNetB4\n",
    "# from tensorflow.keras.applications import EfficientNetB5\n",
    "# from tensorflow.keras.applications import EfficientNetB6\n",
    "# from tensorflow.keras.applications import EfficientNetB7\n",
    "# from tensorflow.keras.applications import *"
   ]
  },
  {
   "cell_type": "code",
   "execution_count": 13,
   "metadata": {},
   "outputs": [
    {
     "name": "stderr",
     "output_type": "stream",
     "text": [
      "C:\\Users\\tmcle\\.conda\\envs\\tf\\lib\\site-packages\\keras\\backend.py:451: UserWarning: `tf.keras.backend.set_learning_phase` is deprecated and will be removed after 2020-10-11. To update it, simply pass a True/False value to the `training` argument of the `__call__` method of your layer or model.\n",
      "  warnings.warn(\n"
     ]
    }
   ],
   "source": [
    "import tensorflow.keras.backend as K\n",
    "K.set_image_data_format('channels_last')\n",
    "K.set_learning_phase(1)"
   ]
  },
  {
   "cell_type": "code",
   "execution_count": 14,
   "metadata": {},
   "outputs": [],
   "source": [
    "model = tf.keras.applications.MobileNet(\n",
    "    include_top=False,\n",
    "    weights=\"imagenet\",\n",
    "    input_tensor=None,\n",
    "    input_shape=(IMG_HEIGHT,IMG_WIDTH, CHANNELS),\n",
    "    pooling=None,\n",
    "    classes=NUM_CLASSES,\n",
    "   # classifier_activation=\"softmax\",\n",
    "#    **kwargs\n",
    ")"
   ]
  },
  {
   "cell_type": "code",
   "execution_count": 15,
   "metadata": {},
   "outputs": [
    {
     "name": "stderr",
     "output_type": "stream",
     "text": [
      "C:\\Users\\tmcle\\.conda\\envs\\tf\\lib\\site-packages\\keras\\optimizers\\optimizer_v2\\adam.py:114: UserWarning: The `lr` argument is deprecated, use `learning_rate` instead.\n",
      "  super().__init__(name, **kwargs)\n"
     ]
    }
   ],
   "source": [
    "from tensorflow.keras import models\n",
    "from tensorflow.keras import layers\n",
    "\n",
    "new_model = models.Sequential()\n",
    "new_model.add(model)\n",
    "#3rd conv layer\n",
    "new_model.add(tf.keras.layers.Conv2D(32, 3, padding=\"same\"))\n",
    "new_model.add(tf.keras.layers.BatchNormalization())\n",
    "new_model.add(tf.keras.layers.Activation(\"relu\"))\n",
    "new_model.add(tf.keras.layers.MaxPooling2D(2))\n",
    "new_model.add(tf.keras.layers.Dropout(0.2))\n",
    "#4th conv layer\n",
    "new_model.add(tf.keras.layers.Conv2D(64, 3, padding=\"same\"))\n",
    "new_model.add(tf.keras.layers.BatchNormalization())\n",
    "new_model.add(tf.keras.layers.Activation(\"relu\"))\n",
    "new_model.add(tf.keras.layers.MaxPooling2D(2))\n",
    "new_model.add(tf.keras.layers.Dropout(0.2))\n",
    "#Flatten Layer\n",
    "new_model.add(tf.keras.layers.Flatten())\n",
    "\n",
    "new_model.add(tf.keras.layers.Dense(128, kernel_regularizer =tf.keras.regularizers.l2( l=0.01)))\n",
    "new_model.add(tf.keras.layers.BatchNormalization())\n",
    "new_model.add(tf.keras.layers.Activation(\"relu\"))\n",
    "new_model.add(tf.keras.layers.Dropout(0.2))\n",
    "\n",
    "#output Dense Layer\n",
    "new_model.add(tf.keras.layers.Dense(NUM_CLASSES))\n",
    "new_model.add(tf.keras.layers.Activation('softmax'))\n",
    "adam = tf.keras.optimizers.Adam(lr=0.001)\n"
   ]
  },
  {
   "cell_type": "code",
   "execution_count": 16,
   "metadata": {},
   "outputs": [
    {
     "name": "stdout",
     "output_type": "stream",
     "text": [
      "Model: \"sequential\"\n",
      "_________________________________________________________________\n",
      " Layer (type)                Output Shape              Param #   \n",
      "=================================================================\n",
      " mobilenet_1.00_128 (Functio  (None, 4, 4, 1024)       3228864   \n",
      " nal)                                                            \n",
      "                                                                 \n",
      " conv2d (Conv2D)             (None, 4, 4, 32)          294944    \n",
      "                                                                 \n",
      " batch_normalization (BatchN  (None, 4, 4, 32)         128       \n",
      " ormalization)                                                   \n",
      "                                                                 \n",
      " activation (Activation)     (None, 4, 4, 32)          0         \n",
      "                                                                 \n",
      " max_pooling2d (MaxPooling2D  (None, 2, 2, 32)         0         \n",
      " )                                                               \n",
      "                                                                 \n",
      " dropout (Dropout)           (None, 2, 2, 32)          0         \n",
      "                                                                 \n",
      " conv2d_1 (Conv2D)           (None, 2, 2, 64)          18496     \n",
      "                                                                 \n",
      " batch_normalization_1 (Batc  (None, 2, 2, 64)         256       \n",
      " hNormalization)                                                 \n",
      "                                                                 \n",
      " activation_1 (Activation)   (None, 2, 2, 64)          0         \n",
      "                                                                 \n",
      " max_pooling2d_1 (MaxPooling  (None, 1, 1, 64)         0         \n",
      " 2D)                                                             \n",
      "                                                                 \n",
      " dropout_1 (Dropout)         (None, 1, 1, 64)          0         \n",
      "                                                                 \n",
      " flatten (Flatten)           (None, 64)                0         \n",
      "                                                                 \n",
      " dense (Dense)               (None, 128)               8320      \n",
      "                                                                 \n",
      " batch_normalization_2 (Batc  (None, 128)              512       \n",
      " hNormalization)                                                 \n",
      "                                                                 \n",
      " activation_2 (Activation)   (None, 128)               0         \n",
      "                                                                 \n",
      " dropout_2 (Dropout)         (None, 128)               0         \n",
      "                                                                 \n",
      " dense_1 (Dense)             (None, 4)                 516       \n",
      "                                                                 \n",
      " activation_3 (Activation)   (None, 4)                 0         \n",
      "                                                                 \n",
      "=================================================================\n",
      "Total params: 3,552,036\n",
      "Trainable params: 3,529,700\n",
      "Non-trainable params: 22,336\n",
      "_________________________________________________________________\n"
     ]
    }
   ],
   "source": [
    "new_model.summary()"
   ]
  },
  {
   "cell_type": "code",
   "execution_count": 17,
   "metadata": {},
   "outputs": [
    {
     "name": "stdout",
     "output_type": "stream",
     "text": [
      "Epoch 1/100\n",
      "15/15 [==============================] - 12s 209ms/step - loss: 2.1777 - acc: 0.4038 - val_loss: 7.0983 - val_acc: 0.2333\n",
      "Epoch 2/100\n",
      "15/15 [==============================] - 2s 107ms/step - loss: 1.5886 - acc: 0.6808 - val_loss: 5.0091 - val_acc: 0.2500\n",
      "Epoch 3/100\n",
      "15/15 [==============================] - 2s 106ms/step - loss: 1.1682 - acc: 0.8858 - val_loss: 3.5391 - val_acc: 0.3000\n",
      "Epoch 4/100\n",
      "15/15 [==============================] - 2s 107ms/step - loss: 0.9088 - acc: 0.9641 - val_loss: 2.7206 - val_acc: 0.4667\n",
      "Epoch 5/100\n",
      "15/15 [==============================] - 2s 106ms/step - loss: 0.7819 - acc: 0.9894 - val_loss: 3.0664 - val_acc: 0.3500\n",
      "Epoch 6/100\n",
      "15/15 [==============================] - 2s 106ms/step - loss: 0.7103 - acc: 0.9937 - val_loss: 2.7770 - val_acc: 0.3833\n",
      "Epoch 7/100\n",
      "15/15 [==============================] - 2s 107ms/step - loss: 0.6420 - acc: 1.0000 - val_loss: 2.7868 - val_acc: 0.4167\n",
      "Epoch 8/100\n",
      "15/15 [==============================] - 2s 107ms/step - loss: 0.5942 - acc: 0.9979 - val_loss: 2.7132 - val_acc: 0.4500\n",
      "Epoch 9/100\n",
      "15/15 [==============================] - 2s 107ms/step - loss: 0.5347 - acc: 0.9979 - val_loss: 3.0143 - val_acc: 0.4333\n",
      "Epoch 10/100\n",
      "15/15 [==============================] - 2s 106ms/step - loss: 0.4901 - acc: 1.0000 - val_loss: 3.1277 - val_acc: 0.4167\n",
      "Epoch 11/100\n",
      "15/15 [==============================] - 2s 107ms/step - loss: 0.4496 - acc: 1.0000 - val_loss: 2.2964 - val_acc: 0.5333\n",
      "Epoch 12/100\n",
      "15/15 [==============================] - 2s 107ms/step - loss: 0.4088 - acc: 1.0000 - val_loss: 1.8921 - val_acc: 0.6333\n",
      "Epoch 13/100\n",
      "15/15 [==============================] - 2s 108ms/step - loss: 0.3721 - acc: 1.0000 - val_loss: 1.6900 - val_acc: 0.7167\n",
      "Epoch 14/100\n",
      "15/15 [==============================] - 2s 106ms/step - loss: 0.3415 - acc: 1.0000 - val_loss: 1.5142 - val_acc: 0.7167\n",
      "Epoch 15/100\n",
      "15/15 [==============================] - 2s 107ms/step - loss: 0.3065 - acc: 1.0000 - val_loss: 1.4128 - val_acc: 0.7500\n",
      "Epoch 16/100\n",
      "15/15 [==============================] - 2s 107ms/step - loss: 0.2770 - acc: 1.0000 - val_loss: 1.2648 - val_acc: 0.7667\n",
      "Epoch 17/100\n",
      "15/15 [==============================] - 2s 108ms/step - loss: 0.2517 - acc: 1.0000 - val_loss: 1.1771 - val_acc: 0.7833\n",
      "Epoch 18/100\n",
      "15/15 [==============================] - 2s 106ms/step - loss: 0.2234 - acc: 1.0000 - val_loss: 1.1031 - val_acc: 0.7833\n",
      "Epoch 19/100\n",
      "15/15 [==============================] - 2s 107ms/step - loss: 0.2015 - acc: 1.0000 - val_loss: 1.0035 - val_acc: 0.8000\n",
      "Epoch 20/100\n",
      "15/15 [==============================] - 2s 107ms/step - loss: 0.1797 - acc: 1.0000 - val_loss: 0.9341 - val_acc: 0.8000\n",
      "Epoch 21/100\n",
      "15/15 [==============================] - 2s 106ms/step - loss: 0.1616 - acc: 1.0000 - val_loss: 0.8604 - val_acc: 0.8167\n",
      "Epoch 22/100\n",
      "15/15 [==============================] - 2s 107ms/step - loss: 0.1447 - acc: 1.0000 - val_loss: 0.8215 - val_acc: 0.8333\n",
      "Epoch 23/100\n",
      "15/15 [==============================] - 2s 107ms/step - loss: 0.1296 - acc: 1.0000 - val_loss: 0.8066 - val_acc: 0.8333\n",
      "Epoch 24/100\n",
      "15/15 [==============================] - 2s 108ms/step - loss: 0.1156 - acc: 1.0000 - val_loss: 0.7931 - val_acc: 0.8500\n",
      "Epoch 25/100\n",
      "15/15 [==============================] - 2s 107ms/step - loss: 0.1028 - acc: 1.0000 - val_loss: 0.7888 - val_acc: 0.8167\n",
      "Epoch 26/100\n",
      "15/15 [==============================] - 2s 107ms/step - loss: 0.0909 - acc: 1.0000 - val_loss: 0.7681 - val_acc: 0.8167\n",
      "Epoch 27/100\n",
      "15/15 [==============================] - 2s 107ms/step - loss: 0.0805 - acc: 1.0000 - val_loss: 0.7538 - val_acc: 0.8333\n",
      "Epoch 28/100\n",
      "15/15 [==============================] - 2s 108ms/step - loss: 0.0713 - acc: 1.0000 - val_loss: 0.7426 - val_acc: 0.8333\n",
      "Epoch 29/100\n",
      "15/15 [==============================] - 2s 109ms/step - loss: 0.0647 - acc: 1.0000 - val_loss: 0.7539 - val_acc: 0.8167\n",
      "Epoch 30/100\n",
      "15/15 [==============================] - 2s 111ms/step - loss: 0.0573 - acc: 1.0000 - val_loss: 0.7657 - val_acc: 0.8167\n",
      "Epoch 31/100\n",
      "15/15 [==============================] - 2s 108ms/step - loss: 0.0500 - acc: 1.0000 - val_loss: 0.7535 - val_acc: 0.8167\n",
      "Epoch 32/100\n",
      "15/15 [==============================] - 2s 108ms/step - loss: 0.0435 - acc: 1.0000 - val_loss: 0.7253 - val_acc: 0.8333\n",
      "Epoch 33/100\n",
      "15/15 [==============================] - 2s 108ms/step - loss: 0.0383 - acc: 1.0000 - val_loss: 0.7059 - val_acc: 0.8333\n",
      "Epoch 34/100\n",
      "15/15 [==============================] - 2s 107ms/step - loss: 0.0350 - acc: 1.0000 - val_loss: 0.7261 - val_acc: 0.8333\n",
      "Epoch 35/100\n",
      "15/15 [==============================] - 2s 108ms/step - loss: 0.0308 - acc: 1.0000 - val_loss: 0.7397 - val_acc: 0.8333\n",
      "Epoch 36/100\n",
      "15/15 [==============================] - 2s 110ms/step - loss: 0.0265 - acc: 1.0000 - val_loss: 0.7297 - val_acc: 0.8333\n",
      "Epoch 37/100\n",
      "15/15 [==============================] - 2s 107ms/step - loss: 0.0236 - acc: 1.0000 - val_loss: 0.7296 - val_acc: 0.8333\n",
      "Epoch 38/100\n",
      "15/15 [==============================] - 2s 108ms/step - loss: 0.0214 - acc: 1.0000 - val_loss: 0.7298 - val_acc: 0.8333\n",
      "Epoch 39/100\n",
      "15/15 [==============================] - 2s 107ms/step - loss: 0.0184 - acc: 1.0000 - val_loss: 0.7471 - val_acc: 0.8167\n",
      "Epoch 40/100\n",
      "15/15 [==============================] - 2s 108ms/step - loss: 0.0174 - acc: 1.0000 - val_loss: 0.7805 - val_acc: 0.8167\n",
      "Epoch 41/100\n",
      "15/15 [==============================] - 2s 108ms/step - loss: 0.0149 - acc: 1.0000 - val_loss: 0.7892 - val_acc: 0.8000\n",
      "Epoch 42/100\n",
      "15/15 [==============================] - 2s 109ms/step - loss: 0.0127 - acc: 1.0000 - val_loss: 0.7671 - val_acc: 0.8000\n",
      "Epoch 43/100\n",
      "15/15 [==============================] - 2s 108ms/step - loss: 0.0113 - acc: 1.0000 - val_loss: 0.7463 - val_acc: 0.8167\n",
      "Epoch 44/100\n",
      "15/15 [==============================] - 2s 108ms/step - loss: 0.0100 - acc: 1.0000 - val_loss: 0.7299 - val_acc: 0.8167\n",
      "Epoch 45/100\n",
      "15/15 [==============================] - 2s 108ms/step - loss: 0.0086 - acc: 1.0000 - val_loss: 0.7278 - val_acc: 0.8167\n",
      "Epoch 46/100\n",
      "15/15 [==============================] - 2s 108ms/step - loss: 0.0076 - acc: 1.0000 - val_loss: 0.7233 - val_acc: 0.8167\n",
      "Epoch 47/100\n",
      "15/15 [==============================] - 2s 107ms/step - loss: 0.0065 - acc: 1.0000 - val_loss: 0.7103 - val_acc: 0.8333\n",
      "Epoch 48/100\n",
      "15/15 [==============================] - 2s 108ms/step - loss: 0.0061 - acc: 1.0000 - val_loss: 0.8126 - val_acc: 0.7833\n",
      "Epoch 49/100\n",
      "15/15 [==============================] - 2s 108ms/step - loss: 0.0067 - acc: 1.0000 - val_loss: 0.8869 - val_acc: 0.8000\n",
      "Epoch 50/100\n",
      "15/15 [==============================] - 2s 108ms/step - loss: 0.0058 - acc: 1.0000 - val_loss: 0.8879 - val_acc: 0.8333\n",
      "Epoch 51/100\n",
      "15/15 [==============================] - 2s 108ms/step - loss: 0.0056 - acc: 1.0000 - val_loss: 0.9499 - val_acc: 0.8167\n",
      "Epoch 52/100\n",
      "15/15 [==============================] - 2s 107ms/step - loss: 0.0049 - acc: 1.0000 - val_loss: 0.9019 - val_acc: 0.8500\n",
      "Epoch 53/100\n",
      "15/15 [==============================] - 2s 110ms/step - loss: 0.0040 - acc: 1.0000 - val_loss: 0.8677 - val_acc: 0.8500\n",
      "Epoch 54/100\n",
      "15/15 [==============================] - 2s 109ms/step - loss: 0.0033 - acc: 1.0000 - val_loss: 0.8382 - val_acc: 0.8500\n",
      "Epoch 55/100\n",
      "15/15 [==============================] - 2s 109ms/step - loss: 0.0030 - acc: 1.0000 - val_loss: 0.8224 - val_acc: 0.8333\n",
      "Epoch 56/100\n",
      "15/15 [==============================] - 2s 107ms/step - loss: 0.0026 - acc: 1.0000 - val_loss: 0.7982 - val_acc: 0.8333\n",
      "Epoch 57/100\n",
      "15/15 [==============================] - 2s 107ms/step - loss: 0.0026 - acc: 1.0000 - val_loss: 0.7926 - val_acc: 0.8500\n",
      "Epoch 58/100\n",
      "15/15 [==============================] - 2s 107ms/step - loss: 0.0023 - acc: 1.0000 - val_loss: 0.7874 - val_acc: 0.8500\n",
      "Epoch 59/100\n",
      "15/15 [==============================] - 2s 107ms/step - loss: 0.0020 - acc: 1.0000 - val_loss: 0.7904 - val_acc: 0.8500\n",
      "Epoch 60/100\n",
      "15/15 [==============================] - 2s 108ms/step - loss: 0.0020 - acc: 1.0000 - val_loss: 0.7916 - val_acc: 0.8500\n",
      "Epoch 61/100\n",
      "15/15 [==============================] - 2s 108ms/step - loss: 0.0019 - acc: 1.0000 - val_loss: 0.8327 - val_acc: 0.8500\n",
      "Epoch 62/100\n"
     ]
    },
    {
     "name": "stdout",
     "output_type": "stream",
     "text": [
      "15/15 [==============================] - 2s 108ms/step - loss: 0.0017 - acc: 1.0000 - val_loss: 0.8541 - val_acc: 0.8500\n",
      "Epoch 63/100\n",
      "15/15 [==============================] - 2s 107ms/step - loss: 0.0015 - acc: 1.0000 - val_loss: 0.8715 - val_acc: 0.8333\n",
      "Epoch 64/100\n",
      "15/15 [==============================] - 2s 108ms/step - loss: 0.0015 - acc: 1.0000 - val_loss: 0.8654 - val_acc: 0.8333\n",
      "Epoch 65/100\n",
      "15/15 [==============================] - 2s 107ms/step - loss: 0.0014 - acc: 1.0000 - val_loss: 0.8727 - val_acc: 0.8500\n",
      "Epoch 66/100\n",
      "15/15 [==============================] - 2s 107ms/step - loss: 0.0012 - acc: 1.0000 - val_loss: 0.8491 - val_acc: 0.8500\n",
      "Epoch 67/100\n",
      "15/15 [==============================] - 2s 108ms/step - loss: 0.0015 - acc: 1.0000 - val_loss: 0.9379 - val_acc: 0.8500\n",
      "Epoch 68/100\n",
      "15/15 [==============================] - 2s 110ms/step - loss: 0.0027 - acc: 1.0000 - val_loss: 1.3204 - val_acc: 0.8333\n",
      "Epoch 69/100\n",
      "15/15 [==============================] - 2s 107ms/step - loss: 0.0028 - acc: 1.0000 - val_loss: 1.1956 - val_acc: 0.8667\n",
      "Epoch 70/100\n",
      "15/15 [==============================] - 2s 107ms/step - loss: 0.0027 - acc: 1.0000 - val_loss: 1.1432 - val_acc: 0.8667\n",
      "Epoch 71/100\n",
      "15/15 [==============================] - 2s 108ms/step - loss: 0.0028 - acc: 1.0000 - val_loss: 1.1443 - val_acc: 0.8333\n",
      "Epoch 72/100\n",
      "15/15 [==============================] - 2s 107ms/step - loss: 0.0023 - acc: 1.0000 - val_loss: 1.1527 - val_acc: 0.8000\n",
      "Epoch 73/100\n",
      "15/15 [==============================] - 2s 107ms/step - loss: 0.0018 - acc: 1.0000 - val_loss: 1.1161 - val_acc: 0.8000\n",
      "Epoch 74/100\n",
      "15/15 [==============================] - 2s 107ms/step - loss: 0.0015 - acc: 1.0000 - val_loss: 1.0474 - val_acc: 0.8333\n",
      "Epoch 75/100\n",
      "15/15 [==============================] - 2s 107ms/step - loss: 0.0015 - acc: 1.0000 - val_loss: 0.9348 - val_acc: 0.8500\n",
      "Epoch 76/100\n",
      "15/15 [==============================] - 2s 108ms/step - loss: 0.0018 - acc: 1.0000 - val_loss: 0.9081 - val_acc: 0.8500\n",
      "Epoch 77/100\n",
      "15/15 [==============================] - 2s 107ms/step - loss: 0.0016 - acc: 1.0000 - val_loss: 0.9326 - val_acc: 0.8333\n",
      "Epoch 78/100\n",
      "15/15 [==============================] - 2s 107ms/step - loss: 0.0014 - acc: 1.0000 - val_loss: 0.9076 - val_acc: 0.8500\n",
      "Epoch 79/100\n",
      "15/15 [==============================] - 2s 107ms/step - loss: 0.0014 - acc: 1.0000 - val_loss: 0.9721 - val_acc: 0.8167\n",
      "Epoch 80/100\n",
      "15/15 [==============================] - 2s 107ms/step - loss: 0.0015 - acc: 1.0000 - val_loss: 0.9606 - val_acc: 0.8500\n",
      "Epoch 81/100\n",
      "15/15 [==============================] - 2s 107ms/step - loss: 0.0013 - acc: 1.0000 - val_loss: 0.9762 - val_acc: 0.8500\n",
      "Epoch 82/100\n",
      "15/15 [==============================] - 2s 107ms/step - loss: 0.0012 - acc: 1.0000 - val_loss: 0.9471 - val_acc: 0.8500\n",
      "Epoch 83/100\n",
      "15/15 [==============================] - 2s 107ms/step - loss: 0.0012 - acc: 1.0000 - val_loss: 0.8993 - val_acc: 0.8500\n",
      "Epoch 84/100\n",
      "15/15 [==============================] - 2s 107ms/step - loss: 0.0012 - acc: 1.0000 - val_loss: 0.8858 - val_acc: 0.8500\n",
      "Epoch 85/100\n",
      "15/15 [==============================] - 2s 107ms/step - loss: 0.0011 - acc: 1.0000 - val_loss: 0.9383 - val_acc: 0.8500\n",
      "Epoch 86/100\n",
      "15/15 [==============================] - 2s 107ms/step - loss: 9.7304e-04 - acc: 1.0000 - val_loss: 0.9045 - val_acc: 0.8500\n",
      "Epoch 87/100\n",
      "15/15 [==============================] - 2s 106ms/step - loss: 0.0011 - acc: 1.0000 - val_loss: 1.0027 - val_acc: 0.8333\n",
      "Epoch 88/100\n",
      "15/15 [==============================] - 2s 108ms/step - loss: 0.0035 - acc: 1.0000 - val_loss: 2.2625 - val_acc: 0.7833\n",
      "Epoch 89/100\n",
      "15/15 [==============================] - 2s 108ms/step - loss: 0.0046 - acc: 1.0000 - val_loss: 2.0308 - val_acc: 0.7667\n",
      "Epoch 90/100\n",
      "15/15 [==============================] - 2s 108ms/step - loss: 0.0053 - acc: 1.0000 - val_loss: 1.6215 - val_acc: 0.8667\n",
      "Epoch 91/100\n",
      "15/15 [==============================] - 2s 108ms/step - loss: 0.0057 - acc: 1.0000 - val_loss: 1.7386 - val_acc: 0.8333\n",
      "Epoch 92/100\n",
      "15/15 [==============================] - 2s 108ms/step - loss: 0.2034 - acc: 0.9450 - val_loss: 9.8487 - val_acc: 0.2500\n",
      "Epoch 93/100\n",
      "15/15 [==============================] - 2s 109ms/step - loss: 1.1853 - acc: 0.5814 - val_loss: 8.7820 - val_acc: 0.3500\n",
      "Epoch 94/100\n",
      "15/15 [==============================] - 2s 108ms/step - loss: 0.8278 - acc: 0.7125 - val_loss: 11.7217 - val_acc: 0.3833\n",
      "Epoch 95/100\n",
      "15/15 [==============================] - 2s 108ms/step - loss: 0.4885 - acc: 0.8774 - val_loss: 8.1152 - val_acc: 0.4833\n",
      "Epoch 96/100\n",
      "15/15 [==============================] - 2s 108ms/step - loss: 0.4711 - acc: 0.8689 - val_loss: 3.4489 - val_acc: 0.6667\n",
      "Epoch 97/100\n",
      "15/15 [==============================] - 2s 108ms/step - loss: 0.3461 - acc: 0.9049 - val_loss: 4.4283 - val_acc: 0.5833\n",
      "Epoch 98/100\n",
      "15/15 [==============================] - 2s 108ms/step - loss: 0.2836 - acc: 0.9281 - val_loss: 3.0939 - val_acc: 0.7000\n",
      "Epoch 99/100\n",
      "15/15 [==============================] - 2s 108ms/step - loss: 0.2264 - acc: 0.9493 - val_loss: 2.1826 - val_acc: 0.7000\n",
      "Epoch 100/100\n",
      "15/15 [==============================] - 2s 108ms/step - loss: 0.1247 - acc: 0.9873 - val_loss: 0.9796 - val_acc: 0.7833\n"
     ]
    }
   ],
   "source": [
    "epochs = 100\n",
    "\n",
    "#compila e treina o modelo com os dados carregados\n",
    "new_model.compile(loss='sparse_categorical_crossentropy', metrics=['acc'], optimizer=adam)\n",
    "model_trained = new_model.fit(train_x, train_y,epochs=epochs,verbose=2,validation_data=(validation_x, validation_y),shuffle=False)"
   ]
  },
  {
   "cell_type": "code",
   "execution_count": 18,
   "metadata": {},
   "outputs": [
    {
     "name": "stdout",
     "output_type": "stream",
     "text": [
      "Model: \"mobilenet_1.00_128\"\n",
      "_________________________________________________________________\n",
      " Layer (type)                Output Shape              Param #   \n",
      "=================================================================\n",
      " input_1 (InputLayer)        [(None, 128, 128, 3)]     0         \n",
      "                                                                 \n",
      " conv1 (Conv2D)              (None, 64, 64, 32)        864       \n",
      "                                                                 \n",
      " conv1_bn (BatchNormalizatio  (None, 64, 64, 32)       128       \n",
      " n)                                                              \n",
      "                                                                 \n",
      " conv1_relu (ReLU)           (None, 64, 64, 32)        0         \n",
      "                                                                 \n",
      " conv_dw_1 (DepthwiseConv2D)  (None, 64, 64, 32)       288       \n",
      "                                                                 \n",
      " conv_dw_1_bn (BatchNormaliz  (None, 64, 64, 32)       128       \n",
      " ation)                                                          \n",
      "                                                                 \n",
      " conv_dw_1_relu (ReLU)       (None, 64, 64, 32)        0         \n",
      "                                                                 \n",
      " conv_pw_1 (Conv2D)          (None, 64, 64, 64)        2048      \n",
      "                                                                 \n",
      " conv_pw_1_bn (BatchNormaliz  (None, 64, 64, 64)       256       \n",
      " ation)                                                          \n",
      "                                                                 \n",
      " conv_pw_1_relu (ReLU)       (None, 64, 64, 64)        0         \n",
      "                                                                 \n",
      " conv_pad_2 (ZeroPadding2D)  (None, 65, 65, 64)        0         \n",
      "                                                                 \n",
      " conv_dw_2 (DepthwiseConv2D)  (None, 32, 32, 64)       576       \n",
      "                                                                 \n",
      " conv_dw_2_bn (BatchNormaliz  (None, 32, 32, 64)       256       \n",
      " ation)                                                          \n",
      "                                                                 \n",
      " conv_dw_2_relu (ReLU)       (None, 32, 32, 64)        0         \n",
      "                                                                 \n",
      " conv_pw_2 (Conv2D)          (None, 32, 32, 128)       8192      \n",
      "                                                                 \n",
      " conv_pw_2_bn (BatchNormaliz  (None, 32, 32, 128)      512       \n",
      " ation)                                                          \n",
      "                                                                 \n",
      " conv_pw_2_relu (ReLU)       (None, 32, 32, 128)       0         \n",
      "                                                                 \n",
      " conv_dw_3 (DepthwiseConv2D)  (None, 32, 32, 128)      1152      \n",
      "                                                                 \n",
      " conv_dw_3_bn (BatchNormaliz  (None, 32, 32, 128)      512       \n",
      " ation)                                                          \n",
      "                                                                 \n",
      " conv_dw_3_relu (ReLU)       (None, 32, 32, 128)       0         \n",
      "                                                                 \n",
      " conv_pw_3 (Conv2D)          (None, 32, 32, 128)       16384     \n",
      "                                                                 \n",
      " conv_pw_3_bn (BatchNormaliz  (None, 32, 32, 128)      512       \n",
      " ation)                                                          \n",
      "                                                                 \n",
      " conv_pw_3_relu (ReLU)       (None, 32, 32, 128)       0         \n",
      "                                                                 \n",
      " conv_pad_4 (ZeroPadding2D)  (None, 33, 33, 128)       0         \n",
      "                                                                 \n",
      " conv_dw_4 (DepthwiseConv2D)  (None, 16, 16, 128)      1152      \n",
      "                                                                 \n",
      " conv_dw_4_bn (BatchNormaliz  (None, 16, 16, 128)      512       \n",
      " ation)                                                          \n",
      "                                                                 \n",
      " conv_dw_4_relu (ReLU)       (None, 16, 16, 128)       0         \n",
      "                                                                 \n",
      " conv_pw_4 (Conv2D)          (None, 16, 16, 256)       32768     \n",
      "                                                                 \n",
      " conv_pw_4_bn (BatchNormaliz  (None, 16, 16, 256)      1024      \n",
      " ation)                                                          \n",
      "                                                                 \n",
      " conv_pw_4_relu (ReLU)       (None, 16, 16, 256)       0         \n",
      "                                                                 \n",
      " conv_dw_5 (DepthwiseConv2D)  (None, 16, 16, 256)      2304      \n",
      "                                                                 \n",
      " conv_dw_5_bn (BatchNormaliz  (None, 16, 16, 256)      1024      \n",
      " ation)                                                          \n",
      "                                                                 \n",
      " conv_dw_5_relu (ReLU)       (None, 16, 16, 256)       0         \n",
      "                                                                 \n",
      " conv_pw_5 (Conv2D)          (None, 16, 16, 256)       65536     \n",
      "                                                                 \n",
      " conv_pw_5_bn (BatchNormaliz  (None, 16, 16, 256)      1024      \n",
      " ation)                                                          \n",
      "                                                                 \n",
      " conv_pw_5_relu (ReLU)       (None, 16, 16, 256)       0         \n",
      "                                                                 \n",
      " conv_pad_6 (ZeroPadding2D)  (None, 17, 17, 256)       0         \n",
      "                                                                 \n",
      " conv_dw_6 (DepthwiseConv2D)  (None, 8, 8, 256)        2304      \n",
      "                                                                 \n",
      " conv_dw_6_bn (BatchNormaliz  (None, 8, 8, 256)        1024      \n",
      " ation)                                                          \n",
      "                                                                 \n",
      " conv_dw_6_relu (ReLU)       (None, 8, 8, 256)         0         \n",
      "                                                                 \n",
      " conv_pw_6 (Conv2D)          (None, 8, 8, 512)         131072    \n",
      "                                                                 \n",
      " conv_pw_6_bn (BatchNormaliz  (None, 8, 8, 512)        2048      \n",
      " ation)                                                          \n",
      "                                                                 \n",
      " conv_pw_6_relu (ReLU)       (None, 8, 8, 512)         0         \n",
      "                                                                 \n",
      " conv_dw_7 (DepthwiseConv2D)  (None, 8, 8, 512)        4608      \n",
      "                                                                 \n",
      " conv_dw_7_bn (BatchNormaliz  (None, 8, 8, 512)        2048      \n",
      " ation)                                                          \n",
      "                                                                 \n",
      " conv_dw_7_relu (ReLU)       (None, 8, 8, 512)         0         \n",
      "                                                                 \n",
      " conv_pw_7 (Conv2D)          (None, 8, 8, 512)         262144    \n",
      "                                                                 \n",
      " conv_pw_7_bn (BatchNormaliz  (None, 8, 8, 512)        2048      \n",
      " ation)                                                          \n",
      "                                                                 \n",
      " conv_pw_7_relu (ReLU)       (None, 8, 8, 512)         0         \n",
      "                                                                 \n",
      " conv_dw_8 (DepthwiseConv2D)  (None, 8, 8, 512)        4608      \n",
      "                                                                 \n",
      " conv_dw_8_bn (BatchNormaliz  (None, 8, 8, 512)        2048      \n",
      " ation)                                                          \n",
      "                                                                 \n",
      " conv_dw_8_relu (ReLU)       (None, 8, 8, 512)         0         \n",
      "                                                                 \n",
      " conv_pw_8 (Conv2D)          (None, 8, 8, 512)         262144    \n"
     ]
    },
    {
     "name": "stdout",
     "output_type": "stream",
     "text": [
      "                                                                 \n",
      " conv_pw_8_bn (BatchNormaliz  (None, 8, 8, 512)        2048      \n",
      " ation)                                                          \n",
      "                                                                 \n",
      " conv_pw_8_relu (ReLU)       (None, 8, 8, 512)         0         \n",
      "                                                                 \n",
      " conv_dw_9 (DepthwiseConv2D)  (None, 8, 8, 512)        4608      \n",
      "                                                                 \n",
      " conv_dw_9_bn (BatchNormaliz  (None, 8, 8, 512)        2048      \n",
      " ation)                                                          \n",
      "                                                                 \n",
      " conv_dw_9_relu (ReLU)       (None, 8, 8, 512)         0         \n",
      "                                                                 \n",
      " conv_pw_9 (Conv2D)          (None, 8, 8, 512)         262144    \n",
      "                                                                 \n",
      " conv_pw_9_bn (BatchNormaliz  (None, 8, 8, 512)        2048      \n",
      " ation)                                                          \n",
      "                                                                 \n",
      " conv_pw_9_relu (ReLU)       (None, 8, 8, 512)         0         \n",
      "                                                                 \n",
      " conv_dw_10 (DepthwiseConv2D  (None, 8, 8, 512)        4608      \n",
      " )                                                               \n",
      "                                                                 \n",
      " conv_dw_10_bn (BatchNormali  (None, 8, 8, 512)        2048      \n",
      " zation)                                                         \n",
      "                                                                 \n",
      " conv_dw_10_relu (ReLU)      (None, 8, 8, 512)         0         \n",
      "                                                                 \n",
      " conv_pw_10 (Conv2D)         (None, 8, 8, 512)         262144    \n",
      "                                                                 \n",
      " conv_pw_10_bn (BatchNormali  (None, 8, 8, 512)        2048      \n",
      " zation)                                                         \n",
      "                                                                 \n",
      " conv_pw_10_relu (ReLU)      (None, 8, 8, 512)         0         \n",
      "                                                                 \n",
      " conv_dw_11 (DepthwiseConv2D  (None, 8, 8, 512)        4608      \n",
      " )                                                               \n",
      "                                                                 \n",
      " conv_dw_11_bn (BatchNormali  (None, 8, 8, 512)        2048      \n",
      " zation)                                                         \n",
      "                                                                 \n",
      " conv_dw_11_relu (ReLU)      (None, 8, 8, 512)         0         \n",
      "                                                                 \n",
      " conv_pw_11 (Conv2D)         (None, 8, 8, 512)         262144    \n",
      "                                                                 \n",
      " conv_pw_11_bn (BatchNormali  (None, 8, 8, 512)        2048      \n",
      " zation)                                                         \n",
      "                                                                 \n",
      " conv_pw_11_relu (ReLU)      (None, 8, 8, 512)         0         \n",
      "                                                                 \n",
      " conv_pad_12 (ZeroPadding2D)  (None, 9, 9, 512)        0         \n",
      "                                                                 \n",
      " conv_dw_12 (DepthwiseConv2D  (None, 4, 4, 512)        4608      \n",
      " )                                                               \n",
      "                                                                 \n",
      " conv_dw_12_bn (BatchNormali  (None, 4, 4, 512)        2048      \n",
      " zation)                                                         \n",
      "                                                                 \n",
      " conv_dw_12_relu (ReLU)      (None, 4, 4, 512)         0         \n",
      "                                                                 \n",
      " conv_pw_12 (Conv2D)         (None, 4, 4, 1024)        524288    \n",
      "                                                                 \n",
      " conv_pw_12_bn (BatchNormali  (None, 4, 4, 1024)       4096      \n",
      " zation)                                                         \n",
      "                                                                 \n",
      " conv_pw_12_relu (ReLU)      (None, 4, 4, 1024)        0         \n",
      "                                                                 \n",
      " conv_dw_13 (DepthwiseConv2D  (None, 4, 4, 1024)       9216      \n",
      " )                                                               \n",
      "                                                                 \n",
      " conv_dw_13_bn (BatchNormali  (None, 4, 4, 1024)       4096      \n",
      " zation)                                                         \n",
      "                                                                 \n",
      " conv_dw_13_relu (ReLU)      (None, 4, 4, 1024)        0         \n",
      "                                                                 \n",
      " conv_pw_13 (Conv2D)         (None, 4, 4, 1024)        1048576   \n",
      "                                                                 \n",
      " conv_pw_13_bn (BatchNormali  (None, 4, 4, 1024)       4096      \n",
      " zation)                                                         \n",
      "                                                                 \n",
      " conv_pw_13_relu (ReLU)      (None, 4, 4, 1024)        0         \n",
      "                                                                 \n",
      "=================================================================\n",
      "Total params: 3,228,864\n",
      "Trainable params: 3,206,976\n",
      "Non-trainable params: 21,888\n",
      "_________________________________________________________________\n"
     ]
    }
   ],
   "source": [
    "model.summary()"
   ]
  },
  {
   "cell_type": "code",
   "execution_count": 19,
   "metadata": {},
   "outputs": [],
   "source": [
    "def getLayerIndexByName(model, layername):\n",
    "    for idx, layer in enumerate(model.layers):\n",
    "        if layer.name == layername:\n",
    "            return idx"
   ]
  },
  {
   "cell_type": "code",
   "execution_count": 20,
   "metadata": {},
   "outputs": [
    {
     "name": "stdout",
     "output_type": "stream",
     "text": [
      "11\n"
     ]
    }
   ],
   "source": [
    "print(getLayerIndexByName(new_model, 'flatten')) #just used to get the index of flatten layer"
   ]
  },
  {
   "cell_type": "code",
   "execution_count": 21,
   "metadata": {},
   "outputs": [
    {
     "name": "stdout",
     "output_type": "stream",
     "text": [
      "WARNING:tensorflow:Compiled the loaded model, but the compiled metrics have yet to be built. `model.compile_metrics` will be empty until you train or evaluate the model.\n"
     ]
    },
    {
     "name": "stderr",
     "output_type": "stream",
     "text": [
      "WARNING:absl:Found untraced functions such as _jit_compiled_convolution_op, _jit_compiled_convolution_op, _jit_compiled_convolution_op, _jit_compiled_convolution_op, _jit_compiled_convolution_op while saving (showing 5 of 27). These functions will not be directly callable after loading.\n"
     ]
    },
    {
     "name": "stdout",
     "output_type": "stream",
     "text": [
      "INFO:tensorflow:Assets written to: mobilenet-baseline-holdout-100epochs_dropout_batch.npy\\assets\n"
     ]
    },
    {
     "name": "stderr",
     "output_type": "stream",
     "text": [
      "INFO:tensorflow:Assets written to: mobilenet-baseline-holdout-100epochs_dropout_batch.npy\\assets\n"
     ]
    }
   ],
   "source": [
    "model_name = f'mobilenet-baseline-holdout-{epochs}epochs_dropout_batch.npy'\n",
    "model.save(model_name)"
   ]
  },
  {
   "cell_type": "markdown",
   "metadata": {},
   "source": [
    "# **Random Forest - flatting**"
   ]
  },
  {
   "cell_type": "code",
   "execution_count": 22,
   "metadata": {},
   "outputs": [
    {
     "name": "stdout",
     "output_type": "stream",
     "text": [
      "15/15 [==============================] - 1s 31ms/step\n"
     ]
    }
   ],
   "source": [
    "new_model_rf = keras.Model(inputs=new_model.input, outputs=new_model.get_layer(index=11).output)\n",
    "featureVector = new_model_rf.predict(train_x)"
   ]
  },
  {
   "cell_type": "code",
   "execution_count": 23,
   "metadata": {},
   "outputs": [
    {
     "name": "stdout",
     "output_type": "stream",
     "text": [
      "2/2 [==============================] - 0s 298ms/step\n"
     ]
    }
   ],
   "source": [
    "featureVector2 = new_model_rf.predict(test_x)"
   ]
  },
  {
   "cell_type": "code",
   "execution_count": 24,
   "metadata": {},
   "outputs": [
    {
     "name": "stdout",
     "output_type": "stream",
     "text": [
      "(473, 64)\n"
     ]
    }
   ],
   "source": [
    "print(featureVector.shape)"
   ]
  },
  {
   "cell_type": "code",
   "execution_count": 25,
   "metadata": {},
   "outputs": [],
   "source": [
    "from sklearn.ensemble import RandomForestClassifier"
   ]
  },
  {
   "cell_type": "code",
   "execution_count": 26,
   "metadata": {},
   "outputs": [
    {
     "data": {
      "text/html": [
       "<style>#sk-container-id-1 {color: black;}#sk-container-id-1 pre{padding: 0;}#sk-container-id-1 div.sk-toggleable {background-color: white;}#sk-container-id-1 label.sk-toggleable__label {cursor: pointer;display: block;width: 100%;margin-bottom: 0;padding: 0.3em;box-sizing: border-box;text-align: center;}#sk-container-id-1 label.sk-toggleable__label-arrow:before {content: \"▸\";float: left;margin-right: 0.25em;color: #696969;}#sk-container-id-1 label.sk-toggleable__label-arrow:hover:before {color: black;}#sk-container-id-1 div.sk-estimator:hover label.sk-toggleable__label-arrow:before {color: black;}#sk-container-id-1 div.sk-toggleable__content {max-height: 0;max-width: 0;overflow: hidden;text-align: left;background-color: #f0f8ff;}#sk-container-id-1 div.sk-toggleable__content pre {margin: 0.2em;color: black;border-radius: 0.25em;background-color: #f0f8ff;}#sk-container-id-1 input.sk-toggleable__control:checked~div.sk-toggleable__content {max-height: 200px;max-width: 100%;overflow: auto;}#sk-container-id-1 input.sk-toggleable__control:checked~label.sk-toggleable__label-arrow:before {content: \"▾\";}#sk-container-id-1 div.sk-estimator input.sk-toggleable__control:checked~label.sk-toggleable__label {background-color: #d4ebff;}#sk-container-id-1 div.sk-label input.sk-toggleable__control:checked~label.sk-toggleable__label {background-color: #d4ebff;}#sk-container-id-1 input.sk-hidden--visually {border: 0;clip: rect(1px 1px 1px 1px);clip: rect(1px, 1px, 1px, 1px);height: 1px;margin: -1px;overflow: hidden;padding: 0;position: absolute;width: 1px;}#sk-container-id-1 div.sk-estimator {font-family: monospace;background-color: #f0f8ff;border: 1px dotted black;border-radius: 0.25em;box-sizing: border-box;margin-bottom: 0.5em;}#sk-container-id-1 div.sk-estimator:hover {background-color: #d4ebff;}#sk-container-id-1 div.sk-parallel-item::after {content: \"\";width: 100%;border-bottom: 1px solid gray;flex-grow: 1;}#sk-container-id-1 div.sk-label:hover label.sk-toggleable__label {background-color: #d4ebff;}#sk-container-id-1 div.sk-serial::before {content: \"\";position: absolute;border-left: 1px solid gray;box-sizing: border-box;top: 0;bottom: 0;left: 50%;z-index: 0;}#sk-container-id-1 div.sk-serial {display: flex;flex-direction: column;align-items: center;background-color: white;padding-right: 0.2em;padding-left: 0.2em;position: relative;}#sk-container-id-1 div.sk-item {position: relative;z-index: 1;}#sk-container-id-1 div.sk-parallel {display: flex;align-items: stretch;justify-content: center;background-color: white;position: relative;}#sk-container-id-1 div.sk-item::before, #sk-container-id-1 div.sk-parallel-item::before {content: \"\";position: absolute;border-left: 1px solid gray;box-sizing: border-box;top: 0;bottom: 0;left: 50%;z-index: -1;}#sk-container-id-1 div.sk-parallel-item {display: flex;flex-direction: column;z-index: 1;position: relative;background-color: white;}#sk-container-id-1 div.sk-parallel-item:first-child::after {align-self: flex-end;width: 50%;}#sk-container-id-1 div.sk-parallel-item:last-child::after {align-self: flex-start;width: 50%;}#sk-container-id-1 div.sk-parallel-item:only-child::after {width: 0;}#sk-container-id-1 div.sk-dashed-wrapped {border: 1px dashed gray;margin: 0 0.4em 0.5em 0.4em;box-sizing: border-box;padding-bottom: 0.4em;background-color: white;}#sk-container-id-1 div.sk-label label {font-family: monospace;font-weight: bold;display: inline-block;line-height: 1.2em;}#sk-container-id-1 div.sk-label-container {text-align: center;}#sk-container-id-1 div.sk-container {/* jupyter's `normalize.less` sets `[hidden] { display: none; }` but bootstrap.min.css set `[hidden] { display: none !important; }` so we also need the `!important` here to be able to override the default hidden behavior on the sphinx rendered scikit-learn.org. See: https://github.com/scikit-learn/scikit-learn/issues/21755 */display: inline-block !important;position: relative;}#sk-container-id-1 div.sk-text-repr-fallback {display: none;}</style><div id=\"sk-container-id-1\" class=\"sk-top-container\"><div class=\"sk-text-repr-fallback\"><pre>RandomForestClassifier()</pre><b>In a Jupyter environment, please rerun this cell to show the HTML representation or trust the notebook. <br />On GitHub, the HTML representation is unable to render, please try loading this page with nbviewer.org.</b></div><div class=\"sk-container\" hidden><div class=\"sk-item\"><div class=\"sk-estimator sk-toggleable\"><input class=\"sk-toggleable__control sk-hidden--visually\" id=\"sk-estimator-id-1\" type=\"checkbox\" checked><label for=\"sk-estimator-id-1\" class=\"sk-toggleable__label sk-toggleable__label-arrow\">RandomForestClassifier</label><div class=\"sk-toggleable__content\"><pre>RandomForestClassifier()</pre></div></div></div></div></div>"
      ],
      "text/plain": [
       "RandomForestClassifier()"
      ]
     },
     "execution_count": 26,
     "metadata": {},
     "output_type": "execute_result"
    }
   ],
   "source": [
    "clf=RandomForestClassifier(n_estimators=100)\n",
    "\n",
    "clf.fit(featureVector,train_y)"
   ]
  },
  {
   "cell_type": "code",
   "execution_count": 27,
   "metadata": {},
   "outputs": [
    {
     "data": {
      "text/plain": [
       "(59, 128, 128, 3)"
      ]
     },
     "execution_count": 27,
     "metadata": {},
     "output_type": "execute_result"
    }
   ],
   "source": [
    "test_x.shape"
   ]
  },
  {
   "cell_type": "code",
   "execution_count": 28,
   "metadata": {},
   "outputs": [],
   "source": [
    "y_pred=clf.predict(featureVector2)"
   ]
  },
  {
   "cell_type": "code",
   "execution_count": 29,
   "metadata": {},
   "outputs": [
    {
     "data": {
      "text/plain": [
       "(473, 64)"
      ]
     },
     "execution_count": 29,
     "metadata": {},
     "output_type": "execute_result"
    }
   ],
   "source": [
    "featureVector.shape"
   ]
  },
  {
   "cell_type": "code",
   "execution_count": 30,
   "metadata": {},
   "outputs": [
    {
     "name": "stdout",
     "output_type": "stream",
     "text": [
      "Accuracy: 0.6949152542372882\n"
     ]
    }
   ],
   "source": [
    "from sklearn import metrics\n",
    "print(\"Accuracy:\",metrics.accuracy_score(test_y, y_pred))"
   ]
  },
  {
   "cell_type": "code",
   "execution_count": 31,
   "metadata": {},
   "outputs": [],
   "source": [
    "from sklearn.tree import DecisionTreeClassifier"
   ]
  },
  {
   "cell_type": "code",
   "execution_count": 32,
   "metadata": {},
   "outputs": [],
   "source": [
    "clf = DecisionTreeClassifier(random_state=0)"
   ]
  },
  {
   "cell_type": "markdown",
   "metadata": {
    "id": "v2tUu9UW4S_S"
   },
   "source": [
    "# **Testes**"
   ]
  },
  {
   "cell_type": "code",
   "execution_count": 33,
   "metadata": {
    "id": "-02BWWgF4V9h"
   },
   "outputs": [
    {
     "data": {
      "image/png": "[encoded data removed]",
      "text/plain": [
       "<Figure size 640x480 with 1 Axes>"
      ]
     },
     "metadata": {},
     "output_type": "display_data"
    },
    {
     "data": {
      "image/png": "[encoded data removed]",
      "text/plain": [
       "<Figure size 640x480 with 1 Axes>"
      ]
     },
     "metadata": {},
     "output_type": "display_data"
    }
   ],
   "source": [
    "import matplotlib.pyplot as plt\n",
    "\n",
    "accuracy = model_trained.history['acc']\n",
    "val_accuracy = model_trained.history['val_acc']\n",
    "loss = model_trained.history['loss']\n",
    "val_loss = model_trained.history['val_loss']\n",
    "epochs = range(len(accuracy))\n",
    "plt.plot(epochs, accuracy, 'b', label='Acurácia de treino')\n",
    "plt.plot(epochs, val_accuracy, 'g', label='Acurácia de validação')\n",
    "plt.title('Acurácia de treino e validação')\n",
    "plt.legend()\n",
    "plt.figure()\n",
    "plt.plot(epochs, loss, 'b', label='Perda no treino')\n",
    "plt.plot(epochs, val_loss, 'g', label='Perda na validação')\n",
    "plt.title('Perda na validação e treino')\n",
    "plt.legend()\n",
    "plt.show()"
   ]
  },
  {
   "cell_type": "code",
   "execution_count": 34,
   "metadata": {
    "id": "On7_hNmrOysp"
   },
   "outputs": [
    {
     "name": "stdout",
     "output_type": "stream",
     "text": [
      "2/2 [==============================] - 0s 30ms/step - loss: 1.3976 - acc: 0.6949\n",
      "Test loss: 1.397574782371521\n",
      "Test accuracy: 0.694915235042572\n"
     ]
    }
   ],
   "source": [
    "#avalia a fase de teste\n",
    "\n",
    "model_loss, model_accuracy = new_model.evaluate(test_x, test_y, verbose=1)\n",
    "\n",
    "#mostra o resultado\n",
    "print('Test loss:', model_loss)\n",
    "print('Test accuracy:', model_accuracy)"
   ]
  },
  {
   "cell_type": "code",
   "execution_count": 35,
   "metadata": {
    "id": "uGYRlhnq8wsF"
   },
   "outputs": [],
   "source": [
    "#faz a predição das imagens\n",
    "\n",
    "from tensorflow.keras.utils import to_categorical\n",
    "\n",
    "pred = new_model.predict(test_x, verbose=0)\n",
    "\n",
    "pred_probs = np.argmax(pred,axis=1)"
   ]
  },
  {
   "cell_type": "code",
   "execution_count": 36,
   "metadata": {
    "id": "Vt4jZ2jB8ygE"
   },
   "outputs": [],
   "source": [
    "from sklearn.metrics import confusion_matrix\n",
    "from sklearn.metrics import classification_report\n",
    "from sklearn.metrics import accuracy_score\n",
    "from sklearn.metrics import f1_score"
   ]
  },
  {
   "cell_type": "code",
   "execution_count": 37,
   "metadata": {
    "id": "9gx5yvuU84UC"
   },
   "outputs": [],
   "source": [
    "cm = confusion_matrix(test_y, pred_probs)"
   ]
  },
  {
   "cell_type": "code",
   "execution_count": 38,
   "metadata": {
    "id": "NUrE8yfU86OL"
   },
   "outputs": [
    {
     "name": "stdout",
     "output_type": "stream",
     "text": [
      "F1 Score: 0.7056198176629985\n",
      "Sensitivity: [0.66666667 0.69230769 0.5625     0.83333333]\n",
      "Specificity: [0.95744681 0.76086957 0.90697674 0.97560976]\n",
      "Precision:   [0.8        0.45       0.69230769 0.9375    ]\n",
      "Accuracy:    [0.89830508 0.74576271 0.81355932 0.93220339]\n"
     ]
    }
   ],
   "source": [
    "#gera os valores de falso positivo, falso negativo, verdadeiro positivo e verdadeiro negativo\n",
    "fp = cm.sum(axis=0) - np.diag(cm)  \n",
    "fn = cm.sum(axis=1) - np.diag(cm)\n",
    "tp = np.diag(cm)\n",
    "tn = cm.sum() - (fp + fn + tp)\n",
    "\n",
    "f1score = f1_score(test_y, pred_probs, average='weighted')\n",
    "sensitivity = tp / (tp + fn)\n",
    "specificity = tn / (tn + fp)\n",
    "accuracy    = (tp + tn) / (tp + tn + fp + fn)\n",
    "precision   = tp / (tp + fp)\n",
    "\n",
    "\n",
    "print(\"F1 Score:\", f1score)\n",
    "print(\"Sensitivity:\", sensitivity)\n",
    "print(\"Specificity:\", specificity)\n",
    "print(\"Precision:  \", precision)\n",
    "print(\"Accuracy:   \", accuracy)"
   ]
  },
  {
   "cell_type": "code",
   "execution_count": null,
   "metadata": {},
   "outputs": [],
   "source": []
  },
  {
   "cell_type": "code",
   "execution_count": null,
   "metadata": {},
   "outputs": [],
   "source": []
  }
 ],
 "metadata": {
  "colab": {
   "collapsed_sections": [],
   "name": "covid_alex_holdout_cropping_tgo.ipynb",
   "provenance": []
  },
  "kernelspec": {
   "display_name": "Python 3 (ipykernel)",
   "language": "python",
   "name": "python3"
  },
  "language_info": {
   "codemirror_mode": {
    "name": "ipython",
    "version": 3
   },
   "file_extension": ".py",
   "mimetype": "text/x-python",
   "name": "python",
   "nbconvert_exporter": "python",
   "pygments_lexer": "ipython3",
   "version": "3.9.17"
  }
 },
 "nbformat": 4,
 "nbformat_minor": 1
}
