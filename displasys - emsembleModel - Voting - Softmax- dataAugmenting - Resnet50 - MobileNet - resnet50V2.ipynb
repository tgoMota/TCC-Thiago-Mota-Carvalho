{
 "cells": [
  {
   "cell_type": "code",
   "execution_count": 53,
   "id": "69900df3",
   "metadata": {},
   "outputs": [],
   "source": [
    "import tensorflow as tf\n",
    "from tensorflow import keras\n",
    "import matplotlib.pyplot as plt\n",
    "import os\n",
    "import time\n",
    "from sklearn import datasets\n",
    "from sklearn.ensemble import VotingClassifier\n",
    "from sklearn.model_selection import cross_val_score\n",
    "from keras.datasets import cifar10\n",
    "from keras.utils import to_categorical\n",
    "import numpy as np"
   ]
  },
  {
   "cell_type": "code",
   "execution_count": 54,
   "id": "7f1d7bd2",
   "metadata": {},
   "outputs": [],
   "source": [
    "# load train and test dataset\n",
    "def load_dataset():\n",
    "    # load dataset\n",
    "    data_x = np.load('data_x_aumentated_normalized.npy')\n",
    "    data_y = np.load('data_y_aumentated_normalized.npy')\n",
    "    #data_x = np.load('data_x_original_augmented.npy')\n",
    "    #data_y = np.load('data_y_original_augmented.npy')\n",
    "    #percentage of the dataset which will be on TRAIN - TEST - VALIDATION\n",
    "    TOTAL_IMAGES = len(data_y)\n",
    "    print(\"TOTAL_IMAGES = \", TOTAL_IMAGES)\n",
    "    \n",
    "    TRAIN_PERCENTAGE = 0.8\n",
    "    TEST_PERCENTAGE = 0.1\n",
    "    VALIDATION_PERCENTAGE = 0.1\n",
    "\n",
    "    train_size = int(TRAIN_PERCENTAGE * TOTAL_IMAGES)\n",
    "    test_size = int(TEST_PERCENTAGE * TOTAL_IMAGES)\n",
    "    validation_size = int(VALIDATION_PERCENTAGE * TOTAL_IMAGES)\n",
    "\n",
    "    train_x = data_x[:train_size] #taking train images from original data\n",
    "    train_y = data_y[:train_size]\n",
    "    data_x = data_x[train_size:] #removing train images from original data\n",
    "    data_y = data_y[train_size:]\n",
    "\n",
    "    test_x = data_x[:test_size] #taking test images from original data\n",
    "    test_y = data_y[:test_size]\n",
    "    data_x = data_x[test_size:] #removing test images from original data\n",
    "    data_y = data_y[test_size:]\n",
    "\n",
    "    validation_x = data_x #all the remainder images we can put on validation\n",
    "    validation_y = data_y\n",
    "\n",
    "    del data_x #free some unused memory\n",
    "    del data_y\n",
    "\n",
    "    print(\"train_size = \", len(train_y))\n",
    "    print(\"test_size = \", len(test_y))\n",
    "    print(\"validation_size = \", len(validation_y))\n",
    " # one hot encode target values\n",
    "    train_y = to_categorical(train_y)\n",
    "    test_y = to_categorical(test_y)\n",
    "    validation_y = to_categorical(validation_y)\n",
    "    return train_x, train_y, test_x, test_y, validation_x, validation_y"
   ]
  },
  {
   "cell_type": "code",
   "execution_count": 55,
   "id": "05b5ce4f",
   "metadata": {},
   "outputs": [],
   "source": [
    "# scale pixels\n",
    "def prep_pixels(train, test, validation):\n",
    "    # convert from integers to floats\n",
    "    train_norm = train.astype('float32')\n",
    "    test_norm = test.astype('float32')\n",
    "    validation_norm = validation.astype('float32')\n",
    "    # normalize to range 0-1\n",
    "    train_norm = train_norm / 255.0\n",
    "    test_norm = test_norm / 255.0\n",
    "    validation_norm = validation_norm / 255.0\n",
    "    # return normalized images\n",
    "    return train_norm, test_norm, validation_norm"
   ]
  },
  {
   "cell_type": "code",
   "execution_count": 56,
   "id": "94db3098",
   "metadata": {},
   "outputs": [
    {
     "name": "stdout",
     "output_type": "stream",
     "text": [
      "TOTAL_IMAGES =  2368\n",
      "train_size =  1894\n",
      "test_size =  236\n",
      "validation_size =  238\n"
     ]
    }
   ],
   "source": [
    "trainX, trainY, testX, testY, validationX, validationY = load_dataset()\n",
    "#trainX, testX, validationX = prep_pixels(trainX, testX, validationX)\n",
    "#testX = trainX\n",
    "#testY = trainY"
   ]
  },
  {
   "cell_type": "code",
   "execution_count": 57,
   "id": "a24b5733",
   "metadata": {},
   "outputs": [
    {
     "data": {
      "text/plain": [
       "(1894, 128, 128, 3)"
      ]
     },
     "execution_count": 57,
     "metadata": {},
     "output_type": "execute_result"
    }
   ],
   "source": [
    "trainX.shape"
   ]
  },
  {
   "cell_type": "code",
   "execution_count": 58,
   "id": "69e72838",
   "metadata": {},
   "outputs": [
    {
     "data": {
      "text/plain": [
       "array([[[0.56470588, 0.51764706, 0.65490196],\n",
       "        [0.63137255, 0.56470588, 0.69411765],\n",
       "        [0.65490196, 0.59607843, 0.70980392],\n",
       "        ...,\n",
       "        [0.23529412, 0.18823529, 0.41568627],\n",
       "        [0.23529412, 0.18823529, 0.43529412],\n",
       "        [0.29411765, 0.25098039, 0.47058824]],\n",
       "\n",
       "       [[0.54117647, 0.46666667, 0.64313725],\n",
       "        [0.57647059, 0.49803922, 0.65098039],\n",
       "        [0.62352941, 0.54901961, 0.68235294],\n",
       "        ...,\n",
       "        [0.21176471, 0.18431373, 0.41568627],\n",
       "        [0.21176471, 0.17254902, 0.41960784],\n",
       "        [0.25490196, 0.21176471, 0.45882353]],\n",
       "\n",
       "       [[0.47058824, 0.39215686, 0.56862745],\n",
       "        [0.47843137, 0.39215686, 0.57647059],\n",
       "        [0.54509804, 0.4627451 , 0.61568627],\n",
       "        ...,\n",
       "        [0.29411765, 0.24313725, 0.50196078],\n",
       "        [0.29803922, 0.27058824, 0.51372549],\n",
       "        [0.33333333, 0.27843137, 0.5254902 ]],\n",
       "\n",
       "       ...,\n",
       "\n",
       "       [[0.55686275, 0.4745098 , 0.63137255],\n",
       "        [0.57647059, 0.4745098 , 0.63921569],\n",
       "        [0.58823529, 0.49803922, 0.64705882],\n",
       "        ...,\n",
       "        [0.45882353, 0.38039216, 0.57254902],\n",
       "        [0.42745098, 0.32941176, 0.54117647],\n",
       "        [0.41960784, 0.35686275, 0.54901961]],\n",
       "\n",
       "       [[0.5372549 , 0.45098039, 0.61568627],\n",
       "        [0.54901961, 0.44705882, 0.61176471],\n",
       "        [0.55294118, 0.45098039, 0.60784314],\n",
       "        ...,\n",
       "        [0.5372549 , 0.43921569, 0.61176471],\n",
       "        [0.43137255, 0.34117647, 0.54901961],\n",
       "        [0.42745098, 0.35294118, 0.54901961]],\n",
       "\n",
       "       [[0.53333333, 0.44705882, 0.61960784],\n",
       "        [0.54117647, 0.44313725, 0.62352941],\n",
       "        [0.5372549 , 0.43529412, 0.61960784],\n",
       "        ...,\n",
       "        [0.60392157, 0.51764706, 0.68235294],\n",
       "        [0.52941176, 0.43529412, 0.62352941],\n",
       "        [0.49019608, 0.41960784, 0.58039216]]])"
      ]
     },
     "execution_count": 58,
     "metadata": {},
     "output_type": "execute_result"
    }
   ],
   "source": [
    "trainX[0]"
   ]
  },
  {
   "cell_type": "code",
   "execution_count": 59,
   "id": "86be4dc9",
   "metadata": {},
   "outputs": [],
   "source": [
    "#trainX, testX, validationX = prep_pixels(trainX, testX, validationX)"
   ]
  },
  {
   "cell_type": "code",
   "execution_count": 60,
   "id": "b8b4b6e7",
   "metadata": {},
   "outputs": [],
   "source": [
    "clf1 = tf.keras.models.load_model(\"displasys_mobilenet-baseline-holdout-100epochs_dataAugmenting_l2_dropout.npy\")\n",
    "#clf1 = tf.keras.models.load_model(\"cifar-vgg-baseline-holdout-100epochs_all_transfer.npy\")"
   ]
  },
  {
   "cell_type": "code",
   "execution_count": 61,
   "id": "d8214f1f",
   "metadata": {},
   "outputs": [
    {
     "name": "stdout",
     "output_type": "stream",
     "text": [
      "<class 'keras.engine.sequential.Sequential'>\n"
     ]
    }
   ],
   "source": [
    "print(type(clf1))"
   ]
  },
  {
   "cell_type": "code",
   "execution_count": 62,
   "id": "bd2e7738",
   "metadata": {},
   "outputs": [],
   "source": [
    "clf2 = tf.keras.models.load_model(\"displasys_resnet50v2-baseline-holdout-100epochs_dataAugmenting_l2_dropout.npy\")\n",
    "#clf2 = tf.keras.models.load_model(\"cifar-mobileNet-baseline-holdout-100epochs_all_transfer.npy\")"
   ]
  },
  {
   "cell_type": "code",
   "execution_count": 63,
   "id": "09dd30b0",
   "metadata": {},
   "outputs": [],
   "source": [
    "clf3 = tf.keras.models.load_model(\"resnet50-baseline-holdout-100epochs_normalized.npy\")\n",
    "#clf3 = tf.keras.models.load_model(\"cifar-resnet50-baseline-holdout-100epochs_all_transfer.npy\")"
   ]
  },
  {
   "cell_type": "code",
   "execution_count": 64,
   "id": "6b1b16be",
   "metadata": {},
   "outputs": [],
   "source": [
    "class emsembleModel:\n",
    "    def __init__(self, classifiers, numClasses):\n",
    "        self.classifiers = classifiers\n",
    "        self.numClasses = numClasses\n",
    "        \n",
    "    def predict_by_voting(self, dataX):\n",
    "        preds = []\n",
    "        for clf in self.classifiers:\n",
    "            preds.append(clf.predict(dataX))\n",
    "        \n",
    "        resultPred = []\n",
    "        M = len(self.classifiers)\n",
    "        for i in range(len(dataX)):\n",
    "            counting = [0 for _ in range(self.numClasses)]\n",
    "            current_best_pred = preds[0][i]\n",
    "            for j in range(M):\n",
    "                pred = preds[j][i]\n",
    "                predictedClass = np.argmax(pred)\n",
    "                counting[predictedClass]+=1\n",
    "                if counting[predictedClass] == max(counting):\n",
    "                    current_best_pred = pred\n",
    "            resultPred.append(current_best_pred)\n",
    "        \n",
    "        return resultPred\n",
    "    \n",
    "    def evaluate_by_voting(self, dataX, dataY):\n",
    "        pred = self.predict_by_voting(dataX)\n",
    "        ok = 0\n",
    "        for i in range(len(pred)):\n",
    "            expectedClass = np.argmax(dataY[i])\n",
    "            predictedClass = np.argmax(pred[i])\n",
    "            if predictedClass == expectedClass:\n",
    "                ok += 1\n",
    "        return ok/len(dataY)\n",
    "\n",
    "    def predict_by_softmax(self, dataX):\n",
    "        preds = []\n",
    "        for clf in self.classifiers:\n",
    "            preds.append(clf.predict(dataX))\n",
    "        print(preds[0].shape, preds[1].shape, preds[2].shape)\n",
    "        resultsPred = []\n",
    "        M = len(self.classifiers)\n",
    "        for i in range(len(dataX)):\n",
    "            probs = []\n",
    "            for j in range(M):\n",
    "                pred = preds[j][i]\n",
    "                probs.append(pred)\n",
    "            compressed_probs = np.array(probs).sum(axis=0)\n",
    "            compressed_probs = compressed_probs/M\n",
    "            resultsPred.append(compressed_probs)\n",
    "        return resultsPred\n",
    "    \n",
    "    def evaluate_by_softmax(self, dataX, dataY):\n",
    "        pred = self.predict_by_softmax(dataX)\n",
    "        ok = 0\n",
    "        for i in range(len(pred)):\n",
    "            expectedClass =  np.argmax(dataY[i])\n",
    "            predictedClass = np.argmax(pred[i])\n",
    "            if predictedClass == expectedClass:\n",
    "                ok += 1\n",
    "        return ok/len(dataY)\n",
    "    "
   ]
  },
  {
   "cell_type": "code",
   "execution_count": 65,
   "id": "f864e530",
   "metadata": {},
   "outputs": [],
   "source": [
    "classifiers = [clf1, clf2, clf3]"
   ]
  },
  {
   "cell_type": "code",
   "execution_count": 66,
   "id": "28375413",
   "metadata": {},
   "outputs": [],
   "source": [
    "emsemble = emsembleModel(classifiers, 4)"
   ]
  },
  {
   "cell_type": "code",
   "execution_count": 67,
   "id": "99a4517b",
   "metadata": {},
   "outputs": [
    {
     "name": "stdout",
     "output_type": "stream",
     "text": [
      "8/8 [==============================] - 1s 77ms/step\n",
      "8/8 [==============================] - 2s 192ms/step\n",
      "8/8 [==============================] - 2s 125ms/step\n",
      "(236, 4) (236, 4) (236, 4)\n"
     ]
    }
   ],
   "source": [
    "acc = emsemble.evaluate_by_softmax(testX, testY)"
   ]
  },
  {
   "cell_type": "code",
   "execution_count": 68,
   "id": "b7e2a8ba",
   "metadata": {
    "scrolled": true
   },
   "outputs": [
    {
     "name": "stdout",
     "output_type": "stream",
     "text": [
      "Accuracy Emsemble using Softmax: 94.492\n"
     ]
    }
   ],
   "source": [
    "print('Accuracy Emsemble using Softmax: %.3f' % (acc * 100.0))"
   ]
  },
  {
   "cell_type": "code",
   "execution_count": 69,
   "id": "48ae2aca",
   "metadata": {},
   "outputs": [
    {
     "name": "stdout",
     "output_type": "stream",
     "text": [
      "8/8 [==============================] - 0s 37ms/step\n",
      "8/8 [==============================] - 1s 88ms/step\n",
      "8/8 [==============================] - 1s 91ms/step\n"
     ]
    }
   ],
   "source": [
    "acc = emsemble.evaluate_by_voting(testX, testY)"
   ]
  },
  {
   "cell_type": "code",
   "execution_count": 70,
   "id": "1dd345bf",
   "metadata": {},
   "outputs": [
    {
     "name": "stdout",
     "output_type": "stream",
     "text": [
      "Accuracy Emsemble using Voting: 96.186\n"
     ]
    }
   ],
   "source": [
    "print('Accuracy Emsemble using Voting: %.3f' % (acc * 100.0))"
   ]
  },
  {
   "cell_type": "code",
   "execution_count": null,
   "id": "3327f4c9",
   "metadata": {},
   "outputs": [],
   "source": []
  }
 ],
 "metadata": {
  "kernelspec": {
   "display_name": "Python 3 (ipykernel)",
   "language": "python",
   "name": "python3"
  },
  "language_info": {
   "codemirror_mode": {
    "name": "ipython",
    "version": 3
   },
   "file_extension": ".py",
   "mimetype": "text/x-python",
   "name": "python",
   "nbconvert_exporter": "python",
   "pygments_lexer": "ipython3",
   "version": "3.9.17"
  }
 },
 "nbformat": 4,
 "nbformat_minor": 5
}
