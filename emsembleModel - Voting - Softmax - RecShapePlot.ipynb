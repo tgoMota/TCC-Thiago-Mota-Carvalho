{
 "cells": [
  {
   "cell_type": "code",
   "execution_count": 1,
   "id": "69900df3",
   "metadata": {},
   "outputs": [],
   "source": [
    "import tensorflow as tf\n",
    "from tensorflow import keras\n",
    "import matplotlib.pyplot as plt\n",
    "import os\n",
    "import time\n",
    "from sklearn import datasets\n",
    "from sklearn.ensemble import VotingClassifier\n",
    "from sklearn.model_selection import cross_val_score\n",
    "from keras.datasets import cifar10\n",
    "from keras.utils import to_categorical\n",
    "import numpy as np"
   ]
  },
  {
   "cell_type": "code",
   "execution_count": 2,
   "id": "7f1d7bd2",
   "metadata": {},
   "outputs": [],
   "source": [
    "# load train and test dataset\n",
    "def load_dataset():\n",
    "    # load dataset\n",
    "    data_x = np.load('fractal_reshapeRecPlot_data_x_aumentated_normalized.npy')\n",
    "    data_y = np.load('fractal_reshapeRecPlot_data_y_aumentated_normalized.npy')\n",
    "    #fractal_reshapeRecPlot_data_x_aumentated_normalized.npy\n",
    "    #percentage of the dataset which will be on TRAIN - TEST - VALIDATION\n",
    "    TOTAL_IMAGES = len(data_y)\n",
    "    print(\"TOTAL_IMAGES = \", TOTAL_IMAGES)\n",
    "    \n",
    "    TRAIN_PERCENTAGE = 0.8\n",
    "    TEST_PERCENTAGE = 0.1\n",
    "    VALIDATION_PERCENTAGE = 0.1\n",
    "\n",
    "    train_size = int(TRAIN_PERCENTAGE * TOTAL_IMAGES)\n",
    "    test_size = int(TEST_PERCENTAGE * TOTAL_IMAGES)\n",
    "    validation_size = int(VALIDATION_PERCENTAGE * TOTAL_IMAGES)\n",
    "\n",
    "    train_x = data_x[:train_size] #taking train images from original data\n",
    "    train_y = data_y[:train_size]\n",
    "    data_x = data_x[train_size:] #removing train images from original data\n",
    "    data_y = data_y[train_size:]\n",
    "\n",
    "    test_x = data_x[:test_size] #taking test images from original data\n",
    "    test_y = data_y[:test_size]\n",
    "    data_x = data_x[test_size:] #removing test images from original data\n",
    "    data_y = data_y[test_size:]\n",
    "\n",
    "    validation_x = data_x #all the remainder images we can put on validation\n",
    "    validation_y = data_y\n",
    "\n",
    "    del data_x #free some unused memory\n",
    "    del data_y\n",
    "\n",
    "    print(\"train_size = \", len(train_y))\n",
    "    print(\"test_size = \", len(test_y))\n",
    "    print(\"validation_size = \", len(validation_y))\n",
    " # one hot encode target values\n",
    "    train_y = to_categorical(train_y)\n",
    "    test_y = to_categorical(test_y)\n",
    "    validation_y = to_categorical(validation_y)\n",
    "    return train_x, train_y, test_x, test_y, validation_x, validation_y"
   ]
  },
  {
   "cell_type": "code",
   "execution_count": 3,
   "id": "05b5ce4f",
   "metadata": {},
   "outputs": [],
   "source": [
    "# scale pixels\n",
    "def prep_pixels(train, test, validation):\n",
    "    # convert from integers to floats\n",
    "    train_norm = train.astype('float32')\n",
    "    test_norm = test.astype('float32')\n",
    "    validation_norm = validation.astype('float32')\n",
    "    # normalize to range 0-1\n",
    "    train_norm = train_norm / 255.0\n",
    "    test_norm = test_norm / 255.0\n",
    "    validation_norm = validation_norm / 255.0\n",
    "    # return normalized images\n",
    "    return train_norm, test_norm, validation_norm"
   ]
  },
  {
   "cell_type": "code",
   "execution_count": 4,
   "id": "a3deef90",
   "metadata": {},
   "outputs": [],
   "source": [
    "data_x = np.load('fractal_reshapeRecPlot_data_x_aumentated_normalized.npy')\n",
    "data_y = to_categorical(np.load('fractal_reshapeRecPlot_data_y_aumentated_normalized.npy'))"
   ]
  },
  {
   "cell_type": "code",
   "execution_count": 5,
   "id": "94db3098",
   "metadata": {},
   "outputs": [
    {
     "name": "stdout",
     "output_type": "stream",
     "text": [
      "TOTAL_IMAGES =  1184\n",
      "train_size =  947\n",
      "test_size =  118\n",
      "validation_size =  119\n"
     ]
    }
   ],
   "source": [
    "trainX, trainY, testX, testY, validationX, validationY = load_dataset()\n",
    "#trainX, testX, validationX = prep_pixels(trainX, testX, validationX)"
   ]
  },
  {
   "cell_type": "code",
   "execution_count": 6,
   "id": "69e72838",
   "metadata": {},
   "outputs": [
    {
     "data": {
      "text/plain": [
       "array([[[0.00392157, 0.        , 0.        ],\n",
       "        [0.01568627, 0.01568627, 0.01176471],\n",
       "        [0.03137255, 0.03529412, 0.02745098],\n",
       "        ...,\n",
       "        [0.        , 0.        , 0.        ],\n",
       "        [0.        , 0.        , 0.        ],\n",
       "        [0.        , 0.        , 0.        ]],\n",
       "\n",
       "       [[0.00392157, 0.        , 0.00392157],\n",
       "        [0.01568627, 0.01568627, 0.01176471],\n",
       "        [0.03137255, 0.03529412, 0.02745098],\n",
       "        ...,\n",
       "        [0.        , 0.        , 0.        ],\n",
       "        [0.        , 0.        , 0.        ],\n",
       "        [0.        , 0.        , 0.        ]],\n",
       "\n",
       "       [[0.00392157, 0.        , 0.00392157],\n",
       "        [0.01568627, 0.01568627, 0.01176471],\n",
       "        [0.03137255, 0.03137255, 0.02745098],\n",
       "        ...,\n",
       "        [0.        , 0.        , 0.        ],\n",
       "        [0.        , 0.        , 0.        ],\n",
       "        [0.        , 0.        , 0.        ]],\n",
       "\n",
       "       ...,\n",
       "\n",
       "       [[0.02745098, 0.02745098, 0.02745098],\n",
       "        [0.01176471, 0.01568627, 0.01568627],\n",
       "        [0.00784314, 0.01176471, 0.01176471],\n",
       "        ...,\n",
       "        [0.03137255, 0.03137255, 0.02745098],\n",
       "        [0.03137255, 0.03529412, 0.02745098],\n",
       "        [0.03137255, 0.03529412, 0.02745098]],\n",
       "\n",
       "       [[0.01176471, 0.01176471, 0.01176471],\n",
       "        [0.00784314, 0.00784314, 0.00784314],\n",
       "        [0.01176471, 0.01568627, 0.01568627],\n",
       "        ...,\n",
       "        [0.01568627, 0.01568627, 0.01176471],\n",
       "        [0.01568627, 0.01568627, 0.01176471],\n",
       "        [0.01568627, 0.01568627, 0.01176471]],\n",
       "\n",
       "       [[0.        , 0.        , 0.        ],\n",
       "        [0.01176471, 0.01176471, 0.01176471],\n",
       "        [0.02745098, 0.03137255, 0.03137255],\n",
       "        ...,\n",
       "        [0.00392157, 0.        , 0.00392157],\n",
       "        [0.00392157, 0.        , 0.00392157],\n",
       "        [0.00392157, 0.        , 0.        ]]])"
      ]
     },
     "execution_count": 6,
     "metadata": {},
     "output_type": "execute_result"
    }
   ],
   "source": [
    "trainX[0]"
   ]
  },
  {
   "cell_type": "code",
   "execution_count": 7,
   "id": "86be4dc9",
   "metadata": {},
   "outputs": [],
   "source": [
    "#trainX, testX, validationX = prep_pixels(trainX, testX, validationX)"
   ]
  },
  {
   "cell_type": "code",
   "execution_count": 8,
   "id": "b8b4b6e7",
   "metadata": {},
   "outputs": [],
   "source": [
    "#clf1 = tf.keras.models.load_model(\"cifar-vgg-baseline-holdout-100epochs_all_transfer.npy\")\n",
    "clf1 = tf.keras.models.load_model(\"resnet50_100epochs_fractal_augmented_kfold_1.npy\")"
   ]
  },
  {
   "cell_type": "code",
   "execution_count": 9,
   "id": "d8214f1f",
   "metadata": {},
   "outputs": [
    {
     "name": "stdout",
     "output_type": "stream",
     "text": [
      "<class 'keras.engine.sequential.Sequential'>\n"
     ]
    }
   ],
   "source": [
    "print(type(clf1))"
   ]
  },
  {
   "cell_type": "code",
   "execution_count": 10,
   "id": "bd2e7738",
   "metadata": {},
   "outputs": [],
   "source": [
    "clf2 = tf.keras.models.load_model(\"resnet50_100epochs_fractal_augmented_kfold_2.npy\")"
   ]
  },
  {
   "cell_type": "code",
   "execution_count": 11,
   "id": "09dd30b0",
   "metadata": {},
   "outputs": [],
   "source": [
    "clf3 = tf.keras.models.load_model(\"resnet50_100epochs_fractal_augmented_kfold_3.npy\")"
   ]
  },
  {
   "cell_type": "code",
   "execution_count": 12,
   "id": "e9f6ba12",
   "metadata": {},
   "outputs": [],
   "source": [
    "clf4 = tf.keras.models.load_model(\"mobilenet_100epochs_fractal_augmented_kfold_1.npy\")"
   ]
  },
  {
   "cell_type": "code",
   "execution_count": 13,
   "id": "42728beb",
   "metadata": {},
   "outputs": [],
   "source": [
    "clf5 = tf.keras.models.load_model(\"mobilenet_100epochs_fractal_augmented_kfold_2.npy\")"
   ]
  },
  {
   "cell_type": "code",
   "execution_count": 14,
   "id": "8f53d528",
   "metadata": {},
   "outputs": [],
   "source": [
    "clf6 = tf.keras.models.load_model(\"mobilenet_100epochs_fractal_augmented_kfold_3.npy\")"
   ]
  },
  {
   "cell_type": "code",
   "execution_count": 15,
   "id": "6b1b16be",
   "metadata": {},
   "outputs": [],
   "source": [
    "class emsembleModel:\n",
    "    def __init__(self, classifiers, numClasses):\n",
    "        self.classifiers = classifiers\n",
    "        self.numClasses = numClasses\n",
    "        \n",
    "    def predict_by_voting(self, dataX):\n",
    "        preds = []\n",
    "        for clf in self.classifiers:\n",
    "            preds.append(clf.predict(dataX))\n",
    "        \n",
    "        resultPred = []\n",
    "        M = len(self.classifiers)\n",
    "        for i in range(len(dataX)):\n",
    "            counting = [0 for _ in range(self.numClasses)]\n",
    "            current_best_pred = preds[0][i]\n",
    "            for j in range(M):\n",
    "                pred = preds[j][i]\n",
    "                predictedClass = np.argmax(pred)\n",
    "                counting[predictedClass]+=1\n",
    "                if counting[predictedClass] == max(counting):\n",
    "                    current_best_pred = pred\n",
    "            resultPred.append(current_best_pred)\n",
    "        \n",
    "        return resultPred\n",
    "    \n",
    "    def evaluate_by_voting(self, dataX, dataY):\n",
    "        pred = self.predict_by_voting(dataX)\n",
    "        ok = 0\n",
    "        for i in range(len(pred)):\n",
    "            expectedClass = np.argmax(dataY[i])\n",
    "            predictedClass = np.argmax(pred[i])\n",
    "            if predictedClass == expectedClass:\n",
    "                ok += 1\n",
    "        return ok/len(dataY)\n",
    "\n",
    "    def predict_by_softmax(self, dataX):\n",
    "        preds = []\n",
    "        for clf in self.classifiers:\n",
    "            preds.append(clf.predict(dataX))\n",
    "        \n",
    "        resultsPred = []\n",
    "        M = len(self.classifiers)\n",
    "        for i in range(len(dataX)):\n",
    "            probs = []\n",
    "            for j in range(M):\n",
    "                pred = preds[j][i]\n",
    "                probs.append(pred)\n",
    "            compressed_probs = np.array(probs).sum(axis=0)\n",
    "            compressed_probs = compressed_probs/M\n",
    "            resultsPred.append(compressed_probs)\n",
    "        \n",
    "        return resultsPred\n",
    "    \n",
    "    def evaluate_by_softmax(self, dataX, dataY):\n",
    "        pred = self.predict_by_softmax(dataX)\n",
    "        ok = 0\n",
    "        for i in range(len(pred)):\n",
    "            expectedClass = np.argmax(dataY[i])\n",
    "            predictedClass = np.argmax(pred[i])\n",
    "            if predictedClass == expectedClass:\n",
    "                ok += 1\n",
    "        return ok/len(dataY)\n",
    "    "
   ]
  },
  {
   "cell_type": "code",
   "execution_count": 16,
   "id": "f864e530",
   "metadata": {},
   "outputs": [],
   "source": [
    "classifiers = [clf1, clf2, clf3, clf4, clf5, clf6]"
   ]
  },
  {
   "cell_type": "code",
   "execution_count": 17,
   "id": "28375413",
   "metadata": {},
   "outputs": [],
   "source": [
    "emsemble = emsembleModel(classifiers, 4)"
   ]
  },
  {
   "cell_type": "code",
   "execution_count": 38,
   "id": "99a4517b",
   "metadata": {},
   "outputs": [
    {
     "name": "stdout",
     "output_type": "stream",
     "text": [
      "37/37 [==============================] - 4s 92ms/step\n",
      "37/37 [==============================] - 4s 92ms/step\n",
      "37/37 [==============================] - 4s 92ms/step\n",
      "37/37 [==============================] - 2s 37ms/step\n",
      "37/37 [==============================] - 2s 37ms/step\n",
      "37/37 [==============================] - 2s 37ms/step\n"
     ]
    }
   ],
   "source": [
    "acc = emsemble.evaluate_by_softmax(data_x, data_y)"
   ]
  },
  {
   "cell_type": "code",
   "execution_count": 39,
   "id": "b7e2a8ba",
   "metadata": {
    "scrolled": true
   },
   "outputs": [
    {
     "name": "stdout",
     "output_type": "stream",
     "text": [
      "Accuracy Emsemble using Softmax: 99.916\n"
     ]
    }
   ],
   "source": [
    "print('Accuracy Emsemble using Softmax: %.3f' % (acc * 100.0))"
   ]
  },
  {
   "cell_type": "code",
   "execution_count": 18,
   "id": "48ae2aca",
   "metadata": {},
   "outputs": [
    {
     "name": "stdout",
     "output_type": "stream",
     "text": [
      "37/37 [==============================] - 6s 88ms/step\n",
      "37/37 [==============================] - 4s 91ms/step\n",
      "37/37 [==============================] - 4s 91ms/step\n",
      "37/37 [==============================] - 2s 39ms/step\n",
      "37/37 [==============================] - 2s 38ms/step\n",
      "37/37 [==============================] - 2s 38ms/step\n"
     ]
    }
   ],
   "source": [
    "acc = emsemble.evaluate_by_voting(data_x, data_y)"
   ]
  },
  {
   "cell_type": "code",
   "execution_count": 19,
   "id": "1dd345bf",
   "metadata": {},
   "outputs": [
    {
     "name": "stdout",
     "output_type": "stream",
     "text": [
      "Accuracy Emsemble using Voting: 99.916\n"
     ]
    }
   ],
   "source": [
    "print('Accuracy Emsemble using Voting: %.3f' % (acc * 100.0))"
   ]
  },
  {
   "cell_type": "code",
   "execution_count": null,
   "id": "3327f4c9",
   "metadata": {},
   "outputs": [],
   "source": []
  }
 ],
 "metadata": {
  "kernelspec": {
   "display_name": "Python 3 (ipykernel)",
   "language": "python",
   "name": "python3"
  },
  "language_info": {
   "codemirror_mode": {
    "name": "ipython",
    "version": 3
   },
   "file_extension": ".py",
   "mimetype": "text/x-python",
   "name": "python",
   "nbconvert_exporter": "python",
   "pygments_lexer": "ipython3",
   "version": "3.9.17"
  }
 },
 "nbformat": 4,
 "nbformat_minor": 5
}
