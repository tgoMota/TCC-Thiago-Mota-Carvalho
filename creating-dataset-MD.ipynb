{
 "cells": [
  {
   "cell_type": "code",
   "execution_count": 14,
   "metadata": {
    "id": "on-xhn6xYqDo"
   },
   "outputs": [],
   "source": [
    "import tensorflow as tf\n",
    "from tensorflow import keras\n",
    "import matplotlib.pyplot as plt\n",
    "import os\n",
    "import time"
   ]
  },
  {
   "cell_type": "code",
   "execution_count": 15,
   "metadata": {},
   "outputs": [],
   "source": [
    "import cv2\n",
    "import os\n",
    "from tqdm import tqdm\n",
    "import matplotlib.pyplot as plt\n",
    "import numpy as np\n",
    "import glob\n",
    "from tensorflow.keras.preprocessing.image import ImageDataGenerator\n",
    "from tensorflow.keras.applications import *\n",
    "from tensorflow.keras.layers import *\n",
    "from tensorflow.keras.models import *\n",
    "from tensorflow.keras.optimizers import Adam\n",
    "from tensorflow.keras.utils import to_categorical\n",
    "from sklearn.preprocessing import LabelEncoder\n",
    "from sklearn.model_selection import train_test_split\n",
    "from sklearn.metrics import *\n",
    "from tensorflow.keras.callbacks import *"
   ]
  },
  {
   "cell_type": "code",
   "execution_count": 16,
   "metadata": {},
   "outputs": [],
   "source": [
    "imagePaths = []\n",
    "for dirname, _, filenames in os.walk('Resultado GAN'):\n",
    "    for filename in filenames:\n",
    "        imagePaths.append(os.path.join(dirname, filename))"
   ]
  },
  {
   "cell_type": "code",
   "execution_count": 17,
   "metadata": {},
   "outputs": [
    {
     "data": {
      "text/plain": [
       "1776"
      ]
     },
     "execution_count": 17,
     "metadata": {},
     "output_type": "execute_result"
    }
   ],
   "source": [
    " len(imagePaths)"
   ]
  },
  {
   "cell_type": "code",
   "execution_count": 18,
   "metadata": {},
   "outputs": [
    {
     "data": {
      "text/plain": [
       "'Resultado GAN\\\\healthy\\\\Generated\\\\1.tiff'"
      ]
     },
     "execution_count": 18,
     "metadata": {},
     "output_type": "execute_result"
    }
   ],
   "source": [
    " imagePaths[0]"
   ]
  },
  {
   "cell_type": "code",
   "execution_count": 19,
   "metadata": {},
   "outputs": [
    {
     "name": "stderr",
     "output_type": "stream",
     "text": [
      "100%|███████████████████████████████████████████████████████████████████████| 1776/1776 [00:00<00:00, 2866.93it/s]\n"
     ]
    }
   ],
   "source": [
    "#Taking the images from the folder and resizing to 128x128 RGB\n",
    "#labeling them from ['healthy', 'mild', 'moderate', 'severe'] to -> [0,1,2,3]\n",
    "new_img_height = 128\n",
    "new_img_width = 128\n",
    "channels = 3\n",
    "all_labels = ['healthy', 'mild', 'moderate', 'severe']\n",
    "original_data_x = []\n",
    "original_data_y = []\n",
    "for imagePath in tqdm(imagePaths):\n",
    "    if imagePath.split(os.path.sep)[-2] != 'Generated':\n",
    "        continue\n",
    "    label = all_labels.index(imagePath.split(os.path.sep)[-3])\n",
    "    image = cv2.imread(imagePath)\n",
    "    image = cv2.cvtColor(image, cv2.COLOR_BGR2RGB)\n",
    "    image = cv2.resize(image, (new_img_height, new_img_width))\n",
    "    original_data_x.append(image)\n",
    "    original_data_y.append(label)"
   ]
  },
  {
   "cell_type": "code",
   "execution_count": 20,
   "metadata": {},
   "outputs": [],
   "source": [
    "imagePaths = []"
   ]
  },
  {
   "cell_type": "code",
   "execution_count": 21,
   "metadata": {},
   "outputs": [],
   "source": [
    "import sys"
   ]
  },
  {
   "cell_type": "code",
   "execution_count": 22,
   "metadata": {},
   "outputs": [
    {
     "name": "stdout",
     "output_type": "stream",
     "text": [
      "qtd =  592\n"
     ]
    }
   ],
   "source": [
    "print(\"qtd = \", len(all_data))"
   ]
  },
  {
   "cell_type": "code",
   "execution_count": null,
   "metadata": {},
   "outputs": [],
   "source": [
    "np.save('data_x_original.npy', original_data_x)\n",
    "np.save('data_y_original.npy', original_data_y)"
   ]
  },
  {
   "cell_type": "code",
   "execution_count": 23,
   "metadata": {},
   "outputs": [],
   "source": []
  },
  {
   "cell_type": "markdown",
   "metadata": {
    "id": "mJgKk5EM6UJy"
   },
   "source": [
    "## **Image Cropping**"
   ]
  },
  {
   "cell_type": "code",
   "execution_count": 24,
   "metadata": {
    "id": "dTlp6zjy-6Oo"
   },
   "outputs": [],
   "source": [
    "def cutting_image(image, image_height, image_width, window_size, window_cut):\n",
    "    windows = []\n",
    "    for y in range(0, image_height, window_cut):\n",
    "        for x in range(0, image_width, window_cut):\n",
    "            window = image[y:y+window_size, x:x+window_size]\n",
    "            windows.append(window)\n",
    "    return windows"
   ]
  },
  {
   "cell_type": "code",
   "execution_count": 25,
   "metadata": {
    "id": "Ek-c5lTupDmL"
   },
   "outputs": [],
   "source": [
    "#import cv2 "
   ]
  },
  {
   "cell_type": "code",
   "execution_count": 26,
   "metadata": {
    "id": "K_sKg9jcLfQj"
   },
   "outputs": [],
   "source": [
    "# old_img_height = 128\n",
    "# old_img_width = 128\n",
    "# new_img_height = 32\n",
    "# new_img_width = 32\n",
    "# channels = 3\n",
    "# new_data_x = []\n",
    "# new_data_y = []\n",
    "# for i in range(len(data_x)):\n",
    "#  image = data_x[i]\n",
    "#  #im = np.transpose(image, (1, 2, 0))\n",
    "#  #image = tf.image.resize(image, (new_img_height,new_img_width))\n",
    "#  #d.csv.iloc[i][\"finding\"]\n",
    "#  label = data_y[i]\n",
    "#  cutted_images = cutting_image(image, old_img_height, old_img_width, new_img_height, new_img_width)\n",
    "#  for new_image in cutted_images:\n",
    "#    #new_im = tf.image.resize(new_image, (new_img_height,new_img_width))\n",
    "#    #new_im = tf.image.per_image_standardization(new_im)\n",
    "#    #new_im = cv2.cvtColor(new_im, cv2.COLOR_BGR2RGB)\n",
    "#    new_data_x.append(new_image)\n",
    "#    new_data_y.append(label)"
   ]
  },
  {
   "cell_type": "code",
   "execution_count": 27,
   "metadata": {},
   "outputs": [],
   "source": [
    "# data_x = new_data_x\n",
    "# data_y = new_data_y"
   ]
  },
  {
   "cell_type": "code",
   "execution_count": 28,
   "metadata": {
    "colab": {
     "base_uri": "https://localhost:8080/"
    },
    "id": "9dcd9Vxr_Dvq",
    "outputId": "8125a559-ec44-4e42-e285-3e2972f6ed3e",
    "scrolled": false
   },
   "outputs": [],
   "source": [
    "# print(\"Quantidade de imagens:\", len(data_x))"
   ]
  },
  {
   "cell_type": "markdown",
   "metadata": {
    "id": "Fm_piQBP9yfB"
   },
   "source": [
    "# **Testando imagens**"
   ]
  },
  {
   "cell_type": "code",
   "execution_count": 29,
   "metadata": {
    "colab": {
     "base_uri": "https://localhost:8080/",
     "height": 387
    },
    "id": "OhIZLS806n2N",
    "outputId": "36213644-56e0-4c59-f0d4-f0eb49cb3bd7"
   },
   "outputs": [],
   "source": [
    "# fig = plt.figure(figsize=(5, 5))\n",
    "# for i in range(1, (old_img_height//new_img_height)*(old_img_width//new_img_width)+1):\n",
    "#     fig.add_subplot((old_img_height//new_img_height), (old_img_width//new_img_width), i)\n",
    "#     #im = np.transpose(data_x[i - 1], (2, 0, 1))\n",
    "#     #im = data_x[i-1]\n",
    "#     plt.imshow(data_x[i-1])\n",
    "#     plt.axis('off')\n",
    "#     fig.tight_layout(pad=0.2)"
   ]
  },
  {
   "cell_type": "code",
   "execution_count": 30,
   "metadata": {
    "colab": {
     "base_uri": "https://localhost:8080/",
     "height": 269
    },
    "id": "pjHgwHKyJx5F",
    "outputId": "a7235712-80c4-44e1-d4b0-835571762eb0"
   },
   "outputs": [],
   "source": [
    "# plt.imshow(data_x[0], cmap=\"gray\");"
   ]
  },
  {
   "cell_type": "markdown",
   "metadata": {
    "id": "lvrGeDAN59Li"
   },
   "source": [
    "# **Data Augmentation**\n",
    "\n"
   ]
  },
  {
   "cell_type": "code",
   "execution_count": 31,
   "metadata": {},
   "outputs": [],
   "source": [
    "#cria cópias com rotação de 90 graus\n",
    "rot_x = []\n",
    "rot_y = []\n",
    "for i in range(len(original_data_x)):\n",
    "    rot_x.append(cv2.rotate(original_data_x[i], cv2.ROTATE_90_COUNTERCLOCKWISE))\n",
    "    rot_y.append(original_data_y[i])"
   ]
  },
  {
   "cell_type": "code",
   "execution_count": 35,
   "metadata": {},
   "outputs": [],
   "source": [
    "#cria cópias espelhadas horizontalmente\n",
    "flip1_x = []\n",
    "flip1_y = []\n",
    "for i in range(len(original_data_x)):\n",
    "    flip1_x.append(cv2.flip(original_data_x[i], 1))\n",
    "    flip1_y.append(original_data_y[i])"
   ]
  },
  {
   "cell_type": "code",
   "execution_count": 36,
   "metadata": {},
   "outputs": [],
   "source": [
    "#cria cópias espelhadas verticalmente\n",
    "flip2_x = []\n",
    "flip2_y = []\n",
    "for i in range(len(original_data_x)):\n",
    "    flip2_x.append(cv2.flip(original_data_x[i], 0))\n",
    "    flip2_y.append(original_data_y[i])"
   ]
  },
  {
   "cell_type": "code",
   "execution_count": 38,
   "metadata": {},
   "outputs": [],
   "source": [
    "#concatena as imagens formadas no array principal\n",
    "new_data_x = [*original_data_x,*rot_x,*flip1_x, *flip2_x]\n",
    "new_data_y = [*original_data_y,*rot_y,*flip1_y, *flip2_y]"
   ]
  },
  {
   "cell_type": "code",
   "execution_count": 39,
   "metadata": {},
   "outputs": [
    {
     "name": "stdout",
     "output_type": "stream",
     "text": [
      "Data_x size: 2368\n",
      "Data label size: 2368\n"
     ]
    }
   ],
   "source": [
    "print('Data_x size:', len(new_data_x))\n",
    "print('Data label size:', len(new_data_y))"
   ]
  },
  {
   "cell_type": "code",
   "execution_count": 40,
   "metadata": {},
   "outputs": [],
   "source": [
    "import pandas as pd"
   ]
  },
  {
   "cell_type": "code",
   "execution_count": 42,
   "metadata": {},
   "outputs": [
    {
     "data": {
      "text/plain": [
       "0    592\n",
       "1    592\n",
       "2    592\n",
       "3    592\n",
       "Name: count, dtype: int64"
      ]
     },
     "execution_count": 42,
     "metadata": {},
     "output_type": "execute_result"
    }
   ],
   "source": [
    "pd.Series(new_data_y).value_counts()"
   ]
  },
  {
   "cell_type": "code",
   "execution_count": 48,
   "metadata": {},
   "outputs": [],
   "source": [
    "# fig = plt.figure(figsize=(5, 5))\n",
    "# for i in range(1, (old_img_height//new_img_height)*(old_img_width//new_img_width)+1):\n",
    "#     fig.add_subplot((old_img_height//new_img_height), (old_img_width//new_img_width), i)\n",
    "#     #im = np.transpose(data_x[i - 1], (2, 0, 1))\n",
    "#     #im = data_x[i-1]\n",
    "#     plt.imshow(data_x[i-1])\n",
    "#     plt.axis('off')\n",
    "#     fig.tight_layout(pad=0.2)"
   ]
  },
  {
   "cell_type": "code",
   "execution_count": 56,
   "metadata": {},
   "outputs": [],
   "source": [
    "import random\n",
    "def shuffle_dataset(data_x, data_y):\n",
    "    new_data = []\n",
    "    for i in range(len(data_x)):\n",
    "        new_data.append((data_x[i], data_y[i]))\n",
    "    random.shuffle(new_data)\n",
    "    new_data_x = []\n",
    "    new_data_y = []\n",
    "    for i in range(len(new_data)):\n",
    "        new_data_x.append(new_data[i][0])\n",
    "        new_data_y.append(new_data[i][1])\n",
    "    return new_data_x, new_data_y"
   ]
  },
  {
   "cell_type": "code",
   "execution_count": 57,
   "metadata": {},
   "outputs": [],
   "source": [
    "#shuffling the final dataset\n",
    "new_data_x, new_data_y = shuffle_dataset(new_data_x, new_data_y)"
   ]
  },
  {
   "cell_type": "code",
   "execution_count": 58,
   "metadata": {},
   "outputs": [
    {
     "data": {
      "text/plain": [
       "(2368, 2368)"
      ]
     },
     "execution_count": 58,
     "metadata": {},
     "output_type": "execute_result"
    }
   ],
   "source": [
    "len(new_data_x), len(new_data_y)"
   ]
  },
  {
   "cell_type": "code",
   "execution_count": 59,
   "metadata": {},
   "outputs": [
    {
     "data": {
      "text/plain": [
       "1    592\n",
       "3    592\n",
       "0    592\n",
       "2    592\n",
       "Name: count, dtype: int64"
      ]
     },
     "execution_count": 59,
     "metadata": {},
     "output_type": "execute_result"
    }
   ],
   "source": [
    "pd.Series(new_data_y).value_counts()"
   ]
  },
  {
   "cell_type": "code",
   "execution_count": 60,
   "metadata": {},
   "outputs": [],
   "source": [
    "np.save('data_x_aumentated.npy', new_data_x)\n",
    "np.save('data_y_aumentated.npy', new_data_y)"
   ]
  },
  {
   "cell_type": "code",
   "execution_count": 63,
   "metadata": {},
   "outputs": [],
   "source": [
    "new_data_x = [i/255.0 for i in new_data_x]\n",
    "np.save('data_x_aumentated_normalized.npy', new_data_x)\n",
    "np.save('data_y_aumentated_normalized.npy', new_data_y)"
   ]
  },
  {
   "cell_type": "code",
   "execution_count": 64,
   "metadata": {},
   "outputs": [
    {
     "data": {
      "text/plain": [
       "array([[[0.65098039, 0.58431373, 0.68627451],\n",
       "        [0.69803922, 0.63137255, 0.72156863],\n",
       "        [0.69803922, 0.64705882, 0.7372549 ],\n",
       "        ...,\n",
       "        [0.58039216, 0.49411765, 0.65490196],\n",
       "        [0.57254902, 0.49411765, 0.64705882],\n",
       "        [0.5372549 , 0.47058824, 0.62352941]],\n",
       "\n",
       "       [[0.68627451, 0.61176471, 0.72156863],\n",
       "        [0.70196078, 0.62745098, 0.73333333],\n",
       "        [0.70588235, 0.62352941, 0.7254902 ],\n",
       "        ...,\n",
       "        [0.60392157, 0.49803922, 0.65882353],\n",
       "        [0.6       , 0.49803922, 0.66666667],\n",
       "        [0.58431373, 0.49411765, 0.65882353]],\n",
       "\n",
       "       [[0.6745098 , 0.60784314, 0.71764706],\n",
       "        [0.69411765, 0.62352941, 0.70980392],\n",
       "        [0.69803922, 0.63137255, 0.71764706],\n",
       "        ...,\n",
       "        [0.61568627, 0.51372549, 0.67058824],\n",
       "        [0.61176471, 0.52156863, 0.6745098 ],\n",
       "        [0.58823529, 0.50980392, 0.65490196]],\n",
       "\n",
       "       ...,\n",
       "\n",
       "       [[0.64313725, 0.55294118, 0.69803922],\n",
       "        [0.60784314, 0.51764706, 0.65490196],\n",
       "        [0.63921569, 0.56470588, 0.68235294],\n",
       "        ...,\n",
       "        [0.61960784, 0.54509804, 0.67843137],\n",
       "        [0.59607843, 0.5254902 , 0.6627451 ],\n",
       "        [0.6       , 0.54509804, 0.67058824]],\n",
       "\n",
       "       [[0.65098039, 0.56078431, 0.70980392],\n",
       "        [0.62352941, 0.5372549 , 0.6627451 ],\n",
       "        [0.63137255, 0.55294118, 0.67058824],\n",
       "        ...,\n",
       "        [0.60392157, 0.51764706, 0.66666667],\n",
       "        [0.60392157, 0.51372549, 0.66666667],\n",
       "        [0.61176471, 0.54117647, 0.67843137]],\n",
       "\n",
       "       [[0.60392157, 0.53333333, 0.6745098 ],\n",
       "        [0.58431373, 0.52156863, 0.65490196],\n",
       "        [0.59607843, 0.52941176, 0.65882353],\n",
       "        ...,\n",
       "        [0.60392157, 0.51764706, 0.67058824],\n",
       "        [0.59607843, 0.51764706, 0.67843137],\n",
       "        [0.57254902, 0.52156863, 0.66666667]]])"
      ]
     },
     "execution_count": 64,
     "metadata": {},
     "output_type": "execute_result"
    }
   ],
   "source": [
    "new_data_x[0]"
   ]
  },
  {
   "cell_type": "code",
   "execution_count": null,
   "metadata": {},
   "outputs": [],
   "source": []
  }
 ],
 "metadata": {
  "colab": {
   "collapsed_sections": [],
   "name": "covid_alex_holdout_nocropping_tgo .ipynb",
   "provenance": []
  },
  "kernelspec": {
   "display_name": "Python 3 (ipykernel)",
   "language": "python",
   "name": "python3"
  },
  "language_info": {
   "codemirror_mode": {
    "name": "ipython",
    "version": 3
   },
   "file_extension": ".py",
   "mimetype": "text/x-python",
   "name": "python",
   "nbconvert_exporter": "python",
   "pygments_lexer": "ipython3",
   "version": "3.9.16"
  }
 },
 "nbformat": 4,
 "nbformat_minor": 1
}
