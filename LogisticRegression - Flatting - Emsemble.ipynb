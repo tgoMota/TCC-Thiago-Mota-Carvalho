{
 "cells": [
  {
   "cell_type": "code",
   "execution_count": 41,
   "id": "69900df3",
   "metadata": {},
   "outputs": [],
   "source": [
    "import tensorflow as tf\n",
    "from tensorflow import keras\n",
    "import matplotlib.pyplot as plt\n",
    "import os\n",
    "import time\n",
    "from sklearn import datasets\n",
    "from sklearn.ensemble import VotingClassifier\n",
    "from sklearn.model_selection import cross_val_score\n",
    "from keras.datasets import cifar10\n",
    "from keras.utils import to_categorical\n",
    "import numpy as np\n",
    "from sklearn.linear_model import LogisticRegression\n",
    "from sklearn.ensemble import VotingClassifier"
   ]
  },
  {
   "cell_type": "code",
   "execution_count": 42,
   "id": "73fcd6d4",
   "metadata": {},
   "outputs": [],
   "source": [
    "def warn(*args, **kwargs):\n",
    "    pass\n",
    "import warnings\n",
    "warnings.warn = warn"
   ]
  },
  {
   "cell_type": "code",
   "execution_count": 43,
   "id": "7f1d7bd2",
   "metadata": {},
   "outputs": [],
   "source": [
    "# load train and test dataset\n",
    "def load_dataset():\n",
    "\t# load dataset\n",
    "\t(trainX, trainY), (testX, testY) = cifar10.load_data()\n",
    "\t# one hot encode target values\n",
    "\t#trainY = to_categorical(trainY)\n",
    "\t#testY = to_categorical(testY)\n",
    "\treturn trainX, trainY, testX, testY"
   ]
  },
  {
   "cell_type": "code",
   "execution_count": 44,
   "id": "05b5ce4f",
   "metadata": {},
   "outputs": [],
   "source": [
    "# scale pixels\n",
    "def prep_pixels(train, test):\n",
    "\t# convert from integers to floats\n",
    "\ttrain_norm = train.astype('float32')\n",
    "\ttest_norm = test.astype('float32')\n",
    "\t# normalize to range 0-1\n",
    "\ttrain_norm = train_norm / 255.0\n",
    "\ttest_norm = test_norm / 255.0\n",
    "\t# return normalized images\n",
    "\treturn train_norm, test_norm"
   ]
  },
  {
   "cell_type": "code",
   "execution_count": 45,
   "id": "94db3098",
   "metadata": {},
   "outputs": [],
   "source": [
    "trainX, trainY, testX, testY = load_dataset()\n",
    "trainX, testX = prep_pixels(trainX, testX)"
   ]
  },
  {
   "cell_type": "code",
   "execution_count": 46,
   "id": "b8b4b6e7",
   "metadata": {},
   "outputs": [],
   "source": [
    "clf1 = tf.keras.models.load_model(\"cifar-vgg-baseline-holdout-100epochs_all_transfer.npy\")"
   ]
  },
  {
   "cell_type": "code",
   "execution_count": 47,
   "id": "d8214f1f",
   "metadata": {},
   "outputs": [
    {
     "name": "stdout",
     "output_type": "stream",
     "text": [
      "<class 'keras.engine.sequential.Sequential'>\n"
     ]
    }
   ],
   "source": [
    "print(type(clf1))"
   ]
  },
  {
   "cell_type": "code",
   "execution_count": 48,
   "id": "bd2e7738",
   "metadata": {},
   "outputs": [],
   "source": [
    "clf2 = tf.keras.models.load_model(\"cifar-mobileNet-baseline-holdout-100epochs_all_transfer.npy\")"
   ]
  },
  {
   "cell_type": "code",
   "execution_count": 49,
   "id": "09dd30b0",
   "metadata": {},
   "outputs": [],
   "source": [
    "clf3 = tf.keras.models.load_model(\"cifar-resnet50-baseline-holdout-100epochs_all_transfer.npy\")"
   ]
  },
  {
   "cell_type": "code",
   "execution_count": null,
   "id": "fbfda076",
   "metadata": {},
   "outputs": [],
   "source": []
  },
  {
   "cell_type": "markdown",
   "id": "f68403f0",
   "metadata": {},
   "source": [
    "# VGG + Flatting + LogisticRegression"
   ]
  },
  {
   "cell_type": "code",
   "execution_count": 50,
   "id": "d989a11a",
   "metadata": {},
   "outputs": [
    {
     "name": "stdout",
     "output_type": "stream",
     "text": [
      "Model: \"sequential\"\n",
      "_________________________________________________________________\n",
      " Layer (type)                Output Shape              Param #   \n",
      "=================================================================\n",
      " conv2d (Conv2D)             (None, 32, 32, 32)        896       \n",
      "                                                                 \n",
      " batch_normalization (BatchN  (None, 32, 32, 32)       128       \n",
      " ormalization)                                                   \n",
      "                                                                 \n",
      " conv2d_1 (Conv2D)           (None, 32, 32, 32)        9248      \n",
      "                                                                 \n",
      " batch_normalization_1 (Batc  (None, 32, 32, 32)       128       \n",
      " hNormalization)                                                 \n",
      "                                                                 \n",
      " max_pooling2d (MaxPooling2D  (None, 16, 16, 32)       0         \n",
      " )                                                               \n",
      "                                                                 \n",
      " dropout (Dropout)           (None, 16, 16, 32)        0         \n",
      "                                                                 \n",
      " conv2d_2 (Conv2D)           (None, 16, 16, 64)        18496     \n",
      "                                                                 \n",
      " batch_normalization_2 (Batc  (None, 16, 16, 64)       256       \n",
      " hNormalization)                                                 \n",
      "                                                                 \n",
      " conv2d_3 (Conv2D)           (None, 16, 16, 64)        36928     \n",
      "                                                                 \n",
      " batch_normalization_3 (Batc  (None, 16, 16, 64)       256       \n",
      " hNormalization)                                                 \n",
      "                                                                 \n",
      " max_pooling2d_1 (MaxPooling  (None, 8, 8, 64)         0         \n",
      " 2D)                                                             \n",
      "                                                                 \n",
      " dropout_1 (Dropout)         (None, 8, 8, 64)          0         \n",
      "                                                                 \n",
      " conv2d_4 (Conv2D)           (None, 8, 8, 128)         73856     \n",
      "                                                                 \n",
      " batch_normalization_4 (Batc  (None, 8, 8, 128)        512       \n",
      " hNormalization)                                                 \n",
      "                                                                 \n",
      " conv2d_5 (Conv2D)           (None, 8, 8, 128)         147584    \n",
      "                                                                 \n",
      " batch_normalization_5 (Batc  (None, 8, 8, 128)        512       \n",
      " hNormalization)                                                 \n",
      "                                                                 \n",
      " max_pooling2d_2 (MaxPooling  (None, 4, 4, 128)        0         \n",
      " 2D)                                                             \n",
      "                                                                 \n",
      " dropout_2 (Dropout)         (None, 4, 4, 128)         0         \n",
      "                                                                 \n",
      " flatten (Flatten)           (None, 2048)              0         \n",
      "                                                                 \n",
      " dense (Dense)               (None, 128)               262272    \n",
      "                                                                 \n",
      " batch_normalization_6 (Batc  (None, 128)              512       \n",
      " hNormalization)                                                 \n",
      "                                                                 \n",
      " dropout_3 (Dropout)         (None, 128)               0         \n",
      "                                                                 \n",
      " dense_1 (Dense)             (None, 10)                1290      \n",
      "                                                                 \n",
      "=================================================================\n",
      "Total params: 552,874\n",
      "Trainable params: 551,722\n",
      "Non-trainable params: 1,152\n",
      "_________________________________________________________________\n"
     ]
    }
   ],
   "source": [
    "clf1.summary()"
   ]
  },
  {
   "cell_type": "code",
   "execution_count": 51,
   "id": "127eba93",
   "metadata": {},
   "outputs": [
    {
     "name": "stdout",
     "output_type": "stream",
     "text": [
      "1563/1563 [==============================] - 5s 3ms/step\n"
     ]
    }
   ],
   "source": [
    "vgg_lr_flatting = keras.Model(inputs=clf1.input, outputs=clf1.get_layer(index=18).output)\n",
    "vgg_featureVector_flatting = vgg_lr_flatting.predict(trainX)"
   ]
  },
  {
   "cell_type": "code",
   "execution_count": 52,
   "id": "ccd1691f",
   "metadata": {},
   "outputs": [
    {
     "data": {
      "text/plain": [
       "(50000, 2048)"
      ]
     },
     "execution_count": 52,
     "metadata": {},
     "output_type": "execute_result"
    }
   ],
   "source": [
    "vgg_featureVector_flatting.shape"
   ]
  },
  {
   "cell_type": "code",
   "execution_count": 53,
   "id": "27af0eee",
   "metadata": {},
   "outputs": [],
   "source": [
    "VGG_LR_FLATTING = LogisticRegression(random_state=0).fit(vgg_featureVector_flatting, np.ravel(trainY))"
   ]
  },
  {
   "cell_type": "code",
   "execution_count": 54,
   "id": "eab4dd0e",
   "metadata": {},
   "outputs": [
    {
     "name": "stdout",
     "output_type": "stream",
     "text": [
      "313/313 [==============================] - 1s 3ms/step\n"
     ]
    }
   ],
   "source": [
    "vgg_featureVector_flatting_test = vgg_lr_flatting.predict(testX)"
   ]
  },
  {
   "cell_type": "code",
   "execution_count": 55,
   "id": "278d1e46",
   "metadata": {},
   "outputs": [
    {
     "name": "stdout",
     "output_type": "stream",
     "text": [
      "Acurácia: 81.970\n"
     ]
    }
   ],
   "source": [
    "acc = VGG_LR_FLATTING.score(vgg_featureVector_flatting_test, testY)\n",
    "print('Acurácia: %.3f' % (acc * 100.0))"
   ]
  },
  {
   "cell_type": "markdown",
   "id": "458844a0",
   "metadata": {},
   "source": [
    "# MobileNet + Flatting + LogisticRegression"
   ]
  },
  {
   "cell_type": "code",
   "execution_count": 56,
   "id": "9d8cc5c9",
   "metadata": {},
   "outputs": [
    {
     "name": "stdout",
     "output_type": "stream",
     "text": [
      "Model: \"sequential_1\"\n",
      "_________________________________________________________________\n",
      " Layer (type)                Output Shape              Param #   \n",
      "=================================================================\n",
      " mobilenet_1.00_224 (Functio  (None, 1, 1, 1024)       3228864   \n",
      " nal)                                                            \n",
      "                                                                 \n",
      " conv2d_2 (Conv2D)           (None, 1, 1, 32)          294944    \n",
      "                                                                 \n",
      " batch_normalization_3 (Batc  (None, 1, 1, 32)         128       \n",
      " hNormalization)                                                 \n",
      "                                                                 \n",
      " activation_4 (Activation)   (None, 1, 1, 32)          0         \n",
      "                                                                 \n",
      " max_pooling2d_2 (MaxPooling  (None, 1, 1, 32)         0         \n",
      " 2D)                                                             \n",
      "                                                                 \n",
      " conv2d_3 (Conv2D)           (None, 1, 1, 64)          18496     \n",
      "                                                                 \n",
      " batch_normalization_4 (Batc  (None, 1, 1, 64)         256       \n",
      " hNormalization)                                                 \n",
      "                                                                 \n",
      " activation_5 (Activation)   (None, 1, 1, 64)          0         \n",
      "                                                                 \n",
      " max_pooling2d_3 (MaxPooling  (None, 1, 1, 64)         0         \n",
      " 2D)                                                             \n",
      "                                                                 \n",
      " flatten_1 (Flatten)         (None, 64)                0         \n",
      "                                                                 \n",
      " dense_2 (Dense)             (None, 128)               8320      \n",
      "                                                                 \n",
      " batch_normalization_5 (Batc  (None, 128)              512       \n",
      " hNormalization)                                                 \n",
      "                                                                 \n",
      " activation_6 (Activation)   (None, 128)               0         \n",
      "                                                                 \n",
      " dropout_1 (Dropout)         (None, 128)               0         \n",
      "                                                                 \n",
      " dense_3 (Dense)             (None, 10)                1290      \n",
      "                                                                 \n",
      " activation_7 (Activation)   (None, 10)                0         \n",
      "                                                                 \n",
      "=================================================================\n",
      "Total params: 3,552,810\n",
      "Trainable params: 3,530,474\n",
      "Non-trainable params: 22,336\n",
      "_________________________________________________________________\n"
     ]
    }
   ],
   "source": [
    "clf2.summary()"
   ]
  },
  {
   "cell_type": "code",
   "execution_count": 57,
   "id": "d235e0e9",
   "metadata": {},
   "outputs": [
    {
     "name": "stdout",
     "output_type": "stream",
     "text": [
      "1563/1563 [==============================] - 12s 7ms/step\n"
     ]
    }
   ],
   "source": [
    "mobile_lr_flatting = keras.Model(inputs=clf2.input, outputs=clf2.get_layer(index=9).output)\n",
    "mobile_featureVector_flatting = mobile_lr_flatting.predict(trainX)"
   ]
  },
  {
   "cell_type": "code",
   "execution_count": 58,
   "id": "8fbabc24",
   "metadata": {},
   "outputs": [
    {
     "data": {
      "text/plain": [
       "(50000, 64)"
      ]
     },
     "execution_count": 58,
     "metadata": {},
     "output_type": "execute_result"
    }
   ],
   "source": [
    "mobile_featureVector_flatting.shape"
   ]
  },
  {
   "cell_type": "code",
   "execution_count": 59,
   "id": "4815e409",
   "metadata": {},
   "outputs": [],
   "source": [
    "mobile_LR_FLATTING = LogisticRegression(random_state=0).fit(mobile_featureVector_flatting, np.ravel(trainY))"
   ]
  },
  {
   "cell_type": "code",
   "execution_count": 60,
   "id": "11a90e3d",
   "metadata": {},
   "outputs": [
    {
     "name": "stdout",
     "output_type": "stream",
     "text": [
      "313/313 [==============================] - 2s 7ms/step\n"
     ]
    }
   ],
   "source": [
    "mobile_featureVector_flatting_test = mobile_lr_flatting.predict(testX)"
   ]
  },
  {
   "cell_type": "code",
   "execution_count": 61,
   "id": "6131a3cd",
   "metadata": {},
   "outputs": [
    {
     "name": "stdout",
     "output_type": "stream",
     "text": [
      "Acurácia: 86.160\n"
     ]
    }
   ],
   "source": [
    "acc = mobile_LR_FLATTING.score(mobile_featureVector_flatting_test, testY)\n",
    "print('Acurácia: %.3f' % (acc * 100.0))"
   ]
  },
  {
   "cell_type": "markdown",
   "id": "2c2452aa",
   "metadata": {},
   "source": [
    "# Resnet + Flatting + LogisticRegression"
   ]
  },
  {
   "cell_type": "code",
   "execution_count": 62,
   "id": "f4736b7f",
   "metadata": {},
   "outputs": [
    {
     "name": "stdout",
     "output_type": "stream",
     "text": [
      "Model: \"sequential\"\n",
      "_________________________________________________________________\n",
      " Layer (type)                Output Shape              Param #   \n",
      "=================================================================\n",
      " resnet50 (Functional)       (None, 1, 1, 2048)        23587712  \n",
      "                                                                 \n",
      " conv2d (Conv2D)             (None, 1, 1, 32)          589856    \n",
      "                                                                 \n",
      " batch_normalization (BatchN  (None, 1, 1, 32)         128       \n",
      " ormalization)                                                   \n",
      "                                                                 \n",
      " activation (Activation)     (None, 1, 1, 32)          0         \n",
      "                                                                 \n",
      " max_pooling2d (MaxPooling2D  (None, 1, 1, 32)         0         \n",
      " )                                                               \n",
      "                                                                 \n",
      " conv2d_1 (Conv2D)           (None, 1, 1, 64)          18496     \n",
      "                                                                 \n",
      " batch_normalization_1 (Batc  (None, 1, 1, 64)         256       \n",
      " hNormalization)                                                 \n",
      "                                                                 \n",
      " activation_1 (Activation)   (None, 1, 1, 64)          0         \n",
      "                                                                 \n",
      " max_pooling2d_1 (MaxPooling  (None, 1, 1, 64)         0         \n",
      " 2D)                                                             \n",
      "                                                                 \n",
      " flatten (Flatten)           (None, 64)                0         \n",
      "                                                                 \n",
      " dense (Dense)               (None, 128)               8320      \n",
      "                                                                 \n",
      " batch_normalization_2 (Batc  (None, 128)              512       \n",
      " hNormalization)                                                 \n",
      "                                                                 \n",
      " activation_2 (Activation)   (None, 128)               0         \n",
      "                                                                 \n",
      " dropout (Dropout)           (None, 128)               0         \n",
      "                                                                 \n",
      " dense_1 (Dense)             (None, 10)                1290      \n",
      "                                                                 \n",
      " activation_3 (Activation)   (None, 10)                0         \n",
      "                                                                 \n",
      "=================================================================\n",
      "Total params: 24,206,570\n",
      "Trainable params: 24,153,002\n",
      "Non-trainable params: 53,568\n",
      "_________________________________________________________________\n"
     ]
    }
   ],
   "source": [
    "clf3.summary()"
   ]
  },
  {
   "cell_type": "code",
   "execution_count": 63,
   "id": "a2a32b98",
   "metadata": {},
   "outputs": [
    {
     "name": "stdout",
     "output_type": "stream",
     "text": [
      "1563/1563 [==============================] - 29s 18ms/step\n"
     ]
    }
   ],
   "source": [
    "resnet_lr_flatting = keras.Model(inputs=clf3.input, outputs=clf3.get_layer(index=9).output)\n",
    "resnet_featureVector_flatting = resnet_lr_flatting.predict(trainX)"
   ]
  },
  {
   "cell_type": "code",
   "execution_count": 64,
   "id": "f277599d",
   "metadata": {},
   "outputs": [
    {
     "data": {
      "text/plain": [
       "(50000, 64)"
      ]
     },
     "execution_count": 64,
     "metadata": {},
     "output_type": "execute_result"
    }
   ],
   "source": [
    "resnet_featureVector_flatting.shape"
   ]
  },
  {
   "cell_type": "code",
   "execution_count": 65,
   "id": "b3b65d65",
   "metadata": {},
   "outputs": [],
   "source": [
    "resnet_LR_FLATTING = LogisticRegression(random_state=0).fit(resnet_featureVector_flatting, np.ravel(trainY))"
   ]
  },
  {
   "cell_type": "code",
   "execution_count": 66,
   "id": "18ccbdea",
   "metadata": {},
   "outputs": [
    {
     "name": "stdout",
     "output_type": "stream",
     "text": [
      "313/313 [==============================] - 6s 18ms/step\n"
     ]
    }
   ],
   "source": [
    "resnet_featureVector_flatting_test = resnet_lr_flatting.predict(testX)"
   ]
  },
  {
   "cell_type": "code",
   "execution_count": 67,
   "id": "d33ab89a",
   "metadata": {},
   "outputs": [
    {
     "name": "stdout",
     "output_type": "stream",
     "text": [
      "Acurácia: 85.750\n"
     ]
    }
   ],
   "source": [
    "acc = resnet_LR_FLATTING.score(resnet_featureVector_flatting_test, testY)\n",
    "print('Acurácia: %.3f' % (acc * 100.0))"
   ]
  },
  {
   "cell_type": "markdown",
   "id": "b11d69f5",
   "metadata": {},
   "source": [
    "# Resnet + Pooling + LogisticRegression"
   ]
  },
  {
   "cell_type": "code",
   "execution_count": 68,
   "id": "82236932",
   "metadata": {},
   "outputs": [],
   "source": [
    "#new_model_lr_pooling = keras.Model(inputs=clf3.input, outputs=clf3.get_layer(index=8).output)\n",
    "#featureVector_pooling = new_model_lr_pooling.predict(trainX)"
   ]
  },
  {
   "cell_type": "code",
   "execution_count": 69,
   "id": "d7793d16",
   "metadata": {},
   "outputs": [],
   "source": [
    "#featureVector_pooling.shape"
   ]
  },
  {
   "cell_type": "code",
   "execution_count": 70,
   "id": "9ad660a0",
   "metadata": {},
   "outputs": [],
   "source": [
    "#LR_POOLING = LogisticRegression(random_state=0).fit(featureVector_pooling, np.ravel(trainY))"
   ]
  },
  {
   "cell_type": "code",
   "execution_count": 71,
   "id": "565f7722",
   "metadata": {},
   "outputs": [],
   "source": [
    "#featureVector_pooling_test = new_model_lr_pooling.predict(testX)"
   ]
  },
  {
   "cell_type": "code",
   "execution_count": 72,
   "id": "c9623df5",
   "metadata": {},
   "outputs": [],
   "source": [
    "#acc = LR_POOLING.score(featureVector_pooling_test, testY)\n",
    "#print('Acurácia: %.3f' % (acc * 100.0))"
   ]
  },
  {
   "cell_type": "markdown",
   "id": "e31dea41",
   "metadata": {},
   "source": [
    "# Emsemble LogisticRegression (VGG , MobileNet, Resnet)"
   ]
  },
  {
   "cell_type": "code",
   "execution_count": 74,
   "id": "50091ad5",
   "metadata": {},
   "outputs": [],
   "source": [
    "#creating the emsemble\n",
    "eclf = VotingClassifier(estimators=[('lr_vgg', VGG_LR_FLATTING), ('lr_mobile', mobile_LR_FLATTING), ('lr_resnet', resnet_LR_FLATTING)], voting='soft')"
   ]
  },
  {
   "cell_type": "code",
   "execution_count": 93,
   "id": "8daea9fd",
   "metadata": {},
   "outputs": [],
   "source": [
    "#joining the features obtained by flatting on all models\n",
    "emsemble_feature_vector = np.append(vgg_featureVector_flatting, mobile_featureVector_flatting, axis=1)\n",
    "emsemble_feature_vector = np.append(emsemble_feature_vector, resnet_featureVector_flatting, axis=1)"
   ]
  },
  {
   "cell_type": "code",
   "execution_count": 94,
   "id": "58d311d5",
   "metadata": {},
   "outputs": [
    {
     "data": {
      "text/plain": [
       "(50000, 2176)"
      ]
     },
     "execution_count": 94,
     "metadata": {},
     "output_type": "execute_result"
    }
   ],
   "source": [
    "emsemble_feature_vector.shape"
   ]
  },
  {
   "cell_type": "code",
   "execution_count": 95,
   "id": "b2c7598d",
   "metadata": {},
   "outputs": [],
   "source": [
    "#training the emsemble with all features\n",
    "eclf.fit(emsemble_feature_vector, np.ravel(trainY))"
   ]
  },
  {
   "cell_type": "code",
   "execution_count": 120,
   "id": "efc01204",
   "metadata": {},
   "outputs": [],
   "source": [
    "emsemble_feature_vector_test = np.append(vgg_featureVector_flatting_test, mobile_featureVector_flatting_test, axis=1)\n",
    "emsemble_feature_vector_test = np.append(emsemble_feature_vector_test, resnet_featureVector_flatting_test, axis=1)"
   ]
  },
  {
   "cell_type": "code",
   "execution_count": 121,
   "id": "4c4f146c",
   "metadata": {},
   "outputs": [
    {
     "name": "stdout",
     "output_type": "stream",
     "text": [
      "Acurácia: 89.340\n"
     ]
    }
   ],
   "source": [
    "acc = clf.score(emsemble_feature_vector_test, testY)\n",
    "print('Acurácia: %.3f' % (acc * 100.0))"
   ]
  },
  {
   "cell_type": "code",
   "execution_count": null,
   "id": "451c1396",
   "metadata": {},
   "outputs": [],
   "source": []
  }
 ],
 "metadata": {
  "kernelspec": {
   "display_name": "Python 3 (ipykernel)",
   "language": "python",
   "name": "python3"
  },
  "language_info": {
   "codemirror_mode": {
    "name": "ipython",
    "version": 3
   },
   "file_extension": ".py",
   "mimetype": "text/x-python",
   "name": "python",
   "nbconvert_exporter": "python",
   "pygments_lexer": "ipython3",
   "version": "3.9.17"
  }
 },
 "nbformat": 4,
 "nbformat_minor": 5
}
