{
 "cells": [
  {
   "cell_type": "code",
   "execution_count": 1,
   "metadata": {
    "id": "on-xhn6xYqDo"
   },
   "outputs": [],
   "source": [
    "import tensorflow as tf\n",
    "from tensorflow import keras\n",
    "import matplotlib.pyplot as plt\n",
    "import os\n",
    "import time"
   ]
  },
  {
   "cell_type": "code",
   "execution_count": 2,
   "metadata": {
    "id": "Zq5nydmlidrt"
   },
   "outputs": [],
   "source": [
    "import cv2\n",
    "import os\n",
    "from tqdm import tqdm\n",
    "import matplotlib.pyplot as plt\n",
    "import numpy as np\n",
    "import glob\n",
    "from tensorflow.keras.preprocessing.image import ImageDataGenerator\n",
    "from tensorflow.keras.applications import *\n",
    "from tensorflow.keras.layers import *\n",
    "from tensorflow.keras.models import *\n",
    "from tensorflow.keras.optimizers import Adam\n",
    "from tensorflow.keras.utils import to_categorical\n",
    "from sklearn.preprocessing import LabelEncoder\n",
    "from sklearn.metrics import *\n",
    "from tensorflow.keras.callbacks import *\n",
    "import matplotlib.pyplot as plt\n",
    "from tensorflow.keras import models\n",
    "from tensorflow.keras import layers\n",
    "from sklearn.model_selection import StratifiedKFold\n",
    "from sklearn.model_selection import KFold"
   ]
  },
  {
   "cell_type": "code",
   "execution_count": 3,
   "metadata": {},
   "outputs": [],
   "source": [
    "CLASS_NAMES= ['healthy', 'mild', 'moderate', 'severe']\n",
    "IMG_HEIGHT = 128\n",
    "IMG_WIDTH = 128\n",
    "CHANNELS = 3\n",
    "NUM_CLASSES = len(CLASS_NAMES)"
   ]
  },
  {
   "cell_type": "markdown",
   "metadata": {
    "id": "yfeZvMIEDOwS"
   },
   "source": [
    "# **ResNET**"
   ]
  },
  {
   "cell_type": "code",
   "execution_count": 4,
   "metadata": {
    "id": "98Cf8ZeSEbCU"
   },
   "outputs": [],
   "source": [
    "from sklearn.model_selection import train_test_split"
   ]
  },
  {
   "cell_type": "code",
   "execution_count": 5,
   "metadata": {},
   "outputs": [
    {
     "name": "stdout",
     "output_type": "stream",
     "text": [
      "TOTAL_IMAGES =  2368\n"
     ]
    }
   ],
   "source": [
    "#load data\n",
    "data_x = np.load('data_x_aumentated_normalized.npy') #images\n",
    "data_y = np.load('data_y_aumentated_normalized.npy') #labels\n",
    "TOTAL_IMAGES = len(data_y)\n",
    "print(\"TOTAL_IMAGES = \", TOTAL_IMAGES)"
   ]
  },
  {
   "cell_type": "code",
   "execution_count": 6,
   "metadata": {},
   "outputs": [],
   "source": [
    "VALIDATION_PERCENTAGE = 0.1"
   ]
  },
  {
   "cell_type": "code",
   "execution_count": 7,
   "metadata": {},
   "outputs": [],
   "source": [
    "validation_size = int(VALIDATION_PERCENTAGE * TOTAL_IMAGES)\n",
    "\n",
    "validation_x = data_x[:validation_size] #taking validation images from original data\n",
    "validation_y = data_y[:validation_size]\n",
    "data_x = data_x[validation_size:] #removing validation images from original data\n",
    "data_y = data_y[validation_size:]"
   ]
  },
  {
   "cell_type": "markdown",
   "metadata": {},
   "source": [
    "# **Splitting data in train - validation - test**"
   ]
  },
  {
   "cell_type": "code",
   "execution_count": 8,
   "metadata": {
    "id": "BiIjdq89J1uJ"
   },
   "outputs": [],
   "source": [
    "from tensorflow import keras\n",
    "from tensorflow.keras.models import Sequential\n",
    "from tensorflow.keras.layers import Dense, Activation, Dropout, Flatten, Conv2D, MaxPooling2D\n",
    "from tensorflow.keras.regularizers import l2\n",
    "from tensorflow.keras.regularizers import l1\n",
    "from tensorflow.keras.callbacks import EarlyStopping"
   ]
  },
  {
   "cell_type": "code",
   "execution_count": 9,
   "metadata": {
    "colab": {
     "base_uri": "https://localhost:8080/"
    },
    "id": "j0vHxhMjLyhJ",
    "outputId": "e5ec2803-8f76-4719-e279-27c52eb8d72d"
   },
   "outputs": [],
   "source": [
    "from tensorflow.keras import layers\n",
    "from tensorflow.keras.layers import Input, Add, Dense, Activation, ZeroPadding2D, BatchNormalization, Flatten, Conv2D, AveragePooling2D, MaxPooling2D, GlobalMaxPooling2D\n",
    "from tensorflow.keras.models import Model, load_model\n",
    "from tensorflow.keras.preprocessing import image\n",
    "from IPython.display import SVG\n",
    "import scipy.misc"
   ]
  },
  {
   "cell_type": "code",
   "execution_count": 10,
   "metadata": {},
   "outputs": [],
   "source": [
    "import tensorflow.keras.backend as K\n",
    "from tensorflow.keras import models\n",
    "from tensorflow.keras import layers"
   ]
  },
  {
   "cell_type": "code",
   "execution_count": 11,
   "metadata": {},
   "outputs": [],
   "source": [
    "# from tensorflow.keras.applications import EfficientNetB0\n",
    "# from tensorflow.keras.applications import EfficientNetB1\n",
    "# from tensorflow.keras.applications import EfficientNetB2\n",
    "# from tensorflow.keras.applications import EfficientNetB3\n",
    "# from tensorflow.keras.applications import EfficientNetB4\n",
    "# from tensorflow.keras.applications import EfficientNetB5\n",
    "# from tensorflow.keras.applications import EfficientNetB6\n",
    "# from tensorflow.keras.applications import EfficientNetB7\n",
    "# from tensorflow.keras.applications import *"
   ]
  },
  {
   "cell_type": "code",
   "execution_count": 12,
   "metadata": {},
   "outputs": [
    {
     "name": "stderr",
     "output_type": "stream",
     "text": [
      "C:\\Users\\tmcle\\.conda\\envs\\tf\\lib\\site-packages\\keras\\optimizers\\optimizer_v2\\adam.py:114: UserWarning: The `lr` argument is deprecated, use `learning_rate` instead.\n",
      "  super().__init__(name, **kwargs)\n"
     ]
    }
   ],
   "source": [
    "adam = tf.keras.optimizers.Adam(lr=0.001)"
   ]
  },
  {
   "cell_type": "code",
   "execution_count": 13,
   "metadata": {},
   "outputs": [],
   "source": [
    "def define_model():\n",
    "    K.set_image_data_format('channels_last')\n",
    "    K.set_learning_phase(1)\n",
    "    model = tf.keras.applications.ResNet50(\n",
    "        include_top=False,\n",
    "        weights=\"imagenet\",\n",
    "        input_tensor=None,\n",
    "        input_shape=(IMG_HEIGHT,IMG_WIDTH, CHANNELS),\n",
    "        pooling=None,\n",
    "        classes=NUM_CLASSES,\n",
    "        # classifier_activation=\"softmax\",\n",
    "        # **kwargs\n",
    "    )\n",
    "    new_model = models.Sequential()\n",
    "    new_model.add(model)\n",
    "    #3rd conv layer\n",
    "    new_model.add(tf.keras.layers.Conv2D(32, 3, padding=\"same\"))\n",
    "    new_model.add(tf.keras.layers.BatchNormalization())\n",
    "    new_model.add(tf.keras.layers.Activation(\"relu\"))\n",
    "    new_model.add(tf.keras.layers.MaxPooling2D(2))\n",
    "    #4th conv layer\n",
    "    new_model.add(tf.keras.layers.Conv2D(64, 3, padding=\"same\"))\n",
    "    new_model.add(tf.keras.layers.BatchNormalization())\n",
    "    new_model.add(tf.keras.layers.Activation(\"relu\"))\n",
    "    new_model.add(tf.keras.layers.MaxPooling2D(2))\n",
    "    #Flatten Layer\n",
    "    new_model.add(tf.keras.layers.Flatten())\n",
    "\n",
    "    new_model.add(tf.keras.layers.Dense(128, kernel_regularizer =tf.keras.regularizers.l2( l=0.01)))\n",
    "    new_model.add(tf.keras.layers.BatchNormalization())\n",
    "    new_model.add(tf.keras.layers.Activation(\"relu\"))\n",
    "    new_model.add(tf.keras.layers.Dropout(0.2))\n",
    "    #new_model.add(tf.keras.layers.l2( l=0.01))\n",
    "    #new_model.add(layers.GlobalAveragePooling2D())\n",
    "    #output Dense Layer\n",
    "    new_model.add(tf.keras.layers.Dense(NUM_CLASSES))\n",
    "    new_model.add(tf.keras.layers.Activation('softmax'))\n",
    "    return new_model"
   ]
  },
  {
   "cell_type": "code",
   "execution_count": 14,
   "metadata": {},
   "outputs": [],
   "source": [
    "kfold = KFold(n_splits=5, shuffle=True, random_state=7)\n",
    "cvscores = []\n",
    "epochs = 100\n",
    "num_classes = 2\n",
    "num_kfold=1\n",
    "\n",
    "all_models = []"
   ]
  },
  {
   "cell_type": "code",
   "execution_count": 15,
   "metadata": {},
   "outputs": [
    {
     "name": "stderr",
     "output_type": "stream",
     "text": [
      "C:\\Users\\tmcle\\.conda\\envs\\tf\\lib\\site-packages\\keras\\backend.py:451: UserWarning: `tf.keras.backend.set_learning_phase` is deprecated and will be removed after 2020-10-11. To update it, simply pass a True/False value to the `training` argument of the `__call__` method of your layer or model.\n",
      "  warnings.warn(\n"
     ]
    },
    {
     "name": "stdout",
     "output_type": "stream",
     "text": [
      "Epoch 1/100\n",
      "45/45 - 25s - loss: 1.8297 - accuracy: 0.5799 - val_loss: 22.2994 - val_accuracy: 0.2419 - 25s/epoch - 567ms/step\n",
      "Epoch 2/100\n",
      "45/45 - 14s - loss: 1.1926 - accuracy: 0.8008 - val_loss: 3.2410 - val_accuracy: 0.2391 - 14s/epoch - 313ms/step\n",
      "Epoch 3/100\n",
      "45/45 - 14s - loss: 0.9308 - accuracy: 0.8663 - val_loss: 2.8844 - val_accuracy: 0.2391 - 14s/epoch - 313ms/step\n",
      "Epoch 4/100\n",
      "45/45 - 14s - loss: 0.8028 - accuracy: 0.8888 - val_loss: 2.2122 - val_accuracy: 0.2729 - 14s/epoch - 313ms/step\n",
      "Epoch 5/100\n",
      "45/45 - 14s - loss: 0.5695 - accuracy: 0.9402 - val_loss: 2.6558 - val_accuracy: 0.2729 - 14s/epoch - 313ms/step\n",
      "Epoch 6/100\n",
      "45/45 - 14s - loss: 0.5192 - accuracy: 0.9296 - val_loss: 3.0206 - val_accuracy: 0.2391 - 14s/epoch - 314ms/step\n",
      "Epoch 7/100\n",
      "45/45 - 14s - loss: 0.3968 - accuracy: 0.9514 - val_loss: 5.1235 - val_accuracy: 0.2729 - 14s/epoch - 314ms/step\n",
      "Epoch 8/100\n",
      "45/45 - 14s - loss: 0.3508 - accuracy: 0.9437 - val_loss: 2.1042 - val_accuracy: 0.2729 - 14s/epoch - 314ms/step\n",
      "Epoch 9/100\n",
      "45/45 - 14s - loss: 0.2706 - accuracy: 0.9648 - val_loss: 3.9228 - val_accuracy: 0.2729 - 14s/epoch - 314ms/step\n",
      "Epoch 10/100\n",
      "45/45 - 14s - loss: 0.2321 - accuracy: 0.9655 - val_loss: 3.9305 - val_accuracy: 0.2729 - 14s/epoch - 314ms/step\n",
      "Epoch 11/100\n",
      "45/45 - 14s - loss: 0.1835 - accuracy: 0.9740 - val_loss: 5.6158 - val_accuracy: 0.2391 - 14s/epoch - 314ms/step\n",
      "Epoch 12/100\n",
      "45/45 - 14s - loss: 0.1605 - accuracy: 0.9775 - val_loss: 2.3781 - val_accuracy: 0.2447 - 14s/epoch - 315ms/step\n",
      "Epoch 13/100\n",
      "45/45 - 14s - loss: 0.1452 - accuracy: 0.9761 - val_loss: 2.7907 - val_accuracy: 0.2729 - 14s/epoch - 315ms/step\n",
      "Epoch 14/100\n",
      "45/45 - 14s - loss: 0.1762 - accuracy: 0.9627 - val_loss: 3.3161 - val_accuracy: 0.2405 - 14s/epoch - 315ms/step\n",
      "Epoch 15/100\n",
      "45/45 - 14s - loss: 0.1102 - accuracy: 0.9817 - val_loss: 3.2487 - val_accuracy: 0.2321 - 14s/epoch - 315ms/step\n",
      "Epoch 16/100\n",
      "45/45 - 14s - loss: 0.0876 - accuracy: 0.9859 - val_loss: 3.5009 - val_accuracy: 0.2729 - 14s/epoch - 316ms/step\n",
      "Epoch 17/100\n",
      "45/45 - 14s - loss: 0.0758 - accuracy: 0.9916 - val_loss: 6.3932 - val_accuracy: 0.2391 - 14s/epoch - 316ms/step\n",
      "Epoch 18/100\n",
      "45/45 - 14s - loss: 0.0884 - accuracy: 0.9803 - val_loss: 3.8607 - val_accuracy: 0.2475 - 14s/epoch - 316ms/step\n",
      "Epoch 19/100\n",
      "45/45 - 14s - loss: 0.0697 - accuracy: 0.9866 - val_loss: 2.8598 - val_accuracy: 0.3404 - 14s/epoch - 316ms/step\n",
      "Epoch 20/100\n",
      "45/45 - 14s - loss: 0.0459 - accuracy: 0.9937 - val_loss: 3.5155 - val_accuracy: 0.3010 - 14s/epoch - 316ms/step\n",
      "Epoch 21/100\n",
      "45/45 - 14s - loss: 0.0472 - accuracy: 0.9909 - val_loss: 6.8444 - val_accuracy: 0.2546 - 14s/epoch - 316ms/step\n",
      "Epoch 22/100\n",
      "45/45 - 14s - loss: 0.0476 - accuracy: 0.9901 - val_loss: 5.8485 - val_accuracy: 0.3136 - 14s/epoch - 316ms/step\n",
      "Epoch 23/100\n",
      "45/45 - 14s - loss: 0.0363 - accuracy: 0.9909 - val_loss: 5.4618 - val_accuracy: 0.2813 - 14s/epoch - 316ms/step\n",
      "Epoch 24/100\n",
      "45/45 - 14s - loss: 0.0247 - accuracy: 0.9965 - val_loss: 5.1719 - val_accuracy: 0.2729 - 14s/epoch - 316ms/step\n",
      "Epoch 25/100\n",
      "45/45 - 14s - loss: 0.0490 - accuracy: 0.9859 - val_loss: 3.9518 - val_accuracy: 0.3741 - 14s/epoch - 316ms/step\n",
      "Epoch 26/100\n",
      "45/45 - 14s - loss: 0.0471 - accuracy: 0.9887 - val_loss: 1.3415 - val_accuracy: 0.6807 - 14s/epoch - 316ms/step\n",
      "Epoch 27/100\n",
      "45/45 - 14s - loss: 0.0581 - accuracy: 0.9831 - val_loss: 1.7397 - val_accuracy: 0.6329 - 14s/epoch - 317ms/step\n",
      "Epoch 28/100\n",
      "45/45 - 14s - loss: 0.1598 - accuracy: 0.9536 - val_loss: 3.8699 - val_accuracy: 0.5176 - 14s/epoch - 316ms/step\n",
      "Epoch 29/100\n",
      "45/45 - 14s - loss: 0.0969 - accuracy: 0.9740 - val_loss: 2.6324 - val_accuracy: 0.5949 - 14s/epoch - 316ms/step\n",
      "Epoch 30/100\n",
      "45/45 - 14s - loss: 0.1148 - accuracy: 0.9669 - val_loss: 17.3901 - val_accuracy: 0.2546 - 14s/epoch - 316ms/step\n",
      "Epoch 31/100\n",
      "45/45 - 14s - loss: 0.0790 - accuracy: 0.9796 - val_loss: 0.5600 - val_accuracy: 0.8312 - 14s/epoch - 316ms/step\n",
      "Epoch 32/100\n",
      "45/45 - 14s - loss: 0.0577 - accuracy: 0.9866 - val_loss: 29.4994 - val_accuracy: 0.2461 - 14s/epoch - 316ms/step\n",
      "Epoch 33/100\n",
      "45/45 - 14s - loss: 0.0260 - accuracy: 0.9951 - val_loss: 0.5473 - val_accuracy: 0.8383 - 14s/epoch - 317ms/step\n",
      "Epoch 34/100\n",
      "45/45 - 14s - loss: 0.0219 - accuracy: 0.9951 - val_loss: 0.6601 - val_accuracy: 0.8101 - 14s/epoch - 317ms/step\n",
      "Epoch 35/100\n",
      "45/45 - 14s - loss: 0.0090 - accuracy: 0.9993 - val_loss: 0.2146 - val_accuracy: 0.9325 - 14s/epoch - 317ms/step\n",
      "Epoch 36/100\n",
      "45/45 - 14s - loss: 0.0059 - accuracy: 1.0000 - val_loss: 0.4826 - val_accuracy: 0.8678 - 14s/epoch - 316ms/step\n",
      "Epoch 37/100\n",
      "45/45 - 14s - loss: 0.0041 - accuracy: 1.0000 - val_loss: 0.3428 - val_accuracy: 0.8959 - 14s/epoch - 316ms/step\n",
      "Epoch 38/100\n",
      "45/45 - 14s - loss: 0.0030 - accuracy: 1.0000 - val_loss: 0.2374 - val_accuracy: 0.9241 - 14s/epoch - 316ms/step\n",
      "Epoch 39/100\n",
      "45/45 - 14s - loss: 0.0023 - accuracy: 1.0000 - val_loss: 0.2040 - val_accuracy: 0.9339 - 14s/epoch - 316ms/step\n",
      "Epoch 40/100\n",
      "45/45 - 14s - loss: 0.0019 - accuracy: 1.0000 - val_loss: 0.1819 - val_accuracy: 0.9423 - 14s/epoch - 316ms/step\n",
      "Epoch 41/100\n",
      "45/45 - 14s - loss: 0.0015 - accuracy: 1.0000 - val_loss: 0.1742 - val_accuracy: 0.9437 - 14s/epoch - 317ms/step\n",
      "Epoch 42/100\n",
      "45/45 - 14s - loss: 0.0013 - accuracy: 1.0000 - val_loss: 0.1710 - val_accuracy: 0.9451 - 14s/epoch - 317ms/step\n",
      "Epoch 43/100\n",
      "45/45 - 14s - loss: 0.0012 - accuracy: 1.0000 - val_loss: 0.1655 - val_accuracy: 0.9437 - 14s/epoch - 317ms/step\n",
      "Epoch 44/100\n",
      "45/45 - 14s - loss: 0.0011 - accuracy: 1.0000 - val_loss: 0.1686 - val_accuracy: 0.9466 - 14s/epoch - 317ms/step\n",
      "Epoch 45/100\n",
      "45/45 - 14s - loss: 9.4838e-04 - accuracy: 1.0000 - val_loss: 0.1627 - val_accuracy: 0.9437 - 14s/epoch - 317ms/step\n",
      "Epoch 46/100\n",
      "45/45 - 14s - loss: 9.0835e-04 - accuracy: 1.0000 - val_loss: 0.1665 - val_accuracy: 0.9437 - 14s/epoch - 317ms/step\n",
      "Epoch 47/100\n",
      "45/45 - 14s - loss: 8.5278e-04 - accuracy: 1.0000 - val_loss: 0.1670 - val_accuracy: 0.9480 - 14s/epoch - 316ms/step\n",
      "Epoch 48/100\n",
      "45/45 - 14s - loss: 8.1896e-04 - accuracy: 1.0000 - val_loss: 0.1669 - val_accuracy: 0.9466 - 14s/epoch - 317ms/step\n",
      "Epoch 49/100\n",
      "45/45 - 14s - loss: 7.7125e-04 - accuracy: 1.0000 - val_loss: 0.1710 - val_accuracy: 0.9466 - 14s/epoch - 317ms/step\n",
      "Epoch 50/100\n",
      "45/45 - 14s - loss: 8.1690e-04 - accuracy: 1.0000 - val_loss: 0.1731 - val_accuracy: 0.9466 - 14s/epoch - 317ms/step\n",
      "Epoch 51/100\n",
      "45/45 - 14s - loss: 7.6410e-04 - accuracy: 1.0000 - val_loss: 0.1705 - val_accuracy: 0.9508 - 14s/epoch - 318ms/step\n",
      "Epoch 52/100\n",
      "45/45 - 14s - loss: 7.3246e-04 - accuracy: 1.0000 - val_loss: 0.1739 - val_accuracy: 0.9508 - 14s/epoch - 317ms/step\n",
      "Epoch 53/100\n",
      "45/45 - 14s - loss: 7.4142e-04 - accuracy: 1.0000 - val_loss: 0.1732 - val_accuracy: 0.9536 - 14s/epoch - 317ms/step\n",
      "Epoch 54/100\n",
      "45/45 - 14s - loss: 6.8593e-04 - accuracy: 1.0000 - val_loss: 0.1791 - val_accuracy: 0.9522 - 14s/epoch - 317ms/step\n",
      "Epoch 55/100\n",
      "45/45 - 14s - loss: 6.8186e-04 - accuracy: 1.0000 - val_loss: 0.1786 - val_accuracy: 0.9508 - 14s/epoch - 318ms/step\n",
      "Epoch 56/100\n",
      "45/45 - 14s - loss: 6.4504e-04 - accuracy: 1.0000 - val_loss: 0.1777 - val_accuracy: 0.9494 - 14s/epoch - 318ms/step\n",
      "Epoch 57/100\n",
      "45/45 - 14s - loss: 6.4191e-04 - accuracy: 1.0000 - val_loss: 0.1764 - val_accuracy: 0.9536 - 14s/epoch - 318ms/step\n",
      "Epoch 58/100\n",
      "45/45 - 14s - loss: 6.2960e-04 - accuracy: 1.0000 - val_loss: 0.1765 - val_accuracy: 0.9564 - 14s/epoch - 317ms/step\n",
      "Epoch 59/100\n",
      "45/45 - 14s - loss: 6.2214e-04 - accuracy: 1.0000 - val_loss: 0.1777 - val_accuracy: 0.9522 - 14s/epoch - 318ms/step\n",
      "Epoch 60/100\n",
      "45/45 - 14s - loss: 5.9355e-04 - accuracy: 1.0000 - val_loss: 0.1785 - val_accuracy: 0.9536 - 14s/epoch - 318ms/step\n",
      "Epoch 61/100\n",
      "45/45 - 14s - loss: 6.0038e-04 - accuracy: 1.0000 - val_loss: 0.1783 - val_accuracy: 0.9536 - 14s/epoch - 318ms/step\n",
      "Epoch 62/100\n",
      "45/45 - 14s - loss: 5.7129e-04 - accuracy: 1.0000 - val_loss: 0.1788 - val_accuracy: 0.9536 - 14s/epoch - 318ms/step\n",
      "Epoch 63/100\n",
      "45/45 - 14s - loss: 5.6752e-04 - accuracy: 1.0000 - val_loss: 0.1781 - val_accuracy: 0.9536 - 14s/epoch - 319ms/step\n",
      "Epoch 64/100\n",
      "45/45 - 14s - loss: 5.3739e-04 - accuracy: 1.0000 - val_loss: 0.1814 - val_accuracy: 0.9508 - 14s/epoch - 317ms/step\n",
      "Epoch 65/100\n",
      "45/45 - 14s - loss: 5.2929e-04 - accuracy: 1.0000 - val_loss: 0.1769 - val_accuracy: 0.9550 - 14s/epoch - 316ms/step\n"
     ]
    },
    {
     "name": "stdout",
     "output_type": "stream",
     "text": [
      "Epoch 66/100\n",
      "45/45 - 14s - loss: 5.0862e-04 - accuracy: 1.0000 - val_loss: 0.1807 - val_accuracy: 0.9550 - 14s/epoch - 317ms/step\n",
      "Epoch 67/100\n",
      "45/45 - 14s - loss: 4.9371e-04 - accuracy: 1.0000 - val_loss: 0.1845 - val_accuracy: 0.9522 - 14s/epoch - 316ms/step\n",
      "Epoch 68/100\n",
      "45/45 - 14s - loss: 4.9917e-04 - accuracy: 1.0000 - val_loss: 0.1856 - val_accuracy: 0.9550 - 14s/epoch - 317ms/step\n",
      "Epoch 69/100\n",
      "45/45 - 14s - loss: 4.6897e-04 - accuracy: 1.0000 - val_loss: 0.1809 - val_accuracy: 0.9550 - 14s/epoch - 316ms/step\n",
      "Epoch 70/100\n",
      "45/45 - 14s - loss: 4.6898e-04 - accuracy: 1.0000 - val_loss: 0.1788 - val_accuracy: 0.9536 - 14s/epoch - 316ms/step\n",
      "Epoch 71/100\n",
      "45/45 - 14s - loss: 4.7562e-04 - accuracy: 1.0000 - val_loss: 0.1794 - val_accuracy: 0.9550 - 14s/epoch - 316ms/step\n",
      "Epoch 72/100\n",
      "45/45 - 14s - loss: 4.4774e-04 - accuracy: 1.0000 - val_loss: 0.1843 - val_accuracy: 0.9536 - 14s/epoch - 317ms/step\n",
      "Epoch 73/100\n",
      "45/45 - 14s - loss: 4.6547e-04 - accuracy: 1.0000 - val_loss: 0.1877 - val_accuracy: 0.9536 - 14s/epoch - 317ms/step\n",
      "Epoch 74/100\n",
      "45/45 - 14s - loss: 4.5002e-04 - accuracy: 1.0000 - val_loss: 0.1842 - val_accuracy: 0.9550 - 14s/epoch - 317ms/step\n",
      "Epoch 75/100\n",
      "45/45 - 14s - loss: 4.5829e-04 - accuracy: 1.0000 - val_loss: 0.1849 - val_accuracy: 0.9564 - 14s/epoch - 317ms/step\n",
      "Epoch 76/100\n",
      "45/45 - 14s - loss: 4.2139e-04 - accuracy: 1.0000 - val_loss: 0.1801 - val_accuracy: 0.9550 - 14s/epoch - 317ms/step\n",
      "Epoch 77/100\n",
      "45/45 - 14s - loss: 4.1481e-04 - accuracy: 1.0000 - val_loss: 0.1769 - val_accuracy: 0.9578 - 14s/epoch - 317ms/step\n",
      "Epoch 78/100\n",
      "45/45 - 14s - loss: 4.0314e-04 - accuracy: 1.0000 - val_loss: 0.1835 - val_accuracy: 0.9564 - 14s/epoch - 317ms/step\n",
      "Epoch 79/100\n",
      "45/45 - 14s - loss: 3.9695e-04 - accuracy: 1.0000 - val_loss: 0.1829 - val_accuracy: 0.9536 - 14s/epoch - 317ms/step\n",
      "Epoch 80/100\n",
      "45/45 - 14s - loss: 3.8656e-04 - accuracy: 1.0000 - val_loss: 0.1896 - val_accuracy: 0.9550 - 14s/epoch - 317ms/step\n",
      "Epoch 81/100\n",
      "45/45 - 14s - loss: 3.8513e-04 - accuracy: 1.0000 - val_loss: 0.1836 - val_accuracy: 0.9550 - 14s/epoch - 316ms/step\n",
      "Epoch 82/100\n",
      "45/45 - 14s - loss: 3.8515e-04 - accuracy: 1.0000 - val_loss: 0.1832 - val_accuracy: 0.9550 - 14s/epoch - 317ms/step\n",
      "Epoch 83/100\n",
      "45/45 - 14s - loss: 3.7120e-04 - accuracy: 1.0000 - val_loss: 0.1855 - val_accuracy: 0.9564 - 14s/epoch - 317ms/step\n",
      "Epoch 84/100\n",
      "45/45 - 14s - loss: 3.6685e-04 - accuracy: 1.0000 - val_loss: 0.1892 - val_accuracy: 0.9522 - 14s/epoch - 317ms/step\n",
      "Epoch 85/100\n",
      "45/45 - 14s - loss: 3.6897e-04 - accuracy: 1.0000 - val_loss: 0.1901 - val_accuracy: 0.9522 - 14s/epoch - 317ms/step\n",
      "Epoch 86/100\n",
      "45/45 - 14s - loss: 3.6144e-04 - accuracy: 1.0000 - val_loss: 0.1876 - val_accuracy: 0.9536 - 14s/epoch - 317ms/step\n",
      "Epoch 87/100\n",
      "45/45 - 14s - loss: 3.4571e-04 - accuracy: 1.0000 - val_loss: 0.1880 - val_accuracy: 0.9536 - 14s/epoch - 316ms/step\n",
      "Epoch 88/100\n",
      "45/45 - 14s - loss: 3.2785e-04 - accuracy: 1.0000 - val_loss: 0.1866 - val_accuracy: 0.9508 - 14s/epoch - 317ms/step\n",
      "Epoch 89/100\n",
      "45/45 - 14s - loss: 3.4294e-04 - accuracy: 1.0000 - val_loss: 0.1840 - val_accuracy: 0.9592 - 14s/epoch - 318ms/step\n",
      "Epoch 90/100\n",
      "45/45 - 14s - loss: 3.6011e-04 - accuracy: 1.0000 - val_loss: 0.1943 - val_accuracy: 0.9536 - 14s/epoch - 317ms/step\n",
      "Epoch 91/100\n",
      "45/45 - 14s - loss: 3.4297e-04 - accuracy: 1.0000 - val_loss: 0.1940 - val_accuracy: 0.9494 - 14s/epoch - 317ms/step\n",
      "Epoch 92/100\n",
      "45/45 - 14s - loss: 3.2134e-04 - accuracy: 1.0000 - val_loss: 0.1872 - val_accuracy: 0.9550 - 14s/epoch - 317ms/step\n",
      "Epoch 93/100\n",
      "45/45 - 14s - loss: 3.1125e-04 - accuracy: 1.0000 - val_loss: 0.1932 - val_accuracy: 0.9522 - 14s/epoch - 317ms/step\n",
      "Epoch 94/100\n",
      "45/45 - 14s - loss: 3.3254e-04 - accuracy: 1.0000 - val_loss: 0.1863 - val_accuracy: 0.9578 - 14s/epoch - 317ms/step\n",
      "Epoch 95/100\n",
      "45/45 - 14s - loss: 3.0195e-04 - accuracy: 1.0000 - val_loss: 0.1839 - val_accuracy: 0.9578 - 14s/epoch - 317ms/step\n",
      "Epoch 96/100\n",
      "45/45 - 14s - loss: 3.0266e-04 - accuracy: 1.0000 - val_loss: 0.1830 - val_accuracy: 0.9564 - 14s/epoch - 317ms/step\n",
      "Epoch 97/100\n",
      "45/45 - 14s - loss: 2.9045e-04 - accuracy: 1.0000 - val_loss: 0.1873 - val_accuracy: 0.9592 - 14s/epoch - 317ms/step\n",
      "Epoch 98/100\n",
      "45/45 - 14s - loss: 2.8710e-04 - accuracy: 1.0000 - val_loss: 0.1898 - val_accuracy: 0.9550 - 14s/epoch - 316ms/step\n",
      "Epoch 99/100\n",
      "45/45 - 14s - loss: 3.0352e-04 - accuracy: 1.0000 - val_loss: 0.1927 - val_accuracy: 0.9550 - 14s/epoch - 317ms/step\n",
      "Epoch 100/100\n",
      "45/45 - 14s - loss: 2.8549e-04 - accuracy: 1.0000 - val_loss: 0.1921 - val_accuracy: 0.9508 - 14s/epoch - 317ms/step\n",
      "Accuracy Score =  0.9592123627662659\n",
      "accuracy: 92.80%\n"
     ]
    },
    {
     "name": "stderr",
     "output_type": "stream",
     "text": [
      "WARNING:absl:Found untraced functions such as _jit_compiled_convolution_op, _jit_compiled_convolution_op, _jit_compiled_convolution_op, _jit_compiled_convolution_op, _jit_compiled_convolution_op while saving (showing 5 of 55). These functions will not be directly callable after loading.\n"
     ]
    },
    {
     "name": "stdout",
     "output_type": "stream",
     "text": [
      "INFO:tensorflow:Assets written to: resnet50_100epochs_augmented_kfold_1.npy\\assets\n"
     ]
    },
    {
     "name": "stderr",
     "output_type": "stream",
     "text": [
      "INFO:tensorflow:Assets written to: resnet50_100epochs_augmented_kfold_1.npy\\assets\n",
      "C:\\Users\\tmcle\\.conda\\envs\\tf\\lib\\site-packages\\keras\\backend.py:451: UserWarning: `tf.keras.backend.set_learning_phase` is deprecated and will be removed after 2020-10-11. To update it, simply pass a True/False value to the `training` argument of the `__call__` method of your layer or model.\n",
      "  warnings.warn(\n"
     ]
    },
    {
     "name": "stdout",
     "output_type": "stream",
     "text": [
      "Epoch 1/100\n",
      "45/45 - 21s - loss: 2.0087 - accuracy: 0.2871 - val_loss: 305267296.0000 - val_accuracy: 0.2532 - 21s/epoch - 461ms/step\n",
      "Epoch 2/100\n",
      "45/45 - 14s - loss: 1.6377 - accuracy: 0.2526 - val_loss: 748446.3125 - val_accuracy: 0.2447 - 14s/epoch - 315ms/step\n",
      "Epoch 3/100\n",
      "45/45 - 14s - loss: 1.5267 - accuracy: 0.2533 - val_loss: 7417.8047 - val_accuracy: 0.2447 - 14s/epoch - 314ms/step\n",
      "Epoch 4/100\n",
      "45/45 - 14s - loss: 1.4690 - accuracy: 0.2773 - val_loss: 151.3677 - val_accuracy: 0.2532 - 14s/epoch - 315ms/step\n",
      "Epoch 5/100\n",
      "45/45 - 14s - loss: 1.4221 - accuracy: 0.2695 - val_loss: 1.4284 - val_accuracy: 0.2518 - 14s/epoch - 314ms/step\n",
      "Epoch 6/100\n",
      "45/45 - 14s - loss: 1.3740 - accuracy: 0.3195 - val_loss: 1.4253 - val_accuracy: 0.2518 - 14s/epoch - 314ms/step\n",
      "Epoch 7/100\n",
      "45/45 - 14s - loss: 1.3524 - accuracy: 0.3744 - val_loss: 1.4220 - val_accuracy: 0.2504 - 14s/epoch - 315ms/step\n",
      "Epoch 8/100\n",
      "45/45 - 14s - loss: 1.1788 - accuracy: 0.4926 - val_loss: 1.4209 - val_accuracy: 0.2940 - 14s/epoch - 315ms/step\n",
      "Epoch 9/100\n",
      "45/45 - 14s - loss: 1.1733 - accuracy: 0.5264 - val_loss: 5.3418 - val_accuracy: 0.2532 - 14s/epoch - 315ms/step\n",
      "Epoch 10/100\n",
      "45/45 - 14s - loss: 1.0472 - accuracy: 0.5412 - val_loss: 2.4097 - val_accuracy: 0.2518 - 14s/epoch - 315ms/step\n",
      "Epoch 11/100\n",
      "45/45 - 14s - loss: 0.9537 - accuracy: 0.5961 - val_loss: 4.8570 - val_accuracy: 0.2518 - 14s/epoch - 316ms/step\n",
      "Epoch 12/100\n",
      "45/45 - 14s - loss: 0.8542 - accuracy: 0.6411 - val_loss: 2.5407 - val_accuracy: 0.2743 - 14s/epoch - 315ms/step\n",
      "Epoch 13/100\n",
      "45/45 - 14s - loss: 0.7573 - accuracy: 0.6770 - val_loss: 4.7093 - val_accuracy: 0.2588 - 14s/epoch - 315ms/step\n",
      "Epoch 14/100\n",
      "45/45 - 14s - loss: 0.6820 - accuracy: 0.7326 - val_loss: 1.9720 - val_accuracy: 0.3263 - 14s/epoch - 316ms/step\n",
      "Epoch 15/100\n",
      "45/45 - 14s - loss: 0.6972 - accuracy: 0.7241 - val_loss: 2.0167 - val_accuracy: 0.2461 - 14s/epoch - 321ms/step\n",
      "Epoch 16/100\n",
      "45/45 - 14s - loss: 0.5705 - accuracy: 0.7854 - val_loss: 2.1877 - val_accuracy: 0.2475 - 14s/epoch - 320ms/step\n",
      "Epoch 17/100\n",
      "45/45 - 14s - loss: 0.4716 - accuracy: 0.8318 - val_loss: 2.8108 - val_accuracy: 0.2461 - 14s/epoch - 321ms/step\n",
      "Epoch 18/100\n",
      "45/45 - 14s - loss: 0.4511 - accuracy: 0.8452 - val_loss: 3.0213 - val_accuracy: 0.2363 - 14s/epoch - 321ms/step\n",
      "Epoch 19/100\n",
      "45/45 - 14s - loss: 0.4356 - accuracy: 0.8353 - val_loss: 3.7444 - val_accuracy: 0.2419 - 14s/epoch - 319ms/step\n",
      "Epoch 20/100\n",
      "45/45 - 14s - loss: 0.3604 - accuracy: 0.8705 - val_loss: 4.4680 - val_accuracy: 0.2433 - 14s/epoch - 320ms/step\n",
      "Epoch 21/100\n",
      "45/45 - 14s - loss: 0.3028 - accuracy: 0.8930 - val_loss: 4.0167 - val_accuracy: 0.2658 - 14s/epoch - 317ms/step\n",
      "Epoch 22/100\n",
      "45/45 - 14s - loss: 0.3099 - accuracy: 0.8902 - val_loss: 4.1816 - val_accuracy: 0.2489 - 14s/epoch - 317ms/step\n",
      "Epoch 23/100\n",
      "45/45 - 14s - loss: 0.2581 - accuracy: 0.9156 - val_loss: 3.5717 - val_accuracy: 0.3643 - 14s/epoch - 317ms/step\n",
      "Epoch 24/100\n",
      "45/45 - 14s - loss: 0.2497 - accuracy: 0.9184 - val_loss: 4.5860 - val_accuracy: 0.3769 - 14s/epoch - 317ms/step\n",
      "Epoch 25/100\n",
      "45/45 - 14s - loss: 0.2820 - accuracy: 0.9127 - val_loss: 6.5573 - val_accuracy: 0.3390 - 14s/epoch - 316ms/step\n",
      "Epoch 26/100\n",
      "45/45 - 14s - loss: 0.1958 - accuracy: 0.9374 - val_loss: 6.6857 - val_accuracy: 0.3601 - 14s/epoch - 317ms/step\n",
      "Epoch 27/100\n",
      "45/45 - 14s - loss: 0.1646 - accuracy: 0.9529 - val_loss: 6.6934 - val_accuracy: 0.3221 - 14s/epoch - 317ms/step\n",
      "Epoch 28/100\n",
      "45/45 - 14s - loss: 0.1553 - accuracy: 0.9550 - val_loss: 1.1448 - val_accuracy: 0.6568 - 14s/epoch - 317ms/step\n",
      "Epoch 29/100\n",
      "45/45 - 14s - loss: 0.1449 - accuracy: 0.9578 - val_loss: 3.5531 - val_accuracy: 0.5879 - 14s/epoch - 317ms/step\n",
      "Epoch 30/100\n",
      "45/45 - 14s - loss: 0.0966 - accuracy: 0.9726 - val_loss: 1.7811 - val_accuracy: 0.6034 - 14s/epoch - 316ms/step\n",
      "Epoch 31/100\n",
      "45/45 - 14s - loss: 0.0989 - accuracy: 0.9726 - val_loss: 4.0703 - val_accuracy: 0.3615 - 14s/epoch - 316ms/step\n",
      "Epoch 32/100\n",
      "45/45 - 14s - loss: 0.0683 - accuracy: 0.9824 - val_loss: 3.3904 - val_accuracy: 0.4726 - 14s/epoch - 317ms/step\n",
      "Epoch 33/100\n",
      "45/45 - 14s - loss: 0.0458 - accuracy: 0.9901 - val_loss: 4.6478 - val_accuracy: 0.3966 - 14s/epoch - 317ms/step\n",
      "Epoch 34/100\n",
      "45/45 - 14s - loss: 0.0694 - accuracy: 0.9859 - val_loss: 1.9748 - val_accuracy: 0.6090 - 14s/epoch - 317ms/step\n",
      "Epoch 35/100\n",
      "45/45 - 14s - loss: 0.0470 - accuracy: 0.9887 - val_loss: 3.3011 - val_accuracy: 0.5091 - 14s/epoch - 317ms/step\n",
      "Epoch 36/100\n",
      "45/45 - 14s - loss: 0.0325 - accuracy: 0.9937 - val_loss: 15.1104 - val_accuracy: 0.2672 - 14s/epoch - 317ms/step\n",
      "Epoch 37/100\n",
      "45/45 - 14s - loss: 0.0264 - accuracy: 0.9951 - val_loss: 2.2717 - val_accuracy: 0.5710 - 14s/epoch - 317ms/step\n",
      "Epoch 38/100\n",
      "45/45 - 14s - loss: 0.0290 - accuracy: 0.9937 - val_loss: 11.4144 - val_accuracy: 0.2940 - 14s/epoch - 317ms/step\n",
      "Epoch 39/100\n",
      "45/45 - 14s - loss: 0.0422 - accuracy: 0.9880 - val_loss: 0.6036 - val_accuracy: 0.8481 - 14s/epoch - 317ms/step\n",
      "Epoch 40/100\n",
      "45/45 - 14s - loss: 0.0691 - accuracy: 0.9838 - val_loss: 6.1172 - val_accuracy: 0.3305 - 14s/epoch - 316ms/step\n",
      "Epoch 41/100\n",
      "45/45 - 14s - loss: 0.0641 - accuracy: 0.9880 - val_loss: 2.2925 - val_accuracy: 0.5809 - 14s/epoch - 317ms/step\n",
      "Epoch 42/100\n",
      "45/45 - 14s - loss: 0.0244 - accuracy: 0.9979 - val_loss: 3.0395 - val_accuracy: 0.5626 - 14s/epoch - 317ms/step\n",
      "Epoch 43/100\n",
      "45/45 - 14s - loss: 0.0315 - accuracy: 0.9916 - val_loss: 2.4396 - val_accuracy: 0.5527 - 14s/epoch - 317ms/step\n",
      "Epoch 44/100\n",
      "45/45 - 14s - loss: 0.0192 - accuracy: 0.9972 - val_loss: 0.8631 - val_accuracy: 0.7932 - 14s/epoch - 317ms/step\n",
      "Epoch 45/100\n",
      "45/45 - 14s - loss: 0.0170 - accuracy: 0.9965 - val_loss: 2.3763 - val_accuracy: 0.6203 - 14s/epoch - 317ms/step\n",
      "Epoch 46/100\n",
      "45/45 - 14s - loss: 0.0090 - accuracy: 1.0000 - val_loss: 0.6624 - val_accuracy: 0.8425 - 14s/epoch - 317ms/step\n",
      "Epoch 47/100\n",
      "45/45 - 14s - loss: 0.0067 - accuracy: 1.0000 - val_loss: 0.4762 - val_accuracy: 0.8650 - 14s/epoch - 317ms/step\n",
      "Epoch 48/100\n",
      "45/45 - 14s - loss: 0.0055 - accuracy: 1.0000 - val_loss: 0.3834 - val_accuracy: 0.8917 - 14s/epoch - 317ms/step\n",
      "Epoch 49/100\n",
      "45/45 - 14s - loss: 0.0045 - accuracy: 1.0000 - val_loss: 0.3785 - val_accuracy: 0.8973 - 14s/epoch - 317ms/step\n",
      "Epoch 50/100\n",
      "45/45 - 14s - loss: 0.0039 - accuracy: 1.0000 - val_loss: 0.3690 - val_accuracy: 0.8959 - 14s/epoch - 316ms/step\n",
      "Epoch 51/100\n",
      "45/45 - 14s - loss: 0.0034 - accuracy: 1.0000 - val_loss: 0.3662 - val_accuracy: 0.8917 - 14s/epoch - 317ms/step\n",
      "Epoch 52/100\n",
      "45/45 - 14s - loss: 0.0031 - accuracy: 1.0000 - val_loss: 0.3714 - val_accuracy: 0.8931 - 14s/epoch - 317ms/step\n",
      "Epoch 53/100\n",
      "45/45 - 14s - loss: 0.0028 - accuracy: 1.0000 - val_loss: 0.3750 - val_accuracy: 0.8945 - 14s/epoch - 317ms/step\n",
      "Epoch 54/100\n",
      "45/45 - 14s - loss: 0.0025 - accuracy: 1.0000 - val_loss: 0.3823 - val_accuracy: 0.8973 - 14s/epoch - 317ms/step\n",
      "Epoch 55/100\n",
      "45/45 - 14s - loss: 0.0023 - accuracy: 1.0000 - val_loss: 0.3956 - val_accuracy: 0.8945 - 14s/epoch - 317ms/step\n",
      "Epoch 56/100\n",
      "45/45 - 14s - loss: 0.0021 - accuracy: 1.0000 - val_loss: 0.3877 - val_accuracy: 0.8987 - 14s/epoch - 317ms/step\n",
      "Epoch 57/100\n",
      "45/45 - 14s - loss: 0.0019 - accuracy: 1.0000 - val_loss: 0.3864 - val_accuracy: 0.8987 - 14s/epoch - 317ms/step\n",
      "Epoch 58/100\n",
      "45/45 - 14s - loss: 0.0019 - accuracy: 1.0000 - val_loss: 0.3923 - val_accuracy: 0.8973 - 14s/epoch - 317ms/step\n",
      "Epoch 59/100\n",
      "45/45 - 14s - loss: 0.0018 - accuracy: 1.0000 - val_loss: 0.3954 - val_accuracy: 0.9001 - 14s/epoch - 317ms/step\n",
      "Epoch 60/100\n",
      "45/45 - 14s - loss: 0.0016 - accuracy: 1.0000 - val_loss: 0.4030 - val_accuracy: 0.9001 - 14s/epoch - 317ms/step\n",
      "Epoch 61/100\n",
      "45/45 - 14s - loss: 0.0015 - accuracy: 1.0000 - val_loss: 0.4141 - val_accuracy: 0.8945 - 14s/epoch - 317ms/step\n",
      "Epoch 62/100\n",
      "45/45 - 14s - loss: 0.0016 - accuracy: 1.0000 - val_loss: 0.4055 - val_accuracy: 0.8973 - 14s/epoch - 317ms/step\n",
      "Epoch 63/100\n",
      "45/45 - 14s - loss: 0.0014 - accuracy: 1.0000 - val_loss: 0.4555 - val_accuracy: 0.8875 - 14s/epoch - 317ms/step\n",
      "Epoch 64/100\n",
      "45/45 - 14s - loss: 0.0014 - accuracy: 1.0000 - val_loss: 0.4273 - val_accuracy: 0.8945 - 14s/epoch - 317ms/step\n",
      "Epoch 65/100\n",
      "45/45 - 14s - loss: 0.0014 - accuracy: 1.0000 - val_loss: 0.4108 - val_accuracy: 0.9001 - 14s/epoch - 317ms/step\n"
     ]
    },
    {
     "name": "stdout",
     "output_type": "stream",
     "text": [
      "Epoch 66/100\n",
      "45/45 - 14s - loss: 0.0013 - accuracy: 1.0000 - val_loss: 0.4141 - val_accuracy: 0.9001 - 14s/epoch - 316ms/step\n",
      "Epoch 67/100\n",
      "45/45 - 14s - loss: 0.0012 - accuracy: 1.0000 - val_loss: 0.4254 - val_accuracy: 0.8945 - 14s/epoch - 317ms/step\n",
      "Epoch 68/100\n",
      "45/45 - 14s - loss: 0.0012 - accuracy: 1.0000 - val_loss: 0.4329 - val_accuracy: 0.8945 - 14s/epoch - 318ms/step\n",
      "Epoch 69/100\n",
      "45/45 - 14s - loss: 0.0012 - accuracy: 1.0000 - val_loss: 0.4564 - val_accuracy: 0.8889 - 14s/epoch - 317ms/step\n",
      "Epoch 70/100\n",
      "45/45 - 14s - loss: 0.0012 - accuracy: 1.0000 - val_loss: 0.4555 - val_accuracy: 0.8875 - 14s/epoch - 317ms/step\n",
      "Epoch 71/100\n",
      "45/45 - 14s - loss: 0.0011 - accuracy: 1.0000 - val_loss: 0.4473 - val_accuracy: 0.8917 - 14s/epoch - 317ms/step\n",
      "Epoch 72/100\n",
      "45/45 - 14s - loss: 0.0011 - accuracy: 1.0000 - val_loss: 0.4359 - val_accuracy: 0.8973 - 14s/epoch - 316ms/step\n",
      "Epoch 73/100\n",
      "45/45 - 14s - loss: 0.0011 - accuracy: 1.0000 - val_loss: 0.4182 - val_accuracy: 0.9015 - 14s/epoch - 317ms/step\n",
      "Epoch 74/100\n",
      "45/45 - 14s - loss: 0.0010 - accuracy: 1.0000 - val_loss: 0.4310 - val_accuracy: 0.8973 - 14s/epoch - 318ms/step\n",
      "Epoch 75/100\n",
      "45/45 - 14s - loss: 0.0011 - accuracy: 1.0000 - val_loss: 0.4386 - val_accuracy: 0.8959 - 14s/epoch - 316ms/step\n",
      "Epoch 76/100\n",
      "45/45 - 14s - loss: 9.9656e-04 - accuracy: 1.0000 - val_loss: 0.4328 - val_accuracy: 0.8959 - 14s/epoch - 317ms/step\n",
      "Epoch 77/100\n",
      "45/45 - 14s - loss: 9.7335e-04 - accuracy: 1.0000 - val_loss: 0.4604 - val_accuracy: 0.8917 - 14s/epoch - 317ms/step\n",
      "Epoch 78/100\n",
      "45/45 - 14s - loss: 9.6586e-04 - accuracy: 1.0000 - val_loss: 0.4456 - val_accuracy: 0.8931 - 14s/epoch - 317ms/step\n",
      "Epoch 79/100\n",
      "45/45 - 14s - loss: 9.4285e-04 - accuracy: 1.0000 - val_loss: 0.4479 - val_accuracy: 0.8917 - 14s/epoch - 317ms/step\n",
      "Epoch 80/100\n",
      "45/45 - 14s - loss: 9.4548e-04 - accuracy: 1.0000 - val_loss: 0.4372 - val_accuracy: 0.8973 - 14s/epoch - 317ms/step\n",
      "Epoch 81/100\n",
      "45/45 - 14s - loss: 9.5241e-04 - accuracy: 1.0000 - val_loss: 0.4317 - val_accuracy: 0.8987 - 14s/epoch - 317ms/step\n",
      "Epoch 82/100\n",
      "45/45 - 14s - loss: 8.7190e-04 - accuracy: 1.0000 - val_loss: 0.4243 - val_accuracy: 0.8987 - 14s/epoch - 317ms/step\n",
      "Epoch 83/100\n",
      "45/45 - 14s - loss: 8.4304e-04 - accuracy: 1.0000 - val_loss: 0.4276 - val_accuracy: 0.9001 - 14s/epoch - 317ms/step\n",
      "Epoch 84/100\n",
      "45/45 - 14s - loss: 8.4950e-04 - accuracy: 1.0000 - val_loss: 0.4424 - val_accuracy: 0.8931 - 14s/epoch - 317ms/step\n",
      "Epoch 85/100\n",
      "45/45 - 14s - loss: 7.9124e-04 - accuracy: 1.0000 - val_loss: 0.4366 - val_accuracy: 0.8973 - 14s/epoch - 317ms/step\n",
      "Epoch 86/100\n",
      "45/45 - 14s - loss: 8.3982e-04 - accuracy: 1.0000 - val_loss: 0.4429 - val_accuracy: 0.8973 - 14s/epoch - 317ms/step\n",
      "Epoch 87/100\n",
      "45/45 - 14s - loss: 8.1200e-04 - accuracy: 1.0000 - val_loss: 0.4340 - val_accuracy: 0.9030 - 14s/epoch - 317ms/step\n",
      "Epoch 88/100\n",
      "45/45 - 14s - loss: 7.7516e-04 - accuracy: 1.0000 - val_loss: 0.4271 - val_accuracy: 0.8973 - 14s/epoch - 317ms/step\n",
      "Epoch 89/100\n",
      "45/45 - 14s - loss: 7.5301e-04 - accuracy: 1.0000 - val_loss: 0.4324 - val_accuracy: 0.9044 - 14s/epoch - 317ms/step\n",
      "Epoch 90/100\n",
      "45/45 - 14s - loss: 7.3460e-04 - accuracy: 1.0000 - val_loss: 0.4452 - val_accuracy: 0.8959 - 14s/epoch - 316ms/step\n",
      "Epoch 91/100\n",
      "45/45 - 14s - loss: 7.5683e-04 - accuracy: 1.0000 - val_loss: 0.4468 - val_accuracy: 0.8945 - 14s/epoch - 317ms/step\n",
      "Epoch 92/100\n",
      "45/45 - 14s - loss: 7.4627e-04 - accuracy: 1.0000 - val_loss: 0.4980 - val_accuracy: 0.8917 - 14s/epoch - 317ms/step\n",
      "Epoch 93/100\n",
      "45/45 - 14s - loss: 7.0009e-04 - accuracy: 1.0000 - val_loss: 0.4519 - val_accuracy: 0.8959 - 14s/epoch - 317ms/step\n",
      "Epoch 94/100\n",
      "45/45 - 14s - loss: 7.3042e-04 - accuracy: 1.0000 - val_loss: 0.4397 - val_accuracy: 0.9030 - 14s/epoch - 317ms/step\n",
      "Epoch 95/100\n",
      "45/45 - 14s - loss: 7.0624e-04 - accuracy: 1.0000 - val_loss: 0.4356 - val_accuracy: 0.8987 - 14s/epoch - 317ms/step\n",
      "Epoch 96/100\n",
      "45/45 - 14s - loss: 6.7464e-04 - accuracy: 1.0000 - val_loss: 0.4408 - val_accuracy: 0.9001 - 14s/epoch - 317ms/step\n",
      "Epoch 97/100\n",
      "45/45 - 14s - loss: 6.5783e-04 - accuracy: 1.0000 - val_loss: 0.4381 - val_accuracy: 0.8959 - 14s/epoch - 317ms/step\n",
      "Epoch 98/100\n",
      "45/45 - 14s - loss: 6.4054e-04 - accuracy: 1.0000 - val_loss: 0.4712 - val_accuracy: 0.8889 - 14s/epoch - 317ms/step\n",
      "Epoch 99/100\n",
      "45/45 - 14s - loss: 6.4286e-04 - accuracy: 1.0000 - val_loss: 0.4573 - val_accuracy: 0.8903 - 14s/epoch - 316ms/step\n",
      "Epoch 100/100\n",
      "45/45 - 14s - loss: 6.2539e-04 - accuracy: 1.0000 - val_loss: 0.4798 - val_accuracy: 0.8917 - 14s/epoch - 317ms/step\n",
      "Accuracy Score =  0.9043600559234619\n",
      "accuracy: 91.53%\n"
     ]
    },
    {
     "name": "stderr",
     "output_type": "stream",
     "text": [
      "WARNING:absl:Found untraced functions such as _jit_compiled_convolution_op, _jit_compiled_convolution_op, _jit_compiled_convolution_op, _jit_compiled_convolution_op, _jit_compiled_convolution_op while saving (showing 5 of 55). These functions will not be directly callable after loading.\n"
     ]
    },
    {
     "name": "stdout",
     "output_type": "stream",
     "text": [
      "INFO:tensorflow:Assets written to: resnet50_100epochs_augmented_kfold_2.npy\\assets\n"
     ]
    },
    {
     "name": "stderr",
     "output_type": "stream",
     "text": [
      "INFO:tensorflow:Assets written to: resnet50_100epochs_augmented_kfold_2.npy\\assets\n",
      "C:\\Users\\tmcle\\.conda\\envs\\tf\\lib\\site-packages\\keras\\backend.py:451: UserWarning: `tf.keras.backend.set_learning_phase` is deprecated and will be removed after 2020-10-11. To update it, simply pass a True/False value to the `training` argument of the `__call__` method of your layer or model.\n",
      "  warnings.warn(\n"
     ]
    },
    {
     "name": "stdout",
     "output_type": "stream",
     "text": [
      "Epoch 1/100\n",
      "45/45 - 23s - loss: 2.0628 - accuracy: 0.2764 - val_loss: 105437143040.0000 - val_accuracy: 0.2563 - 23s/epoch - 506ms/step\n",
      "Epoch 2/100\n",
      "45/45 - 14s - loss: 1.6546 - accuracy: 0.2693 - val_loss: 14109.0342 - val_accuracy: 0.2408 - 14s/epoch - 314ms/step\n",
      "Epoch 3/100\n",
      "45/45 - 14s - loss: 1.5215 - accuracy: 0.2883 - val_loss: 2.3825 - val_accuracy: 0.2408 - 14s/epoch - 315ms/step\n",
      "Epoch 4/100\n",
      "45/45 - 14s - loss: 1.4393 - accuracy: 0.3474 - val_loss: 1.4837 - val_accuracy: 0.2507 - 14s/epoch - 315ms/step\n",
      "Epoch 5/100\n",
      "45/45 - 14s - loss: 1.2867 - accuracy: 0.3959 - val_loss: 1.5251 - val_accuracy: 0.2507 - 14s/epoch - 314ms/step\n",
      "Epoch 6/100\n",
      "45/45 - 14s - loss: 1.1588 - accuracy: 0.4627 - val_loss: 1.6438 - val_accuracy: 0.2507 - 14s/epoch - 315ms/step\n",
      "Epoch 7/100\n",
      "45/45 - 14s - loss: 1.0401 - accuracy: 0.5225 - val_loss: 1.8512 - val_accuracy: 0.2507 - 14s/epoch - 315ms/step\n",
      "Epoch 8/100\n",
      "45/45 - 14s - loss: 0.9237 - accuracy: 0.5865 - val_loss: 2.0019 - val_accuracy: 0.2507 - 14s/epoch - 315ms/step\n",
      "Epoch 9/100\n",
      "45/45 - 14s - loss: 0.8118 - accuracy: 0.6392 - val_loss: 2.2089 - val_accuracy: 0.2507 - 14s/epoch - 315ms/step\n",
      "Epoch 10/100\n",
      "45/45 - 14s - loss: 0.7990 - accuracy: 0.6428 - val_loss: 1.7265 - val_accuracy: 0.2563 - 14s/epoch - 315ms/step\n",
      "Epoch 11/100\n",
      "45/45 - 14s - loss: 0.7888 - accuracy: 0.6498 - val_loss: 1.7980 - val_accuracy: 0.2563 - 14s/epoch - 315ms/step\n",
      "Epoch 12/100\n",
      "45/45 - 14s - loss: 0.6914 - accuracy: 0.7075 - val_loss: 1.9006 - val_accuracy: 0.2563 - 14s/epoch - 315ms/step\n",
      "Epoch 13/100\n",
      "45/45 - 14s - loss: 0.6069 - accuracy: 0.7518 - val_loss: 2.2222 - val_accuracy: 0.2563 - 14s/epoch - 316ms/step\n",
      "Epoch 14/100\n",
      "45/45 - 14s - loss: 0.5696 - accuracy: 0.7729 - val_loss: 2.3092 - val_accuracy: 0.2563 - 14s/epoch - 316ms/step\n",
      "Epoch 15/100\n",
      "45/45 - 14s - loss: 0.5780 - accuracy: 0.7722 - val_loss: 1.9205 - val_accuracy: 0.2521 - 14s/epoch - 316ms/step\n",
      "Epoch 16/100\n",
      "45/45 - 14s - loss: 0.5402 - accuracy: 0.7813 - val_loss: 2.2854 - val_accuracy: 0.2563 - 14s/epoch - 317ms/step\n",
      "Epoch 17/100\n",
      "45/45 - 14s - loss: 0.4605 - accuracy: 0.8193 - val_loss: 1.7423 - val_accuracy: 0.2746 - 14s/epoch - 317ms/step\n",
      "Epoch 18/100\n",
      "45/45 - 14s - loss: 0.3727 - accuracy: 0.8692 - val_loss: 3.0167 - val_accuracy: 0.2746 - 14s/epoch - 317ms/step\n",
      "Epoch 19/100\n",
      "45/45 - 14s - loss: 0.3592 - accuracy: 0.8727 - val_loss: 3.8682 - val_accuracy: 0.2521 - 14s/epoch - 317ms/step\n",
      "Epoch 20/100\n",
      "45/45 - 14s - loss: 0.2922 - accuracy: 0.9037 - val_loss: 2.3910 - val_accuracy: 0.3127 - 14s/epoch - 317ms/step\n",
      "Epoch 21/100\n",
      "45/45 - 14s - loss: 0.2803 - accuracy: 0.9001 - val_loss: 3.8414 - val_accuracy: 0.2662 - 14s/epoch - 317ms/step\n",
      "Epoch 22/100\n",
      "45/45 - 14s - loss: 0.2270 - accuracy: 0.9219 - val_loss: 2.7037 - val_accuracy: 0.2127 - 14s/epoch - 317ms/step\n",
      "Epoch 23/100\n",
      "45/45 - 14s - loss: 0.2459 - accuracy: 0.9135 - val_loss: 3.8502 - val_accuracy: 0.2704 - 14s/epoch - 318ms/step\n",
      "Epoch 24/100\n",
      "45/45 - 14s - loss: 0.1919 - accuracy: 0.9311 - val_loss: 2.9163 - val_accuracy: 0.3859 - 14s/epoch - 317ms/step\n",
      "Epoch 25/100\n",
      "45/45 - 14s - loss: 0.1292 - accuracy: 0.9655 - val_loss: 2.7807 - val_accuracy: 0.5268 - 14s/epoch - 318ms/step\n",
      "Epoch 26/100\n",
      "45/45 - 14s - loss: 0.1611 - accuracy: 0.9487 - val_loss: 1.4682 - val_accuracy: 0.6380 - 14s/epoch - 317ms/step\n",
      "Epoch 27/100\n",
      "45/45 - 14s - loss: 0.1249 - accuracy: 0.9613 - val_loss: 0.9569 - val_accuracy: 0.7014 - 14s/epoch - 317ms/step\n",
      "Epoch 28/100\n",
      "45/45 - 14s - loss: 0.1113 - accuracy: 0.9677 - val_loss: 1.1893 - val_accuracy: 0.6972 - 14s/epoch - 317ms/step\n",
      "Epoch 29/100\n",
      "45/45 - 14s - loss: 0.0741 - accuracy: 0.9817 - val_loss: 0.7932 - val_accuracy: 0.7944 - 14s/epoch - 318ms/step\n",
      "Epoch 30/100\n",
      "45/45 - 14s - loss: 0.0776 - accuracy: 0.9775 - val_loss: 1.3398 - val_accuracy: 0.6507 - 14s/epoch - 318ms/step\n",
      "Epoch 31/100\n",
      "45/45 - 14s - loss: 0.0892 - accuracy: 0.9754 - val_loss: 0.7190 - val_accuracy: 0.8197 - 14s/epoch - 317ms/step\n",
      "Epoch 32/100\n",
      "45/45 - 14s - loss: 0.0970 - accuracy: 0.9726 - val_loss: 5.0669 - val_accuracy: 0.4775 - 14s/epoch - 317ms/step\n",
      "Epoch 33/100\n",
      "45/45 - 14s - loss: 0.0703 - accuracy: 0.9824 - val_loss: 2.7727 - val_accuracy: 0.5141 - 14s/epoch - 317ms/step\n",
      "Epoch 34/100\n",
      "45/45 - 14s - loss: 0.0480 - accuracy: 0.9845 - val_loss: 3.5805 - val_accuracy: 0.3958 - 14s/epoch - 317ms/step\n",
      "Epoch 35/100\n",
      "45/45 - 14s - loss: 0.0588 - accuracy: 0.9859 - val_loss: 5.4138 - val_accuracy: 0.3563 - 14s/epoch - 317ms/step\n",
      "Epoch 36/100\n",
      "45/45 - 14s - loss: 0.0581 - accuracy: 0.9824 - val_loss: 4.0530 - val_accuracy: 0.4648 - 14s/epoch - 317ms/step\n",
      "Epoch 37/100\n",
      "45/45 - 14s - loss: 0.0645 - accuracy: 0.9831 - val_loss: 5.3530 - val_accuracy: 0.3972 - 14s/epoch - 317ms/step\n",
      "Epoch 38/100\n",
      "45/45 - 14s - loss: 0.0520 - accuracy: 0.9859 - val_loss: 1.0658 - val_accuracy: 0.7761 - 14s/epoch - 317ms/step\n",
      "Epoch 39/100\n",
      "45/45 - 14s - loss: 0.0575 - accuracy: 0.9845 - val_loss: 1.6876 - val_accuracy: 0.6930 - 14s/epoch - 317ms/step\n",
      "Epoch 40/100\n",
      "45/45 - 14s - loss: 0.0358 - accuracy: 0.9923 - val_loss: 3.7351 - val_accuracy: 0.4507 - 14s/epoch - 317ms/step\n",
      "Epoch 41/100\n",
      "45/45 - 14s - loss: 0.0246 - accuracy: 0.9944 - val_loss: 3.0870 - val_accuracy: 0.4732 - 14s/epoch - 317ms/step\n",
      "Epoch 42/100\n",
      "45/45 - 14s - loss: 0.0240 - accuracy: 0.9951 - val_loss: 7.1085 - val_accuracy: 0.3197 - 14s/epoch - 317ms/step\n",
      "Epoch 43/100\n",
      "45/45 - 14s - loss: 0.0471 - accuracy: 0.9887 - val_loss: 1.6753 - val_accuracy: 0.7324 - 14s/epoch - 317ms/step\n",
      "Epoch 44/100\n",
      "45/45 - 14s - loss: 0.0823 - accuracy: 0.9761 - val_loss: 4.8682 - val_accuracy: 0.4606 - 14s/epoch - 317ms/step\n",
      "Epoch 45/100\n",
      "45/45 - 14s - loss: 0.0458 - accuracy: 0.9887 - val_loss: 1.6084 - val_accuracy: 0.6803 - 14s/epoch - 318ms/step\n",
      "Epoch 46/100\n",
      "45/45 - 14s - loss: 0.0536 - accuracy: 0.9880 - val_loss: 15.5900 - val_accuracy: 0.2662 - 14s/epoch - 318ms/step\n",
      "Epoch 47/100\n",
      "45/45 - 14s - loss: 0.0493 - accuracy: 0.9873 - val_loss: 3.6096 - val_accuracy: 0.5070 - 14s/epoch - 317ms/step\n",
      "Epoch 48/100\n",
      "45/45 - 14s - loss: 0.0429 - accuracy: 0.9880 - val_loss: 19.5407 - val_accuracy: 0.2606 - 14s/epoch - 318ms/step\n",
      "Epoch 49/100\n",
      "45/45 - 14s - loss: 0.0304 - accuracy: 0.9937 - val_loss: 11.5698 - val_accuracy: 0.3028 - 14s/epoch - 317ms/step\n",
      "Epoch 50/100\n",
      "45/45 - 14s - loss: 0.0518 - accuracy: 0.9845 - val_loss: 5.9057 - val_accuracy: 0.3592 - 14s/epoch - 317ms/step\n",
      "Epoch 51/100\n",
      "45/45 - 14s - loss: 0.0397 - accuracy: 0.9923 - val_loss: 4.9439 - val_accuracy: 0.4225 - 14s/epoch - 317ms/step\n",
      "Epoch 52/100\n",
      "45/45 - 14s - loss: 0.0501 - accuracy: 0.9880 - val_loss: 2.0944 - val_accuracy: 0.6789 - 14s/epoch - 317ms/step\n",
      "Epoch 53/100\n",
      "45/45 - 14s - loss: 0.0271 - accuracy: 0.9958 - val_loss: 1.5468 - val_accuracy: 0.6789 - 14s/epoch - 317ms/step\n",
      "Epoch 54/100\n",
      "45/45 - 14s - loss: 0.0250 - accuracy: 0.9951 - val_loss: 3.9171 - val_accuracy: 0.4831 - 14s/epoch - 317ms/step\n",
      "Epoch 55/100\n",
      "45/45 - 14s - loss: 0.0503 - accuracy: 0.9859 - val_loss: 1.5564 - val_accuracy: 0.7606 - 14s/epoch - 317ms/step\n",
      "Epoch 56/100\n",
      "45/45 - 14s - loss: 0.0396 - accuracy: 0.9895 - val_loss: 1.2965 - val_accuracy: 0.7789 - 14s/epoch - 317ms/step\n",
      "Epoch 57/100\n",
      "45/45 - 14s - loss: 0.0451 - accuracy: 0.9895 - val_loss: 4.1369 - val_accuracy: 0.5042 - 14s/epoch - 317ms/step\n",
      "Epoch 58/100\n",
      "45/45 - 14s - loss: 0.0237 - accuracy: 0.9937 - val_loss: 6.3660 - val_accuracy: 0.3873 - 14s/epoch - 318ms/step\n",
      "Epoch 59/100\n",
      "45/45 - 14s - loss: 0.0336 - accuracy: 0.9944 - val_loss: 29.9101 - val_accuracy: 0.2690 - 14s/epoch - 317ms/step\n",
      "Epoch 60/100\n",
      "45/45 - 14s - loss: 0.0292 - accuracy: 0.9930 - val_loss: 4.2810 - val_accuracy: 0.4803 - 14s/epoch - 317ms/step\n",
      "Epoch 61/100\n",
      "45/45 - 14s - loss: 0.0192 - accuracy: 0.9958 - val_loss: 4.8544 - val_accuracy: 0.4761 - 14s/epoch - 317ms/step\n",
      "Epoch 62/100\n",
      "45/45 - 14s - loss: 0.0255 - accuracy: 0.9944 - val_loss: 2.0758 - val_accuracy: 0.6718 - 14s/epoch - 317ms/step\n",
      "Epoch 63/100\n",
      "45/45 - 14s - loss: 0.0338 - accuracy: 0.9916 - val_loss: 11.5506 - val_accuracy: 0.3183 - 14s/epoch - 317ms/step\n",
      "Epoch 64/100\n",
      "45/45 - 14s - loss: 0.0393 - accuracy: 0.9923 - val_loss: 2.3283 - val_accuracy: 0.6225 - 14s/epoch - 317ms/step\n",
      "Epoch 65/100\n",
      "45/45 - 14s - loss: 0.0279 - accuracy: 0.9937 - val_loss: 2.9182 - val_accuracy: 0.6789 - 14s/epoch - 317ms/step\n"
     ]
    },
    {
     "name": "stdout",
     "output_type": "stream",
     "text": [
      "Epoch 66/100\n",
      "45/45 - 14s - loss: 0.0509 - accuracy: 0.9852 - val_loss: 3.6372 - val_accuracy: 0.5338 - 14s/epoch - 317ms/step\n",
      "Epoch 67/100\n",
      "45/45 - 14s - loss: 0.0632 - accuracy: 0.9789 - val_loss: 8.1471 - val_accuracy: 0.4648 - 14s/epoch - 318ms/step\n",
      "Epoch 68/100\n",
      "45/45 - 14s - loss: 0.0276 - accuracy: 0.9930 - val_loss: 0.8229 - val_accuracy: 0.8296 - 14s/epoch - 317ms/step\n",
      "Epoch 69/100\n",
      "45/45 - 14s - loss: 0.0778 - accuracy: 0.9810 - val_loss: 2.7378 - val_accuracy: 0.5549 - 14s/epoch - 318ms/step\n",
      "Epoch 70/100\n",
      "45/45 - 14s - loss: 0.0615 - accuracy: 0.9852 - val_loss: 2.6790 - val_accuracy: 0.5831 - 14s/epoch - 318ms/step\n",
      "Epoch 71/100\n",
      "45/45 - 14s - loss: 0.0278 - accuracy: 0.9958 - val_loss: 1.3703 - val_accuracy: 0.7789 - 14s/epoch - 317ms/step\n",
      "Epoch 72/100\n",
      "45/45 - 14s - loss: 0.0214 - accuracy: 0.9951 - val_loss: 2.7176 - val_accuracy: 0.6127 - 14s/epoch - 317ms/step\n",
      "Epoch 73/100\n",
      "45/45 - 14s - loss: 0.0168 - accuracy: 0.9972 - val_loss: 1.7945 - val_accuracy: 0.7380 - 14s/epoch - 317ms/step\n",
      "Epoch 74/100\n",
      "45/45 - 14s - loss: 0.0637 - accuracy: 0.9838 - val_loss: 1.3345 - val_accuracy: 0.7620 - 14s/epoch - 317ms/step\n",
      "Epoch 75/100\n",
      "45/45 - 14s - loss: 0.0249 - accuracy: 0.9937 - val_loss: 2.9111 - val_accuracy: 0.5789 - 14s/epoch - 317ms/step\n",
      "Epoch 76/100\n",
      "45/45 - 14s - loss: 0.0261 - accuracy: 0.9937 - val_loss: 4.1708 - val_accuracy: 0.4746 - 14s/epoch - 317ms/step\n",
      "Epoch 77/100\n",
      "45/45 - 14s - loss: 0.0277 - accuracy: 0.9937 - val_loss: 0.6610 - val_accuracy: 0.8310 - 14s/epoch - 317ms/step\n",
      "Epoch 78/100\n",
      "45/45 - 14s - loss: 0.0177 - accuracy: 0.9965 - val_loss: 1.0266 - val_accuracy: 0.7718 - 14s/epoch - 317ms/step\n",
      "Epoch 79/100\n",
      "45/45 - 14s - loss: 0.0107 - accuracy: 0.9979 - val_loss: 0.6014 - val_accuracy: 0.8451 - 14s/epoch - 317ms/step\n",
      "Epoch 80/100\n",
      "45/45 - 14s - loss: 0.0068 - accuracy: 1.0000 - val_loss: 0.6672 - val_accuracy: 0.8408 - 14s/epoch - 317ms/step\n",
      "Epoch 81/100\n",
      "45/45 - 14s - loss: 0.0044 - accuracy: 1.0000 - val_loss: 0.5839 - val_accuracy: 0.8465 - 14s/epoch - 317ms/step\n",
      "Epoch 82/100\n",
      "45/45 - 14s - loss: 0.0035 - accuracy: 1.0000 - val_loss: 0.6126 - val_accuracy: 0.8408 - 14s/epoch - 317ms/step\n",
      "Epoch 83/100\n",
      "45/45 - 14s - loss: 0.0028 - accuracy: 1.0000 - val_loss: 0.6413 - val_accuracy: 0.8408 - 14s/epoch - 318ms/step\n",
      "Epoch 84/100\n",
      "45/45 - 14s - loss: 0.0023 - accuracy: 1.0000 - val_loss: 0.6725 - val_accuracy: 0.8366 - 14s/epoch - 318ms/step\n",
      "Epoch 85/100\n",
      "45/45 - 14s - loss: 0.0020 - accuracy: 1.0000 - val_loss: 0.6709 - val_accuracy: 0.8394 - 14s/epoch - 317ms/step\n",
      "Epoch 86/100\n",
      "45/45 - 14s - loss: 0.0017 - accuracy: 1.0000 - val_loss: 0.6698 - val_accuracy: 0.8394 - 14s/epoch - 317ms/step\n",
      "Epoch 87/100\n",
      "45/45 - 14s - loss: 0.0014 - accuracy: 1.0000 - val_loss: 0.6458 - val_accuracy: 0.8451 - 14s/epoch - 318ms/step\n",
      "Epoch 88/100\n",
      "45/45 - 14s - loss: 0.0012 - accuracy: 1.0000 - val_loss: 0.6309 - val_accuracy: 0.8451 - 14s/epoch - 318ms/step\n",
      "Epoch 89/100\n",
      "45/45 - 14s - loss: 0.0011 - accuracy: 1.0000 - val_loss: 0.6077 - val_accuracy: 0.8465 - 14s/epoch - 318ms/step\n",
      "Epoch 90/100\n",
      "45/45 - 14s - loss: 0.0010 - accuracy: 1.0000 - val_loss: 0.5906 - val_accuracy: 0.8563 - 14s/epoch - 317ms/step\n",
      "Epoch 91/100\n",
      "45/45 - 14s - loss: 9.4506e-04 - accuracy: 1.0000 - val_loss: 0.5650 - val_accuracy: 0.8620 - 14s/epoch - 318ms/step\n",
      "Epoch 92/100\n",
      "45/45 - 14s - loss: 9.1055e-04 - accuracy: 1.0000 - val_loss: 0.5530 - val_accuracy: 0.8606 - 14s/epoch - 317ms/step\n",
      "Epoch 93/100\n",
      "45/45 - 14s - loss: 9.0714e-04 - accuracy: 1.0000 - val_loss: 0.5208 - val_accuracy: 0.8676 - 14s/epoch - 317ms/step\n",
      "Epoch 94/100\n",
      "45/45 - 14s - loss: 8.3004e-04 - accuracy: 1.0000 - val_loss: 0.5136 - val_accuracy: 0.8690 - 14s/epoch - 317ms/step\n",
      "Epoch 95/100\n",
      "45/45 - 14s - loss: 7.5189e-04 - accuracy: 1.0000 - val_loss: 0.5315 - val_accuracy: 0.8690 - 14s/epoch - 317ms/step\n",
      "Epoch 96/100\n",
      "45/45 - 14s - loss: 7.0056e-04 - accuracy: 1.0000 - val_loss: 0.5328 - val_accuracy: 0.8704 - 14s/epoch - 317ms/step\n",
      "Epoch 97/100\n",
      "45/45 - 14s - loss: 6.7118e-04 - accuracy: 1.0000 - val_loss: 0.5292 - val_accuracy: 0.8704 - 14s/epoch - 318ms/step\n",
      "Epoch 98/100\n",
      "45/45 - 14s - loss: 6.4417e-04 - accuracy: 1.0000 - val_loss: 0.5161 - val_accuracy: 0.8676 - 14s/epoch - 317ms/step\n",
      "Epoch 99/100\n",
      "45/45 - 14s - loss: 6.3505e-04 - accuracy: 1.0000 - val_loss: 0.5302 - val_accuracy: 0.8732 - 14s/epoch - 317ms/step\n",
      "Epoch 100/100\n",
      "45/45 - 14s - loss: 6.2675e-04 - accuracy: 1.0000 - val_loss: 0.5237 - val_accuracy: 0.8704 - 14s/epoch - 317ms/step\n",
      "Accuracy Score =  0.8732394576072693\n",
      "accuracy: 88.56%\n"
     ]
    },
    {
     "name": "stderr",
     "output_type": "stream",
     "text": [
      "WARNING:absl:Found untraced functions such as _jit_compiled_convolution_op, _jit_compiled_convolution_op, _jit_compiled_convolution_op, _jit_compiled_convolution_op, _jit_compiled_convolution_op while saving (showing 5 of 55). These functions will not be directly callable after loading.\n"
     ]
    },
    {
     "name": "stdout",
     "output_type": "stream",
     "text": [
      "INFO:tensorflow:Assets written to: resnet50_100epochs_augmented_kfold_3.npy\\assets\n"
     ]
    },
    {
     "name": "stderr",
     "output_type": "stream",
     "text": [
      "INFO:tensorflow:Assets written to: resnet50_100epochs_augmented_kfold_3.npy\\assets\n"
     ]
    },
    {
     "data": {
      "image/png": "[encoded data removed]",
      "text/plain": [
       "<Figure size 1000x1000 with 2 Axes>"
      ]
     },
     "metadata": {},
     "output_type": "display_data"
    },
    {
     "data": {
      "image/png": "[encoded data removed]",
      "text/plain": [
       "<Figure size 1000x1000 with 2 Axes>"
      ]
     },
     "metadata": {},
     "output_type": "display_data"
    },
    {
     "data": {
      "image/png": "[encoded data removed]",
      "text/plain": [
       "<Figure size 1000x1000 with 2 Axes>"
      ]
     },
     "metadata": {},
     "output_type": "display_data"
    }
   ],
   "source": [
    "for train, test in kfold.split (data_x, data_y):\n",
    "    new_model = define_model()\n",
    "\n",
    "    new_model.compile(loss='sparse_categorical_crossentropy', metrics=['accuracy'], optimizer=adam)\n",
    "    history = new_model.fit(data_x[train], data_y[train],\n",
    "                                epochs=epochs,verbose=2,validation_data=(data_x[test], data_y[test]), shuffle=False)\n",
    "\n",
    "    new_model.history.history.keys()\n",
    "    f,ax=plt.subplots(2,1,figsize=(10,10)) \n",
    "\n",
    "    #Assigning the first subplot to graph training loss and validation loss\n",
    "    ax[0].plot(new_model.history.history['loss'],color='b',label='Training Loss')\n",
    "    ax[0].plot(new_model.history.history['val_loss'],color='r',label='Validation Loss')\n",
    "\n",
    "    #Plotting the training accuracy and validation accuracy\n",
    "    ax[1].plot(new_model.history.history['accuracy'],color='b',label='Training  Accuracy')\n",
    "    ax[1].plot(new_model.history.history['val_accuracy'],color='r',label='Validation Accuracy')\n",
    "\n",
    "    plt.legend()\n",
    "    print('Accuracy Score = ',np.max(history.history['val_accuracy']))\n",
    "\n",
    "    scores = new_model.evaluate(validation_x,validation_y,verbose=0)\n",
    "    print(\"%s: %.2f%%\" %(new_model.metrics_names[1],scores[1]*100))\n",
    "    cvscores.append(scores[1]*100)\n",
    "    \n",
    "    new_model.save(f'resnet50_100epochs_augmented_kfold_{str(num_kfold)}.npy')\n",
    "    all_models.append(new_model)\n",
    "    num_kfold = num_kfold + 1"
   ]
  },
  {
   "cell_type": "code",
   "execution_count": 16,
   "metadata": {},
   "outputs": [
    {
     "name": "stdout",
     "output_type": "stream",
     "text": [
      "90.96% (+/- 1.78%)\n"
     ]
    }
   ],
   "source": [
    "print(\"%.2f%% (+/- %.2f%%)\" %(np.mean(cvscores),np.std(cvscores)))"
   ]
  },
  {
   "cell_type": "markdown",
   "metadata": {},
   "source": [
    "**Random forest - flatting**"
   ]
  },
  {
   "cell_type": "code",
   "execution_count": 18,
   "metadata": {},
   "outputs": [
    {
     "name": "stdout",
     "output_type": "stream",
     "text": [
      "67/67 [==============================] - 6s 75ms/step\n",
      "8/8 [==============================] - 1s 75ms/step\n",
      "Accuracy: 0.9194915254237288\n"
     ]
    },
    {
     "ename": "InternalError",
     "evalue": "Failed copying input tensor from /job:localhost/replica:0/task:0/device:CPU:0 to /job:localhost/replica:0/task:0/device:GPU:0 in order to run _EagerConst: Dst tensor is not initialized.",
     "output_type": "error",
     "traceback": [
      "\u001b[1;31m---------------------------------------------------------------------------\u001b[0m",
      "\u001b[1;31mInternalError\u001b[0m                             Traceback (most recent call last)",
      "Cell \u001b[1;32mIn[18], line 6\u001b[0m\n\u001b[0;32m      4\u001b[0m \u001b[38;5;28;01mfor\u001b[39;00m new_model \u001b[38;5;129;01min\u001b[39;00m all_models:\n\u001b[0;32m      5\u001b[0m     new_model_rf \u001b[38;5;241m=\u001b[39m keras\u001b[38;5;241m.\u001b[39mModel(inputs\u001b[38;5;241m=\u001b[39mnew_model\u001b[38;5;241m.\u001b[39minput, outputs\u001b[38;5;241m=\u001b[39mnew_model\u001b[38;5;241m.\u001b[39mget_layer(index\u001b[38;5;241m=\u001b[39m\u001b[38;5;241m9\u001b[39m)\u001b[38;5;241m.\u001b[39moutput)\n\u001b[1;32m----> 6\u001b[0m     featureVector \u001b[38;5;241m=\u001b[39m \u001b[43mnew_model_rf\u001b[49m\u001b[38;5;241;43m.\u001b[39;49m\u001b[43mpredict\u001b[49m\u001b[43m(\u001b[49m\u001b[43mdata_x\u001b[49m\u001b[43m)\u001b[49m\n\u001b[0;32m      7\u001b[0m     featureVector2 \u001b[38;5;241m=\u001b[39m new_model_rf\u001b[38;5;241m.\u001b[39mpredict(validation_x)\n\u001b[0;32m      8\u001b[0m     clf\u001b[38;5;241m=\u001b[39mRandomForestClassifier(n_estimators\u001b[38;5;241m=\u001b[39m\u001b[38;5;241m100\u001b[39m)\n",
      "File \u001b[1;32m~\\.conda\\envs\\tf\\lib\\site-packages\\keras\\utils\\traceback_utils.py:70\u001b[0m, in \u001b[0;36mfilter_traceback.<locals>.error_handler\u001b[1;34m(*args, **kwargs)\u001b[0m\n\u001b[0;32m     67\u001b[0m     filtered_tb \u001b[38;5;241m=\u001b[39m _process_traceback_frames(e\u001b[38;5;241m.\u001b[39m__traceback__)\n\u001b[0;32m     68\u001b[0m     \u001b[38;5;66;03m# To get the full stack trace, call:\u001b[39;00m\n\u001b[0;32m     69\u001b[0m     \u001b[38;5;66;03m# `tf.debugging.disable_traceback_filtering()`\u001b[39;00m\n\u001b[1;32m---> 70\u001b[0m     \u001b[38;5;28;01mraise\u001b[39;00m e\u001b[38;5;241m.\u001b[39mwith_traceback(filtered_tb) \u001b[38;5;28;01mfrom\u001b[39;00m \u001b[38;5;28;01mNone\u001b[39;00m\n\u001b[0;32m     71\u001b[0m \u001b[38;5;28;01mfinally\u001b[39;00m:\n\u001b[0;32m     72\u001b[0m     \u001b[38;5;28;01mdel\u001b[39;00m filtered_tb\n",
      "File \u001b[1;32m~\\.conda\\envs\\tf\\lib\\site-packages\\tensorflow\\python\\framework\\constant_op.py:102\u001b[0m, in \u001b[0;36mconvert_to_eager_tensor\u001b[1;34m(value, ctx, dtype)\u001b[0m\n\u001b[0;32m    100\u001b[0m     dtype \u001b[38;5;241m=\u001b[39m dtypes\u001b[38;5;241m.\u001b[39mas_dtype(dtype)\u001b[38;5;241m.\u001b[39mas_datatype_enum\n\u001b[0;32m    101\u001b[0m ctx\u001b[38;5;241m.\u001b[39mensure_initialized()\n\u001b[1;32m--> 102\u001b[0m \u001b[38;5;28;01mreturn\u001b[39;00m \u001b[43mops\u001b[49m\u001b[38;5;241;43m.\u001b[39;49m\u001b[43mEagerTensor\u001b[49m\u001b[43m(\u001b[49m\u001b[43mvalue\u001b[49m\u001b[43m,\u001b[49m\u001b[43m \u001b[49m\u001b[43mctx\u001b[49m\u001b[38;5;241;43m.\u001b[39;49m\u001b[43mdevice_name\u001b[49m\u001b[43m,\u001b[49m\u001b[43m \u001b[49m\u001b[43mdtype\u001b[49m\u001b[43m)\u001b[49m\n",
      "\u001b[1;31mInternalError\u001b[0m: Failed copying input tensor from /job:localhost/replica:0/task:0/device:CPU:0 to /job:localhost/replica:0/task:0/device:GPU:0 in order to run _EagerConst: Dst tensor is not initialized."
     ]
    }
   ],
   "source": [
    "from sklearn.ensemble import RandomForestClassifier\n",
    "from sklearn import metrics\n",
    "cvscores_rf = []\n",
    "for new_model in all_models:\n",
    "    new_model_rf = keras.Model(inputs=new_model.input, outputs=new_model.get_layer(index=9).output)\n",
    "    featureVector = new_model_rf.predict(data_x)\n",
    "    featureVector2 = new_model_rf.predict(validation_x)\n",
    "    clf=RandomForestClassifier(n_estimators=100)\n",
    "    clf.fit(featureVector,data_y)\n",
    "    y_pred=clf.predict(featureVector2)\n",
    "    score = metrics.accuracy_score(validation_y, y_pred)\n",
    "    cvscores_rf.append(score)\n",
    "    print(\"Accuracy:\",score)"
   ]
  },
  {
   "cell_type": "code",
   "execution_count": null,
   "metadata": {},
   "outputs": [],
   "source": [
    "print(\"%.2f%% (+/- %.2f%%)\" %(np.mean(cvscores_rf),np.std(cvscores_rf)))"
   ]
  },
  {
   "cell_type": "markdown",
   "metadata": {
    "id": "v2tUu9UW4S_S"
   },
   "source": [
    "# **Testes**"
   ]
  },
  {
   "cell_type": "code",
   "execution_count": null,
   "metadata": {
    "id": "-02BWWgF4V9h"
   },
   "outputs": [],
   "source": [
    "import matplotlib.pyplot as plt\n",
    "\n",
    "accuracy = model_trained.history['acc']\n",
    "val_accuracy = model_trained.history['val_acc']\n",
    "loss = model_trained.history['loss']\n",
    "val_loss = model_trained.history['val_loss']\n",
    "epochs = range(len(accuracy))\n",
    "plt.plot(epochs, accuracy, 'b', label='Acurácia de treino')\n",
    "plt.plot(epochs, val_accuracy, 'g', label='Acurácia de validação')\n",
    "plt.title('Acurácia de treino e validação')\n",
    "plt.legend()\n",
    "plt.figure()\n",
    "plt.plot(epochs, loss, 'b', label='Perda no treino')\n",
    "plt.plot(epochs, val_loss, 'g', label='Perda na validação')\n",
    "plt.title('Perda na validação e treino')\n",
    "plt.legend()\n",
    "plt.show()"
   ]
  },
  {
   "cell_type": "code",
   "execution_count": null,
   "metadata": {
    "id": "On7_hNmrOysp"
   },
   "outputs": [],
   "source": [
    "#avalia a fase de teste\n",
    "\n",
    "model_loss, model_accuracy = new_model.evaluate(test_x, test_y, verbose=1)\n",
    "\n",
    "#mostra o resultado\n",
    "print('Test loss:', model_loss)\n",
    "print('Test accuracy:', model_accuracy)"
   ]
  },
  {
   "cell_type": "code",
   "execution_count": null,
   "metadata": {
    "id": "uGYRlhnq8wsF"
   },
   "outputs": [],
   "source": [
    "#faz a predição das imagens\n",
    "\n",
    "from tensorflow.keras.utils import to_categorical\n",
    "\n",
    "pred = new_model.predict(test_x, verbose=0)\n",
    "\n",
    "pred_probs = np.argmax(pred,axis=1)"
   ]
  },
  {
   "cell_type": "code",
   "execution_count": null,
   "metadata": {
    "id": "Vt4jZ2jB8ygE"
   },
   "outputs": [],
   "source": [
    "from sklearn.metrics import confusion_matrix\n",
    "from sklearn.metrics import classification_report\n",
    "from sklearn.metrics import accuracy_score\n",
    "from sklearn.metrics import f1_score"
   ]
  },
  {
   "cell_type": "code",
   "execution_count": null,
   "metadata": {
    "id": "9gx5yvuU84UC"
   },
   "outputs": [],
   "source": [
    "cm = confusion_matrix(test_y, pred_probs)"
   ]
  },
  {
   "cell_type": "code",
   "execution_count": null,
   "metadata": {
    "id": "NUrE8yfU86OL"
   },
   "outputs": [],
   "source": [
    "#gera os valores de falso positivo, falso negativo, verdadeiro positivo e verdadeiro negativo\n",
    "fp = cm.sum(axis=0) - np.diag(cm)  \n",
    "fn = cm.sum(axis=1) - np.diag(cm)\n",
    "tp = np.diag(cm)\n",
    "tn = cm.sum() - (fp + fn + tp)\n",
    "\n",
    "f1score = f1_score(test_y, pred_probs, average='weighted')\n",
    "sensitivity = tp / (tp + fn)\n",
    "specificity = tn / (tn + fp)\n",
    "accuracy    = (tp + tn) / (tp + tn + fp + fn)\n",
    "precision   = tp / (tp + fp)\n",
    "\n",
    "\n",
    "print(\"F1 Score:\", f1score)\n",
    "print(\"Sensitivity:\", sensitivity)\n",
    "print(\"Specificity:\", specificity)\n",
    "print(\"Precision:  \", precision)\n",
    "print(\"Accuracy:   \", accuracy)"
   ]
  },
  {
   "cell_type": "code",
   "execution_count": null,
   "metadata": {},
   "outputs": [],
   "source": []
  },
  {
   "cell_type": "code",
   "execution_count": null,
   "metadata": {},
   "outputs": [],
   "source": []
  }
 ],
 "metadata": {
  "colab": {
   "collapsed_sections": [],
   "name": "covid_alex_holdout_cropping_tgo.ipynb",
   "provenance": []
  },
  "kernelspec": {
   "display_name": "Python 3 (ipykernel)",
   "language": "python",
   "name": "python3"
  },
  "language_info": {
   "codemirror_mode": {
    "name": "ipython",
    "version": 3
   },
   "file_extension": ".py",
   "mimetype": "text/x-python",
   "name": "python",
   "nbconvert_exporter": "python",
   "pygments_lexer": "ipython3",
   "version": "3.9.17"
  }
 },
 "nbformat": 4,
 "nbformat_minor": 1
}
