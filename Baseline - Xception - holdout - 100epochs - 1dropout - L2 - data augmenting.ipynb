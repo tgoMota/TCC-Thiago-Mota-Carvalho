{
 "cells": [
  {
   "cell_type": "code",
   "execution_count": 16,
   "metadata": {
    "id": "on-xhn6xYqDo"
   },
   "outputs": [],
   "source": [
    "import tensorflow as tf\n",
    "from tensorflow import keras\n",
    "import matplotlib.pyplot as plt\n",
    "import os\n",
    "import time"
   ]
  },
  {
   "cell_type": "code",
   "execution_count": 17,
   "metadata": {
    "id": "Zq5nydmlidrt"
   },
   "outputs": [],
   "source": [
    "import cv2\n",
    "import os\n",
    "from tqdm import tqdm\n",
    "import matplotlib.pyplot as plt\n",
    "import numpy as np\n",
    "import glob\n",
    "from tensorflow.keras.preprocessing.image import ImageDataGenerator\n",
    "from tensorflow.keras.applications import *\n",
    "from tensorflow.keras.layers import *\n",
    "from tensorflow.keras.models import *\n",
    "from tensorflow.keras.optimizers import Adam\n",
    "from tensorflow.keras.utils import to_categorical\n",
    "from sklearn.preprocessing import LabelEncoder\n",
    "from sklearn.metrics import *\n",
    "from tensorflow.keras.callbacks import *"
   ]
  },
  {
   "cell_type": "code",
   "execution_count": 18,
   "metadata": {},
   "outputs": [],
   "source": [
    "CLASS_NAMES= ['healthy', 'mild', 'moderate', 'severe']\n",
    "IMG_HEIGHT = 128\n",
    "IMG_WIDTH = 128\n",
    "CHANNELS = 3\n",
    "NUM_CLASSES = len(CLASS_NAMES)"
   ]
  },
  {
   "cell_type": "markdown",
   "metadata": {
    "id": "yfeZvMIEDOwS"
   },
   "source": [
    "# **ResNET**"
   ]
  },
  {
   "cell_type": "code",
   "execution_count": 19,
   "metadata": {
    "id": "98Cf8ZeSEbCU"
   },
   "outputs": [],
   "source": [
    "from sklearn.model_selection import train_test_split"
   ]
  },
  {
   "cell_type": "code",
   "execution_count": 20,
   "metadata": {},
   "outputs": [
    {
     "name": "stdout",
     "output_type": "stream",
     "text": [
      "TOTAL_IMAGES =  2368\n"
     ]
    }
   ],
   "source": [
    "#load data\n",
    "data_x = np.load('data_x_aumentated_normalized.npy') #images\n",
    "data_y = np.load('data_y_aumentated_normalized.npy') #labels\n",
    "TOTAL_IMAGES = len(data_y)\n",
    "print(\"TOTAL_IMAGES = \", TOTAL_IMAGES)"
   ]
  },
  {
   "cell_type": "markdown",
   "metadata": {},
   "source": [
    "# **Splitting data in train - validation - test**"
   ]
  },
  {
   "cell_type": "code",
   "execution_count": 21,
   "metadata": {},
   "outputs": [],
   "source": [
    "#percentage of the dataset which will be on TRAIN - TEST - VALIDATION\n",
    "TRAIN_PERCENTAGE = 0.8\n",
    "TEST_PERCENTAGE = 0.1\n",
    "VALIDATION_PERCENTAGE = 0.1"
   ]
  },
  {
   "cell_type": "code",
   "execution_count": 22,
   "metadata": {},
   "outputs": [],
   "source": [
    "train_size = int(TRAIN_PERCENTAGE * TOTAL_IMAGES)\n",
    "test_size = int(TEST_PERCENTAGE * TOTAL_IMAGES)\n",
    "validation_size = int(VALIDATION_PERCENTAGE * TOTAL_IMAGES)"
   ]
  },
  {
   "cell_type": "code",
   "execution_count": 23,
   "metadata": {},
   "outputs": [],
   "source": [
    "train_x = data_x[:train_size]\n",
    "train_y = data_y[:train_size]\n",
    "data_x = data_x[train_size:]\n",
    "data_y = data_y[train_size:]\n",
    "\n",
    "test_x = data_x[:test_size]\n",
    "test_y = data_y[:test_size]\n",
    "data_x = data_x[test_size:]\n",
    "data_y = data_y[test_size:]\n",
    "\n",
    "validation_x = data_x #all the remainder we can let on validation\n",
    "validation_y = data_y\n",
    "del data_x\n",
    "del data_y"
   ]
  },
  {
   "cell_type": "code",
   "execution_count": 24,
   "metadata": {},
   "outputs": [
    {
     "name": "stdout",
     "output_type": "stream",
     "text": [
      "train_size =  1894\n",
      "test_size =  236\n",
      "validation_size =  238\n"
     ]
    }
   ],
   "source": [
    "print(\"train_size = \", len(train_y))\n",
    "print(\"test_size = \", len(test_y))\n",
    "print(\"validation_size = \", len(validation_y))"
   ]
  },
  {
   "cell_type": "code",
   "execution_count": 25,
   "metadata": {
    "id": "BiIjdq89J1uJ"
   },
   "outputs": [],
   "source": [
    "from tensorflow import keras\n",
    "from tensorflow.keras.models import Sequential\n",
    "from tensorflow.keras.layers import Dense, Activation, Dropout, Flatten, Conv2D, MaxPooling2D\n",
    "from tensorflow.keras.regularizers import l2\n",
    "from tensorflow.keras.regularizers import l1\n",
    "from tensorflow.keras.callbacks import EarlyStopping"
   ]
  },
  {
   "cell_type": "code",
   "execution_count": 26,
   "metadata": {
    "colab": {
     "base_uri": "https://localhost:8080/"
    },
    "id": "j0vHxhMjLyhJ",
    "outputId": "e5ec2803-8f76-4719-e279-27c52eb8d72d"
   },
   "outputs": [],
   "source": [
    "from tensorflow.keras import layers\n",
    "from tensorflow.keras.layers import Input, Add, Dense, Activation, ZeroPadding2D, BatchNormalization, Flatten, Conv2D, AveragePooling2D, MaxPooling2D, GlobalMaxPooling2D\n",
    "from tensorflow.keras.models import Model, load_model\n",
    "from tensorflow.keras.preprocessing import image\n",
    "from IPython.display import SVG\n",
    "import scipy.misc"
   ]
  },
  {
   "cell_type": "code",
   "execution_count": 27,
   "metadata": {},
   "outputs": [],
   "source": [
    "# from tensorflow.keras.applications import EfficientNetB0\n",
    "# from tensorflow.keras.applications import EfficientNetB1\n",
    "# from tensorflow.keras.applications import EfficientNetB2\n",
    "# from tensorflow.keras.applications import EfficientNetB3\n",
    "# from tensorflow.keras.applications import EfficientNetB4\n",
    "# from tensorflow.keras.applications import EfficientNetB5\n",
    "# from tensorflow.keras.applications import EfficientNetB6\n",
    "# from tensorflow.keras.applications import EfficientNetB7\n",
    "# from tensorflow.keras.applications import *"
   ]
  },
  {
   "cell_type": "code",
   "execution_count": 28,
   "metadata": {},
   "outputs": [],
   "source": [
    "import tensorflow.keras.backend as K\n",
    "K.set_image_data_format('channels_last')\n",
    "K.set_learning_phase(1)"
   ]
  },
  {
   "cell_type": "code",
   "execution_count": 29,
   "metadata": {},
   "outputs": [],
   "source": [
    "model = tf.keras.applications.Xception(\n",
    "    include_top=False,\n",
    "    weights=\"imagenet\",\n",
    "    input_tensor=None,\n",
    "    input_shape=(IMG_HEIGHT,IMG_WIDTH, CHANNELS),\n",
    "    pooling=None,\n",
    "    classes=NUM_CLASSES,\n",
    "   # classifier_activation=\"softmax\",\n",
    "#    **kwargs\n",
    ")"
   ]
  },
  {
   "cell_type": "code",
   "execution_count": 30,
   "metadata": {},
   "outputs": [
    {
     "name": "stderr",
     "output_type": "stream",
     "text": [
      "C:\\Users\\tmcle\\.conda\\envs\\tf\\lib\\site-packages\\keras\\optimizers\\optimizer_v2\\adam.py:114: UserWarning: The `lr` argument is deprecated, use `learning_rate` instead.\n",
      "  super().__init__(name, **kwargs)\n"
     ]
    }
   ],
   "source": [
    "from tensorflow.keras import models\n",
    "from tensorflow.keras import layers\n",
    "\n",
    "new_model = models.Sequential()\n",
    "new_model.add(model)\n",
    "#3rd conv layer\n",
    "new_model.add(tf.keras.layers.Conv2D(32, 3, padding=\"same\"))\n",
    "new_model.add(tf.keras.layers.BatchNormalization())\n",
    "new_model.add(tf.keras.layers.Activation(\"relu\"))\n",
    "new_model.add(tf.keras.layers.MaxPooling2D(2))\n",
    "#4th conv layer\n",
    "new_model.add(tf.keras.layers.Conv2D(64, 3, padding=\"same\"))\n",
    "new_model.add(tf.keras.layers.BatchNormalization())\n",
    "new_model.add(tf.keras.layers.Activation(\"relu\"))\n",
    "new_model.add(tf.keras.layers.MaxPooling2D(2))\n",
    "#Flatten Layer\n",
    "new_model.add(tf.keras.layers.Flatten())\n",
    "\n",
    "new_model.add(tf.keras.layers.Dense(128, kernel_regularizer =tf.keras.regularizers.l2( l=0.01)))\n",
    "new_model.add(tf.keras.layers.BatchNormalization())\n",
    "new_model.add(tf.keras.layers.Activation(\"relu\"))\n",
    "new_model.add(tf.keras.layers.Dropout(0.2))\n",
    "#new_model.add(tf.keras.layers.l2( l=0.01))\n",
    "#new_model.add(layers.GlobalAveragePooling2D())\n",
    "#output Dense Layer\n",
    "new_model.add(tf.keras.layers.Dense(NUM_CLASSES))\n",
    "new_model.add(tf.keras.layers.Activation('softmax'))\n",
    "adam = tf.keras.optimizers.Adam(lr=0.001)\n"
   ]
  },
  {
   "cell_type": "code",
   "execution_count": 31,
   "metadata": {},
   "outputs": [
    {
     "name": "stdout",
     "output_type": "stream",
     "text": [
      "Model: \"sequential_1\"\n",
      "_________________________________________________________________\n",
      " Layer (type)                Output Shape              Param #   \n",
      "=================================================================\n",
      " xception (Functional)       (None, 4, 4, 2048)        20861480  \n",
      "                                                                 \n",
      " conv2d_10 (Conv2D)          (None, 4, 4, 32)          589856    \n",
      "                                                                 \n",
      " batch_normalization_10 (Bat  (None, 4, 4, 32)         128       \n",
      " chNormalization)                                                \n",
      "                                                                 \n",
      " activation_2 (Activation)   (None, 4, 4, 32)          0         \n",
      "                                                                 \n",
      " max_pooling2d_2 (MaxPooling  (None, 2, 2, 32)         0         \n",
      " 2D)                                                             \n",
      "                                                                 \n",
      " conv2d_11 (Conv2D)          (None, 2, 2, 64)          18496     \n",
      "                                                                 \n",
      " batch_normalization_11 (Bat  (None, 2, 2, 64)         256       \n",
      " chNormalization)                                                \n",
      "                                                                 \n",
      " activation_3 (Activation)   (None, 2, 2, 64)          0         \n",
      "                                                                 \n",
      " max_pooling2d_3 (MaxPooling  (None, 1, 1, 64)         0         \n",
      " 2D)                                                             \n",
      "                                                                 \n",
      " flatten_1 (Flatten)         (None, 64)                0         \n",
      "                                                                 \n",
      " dense (Dense)               (None, 128)               8320      \n",
      "                                                                 \n",
      " batch_normalization_12 (Bat  (None, 128)              512       \n",
      " chNormalization)                                                \n",
      "                                                                 \n",
      " activation_4 (Activation)   (None, 128)               0         \n",
      "                                                                 \n",
      " dropout (Dropout)           (None, 128)               0         \n",
      "                                                                 \n",
      " dense_1 (Dense)             (None, 4)                 516       \n",
      "                                                                 \n",
      " activation_5 (Activation)   (None, 4)                 0         \n",
      "                                                                 \n",
      "=================================================================\n",
      "Total params: 21,479,564\n",
      "Trainable params: 21,424,588\n",
      "Non-trainable params: 54,976\n",
      "_________________________________________________________________\n"
     ]
    }
   ],
   "source": [
    "new_model.summary()"
   ]
  },
  {
   "cell_type": "code",
   "execution_count": 32,
   "metadata": {},
   "outputs": [
    {
     "name": "stdout",
     "output_type": "stream",
     "text": [
      "Epoch 1/100\n",
      "60/60 - 36s - loss: 1.6857 - acc: 0.6267 - val_loss: 2.7768 - val_acc: 0.2689 - 36s/epoch - 605ms/step\n",
      "Epoch 2/100\n",
      "60/60 - 26s - loss: 0.9577 - acc: 0.8754 - val_loss: 2.4267 - val_acc: 0.3487 - 26s/epoch - 431ms/step\n",
      "Epoch 3/100\n",
      "60/60 - 26s - loss: 0.6440 - acc: 0.9398 - val_loss: 4.8140 - val_acc: 0.3824 - 26s/epoch - 431ms/step\n",
      "Epoch 4/100\n",
      "60/60 - 26s - loss: 0.5170 - acc: 0.9498 - val_loss: 4.0527 - val_acc: 0.4412 - 26s/epoch - 429ms/step\n",
      "Epoch 5/100\n",
      "60/60 - 26s - loss: 0.4128 - acc: 0.9520 - val_loss: 2.4751 - val_acc: 0.5588 - 26s/epoch - 429ms/step\n",
      "Epoch 6/100\n",
      "60/60 - 26s - loss: 0.3009 - acc: 0.9747 - val_loss: 0.6082 - val_acc: 0.8866 - 26s/epoch - 428ms/step\n",
      "Epoch 7/100\n",
      "60/60 - 26s - loss: 0.2866 - acc: 0.9604 - val_loss: 0.9843 - val_acc: 0.7941 - 26s/epoch - 428ms/step\n",
      "Epoch 8/100\n",
      "60/60 - 26s - loss: 0.2062 - acc: 0.9805 - val_loss: 0.8036 - val_acc: 0.7731 - 26s/epoch - 428ms/step\n",
      "Epoch 9/100\n",
      "60/60 - 26s - loss: 0.1761 - acc: 0.9810 - val_loss: 0.7123 - val_acc: 0.8025 - 26s/epoch - 427ms/step\n",
      "Epoch 10/100\n",
      "60/60 - 26s - loss: 0.1330 - acc: 0.9857 - val_loss: 0.4390 - val_acc: 0.9034 - 26s/epoch - 428ms/step\n",
      "Epoch 11/100\n",
      "60/60 - 26s - loss: 0.0961 - acc: 0.9916 - val_loss: 2.0220 - val_acc: 0.5672 - 26s/epoch - 427ms/step\n",
      "Epoch 12/100\n",
      "60/60 - 26s - loss: 0.1264 - acc: 0.9831 - val_loss: 2.6162 - val_acc: 0.6092 - 26s/epoch - 427ms/step\n",
      "Epoch 13/100\n",
      "60/60 - 26s - loss: 0.1156 - acc: 0.9799 - val_loss: 10.7830 - val_acc: 0.5756 - 26s/epoch - 427ms/step\n",
      "Epoch 14/100\n",
      "60/60 - 26s - loss: 0.1077 - acc: 0.9789 - val_loss: 0.6002 - val_acc: 0.8655 - 26s/epoch - 427ms/step\n",
      "Epoch 15/100\n",
      "60/60 - 26s - loss: 0.0607 - acc: 0.9900 - val_loss: 0.4474 - val_acc: 0.8655 - 26s/epoch - 427ms/step\n",
      "Epoch 16/100\n",
      "60/60 - 26s - loss: 0.0585 - acc: 0.9884 - val_loss: 2.3367 - val_acc: 0.4958 - 26s/epoch - 427ms/step\n",
      "Epoch 17/100\n",
      "60/60 - 26s - loss: 0.0727 - acc: 0.9847 - val_loss: 0.2822 - val_acc: 0.9076 - 26s/epoch - 427ms/step\n",
      "Epoch 18/100\n",
      "60/60 - 26s - loss: 0.0611 - acc: 0.9900 - val_loss: 0.4613 - val_acc: 0.8529 - 26s/epoch - 427ms/step\n",
      "Epoch 19/100\n",
      "60/60 - 26s - loss: 0.0469 - acc: 0.9921 - val_loss: 0.4908 - val_acc: 0.8908 - 26s/epoch - 427ms/step\n",
      "Epoch 20/100\n",
      "60/60 - 26s - loss: 0.0426 - acc: 0.9942 - val_loss: 0.5248 - val_acc: 0.8950 - 26s/epoch - 427ms/step\n",
      "Epoch 21/100\n",
      "60/60 - 26s - loss: 0.0402 - acc: 0.9910 - val_loss: 3.6112 - val_acc: 0.5420 - 26s/epoch - 427ms/step\n",
      "Epoch 22/100\n",
      "60/60 - 26s - loss: 0.0305 - acc: 0.9947 - val_loss: 1.7605 - val_acc: 0.6807 - 26s/epoch - 427ms/step\n",
      "Epoch 23/100\n",
      "60/60 - 26s - loss: 0.0651 - acc: 0.9826 - val_loss: 2.6770 - val_acc: 0.5252 - 26s/epoch - 426ms/step\n",
      "Epoch 24/100\n",
      "60/60 - 26s - loss: 0.0989 - acc: 0.9725 - val_loss: 1.3836 - val_acc: 0.7605 - 26s/epoch - 427ms/step\n",
      "Epoch 25/100\n",
      "60/60 - 26s - loss: 0.0600 - acc: 0.9910 - val_loss: 0.4313 - val_acc: 0.9034 - 26s/epoch - 427ms/step\n",
      "Epoch 26/100\n",
      "60/60 - 26s - loss: 0.0413 - acc: 0.9937 - val_loss: 0.2195 - val_acc: 0.9496 - 26s/epoch - 426ms/step\n",
      "Epoch 27/100\n",
      "60/60 - 26s - loss: 0.0195 - acc: 0.9979 - val_loss: 0.7912 - val_acc: 0.8067 - 26s/epoch - 427ms/step\n",
      "Epoch 28/100\n",
      "60/60 - 26s - loss: 0.0102 - acc: 1.0000 - val_loss: 0.1675 - val_acc: 0.9538 - 26s/epoch - 427ms/step\n",
      "Epoch 29/100\n",
      "60/60 - 26s - loss: 0.0067 - acc: 1.0000 - val_loss: 0.1287 - val_acc: 0.9622 - 26s/epoch - 427ms/step\n",
      "Epoch 30/100\n",
      "60/60 - 26s - loss: 0.0046 - acc: 1.0000 - val_loss: 0.1329 - val_acc: 0.9664 - 26s/epoch - 427ms/step\n",
      "Epoch 31/100\n",
      "60/60 - 26s - loss: 0.0035 - acc: 1.0000 - val_loss: 0.1405 - val_acc: 0.9664 - 26s/epoch - 427ms/step\n",
      "Epoch 32/100\n",
      "60/60 - 26s - loss: 0.0026 - acc: 1.0000 - val_loss: 0.1425 - val_acc: 0.9664 - 26s/epoch - 426ms/step\n",
      "Epoch 33/100\n",
      "60/60 - 26s - loss: 0.0021 - acc: 1.0000 - val_loss: 0.1436 - val_acc: 0.9664 - 26s/epoch - 427ms/step\n",
      "Epoch 34/100\n",
      "60/60 - 26s - loss: 0.0017 - acc: 1.0000 - val_loss: 0.1464 - val_acc: 0.9664 - 26s/epoch - 426ms/step\n",
      "Epoch 35/100\n",
      "60/60 - 26s - loss: 0.0014 - acc: 1.0000 - val_loss: 0.1470 - val_acc: 0.9664 - 26s/epoch - 426ms/step\n",
      "Epoch 36/100\n",
      "60/60 - 26s - loss: 0.0012 - acc: 1.0000 - val_loss: 0.1506 - val_acc: 0.9664 - 26s/epoch - 427ms/step\n",
      "Epoch 37/100\n",
      "60/60 - 26s - loss: 0.0011 - acc: 1.0000 - val_loss: 0.1511 - val_acc: 0.9664 - 26s/epoch - 426ms/step\n",
      "Epoch 38/100\n",
      "60/60 - 26s - loss: 0.0010 - acc: 1.0000 - val_loss: 0.1564 - val_acc: 0.9664 - 26s/epoch - 427ms/step\n",
      "Epoch 39/100\n",
      "60/60 - 26s - loss: 9.1351e-04 - acc: 1.0000 - val_loss: 0.1601 - val_acc: 0.9664 - 26s/epoch - 427ms/step\n",
      "Epoch 40/100\n",
      "60/60 - 26s - loss: 8.2289e-04 - acc: 1.0000 - val_loss: 0.1610 - val_acc: 0.9664 - 26s/epoch - 427ms/step\n",
      "Epoch 41/100\n",
      "60/60 - 26s - loss: 7.4618e-04 - acc: 1.0000 - val_loss: 0.1643 - val_acc: 0.9664 - 26s/epoch - 427ms/step\n",
      "Epoch 42/100\n",
      "60/60 - 26s - loss: 7.2733e-04 - acc: 1.0000 - val_loss: 0.1644 - val_acc: 0.9664 - 26s/epoch - 426ms/step\n",
      "Epoch 43/100\n",
      "60/60 - 26s - loss: 6.9343e-04 - acc: 1.0000 - val_loss: 0.1651 - val_acc: 0.9664 - 26s/epoch - 427ms/step\n",
      "Epoch 44/100\n",
      "60/60 - 26s - loss: 6.2879e-04 - acc: 1.0000 - val_loss: 0.1618 - val_acc: 0.9664 - 26s/epoch - 427ms/step\n",
      "Epoch 45/100\n",
      "60/60 - 26s - loss: 6.2053e-04 - acc: 1.0000 - val_loss: 0.1640 - val_acc: 0.9664 - 26s/epoch - 427ms/step\n",
      "Epoch 46/100\n",
      "60/60 - 26s - loss: 6.3445e-04 - acc: 1.0000 - val_loss: 0.1666 - val_acc: 0.9664 - 26s/epoch - 427ms/step\n",
      "Epoch 47/100\n",
      "60/60 - 26s - loss: 8.0595e-04 - acc: 1.0000 - val_loss: 0.1630 - val_acc: 0.9664 - 26s/epoch - 427ms/step\n",
      "Epoch 48/100\n",
      "60/60 - 26s - loss: 0.0017 - acc: 1.0000 - val_loss: 0.1622 - val_acc: 0.9664 - 26s/epoch - 427ms/step\n",
      "Epoch 49/100\n",
      "60/60 - 26s - loss: 0.0011 - acc: 1.0000 - val_loss: 0.1634 - val_acc: 0.9664 - 26s/epoch - 427ms/step\n",
      "Epoch 50/100\n",
      "60/60 - 26s - loss: 7.2083e-04 - acc: 1.0000 - val_loss: 0.1654 - val_acc: 0.9622 - 26s/epoch - 427ms/step\n",
      "Epoch 51/100\n",
      "60/60 - 26s - loss: 5.6591e-04 - acc: 1.0000 - val_loss: 0.1640 - val_acc: 0.9664 - 26s/epoch - 427ms/step\n",
      "Epoch 52/100\n",
      "60/60 - 26s - loss: 5.0698e-04 - acc: 1.0000 - val_loss: 0.1616 - val_acc: 0.9664 - 26s/epoch - 427ms/step\n",
      "Epoch 53/100\n",
      "60/60 - 26s - loss: 4.6277e-04 - acc: 1.0000 - val_loss: 0.1653 - val_acc: 0.9664 - 26s/epoch - 427ms/step\n",
      "Epoch 54/100\n",
      "60/60 - 26s - loss: 4.4949e-04 - acc: 1.0000 - val_loss: 0.1681 - val_acc: 0.9664 - 26s/epoch - 427ms/step\n",
      "Epoch 55/100\n",
      "60/60 - 26s - loss: 4.2518e-04 - acc: 1.0000 - val_loss: 0.1702 - val_acc: 0.9664 - 26s/epoch - 426ms/step\n",
      "Epoch 56/100\n",
      "60/60 - 26s - loss: 4.2562e-04 - acc: 1.0000 - val_loss: 0.1723 - val_acc: 0.9664 - 26s/epoch - 427ms/step\n",
      "Epoch 57/100\n",
      "60/60 - 26s - loss: 4.1923e-04 - acc: 1.0000 - val_loss: 0.1731 - val_acc: 0.9664 - 26s/epoch - 426ms/step\n",
      "Epoch 58/100\n",
      "60/60 - 26s - loss: 3.8820e-04 - acc: 1.0000 - val_loss: 0.1732 - val_acc: 0.9664 - 26s/epoch - 427ms/step\n",
      "Epoch 59/100\n",
      "60/60 - 26s - loss: 4.1016e-04 - acc: 1.0000 - val_loss: 0.1699 - val_acc: 0.9664 - 26s/epoch - 427ms/step\n",
      "Epoch 60/100\n",
      "60/60 - 26s - loss: 3.7227e-04 - acc: 1.0000 - val_loss: 0.1763 - val_acc: 0.9664 - 26s/epoch - 427ms/step\n",
      "Epoch 61/100\n",
      "60/60 - 26s - loss: 3.8176e-04 - acc: 1.0000 - val_loss: 0.1737 - val_acc: 0.9664 - 26s/epoch - 427ms/step\n",
      "Epoch 62/100\n",
      "60/60 - 26s - loss: 3.5552e-04 - acc: 1.0000 - val_loss: 0.1743 - val_acc: 0.9664 - 26s/epoch - 426ms/step\n",
      "Epoch 63/100\n",
      "60/60 - 26s - loss: 3.3810e-04 - acc: 1.0000 - val_loss: 0.1787 - val_acc: 0.9664 - 26s/epoch - 426ms/step\n",
      "Epoch 64/100\n",
      "60/60 - 26s - loss: 3.3189e-04 - acc: 1.0000 - val_loss: 0.1817 - val_acc: 0.9664 - 26s/epoch - 427ms/step\n",
      "Epoch 65/100\n",
      "60/60 - 26s - loss: 3.2268e-04 - acc: 1.0000 - val_loss: 0.1765 - val_acc: 0.9664 - 26s/epoch - 427ms/step\n",
      "Epoch 66/100\n",
      "60/60 - 26s - loss: 3.2846e-04 - acc: 1.0000 - val_loss: 0.1731 - val_acc: 0.9664 - 26s/epoch - 427ms/step\n",
      "Epoch 67/100\n",
      "60/60 - 26s - loss: 3.2594e-04 - acc: 1.0000 - val_loss: 0.1726 - val_acc: 0.9664 - 26s/epoch - 427ms/step\n",
      "Epoch 68/100\n",
      "60/60 - 26s - loss: 3.5984e-04 - acc: 1.0000 - val_loss: 0.1742 - val_acc: 0.9664 - 26s/epoch - 427ms/step\n",
      "Epoch 69/100\n",
      "60/60 - 26s - loss: 4.4427e-04 - acc: 1.0000 - val_loss: 0.1789 - val_acc: 0.9664 - 26s/epoch - 427ms/step\n",
      "Epoch 70/100\n",
      "60/60 - 26s - loss: 0.0011 - acc: 1.0000 - val_loss: 0.1830 - val_acc: 0.9664 - 26s/epoch - 426ms/step\n"
     ]
    },
    {
     "name": "stdout",
     "output_type": "stream",
     "text": [
      "Epoch 71/100\n",
      "60/60 - 26s - loss: 0.0033 - acc: 1.0000 - val_loss: 0.1988 - val_acc: 0.9706 - 26s/epoch - 427ms/step\n",
      "Epoch 72/100\n",
      "60/60 - 26s - loss: 0.0039 - acc: 1.0000 - val_loss: 0.1847 - val_acc: 0.9706 - 26s/epoch - 427ms/step\n",
      "Epoch 73/100\n",
      "60/60 - 26s - loss: 0.0023 - acc: 1.0000 - val_loss: 0.1956 - val_acc: 0.9706 - 26s/epoch - 427ms/step\n",
      "Epoch 74/100\n",
      "60/60 - 26s - loss: 0.0012 - acc: 1.0000 - val_loss: 0.1417 - val_acc: 0.9664 - 26s/epoch - 427ms/step\n",
      "Epoch 75/100\n",
      "60/60 - 26s - loss: 5.6498e-04 - acc: 1.0000 - val_loss: 0.1266 - val_acc: 0.9664 - 26s/epoch - 427ms/step\n",
      "Epoch 76/100\n",
      "60/60 - 26s - loss: 3.9594e-04 - acc: 1.0000 - val_loss: 0.1260 - val_acc: 0.9664 - 26s/epoch - 427ms/step\n",
      "Epoch 77/100\n",
      "60/60 - 26s - loss: 2.8826e-04 - acc: 1.0000 - val_loss: 0.1302 - val_acc: 0.9664 - 26s/epoch - 427ms/step\n",
      "Epoch 78/100\n",
      "60/60 - 26s - loss: 4.3892e-04 - acc: 1.0000 - val_loss: 0.1837 - val_acc: 0.9664 - 26s/epoch - 427ms/step\n",
      "Epoch 79/100\n",
      "60/60 - 26s - loss: 0.0030 - acc: 1.0000 - val_loss: 0.1941 - val_acc: 0.9706 - 26s/epoch - 427ms/step\n",
      "Epoch 80/100\n",
      "60/60 - 26s - loss: 0.0026 - acc: 1.0000 - val_loss: 0.2080 - val_acc: 0.9706 - 26s/epoch - 427ms/step\n",
      "Epoch 81/100\n",
      "60/60 - 26s - loss: 0.0010 - acc: 1.0000 - val_loss: 0.1751 - val_acc: 0.9706 - 26s/epoch - 427ms/step\n",
      "Epoch 82/100\n",
      "60/60 - 26s - loss: 5.7124e-04 - acc: 1.0000 - val_loss: 0.1788 - val_acc: 0.9664 - 26s/epoch - 427ms/step\n",
      "Epoch 83/100\n",
      "60/60 - 26s - loss: 3.1726e-04 - acc: 1.0000 - val_loss: 0.1511 - val_acc: 0.9706 - 26s/epoch - 427ms/step\n",
      "Epoch 84/100\n",
      "60/60 - 26s - loss: 0.0078 - acc: 1.0000 - val_loss: 0.2275 - val_acc: 0.9622 - 26s/epoch - 426ms/step\n",
      "Epoch 85/100\n",
      "60/60 - 26s - loss: 0.0052 - acc: 1.0000 - val_loss: 0.2061 - val_acc: 0.9622 - 26s/epoch - 426ms/step\n",
      "Epoch 86/100\n",
      "60/60 - 26s - loss: 0.0154 - acc: 0.9995 - val_loss: 0.2937 - val_acc: 0.9454 - 26s/epoch - 427ms/step\n",
      "Epoch 87/100\n",
      "60/60 - 26s - loss: 0.7450 - acc: 0.7497 - val_loss: 13429.5508 - val_acc: 0.2899 - 26s/epoch - 427ms/step\n",
      "Epoch 88/100\n",
      "60/60 - 26s - loss: 0.5355 - acc: 0.8184 - val_loss: 76.3548 - val_acc: 0.4118 - 26s/epoch - 427ms/step\n",
      "Epoch 89/100\n",
      "60/60 - 26s - loss: 0.3500 - acc: 0.8981 - val_loss: 5.9192 - val_acc: 0.6218 - 26s/epoch - 426ms/step\n",
      "Epoch 90/100\n",
      "60/60 - 26s - loss: 0.2746 - acc: 0.9187 - val_loss: 15.0233 - val_acc: 0.5084 - 26s/epoch - 427ms/step\n",
      "Epoch 91/100\n",
      "60/60 - 26s - loss: 0.2325 - acc: 0.9361 - val_loss: 2.8672 - val_acc: 0.6555 - 26s/epoch - 426ms/step\n",
      "Epoch 92/100\n",
      "60/60 - 26s - loss: 0.1983 - acc: 0.9419 - val_loss: 1.0871 - val_acc: 0.7437 - 26s/epoch - 426ms/step\n",
      "Epoch 93/100\n",
      "60/60 - 26s - loss: 0.1263 - acc: 0.9694 - val_loss: 1.3655 - val_acc: 0.7689 - 26s/epoch - 426ms/step\n",
      "Epoch 94/100\n",
      "60/60 - 26s - loss: 0.2309 - acc: 0.9345 - val_loss: 0.9883 - val_acc: 0.8109 - 26s/epoch - 427ms/step\n",
      "Epoch 95/100\n",
      "60/60 - 26s - loss: 0.1068 - acc: 0.9715 - val_loss: 0.4475 - val_acc: 0.8782 - 26s/epoch - 426ms/step\n",
      "Epoch 96/100\n",
      "60/60 - 26s - loss: 0.0570 - acc: 0.9900 - val_loss: 0.8900 - val_acc: 0.7773 - 26s/epoch - 427ms/step\n",
      "Epoch 97/100\n",
      "60/60 - 26s - loss: 0.0414 - acc: 0.9952 - val_loss: 0.4626 - val_acc: 0.8908 - 26s/epoch - 426ms/step\n",
      "Epoch 98/100\n",
      "60/60 - 26s - loss: 0.0374 - acc: 0.9947 - val_loss: 0.1998 - val_acc: 0.9412 - 26s/epoch - 427ms/step\n",
      "Epoch 99/100\n",
      "60/60 - 26s - loss: 0.0266 - acc: 0.9963 - val_loss: 0.1833 - val_acc: 0.9454 - 26s/epoch - 427ms/step\n",
      "Epoch 100/100\n",
      "60/60 - 26s - loss: 0.0307 - acc: 0.9968 - val_loss: 0.1931 - val_acc: 0.9496 - 26s/epoch - 427ms/step\n"
     ]
    }
   ],
   "source": [
    "epochs = 100\n",
    "\n",
    "#compila e treina o modelo com os dados carregados\n",
    "new_model.compile(loss='sparse_categorical_crossentropy', metrics=['acc'], optimizer=adam)\n",
    "model_trained = new_model.fit(train_x, train_y,epochs=epochs,verbose=2,validation_data=(validation_x, validation_y),shuffle=False)"
   ]
  },
  {
   "cell_type": "code",
   "execution_count": 33,
   "metadata": {},
   "outputs": [
    {
     "name": "stdout",
     "output_type": "stream",
     "text": [
      "Model: \"xception\"\n",
      "__________________________________________________________________________________________________\n",
      " Layer (type)                   Output Shape         Param #     Connected to                     \n",
      "==================================================================================================\n",
      " input_2 (InputLayer)           [(None, 128, 128, 3  0           []                               \n",
      "                                )]                                                                \n",
      "                                                                                                  \n",
      " block1_conv1 (Conv2D)          (None, 63, 63, 32)   864         ['input_2[0][0]']                \n",
      "                                                                                                  \n",
      " block1_conv1_bn (BatchNormaliz  (None, 63, 63, 32)  128         ['block1_conv1[0][0]']           \n",
      " ation)                                                                                           \n",
      "                                                                                                  \n",
      " block1_conv1_act (Activation)  (None, 63, 63, 32)   0           ['block1_conv1_bn[0][0]']        \n",
      "                                                                                                  \n",
      " block1_conv2 (Conv2D)          (None, 61, 61, 64)   18432       ['block1_conv1_act[0][0]']       \n",
      "                                                                                                  \n",
      " block1_conv2_bn (BatchNormaliz  (None, 61, 61, 64)  256         ['block1_conv2[0][0]']           \n",
      " ation)                                                                                           \n",
      "                                                                                                  \n",
      " block1_conv2_act (Activation)  (None, 61, 61, 64)   0           ['block1_conv2_bn[0][0]']        \n",
      "                                                                                                  \n",
      " block2_sepconv1 (SeparableConv  (None, 61, 61, 128)  8768       ['block1_conv2_act[0][0]']       \n",
      " 2D)                                                                                              \n",
      "                                                                                                  \n",
      " block2_sepconv1_bn (BatchNorma  (None, 61, 61, 128)  512        ['block2_sepconv1[0][0]']        \n",
      " lization)                                                                                        \n",
      "                                                                                                  \n",
      " block2_sepconv2_act (Activatio  (None, 61, 61, 128)  0          ['block2_sepconv1_bn[0][0]']     \n",
      " n)                                                                                               \n",
      "                                                                                                  \n",
      " block2_sepconv2 (SeparableConv  (None, 61, 61, 128)  17536      ['block2_sepconv2_act[0][0]']    \n",
      " 2D)                                                                                              \n",
      "                                                                                                  \n",
      " block2_sepconv2_bn (BatchNorma  (None, 61, 61, 128)  512        ['block2_sepconv2[0][0]']        \n",
      " lization)                                                                                        \n",
      "                                                                                                  \n",
      " conv2d_6 (Conv2D)              (None, 31, 31, 128)  8192        ['block1_conv2_act[0][0]']       \n",
      "                                                                                                  \n",
      " block2_pool (MaxPooling2D)     (None, 31, 31, 128)  0           ['block2_sepconv2_bn[0][0]']     \n",
      "                                                                                                  \n",
      " batch_normalization_6 (BatchNo  (None, 31, 31, 128)  512        ['conv2d_6[0][0]']               \n",
      " rmalization)                                                                                     \n",
      "                                                                                                  \n",
      " add_12 (Add)                   (None, 31, 31, 128)  0           ['block2_pool[0][0]',            \n",
      "                                                                  'batch_normalization_6[0][0]']  \n",
      "                                                                                                  \n",
      " block3_sepconv1_act (Activatio  (None, 31, 31, 128)  0          ['add_12[0][0]']                 \n",
      " n)                                                                                               \n",
      "                                                                                                  \n",
      " block3_sepconv1 (SeparableConv  (None, 31, 31, 256)  33920      ['block3_sepconv1_act[0][0]']    \n",
      " 2D)                                                                                              \n",
      "                                                                                                  \n",
      " block3_sepconv1_bn (BatchNorma  (None, 31, 31, 256)  1024       ['block3_sepconv1[0][0]']        \n",
      " lization)                                                                                        \n",
      "                                                                                                  \n",
      " block3_sepconv2_act (Activatio  (None, 31, 31, 256)  0          ['block3_sepconv1_bn[0][0]']     \n",
      " n)                                                                                               \n",
      "                                                                                                  \n",
      " block3_sepconv2 (SeparableConv  (None, 31, 31, 256)  67840      ['block3_sepconv2_act[0][0]']    \n",
      " 2D)                                                                                              \n",
      "                                                                                                  \n",
      " block3_sepconv2_bn (BatchNorma  (None, 31, 31, 256)  1024       ['block3_sepconv2[0][0]']        \n",
      " lization)                                                                                        \n",
      "                                                                                                  \n",
      " conv2d_7 (Conv2D)              (None, 16, 16, 256)  32768       ['add_12[0][0]']                 \n",
      "                                                                                                  \n",
      " block3_pool (MaxPooling2D)     (None, 16, 16, 256)  0           ['block3_sepconv2_bn[0][0]']     \n",
      "                                                                                                  \n",
      " batch_normalization_7 (BatchNo  (None, 16, 16, 256)  1024       ['conv2d_7[0][0]']               \n",
      " rmalization)                                                                                     \n",
      "                                                                                                  \n",
      " add_13 (Add)                   (None, 16, 16, 256)  0           ['block3_pool[0][0]',            \n",
      "                                                                  'batch_normalization_7[0][0]']  \n",
      "                                                                                                  \n",
      " block4_sepconv1_act (Activatio  (None, 16, 16, 256)  0          ['add_13[0][0]']                 \n",
      " n)                                                                                               \n",
      "                                                                                                  \n",
      " block4_sepconv1 (SeparableConv  (None, 16, 16, 728)  188672     ['block4_sepconv1_act[0][0]']    \n",
      " 2D)                                                                                              \n",
      "                                                                                                  \n",
      " block4_sepconv1_bn (BatchNorma  (None, 16, 16, 728)  2912       ['block4_sepconv1[0][0]']        \n",
      " lization)                                                                                        \n",
      "                                                                                                  \n",
      " block4_sepconv2_act (Activatio  (None, 16, 16, 728)  0          ['block4_sepconv1_bn[0][0]']     \n"
     ]
    },
    {
     "name": "stdout",
     "output_type": "stream",
     "text": [
      " n)                                                                                               \n",
      "                                                                                                  \n",
      " block4_sepconv2 (SeparableConv  (None, 16, 16, 728)  536536     ['block4_sepconv2_act[0][0]']    \n",
      " 2D)                                                                                              \n",
      "                                                                                                  \n",
      " block4_sepconv2_bn (BatchNorma  (None, 16, 16, 728)  2912       ['block4_sepconv2[0][0]']        \n",
      " lization)                                                                                        \n",
      "                                                                                                  \n",
      " conv2d_8 (Conv2D)              (None, 8, 8, 728)    186368      ['add_13[0][0]']                 \n",
      "                                                                                                  \n",
      " block4_pool (MaxPooling2D)     (None, 8, 8, 728)    0           ['block4_sepconv2_bn[0][0]']     \n",
      "                                                                                                  \n",
      " batch_normalization_8 (BatchNo  (None, 8, 8, 728)   2912        ['conv2d_8[0][0]']               \n",
      " rmalization)                                                                                     \n",
      "                                                                                                  \n",
      " add_14 (Add)                   (None, 8, 8, 728)    0           ['block4_pool[0][0]',            \n",
      "                                                                  'batch_normalization_8[0][0]']  \n",
      "                                                                                                  \n",
      " block5_sepconv1_act (Activatio  (None, 8, 8, 728)   0           ['add_14[0][0]']                 \n",
      " n)                                                                                               \n",
      "                                                                                                  \n",
      " block5_sepconv1 (SeparableConv  (None, 8, 8, 728)   536536      ['block5_sepconv1_act[0][0]']    \n",
      " 2D)                                                                                              \n",
      "                                                                                                  \n",
      " block5_sepconv1_bn (BatchNorma  (None, 8, 8, 728)   2912        ['block5_sepconv1[0][0]']        \n",
      " lization)                                                                                        \n",
      "                                                                                                  \n",
      " block5_sepconv2_act (Activatio  (None, 8, 8, 728)   0           ['block5_sepconv1_bn[0][0]']     \n",
      " n)                                                                                               \n",
      "                                                                                                  \n",
      " block5_sepconv2 (SeparableConv  (None, 8, 8, 728)   536536      ['block5_sepconv2_act[0][0]']    \n",
      " 2D)                                                                                              \n",
      "                                                                                                  \n",
      " block5_sepconv2_bn (BatchNorma  (None, 8, 8, 728)   2912        ['block5_sepconv2[0][0]']        \n",
      " lization)                                                                                        \n",
      "                                                                                                  \n",
      " block5_sepconv3_act (Activatio  (None, 8, 8, 728)   0           ['block5_sepconv2_bn[0][0]']     \n",
      " n)                                                                                               \n",
      "                                                                                                  \n",
      " block5_sepconv3 (SeparableConv  (None, 8, 8, 728)   536536      ['block5_sepconv3_act[0][0]']    \n",
      " 2D)                                                                                              \n",
      "                                                                                                  \n",
      " block5_sepconv3_bn (BatchNorma  (None, 8, 8, 728)   2912        ['block5_sepconv3[0][0]']        \n",
      " lization)                                                                                        \n",
      "                                                                                                  \n",
      " add_15 (Add)                   (None, 8, 8, 728)    0           ['block5_sepconv3_bn[0][0]',     \n",
      "                                                                  'add_14[0][0]']                 \n",
      "                                                                                                  \n",
      " block6_sepconv1_act (Activatio  (None, 8, 8, 728)   0           ['add_15[0][0]']                 \n",
      " n)                                                                                               \n",
      "                                                                                                  \n",
      " block6_sepconv1 (SeparableConv  (None, 8, 8, 728)   536536      ['block6_sepconv1_act[0][0]']    \n",
      " 2D)                                                                                              \n",
      "                                                                                                  \n",
      " block6_sepconv1_bn (BatchNorma  (None, 8, 8, 728)   2912        ['block6_sepconv1[0][0]']        \n",
      " lization)                                                                                        \n",
      "                                                                                                  \n",
      " block6_sepconv2_act (Activatio  (None, 8, 8, 728)   0           ['block6_sepconv1_bn[0][0]']     \n",
      " n)                                                                                               \n",
      "                                                                                                  \n",
      " block6_sepconv2 (SeparableConv  (None, 8, 8, 728)   536536      ['block6_sepconv2_act[0][0]']    \n",
      " 2D)                                                                                              \n",
      "                                                                                                  \n",
      " block6_sepconv2_bn (BatchNorma  (None, 8, 8, 728)   2912        ['block6_sepconv2[0][0]']        \n",
      " lization)                                                                                        \n",
      "                                                                                                  \n",
      " block6_sepconv3_act (Activatio  (None, 8, 8, 728)   0           ['block6_sepconv2_bn[0][0]']     \n",
      " n)                                                                                               \n",
      "                                                                                                  \n",
      " block6_sepconv3 (SeparableConv  (None, 8, 8, 728)   536536      ['block6_sepconv3_act[0][0]']    \n",
      " 2D)                                                                                              \n",
      "                                                                                                  \n",
      " block6_sepconv3_bn (BatchNorma  (None, 8, 8, 728)   2912        ['block6_sepconv3[0][0]']        \n",
      " lization)                                                                                        \n",
      "                                                                                                  \n",
      " add_16 (Add)                   (None, 8, 8, 728)    0           ['block6_sepconv3_bn[0][0]',     \n",
      "                                                                  'add_15[0][0]']                 \n",
      "                                                                                                  \n",
      " block7_sepconv1_act (Activatio  (None, 8, 8, 728)   0           ['add_16[0][0]']                 \n",
      " n)                                                                                               \n",
      "                                                                                                  \n",
      " block7_sepconv1 (SeparableConv  (None, 8, 8, 728)   536536      ['block7_sepconv1_act[0][0]']    \n",
      " 2D)                                                                                              \n"
     ]
    },
    {
     "name": "stdout",
     "output_type": "stream",
     "text": [
      "                                                                                                  \n",
      " block7_sepconv1_bn (BatchNorma  (None, 8, 8, 728)   2912        ['block7_sepconv1[0][0]']        \n",
      " lization)                                                                                        \n",
      "                                                                                                  \n",
      " block7_sepconv2_act (Activatio  (None, 8, 8, 728)   0           ['block7_sepconv1_bn[0][0]']     \n",
      " n)                                                                                               \n",
      "                                                                                                  \n",
      " block7_sepconv2 (SeparableConv  (None, 8, 8, 728)   536536      ['block7_sepconv2_act[0][0]']    \n",
      " 2D)                                                                                              \n",
      "                                                                                                  \n",
      " block7_sepconv2_bn (BatchNorma  (None, 8, 8, 728)   2912        ['block7_sepconv2[0][0]']        \n",
      " lization)                                                                                        \n",
      "                                                                                                  \n",
      " block7_sepconv3_act (Activatio  (None, 8, 8, 728)   0           ['block7_sepconv2_bn[0][0]']     \n",
      " n)                                                                                               \n",
      "                                                                                                  \n",
      " block7_sepconv3 (SeparableConv  (None, 8, 8, 728)   536536      ['block7_sepconv3_act[0][0]']    \n",
      " 2D)                                                                                              \n",
      "                                                                                                  \n",
      " block7_sepconv3_bn (BatchNorma  (None, 8, 8, 728)   2912        ['block7_sepconv3[0][0]']        \n",
      " lization)                                                                                        \n",
      "                                                                                                  \n",
      " add_17 (Add)                   (None, 8, 8, 728)    0           ['block7_sepconv3_bn[0][0]',     \n",
      "                                                                  'add_16[0][0]']                 \n",
      "                                                                                                  \n",
      " block8_sepconv1_act (Activatio  (None, 8, 8, 728)   0           ['add_17[0][0]']                 \n",
      " n)                                                                                               \n",
      "                                                                                                  \n",
      " block8_sepconv1 (SeparableConv  (None, 8, 8, 728)   536536      ['block8_sepconv1_act[0][0]']    \n",
      " 2D)                                                                                              \n",
      "                                                                                                  \n",
      " block8_sepconv1_bn (BatchNorma  (None, 8, 8, 728)   2912        ['block8_sepconv1[0][0]']        \n",
      " lization)                                                                                        \n",
      "                                                                                                  \n",
      " block8_sepconv2_act (Activatio  (None, 8, 8, 728)   0           ['block8_sepconv1_bn[0][0]']     \n",
      " n)                                                                                               \n",
      "                                                                                                  \n",
      " block8_sepconv2 (SeparableConv  (None, 8, 8, 728)   536536      ['block8_sepconv2_act[0][0]']    \n",
      " 2D)                                                                                              \n",
      "                                                                                                  \n",
      " block8_sepconv2_bn (BatchNorma  (None, 8, 8, 728)   2912        ['block8_sepconv2[0][0]']        \n",
      " lization)                                                                                        \n",
      "                                                                                                  \n",
      " block8_sepconv3_act (Activatio  (None, 8, 8, 728)   0           ['block8_sepconv2_bn[0][0]']     \n",
      " n)                                                                                               \n",
      "                                                                                                  \n",
      " block8_sepconv3 (SeparableConv  (None, 8, 8, 728)   536536      ['block8_sepconv3_act[0][0]']    \n",
      " 2D)                                                                                              \n",
      "                                                                                                  \n",
      " block8_sepconv3_bn (BatchNorma  (None, 8, 8, 728)   2912        ['block8_sepconv3[0][0]']        \n",
      " lization)                                                                                        \n",
      "                                                                                                  \n",
      " add_18 (Add)                   (None, 8, 8, 728)    0           ['block8_sepconv3_bn[0][0]',     \n",
      "                                                                  'add_17[0][0]']                 \n",
      "                                                                                                  \n",
      " block9_sepconv1_act (Activatio  (None, 8, 8, 728)   0           ['add_18[0][0]']                 \n",
      " n)                                                                                               \n",
      "                                                                                                  \n",
      " block9_sepconv1 (SeparableConv  (None, 8, 8, 728)   536536      ['block9_sepconv1_act[0][0]']    \n",
      " 2D)                                                                                              \n",
      "                                                                                                  \n",
      " block9_sepconv1_bn (BatchNorma  (None, 8, 8, 728)   2912        ['block9_sepconv1[0][0]']        \n",
      " lization)                                                                                        \n",
      "                                                                                                  \n",
      " block9_sepconv2_act (Activatio  (None, 8, 8, 728)   0           ['block9_sepconv1_bn[0][0]']     \n",
      " n)                                                                                               \n",
      "                                                                                                  \n",
      " block9_sepconv2 (SeparableConv  (None, 8, 8, 728)   536536      ['block9_sepconv2_act[0][0]']    \n",
      " 2D)                                                                                              \n",
      "                                                                                                  \n",
      " block9_sepconv2_bn (BatchNorma  (None, 8, 8, 728)   2912        ['block9_sepconv2[0][0]']        \n",
      " lization)                                                                                        \n",
      "                                                                                                  \n",
      " block9_sepconv3_act (Activatio  (None, 8, 8, 728)   0           ['block9_sepconv2_bn[0][0]']     \n",
      " n)                                                                                               \n",
      "                                                                                                  \n",
      " block9_sepconv3 (SeparableConv  (None, 8, 8, 728)   536536      ['block9_sepconv3_act[0][0]']    \n",
      " 2D)                                                                                              \n",
      "                                                                                                  \n",
      " block9_sepconv3_bn (BatchNorma  (None, 8, 8, 728)   2912        ['block9_sepconv3[0][0]']        \n",
      " lization)                                                                                        \n",
      "                                                                                                  \n",
      " add_19 (Add)                   (None, 8, 8, 728)    0           ['block9_sepconv3_bn[0][0]',     \n"
     ]
    },
    {
     "name": "stdout",
     "output_type": "stream",
     "text": [
      "                                                                  'add_18[0][0]']                 \n",
      "                                                                                                  \n",
      " block10_sepconv1_act (Activati  (None, 8, 8, 728)   0           ['add_19[0][0]']                 \n",
      " on)                                                                                              \n",
      "                                                                                                  \n",
      " block10_sepconv1 (SeparableCon  (None, 8, 8, 728)   536536      ['block10_sepconv1_act[0][0]']   \n",
      " v2D)                                                                                             \n",
      "                                                                                                  \n",
      " block10_sepconv1_bn (BatchNorm  (None, 8, 8, 728)   2912        ['block10_sepconv1[0][0]']       \n",
      " alization)                                                                                       \n",
      "                                                                                                  \n",
      " block10_sepconv2_act (Activati  (None, 8, 8, 728)   0           ['block10_sepconv1_bn[0][0]']    \n",
      " on)                                                                                              \n",
      "                                                                                                  \n",
      " block10_sepconv2 (SeparableCon  (None, 8, 8, 728)   536536      ['block10_sepconv2_act[0][0]']   \n",
      " v2D)                                                                                             \n",
      "                                                                                                  \n",
      " block10_sepconv2_bn (BatchNorm  (None, 8, 8, 728)   2912        ['block10_sepconv2[0][0]']       \n",
      " alization)                                                                                       \n",
      "                                                                                                  \n",
      " block10_sepconv3_act (Activati  (None, 8, 8, 728)   0           ['block10_sepconv2_bn[0][0]']    \n",
      " on)                                                                                              \n",
      "                                                                                                  \n",
      " block10_sepconv3 (SeparableCon  (None, 8, 8, 728)   536536      ['block10_sepconv3_act[0][0]']   \n",
      " v2D)                                                                                             \n",
      "                                                                                                  \n",
      " block10_sepconv3_bn (BatchNorm  (None, 8, 8, 728)   2912        ['block10_sepconv3[0][0]']       \n",
      " alization)                                                                                       \n",
      "                                                                                                  \n",
      " add_20 (Add)                   (None, 8, 8, 728)    0           ['block10_sepconv3_bn[0][0]',    \n",
      "                                                                  'add_19[0][0]']                 \n",
      "                                                                                                  \n",
      " block11_sepconv1_act (Activati  (None, 8, 8, 728)   0           ['add_20[0][0]']                 \n",
      " on)                                                                                              \n",
      "                                                                                                  \n",
      " block11_sepconv1 (SeparableCon  (None, 8, 8, 728)   536536      ['block11_sepconv1_act[0][0]']   \n",
      " v2D)                                                                                             \n",
      "                                                                                                  \n",
      " block11_sepconv1_bn (BatchNorm  (None, 8, 8, 728)   2912        ['block11_sepconv1[0][0]']       \n",
      " alization)                                                                                       \n",
      "                                                                                                  \n",
      " block11_sepconv2_act (Activati  (None, 8, 8, 728)   0           ['block11_sepconv1_bn[0][0]']    \n",
      " on)                                                                                              \n",
      "                                                                                                  \n",
      " block11_sepconv2 (SeparableCon  (None, 8, 8, 728)   536536      ['block11_sepconv2_act[0][0]']   \n",
      " v2D)                                                                                             \n",
      "                                                                                                  \n",
      " block11_sepconv2_bn (BatchNorm  (None, 8, 8, 728)   2912        ['block11_sepconv2[0][0]']       \n",
      " alization)                                                                                       \n",
      "                                                                                                  \n",
      " block11_sepconv3_act (Activati  (None, 8, 8, 728)   0           ['block11_sepconv2_bn[0][0]']    \n",
      " on)                                                                                              \n",
      "                                                                                                  \n",
      " block11_sepconv3 (SeparableCon  (None, 8, 8, 728)   536536      ['block11_sepconv3_act[0][0]']   \n",
      " v2D)                                                                                             \n",
      "                                                                                                  \n",
      " block11_sepconv3_bn (BatchNorm  (None, 8, 8, 728)   2912        ['block11_sepconv3[0][0]']       \n",
      " alization)                                                                                       \n",
      "                                                                                                  \n",
      " add_21 (Add)                   (None, 8, 8, 728)    0           ['block11_sepconv3_bn[0][0]',    \n",
      "                                                                  'add_20[0][0]']                 \n",
      "                                                                                                  \n",
      " block12_sepconv1_act (Activati  (None, 8, 8, 728)   0           ['add_21[0][0]']                 \n",
      " on)                                                                                              \n",
      "                                                                                                  \n",
      " block12_sepconv1 (SeparableCon  (None, 8, 8, 728)   536536      ['block12_sepconv1_act[0][0]']   \n",
      " v2D)                                                                                             \n",
      "                                                                                                  \n",
      " block12_sepconv1_bn (BatchNorm  (None, 8, 8, 728)   2912        ['block12_sepconv1[0][0]']       \n",
      " alization)                                                                                       \n",
      "                                                                                                  \n",
      " block12_sepconv2_act (Activati  (None, 8, 8, 728)   0           ['block12_sepconv1_bn[0][0]']    \n",
      " on)                                                                                              \n",
      "                                                                                                  \n",
      " block12_sepconv2 (SeparableCon  (None, 8, 8, 728)   536536      ['block12_sepconv2_act[0][0]']   \n",
      " v2D)                                                                                             \n",
      "                                                                                                  \n",
      " block12_sepconv2_bn (BatchNorm  (None, 8, 8, 728)   2912        ['block12_sepconv2[0][0]']       \n",
      " alization)                                                                                       \n",
      "                                                                                                  \n",
      " block12_sepconv3_act (Activati  (None, 8, 8, 728)   0           ['block12_sepconv2_bn[0][0]']    \n",
      " on)                                                                                              \n",
      "                                                                                                  \n"
     ]
    },
    {
     "name": "stdout",
     "output_type": "stream",
     "text": [
      " block12_sepconv3 (SeparableCon  (None, 8, 8, 728)   536536      ['block12_sepconv3_act[0][0]']   \n",
      " v2D)                                                                                             \n",
      "                                                                                                  \n",
      " block12_sepconv3_bn (BatchNorm  (None, 8, 8, 728)   2912        ['block12_sepconv3[0][0]']       \n",
      " alization)                                                                                       \n",
      "                                                                                                  \n",
      " add_22 (Add)                   (None, 8, 8, 728)    0           ['block12_sepconv3_bn[0][0]',    \n",
      "                                                                  'add_21[0][0]']                 \n",
      "                                                                                                  \n",
      " block13_sepconv1_act (Activati  (None, 8, 8, 728)   0           ['add_22[0][0]']                 \n",
      " on)                                                                                              \n",
      "                                                                                                  \n",
      " block13_sepconv1 (SeparableCon  (None, 8, 8, 728)   536536      ['block13_sepconv1_act[0][0]']   \n",
      " v2D)                                                                                             \n",
      "                                                                                                  \n",
      " block13_sepconv1_bn (BatchNorm  (None, 8, 8, 728)   2912        ['block13_sepconv1[0][0]']       \n",
      " alization)                                                                                       \n",
      "                                                                                                  \n",
      " block13_sepconv2_act (Activati  (None, 8, 8, 728)   0           ['block13_sepconv1_bn[0][0]']    \n",
      " on)                                                                                              \n",
      "                                                                                                  \n",
      " block13_sepconv2 (SeparableCon  (None, 8, 8, 1024)  752024      ['block13_sepconv2_act[0][0]']   \n",
      " v2D)                                                                                             \n",
      "                                                                                                  \n",
      " block13_sepconv2_bn (BatchNorm  (None, 8, 8, 1024)  4096        ['block13_sepconv2[0][0]']       \n",
      " alization)                                                                                       \n",
      "                                                                                                  \n",
      " conv2d_9 (Conv2D)              (None, 4, 4, 1024)   745472      ['add_22[0][0]']                 \n",
      "                                                                                                  \n",
      " block13_pool (MaxPooling2D)    (None, 4, 4, 1024)   0           ['block13_sepconv2_bn[0][0]']    \n",
      "                                                                                                  \n",
      " batch_normalization_9 (BatchNo  (None, 4, 4, 1024)  4096        ['conv2d_9[0][0]']               \n",
      " rmalization)                                                                                     \n",
      "                                                                                                  \n",
      " add_23 (Add)                   (None, 4, 4, 1024)   0           ['block13_pool[0][0]',           \n",
      "                                                                  'batch_normalization_9[0][0]']  \n",
      "                                                                                                  \n",
      " block14_sepconv1 (SeparableCon  (None, 4, 4, 1536)  1582080     ['add_23[0][0]']                 \n",
      " v2D)                                                                                             \n",
      "                                                                                                  \n",
      " block14_sepconv1_bn (BatchNorm  (None, 4, 4, 1536)  6144        ['block14_sepconv1[0][0]']       \n",
      " alization)                                                                                       \n",
      "                                                                                                  \n",
      " block14_sepconv1_act (Activati  (None, 4, 4, 1536)  0           ['block14_sepconv1_bn[0][0]']    \n",
      " on)                                                                                              \n",
      "                                                                                                  \n",
      " block14_sepconv2 (SeparableCon  (None, 4, 4, 2048)  3159552     ['block14_sepconv1_act[0][0]']   \n",
      " v2D)                                                                                             \n",
      "                                                                                                  \n",
      " block14_sepconv2_bn (BatchNorm  (None, 4, 4, 2048)  8192        ['block14_sepconv2[0][0]']       \n",
      " alization)                                                                                       \n",
      "                                                                                                  \n",
      " block14_sepconv2_act (Activati  (None, 4, 4, 2048)  0           ['block14_sepconv2_bn[0][0]']    \n",
      " on)                                                                                              \n",
      "                                                                                                  \n",
      "==================================================================================================\n",
      "Total params: 20,861,480\n",
      "Trainable params: 20,806,952\n",
      "Non-trainable params: 54,528\n",
      "__________________________________________________________________________________________________\n"
     ]
    }
   ],
   "source": [
    "model.summary()"
   ]
  },
  {
   "cell_type": "code",
   "execution_count": 34,
   "metadata": {},
   "outputs": [],
   "source": [
    "def getLayerIndexByName(model, layername):\n",
    "    for idx, layer in enumerate(model.layers):\n",
    "        if layer.name == layername:\n",
    "            return idx"
   ]
  },
  {
   "cell_type": "code",
   "execution_count": 35,
   "metadata": {},
   "outputs": [],
   "source": [
    "#print(getLayerIndexByName(new_model, 'flatten_1')) #just used to get the index of flatten layer"
   ]
  },
  {
   "cell_type": "code",
   "execution_count": 36,
   "metadata": {},
   "outputs": [
    {
     "name": "stderr",
     "output_type": "stream",
     "text": [
      "WARNING:absl:Found untraced functions such as _jit_compiled_convolution_op, _jit_compiled_convolution_op, _jit_compiled_convolution_op, _jit_compiled_convolution_op, _jit_compiled_convolution_op while saving (showing 5 of 42). These functions will not be directly callable after loading.\n"
     ]
    },
    {
     "name": "stdout",
     "output_type": "stream",
     "text": [
      "INFO:tensorflow:Assets written to: xception-baseline-holdout-100epochs_normalized.npy\\assets\n"
     ]
    },
    {
     "name": "stderr",
     "output_type": "stream",
     "text": [
      "INFO:tensorflow:Assets written to: xception-baseline-holdout-100epochs_normalized.npy\\assets\n"
     ]
    }
   ],
   "source": [
    "model_name = f'xception-baseline-holdout-{epochs}epochs_normalized.npy'\n",
    "new_model.save(model_name)"
   ]
  },
  {
   "cell_type": "markdown",
   "metadata": {},
   "source": [
    "# **Random Forest - flatting**"
   ]
  },
  {
   "cell_type": "code",
   "execution_count": 37,
   "metadata": {},
   "outputs": [
    {
     "name": "stdout",
     "output_type": "stream",
     "text": [
      "60/60 [==============================] - 7s 107ms/step\n"
     ]
    }
   ],
   "source": [
    "new_model_rf = keras.Model(inputs=new_model.input, outputs=new_model.get_layer(index=9).output)\n",
    "featureVector = new_model_rf.predict(train_x)"
   ]
  },
  {
   "cell_type": "code",
   "execution_count": 38,
   "metadata": {},
   "outputs": [
    {
     "name": "stdout",
     "output_type": "stream",
     "text": [
      "8/8 [==============================] - 1s 174ms/step\n"
     ]
    }
   ],
   "source": [
    "featureVector2 = new_model_rf.predict(test_x)"
   ]
  },
  {
   "cell_type": "code",
   "execution_count": 39,
   "metadata": {},
   "outputs": [
    {
     "name": "stdout",
     "output_type": "stream",
     "text": [
      "(1894, 64)\n"
     ]
    }
   ],
   "source": [
    "print(featureVector.shape)"
   ]
  },
  {
   "cell_type": "code",
   "execution_count": 40,
   "metadata": {},
   "outputs": [],
   "source": [
    "from sklearn.ensemble import RandomForestClassifier"
   ]
  },
  {
   "cell_type": "code",
   "execution_count": 41,
   "metadata": {},
   "outputs": [
    {
     "data": {
      "text/html": [
       "<style>#sk-container-id-1 {color: black;}#sk-container-id-1 pre{padding: 0;}#sk-container-id-1 div.sk-toggleable {background-color: white;}#sk-container-id-1 label.sk-toggleable__label {cursor: pointer;display: block;width: 100%;margin-bottom: 0;padding: 0.3em;box-sizing: border-box;text-align: center;}#sk-container-id-1 label.sk-toggleable__label-arrow:before {content: \"▸\";float: left;margin-right: 0.25em;color: #696969;}#sk-container-id-1 label.sk-toggleable__label-arrow:hover:before {color: black;}#sk-container-id-1 div.sk-estimator:hover label.sk-toggleable__label-arrow:before {color: black;}#sk-container-id-1 div.sk-toggleable__content {max-height: 0;max-width: 0;overflow: hidden;text-align: left;background-color: #f0f8ff;}#sk-container-id-1 div.sk-toggleable__content pre {margin: 0.2em;color: black;border-radius: 0.25em;background-color: #f0f8ff;}#sk-container-id-1 input.sk-toggleable__control:checked~div.sk-toggleable__content {max-height: 200px;max-width: 100%;overflow: auto;}#sk-container-id-1 input.sk-toggleable__control:checked~label.sk-toggleable__label-arrow:before {content: \"▾\";}#sk-container-id-1 div.sk-estimator input.sk-toggleable__control:checked~label.sk-toggleable__label {background-color: #d4ebff;}#sk-container-id-1 div.sk-label input.sk-toggleable__control:checked~label.sk-toggleable__label {background-color: #d4ebff;}#sk-container-id-1 input.sk-hidden--visually {border: 0;clip: rect(1px 1px 1px 1px);clip: rect(1px, 1px, 1px, 1px);height: 1px;margin: -1px;overflow: hidden;padding: 0;position: absolute;width: 1px;}#sk-container-id-1 div.sk-estimator {font-family: monospace;background-color: #f0f8ff;border: 1px dotted black;border-radius: 0.25em;box-sizing: border-box;margin-bottom: 0.5em;}#sk-container-id-1 div.sk-estimator:hover {background-color: #d4ebff;}#sk-container-id-1 div.sk-parallel-item::after {content: \"\";width: 100%;border-bottom: 1px solid gray;flex-grow: 1;}#sk-container-id-1 div.sk-label:hover label.sk-toggleable__label {background-color: #d4ebff;}#sk-container-id-1 div.sk-serial::before {content: \"\";position: absolute;border-left: 1px solid gray;box-sizing: border-box;top: 0;bottom: 0;left: 50%;z-index: 0;}#sk-container-id-1 div.sk-serial {display: flex;flex-direction: column;align-items: center;background-color: white;padding-right: 0.2em;padding-left: 0.2em;position: relative;}#sk-container-id-1 div.sk-item {position: relative;z-index: 1;}#sk-container-id-1 div.sk-parallel {display: flex;align-items: stretch;justify-content: center;background-color: white;position: relative;}#sk-container-id-1 div.sk-item::before, #sk-container-id-1 div.sk-parallel-item::before {content: \"\";position: absolute;border-left: 1px solid gray;box-sizing: border-box;top: 0;bottom: 0;left: 50%;z-index: -1;}#sk-container-id-1 div.sk-parallel-item {display: flex;flex-direction: column;z-index: 1;position: relative;background-color: white;}#sk-container-id-1 div.sk-parallel-item:first-child::after {align-self: flex-end;width: 50%;}#sk-container-id-1 div.sk-parallel-item:last-child::after {align-self: flex-start;width: 50%;}#sk-container-id-1 div.sk-parallel-item:only-child::after {width: 0;}#sk-container-id-1 div.sk-dashed-wrapped {border: 1px dashed gray;margin: 0 0.4em 0.5em 0.4em;box-sizing: border-box;padding-bottom: 0.4em;background-color: white;}#sk-container-id-1 div.sk-label label {font-family: monospace;font-weight: bold;display: inline-block;line-height: 1.2em;}#sk-container-id-1 div.sk-label-container {text-align: center;}#sk-container-id-1 div.sk-container {/* jupyter's `normalize.less` sets `[hidden] { display: none; }` but bootstrap.min.css set `[hidden] { display: none !important; }` so we also need the `!important` here to be able to override the default hidden behavior on the sphinx rendered scikit-learn.org. See: https://github.com/scikit-learn/scikit-learn/issues/21755 */display: inline-block !important;position: relative;}#sk-container-id-1 div.sk-text-repr-fallback {display: none;}</style><div id=\"sk-container-id-1\" class=\"sk-top-container\"><div class=\"sk-text-repr-fallback\"><pre>RandomForestClassifier()</pre><b>In a Jupyter environment, please rerun this cell to show the HTML representation or trust the notebook. <br />On GitHub, the HTML representation is unable to render, please try loading this page with nbviewer.org.</b></div><div class=\"sk-container\" hidden><div class=\"sk-item\"><div class=\"sk-estimator sk-toggleable\"><input class=\"sk-toggleable__control sk-hidden--visually\" id=\"sk-estimator-id-1\" type=\"checkbox\" checked><label for=\"sk-estimator-id-1\" class=\"sk-toggleable__label sk-toggleable__label-arrow\">RandomForestClassifier</label><div class=\"sk-toggleable__content\"><pre>RandomForestClassifier()</pre></div></div></div></div></div>"
      ],
      "text/plain": [
       "RandomForestClassifier()"
      ]
     },
     "execution_count": 41,
     "metadata": {},
     "output_type": "execute_result"
    }
   ],
   "source": [
    "clf=RandomForestClassifier(n_estimators=100)\n",
    "\n",
    "clf.fit(featureVector,train_y)\n",
    "\n"
   ]
  },
  {
   "cell_type": "code",
   "execution_count": 42,
   "metadata": {},
   "outputs": [
    {
     "data": {
      "text/plain": [
       "(236, 128, 128, 3)"
      ]
     },
     "execution_count": 42,
     "metadata": {},
     "output_type": "execute_result"
    }
   ],
   "source": [
    "test_x.shape"
   ]
  },
  {
   "cell_type": "code",
   "execution_count": 43,
   "metadata": {},
   "outputs": [],
   "source": [
    "y_pred=clf.predict(featureVector2)"
   ]
  },
  {
   "cell_type": "code",
   "execution_count": 44,
   "metadata": {},
   "outputs": [
    {
     "data": {
      "text/plain": [
       "(1894, 64)"
      ]
     },
     "execution_count": 44,
     "metadata": {},
     "output_type": "execute_result"
    }
   ],
   "source": [
    "featureVector.shape"
   ]
  },
  {
   "cell_type": "code",
   "execution_count": 45,
   "metadata": {},
   "outputs": [
    {
     "name": "stdout",
     "output_type": "stream",
     "text": [
      "Accuracy: 0.9322033898305084\n"
     ]
    }
   ],
   "source": [
    "from sklearn import metrics\n",
    "print(\"Accuracy:\",metrics.accuracy_score(test_y, y_pred))"
   ]
  },
  {
   "cell_type": "code",
   "execution_count": 46,
   "metadata": {},
   "outputs": [],
   "source": [
    "from sklearn.tree import DecisionTreeClassifier"
   ]
  },
  {
   "cell_type": "code",
   "execution_count": 47,
   "metadata": {},
   "outputs": [],
   "source": [
    "clf = DecisionTreeClassifier(random_state=0)"
   ]
  },
  {
   "cell_type": "markdown",
   "metadata": {
    "id": "v2tUu9UW4S_S"
   },
   "source": [
    "# **Testes**"
   ]
  },
  {
   "cell_type": "code",
   "execution_count": 48,
   "metadata": {
    "id": "-02BWWgF4V9h"
   },
   "outputs": [
    {
     "data": {
      "image/png": "[encoded data removed]",
      "text/plain": [
       "<Figure size 640x480 with 1 Axes>"
      ]
     },
     "metadata": {},
     "output_type": "display_data"
    },
    {
     "data": {
      "image/png": "[encoded data removed]",
      "text/plain": [
       "<Figure size 640x480 with 1 Axes>"
      ]
     },
     "metadata": {},
     "output_type": "display_data"
    }
   ],
   "source": [
    "import matplotlib.pyplot as plt\n",
    "\n",
    "accuracy = model_trained.history['acc']\n",
    "val_accuracy = model_trained.history['val_acc']\n",
    "loss = model_trained.history['loss']\n",
    "val_loss = model_trained.history['val_loss']\n",
    "epochs = range(len(accuracy))\n",
    "plt.plot(epochs, accuracy, 'b', label='Acurácia de treino')\n",
    "plt.plot(epochs, val_accuracy, 'g', label='Acurácia de validação')\n",
    "plt.title('Acurácia de treino e validação')\n",
    "plt.legend()\n",
    "plt.figure()\n",
    "plt.plot(epochs, loss, 'b', label='Perda no treino')\n",
    "plt.plot(epochs, val_loss, 'g', label='Perda na validação')\n",
    "plt.title('Perda na validação e treino')\n",
    "plt.legend()\n",
    "plt.show()"
   ]
  },
  {
   "cell_type": "code",
   "execution_count": 49,
   "metadata": {
    "id": "On7_hNmrOysp"
   },
   "outputs": [
    {
     "name": "stdout",
     "output_type": "stream",
     "text": [
      "8/8 [==============================] - 1s 109ms/step - loss: 0.2888 - acc: 0.9322\n",
      "Test loss: 0.28883105516433716\n",
      "Test accuracy: 0.9322034120559692\n"
     ]
    }
   ],
   "source": [
    "#avalia a fase de teste\n",
    "\n",
    "model_loss, model_accuracy = new_model.evaluate(test_x, test_y, verbose=1)\n",
    "\n",
    "#mostra o resultado\n",
    "print('Test loss:', model_loss)\n",
    "print('Test accuracy:', model_accuracy)"
   ]
  },
  {
   "cell_type": "code",
   "execution_count": 50,
   "metadata": {
    "id": "uGYRlhnq8wsF"
   },
   "outputs": [],
   "source": [
    "#faz a predição das imagens\n",
    "\n",
    "from tensorflow.keras.utils import to_categorical\n",
    "\n",
    "pred = new_model.predict(test_x, verbose=0)\n",
    "\n",
    "pred_probs = np.argmax(pred,axis=1)"
   ]
  },
  {
   "cell_type": "code",
   "execution_count": 51,
   "metadata": {
    "id": "Vt4jZ2jB8ygE"
   },
   "outputs": [],
   "source": [
    "from sklearn.metrics import confusion_matrix\n",
    "from sklearn.metrics import classification_report\n",
    "from sklearn.metrics import accuracy_score\n",
    "from sklearn.metrics import f1_score"
   ]
  },
  {
   "cell_type": "code",
   "execution_count": 52,
   "metadata": {
    "id": "9gx5yvuU84UC"
   },
   "outputs": [],
   "source": [
    "cm = confusion_matrix(test_y, pred_probs)"
   ]
  },
  {
   "cell_type": "code",
   "execution_count": 53,
   "metadata": {
    "id": "NUrE8yfU86OL"
   },
   "outputs": [
    {
     "name": "stdout",
     "output_type": "stream",
     "text": [
      "F1 Score: 0.9330628968467919\n",
      "Sensitivity: [0.90540541 0.98039216 0.96226415 0.89655172]\n",
      "Specificity: [1.         0.97297297 0.94535519 0.99438202]\n",
      "Precision:   [1.         0.90909091 0.83606557 0.98113208]\n",
      "Accuracy:    [0.97033898 0.97457627 0.94915254 0.97033898]\n"
     ]
    }
   ],
   "source": [
    "#gera os valores de falso positivo, falso negativo, verdadeiro positivo e verdadeiro negativo\n",
    "fp = cm.sum(axis=0) - np.diag(cm)  \n",
    "fn = cm.sum(axis=1) - np.diag(cm)\n",
    "tp = np.diag(cm)\n",
    "tn = cm.sum() - (fp + fn + tp)\n",
    "\n",
    "f1score = f1_score(test_y, pred_probs, average='weighted')\n",
    "sensitivity = tp / (tp + fn)\n",
    "specificity = tn / (tn + fp)\n",
    "accuracy    = (tp + tn) / (tp + tn + fp + fn)\n",
    "precision   = tp / (tp + fp)\n",
    "\n",
    "\n",
    "print(\"F1 Score:\", f1score)\n",
    "print(\"Sensitivity:\", sensitivity)\n",
    "print(\"Specificity:\", specificity)\n",
    "print(\"Precision:  \", precision)\n",
    "print(\"Accuracy:   \", accuracy)"
   ]
  },
  {
   "cell_type": "code",
   "execution_count": null,
   "metadata": {},
   "outputs": [],
   "source": []
  },
  {
   "cell_type": "code",
   "execution_count": null,
   "metadata": {},
   "outputs": [],
   "source": []
  }
 ],
 "metadata": {
  "colab": {
   "collapsed_sections": [],
   "name": "covid_alex_holdout_cropping_tgo.ipynb",
   "provenance": []
  },
  "kernelspec": {
   "display_name": "Python 3 (ipykernel)",
   "language": "python",
   "name": "python3"
  },
  "language_info": {
   "codemirror_mode": {
    "name": "ipython",
    "version": 3
   },
   "file_extension": ".py",
   "mimetype": "text/x-python",
   "name": "python",
   "nbconvert_exporter": "python",
   "pygments_lexer": "ipython3",
   "version": "3.9.17"
  }
 },
 "nbformat": 4,
 "nbformat_minor": 1
}
