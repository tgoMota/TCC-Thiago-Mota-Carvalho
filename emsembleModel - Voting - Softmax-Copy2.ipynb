{
 "cells": [
  {
   "cell_type": "code",
   "execution_count": 7,
   "id": "69900df3",
   "metadata": {},
   "outputs": [],
   "source": [
    "import tensorflow as tf\n",
    "from tensorflow import keras\n",
    "import matplotlib.pyplot as plt\n",
    "import os\n",
    "import time\n",
    "from sklearn import datasets\n",
    "from sklearn.ensemble import VotingClassifier\n",
    "from sklearn.model_selection import cross_val_score\n",
    "from keras.datasets import cifar10\n",
    "from keras.utils import to_categorical\n",
    "import numpy as np"
   ]
  },
  {
   "cell_type": "code",
   "execution_count": 8,
   "id": "7f1d7bd2",
   "metadata": {},
   "outputs": [],
   "source": [
    "# load train and test dataset\n",
    "def load_dataset():\n",
    "    # load dataset\n",
    "    data_x = np.load('data_x_original.npy')\n",
    "    data_y = np.load('data_y_original.npy')\n",
    "    #percentage of the dataset which will be on TRAIN - TEST - VALIDATION\n",
    "    TOTAL_IMAGES = len(data_y)\n",
    "    print(\"TOTAL_IMAGES = \", TOTAL_IMAGES)\n",
    "    \n",
    "    TRAIN_PERCENTAGE = 0.8\n",
    "    TEST_PERCENTAGE = 0.1\n",
    "    VALIDATION_PERCENTAGE = 0.1\n",
    "\n",
    "    train_size = int(TRAIN_PERCENTAGE * TOTAL_IMAGES)\n",
    "    test_size = int(TEST_PERCENTAGE * TOTAL_IMAGES)\n",
    "    validation_size = int(VALIDATION_PERCENTAGE * TOTAL_IMAGES)\n",
    "\n",
    "    train_x = data_x[:train_size] #taking train images from original data\n",
    "    train_y = data_y[:train_size]\n",
    "    data_x = data_x[train_size:] #removing train images from original data\n",
    "    data_y = data_y[train_size:]\n",
    "\n",
    "    test_x = data_x[:test_size] #taking test images from original data\n",
    "    test_y = data_y[:test_size]\n",
    "    data_x = data_x[test_size:] #removing test images from original data\n",
    "    data_y = data_y[test_size:]\n",
    "\n",
    "    validation_x = data_x #all the remainder images we can put on validation\n",
    "    validation_y = data_y\n",
    "\n",
    "    del data_x #free some unused memory\n",
    "    del data_y\n",
    "\n",
    "    print(\"train_size = \", len(train_y))\n",
    "    print(\"test_size = \", len(test_y))\n",
    "    print(\"validation_size = \", len(validation_y))\n",
    " # one hot encode target values\n",
    "    train_y = to_categorical(train_y)\n",
    "    test_y = to_categorical(test_y)\n",
    "    validation_y = to_categorical(validation_y)\n",
    "    return train_x, train_y, test_x, test_y, validation_x, validation_y"
   ]
  },
  {
   "cell_type": "code",
   "execution_count": 9,
   "id": "05b5ce4f",
   "metadata": {},
   "outputs": [],
   "source": [
    "# scale pixels\n",
    "def prep_pixels(train, test, validation):\n",
    "    # convert from integers to floats\n",
    "    train_norm = train.astype('float32')\n",
    "    test_norm = test.astype('float32')\n",
    "    validation_norm = validation.astype('float32')\n",
    "    # normalize to range 0-1\n",
    "    train_norm = train_norm / 255.0\n",
    "    test_norm = test_norm / 255.0\n",
    "    validation_norm = validation_norm / 255.0\n",
    "    # return normalized images\n",
    "    return train_norm, test_norm, validation_norm"
   ]
  },
  {
   "cell_type": "code",
   "execution_count": 10,
   "id": "94db3098",
   "metadata": {},
   "outputs": [
    {
     "name": "stdout",
     "output_type": "stream",
     "text": [
      "TOTAL_IMAGES =  592\n",
      "train_size =  473\n",
      "test_size =  59\n",
      "validation_size =  60\n"
     ]
    }
   ],
   "source": [
    "trainX, trainY, testX, testY, validationX, validationY = load_dataset()\n",
    "trainX, testX, validationX = prep_pixels(trainX, testX, validationX)"
   ]
  },
  {
   "cell_type": "code",
   "execution_count": 11,
   "id": "69e72838",
   "metadata": {},
   "outputs": [
    {
     "data": {
      "text/plain": [
       "array([[[0.50980395, 0.47058824, 0.6039216 ],\n",
       "        [0.5921569 , 0.5882353 , 0.6509804 ],\n",
       "        [0.7294118 , 0.70980394, 0.7490196 ],\n",
       "        ...,\n",
       "        [0.6862745 , 0.6313726 , 0.7254902 ],\n",
       "        [0.56078434, 0.49803922, 0.6509804 ],\n",
       "        [0.48235294, 0.42352942, 0.59607846]],\n",
       "\n",
       "       [[0.65882355, 0.6431373 , 0.70980394],\n",
       "        [0.73333335, 0.7490196 , 0.7529412 ],\n",
       "        [0.8235294 , 0.827451  , 0.81960785],\n",
       "        ...,\n",
       "        [0.57254905, 0.5294118 , 0.6392157 ],\n",
       "        [0.48235294, 0.42745098, 0.57254905],\n",
       "        [0.45490196, 0.38039216, 0.5647059 ]],\n",
       "\n",
       "       [[0.8352941 , 0.8       , 0.8235294 ],\n",
       "        [0.8627451 , 0.85882354, 0.84705883],\n",
       "        [0.87058824, 0.8627451 , 0.8509804 ],\n",
       "        ...,\n",
       "        [0.5058824 , 0.45490196, 0.60784316],\n",
       "        [0.49411765, 0.41960785, 0.6       ],\n",
       "        [0.48235294, 0.40392157, 0.6       ]],\n",
       "\n",
       "       ...,\n",
       "\n",
       "       [[0.7058824 , 0.67058825, 0.73333335],\n",
       "        [0.79607844, 0.7647059 , 0.78039217],\n",
       "        [0.83137256, 0.8156863 , 0.80784315],\n",
       "        ...,\n",
       "        [0.8039216 , 0.7764706 , 0.7882353 ],\n",
       "        [0.8156863 , 0.78431374, 0.80784315],\n",
       "        [0.77254903, 0.74509805, 0.7607843 ]],\n",
       "\n",
       "       [[0.72156864, 0.6666667 , 0.7294118 ],\n",
       "        [0.8039216 , 0.77254903, 0.80784315],\n",
       "        [0.85490197, 0.8235294 , 0.83137256],\n",
       "        ...,\n",
       "        [0.8352941 , 0.7882353 , 0.81960785],\n",
       "        [0.827451  , 0.7921569 , 0.8156863 ],\n",
       "        [0.7607843 , 0.72156864, 0.7607843 ]],\n",
       "\n",
       "       [[0.69411767, 0.6431373 , 0.70980394],\n",
       "        [0.8039216 , 0.76862746, 0.8       ],\n",
       "        [0.8392157 , 0.8117647 , 0.8352941 ],\n",
       "        ...,\n",
       "        [0.7882353 , 0.7607843 , 0.8       ],\n",
       "        [0.7882353 , 0.7411765 , 0.79607844],\n",
       "        [0.6862745 , 0.63529414, 0.7137255 ]]], dtype=float32)"
      ]
     },
     "execution_count": 11,
     "metadata": {},
     "output_type": "execute_result"
    }
   ],
   "source": [
    "trainX[0]"
   ]
  },
  {
   "cell_type": "code",
   "execution_count": 12,
   "id": "86be4dc9",
   "metadata": {},
   "outputs": [],
   "source": [
    "trainX, testX, validationX = prep_pixels(trainX, testX, validationX)"
   ]
  },
  {
   "cell_type": "code",
   "execution_count": 13,
   "id": "b8b4b6e7",
   "metadata": {},
   "outputs": [],
   "source": [
    "clf1 = tf.keras.models.load_model(\"cifar-vgg-baseline-holdout-100epochs_all_transfer.npy\")"
   ]
  },
  {
   "cell_type": "code",
   "execution_count": 14,
   "id": "d8214f1f",
   "metadata": {},
   "outputs": [
    {
     "name": "stdout",
     "output_type": "stream",
     "text": [
      "<class 'keras.engine.sequential.Sequential'>\n"
     ]
    }
   ],
   "source": [
    "print(type(clf1))"
   ]
  },
  {
   "cell_type": "code",
   "execution_count": 15,
   "id": "bd2e7738",
   "metadata": {},
   "outputs": [],
   "source": [
    "clf2 = tf.keras.models.load_model(\"cifar-mobileNet-baseline-holdout-100epochs_all_transfer.npy\")"
   ]
  },
  {
   "cell_type": "code",
   "execution_count": 16,
   "id": "09dd30b0",
   "metadata": {},
   "outputs": [],
   "source": [
    "clf3 = tf.keras.models.load_model(\"cifar-resnet50-baseline-holdout-100epochs_all_transfer.npy\")"
   ]
  },
  {
   "cell_type": "code",
   "execution_count": 17,
   "id": "6b1b16be",
   "metadata": {},
   "outputs": [],
   "source": [
    "class emsembleModel:\n",
    "    def __init__(self, classifiers, numClasses):\n",
    "        self.classifiers = classifiers\n",
    "        self.numClasses = numClasses\n",
    "        \n",
    "    def predict_by_voting(self, dataX):\n",
    "        preds = []\n",
    "        for clf in self.classifiers:\n",
    "            preds.append(clf.predict(dataX))\n",
    "        \n",
    "        resultPred = []\n",
    "        M = len(self.classifiers)\n",
    "        for i in range(len(dataX)):\n",
    "            counting = [0 for _ in range(self.numClasses)]\n",
    "            current_best_pred = preds[0][i]\n",
    "            for j in range(M):\n",
    "                pred = preds[j][i]\n",
    "                predictedClass = np.argmax(pred)\n",
    "                counting[predictedClass]+=1\n",
    "                if counting[predictedClass] == max(counting):\n",
    "                    current_best_pred = pred\n",
    "            resultPred.append(current_best_pred)\n",
    "        \n",
    "        return resultPred\n",
    "    \n",
    "    def evaluate_by_voting(self, dataX, dataY):\n",
    "        pred = self.predict_by_voting(dataX)\n",
    "        ok = 0\n",
    "        for i in range(len(pred)):\n",
    "            expectedClass = dataY[i]\n",
    "            predictedClass = np.argmax(pred[i])\n",
    "            if predictedClass == expectedClass:\n",
    "                ok += 1\n",
    "        return ok/len(dataY)\n",
    "\n",
    "    def predict_by_softmax(self, dataX):\n",
    "        preds = []\n",
    "        for clf in self.classifiers:\n",
    "            preds.append(clf.predict(dataX))\n",
    "        \n",
    "        resultsPred = []\n",
    "        M = len(self.classifiers)\n",
    "        for i in range(len(dataX)):\n",
    "            probs = []\n",
    "            for j in range(M):\n",
    "                pred = preds[j][i]\n",
    "                probs.append(pred)\n",
    "            compressed_probs = np.array(probs).sum(axis=0)\n",
    "            compressed_probs = compressed_probs/M\n",
    "            resultsPred.append(compressed_probs)\n",
    "        \n",
    "        return resultsPred\n",
    "    \n",
    "    def evaluate_by_softmax(self, dataX, dataY):\n",
    "        pred = self.predict_by_softmax(dataX)\n",
    "        ok = 0\n",
    "        for i in range(len(pred)):\n",
    "            expectedClass = dataY[i]\n",
    "            predictedClass = np.argmax(pred[i])\n",
    "            if predictedClass == expectedClass:\n",
    "                ok += 1\n",
    "        return ok/len(dataY)\n",
    "    "
   ]
  },
  {
   "cell_type": "code",
   "execution_count": 18,
   "id": "f864e530",
   "metadata": {},
   "outputs": [],
   "source": [
    "classifiers = [clf1, clf2, clf3]"
   ]
  },
  {
   "cell_type": "code",
   "execution_count": 19,
   "id": "28375413",
   "metadata": {},
   "outputs": [],
   "source": [
    "emsemble = emsembleModel(classifiers, 10)"
   ]
  },
  {
   "cell_type": "code",
   "execution_count": 20,
   "id": "99a4517b",
   "metadata": {},
   "outputs": [
    {
     "ename": "ValueError",
     "evalue": "in user code:\n\n    File \"C:\\Users\\tmcle\\.conda\\envs\\tf\\lib\\site-packages\\keras\\engine\\training.py\", line 2041, in predict_function  *\n        return step_function(self, iterator)\n    File \"C:\\Users\\tmcle\\.conda\\envs\\tf\\lib\\site-packages\\keras\\engine\\training.py\", line 2027, in step_function  **\n        outputs = model.distribute_strategy.run(run_step, args=(data,))\n    File \"C:\\Users\\tmcle\\.conda\\envs\\tf\\lib\\site-packages\\keras\\engine\\training.py\", line 2015, in run_step  **\n        outputs = model.predict_step(data)\n    File \"C:\\Users\\tmcle\\.conda\\envs\\tf\\lib\\site-packages\\keras\\engine\\training.py\", line 1983, in predict_step\n        return self(x, training=False)\n    File \"C:\\Users\\tmcle\\.conda\\envs\\tf\\lib\\site-packages\\keras\\utils\\traceback_utils.py\", line 70, in error_handler\n        raise e.with_traceback(filtered_tb) from None\n    File \"C:\\Users\\tmcle\\.conda\\envs\\tf\\lib\\site-packages\\keras\\engine\\input_spec.py\", line 295, in assert_input_compatibility\n        raise ValueError(\n\n    ValueError: Input 0 of layer \"sequential\" is incompatible with the layer: expected shape=(None, 32, 32, 3), found shape=(None, 128, 128, 3)\n",
     "output_type": "error",
     "traceback": [
      "\u001b[1;31m---------------------------------------------------------------------------\u001b[0m",
      "\u001b[1;31mValueError\u001b[0m                                Traceback (most recent call last)",
      "Cell \u001b[1;32mIn[20], line 1\u001b[0m\n\u001b[1;32m----> 1\u001b[0m acc \u001b[38;5;241m=\u001b[39m \u001b[43memsemble\u001b[49m\u001b[38;5;241;43m.\u001b[39;49m\u001b[43mevaluate_by_softmax\u001b[49m\u001b[43m(\u001b[49m\u001b[43mtestX\u001b[49m\u001b[43m,\u001b[49m\u001b[43m \u001b[49m\u001b[43mtestY\u001b[49m\u001b[43m)\u001b[49m\n",
      "Cell \u001b[1;32mIn[17], line 55\u001b[0m, in \u001b[0;36memsembleModel.evaluate_by_softmax\u001b[1;34m(self, dataX, dataY)\u001b[0m\n\u001b[0;32m     54\u001b[0m \u001b[38;5;28;01mdef\u001b[39;00m \u001b[38;5;21mevaluate_by_softmax\u001b[39m(\u001b[38;5;28mself\u001b[39m, dataX, dataY):\n\u001b[1;32m---> 55\u001b[0m     pred \u001b[38;5;241m=\u001b[39m \u001b[38;5;28;43mself\u001b[39;49m\u001b[38;5;241;43m.\u001b[39;49m\u001b[43mpredict_by_softmax\u001b[49m\u001b[43m(\u001b[49m\u001b[43mdataX\u001b[49m\u001b[43m)\u001b[49m\n\u001b[0;32m     56\u001b[0m     ok \u001b[38;5;241m=\u001b[39m \u001b[38;5;241m0\u001b[39m\n\u001b[0;32m     57\u001b[0m     \u001b[38;5;28;01mfor\u001b[39;00m i \u001b[38;5;129;01min\u001b[39;00m \u001b[38;5;28mrange\u001b[39m(\u001b[38;5;28mlen\u001b[39m(pred)):\n",
      "Cell \u001b[1;32mIn[17], line 39\u001b[0m, in \u001b[0;36memsembleModel.predict_by_softmax\u001b[1;34m(self, dataX)\u001b[0m\n\u001b[0;32m     37\u001b[0m preds \u001b[38;5;241m=\u001b[39m []\n\u001b[0;32m     38\u001b[0m \u001b[38;5;28;01mfor\u001b[39;00m clf \u001b[38;5;129;01min\u001b[39;00m \u001b[38;5;28mself\u001b[39m\u001b[38;5;241m.\u001b[39mclassifiers:\n\u001b[1;32m---> 39\u001b[0m     preds\u001b[38;5;241m.\u001b[39mappend(\u001b[43mclf\u001b[49m\u001b[38;5;241;43m.\u001b[39;49m\u001b[43mpredict\u001b[49m\u001b[43m(\u001b[49m\u001b[43mdataX\u001b[49m\u001b[43m)\u001b[49m)\n\u001b[0;32m     41\u001b[0m resultsPred \u001b[38;5;241m=\u001b[39m []\n\u001b[0;32m     42\u001b[0m M \u001b[38;5;241m=\u001b[39m \u001b[38;5;28mlen\u001b[39m(\u001b[38;5;28mself\u001b[39m\u001b[38;5;241m.\u001b[39mclassifiers)\n",
      "File \u001b[1;32m~\\.conda\\envs\\tf\\lib\\site-packages\\keras\\utils\\traceback_utils.py:70\u001b[0m, in \u001b[0;36mfilter_traceback.<locals>.error_handler\u001b[1;34m(*args, **kwargs)\u001b[0m\n\u001b[0;32m     67\u001b[0m     filtered_tb \u001b[38;5;241m=\u001b[39m _process_traceback_frames(e\u001b[38;5;241m.\u001b[39m__traceback__)\n\u001b[0;32m     68\u001b[0m     \u001b[38;5;66;03m# To get the full stack trace, call:\u001b[39;00m\n\u001b[0;32m     69\u001b[0m     \u001b[38;5;66;03m# `tf.debugging.disable_traceback_filtering()`\u001b[39;00m\n\u001b[1;32m---> 70\u001b[0m     \u001b[38;5;28;01mraise\u001b[39;00m e\u001b[38;5;241m.\u001b[39mwith_traceback(filtered_tb) \u001b[38;5;28;01mfrom\u001b[39;00m \u001b[38;5;28;01mNone\u001b[39;00m\n\u001b[0;32m     71\u001b[0m \u001b[38;5;28;01mfinally\u001b[39;00m:\n\u001b[0;32m     72\u001b[0m     \u001b[38;5;28;01mdel\u001b[39;00m filtered_tb\n",
      "File \u001b[1;32m~\\AppData\\Local\\Temp\\__autograph_generated_fileai6zho9s.py:15\u001b[0m, in \u001b[0;36mouter_factory.<locals>.inner_factory.<locals>.tf__predict_function\u001b[1;34m(iterator)\u001b[0m\n\u001b[0;32m     13\u001b[0m \u001b[38;5;28;01mtry\u001b[39;00m:\n\u001b[0;32m     14\u001b[0m     do_return \u001b[38;5;241m=\u001b[39m \u001b[38;5;28;01mTrue\u001b[39;00m\n\u001b[1;32m---> 15\u001b[0m     retval_ \u001b[38;5;241m=\u001b[39m ag__\u001b[38;5;241m.\u001b[39mconverted_call(ag__\u001b[38;5;241m.\u001b[39mld(step_function), (ag__\u001b[38;5;241m.\u001b[39mld(\u001b[38;5;28mself\u001b[39m), ag__\u001b[38;5;241m.\u001b[39mld(iterator)), \u001b[38;5;28;01mNone\u001b[39;00m, fscope)\n\u001b[0;32m     16\u001b[0m \u001b[38;5;28;01mexcept\u001b[39;00m:\n\u001b[0;32m     17\u001b[0m     do_return \u001b[38;5;241m=\u001b[39m \u001b[38;5;28;01mFalse\u001b[39;00m\n",
      "\u001b[1;31mValueError\u001b[0m: in user code:\n\n    File \"C:\\Users\\tmcle\\.conda\\envs\\tf\\lib\\site-packages\\keras\\engine\\training.py\", line 2041, in predict_function  *\n        return step_function(self, iterator)\n    File \"C:\\Users\\tmcle\\.conda\\envs\\tf\\lib\\site-packages\\keras\\engine\\training.py\", line 2027, in step_function  **\n        outputs = model.distribute_strategy.run(run_step, args=(data,))\n    File \"C:\\Users\\tmcle\\.conda\\envs\\tf\\lib\\site-packages\\keras\\engine\\training.py\", line 2015, in run_step  **\n        outputs = model.predict_step(data)\n    File \"C:\\Users\\tmcle\\.conda\\envs\\tf\\lib\\site-packages\\keras\\engine\\training.py\", line 1983, in predict_step\n        return self(x, training=False)\n    File \"C:\\Users\\tmcle\\.conda\\envs\\tf\\lib\\site-packages\\keras\\utils\\traceback_utils.py\", line 70, in error_handler\n        raise e.with_traceback(filtered_tb) from None\n    File \"C:\\Users\\tmcle\\.conda\\envs\\tf\\lib\\site-packages\\keras\\engine\\input_spec.py\", line 295, in assert_input_compatibility\n        raise ValueError(\n\n    ValueError: Input 0 of layer \"sequential\" is incompatible with the layer: expected shape=(None, 32, 32, 3), found shape=(None, 128, 128, 3)\n"
     ]
    }
   ],
   "source": [
    "acc = emsemble.evaluate_by_softmax(testX, testY)"
   ]
  },
  {
   "cell_type": "code",
   "execution_count": null,
   "id": "b7e2a8ba",
   "metadata": {
    "scrolled": true
   },
   "outputs": [],
   "source": [
    "print('Accuracy Emsemble using Softmax: %.3f' % (acc * 100.0))"
   ]
  },
  {
   "cell_type": "code",
   "execution_count": null,
   "id": "48ae2aca",
   "metadata": {},
   "outputs": [],
   "source": [
    "acc = emsemble.evaluate_by_voting(testX, testY)"
   ]
  },
  {
   "cell_type": "code",
   "execution_count": null,
   "id": "1dd345bf",
   "metadata": {},
   "outputs": [],
   "source": [
    "print('Accuracy Emsemble using Voting: %.3f' % (acc * 100.0))"
   ]
  },
  {
   "cell_type": "code",
   "execution_count": null,
   "id": "3327f4c9",
   "metadata": {},
   "outputs": [],
   "source": []
  }
 ],
 "metadata": {
  "kernelspec": {
   "display_name": "Python 3 (ipykernel)",
   "language": "python",
   "name": "python3"
  },
  "language_info": {
   "codemirror_mode": {
    "name": "ipython",
    "version": 3
   },
   "file_extension": ".py",
   "mimetype": "text/x-python",
   "name": "python",
   "nbconvert_exporter": "python",
   "pygments_lexer": "ipython3",
   "version": "3.9.17"
  }
 },
 "nbformat": 4,
 "nbformat_minor": 5
}
