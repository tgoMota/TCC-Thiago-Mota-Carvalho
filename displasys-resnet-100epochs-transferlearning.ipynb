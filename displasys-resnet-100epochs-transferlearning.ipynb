{
 "cells": [
  {
   "cell_type": "code",
   "execution_count": 1,
   "id": "8595164d",
   "metadata": {},
   "outputs": [],
   "source": [
    "import tensorflow as tf\n",
    "from tensorflow import keras\n",
    "import matplotlib.pyplot as plt\n",
    "import os\n",
    "import time\n",
    "import numpy as np"
   ]
  },
  {
   "cell_type": "code",
   "execution_count": 2,
   "id": "f784e728",
   "metadata": {},
   "outputs": [],
   "source": [
    "# baseline model with dropout and data augmentation on the cifar10 dataset\n",
    "import sys\n",
    "from matplotlib import pyplot\n",
    "from keras.datasets import cifar10\n",
    "from keras.utils import to_categorical\n",
    "from keras.models import Sequential\n",
    "from keras.layers import Conv2D\n",
    "from keras.layers import MaxPooling2D\n",
    "from keras.layers import Dense\n",
    "from keras.layers import Flatten\n",
    "from keras.optimizers import SGD\n",
    "from keras.preprocessing.image import ImageDataGenerator\n",
    "from keras.layers import Dropout\n",
    "from keras.layers import BatchNormalization"
   ]
  },
  {
   "cell_type": "code",
   "execution_count": null,
   "id": "45b327a1",
   "metadata": {},
   "outputs": [],
   "source": []
  },
  {
   "cell_type": "code",
   "execution_count": 3,
   "id": "37a42645",
   "metadata": {},
   "outputs": [],
   "source": [
    "# load train and test dataset\n",
    "def load_dataset():\n",
    "    # load dataset\n",
    "    data_x = np.load('data_x_original.npy')\n",
    "    data_y = np.load('data_y_original.npy')\n",
    "    #percentage of the dataset which will be on TRAIN - TEST - VALIDATION\n",
    "    TOTAL_IMAGES = len(data_y)\n",
    "    print(\"TOTAL_IMAGES = \", TOTAL_IMAGES)\n",
    "    \n",
    "    TRAIN_PERCENTAGE = 0.8\n",
    "    TEST_PERCENTAGE = 0.1\n",
    "    VALIDATION_PERCENTAGE = 0.1\n",
    "\n",
    "    train_size = int(TRAIN_PERCENTAGE * TOTAL_IMAGES)\n",
    "    test_size = int(TEST_PERCENTAGE * TOTAL_IMAGES)\n",
    "    validation_size = int(VALIDATION_PERCENTAGE * TOTAL_IMAGES)\n",
    "\n",
    "    train_x = data_x[:train_size] #taking train images from original data\n",
    "    train_y = data_y[:train_size]\n",
    "    data_x = data_x[train_size:] #removing train images from original data\n",
    "    data_y = data_y[train_size:]\n",
    "\n",
    "    test_x = data_x[:test_size] #taking test images from original data\n",
    "    test_y = data_y[:test_size]\n",
    "    data_x = data_x[test_size:] #removing test images from original data\n",
    "    data_y = data_y[test_size:]\n",
    "\n",
    "    validation_x = data_x #all the remainder images we can put on validation\n",
    "    validation_y = data_y\n",
    "\n",
    "    del data_x #free some unused memory\n",
    "    del data_y\n",
    "\n",
    "    print(\"train_size = \", len(train_y))\n",
    "    print(\"test_size = \", len(test_y))\n",
    "    print(\"validation_size = \", len(validation_y))\n",
    " # one hot encode target values\n",
    "    train_y = to_categorical(train_y)\n",
    "    test_y = to_categorical(test_y)\n",
    "    validation_y = to_categorical(validation_y)\n",
    "    return train_x, train_y, test_x, test_y, validation_x, validation_y"
   ]
  },
  {
   "cell_type": "code",
   "execution_count": 4,
   "id": "705eab71",
   "metadata": {},
   "outputs": [],
   "source": [
    "# scale pixels\n",
    "def prep_pixels(train, test, validation):\n",
    " # convert from integers to floats\n",
    " train_norm = train.astype('float32')\n",
    " test_norm = test.astype('float32')\n",
    " validation_norm = validation.astype('float32')\n",
    " # normalize to range 0-1\n",
    " train_norm = train_norm / 255.0\n",
    " test_norm = test_norm / 255.0\n",
    " validation_norm = validation_norm / 255.0\n",
    " # return normalized images\n",
    " return train_norm, test_norm, validation_norm"
   ]
  },
  {
   "cell_type": "code",
   "execution_count": 5,
   "id": "190473d7",
   "metadata": {},
   "outputs": [],
   "source": [
    "# define cnn model\n",
    "def define_model():\n",
    "    new_model = Sequential()\n",
    "    \n",
    "    model = tf.keras.applications.ResNet50(\n",
    "        include_top=False,\n",
    "        weights=\"imagenet\",\n",
    "        input_tensor=None,\n",
    "        input_shape=(128,128,3),\n",
    "        pooling=None,\n",
    "        classes=4,\n",
    "       # classifier_activation=\"softmax\",\n",
    "    #    **kwargs\n",
    "        )\n",
    "    \n",
    "    new_model.add(model)\n",
    "    #3rd conv layer\n",
    "    new_model.add(tf.keras.layers.Conv2D(32, 3, padding=\"same\"))\n",
    "    #new_model.add(tf.keras.layers.BatchNormalization())\n",
    "    new_model.add(tf.keras.layers.Activation(\"relu\"))\n",
    "    new_model.add(tf.keras.layers.MaxPooling2D(2, padding='same'))\n",
    "    #new_model.add(tf.keras.layers.Dropout(0.2))\n",
    "    #4th conv layer\n",
    "    new_model.add(tf.keras.layers.Conv2D(64, 3, padding=\"same\"))\n",
    "    #new_model.add(tf.keras.layers.BatchNormalization())\n",
    "    new_model.add(tf.keras.layers.Activation(\"relu\"))\n",
    "    new_model.add(tf.keras.layers.MaxPooling2D(2, padding='same'))\n",
    "    #new_model.add(tf.keras.layers.Dropout(0.2))\n",
    "    #Flatten Layer\n",
    "    new_model.add(tf.keras.layers.Flatten())\n",
    "\n",
    "    new_model.add(tf.keras.layers.Dense(128))\n",
    "    #new_model.add(tf.keras.layers.BatchNormalization())\n",
    "    new_model.add(tf.keras.layers.Activation(\"relu\"))\n",
    "    new_model.add(tf.keras.layers.Dropout(0.2))\n",
    "    #output Dense Layer\n",
    "    new_model.add(tf.keras.layers.Dense(4))\n",
    "    new_model.add(tf.keras.layers.Activation('softmax'))\n",
    "    \n",
    "    opt = SGD(lr=0.001, momentum=0.9)\n",
    "    new_model.compile(optimizer=opt, loss='categorical_crossentropy', metrics=['accuracy'])\n",
    "    return new_model"
   ]
  },
  {
   "cell_type": "code",
   "execution_count": 6,
   "id": "e5c88955",
   "metadata": {},
   "outputs": [],
   "source": [
    "# plot diagnostic learning curves\n",
    "def summarize_diagnostics(history):\n",
    " # plot loss\n",
    "    model_trained = history\n",
    "    accuracy = model_trained.history['accuracy']\n",
    "    val_accuracy = model_trained.history['val_accuracy']\n",
    "    loss = model_trained.history['loss']\n",
    "    val_loss = model_trained.history['val_loss']\n",
    "    epochs = range(len(accuracy))\n",
    "    plt.plot(epochs, accuracy, 'b', label='Acurácia de treino')\n",
    "    plt.plot(epochs, val_accuracy, 'g', label='Acurácia de validação')\n",
    "    plt.title('Acurácia de treino e validação')\n",
    "    plt.legend()\n",
    "    plt.figure()\n",
    "    plt.plot(epochs, loss, 'b', label='Perda no treino')\n",
    "    plt.plot(epochs, val_loss, 'g', label='Perda na validação')\n",
    "    plt.title('Perda na validação e treino')\n",
    "    plt.legend()\n",
    "    plt.show()"
   ]
  },
  {
   "cell_type": "code",
   "execution_count": 7,
   "id": "55a42e92",
   "metadata": {},
   "outputs": [],
   "source": [
    "epochs = 100\n",
    "verb = 2"
   ]
  },
  {
   "cell_type": "code",
   "execution_count": 8,
   "id": "8459122a",
   "metadata": {},
   "outputs": [
    {
     "name": "stdout",
     "output_type": "stream",
     "text": [
      "TOTAL_IMAGES =  592\n",
      "train_size =  473\n",
      "test_size =  59\n",
      "validation_size =  60\n"
     ]
    },
    {
     "name": "stderr",
     "output_type": "stream",
     "text": [
      "C:\\Users\\tmcle\\.conda\\envs\\tf\\lib\\site-packages\\keras\\optimizers\\optimizer_v2\\gradient_descent.py:111: UserWarning: The `lr` argument is deprecated, use `learning_rate` instead.\n",
      "  super().__init__(name, **kwargs)\n"
     ]
    },
    {
     "name": "stdout",
     "output_type": "stream",
     "text": [
      "Epoch 1/100\n",
      "15/15 - 20s - loss: 1.4637 - accuracy: 0.2939 - val_loss: 1.3858 - val_accuracy: 0.3000 - 20s/epoch - 1s/step\n",
      "Epoch 2/100\n",
      "15/15 - 4s - loss: 0.8846 - accuracy: 0.7082 - val_loss: 1.4130 - val_accuracy: 0.2167 - 4s/epoch - 298ms/step\n",
      "Epoch 3/100\n",
      "15/15 - 5s - loss: 0.4838 - accuracy: 0.8753 - val_loss: 1.6786 - val_accuracy: 0.2167 - 5s/epoch - 314ms/step\n",
      "Epoch 4/100\n",
      "15/15 - 5s - loss: 0.1778 - accuracy: 0.9514 - val_loss: 1.9989 - val_accuracy: 0.2667 - 5s/epoch - 310ms/step\n",
      "Epoch 5/100\n",
      "15/15 - 4s - loss: 0.0784 - accuracy: 0.9894 - val_loss: 2.3865 - val_accuracy: 0.2667 - 4s/epoch - 291ms/step\n",
      "Epoch 6/100\n",
      "15/15 - 5s - loss: 0.0364 - accuracy: 0.9979 - val_loss: 3.3518 - val_accuracy: 0.2667 - 5s/epoch - 342ms/step\n",
      "Epoch 7/100\n",
      "15/15 - 5s - loss: 0.0240 - accuracy: 0.9979 - val_loss: 3.5960 - val_accuracy: 0.2667 - 5s/epoch - 307ms/step\n",
      "Epoch 8/100\n",
      "15/15 - 4s - loss: 0.0157 - accuracy: 0.9979 - val_loss: 4.6667 - val_accuracy: 0.2667 - 4s/epoch - 293ms/step\n",
      "Epoch 9/100\n",
      "15/15 - 4s - loss: 0.0096 - accuracy: 1.0000 - val_loss: 6.1855 - val_accuracy: 0.2667 - 4s/epoch - 284ms/step\n",
      "Epoch 10/100\n",
      "15/15 - 4s - loss: 0.0054 - accuracy: 1.0000 - val_loss: 6.8271 - val_accuracy: 0.2667 - 4s/epoch - 284ms/step\n",
      "Epoch 11/100\n",
      "15/15 - 4s - loss: 0.0064 - accuracy: 1.0000 - val_loss: 10.0287 - val_accuracy: 0.2667 - 4s/epoch - 284ms/step\n",
      "Epoch 12/100\n",
      "15/15 - 4s - loss: 0.0055 - accuracy: 1.0000 - val_loss: 12.1074 - val_accuracy: 0.2667 - 4s/epoch - 292ms/step\n",
      "Epoch 13/100\n",
      "15/15 - 4s - loss: 0.0048 - accuracy: 1.0000 - val_loss: 14.0884 - val_accuracy: 0.2667 - 4s/epoch - 296ms/step\n",
      "Epoch 14/100\n",
      "15/15 - 5s - loss: 0.0036 - accuracy: 1.0000 - val_loss: 14.3601 - val_accuracy: 0.2667 - 5s/epoch - 302ms/step\n",
      "Epoch 15/100\n",
      "15/15 - 5s - loss: 0.0054 - accuracy: 1.0000 - val_loss: 17.8474 - val_accuracy: 0.2667 - 5s/epoch - 306ms/step\n",
      "Epoch 16/100\n",
      "15/15 - 4s - loss: 0.0047 - accuracy: 1.0000 - val_loss: 16.2568 - val_accuracy: 0.2667 - 4s/epoch - 295ms/step\n",
      "Epoch 17/100\n",
      "15/15 - 4s - loss: 0.0043 - accuracy: 1.0000 - val_loss: 15.1363 - val_accuracy: 0.2667 - 4s/epoch - 285ms/step\n",
      "Epoch 18/100\n",
      "15/15 - 4s - loss: 0.0028 - accuracy: 1.0000 - val_loss: 15.3106 - val_accuracy: 0.2667 - 4s/epoch - 284ms/step\n",
      "Epoch 19/100\n",
      "15/15 - 4s - loss: 0.0067 - accuracy: 1.0000 - val_loss: 19.9819 - val_accuracy: 0.2667 - 4s/epoch - 285ms/step\n",
      "Epoch 20/100\n",
      "15/15 - 4s - loss: 0.0025 - accuracy: 1.0000 - val_loss: 20.5488 - val_accuracy: 0.2667 - 4s/epoch - 283ms/step\n",
      "Epoch 21/100\n",
      "15/15 - 4s - loss: 0.0030 - accuracy: 1.0000 - val_loss: 17.3909 - val_accuracy: 0.2667 - 4s/epoch - 283ms/step\n",
      "Epoch 22/100\n",
      "15/15 - 4s - loss: 0.0018 - accuracy: 1.0000 - val_loss: 15.5144 - val_accuracy: 0.2667 - 4s/epoch - 284ms/step\n",
      "Epoch 23/100\n",
      "15/15 - 4s - loss: 0.0027 - accuracy: 1.0000 - val_loss: 14.1379 - val_accuracy: 0.2667 - 4s/epoch - 283ms/step\n",
      "Epoch 24/100\n",
      "15/15 - 4s - loss: 0.0021 - accuracy: 1.0000 - val_loss: 14.4616 - val_accuracy: 0.2667 - 4s/epoch - 284ms/step\n",
      "Epoch 25/100\n",
      "15/15 - 4s - loss: 0.0025 - accuracy: 1.0000 - val_loss: 15.3187 - val_accuracy: 0.2667 - 4s/epoch - 283ms/step\n",
      "Epoch 26/100\n",
      "15/15 - 4s - loss: 0.0020 - accuracy: 1.0000 - val_loss: 17.2710 - val_accuracy: 0.2667 - 4s/epoch - 285ms/step\n",
      "Epoch 27/100\n",
      "15/15 - 4s - loss: 0.0024 - accuracy: 1.0000 - val_loss: 18.4067 - val_accuracy: 0.2667 - 4s/epoch - 284ms/step\n",
      "Epoch 28/100\n",
      "15/15 - 4s - loss: 0.0013 - accuracy: 1.0000 - val_loss: 18.4634 - val_accuracy: 0.2667 - 4s/epoch - 288ms/step\n",
      "Epoch 29/100\n",
      "15/15 - 4s - loss: 0.0019 - accuracy: 1.0000 - val_loss: 16.3571 - val_accuracy: 0.2667 - 4s/epoch - 286ms/step\n",
      "Epoch 30/100\n",
      "15/15 - 4s - loss: 0.0012 - accuracy: 1.0000 - val_loss: 14.4247 - val_accuracy: 0.2667 - 4s/epoch - 285ms/step\n",
      "Epoch 31/100\n",
      "15/15 - 4s - loss: 0.0011 - accuracy: 1.0000 - val_loss: 15.4771 - val_accuracy: 0.2667 - 4s/epoch - 284ms/step\n",
      "Epoch 32/100\n",
      "15/15 - 4s - loss: 9.3391e-04 - accuracy: 1.0000 - val_loss: 15.5969 - val_accuracy: 0.2667 - 4s/epoch - 284ms/step\n",
      "Epoch 33/100\n",
      "15/15 - 4s - loss: 0.0016 - accuracy: 1.0000 - val_loss: 14.0933 - val_accuracy: 0.2667 - 4s/epoch - 287ms/step\n",
      "Epoch 34/100\n",
      "15/15 - 4s - loss: 0.0017 - accuracy: 1.0000 - val_loss: 13.5110 - val_accuracy: 0.2667 - 4s/epoch - 286ms/step\n",
      "Epoch 35/100\n",
      "15/15 - 4s - loss: 9.4924e-04 - accuracy: 1.0000 - val_loss: 13.7734 - val_accuracy: 0.2667 - 4s/epoch - 285ms/step\n",
      "Epoch 36/100\n",
      "15/15 - 4s - loss: 0.0013 - accuracy: 1.0000 - val_loss: 12.2572 - val_accuracy: 0.2667 - 4s/epoch - 286ms/step\n",
      "Epoch 37/100\n",
      "15/15 - 4s - loss: 0.0012 - accuracy: 1.0000 - val_loss: 11.3682 - val_accuracy: 0.2667 - 4s/epoch - 291ms/step\n",
      "Epoch 38/100\n",
      "15/15 - 4s - loss: 9.4505e-04 - accuracy: 1.0000 - val_loss: 11.1662 - val_accuracy: 0.2667 - 4s/epoch - 284ms/step\n",
      "Epoch 39/100\n",
      "15/15 - 4s - loss: 0.0025 - accuracy: 1.0000 - val_loss: 10.2302 - val_accuracy: 0.2667 - 4s/epoch - 285ms/step\n",
      "Epoch 40/100\n",
      "15/15 - 4s - loss: 0.0012 - accuracy: 1.0000 - val_loss: 10.7613 - val_accuracy: 0.2167 - 4s/epoch - 287ms/step\n",
      "Epoch 41/100\n",
      "15/15 - 4s - loss: 0.0024 - accuracy: 1.0000 - val_loss: 11.0636 - val_accuracy: 0.2667 - 4s/epoch - 289ms/step\n",
      "Epoch 42/100\n",
      "15/15 - 4s - loss: 0.0021 - accuracy: 1.0000 - val_loss: 13.6192 - val_accuracy: 0.2667 - 4s/epoch - 285ms/step\n",
      "Epoch 43/100\n",
      "15/15 - 4s - loss: 5.1538e-04 - accuracy: 1.0000 - val_loss: 13.8050 - val_accuracy: 0.2667 - 4s/epoch - 289ms/step\n",
      "Epoch 44/100\n",
      "15/15 - 4s - loss: 7.5202e-04 - accuracy: 1.0000 - val_loss: 14.3740 - val_accuracy: 0.2667 - 4s/epoch - 285ms/step\n",
      "Epoch 45/100\n",
      "15/15 - 4s - loss: 0.0011 - accuracy: 1.0000 - val_loss: 15.1678 - val_accuracy: 0.2667 - 4s/epoch - 287ms/step\n",
      "Epoch 46/100\n",
      "15/15 - 4s - loss: 6.9271e-04 - accuracy: 1.0000 - val_loss: 16.6439 - val_accuracy: 0.2667 - 4s/epoch - 287ms/step\n",
      "Epoch 47/100\n",
      "15/15 - 4s - loss: 5.5983e-04 - accuracy: 1.0000 - val_loss: 17.2047 - val_accuracy: 0.2667 - 4s/epoch - 292ms/step\n",
      "Epoch 48/100\n",
      "15/15 - 4s - loss: 5.2369e-04 - accuracy: 1.0000 - val_loss: 16.6447 - val_accuracy: 0.2667 - 4s/epoch - 290ms/step\n",
      "Epoch 49/100\n",
      "15/15 - 4s - loss: 0.0012 - accuracy: 1.0000 - val_loss: 13.3727 - val_accuracy: 0.2667 - 4s/epoch - 289ms/step\n",
      "Epoch 50/100\n",
      "15/15 - 4s - loss: 0.0011 - accuracy: 1.0000 - val_loss: 12.3294 - val_accuracy: 0.2667 - 4s/epoch - 295ms/step\n",
      "Epoch 51/100\n",
      "15/15 - 4s - loss: 7.5136e-04 - accuracy: 1.0000 - val_loss: 12.0596 - val_accuracy: 0.2667 - 4s/epoch - 294ms/step\n",
      "Epoch 52/100\n",
      "15/15 - 4s - loss: 9.3901e-04 - accuracy: 1.0000 - val_loss: 12.7573 - val_accuracy: 0.2667 - 4s/epoch - 287ms/step\n",
      "Epoch 53/100\n",
      "15/15 - 4s - loss: 0.0011 - accuracy: 1.0000 - val_loss: 12.2378 - val_accuracy: 0.2667 - 4s/epoch - 289ms/step\n",
      "Epoch 54/100\n",
      "15/15 - 4s - loss: 7.4256e-04 - accuracy: 1.0000 - val_loss: 12.2755 - val_accuracy: 0.2667 - 4s/epoch - 287ms/step\n",
      "Epoch 55/100\n",
      "15/15 - 4s - loss: 4.4299e-04 - accuracy: 1.0000 - val_loss: 12.4688 - val_accuracy: 0.2667 - 4s/epoch - 289ms/step\n",
      "Epoch 56/100\n",
      "15/15 - 4s - loss: 5.6586e-04 - accuracy: 1.0000 - val_loss: 12.9064 - val_accuracy: 0.2667 - 4s/epoch - 284ms/step\n",
      "Epoch 57/100\n",
      "15/15 - 4s - loss: 3.1085e-04 - accuracy: 1.0000 - val_loss: 12.9315 - val_accuracy: 0.2667 - 4s/epoch - 285ms/step\n",
      "Epoch 58/100\n",
      "15/15 - 4s - loss: 6.5477e-04 - accuracy: 1.0000 - val_loss: 13.6788 - val_accuracy: 0.2667 - 4s/epoch - 285ms/step\n",
      "Epoch 59/100\n",
      "15/15 - 4s - loss: 7.7756e-04 - accuracy: 1.0000 - val_loss: 14.1255 - val_accuracy: 0.2667 - 4s/epoch - 285ms/step\n",
      "Epoch 60/100\n",
      "15/15 - 4s - loss: 6.1642e-04 - accuracy: 1.0000 - val_loss: 12.9294 - val_accuracy: 0.2667 - 4s/epoch - 285ms/step\n",
      "Epoch 61/100\n",
      "15/15 - 4s - loss: 6.2995e-04 - accuracy: 1.0000 - val_loss: 12.9938 - val_accuracy: 0.2667 - 4s/epoch - 285ms/step\n",
      "Epoch 62/100\n",
      "15/15 - 4s - loss: 6.2930e-04 - accuracy: 1.0000 - val_loss: 13.3082 - val_accuracy: 0.2667 - 4s/epoch - 286ms/step\n",
      "Epoch 63/100\n",
      "15/15 - 4s - loss: 3.1133e-04 - accuracy: 1.0000 - val_loss: 13.1950 - val_accuracy: 0.2667 - 4s/epoch - 285ms/step\n",
      "Epoch 64/100\n",
      "15/15 - 4s - loss: 5.2539e-04 - accuracy: 1.0000 - val_loss: 13.3324 - val_accuracy: 0.2667 - 4s/epoch - 285ms/step\n",
      "Epoch 65/100\n",
      "15/15 - 4s - loss: 4.5033e-04 - accuracy: 1.0000 - val_loss: 13.5245 - val_accuracy: 0.2667 - 4s/epoch - 286ms/step\n"
     ]
    },
    {
     "name": "stdout",
     "output_type": "stream",
     "text": [
      "Epoch 66/100\n",
      "15/15 - 4s - loss: 6.0210e-04 - accuracy: 1.0000 - val_loss: 13.8224 - val_accuracy: 0.2667 - 4s/epoch - 285ms/step\n",
      "Epoch 67/100\n",
      "15/15 - 4s - loss: 3.1998e-04 - accuracy: 1.0000 - val_loss: 13.9356 - val_accuracy: 0.2667 - 4s/epoch - 285ms/step\n",
      "Epoch 68/100\n",
      "15/15 - 4s - loss: 4.4090e-04 - accuracy: 1.0000 - val_loss: 14.1663 - val_accuracy: 0.2667 - 4s/epoch - 285ms/step\n",
      "Epoch 69/100\n",
      "15/15 - 4s - loss: 5.8217e-04 - accuracy: 1.0000 - val_loss: 14.5517 - val_accuracy: 0.2667 - 4s/epoch - 285ms/step\n",
      "Epoch 70/100\n",
      "15/15 - 4s - loss: 6.8566e-04 - accuracy: 1.0000 - val_loss: 16.2109 - val_accuracy: 0.2667 - 4s/epoch - 284ms/step\n",
      "Epoch 71/100\n",
      "15/15 - 4s - loss: 4.5804e-04 - accuracy: 1.0000 - val_loss: 16.4577 - val_accuracy: 0.2667 - 4s/epoch - 284ms/step\n",
      "Epoch 72/100\n",
      "15/15 - 4s - loss: 6.6870e-04 - accuracy: 1.0000 - val_loss: 17.0880 - val_accuracy: 0.2667 - 4s/epoch - 285ms/step\n",
      "Epoch 73/100\n",
      "15/15 - 4s - loss: 4.2946e-04 - accuracy: 1.0000 - val_loss: 18.8828 - val_accuracy: 0.2667 - 4s/epoch - 285ms/step\n",
      "Epoch 74/100\n",
      "15/15 - 4s - loss: 6.4435e-04 - accuracy: 1.0000 - val_loss: 17.4351 - val_accuracy: 0.2667 - 4s/epoch - 285ms/step\n",
      "Epoch 75/100\n",
      "15/15 - 4s - loss: 5.8257e-04 - accuracy: 1.0000 - val_loss: 17.2540 - val_accuracy: 0.2667 - 4s/epoch - 285ms/step\n",
      "Epoch 76/100\n",
      "15/15 - 4s - loss: 9.2037e-04 - accuracy: 1.0000 - val_loss: 17.3096 - val_accuracy: 0.2667 - 4s/epoch - 285ms/step\n",
      "Epoch 77/100\n",
      "15/15 - 4s - loss: 2.8739e-04 - accuracy: 1.0000 - val_loss: 17.4065 - val_accuracy: 0.2667 - 4s/epoch - 285ms/step\n",
      "Epoch 78/100\n",
      "15/15 - 4s - loss: 4.1137e-04 - accuracy: 1.0000 - val_loss: 17.3927 - val_accuracy: 0.2667 - 4s/epoch - 285ms/step\n",
      "Epoch 79/100\n",
      "15/15 - 4s - loss: 4.6372e-04 - accuracy: 1.0000 - val_loss: 17.1191 - val_accuracy: 0.2667 - 4s/epoch - 286ms/step\n",
      "Epoch 80/100\n",
      "15/15 - 4s - loss: 0.0010 - accuracy: 1.0000 - val_loss: 21.6515 - val_accuracy: 0.2667 - 4s/epoch - 285ms/step\n",
      "Epoch 81/100\n",
      "15/15 - 4s - loss: 3.2453e-04 - accuracy: 1.0000 - val_loss: 22.7889 - val_accuracy: 0.2667 - 4s/epoch - 286ms/step\n",
      "Epoch 82/100\n",
      "15/15 - 4s - loss: 4.8122e-04 - accuracy: 1.0000 - val_loss: 22.8088 - val_accuracy: 0.2667 - 4s/epoch - 285ms/step\n",
      "Epoch 83/100\n",
      "15/15 - 4s - loss: 4.3289e-04 - accuracy: 1.0000 - val_loss: 22.6087 - val_accuracy: 0.2667 - 4s/epoch - 285ms/step\n",
      "Epoch 84/100\n",
      "15/15 - 4s - loss: 2.6868e-04 - accuracy: 1.0000 - val_loss: 21.9407 - val_accuracy: 0.2667 - 4s/epoch - 286ms/step\n",
      "Epoch 85/100\n",
      "15/15 - 4s - loss: 3.0165e-04 - accuracy: 1.0000 - val_loss: 21.4561 - val_accuracy: 0.2667 - 4s/epoch - 286ms/step\n",
      "Epoch 86/100\n",
      "15/15 - 4s - loss: 3.8568e-04 - accuracy: 1.0000 - val_loss: 20.8616 - val_accuracy: 0.2667 - 4s/epoch - 286ms/step\n",
      "Epoch 87/100\n",
      "15/15 - 4s - loss: 2.3624e-04 - accuracy: 1.0000 - val_loss: 20.6334 - val_accuracy: 0.2667 - 4s/epoch - 286ms/step\n",
      "Epoch 88/100\n",
      "15/15 - 4s - loss: 3.9835e-04 - accuracy: 1.0000 - val_loss: 20.1882 - val_accuracy: 0.2667 - 4s/epoch - 286ms/step\n",
      "Epoch 89/100\n",
      "15/15 - 4s - loss: 4.7529e-04 - accuracy: 1.0000 - val_loss: 19.6228 - val_accuracy: 0.2667 - 4s/epoch - 285ms/step\n",
      "Epoch 90/100\n",
      "15/15 - 4s - loss: 5.1945e-04 - accuracy: 1.0000 - val_loss: 19.2149 - val_accuracy: 0.2667 - 4s/epoch - 286ms/step\n",
      "Epoch 91/100\n",
      "15/15 - 4s - loss: 1.6894e-04 - accuracy: 1.0000 - val_loss: 18.7079 - val_accuracy: 0.2667 - 4s/epoch - 286ms/step\n",
      "Epoch 92/100\n",
      "15/15 - 4s - loss: 2.2244e-04 - accuracy: 1.0000 - val_loss: 18.1852 - val_accuracy: 0.2667 - 4s/epoch - 286ms/step\n",
      "Epoch 93/100\n",
      "15/15 - 4s - loss: 2.7224e-04 - accuracy: 1.0000 - val_loss: 17.4782 - val_accuracy: 0.2667 - 4s/epoch - 287ms/step\n",
      "Epoch 94/100\n",
      "15/15 - 4s - loss: 2.6735e-04 - accuracy: 1.0000 - val_loss: 16.4952 - val_accuracy: 0.2667 - 4s/epoch - 286ms/step\n",
      "Epoch 95/100\n",
      "15/15 - 4s - loss: 1.7077e-04 - accuracy: 1.0000 - val_loss: 15.4081 - val_accuracy: 0.2667 - 4s/epoch - 287ms/step\n",
      "Epoch 96/100\n",
      "15/15 - 4s - loss: 2.1306e-04 - accuracy: 1.0000 - val_loss: 14.6282 - val_accuracy: 0.2667 - 4s/epoch - 287ms/step\n",
      "Epoch 97/100\n",
      "15/15 - 4s - loss: 7.3027e-04 - accuracy: 1.0000 - val_loss: 13.6254 - val_accuracy: 0.2667 - 4s/epoch - 288ms/step\n",
      "Epoch 98/100\n",
      "15/15 - 4s - loss: 2.7978e-04 - accuracy: 1.0000 - val_loss: 12.9701 - val_accuracy: 0.2667 - 4s/epoch - 287ms/step\n",
      "Epoch 99/100\n",
      "15/15 - 4s - loss: 1.9476e-04 - accuracy: 1.0000 - val_loss: 12.1507 - val_accuracy: 0.2667 - 4s/epoch - 287ms/step\n",
      "Epoch 100/100\n",
      "15/15 - 4s - loss: 3.5252e-04 - accuracy: 1.0000 - val_loss: 11.2102 - val_accuracy: 0.2333 - 4s/epoch - 288ms/step\n"
     ]
    }
   ],
   "source": [
    "trainX, trainY, testX, testY, validationX, validationY = load_dataset()\n",
    " # prepare pixel data\n",
    "trainX, testX, validationX = prep_pixels(trainX, testX, validationX)\n",
    " # define model\n",
    "model = define_model()\n",
    "\n",
    "history = model.fit(trainX, trainY, epochs=epochs, validation_data=(validationX, validationY), verbose=verb)\n"
   ]
  },
  {
   "cell_type": "code",
   "execution_count": 9,
   "id": "93e2ef6e",
   "metadata": {},
   "outputs": [
    {
     "name": "stdout",
     "output_type": "stream",
     "text": [
      "2/2 - 1s - loss: 9.9939 - accuracy: 0.3390 - 729ms/epoch - 365ms/step\n",
      "Acurácia: 33.898\n"
     ]
    }
   ],
   "source": [
    " # evaluate model\n",
    "_, acc = model.evaluate(testX, testY, verbose=verb)\n",
    "print('Acurácia: %.3f' % (acc * 100.0))"
   ]
  },
  {
   "cell_type": "code",
   "execution_count": 10,
   "id": "8a2cc590",
   "metadata": {},
   "outputs": [
    {
     "data": {
      "image/png": "[encoded data removed]",
      "text/plain": [
       "<Figure size 640x480 with 1 Axes>"
      ]
     },
     "metadata": {},
     "output_type": "display_data"
    },
    {
     "data": {
      "image/png": "[encoded data removed]",
      "text/plain": [
       "<Figure size 640x480 with 1 Axes>"
      ]
     },
     "metadata": {},
     "output_type": "display_data"
    }
   ],
   "source": [
    " # learning curves\n",
    "summarize_diagnostics(history)"
   ]
  },
  {
   "cell_type": "code",
   "execution_count": 11,
   "id": "ff2f423a",
   "metadata": {},
   "outputs": [
    {
     "name": "stderr",
     "output_type": "stream",
     "text": [
      "WARNING:absl:Found untraced functions such as _jit_compiled_convolution_op, _jit_compiled_convolution_op, _jit_compiled_convolution_op, _jit_compiled_convolution_op, _jit_compiled_convolution_op while saving (showing 5 of 55). These functions will not be directly callable after loading.\n"
     ]
    },
    {
     "name": "stdout",
     "output_type": "stream",
     "text": [
      "INFO:tensorflow:Assets written to: displasys-resnet50-baseline-holdout-100epochs_transferlearning.npy\\assets\n"
     ]
    },
    {
     "name": "stderr",
     "output_type": "stream",
     "text": [
      "INFO:tensorflow:Assets written to: displasys-resnet50-baseline-holdout-100epochs_transferlearning.npy\\assets\n"
     ]
    }
   ],
   "source": [
    "model_name = f'displasys-resnet50-baseline-holdout-{epochs}epochs_transferlearning.npy'\n",
    "model.save(model_name)"
   ]
  },
  {
   "cell_type": "code",
   "execution_count": 12,
   "id": "53c1cb5e",
   "metadata": {},
   "outputs": [],
   "source": [
    "# entry point, run the test harness\n",
    "#run_test_harness(epochs=100, verb=1)"
   ]
  },
  {
   "cell_type": "code",
   "execution_count": null,
   "id": "df193403",
   "metadata": {},
   "outputs": [],
   "source": []
  }
 ],
 "metadata": {
  "kernelspec": {
   "display_name": "Python 3 (ipykernel)",
   "language": "python",
   "name": "python3"
  },
  "language_info": {
   "codemirror_mode": {
    "name": "ipython",
    "version": 3
   },
   "file_extension": ".py",
   "mimetype": "text/x-python",
   "name": "python",
   "nbconvert_exporter": "python",
   "pygments_lexer": "ipython3",
   "version": "3.9.17"
  }
 },
 "nbformat": 4,
 "nbformat_minor": 5
}
