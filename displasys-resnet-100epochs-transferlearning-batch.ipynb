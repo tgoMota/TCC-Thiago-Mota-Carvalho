{
 "cells": [
  {
   "cell_type": "code",
   "execution_count": 55,
   "id": "8595164d",
   "metadata": {},
   "outputs": [],
   "source": [
    "import tensorflow as tf\n",
    "from tensorflow import keras\n",
    "import matplotlib.pyplot as plt\n",
    "import os\n",
    "import time\n",
    "import numpy as np"
   ]
  },
  {
   "cell_type": "code",
   "execution_count": 56,
   "id": "f784e728",
   "metadata": {},
   "outputs": [],
   "source": [
    "# baseline model with dropout and data augmentation on the cifar10 dataset\n",
    "import sys\n",
    "from matplotlib import pyplot\n",
    "from keras.datasets import cifar10\n",
    "from keras.utils import to_categorical\n",
    "from keras.models import Sequential\n",
    "from keras.layers import Conv2D\n",
    "from keras.layers import MaxPooling2D\n",
    "from keras.layers import Dense\n",
    "from keras.layers import Flatten\n",
    "from keras.optimizers import SGD\n",
    "from keras.preprocessing.image import ImageDataGenerator\n",
    "from keras.layers import Dropout\n",
    "from keras.layers import BatchNormalization"
   ]
  },
  {
   "cell_type": "code",
   "execution_count": null,
   "id": "45b327a1",
   "metadata": {},
   "outputs": [],
   "source": []
  },
  {
   "cell_type": "code",
   "execution_count": 57,
   "id": "37a42645",
   "metadata": {},
   "outputs": [],
   "source": [
    "# load train and test dataset\n",
    "def load_dataset():\n",
    "    # load dataset\n",
    "    data_x = np.load('data_x_original.npy')\n",
    "    data_y = np.load('data_y_original.npy')\n",
    "    #percentage of the dataset which will be on TRAIN - TEST - VALIDATION\n",
    "    TOTAL_IMAGES = len(data_y)\n",
    "    print(\"TOTAL_IMAGES = \", TOTAL_IMAGES)\n",
    "    \n",
    "    TRAIN_PERCENTAGE = 0.8\n",
    "    TEST_PERCENTAGE = 0.1\n",
    "    VALIDATION_PERCENTAGE = 0.1\n",
    "\n",
    "    train_size = int(TRAIN_PERCENTAGE * TOTAL_IMAGES)\n",
    "    test_size = int(TEST_PERCENTAGE * TOTAL_IMAGES)\n",
    "    validation_size = int(VALIDATION_PERCENTAGE * TOTAL_IMAGES)\n",
    "\n",
    "    train_x = data_x[:train_size] #taking train images from original data\n",
    "    train_y = data_y[:train_size]\n",
    "    data_x = data_x[train_size:] #removing train images from original data\n",
    "    data_y = data_y[train_size:]\n",
    "\n",
    "    test_x = data_x[:test_size] #taking test images from original data\n",
    "    test_y = data_y[:test_size]\n",
    "    data_x = data_x[test_size:] #removing test images from original data\n",
    "    data_y = data_y[test_size:]\n",
    "\n",
    "    validation_x = data_x #all the remainder images we can put on validation\n",
    "    validation_y = data_y\n",
    "\n",
    "    del data_x #free some unused memory\n",
    "    del data_y\n",
    "\n",
    "    print(\"train_size = \", len(train_y))\n",
    "    print(\"test_size = \", len(test_y))\n",
    "    print(\"validation_size = \", len(validation_y))\n",
    " # one hot encode target values\n",
    "    train_y = to_categorical(train_y)\n",
    "    test_y = to_categorical(test_y)\n",
    "    validation_y = to_categorical(validation_y)\n",
    "    return train_x, train_y, test_x, test_y, validation_x, validation_y"
   ]
  },
  {
   "cell_type": "code",
   "execution_count": 58,
   "id": "705eab71",
   "metadata": {},
   "outputs": [],
   "source": [
    "# scale pixels\n",
    "def prep_pixels(train, test, validation):\n",
    " # convert from integers to floats\n",
    " train_norm = train.astype('float32')\n",
    " test_norm = test.astype('float32')\n",
    " validation_norm = validation.astype('float32')\n",
    " # normalize to range 0-1\n",
    " train_norm = train_norm / 255.0\n",
    " test_norm = test_norm / 255.0\n",
    " validation_norm = validation_norm / 255.0\n",
    " # return normalized images\n",
    " return train_norm, test_norm, validation_norm"
   ]
  },
  {
   "cell_type": "code",
   "execution_count": 59,
   "id": "190473d7",
   "metadata": {},
   "outputs": [],
   "source": [
    "# define cnn model\n",
    "def define_model():\n",
    "    new_model = Sequential()\n",
    "    \n",
    "    model = tf.keras.applications.ResNet50(\n",
    "        include_top=False,\n",
    "        weights=\"imagenet\",\n",
    "        input_tensor=None,\n",
    "        input_shape=(128,128,3),\n",
    "        pooling=None,\n",
    "        classes=4,\n",
    "       # classifier_activation=\"softmax\",\n",
    "    #    **kwargs\n",
    "        )\n",
    "    \n",
    "    new_model.add(model)\n",
    "    #3rd conv layer\n",
    "    new_model.add(tf.keras.layers.Conv2D(32, 3, padding=\"same\"))\n",
    "    new_model.add(tf.keras.layers.BatchNormalization())\n",
    "    new_model.add(tf.keras.layers.Activation(\"relu\"))\n",
    "    new_model.add(tf.keras.layers.MaxPooling2D(2))\n",
    "    #new_model.add(tf.keras.layers.Dropout(0.2))\n",
    "    #4th conv layer\n",
    "    new_model.add(tf.keras.layers.Conv2D(64, 3, padding=\"same\"))\n",
    "    new_model.add(tf.keras.layers.BatchNormalization())\n",
    "    new_model.add(tf.keras.layers.Activation(\"relu\"))\n",
    "    new_model.add(tf.keras.layers.MaxPooling2D(2))\n",
    "    #new_model.add(tf.keras.layers.Dropout(0.2))\n",
    "    #Flatten Layer\n",
    "    new_model.add(tf.keras.layers.Flatten())\n",
    "\n",
    "    new_model.add(tf.keras.layers.Dense(128))\n",
    "    new_model.add(tf.keras.layers.BatchNormalization())\n",
    "    new_model.add(tf.keras.layers.Activation(\"relu\"))\n",
    "    new_model.add(tf.keras.layers.Dropout(0.2))\n",
    "    #output Dense Layer\n",
    "    new_model.add(tf.keras.layers.Dense(4))\n",
    "    new_model.add(tf.keras.layers.Activation('softmax'))\n",
    "    adam = tf.keras.optimizers.Adam(lr=0.001)\n",
    "    new_model.compile(optimizer=adam, loss='categorical_crossentropy', metrics=['accuracy'])\n",
    "    return new_model"
   ]
  },
  {
   "cell_type": "code",
   "execution_count": 60,
   "id": "e5c88955",
   "metadata": {},
   "outputs": [],
   "source": [
    "# plot diagnostic learning curves\n",
    "def summarize_diagnostics(history):\n",
    " # plot loss\n",
    "    model_trained = history\n",
    "    accuracy = model_trained.history['accuracy']\n",
    "    val_accuracy = model_trained.history['val_accuracy']\n",
    "    loss = model_trained.history['loss']\n",
    "    val_loss = model_trained.history['val_loss']\n",
    "    epochs = range(len(accuracy))\n",
    "    plt.plot(epochs, accuracy, 'b', label='Acurácia de treino')\n",
    "    plt.plot(epochs, val_accuracy, 'g', label='Acurácia de validação')\n",
    "    plt.title('Acurácia de treino e validação')\n",
    "    plt.legend()\n",
    "    plt.figure()\n",
    "    plt.plot(epochs, loss, 'b', label='Perda no treino')\n",
    "    plt.plot(epochs, val_loss, 'g', label='Perda na validação')\n",
    "    plt.title('Perda na validação e treino')\n",
    "    plt.legend()\n",
    "    plt.show()"
   ]
  },
  {
   "cell_type": "code",
   "execution_count": 61,
   "id": "55a42e92",
   "metadata": {},
   "outputs": [],
   "source": [
    "epochs = 100\n",
    "verb = 2"
   ]
  },
  {
   "cell_type": "code",
   "execution_count": 62,
   "id": "8459122a",
   "metadata": {},
   "outputs": [
    {
     "name": "stdout",
     "output_type": "stream",
     "text": [
      "TOTAL_IMAGES =  592\n",
      "train_size =  473\n",
      "test_size =  59\n",
      "validation_size =  60\n"
     ]
    }
   ],
   "source": [
    "trainX, trainY, testX, testY, validationX, validationY = load_dataset()\n",
    " # prepare pixel data\n",
    "trainX, testX, validationX = prep_pixels(trainX, testX, validationX)\n",
    " # define model\n",
    "model = define_model()\n",
    "\n",
    "\n"
   ]
  },
  {
   "cell_type": "code",
   "execution_count": 63,
   "id": "6313ca87",
   "metadata": {},
   "outputs": [
    {
     "data": {
      "text/plain": [
       "array([1., 0., 0., 0.], dtype=float32)"
      ]
     },
     "execution_count": 63,
     "metadata": {},
     "output_type": "execute_result"
    }
   ],
   "source": [
    "#validationX[0]\n",
    "trainY[0]"
   ]
  },
  {
   "cell_type": "code",
   "execution_count": 64,
   "id": "9969c7a2",
   "metadata": {},
   "outputs": [
    {
     "name": "stdout",
     "output_type": "stream",
     "text": [
      "Epoch 1/100\n",
      "15/15 - 11s - loss: 1.2433 - accuracy: 0.4249 - val_loss: 5.6942 - val_accuracy: 0.2881 - 11s/epoch - 738ms/step\n",
      "Epoch 2/100\n",
      "15/15 - 4s - loss: 0.6542 - accuracy: 0.7505 - val_loss: 5.6593 - val_accuracy: 0.2881 - 4s/epoch - 286ms/step\n",
      "Epoch 3/100\n",
      "15/15 - 4s - loss: 0.3871 - accuracy: 0.8605 - val_loss: 10.1386 - val_accuracy: 0.2373 - 4s/epoch - 286ms/step\n",
      "Epoch 4/100\n",
      "15/15 - 4s - loss: 0.2618 - accuracy: 0.9070 - val_loss: 18.4443 - val_accuracy: 0.2373 - 4s/epoch - 286ms/step\n",
      "Epoch 5/100\n",
      "15/15 - 4s - loss: 0.1938 - accuracy: 0.9239 - val_loss: 30.4628 - val_accuracy: 0.2373 - 4s/epoch - 287ms/step\n",
      "Epoch 6/100\n",
      "15/15 - 4s - loss: 0.1914 - accuracy: 0.9302 - val_loss: 6.9412 - val_accuracy: 0.2881 - 4s/epoch - 288ms/step\n",
      "Epoch 7/100\n",
      "15/15 - 4s - loss: 0.2387 - accuracy: 0.9260 - val_loss: 25.1373 - val_accuracy: 0.2881 - 4s/epoch - 287ms/step\n",
      "Epoch 8/100\n",
      "15/15 - 4s - loss: 0.1479 - accuracy: 0.9514 - val_loss: 59.0131 - val_accuracy: 0.2881 - 4s/epoch - 287ms/step\n",
      "Epoch 9/100\n",
      "15/15 - 4s - loss: 0.1235 - accuracy: 0.9598 - val_loss: 70.0402 - val_accuracy: 0.2881 - 4s/epoch - 286ms/step\n",
      "Epoch 10/100\n",
      "15/15 - 4s - loss: 0.1061 - accuracy: 0.9641 - val_loss: 69.3080 - val_accuracy: 0.2881 - 4s/epoch - 286ms/step\n",
      "Epoch 11/100\n",
      "15/15 - 4s - loss: 0.0795 - accuracy: 0.9725 - val_loss: 44.9916 - val_accuracy: 0.2881 - 4s/epoch - 286ms/step\n",
      "Epoch 12/100\n",
      "15/15 - 4s - loss: 0.1236 - accuracy: 0.9556 - val_loss: 16.9966 - val_accuracy: 0.2881 - 4s/epoch - 286ms/step\n",
      "Epoch 13/100\n",
      "15/15 - 4s - loss: 0.1383 - accuracy: 0.9577 - val_loss: 50.9101 - val_accuracy: 0.2881 - 4s/epoch - 286ms/step\n",
      "Epoch 14/100\n",
      "15/15 - 4s - loss: 0.1053 - accuracy: 0.9683 - val_loss: 22.1949 - val_accuracy: 0.2881 - 4s/epoch - 286ms/step\n",
      "Epoch 15/100\n",
      "15/15 - 4s - loss: 0.1036 - accuracy: 0.9662 - val_loss: 4.0354 - val_accuracy: 0.2373 - 4s/epoch - 287ms/step\n",
      "Epoch 16/100\n",
      "15/15 - 4s - loss: 0.0791 - accuracy: 0.9725 - val_loss: 3.2799 - val_accuracy: 0.2373 - 4s/epoch - 288ms/step\n",
      "Epoch 17/100\n",
      "15/15 - 4s - loss: 0.0445 - accuracy: 0.9852 - val_loss: 2.3020 - val_accuracy: 0.2373 - 4s/epoch - 287ms/step\n",
      "Epoch 18/100\n",
      "15/15 - 4s - loss: 0.0710 - accuracy: 0.9810 - val_loss: 3.8918 - val_accuracy: 0.2881 - 4s/epoch - 286ms/step\n",
      "Epoch 19/100\n",
      "15/15 - 4s - loss: 0.0397 - accuracy: 0.9894 - val_loss: 3.6590 - val_accuracy: 0.2881 - 4s/epoch - 287ms/step\n",
      "Epoch 20/100\n",
      "15/15 - 4s - loss: 0.0473 - accuracy: 0.9937 - val_loss: 3.4893 - val_accuracy: 0.2881 - 4s/epoch - 287ms/step\n",
      "Epoch 21/100\n",
      "15/15 - 4s - loss: 0.0467 - accuracy: 0.9831 - val_loss: 2.1128 - val_accuracy: 0.2881 - 4s/epoch - 287ms/step\n",
      "Epoch 22/100\n",
      "15/15 - 4s - loss: 0.0856 - accuracy: 0.9767 - val_loss: 2.8883 - val_accuracy: 0.2881 - 4s/epoch - 286ms/step\n",
      "Epoch 23/100\n",
      "15/15 - 4s - loss: 0.0805 - accuracy: 0.9767 - val_loss: 3.6594 - val_accuracy: 0.2881 - 4s/epoch - 287ms/step\n",
      "Epoch 24/100\n",
      "15/15 - 4s - loss: 0.0492 - accuracy: 0.9852 - val_loss: 4.4043 - val_accuracy: 0.2881 - 4s/epoch - 287ms/step\n",
      "Epoch 25/100\n",
      "15/15 - 4s - loss: 0.0270 - accuracy: 0.9937 - val_loss: 2.3711 - val_accuracy: 0.2881 - 4s/epoch - 287ms/step\n",
      "Epoch 26/100\n",
      "15/15 - 4s - loss: 0.0669 - accuracy: 0.9725 - val_loss: 3.1027 - val_accuracy: 0.2881 - 4s/epoch - 287ms/step\n",
      "Epoch 27/100\n",
      "15/15 - 4s - loss: 0.1466 - accuracy: 0.9471 - val_loss: 2.0001 - val_accuracy: 0.2881 - 4s/epoch - 288ms/step\n",
      "Epoch 28/100\n",
      "15/15 - 4s - loss: 0.0845 - accuracy: 0.9767 - val_loss: 3.3152 - val_accuracy: 0.2881 - 4s/epoch - 287ms/step\n",
      "Epoch 29/100\n",
      "15/15 - 4s - loss: 0.0332 - accuracy: 0.9873 - val_loss: 3.8645 - val_accuracy: 0.2881 - 4s/epoch - 287ms/step\n",
      "Epoch 30/100\n",
      "15/15 - 4s - loss: 0.0221 - accuracy: 0.9937 - val_loss: 2.6802 - val_accuracy: 0.3051 - 4s/epoch - 288ms/step\n",
      "Epoch 31/100\n",
      "15/15 - 4s - loss: 0.0228 - accuracy: 0.9937 - val_loss: 3.2863 - val_accuracy: 0.2373 - 4s/epoch - 288ms/step\n",
      "Epoch 32/100\n",
      "15/15 - 4s - loss: 0.0136 - accuracy: 0.9979 - val_loss: 2.3231 - val_accuracy: 0.2881 - 4s/epoch - 289ms/step\n",
      "Epoch 33/100\n",
      "15/15 - 4s - loss: 0.0429 - accuracy: 0.9873 - val_loss: 2.3535 - val_accuracy: 0.2881 - 4s/epoch - 290ms/step\n",
      "Epoch 34/100\n",
      "15/15 - 4s - loss: 0.0821 - accuracy: 0.9683 - val_loss: 4.5791 - val_accuracy: 0.2373 - 4s/epoch - 289ms/step\n",
      "Epoch 35/100\n",
      "15/15 - 4s - loss: 0.0668 - accuracy: 0.9789 - val_loss: 5.1813 - val_accuracy: 0.2373 - 4s/epoch - 290ms/step\n",
      "Epoch 36/100\n",
      "15/15 - 4s - loss: 0.0744 - accuracy: 0.9789 - val_loss: 5.1757 - val_accuracy: 0.2881 - 4s/epoch - 290ms/step\n",
      "Epoch 37/100\n",
      "15/15 - 4s - loss: 0.1203 - accuracy: 0.9577 - val_loss: 3.8883 - val_accuracy: 0.2373 - 4s/epoch - 290ms/step\n",
      "Epoch 38/100\n",
      "15/15 - 4s - loss: 0.1070 - accuracy: 0.9662 - val_loss: 3.0106 - val_accuracy: 0.2373 - 4s/epoch - 290ms/step\n",
      "Epoch 39/100\n",
      "15/15 - 4s - loss: 0.1769 - accuracy: 0.9493 - val_loss: 2.2933 - val_accuracy: 0.2373 - 4s/epoch - 290ms/step\n",
      "Epoch 40/100\n",
      "15/15 - 4s - loss: 0.0778 - accuracy: 0.9767 - val_loss: 2.2220 - val_accuracy: 0.3051 - 4s/epoch - 290ms/step\n",
      "Epoch 41/100\n",
      "15/15 - 4s - loss: 0.0346 - accuracy: 0.9915 - val_loss: 2.9243 - val_accuracy: 0.2373 - 4s/epoch - 290ms/step\n",
      "Epoch 42/100\n",
      "15/15 - 4s - loss: 0.0339 - accuracy: 0.9894 - val_loss: 3.1923 - val_accuracy: 0.2373 - 4s/epoch - 293ms/step\n",
      "Epoch 43/100\n",
      "15/15 - 4s - loss: 0.0505 - accuracy: 0.9873 - val_loss: 2.1703 - val_accuracy: 0.3051 - 4s/epoch - 291ms/step\n",
      "Epoch 44/100\n",
      "15/15 - 4s - loss: 0.0786 - accuracy: 0.9831 - val_loss: 2.5790 - val_accuracy: 0.2881 - 4s/epoch - 290ms/step\n",
      "Epoch 45/100\n",
      "15/15 - 4s - loss: 0.0789 - accuracy: 0.9725 - val_loss: 2.4675 - val_accuracy: 0.3051 - 4s/epoch - 291ms/step\n",
      "Epoch 46/100\n",
      "15/15 - 4s - loss: 0.1025 - accuracy: 0.9683 - val_loss: 2.9904 - val_accuracy: 0.2373 - 4s/epoch - 293ms/step\n",
      "Epoch 47/100\n",
      "15/15 - 4s - loss: 0.0588 - accuracy: 0.9852 - val_loss: 2.9275 - val_accuracy: 0.2881 - 4s/epoch - 291ms/step\n",
      "Epoch 48/100\n",
      "15/15 - 4s - loss: 0.0303 - accuracy: 0.9894 - val_loss: 3.1164 - val_accuracy: 0.2881 - 4s/epoch - 290ms/step\n",
      "Epoch 49/100\n",
      "15/15 - 4s - loss: 0.0532 - accuracy: 0.9767 - val_loss: 3.1361 - val_accuracy: 0.2881 - 4s/epoch - 294ms/step\n",
      "Epoch 50/100\n",
      "15/15 - 4s - loss: 0.0454 - accuracy: 0.9894 - val_loss: 4.6491 - val_accuracy: 0.2881 - 4s/epoch - 294ms/step\n",
      "Epoch 51/100\n",
      "15/15 - 4s - loss: 0.0295 - accuracy: 0.9915 - val_loss: 4.2000 - val_accuracy: 0.3051 - 4s/epoch - 290ms/step\n",
      "Epoch 52/100\n",
      "15/15 - 4s - loss: 0.0238 - accuracy: 0.9937 - val_loss: 5.5805 - val_accuracy: 0.2881 - 4s/epoch - 291ms/step\n",
      "Epoch 53/100\n",
      "15/15 - 4s - loss: 0.0248 - accuracy: 0.9915 - val_loss: 5.6532 - val_accuracy: 0.2881 - 4s/epoch - 291ms/step\n",
      "Epoch 54/100\n",
      "15/15 - 4s - loss: 0.0242 - accuracy: 0.9937 - val_loss: 5.1842 - val_accuracy: 0.3390 - 4s/epoch - 291ms/step\n",
      "Epoch 55/100\n",
      "15/15 - 4s - loss: 0.0128 - accuracy: 0.9979 - val_loss: 4.2918 - val_accuracy: 0.2712 - 4s/epoch - 292ms/step\n",
      "Epoch 56/100\n",
      "15/15 - 4s - loss: 0.0208 - accuracy: 0.9958 - val_loss: 4.5360 - val_accuracy: 0.2373 - 4s/epoch - 292ms/step\n",
      "Epoch 57/100\n",
      "15/15 - 4s - loss: 0.0303 - accuracy: 0.9873 - val_loss: 4.5716 - val_accuracy: 0.2542 - 4s/epoch - 291ms/step\n",
      "Epoch 58/100\n",
      "15/15 - 4s - loss: 0.0670 - accuracy: 0.9831 - val_loss: 5.1619 - val_accuracy: 0.2712 - 4s/epoch - 291ms/step\n",
      "Epoch 59/100\n",
      "15/15 - 4s - loss: 0.0605 - accuracy: 0.9852 - val_loss: 3.0929 - val_accuracy: 0.3559 - 4s/epoch - 291ms/step\n",
      "Epoch 60/100\n",
      "15/15 - 4s - loss: 0.0444 - accuracy: 0.9852 - val_loss: 4.2544 - val_accuracy: 0.2373 - 4s/epoch - 290ms/step\n",
      "Epoch 61/100\n",
      "15/15 - 4s - loss: 0.0362 - accuracy: 0.9873 - val_loss: 2.9318 - val_accuracy: 0.2712 - 4s/epoch - 291ms/step\n",
      "Epoch 62/100\n",
      "15/15 - 4s - loss: 0.0173 - accuracy: 0.9937 - val_loss: 2.5294 - val_accuracy: 0.3559 - 4s/epoch - 291ms/step\n",
      "Epoch 63/100\n",
      "15/15 - 4s - loss: 0.0075 - accuracy: 1.0000 - val_loss: 1.9310 - val_accuracy: 0.3898 - 4s/epoch - 290ms/step\n",
      "Epoch 64/100\n",
      "15/15 - 4s - loss: 0.0133 - accuracy: 0.9958 - val_loss: 3.9428 - val_accuracy: 0.3051 - 4s/epoch - 291ms/step\n",
      "Epoch 65/100\n",
      "15/15 - 4s - loss: 0.0208 - accuracy: 0.9915 - val_loss: 5.3156 - val_accuracy: 0.2712 - 4s/epoch - 291ms/step\n",
      "Epoch 66/100\n",
      "15/15 - 4s - loss: 0.0163 - accuracy: 0.9937 - val_loss: 3.8317 - val_accuracy: 0.3390 - 4s/epoch - 291ms/step\n",
      "Epoch 67/100\n"
     ]
    },
    {
     "name": "stdout",
     "output_type": "stream",
     "text": [
      "15/15 - 4s - loss: 0.0339 - accuracy: 0.9915 - val_loss: 3.9327 - val_accuracy: 0.3559 - 4s/epoch - 290ms/step\n",
      "Epoch 68/100\n",
      "15/15 - 4s - loss: 0.0272 - accuracy: 0.9937 - val_loss: 3.3264 - val_accuracy: 0.3220 - 4s/epoch - 290ms/step\n",
      "Epoch 69/100\n",
      "15/15 - 4s - loss: 0.0128 - accuracy: 0.9979 - val_loss: 2.8287 - val_accuracy: 0.3390 - 4s/epoch - 291ms/step\n",
      "Epoch 70/100\n",
      "15/15 - 4s - loss: 0.0105 - accuracy: 0.9958 - val_loss: 2.4101 - val_accuracy: 0.4576 - 4s/epoch - 292ms/step\n",
      "Epoch 71/100\n",
      "15/15 - 4s - loss: 0.0049 - accuracy: 0.9979 - val_loss: 2.3391 - val_accuracy: 0.4576 - 4s/epoch - 292ms/step\n",
      "Epoch 72/100\n",
      "15/15 - 4s - loss: 0.0040 - accuracy: 1.0000 - val_loss: 2.0756 - val_accuracy: 0.4915 - 4s/epoch - 291ms/step\n",
      "Epoch 73/100\n",
      "15/15 - 4s - loss: 0.0110 - accuracy: 0.9979 - val_loss: 1.6978 - val_accuracy: 0.5763 - 4s/epoch - 291ms/step\n",
      "Epoch 74/100\n",
      "15/15 - 4s - loss: 0.0020 - accuracy: 1.0000 - val_loss: 1.9469 - val_accuracy: 0.5763 - 4s/epoch - 292ms/step\n",
      "Epoch 75/100\n",
      "15/15 - 4s - loss: 0.0016 - accuracy: 1.0000 - val_loss: 1.9381 - val_accuracy: 0.5763 - 4s/epoch - 289ms/step\n",
      "Epoch 76/100\n",
      "15/15 - 4s - loss: 0.0013 - accuracy: 1.0000 - val_loss: 1.7993 - val_accuracy: 0.5932 - 4s/epoch - 290ms/step\n",
      "Epoch 77/100\n",
      "15/15 - 4s - loss: 0.0012 - accuracy: 1.0000 - val_loss: 1.6220 - val_accuracy: 0.6271 - 4s/epoch - 291ms/step\n",
      "Epoch 78/100\n",
      "15/15 - 4s - loss: 0.0088 - accuracy: 0.9979 - val_loss: 1.2732 - val_accuracy: 0.6949 - 4s/epoch - 290ms/step\n",
      "Epoch 79/100\n",
      "15/15 - 4s - loss: 0.0023 - accuracy: 1.0000 - val_loss: 0.8195 - val_accuracy: 0.7458 - 4s/epoch - 291ms/step\n",
      "Epoch 80/100\n",
      "15/15 - 4s - loss: 0.0064 - accuracy: 0.9979 - val_loss: 0.7717 - val_accuracy: 0.7119 - 4s/epoch - 291ms/step\n",
      "Epoch 81/100\n",
      "15/15 - 4s - loss: 0.0244 - accuracy: 0.9958 - val_loss: 1.4015 - val_accuracy: 0.6102 - 4s/epoch - 291ms/step\n",
      "Epoch 82/100\n",
      "15/15 - 4s - loss: 0.0042 - accuracy: 1.0000 - val_loss: 1.4344 - val_accuracy: 0.6271 - 4s/epoch - 292ms/step\n",
      "Epoch 83/100\n",
      "15/15 - 4s - loss: 0.0415 - accuracy: 0.9873 - val_loss: 1.4317 - val_accuracy: 0.6441 - 4s/epoch - 292ms/step\n",
      "Epoch 84/100\n",
      "15/15 - 4s - loss: 0.1634 - accuracy: 0.9556 - val_loss: 2.4977 - val_accuracy: 0.3559 - 4s/epoch - 293ms/step\n",
      "Epoch 85/100\n",
      "15/15 - 4s - loss: 0.1127 - accuracy: 0.9662 - val_loss: 21.1772 - val_accuracy: 0.1864 - 4s/epoch - 292ms/step\n",
      "Epoch 86/100\n",
      "15/15 - 4s - loss: 0.1383 - accuracy: 0.9598 - val_loss: 1.3647 - val_accuracy: 0.6441 - 4s/epoch - 292ms/step\n",
      "Epoch 87/100\n",
      "15/15 - 4s - loss: 0.1141 - accuracy: 0.9704 - val_loss: 1.7942 - val_accuracy: 0.6610 - 4s/epoch - 291ms/step\n",
      "Epoch 88/100\n",
      "15/15 - 4s - loss: 0.0456 - accuracy: 0.9831 - val_loss: 2.4163 - val_accuracy: 0.5593 - 4s/epoch - 292ms/step\n",
      "Epoch 89/100\n",
      "15/15 - 4s - loss: 0.0217 - accuracy: 0.9937 - val_loss: 1.1248 - val_accuracy: 0.7458 - 4s/epoch - 292ms/step\n",
      "Epoch 90/100\n",
      "15/15 - 4s - loss: 0.0205 - accuracy: 0.9915 - val_loss: 1.5342 - val_accuracy: 0.6271 - 4s/epoch - 291ms/step\n",
      "Epoch 91/100\n",
      "15/15 - 4s - loss: 0.0463 - accuracy: 0.9873 - val_loss: 1.3936 - val_accuracy: 0.7119 - 4s/epoch - 293ms/step\n",
      "Epoch 92/100\n",
      "15/15 - 4s - loss: 0.0490 - accuracy: 0.9852 - val_loss: 3.0659 - val_accuracy: 0.5932 - 4s/epoch - 292ms/step\n",
      "Epoch 93/100\n",
      "15/15 - 4s - loss: 0.0284 - accuracy: 0.9915 - val_loss: 1.8131 - val_accuracy: 0.7119 - 4s/epoch - 292ms/step\n",
      "Epoch 94/100\n",
      "15/15 - 4s - loss: 0.0065 - accuracy: 0.9979 - val_loss: 3.1141 - val_accuracy: 0.5932 - 4s/epoch - 293ms/step\n",
      "Epoch 95/100\n",
      "15/15 - 4s - loss: 0.0159 - accuracy: 0.9937 - val_loss: 3.6013 - val_accuracy: 0.5424 - 4s/epoch - 297ms/step\n",
      "Epoch 96/100\n",
      "15/15 - 4s - loss: 0.0226 - accuracy: 0.9915 - val_loss: 7.5028 - val_accuracy: 0.1864 - 4s/epoch - 291ms/step\n",
      "Epoch 97/100\n",
      "15/15 - 4s - loss: 0.0386 - accuracy: 0.9937 - val_loss: 9.5867 - val_accuracy: 0.2034 - 4s/epoch - 289ms/step\n",
      "Epoch 98/100\n",
      "15/15 - 4s - loss: 0.0039 - accuracy: 1.0000 - val_loss: 3.3356 - val_accuracy: 0.4576 - 4s/epoch - 290ms/step\n",
      "Epoch 99/100\n",
      "15/15 - 4s - loss: 0.0049 - accuracy: 1.0000 - val_loss: 2.0764 - val_accuracy: 0.5085 - 4s/epoch - 291ms/step\n",
      "Epoch 100/100\n",
      "15/15 - 4s - loss: 0.0028 - accuracy: 1.0000 - val_loss: 2.1257 - val_accuracy: 0.5085 - 4s/epoch - 291ms/step\n"
     ]
    }
   ],
   "source": [
    "history = model.fit(trainX, trainY, epochs=epochs, validation_data=(testX, testY), verbose=verb, shuffle=\"false\")"
   ]
  },
  {
   "cell_type": "code",
   "execution_count": null,
   "id": "913060aa",
   "metadata": {},
   "outputs": [],
   "source": []
  },
  {
   "cell_type": "code",
   "execution_count": 65,
   "id": "93e2ef6e",
   "metadata": {},
   "outputs": [
    {
     "name": "stdout",
     "output_type": "stream",
     "text": [
      "2/2 - 0s - loss: 2.1257 - accuracy: 0.5085 - 180ms/epoch - 90ms/step\n",
      "Acurácia: 50.847\n"
     ]
    }
   ],
   "source": [
    " # evaluate model\n",
    "_, acc = model.evaluate(testX, testY, verbose=verb)\n",
    "print('Acurácia: %.3f' % (acc * 100.0))"
   ]
  },
  {
   "cell_type": "code",
   "execution_count": 66,
   "id": "8a2cc590",
   "metadata": {},
   "outputs": [
    {
     "data": {
      "image/png": "[encoded data removed]",
      "text/plain": [
       "<Figure size 640x480 with 1 Axes>"
      ]
     },
     "metadata": {},
     "output_type": "display_data"
    },
    {
     "data": {
      "image/png": "[encoded data removed]",
      "text/plain": [
       "<Figure size 640x480 with 1 Axes>"
      ]
     },
     "metadata": {},
     "output_type": "display_data"
    }
   ],
   "source": [
    " # learning curves\n",
    "summarize_diagnostics(history)"
   ]
  },
  {
   "cell_type": "code",
   "execution_count": 67,
   "id": "ff2f423a",
   "metadata": {},
   "outputs": [
    {
     "name": "stderr",
     "output_type": "stream",
     "text": [
      "WARNING:absl:Found untraced functions such as _jit_compiled_convolution_op, _jit_compiled_convolution_op, _jit_compiled_convolution_op, _jit_compiled_convolution_op, _jit_compiled_convolution_op while saving (showing 5 of 55). These functions will not be directly callable after loading.\n"
     ]
    },
    {
     "name": "stdout",
     "output_type": "stream",
     "text": [
      "INFO:tensorflow:Assets written to: displasys-resnet50-baseline-holdout-100epochs_batch_transferlearning.npy\\assets\n"
     ]
    },
    {
     "name": "stderr",
     "output_type": "stream",
     "text": [
      "INFO:tensorflow:Assets written to: displasys-resnet50-baseline-holdout-100epochs_batch_transferlearning.npy\\assets\n"
     ]
    }
   ],
   "source": [
    "model_name = f'displasys-resnet50-baseline-holdout-{epochs}epochs_batch_transferlearning.npy'\n",
    "model.save(model_name)"
   ]
  },
  {
   "cell_type": "code",
   "execution_count": 68,
   "id": "53c1cb5e",
   "metadata": {},
   "outputs": [],
   "source": [
    "# entry point, run the test harness\n",
    "#run_test_harness(epochs=100, verb=1)"
   ]
  },
  {
   "cell_type": "code",
   "execution_count": null,
   "id": "df193403",
   "metadata": {},
   "outputs": [],
   "source": []
  }
 ],
 "metadata": {
  "kernelspec": {
   "display_name": "Python 3 (ipykernel)",
   "language": "python",
   "name": "python3"
  },
  "language_info": {
   "codemirror_mode": {
    "name": "ipython",
    "version": 3
   },
   "file_extension": ".py",
   "mimetype": "text/x-python",
   "name": "python",
   "nbconvert_exporter": "python",
   "pygments_lexer": "ipython3",
   "version": "3.9.17"
  }
 },
 "nbformat": 4,
 "nbformat_minor": 5
}
